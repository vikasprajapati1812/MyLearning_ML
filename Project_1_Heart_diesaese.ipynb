{
 "cells": [
  {
   "cell_type": "code",
   "execution_count": 1,
   "id": "276519cb",
   "metadata": {},
   "outputs": [],
   "source": [
    "import pandas as pd\n",
    "import numpy as np\n",
    "import seaborn as sns\n",
    "import matplotlib.pyplot as plt"
   ]
  },
  {
   "cell_type": "code",
   "execution_count": 2,
   "id": "3a43e1bb",
   "metadata": {},
   "outputs": [],
   "source": [
    "data=pd.read_csv(\"heart1.csv\")"
   ]
  },
  {
   "cell_type": "code",
   "execution_count": 3,
   "id": "05cc41b0",
   "metadata": {},
   "outputs": [
    {
     "data": {
      "text/html": [
       "<div>\n",
       "<style scoped>\n",
       "    .dataframe tbody tr th:only-of-type {\n",
       "        vertical-align: middle;\n",
       "    }\n",
       "\n",
       "    .dataframe tbody tr th {\n",
       "        vertical-align: top;\n",
       "    }\n",
       "\n",
       "    .dataframe thead th {\n",
       "        text-align: right;\n",
       "    }\n",
       "</style>\n",
       "<table border=\"1\" class=\"dataframe\">\n",
       "  <thead>\n",
       "    <tr style=\"text-align: right;\">\n",
       "      <th></th>\n",
       "      <th>age</th>\n",
       "      <th>sex</th>\n",
       "      <th>cp</th>\n",
       "      <th>trestbps</th>\n",
       "      <th>chol</th>\n",
       "      <th>fbs</th>\n",
       "      <th>restecg</th>\n",
       "      <th>thalach</th>\n",
       "      <th>exang</th>\n",
       "      <th>oldpeak</th>\n",
       "      <th>slope</th>\n",
       "      <th>ca</th>\n",
       "      <th>target</th>\n",
       "    </tr>\n",
       "  </thead>\n",
       "  <tbody>\n",
       "    <tr>\n",
       "      <th>0</th>\n",
       "      <td>63</td>\n",
       "      <td>1</td>\n",
       "      <td>3</td>\n",
       "      <td>145</td>\n",
       "      <td>233</td>\n",
       "      <td>1</td>\n",
       "      <td>0</td>\n",
       "      <td>150</td>\n",
       "      <td>0</td>\n",
       "      <td>2.3</td>\n",
       "      <td>0</td>\n",
       "      <td>0</td>\n",
       "      <td>1</td>\n",
       "    </tr>\n",
       "    <tr>\n",
       "      <th>1</th>\n",
       "      <td>37</td>\n",
       "      <td>1</td>\n",
       "      <td>2</td>\n",
       "      <td>130</td>\n",
       "      <td>250</td>\n",
       "      <td>0</td>\n",
       "      <td>1</td>\n",
       "      <td>187</td>\n",
       "      <td>0</td>\n",
       "      <td>3.5</td>\n",
       "      <td>0</td>\n",
       "      <td>0</td>\n",
       "      <td>1</td>\n",
       "    </tr>\n",
       "    <tr>\n",
       "      <th>2</th>\n",
       "      <td>41</td>\n",
       "      <td>0</td>\n",
       "      <td>1</td>\n",
       "      <td>130</td>\n",
       "      <td>204</td>\n",
       "      <td>0</td>\n",
       "      <td>0</td>\n",
       "      <td>172</td>\n",
       "      <td>0</td>\n",
       "      <td>1.4</td>\n",
       "      <td>2</td>\n",
       "      <td>0</td>\n",
       "      <td>1</td>\n",
       "    </tr>\n",
       "    <tr>\n",
       "      <th>3</th>\n",
       "      <td>56</td>\n",
       "      <td>1</td>\n",
       "      <td>1</td>\n",
       "      <td>120</td>\n",
       "      <td>236</td>\n",
       "      <td>0</td>\n",
       "      <td>1</td>\n",
       "      <td>178</td>\n",
       "      <td>0</td>\n",
       "      <td>0.8</td>\n",
       "      <td>2</td>\n",
       "      <td>0</td>\n",
       "      <td>1</td>\n",
       "    </tr>\n",
       "    <tr>\n",
       "      <th>4</th>\n",
       "      <td>57</td>\n",
       "      <td>0</td>\n",
       "      <td>0</td>\n",
       "      <td>120</td>\n",
       "      <td>354</td>\n",
       "      <td>0</td>\n",
       "      <td>1</td>\n",
       "      <td>163</td>\n",
       "      <td>1</td>\n",
       "      <td>0.6</td>\n",
       "      <td>2</td>\n",
       "      <td>0</td>\n",
       "      <td>1</td>\n",
       "    </tr>\n",
       "  </tbody>\n",
       "</table>\n",
       "</div>"
      ],
      "text/plain": [
       "   age  sex  cp  trestbps  chol  fbs  restecg  thalach  exang  oldpeak  slope  \\\n",
       "0   63    1   3       145   233    1        0      150      0      2.3      0   \n",
       "1   37    1   2       130   250    0        1      187      0      3.5      0   \n",
       "2   41    0   1       130   204    0        0      172      0      1.4      2   \n",
       "3   56    1   1       120   236    0        1      178      0      0.8      2   \n",
       "4   57    0   0       120   354    0        1      163      1      0.6      2   \n",
       "\n",
       "   ca  target  \n",
       "0   0       1  \n",
       "1   0       1  \n",
       "2   0       1  \n",
       "3   0       1  \n",
       "4   0       1  "
      ]
     },
     "execution_count": 3,
     "metadata": {},
     "output_type": "execute_result"
    }
   ],
   "source": [
    "data.head()"
   ]
  },
  {
   "cell_type": "code",
   "execution_count": 4,
   "id": "2066106e",
   "metadata": {},
   "outputs": [
    {
     "data": {
      "text/plain": [
       "age         0\n",
       "sex         0\n",
       "cp          0\n",
       "trestbps    0\n",
       "chol        0\n",
       "fbs         0\n",
       "restecg     0\n",
       "thalach     0\n",
       "exang       0\n",
       "oldpeak     0\n",
       "slope       0\n",
       "ca          0\n",
       "target      0\n",
       "dtype: int64"
      ]
     },
     "execution_count": 4,
     "metadata": {},
     "output_type": "execute_result"
    }
   ],
   "source": [
    "data.isnull().sum()"
   ]
  },
  {
   "cell_type": "code",
   "execution_count": 5,
   "id": "eb35ad39",
   "metadata": {},
   "outputs": [],
   "source": [
    "col=data.columns"
   ]
  },
  {
   "cell_type": "code",
   "execution_count": 6,
   "id": "0971b14a",
   "metadata": {},
   "outputs": [
    {
     "data": {
      "text/plain": [
       "Index(['age', 'sex', 'cp', 'trestbps', 'chol', 'fbs', 'restecg', 'thalach',\n",
       "       'exang', 'oldpeak', 'slope', 'ca', 'target'],\n",
       "      dtype='object')"
      ]
     },
     "execution_count": 6,
     "metadata": {},
     "output_type": "execute_result"
    }
   ],
   "source": [
    "col"
   ]
  },
  {
   "cell_type": "code",
   "execution_count": 7,
   "id": "d0e53625",
   "metadata": {},
   "outputs": [
    {
     "data": {
      "image/png": "[encoded data removed]",
      "text/plain": [
       "<Figure size 432x288 with 1 Axes>"
      ]
     },
     "metadata": {
      "needs_background": "light"
     },
     "output_type": "display_data"
    },
    {
     "data": {
      "image/png": "[encoded data removed]",
      "text/plain": [
       "<Figure size 432x288 with 1 Axes>"
      ]
     },
     "metadata": {
      "needs_background": "light"
     },
     "output_type": "display_data"
    },
    {
     "data": {
      "image/png": "[encoded data removed]",
      "text/plain": [
       "<Figure size 432x288 with 1 Axes>"
      ]
     },
     "metadata": {
      "needs_background": "light"
     },
     "output_type": "display_data"
    },
    {
     "data": {
      "image/png": "[encoded data removed]",
      "text/plain": [
       "<Figure size 432x288 with 1 Axes>"
      ]
     },
     "metadata": {
      "needs_background": "light"
     },
     "output_type": "display_data"
    },
    {
     "data": {
      "image/png": "[encoded data removed]",
      "text/plain": [
       "<Figure size 432x288 with 1 Axes>"
      ]
     },
     "metadata": {
      "needs_background": "light"
     },
     "output_type": "display_data"
    },
    {
     "data": {
      "image/png": "[encoded data removed]",
      "text/plain": [
       "<Figure size 432x288 with 1 Axes>"
      ]
     },
     "metadata": {
      "needs_background": "light"
     },
     "output_type": "display_data"
    },
    {
     "data": {
      "image/png": "[encoded data removed]",
      "text/plain": [
       "<Figure size 432x288 with 1 Axes>"
      ]
     },
     "metadata": {
      "needs_background": "light"
     },
     "output_type": "display_data"
    },
    {
     "data": {
      "image/png": "[encoded data removed]",
      "text/plain": [
       "<Figure size 432x288 with 1 Axes>"
      ]
     },
     "metadata": {
      "needs_background": "light"
     },
     "output_type": "display_data"
    },
    {
     "data": {
      "image/png": "[encoded data removed]",
      "text/plain": [
       "<Figure size 432x288 with 1 Axes>"
      ]
     },
     "metadata": {
      "needs_background": "light"
     },
     "output_type": "display_data"
    },
    {
     "data": {
      "image/png": "[encoded data removed]",
      "text/plain": [
       "<Figure size 432x288 with 1 Axes>"
      ]
     },
     "metadata": {
      "needs_background": "light"
     },
     "output_type": "display_data"
    },
    {
     "data": {
      "image/png": "[encoded data removed]",
      "text/plain": [
       "<Figure size 432x288 with 1 Axes>"
      ]
     },
     "metadata": {
      "needs_background": "light"
     },
     "output_type": "display_data"
    },
    {
     "data": {
      "image/png": "[encoded data removed]",
      "text/plain": [
       "<Figure size 432x288 with 1 Axes>"
      ]
     },
     "metadata": {
      "needs_background": "light"
     },
     "output_type": "display_data"
    },
    {
     "data": {
      "image/png": "[encoded data removed]",
      "text/plain": [
       "<Figure size 432x288 with 1 Axes>"
      ]
     },
     "metadata": {
      "needs_background": "light"
     },
     "output_type": "display_data"
    }
   ],
   "source": [
    "for i in col:\n",
    "    sns.histplot(data=data,x=data[i])\n",
    "    plt.show()"
   ]
  },
  {
   "cell_type": "code",
   "execution_count": 8,
   "id": "7c617d25",
   "metadata": {},
   "outputs": [
    {
     "data": {
      "image/png": "[encoded data removed]",
      "text/plain": [
       "<Figure size 432x288 with 1 Axes>"
      ]
     },
     "metadata": {
      "needs_background": "light"
     },
     "output_type": "display_data"
    },
    {
     "data": {
      "image/png": "[encoded data removed]",
      "text/plain": [
       "<Figure size 432x288 with 1 Axes>"
      ]
     },
     "metadata": {
      "needs_background": "light"
     },
     "output_type": "display_data"
    },
    {
     "data": {
      "image/png": "[encoded data removed]",
      "text/plain": [
       "<Figure size 432x288 with 1 Axes>"
      ]
     },
     "metadata": {
      "needs_background": "light"
     },
     "output_type": "display_data"
    },
    {
     "data": {
      "image/png": "[encoded data removed]",
      "text/plain": [
       "<Figure size 432x288 with 1 Axes>"
      ]
     },
     "metadata": {
      "needs_background": "light"
     },
     "output_type": "display_data"
    },
    {
     "data": {
      "image/png": "[encoded data removed]",
      "text/plain": [
       "<Figure size 432x288 with 1 Axes>"
      ]
     },
     "metadata": {
      "needs_background": "light"
     },
     "output_type": "display_data"
    },
    {
     "data": {
      "image/png": "[encoded data removed]",
      "text/plain": [
       "<Figure size 432x288 with 1 Axes>"
      ]
     },
     "metadata": {
      "needs_background": "light"
     },
     "output_type": "display_data"
    },
    {
     "data": {
      "image/png": "[encoded data removed]",
      "text/plain": [
       "<Figure size 432x288 with 1 Axes>"
      ]
     },
     "metadata": {
      "needs_background": "light"
     },
     "output_type": "display_data"
    },
    {
     "data": {
      "image/png": "[encoded data removed]",
      "text/plain": [
       "<Figure size 432x288 with 1 Axes>"
      ]
     },
     "metadata": {
      "needs_background": "light"
     },
     "output_type": "display_data"
    },
    {
     "data": {
      "image/png": "[encoded data removed]",
      "text/plain": [
       "<Figure size 432x288 with 1 Axes>"
      ]
     },
     "metadata": {
      "needs_background": "light"
     },
     "output_type": "display_data"
    },
    {
     "data": {
      "image/png": "[encoded data removed]",
      "text/plain": [
       "<Figure size 432x288 with 1 Axes>"
      ]
     },
     "metadata": {
      "needs_background": "light"
     },
     "output_type": "display_data"
    },
    {
     "data": {
      "image/png": "[encoded data removed]",
      "text/plain": [
       "<Figure size 432x288 with 1 Axes>"
      ]
     },
     "metadata": {
      "needs_background": "light"
     },
     "output_type": "display_data"
    },
    {
     "data": {
      "image/png": "[encoded data removed]",
      "text/plain": [
       "<Figure size 432x288 with 1 Axes>"
      ]
     },
     "metadata": {
      "needs_background": "light"
     },
     "output_type": "display_data"
    },
    {
     "data": {
      "image/png": "[encoded data removed]",
      "text/plain": [
       "<Figure size 432x288 with 1 Axes>"
      ]
     },
     "metadata": {
      "needs_background": "light"
     },
     "output_type": "display_data"
    }
   ],
   "source": [
    "for i in col:\n",
    "    sns.histplot(data=data,x=data[i],kde=True)\n",
    "    plt.show()"
   ]
  },
  {
   "cell_type": "code",
   "execution_count": 9,
   "id": "a906e336",
   "metadata": {},
   "outputs": [
    {
     "data": {
      "text/html": [
       "<div>\n",
       "<style scoped>\n",
       "    .dataframe tbody tr th:only-of-type {\n",
       "        vertical-align: middle;\n",
       "    }\n",
       "\n",
       "    .dataframe tbody tr th {\n",
       "        vertical-align: top;\n",
       "    }\n",
       "\n",
       "    .dataframe thead th {\n",
       "        text-align: right;\n",
       "    }\n",
       "</style>\n",
       "<table border=\"1\" class=\"dataframe\">\n",
       "  <thead>\n",
       "    <tr style=\"text-align: right;\">\n",
       "      <th></th>\n",
       "      <th>age</th>\n",
       "      <th>sex</th>\n",
       "      <th>cp</th>\n",
       "      <th>trestbps</th>\n",
       "      <th>chol</th>\n",
       "      <th>fbs</th>\n",
       "      <th>restecg</th>\n",
       "      <th>thalach</th>\n",
       "      <th>exang</th>\n",
       "      <th>oldpeak</th>\n",
       "      <th>slope</th>\n",
       "      <th>ca</th>\n",
       "      <th>target</th>\n",
       "    </tr>\n",
       "  </thead>\n",
       "  <tbody>\n",
       "    <tr>\n",
       "      <th>count</th>\n",
       "      <td>303.000000</td>\n",
       "      <td>303.000000</td>\n",
       "      <td>303.000000</td>\n",
       "      <td>303.000000</td>\n",
       "      <td>303.000000</td>\n",
       "      <td>303.000000</td>\n",
       "      <td>303.000000</td>\n",
       "      <td>303.000000</td>\n",
       "      <td>303.000000</td>\n",
       "      <td>303.000000</td>\n",
       "      <td>303.000000</td>\n",
       "      <td>303.000000</td>\n",
       "      <td>303.000000</td>\n",
       "    </tr>\n",
       "    <tr>\n",
       "      <th>mean</th>\n",
       "      <td>54.366337</td>\n",
       "      <td>0.683168</td>\n",
       "      <td>0.966997</td>\n",
       "      <td>131.623762</td>\n",
       "      <td>246.264026</td>\n",
       "      <td>0.148515</td>\n",
       "      <td>0.528053</td>\n",
       "      <td>149.646865</td>\n",
       "      <td>0.326733</td>\n",
       "      <td>1.039604</td>\n",
       "      <td>1.399340</td>\n",
       "      <td>0.729373</td>\n",
       "      <td>0.544554</td>\n",
       "    </tr>\n",
       "    <tr>\n",
       "      <th>std</th>\n",
       "      <td>9.082101</td>\n",
       "      <td>0.466011</td>\n",
       "      <td>1.032052</td>\n",
       "      <td>17.538143</td>\n",
       "      <td>51.830751</td>\n",
       "      <td>0.356198</td>\n",
       "      <td>0.525860</td>\n",
       "      <td>22.905161</td>\n",
       "      <td>0.469794</td>\n",
       "      <td>1.161075</td>\n",
       "      <td>0.616226</td>\n",
       "      <td>1.022606</td>\n",
       "      <td>0.498835</td>\n",
       "    </tr>\n",
       "    <tr>\n",
       "      <th>min</th>\n",
       "      <td>29.000000</td>\n",
       "      <td>0.000000</td>\n",
       "      <td>0.000000</td>\n",
       "      <td>94.000000</td>\n",
       "      <td>126.000000</td>\n",
       "      <td>0.000000</td>\n",
       "      <td>0.000000</td>\n",
       "      <td>71.000000</td>\n",
       "      <td>0.000000</td>\n",
       "      <td>0.000000</td>\n",
       "      <td>0.000000</td>\n",
       "      <td>0.000000</td>\n",
       "      <td>0.000000</td>\n",
       "    </tr>\n",
       "    <tr>\n",
       "      <th>25%</th>\n",
       "      <td>47.500000</td>\n",
       "      <td>0.000000</td>\n",
       "      <td>0.000000</td>\n",
       "      <td>120.000000</td>\n",
       "      <td>211.000000</td>\n",
       "      <td>0.000000</td>\n",
       "      <td>0.000000</td>\n",
       "      <td>133.500000</td>\n",
       "      <td>0.000000</td>\n",
       "      <td>0.000000</td>\n",
       "      <td>1.000000</td>\n",
       "      <td>0.000000</td>\n",
       "      <td>0.000000</td>\n",
       "    </tr>\n",
       "    <tr>\n",
       "      <th>50%</th>\n",
       "      <td>55.000000</td>\n",
       "      <td>1.000000</td>\n",
       "      <td>1.000000</td>\n",
       "      <td>130.000000</td>\n",
       "      <td>240.000000</td>\n",
       "      <td>0.000000</td>\n",
       "      <td>1.000000</td>\n",
       "      <td>153.000000</td>\n",
       "      <td>0.000000</td>\n",
       "      <td>0.800000</td>\n",
       "      <td>1.000000</td>\n",
       "      <td>0.000000</td>\n",
       "      <td>1.000000</td>\n",
       "    </tr>\n",
       "    <tr>\n",
       "      <th>75%</th>\n",
       "      <td>61.000000</td>\n",
       "      <td>1.000000</td>\n",
       "      <td>2.000000</td>\n",
       "      <td>140.000000</td>\n",
       "      <td>274.500000</td>\n",
       "      <td>0.000000</td>\n",
       "      <td>1.000000</td>\n",
       "      <td>166.000000</td>\n",
       "      <td>1.000000</td>\n",
       "      <td>1.600000</td>\n",
       "      <td>2.000000</td>\n",
       "      <td>1.000000</td>\n",
       "      <td>1.000000</td>\n",
       "    </tr>\n",
       "    <tr>\n",
       "      <th>max</th>\n",
       "      <td>77.000000</td>\n",
       "      <td>1.000000</td>\n",
       "      <td>3.000000</td>\n",
       "      <td>200.000000</td>\n",
       "      <td>564.000000</td>\n",
       "      <td>1.000000</td>\n",
       "      <td>2.000000</td>\n",
       "      <td>202.000000</td>\n",
       "      <td>1.000000</td>\n",
       "      <td>6.200000</td>\n",
       "      <td>2.000000</td>\n",
       "      <td>4.000000</td>\n",
       "      <td>1.000000</td>\n",
       "    </tr>\n",
       "  </tbody>\n",
       "</table>\n",
       "</div>"
      ],
      "text/plain": [
       "              age         sex          cp    trestbps        chol         fbs  \\\n",
       "count  303.000000  303.000000  303.000000  303.000000  303.000000  303.000000   \n",
       "mean    54.366337    0.683168    0.966997  131.623762  246.264026    0.148515   \n",
       "std      9.082101    0.466011    1.032052   17.538143   51.830751    0.356198   \n",
       "min     29.000000    0.000000    0.000000   94.000000  126.000000    0.000000   \n",
       "25%     47.500000    0.000000    0.000000  120.000000  211.000000    0.000000   \n",
       "50%     55.000000    1.000000    1.000000  130.000000  240.000000    0.000000   \n",
       "75%     61.000000    1.000000    2.000000  140.000000  274.500000    0.000000   \n",
       "max     77.000000    1.000000    3.000000  200.000000  564.000000    1.000000   \n",
       "\n",
       "          restecg     thalach       exang     oldpeak       slope          ca  \\\n",
       "count  303.000000  303.000000  303.000000  303.000000  303.000000  303.000000   \n",
       "mean     0.528053  149.646865    0.326733    1.039604    1.399340    0.729373   \n",
       "std      0.525860   22.905161    0.469794    1.161075    0.616226    1.022606   \n",
       "min      0.000000   71.000000    0.000000    0.000000    0.000000    0.000000   \n",
       "25%      0.000000  133.500000    0.000000    0.000000    1.000000    0.000000   \n",
       "50%      1.000000  153.000000    0.000000    0.800000    1.000000    0.000000   \n",
       "75%      1.000000  166.000000    1.000000    1.600000    2.000000    1.000000   \n",
       "max      2.000000  202.000000    1.000000    6.200000    2.000000    4.000000   \n",
       "\n",
       "           target  \n",
       "count  303.000000  \n",
       "mean     0.544554  \n",
       "std      0.498835  \n",
       "min      0.000000  \n",
       "25%      0.000000  \n",
       "50%      1.000000  \n",
       "75%      1.000000  \n",
       "max      1.000000  "
      ]
     },
     "execution_count": 9,
     "metadata": {},
     "output_type": "execute_result"
    }
   ],
   "source": [
    "data.describe()"
   ]
  },
  {
   "cell_type": "code",
   "execution_count": 10,
   "id": "78e03907",
   "metadata": {},
   "outputs": [
    {
     "data": {
      "text/plain": [
       "count    303.000000\n",
       "mean       0.544554\n",
       "std        0.498835\n",
       "min        0.000000\n",
       "25%        0.000000\n",
       "50%        1.000000\n",
       "75%        1.000000\n",
       "max        1.000000\n",
       "Name: target, dtype: float64"
      ]
     },
     "execution_count": 10,
     "metadata": {},
     "output_type": "execute_result"
    }
   ],
   "source": [
    "data.describe()[\"target\"]"
   ]
  },
  {
   "cell_type": "code",
   "execution_count": 11,
   "id": "822505c9",
   "metadata": {},
   "outputs": [
    {
     "data": {
      "text/plain": [
       "age        -0.225439\n",
       "sex        -0.280937\n",
       "cp          0.433798\n",
       "trestbps   -0.144931\n",
       "chol       -0.085239\n",
       "fbs        -0.028046\n",
       "restecg     0.137230\n",
       "thalach     0.421741\n",
       "exang      -0.436757\n",
       "oldpeak    -0.430696\n",
       "slope       0.345877\n",
       "ca         -0.391724\n",
       "target      1.000000\n",
       "Name: target, dtype: float64"
      ]
     },
     "execution_count": 11,
     "metadata": {},
     "output_type": "execute_result"
    }
   ],
   "source": [
    "data.corr()[\"target\"]"
   ]
  },
  {
   "cell_type": "code",
   "execution_count": 12,
   "id": "d3a9be74",
   "metadata": {},
   "outputs": [
    {
     "data": {
      "text/html": [
       "<div>\n",
       "<style scoped>\n",
       "    .dataframe tbody tr th:only-of-type {\n",
       "        vertical-align: middle;\n",
       "    }\n",
       "\n",
       "    .dataframe tbody tr th {\n",
       "        vertical-align: top;\n",
       "    }\n",
       "\n",
       "    .dataframe thead th {\n",
       "        text-align: right;\n",
       "    }\n",
       "</style>\n",
       "<table border=\"1\" class=\"dataframe\">\n",
       "  <thead>\n",
       "    <tr style=\"text-align: right;\">\n",
       "      <th></th>\n",
       "      <th>age</th>\n",
       "      <th>sex</th>\n",
       "      <th>cp</th>\n",
       "      <th>trestbps</th>\n",
       "      <th>chol</th>\n",
       "      <th>fbs</th>\n",
       "      <th>restecg</th>\n",
       "      <th>thalach</th>\n",
       "      <th>exang</th>\n",
       "      <th>oldpeak</th>\n",
       "      <th>slope</th>\n",
       "      <th>ca</th>\n",
       "      <th>target</th>\n",
       "    </tr>\n",
       "  </thead>\n",
       "  <tbody>\n",
       "    <tr>\n",
       "      <th>age</th>\n",
       "      <td>1.000000</td>\n",
       "      <td>-0.098447</td>\n",
       "      <td>-0.068653</td>\n",
       "      <td>0.279351</td>\n",
       "      <td>0.213678</td>\n",
       "      <td>0.121308</td>\n",
       "      <td>-0.116211</td>\n",
       "      <td>-0.398522</td>\n",
       "      <td>0.096801</td>\n",
       "      <td>0.210013</td>\n",
       "      <td>-0.168814</td>\n",
       "      <td>0.276326</td>\n",
       "      <td>-0.225439</td>\n",
       "    </tr>\n",
       "    <tr>\n",
       "      <th>sex</th>\n",
       "      <td>-0.098447</td>\n",
       "      <td>1.000000</td>\n",
       "      <td>-0.049353</td>\n",
       "      <td>-0.056769</td>\n",
       "      <td>-0.197912</td>\n",
       "      <td>0.045032</td>\n",
       "      <td>-0.058196</td>\n",
       "      <td>-0.044020</td>\n",
       "      <td>0.141664</td>\n",
       "      <td>0.096093</td>\n",
       "      <td>-0.030711</td>\n",
       "      <td>0.118261</td>\n",
       "      <td>-0.280937</td>\n",
       "    </tr>\n",
       "    <tr>\n",
       "      <th>cp</th>\n",
       "      <td>-0.068653</td>\n",
       "      <td>-0.049353</td>\n",
       "      <td>1.000000</td>\n",
       "      <td>0.047608</td>\n",
       "      <td>-0.076904</td>\n",
       "      <td>0.094444</td>\n",
       "      <td>0.044421</td>\n",
       "      <td>0.295762</td>\n",
       "      <td>-0.394280</td>\n",
       "      <td>-0.149230</td>\n",
       "      <td>0.119717</td>\n",
       "      <td>-0.181053</td>\n",
       "      <td>0.433798</td>\n",
       "    </tr>\n",
       "    <tr>\n",
       "      <th>trestbps</th>\n",
       "      <td>0.279351</td>\n",
       "      <td>-0.056769</td>\n",
       "      <td>0.047608</td>\n",
       "      <td>1.000000</td>\n",
       "      <td>0.123174</td>\n",
       "      <td>0.177531</td>\n",
       "      <td>-0.114103</td>\n",
       "      <td>-0.046698</td>\n",
       "      <td>0.067616</td>\n",
       "      <td>0.193216</td>\n",
       "      <td>-0.121475</td>\n",
       "      <td>0.101389</td>\n",
       "      <td>-0.144931</td>\n",
       "    </tr>\n",
       "    <tr>\n",
       "      <th>chol</th>\n",
       "      <td>0.213678</td>\n",
       "      <td>-0.197912</td>\n",
       "      <td>-0.076904</td>\n",
       "      <td>0.123174</td>\n",
       "      <td>1.000000</td>\n",
       "      <td>0.013294</td>\n",
       "      <td>-0.151040</td>\n",
       "      <td>-0.009940</td>\n",
       "      <td>0.067023</td>\n",
       "      <td>0.053952</td>\n",
       "      <td>-0.004038</td>\n",
       "      <td>0.070511</td>\n",
       "      <td>-0.085239</td>\n",
       "    </tr>\n",
       "    <tr>\n",
       "      <th>fbs</th>\n",
       "      <td>0.121308</td>\n",
       "      <td>0.045032</td>\n",
       "      <td>0.094444</td>\n",
       "      <td>0.177531</td>\n",
       "      <td>0.013294</td>\n",
       "      <td>1.000000</td>\n",
       "      <td>-0.084189</td>\n",
       "      <td>-0.008567</td>\n",
       "      <td>0.025665</td>\n",
       "      <td>0.005747</td>\n",
       "      <td>-0.059894</td>\n",
       "      <td>0.137979</td>\n",
       "      <td>-0.028046</td>\n",
       "    </tr>\n",
       "    <tr>\n",
       "      <th>restecg</th>\n",
       "      <td>-0.116211</td>\n",
       "      <td>-0.058196</td>\n",
       "      <td>0.044421</td>\n",
       "      <td>-0.114103</td>\n",
       "      <td>-0.151040</td>\n",
       "      <td>-0.084189</td>\n",
       "      <td>1.000000</td>\n",
       "      <td>0.044123</td>\n",
       "      <td>-0.070733</td>\n",
       "      <td>-0.058770</td>\n",
       "      <td>0.093045</td>\n",
       "      <td>-0.072042</td>\n",
       "      <td>0.137230</td>\n",
       "    </tr>\n",
       "    <tr>\n",
       "      <th>thalach</th>\n",
       "      <td>-0.398522</td>\n",
       "      <td>-0.044020</td>\n",
       "      <td>0.295762</td>\n",
       "      <td>-0.046698</td>\n",
       "      <td>-0.009940</td>\n",
       "      <td>-0.008567</td>\n",
       "      <td>0.044123</td>\n",
       "      <td>1.000000</td>\n",
       "      <td>-0.378812</td>\n",
       "      <td>-0.344187</td>\n",
       "      <td>0.386784</td>\n",
       "      <td>-0.213177</td>\n",
       "      <td>0.421741</td>\n",
       "    </tr>\n",
       "    <tr>\n",
       "      <th>exang</th>\n",
       "      <td>0.096801</td>\n",
       "      <td>0.141664</td>\n",
       "      <td>-0.394280</td>\n",
       "      <td>0.067616</td>\n",
       "      <td>0.067023</td>\n",
       "      <td>0.025665</td>\n",
       "      <td>-0.070733</td>\n",
       "      <td>-0.378812</td>\n",
       "      <td>1.000000</td>\n",
       "      <td>0.288223</td>\n",
       "      <td>-0.257748</td>\n",
       "      <td>0.115739</td>\n",
       "      <td>-0.436757</td>\n",
       "    </tr>\n",
       "    <tr>\n",
       "      <th>oldpeak</th>\n",
       "      <td>0.210013</td>\n",
       "      <td>0.096093</td>\n",
       "      <td>-0.149230</td>\n",
       "      <td>0.193216</td>\n",
       "      <td>0.053952</td>\n",
       "      <td>0.005747</td>\n",
       "      <td>-0.058770</td>\n",
       "      <td>-0.344187</td>\n",
       "      <td>0.288223</td>\n",
       "      <td>1.000000</td>\n",
       "      <td>-0.577537</td>\n",
       "      <td>0.222682</td>\n",
       "      <td>-0.430696</td>\n",
       "    </tr>\n",
       "    <tr>\n",
       "      <th>slope</th>\n",
       "      <td>-0.168814</td>\n",
       "      <td>-0.030711</td>\n",
       "      <td>0.119717</td>\n",
       "      <td>-0.121475</td>\n",
       "      <td>-0.004038</td>\n",
       "      <td>-0.059894</td>\n",
       "      <td>0.093045</td>\n",
       "      <td>0.386784</td>\n",
       "      <td>-0.257748</td>\n",
       "      <td>-0.577537</td>\n",
       "      <td>1.000000</td>\n",
       "      <td>-0.080155</td>\n",
       "      <td>0.345877</td>\n",
       "    </tr>\n",
       "    <tr>\n",
       "      <th>ca</th>\n",
       "      <td>0.276326</td>\n",
       "      <td>0.118261</td>\n",
       "      <td>-0.181053</td>\n",
       "      <td>0.101389</td>\n",
       "      <td>0.070511</td>\n",
       "      <td>0.137979</td>\n",
       "      <td>-0.072042</td>\n",
       "      <td>-0.213177</td>\n",
       "      <td>0.115739</td>\n",
       "      <td>0.222682</td>\n",
       "      <td>-0.080155</td>\n",
       "      <td>1.000000</td>\n",
       "      <td>-0.391724</td>\n",
       "    </tr>\n",
       "    <tr>\n",
       "      <th>target</th>\n",
       "      <td>-0.225439</td>\n",
       "      <td>-0.280937</td>\n",
       "      <td>0.433798</td>\n",
       "      <td>-0.144931</td>\n",
       "      <td>-0.085239</td>\n",
       "      <td>-0.028046</td>\n",
       "      <td>0.137230</td>\n",
       "      <td>0.421741</td>\n",
       "      <td>-0.436757</td>\n",
       "      <td>-0.430696</td>\n",
       "      <td>0.345877</td>\n",
       "      <td>-0.391724</td>\n",
       "      <td>1.000000</td>\n",
       "    </tr>\n",
       "  </tbody>\n",
       "</table>\n",
       "</div>"
      ],
      "text/plain": [
       "               age       sex        cp  trestbps      chol       fbs  \\\n",
       "age       1.000000 -0.098447 -0.068653  0.279351  0.213678  0.121308   \n",
       "sex      -0.098447  1.000000 -0.049353 -0.056769 -0.197912  0.045032   \n",
       "cp       -0.068653 -0.049353  1.000000  0.047608 -0.076904  0.094444   \n",
       "trestbps  0.279351 -0.056769  0.047608  1.000000  0.123174  0.177531   \n",
       "chol      0.213678 -0.197912 -0.076904  0.123174  1.000000  0.013294   \n",
       "fbs       0.121308  0.045032  0.094444  0.177531  0.013294  1.000000   \n",
       "restecg  -0.116211 -0.058196  0.044421 -0.114103 -0.151040 -0.084189   \n",
       "thalach  -0.398522 -0.044020  0.295762 -0.046698 -0.009940 -0.008567   \n",
       "exang     0.096801  0.141664 -0.394280  0.067616  0.067023  0.025665   \n",
       "oldpeak   0.210013  0.096093 -0.149230  0.193216  0.053952  0.005747   \n",
       "slope    -0.168814 -0.030711  0.119717 -0.121475 -0.004038 -0.059894   \n",
       "ca        0.276326  0.118261 -0.181053  0.101389  0.070511  0.137979   \n",
       "target   -0.225439 -0.280937  0.433798 -0.144931 -0.085239 -0.028046   \n",
       "\n",
       "           restecg   thalach     exang   oldpeak     slope        ca    target  \n",
       "age      -0.116211 -0.398522  0.096801  0.210013 -0.168814  0.276326 -0.225439  \n",
       "sex      -0.058196 -0.044020  0.141664  0.096093 -0.030711  0.118261 -0.280937  \n",
       "cp        0.044421  0.295762 -0.394280 -0.149230  0.119717 -0.181053  0.433798  \n",
       "trestbps -0.114103 -0.046698  0.067616  0.193216 -0.121475  0.101389 -0.144931  \n",
       "chol     -0.151040 -0.009940  0.067023  0.053952 -0.004038  0.070511 -0.085239  \n",
       "fbs      -0.084189 -0.008567  0.025665  0.005747 -0.059894  0.137979 -0.028046  \n",
       "restecg   1.000000  0.044123 -0.070733 -0.058770  0.093045 -0.072042  0.137230  \n",
       "thalach   0.044123  1.000000 -0.378812 -0.344187  0.386784 -0.213177  0.421741  \n",
       "exang    -0.070733 -0.378812  1.000000  0.288223 -0.257748  0.115739 -0.436757  \n",
       "oldpeak  -0.058770 -0.344187  0.288223  1.000000 -0.577537  0.222682 -0.430696  \n",
       "slope     0.093045  0.386784 -0.257748 -0.577537  1.000000 -0.080155  0.345877  \n",
       "ca       -0.072042 -0.213177  0.115739  0.222682 -0.080155  1.000000 -0.391724  \n",
       "target    0.137230  0.421741 -0.436757 -0.430696  0.345877 -0.391724  1.000000  "
      ]
     },
     "execution_count": 12,
     "metadata": {},
     "output_type": "execute_result"
    }
   ],
   "source": [
    "data.corr()"
   ]
  },
  {
   "cell_type": "code",
   "execution_count": 13,
   "id": "17368d15",
   "metadata": {},
   "outputs": [],
   "source": [
    "Q1=np.quantile(data[\"cp\"],0.25)\n",
    "Q3=np.quantile(data[\"cp\"],0.75)\n",
    "IQR=Q3-Q1"
   ]
  },
  {
   "cell_type": "code",
   "execution_count": 14,
   "id": "32ec576d",
   "metadata": {},
   "outputs": [
    {
     "data": {
      "text/plain": [
       "<seaborn.axisgrid.FacetGrid at 0x244a5eafd60>"
      ]
     },
     "execution_count": 14,
     "metadata": {},
     "output_type": "execute_result"
    },
    {
     "data": {
      "image/png": "[encoded data removed]",
      "text/plain": [
       "<Figure size 360x360 with 1 Axes>"
      ]
     },
     "metadata": {
      "needs_background": "light"
     },
     "output_type": "display_data"
    }
   ],
   "source": [
    "sns.displot(data=data,x=\"cp\")"
   ]
  },
  {
   "cell_type": "code",
   "execution_count": 15,
   "id": "d11e9a48",
   "metadata": {},
   "outputs": [
    {
     "data": {
      "text/plain": [
       "<seaborn.axisgrid.FacetGrid at 0x244a5ca8130>"
      ]
     },
     "execution_count": 15,
     "metadata": {},
     "output_type": "execute_result"
    },
    {
     "data": {
      "image/png": "[encoded data removed]",
      "text/plain": [
       "<Figure size 360x360 with 1 Axes>"
      ]
     },
     "metadata": {
      "needs_background": "light"
     },
     "output_type": "display_data"
    }
   ],
   "source": [
    "sns.displot(data=data,x=\"trestbps\")"
   ]
  },
  {
   "cell_type": "code",
   "execution_count": 16,
   "id": "c93aba98",
   "metadata": {},
   "outputs": [
    {
     "data": {
      "text/plain": [
       "<seaborn.axisgrid.FacetGrid at 0x244a74a4370>"
      ]
     },
     "execution_count": 16,
     "metadata": {},
     "output_type": "execute_result"
    },
    {
     "data": {
      "image/png": "[encoded data removed]",
      "text/plain": [
       "<Figure size 360x360 with 1 Axes>"
      ]
     },
     "metadata": {
      "needs_background": "light"
     },
     "output_type": "display_data"
    }
   ],
   "source": [
    "sns.displot(data=data,x=\"chol\")"
   ]
  },
  {
   "cell_type": "code",
   "execution_count": 17,
   "id": "9b161d14",
   "metadata": {},
   "outputs": [
    {
     "data": {
      "text/plain": [
       "<seaborn.axisgrid.FacetGrid at 0x244a75accd0>"
      ]
     },
     "execution_count": 17,
     "metadata": {},
     "output_type": "execute_result"
    },
    {
     "data": {
      "image/png": "[encoded data removed]",
      "text/plain": [
       "<Figure size 360x360 with 1 Axes>"
      ]
     },
     "metadata": {
      "needs_background": "light"
     },
     "output_type": "display_data"
    }
   ],
   "source": [
    "sns.displot(data=data,x=\"thalach\")"
   ]
  },
  {
   "cell_type": "code",
   "execution_count": 18,
   "id": "79d2f31b",
   "metadata": {},
   "outputs": [
    {
     "data": {
      "text/plain": [
       "<seaborn.axisgrid.FacetGrid at 0x244a75c4970>"
      ]
     },
     "execution_count": 18,
     "metadata": {},
     "output_type": "execute_result"
    },
    {
     "data": {
      "image/png": "[encoded data removed]",
      "text/plain": [
       "<Figure size 360x360 with 1 Axes>"
      ]
     },
     "metadata": {
      "needs_background": "light"
     },
     "output_type": "display_data"
    }
   ],
   "source": [
    "sns.displot(data=data,x=\"oldpeak\")"
   ]
  },
  {
   "cell_type": "code",
   "execution_count": 19,
   "id": "86df9779",
   "metadata": {},
   "outputs": [
    {
     "data": {
      "text/plain": [
       "<AxesSubplot:>"
      ]
     },
     "execution_count": 19,
     "metadata": {},
     "output_type": "execute_result"
    },
    {
     "data": {
      "image/png": "[encoded data removed]",
      "text/plain": [
       "<Figure size 432x288 with 1 Axes>"
      ]
     },
     "metadata": {
      "needs_background": "light"
     },
     "output_type": "display_data"
    }
   ],
   "source": [
    "data[\"oldpeak\"].plot()"
   ]
  },
  {
   "cell_type": "code",
   "execution_count": 20,
   "id": "1172c8e3",
   "metadata": {},
   "outputs": [
    {
     "name": "stderr",
     "output_type": "stream",
     "text": [
      "C:\\ProgramData\\Anaconda3\\lib\\site-packages\\pandas\\core\\arraylike.py:397: RuntimeWarning: divide by zero encountered in log\n",
      "  result = getattr(ufunc, method)(*inputs, **kwargs)\n"
     ]
    },
    {
     "data": {
      "text/plain": [
       "<AxesSubplot:>"
      ]
     },
     "execution_count": 20,
     "metadata": {},
     "output_type": "execute_result"
    },
    {
     "data": {
      "image/png": "[encoded data removed]",
      "text/plain": [
       "<Figure size 432x288 with 1 Axes>"
      ]
     },
     "metadata": {
      "needs_background": "light"
     },
     "output_type": "display_data"
    }
   ],
   "source": [
    "np.log(data[\"oldpeak\"]).plot()"
   ]
  },
  {
   "cell_type": "code",
   "execution_count": 21,
   "id": "b6582455",
   "metadata": {},
   "outputs": [
    {
     "data": {
      "text/plain": [
       "<seaborn.axisgrid.FacetGrid at 0x244a72c7ee0>"
      ]
     },
     "execution_count": 21,
     "metadata": {},
     "output_type": "execute_result"
    },
    {
     "data": {
      "image/png": "[encoded data removed]",
      "text/plain": [
       "<Figure size 360x360 with 1 Axes>"
      ]
     },
     "metadata": {
      "needs_background": "light"
     },
     "output_type": "display_data"
    }
   ],
   "source": [
    "sns.displot(data=data,x=\"ca\")"
   ]
  },
  {
   "cell_type": "code",
   "execution_count": 22,
   "id": "d87aab18",
   "metadata": {},
   "outputs": [],
   "source": [
    "from sklearn.preprocessing import StandardScaler,Normalizer\n",
    "from sklearn.model_selection import train_test_split\n",
    "from sklearn.linear_model import LogisticRegression\n",
    "from sklearn.ensemble import RandomForestClassifier\n",
    "from sklearn.tree import DecisionTreeClassifier"
   ]
  },
  {
   "cell_type": "code",
   "execution_count": 23,
   "id": "f85562c8",
   "metadata": {},
   "outputs": [],
   "source": [
    "X=data.iloc[:,:-1]\n",
    "Y=data.iloc[:,-1]"
   ]
  },
  {
   "cell_type": "code",
   "execution_count": 24,
   "id": "c0a14a86",
   "metadata": {},
   "outputs": [],
   "source": [
    "xtrain,xtest,ytrain,ytest=train_test_split(X,Y,random_state=42,test_size=0.25)"
   ]
  },
  {
   "cell_type": "code",
   "execution_count": 25,
   "id": "6af1468c",
   "metadata": {},
   "outputs": [
    {
     "data": {
      "text/plain": [
       "(227, 12)"
      ]
     },
     "execution_count": 25,
     "metadata": {},
     "output_type": "execute_result"
    }
   ],
   "source": [
    "xtrain.shape"
   ]
  },
  {
   "cell_type": "code",
   "execution_count": 26,
   "id": "a1470530",
   "metadata": {},
   "outputs": [
    {
     "data": {
      "text/plain": [
       "(76, 12)"
      ]
     },
     "execution_count": 26,
     "metadata": {},
     "output_type": "execute_result"
    }
   ],
   "source": [
    "xtest.shape"
   ]
  },
  {
   "cell_type": "code",
   "execution_count": 27,
   "id": "6f98b580",
   "metadata": {},
   "outputs": [
    {
     "data": {
      "text/plain": [
       "(303, 13)"
      ]
     },
     "execution_count": 27,
     "metadata": {},
     "output_type": "execute_result"
    }
   ],
   "source": [
    "data.shape"
   ]
  },
  {
   "cell_type": "code",
   "execution_count": 28,
   "id": "89ca1964",
   "metadata": {},
   "outputs": [],
   "source": [
    "scale=StandardScaler()\n",
    "x_train=scale.fit_transform(xtrain)"
   ]
  },
  {
   "cell_type": "code",
   "execution_count": 29,
   "id": "1ae7801a",
   "metadata": {},
   "outputs": [],
   "source": [
    "x_test=scale.transform(xtest)"
   ]
  },
  {
   "cell_type": "code",
   "execution_count": 30,
   "id": "b38eed64",
   "metadata": {},
   "outputs": [
    {
     "data": {
      "text/plain": [
       "array([[ 0.26745345,  0.71647284, -0.97937092,  1.16826465,  0.55847168,\n",
       "        -0.382707  , -1.04486089, -1.67196572,  1.46723474, -0.38759507,\n",
       "        -0.6634347 ,  0.30327986],\n",
       "       [ 0.4831264 ,  0.71647284,  1.92041862,  2.34508328,  0.78298125,\n",
       "        -0.382707  , -1.04486089,  0.41169299, -0.6815542 , -0.75004237,\n",
       "        -0.6634347 , -0.69446692],\n",
       "       [ 0.26745345,  0.71647284,  0.95382211,  1.16826465, -2.24789797,\n",
       "         2.61296502,  0.83754722,  1.03235729, -0.6815542 , -0.75004237,\n",
       "         0.97351831,  0.30327986],\n",
       "       [ 0.15961698, -1.39572632, -0.97937092,  0.22680976,  3.04678611,\n",
       "        -0.382707  , -1.04486089,  0.01269452,  1.46723474,  0.79035864,\n",
       "        -0.6634347 ,  1.30102663],\n",
       "       [ 1.77716406, -1.39572632,  0.95382211, -1.18537259,  0.35267124,\n",
       "         2.61296502, -1.04486089, -0.87396876, -0.6815542 , -0.93126602,\n",
       "         0.97351831,  0.30327986],\n",
       "       [ 0.26745345,  0.71647284,  0.95382211,  1.16826465, -1.46211447,\n",
       "        -0.382707  ,  0.83754722,  1.07669046, -0.6815542 ,  0.51852317,\n",
       "         0.97351831, -0.69446692],\n",
       "       [-0.91874774, -1.39572632, -0.97937092,  0.46217348, -0.05892964,\n",
       "        -0.382707  , -1.04486089,  0.10136085,  1.46723474, -0.93126602,\n",
       "        -0.6634347 , -0.69446692],\n",
       "       [ 0.15961698, -1.39572632, -0.97937092,  4.11031121,  0.78298125,\n",
       "         2.61296502, -1.04486089, -0.74096927,  1.46723474,  2.69320695,\n",
       "        -2.30038772,  1.30102663],\n",
       "       [-0.05605596,  0.71647284, -0.97937092, -0.47928142,  0.74556299,\n",
       "        -0.382707  , -1.04486089, -1.49463306,  1.46723474,  1.96831236,\n",
       "        -0.6634347 ,  1.30102663],\n",
       "       [-0.05605596,  0.71647284,  0.95382211, -0.30275862,  0.50234429,\n",
       "        -0.382707  , -1.04486089,  0.10136085, -0.6815542 , -0.4782069 ,\n",
       "        -2.30038772,  0.30327986],\n",
       "       [ 0.26745345,  0.71647284, -0.97937092,  0.57985534, -1.01309532,\n",
       "        -0.382707  ,  0.83754722, -0.07597181, -0.6815542 , -0.56881872,\n",
       "        -0.6634347 , -0.69446692],\n",
       "       [ 0.4831264 ,  0.71647284,  1.92041862,  2.81581073,  0.4462169 ,\n",
       "        -0.382707  , -1.04486089, -0.2089713 , -0.6815542 ,  2.8744306 ,\n",
       "        -2.30038772, -0.69446692],\n",
       "       [-0.27172891,  0.71647284, -0.0127744 , -0.59696328,  1.4752191 ,\n",
       "        -0.382707  ,  0.83754722,  0.98802413, -0.6815542 , -0.75004237,\n",
       "         0.97351831, -0.69446692],\n",
       "       [-1.56576657,  0.71647284, -0.97937092, -1.18537259, -1.4808236 ,\n",
       "        -0.382707  , -1.04486089, -1.58329939,  1.46723474,  0.88097047,\n",
       "        -0.6634347 , -0.69446692],\n",
       "       [-0.91874774, -1.39572632, -0.0127744 , -1.47957725, -0.78858575,\n",
       "        -0.382707  ,  0.83754722,  0.98802413, -0.6815542 , -0.93126602,\n",
       "         0.97351831, -0.69446692],\n",
       "       [-1.13442068,  0.71647284,  0.95382211,  0.57985534, -0.20860269,\n",
       "        -0.382707  , -1.04486089,  1.34268944, -0.6815542 , -0.93126602,\n",
       "         0.97351831, -0.69446692],\n",
       "       [-2.2127854 , -1.39572632, -0.0127744 , -0.71464514, -0.67633097,\n",
       "        -0.382707  ,  0.83754722,  1.87468741, -0.6815542 , -0.29698325,\n",
       "         0.97351831, -0.69446692],\n",
       "       [-0.05605596,  0.71647284, -0.97937092, -0.59696328, -1.08793185,\n",
       "        -0.382707  ,  0.83754722, -1.62763255, -0.6815542 ,  0.33729952,\n",
       "        -0.6634347 ,  0.30327986],\n",
       "       [-0.91874774,  0.71647284, -0.97937092,  0.57985534,  1.21329127,\n",
       "        -0.382707  ,  0.83754722, -1.3173004 ,  1.46723474,  0.69974682,\n",
       "        -0.6634347 ,  1.30102663],\n",
       "       [ 0.69879934,  0.71647284, -0.97937092,  0.46217348, -1.49953273,\n",
       "        -0.382707  , -1.04486089, -1.09563458,  1.46723474,  2.33075966,\n",
       "        -0.6634347 ,  0.30327986],\n",
       "       [ 1.02230876,  0.71647284,  1.92041862,  2.34508328, -0.35827574,\n",
       "        -0.382707  , -1.04486089,  0.23436034, -0.6815542 , -0.38759507,\n",
       "        -0.6634347 , -0.69446692],\n",
       "       [ 0.15961698,  0.71647284, -0.97937092, -0.00855397,  0.6894356 ,\n",
       "         2.61296502, -1.04486089, -2.07096419,  1.46723474,  0.51852317,\n",
       "        -2.30038772, -0.69446692],\n",
       "       [ 1.34581817,  0.71647284, -0.97937092, -0.59696328, -0.17118443,\n",
       "        -0.382707  ,  0.83754722, -3.48962544, -0.6815542 , -0.02514778,\n",
       "        -0.6634347 , -0.69446692],\n",
       "       [ 1.77716406, -1.39572632, -0.0127744 ,  1.75667397,  1.04490909,\n",
       "        -0.382707  ,  0.83754722,  0.54469249, -0.6815542 , -0.56881872,\n",
       "         0.97351831,  1.30102663],\n",
       "       [-1.13442068, -1.39572632,  0.95382211, -0.71464514, -0.07763877,\n",
       "        -0.382707  ,  0.83754722, -0.03163865, -0.6815542 , -0.65943055,\n",
       "        -0.6634347 ,  0.30327986],\n",
       "       [-1.56576657,  0.71647284, -0.97937092,  1.28594652, -0.43311226,\n",
       "        -0.382707  ,  0.83754722,  1.3870226 , -0.6815542 , -0.93126602,\n",
       "         0.97351831, -0.69446692],\n",
       "       [ 0.4831264 ,  0.71647284,  1.92041862,  1.75667397,  0.50234429,\n",
       "        -0.382707  , -1.04486089, -1.09563458, -0.6815542 , -0.93126602,\n",
       "         0.97351831, -0.69446692],\n",
       "       [-0.37956538,  0.71647284, -0.97937092,  0.57985534,  0.27783472,\n",
       "        -0.382707  , -1.04486089,  1.60868842,  1.46723474, -0.93126602,\n",
       "         0.97351831, -0.69446692],\n",
       "       [ 0.26745345,  0.71647284, -0.97937092,  2.05087862,  0.80169039,\n",
       "         2.61296502, -1.04486089, -1.13996775, -0.6815542 , -0.02514778,\n",
       "        -0.6634347 ,  2.29877341],\n",
       "       [-0.48740185, -1.39572632, -0.97937092, -1.18537259,  0.1468708 ,\n",
       "        -0.382707  , -1.04486089,  0.41169299, -0.6815542 , -0.93126602,\n",
       "         0.97351831, -0.69446692],\n",
       "       [ 1.02230876,  0.71647284, -0.97937092, -0.12623583,  0.31525298,\n",
       "        -0.382707  ,  0.83754722, -1.98229786,  1.46723474, -0.75004237,\n",
       "        -0.6634347 ,  0.30327986],\n",
       "       [ 0.69879934,  0.71647284, -0.97937092,  0.57985534, -0.73245836,\n",
       "        -0.382707  , -1.04486089, -0.51930345,  1.46723474,  0.79035864,\n",
       "         0.97351831,  0.30327986],\n",
       "       [ 0.80663581,  0.71647284, -0.97937092, -0.59696328,  0.3900895 ,\n",
       "        -0.382707  ,  0.83754722, -2.24829685,  1.46723474,  0.69974682,\n",
       "        -0.6634347 ,  1.30102663],\n",
       "       [-1.02658421,  0.71647284, -0.97937092, -1.53841818, -0.71374923,\n",
       "        -0.382707  , -1.04486089, -0.07597181,  1.46723474,  1.78708871,\n",
       "        -0.6634347 , -0.69446692],\n",
       "       [ 1.2379817 , -1.39572632,  1.92041862,  1.16826465, -0.37698487,\n",
       "        -0.382707  ,  0.83754722, -1.58329939, -0.6815542 ,  1.42464141,\n",
       "        -2.30038772, -0.69446692],\n",
       "       [ 0.91447229,  0.71647284, -0.97937092, -0.00855397,  0.1468708 ,\n",
       "        -0.382707  , -1.04486089, -0.12030497, -0.6815542 ,  0.33729952,\n",
       "        -0.6634347 ,  0.30327986],\n",
       "       [-0.37956538,  0.71647284,  0.95382211, -0.30275862, -0.02151138,\n",
       "         2.61296502, -1.04486089,  0.72202514, -0.6815542 ,  1.24341776,\n",
       "        -0.6634347 , -0.69446692],\n",
       "       [-0.7030748 ,  0.71647284,  0.95382211, -0.36159955,  0.16557993,\n",
       "         2.61296502,  0.83754722,  1.12102362, -0.6815542 , -0.93126602,\n",
       "         0.97351831,  1.30102663],\n",
       "       [-1.56576657,  0.71647284,  1.92041862,  0.57985534, -0.88213141,\n",
       "        -0.382707  ,  0.83754722,  1.25402311,  1.46723474,  0.33729952,\n",
       "         0.97351831, -0.69446692],\n",
       "       [-1.02658421,  0.71647284, -0.97937092, -0.89116793,  0.25912559,\n",
       "        -0.382707  , -1.04486089,  1.56435526, -0.6815542 , -0.93126602,\n",
       "         0.97351831, -0.69446692],\n",
       "       [-0.27172891,  0.71647284,  0.95382211,  0.46217348, -0.43311226,\n",
       "        -0.382707  ,  0.83754722,  0.85502464, -0.6815542 , -0.93126602,\n",
       "         0.97351831,  3.29652018],\n",
       "       [ 0.4831264 ,  0.71647284, -0.0127744 ,  0.57985534, -0.47053052,\n",
       "        -0.382707  ,  0.83754722,  0.63335882,  1.46723474, -0.93126602,\n",
       "         0.97351831, -0.69446692],\n",
       "       [ 0.80663581,  0.71647284, -0.0127744 , -0.12623583, -0.71374923,\n",
       "         2.61296502, -1.04486089, -0.43063712, -0.6815542 , -0.93126602,\n",
       "         0.97351831, -0.69446692],\n",
       "       [-1.4579301 ,  0.71647284,  0.95382211, -0.00855397, -0.60149444,\n",
       "        -0.382707  , -1.04486089,  0.81069147, -0.6815542 ,  0.88097047,\n",
       "        -0.6634347 , -0.69446692],\n",
       "       [-1.13442068,  0.71647284, -0.0127744 , -0.59696328,  0.31525298,\n",
       "        -0.382707  ,  0.83754722,  1.03235729, -0.6815542 , -0.93126602,\n",
       "         0.97351831, -0.69446692],\n",
       "       [-1.24225716,  0.71647284, -0.97937092,  0.10912789,  0.01590688,\n",
       "         2.61296502, -1.04486089, -0.29763763,  1.46723474, -0.84065419,\n",
       "        -0.6634347 ,  3.29652018],\n",
       "       [-0.27172891,  0.71647284, -0.97937092, -0.12623583, -0.78858575,\n",
       "         2.61296502,  0.83754722,  0.2786935 ,  1.46723474, -0.02514778,\n",
       "        -0.6634347 , -0.69446692],\n",
       "       [-0.27172891,  0.71647284, -0.0127744 , -0.12623583, -0.76987662,\n",
       "         2.61296502,  0.83754722,  1.5200221 , -0.6815542 , -0.93126602,\n",
       "         0.97351831, -0.69446692],\n",
       "       [ 0.37528992, -1.39572632, -0.97937092,  2.34508328, -0.395694  ,\n",
       "         2.61296502, -1.04486089, -0.16463814,  1.46723474,  1.60586506,\n",
       "        -0.6634347 ,  1.30102663],\n",
       "       [ 0.05178051,  0.71647284, -0.97937092,  1.75667397,  0.80169039,\n",
       "        -0.382707  , -1.04486089, -0.2089713 ,  1.46723474, -0.20637142,\n",
       "        -0.6634347 ,  0.30327986],\n",
       "       [-0.7030748 ,  0.71647284, -0.97937092, -0.00855397,  0.18428906,\n",
       "         2.61296502, -1.04486089,  0.01269452,  1.46723474, -0.93126602,\n",
       "         0.97351831,  1.30102663],\n",
       "       [-1.02658421,  0.71647284, -0.97937092,  0.69753721,  1.17587301,\n",
       "        -0.382707  , -1.04486089, -0.12030497,  1.46723474, -0.93126602,\n",
       "        -0.6634347 ,  2.29877341],\n",
       "       [-1.4579301 ,  0.71647284, -0.0127744 ,  0.28565069, -0.80729488,\n",
       "        -0.382707  ,  0.83754722, -0.78530243, -0.6815542 , -0.93126602,\n",
       "        -0.6634347 , -0.69446692],\n",
       "       [ 0.59096287, -1.39572632,  0.95382211, -1.65610004,  1.34425518,\n",
       "        -0.382707  ,  0.83754722,  0.45602616, -0.6815542 , -0.93126602,\n",
       "         0.97351831,  0.30327986],\n",
       "       [ 0.37528992,  0.71647284, -0.97937092, -0.30275862,  1.00749083,\n",
       "        -0.382707  , -1.04486089,  0.94369096, -0.6815542 , -0.93126602,\n",
       "         0.97351831,  1.30102663],\n",
       "       [ 0.80663581, -1.39572632, -0.97937092,  1.75667397, -1.53695099,\n",
       "        -0.382707  , -1.04486089, -0.2089713 , -0.6815542 ,  4.68666709,\n",
       "        -2.30038772,  2.29877341],\n",
       "       [ 1.56149112,  0.71647284,  0.95382211,  0.57985534,  0.1468708 ,\n",
       "        -0.382707  , -1.04486089, -0.16463814, -0.6815542 ,  0.88097047,\n",
       "        -0.6634347 ,  2.29877341],\n",
       "       [-0.48740185,  0.71647284,  0.95382211, -0.0673949 , -0.9382588 ,\n",
       "        -0.382707  ,  0.83754722,  0.58902565, -0.6815542 , -0.93126602,\n",
       "         0.97351831, -0.69446692],\n",
       "       [ 1.45365465,  0.71647284, -0.97937092,  0.81521907, -0.99438619,\n",
       "         2.61296502,  0.83754722, -0.38630396, -0.6815542 ,  2.14953601,\n",
       "        -0.6634347 ,  1.30102663],\n",
       "       [ 0.59096287,  0.71647284, -0.97937092,  0.87406   ,  0.67072647,\n",
       "        -0.382707  , -1.04486089, -0.34197079,  1.46723474,  1.60586506,\n",
       "        -0.6634347 ,  1.30102663],\n",
       "       [-0.48740185,  0.71647284, -0.97937092,  1.16826465, -0.05892964,\n",
       "        -0.382707  , -1.04486089, -0.96263509, -0.6815542 ,  1.42464141,\n",
       "        -0.6634347 , -0.69446692],\n",
       "       [-1.35009363,  0.71647284, -0.0127744 , -0.59696328,  0.91394517,\n",
       "        -0.382707  ,  0.83754722,  0.54469249, -0.6815542 , -0.93126602,\n",
       "         0.97351831, -0.69446692],\n",
       "       [ 0.37528992,  0.71647284, -0.97937092,  1.16826465,  0.4462169 ,\n",
       "        -0.382707  , -1.04486089, -1.71629888,  1.46723474, -0.20637142,\n",
       "         0.97351831, -0.69446692],\n",
       "       [-0.91874774,  0.71647284,  0.95382211,  1.16826465, -0.28343921,\n",
       "        -0.382707  ,  0.83754722, -0.12030497, -0.6815542 ,  2.33075966,\n",
       "        -0.6634347 , -0.69446692],\n",
       "       [ 0.05178051, -1.39572632, -0.0127744 ,  0.28565069,  0.07203428,\n",
       "        -0.382707  , -1.04486089,  0.50035932, -0.6815542 ,  0.33729952,\n",
       "        -0.6634347 , -0.69446692],\n",
       "       [ 0.59096287,  0.71647284, -0.97937092, -0.77348607, -0.30214835,\n",
       "         2.61296502,  0.83754722,  0.45602616,  1.46723474,  0.33729952,\n",
       "         0.97351831,  1.30102663],\n",
       "       [ 0.26745345, -1.39572632, -0.97937092, -0.12623583,  1.06361822,\n",
       "        -0.382707  , -1.04486089,  0.41169299, -0.6815542 , -0.93126602,\n",
       "         0.97351831,  0.30327986],\n",
       "       [-0.05605596, -1.39572632, -0.0127744 ,  0.10912789,  0.78298125,\n",
       "         2.61296502, -1.04486089,  0.41169299,  1.46723474, -0.93126602,\n",
       "         0.97351831,  0.30327986],\n",
       "       [ 0.15961698, -1.39572632, -0.0127744 ,  0.57985534,  0.89523604,\n",
       "        -0.382707  , -1.04486089,  0.14569401, -0.6815542 ,  0.2466877 ,\n",
       "        -0.6634347 , -0.69446692],\n",
       "       [ 1.02230876,  0.71647284,  0.95382211,  0.57985534,  1.66231041,\n",
       "        -0.382707  ,  0.83754722,  0.36735983, -0.6815542 , -0.93126602,\n",
       "         0.97351831, -0.69446692],\n",
       "       [-1.4579301 , -1.39572632, -0.0127744 , -1.47957725, -0.90084054,\n",
       "        -0.382707  ,  0.83754722,  0.81069147, -0.6815542 , -0.93126602,\n",
       "         0.97351831,  0.30327986],\n",
       "       [-1.35009363,  0.71647284, -0.97937092,  0.57985534, -0.37698487,\n",
       "        -0.382707  ,  0.83754722,  1.25402311, -0.6815542 , -0.93126602,\n",
       "         0.97351831, -0.69446692],\n",
       "       [ 0.80663581, -1.39572632, -0.97937092,  1.16826465, -0.04022051,\n",
       "        -0.382707  ,  0.83754722,  0.19002717,  1.46723474,  0.33729952,\n",
       "        -0.6634347 , -0.69446692],\n",
       "       [-0.7030748 ,  0.71647284, -0.97937092, -0.47928142, -0.45182139,\n",
       "        -0.382707  , -1.04486089,  1.60868842, -0.6815542 , -0.93126602,\n",
       "         0.97351831, -0.69446692],\n",
       "       [ 1.02230876,  0.71647284, -0.97937092,  0.87406   , -0.6389127 ,\n",
       "        -0.382707  , -1.04486089, -0.78530243, -0.6815542 ,  0.88097047,\n",
       "        -0.6634347 ,  1.30102663],\n",
       "       [ 0.05178051,  0.71647284, -0.0127744 , -0.00855397,  0.29654385,\n",
       "        -0.382707  ,  0.83754722,  0.23436034, -0.6815542 , -0.93126602,\n",
       "         0.97351831, -0.69446692]])"
      ]
     },
     "execution_count": 30,
     "metadata": {},
     "output_type": "execute_result"
    }
   ],
   "source": [
    "x_test"
   ]
  },
  {
   "cell_type": "code",
   "execution_count": 31,
   "id": "07032f13",
   "metadata": {},
   "outputs": [],
   "source": [
    "#modei of the Logistic Regression           #default values as parameters\n",
    "log=LogisticRegression(    penalty='l2',dual=False,\n",
    "    tol=0.0001,\n",
    "    C=1.0,\n",
    "    fit_intercept=True,\n",
    "    intercept_scaling=1,\n",
    "    class_weight=None,\n",
    "    random_state=None,\n",
    "    solver='lbfgs',\n",
    "    max_iter=100,\n",
    "    multi_class='auto',\n",
    "    verbose=0,\n",
    "    warm_start=False,\n",
    "    n_jobs=None,\n",
    "    l1_ratio=None)"
   ]
  },
  {
   "cell_type": "code",
   "execution_count": 32,
   "id": "9d9bc123",
   "metadata": {},
   "outputs": [
    {
     "data": {
      "text/plain": [
       "LogisticRegression()"
      ]
     },
     "execution_count": 32,
     "metadata": {},
     "output_type": "execute_result"
    }
   ],
   "source": [
    "log.fit(x_train,ytrain)"
   ]
  },
  {
   "cell_type": "code",
   "execution_count": 33,
   "id": "806d45ca",
   "metadata": {},
   "outputs": [
    {
     "data": {
      "text/plain": [
       "array([0, 1, 1, 0, 1, 1, 1, 0, 0, 0, 0, 0, 1, 0, 1, 1, 1, 0, 0, 0, 1, 0,\n",
       "       0, 1, 1, 1, 1, 0, 0, 1, 0, 0, 0, 0, 1, 0, 1, 1, 1, 1, 0, 1, 1, 1,\n",
       "       1, 0, 0, 1, 0, 0, 0, 0, 1, 1, 0, 0, 0, 1, 0, 0, 0, 1, 0, 0, 1, 0,\n",
       "       1, 1, 1, 1, 1, 1, 0, 1, 0, 1], dtype=int64)"
      ]
     },
     "execution_count": 33,
     "metadata": {},
     "output_type": "execute_result"
    }
   ],
   "source": [
    "log.predict(x_test)"
   ]
  },
  {
   "cell_type": "code",
   "execution_count": 34,
   "id": "efb1cf81",
   "metadata": {},
   "outputs": [],
   "source": [
    "ypred=log.predict(x_test)"
   ]
  },
  {
   "cell_type": "code",
   "execution_count": 35,
   "id": "a01a2376",
   "metadata": {},
   "outputs": [
    {
     "data": {
      "text/plain": [
       "0.8552631578947368"
      ]
     },
     "execution_count": 35,
     "metadata": {},
     "output_type": "execute_result"
    }
   ],
   "source": [
    "from sklearn.metrics import confusion_matrix,classification_report,accuracy_score\n",
    "accuracy_score(ypred,ytest)"
   ]
  },
  {
   "cell_type": "code",
   "execution_count": 36,
   "id": "688e4d8f",
   "metadata": {},
   "outputs": [
    {
     "data": {
      "text/plain": [
       "'              precision    recall  f1-score   support\\n\\n           0       0.89      0.82      0.85        38\\n           1       0.83      0.89      0.86        38\\n\\n    accuracy                           0.86        76\\n   macro avg       0.86      0.86      0.86        76\\nweighted avg       0.86      0.86      0.86        76\\n'"
      ]
     },
     "execution_count": 36,
     "metadata": {},
     "output_type": "execute_result"
    }
   ],
   "source": [
    "classification_report(ypred,ytest)"
   ]
  },
  {
   "cell_type": "code",
   "execution_count": 37,
   "id": "1dc0aeef",
   "metadata": {},
   "outputs": [
    {
     "name": "stdout",
     "output_type": "stream",
     "text": [
      "              precision    recall  f1-score   support\n",
      "\n",
      "           0       0.89      0.82      0.85        38\n",
      "           1       0.83      0.89      0.86        38\n",
      "\n",
      "    accuracy                           0.86        76\n",
      "   macro avg       0.86      0.86      0.86        76\n",
      "weighted avg       0.86      0.86      0.86        76\n",
      "\n"
     ]
    }
   ],
   "source": [
    "print(classification_report(ypred,ytest))"
   ]
  },
  {
   "cell_type": "code",
   "execution_count": 38,
   "id": "bd7a6ab1",
   "metadata": {},
   "outputs": [
    {
     "data": {
      "text/plain": [
       "array([[31,  7],\n",
       "       [ 4, 34]], dtype=int64)"
      ]
     },
     "execution_count": 38,
     "metadata": {},
     "output_type": "execute_result"
    }
   ],
   "source": [
    "confusion_matrix(ypred,ytest)"
   ]
  },
  {
   "cell_type": "code",
   "execution_count": 39,
   "id": "a4e88093",
   "metadata": {},
   "outputs": [
    {
     "data": {
      "text/html": [
       "<div>\n",
       "<style scoped>\n",
       "    .dataframe tbody tr th:only-of-type {\n",
       "        vertical-align: middle;\n",
       "    }\n",
       "\n",
       "    .dataframe tbody tr th {\n",
       "        vertical-align: top;\n",
       "    }\n",
       "\n",
       "    .dataframe thead th {\n",
       "        text-align: right;\n",
       "    }\n",
       "</style>\n",
       "<table border=\"1\" class=\"dataframe\">\n",
       "  <thead>\n",
       "    <tr style=\"text-align: right;\">\n",
       "      <th></th>\n",
       "      <th>age</th>\n",
       "      <th>sex</th>\n",
       "      <th>cp</th>\n",
       "      <th>trestbps</th>\n",
       "      <th>chol</th>\n",
       "      <th>fbs</th>\n",
       "      <th>restecg</th>\n",
       "      <th>thalach</th>\n",
       "      <th>exang</th>\n",
       "      <th>oldpeak</th>\n",
       "      <th>slope</th>\n",
       "      <th>ca</th>\n",
       "    </tr>\n",
       "  </thead>\n",
       "  <tbody>\n",
       "    <tr>\n",
       "      <th>0</th>\n",
       "      <td>63</td>\n",
       "      <td>1</td>\n",
       "      <td>3</td>\n",
       "      <td>145</td>\n",
       "      <td>233</td>\n",
       "      <td>1</td>\n",
       "      <td>0</td>\n",
       "      <td>150</td>\n",
       "      <td>0</td>\n",
       "      <td>2.3</td>\n",
       "      <td>0</td>\n",
       "      <td>0</td>\n",
       "    </tr>\n",
       "    <tr>\n",
       "      <th>1</th>\n",
       "      <td>37</td>\n",
       "      <td>1</td>\n",
       "      <td>2</td>\n",
       "      <td>130</td>\n",
       "      <td>250</td>\n",
       "      <td>0</td>\n",
       "      <td>1</td>\n",
       "      <td>187</td>\n",
       "      <td>0</td>\n",
       "      <td>3.5</td>\n",
       "      <td>0</td>\n",
       "      <td>0</td>\n",
       "    </tr>\n",
       "    <tr>\n",
       "      <th>2</th>\n",
       "      <td>41</td>\n",
       "      <td>0</td>\n",
       "      <td>1</td>\n",
       "      <td>130</td>\n",
       "      <td>204</td>\n",
       "      <td>0</td>\n",
       "      <td>0</td>\n",
       "      <td>172</td>\n",
       "      <td>0</td>\n",
       "      <td>1.4</td>\n",
       "      <td>2</td>\n",
       "      <td>0</td>\n",
       "    </tr>\n",
       "    <tr>\n",
       "      <th>3</th>\n",
       "      <td>56</td>\n",
       "      <td>1</td>\n",
       "      <td>1</td>\n",
       "      <td>120</td>\n",
       "      <td>236</td>\n",
       "      <td>0</td>\n",
       "      <td>1</td>\n",
       "      <td>178</td>\n",
       "      <td>0</td>\n",
       "      <td>0.8</td>\n",
       "      <td>2</td>\n",
       "      <td>0</td>\n",
       "    </tr>\n",
       "    <tr>\n",
       "      <th>4</th>\n",
       "      <td>57</td>\n",
       "      <td>0</td>\n",
       "      <td>0</td>\n",
       "      <td>120</td>\n",
       "      <td>354</td>\n",
       "      <td>0</td>\n",
       "      <td>1</td>\n",
       "      <td>163</td>\n",
       "      <td>1</td>\n",
       "      <td>0.6</td>\n",
       "      <td>2</td>\n",
       "      <td>0</td>\n",
       "    </tr>\n",
       "    <tr>\n",
       "      <th>...</th>\n",
       "      <td>...</td>\n",
       "      <td>...</td>\n",
       "      <td>...</td>\n",
       "      <td>...</td>\n",
       "      <td>...</td>\n",
       "      <td>...</td>\n",
       "      <td>...</td>\n",
       "      <td>...</td>\n",
       "      <td>...</td>\n",
       "      <td>...</td>\n",
       "      <td>...</td>\n",
       "      <td>...</td>\n",
       "    </tr>\n",
       "    <tr>\n",
       "      <th>298</th>\n",
       "      <td>57</td>\n",
       "      <td>0</td>\n",
       "      <td>0</td>\n",
       "      <td>140</td>\n",
       "      <td>241</td>\n",
       "      <td>0</td>\n",
       "      <td>1</td>\n",
       "      <td>123</td>\n",
       "      <td>1</td>\n",
       "      <td>0.2</td>\n",
       "      <td>1</td>\n",
       "      <td>0</td>\n",
       "    </tr>\n",
       "    <tr>\n",
       "      <th>299</th>\n",
       "      <td>45</td>\n",
       "      <td>1</td>\n",
       "      <td>3</td>\n",
       "      <td>110</td>\n",
       "      <td>264</td>\n",
       "      <td>0</td>\n",
       "      <td>1</td>\n",
       "      <td>132</td>\n",
       "      <td>0</td>\n",
       "      <td>1.2</td>\n",
       "      <td>1</td>\n",
       "      <td>0</td>\n",
       "    </tr>\n",
       "    <tr>\n",
       "      <th>300</th>\n",
       "      <td>68</td>\n",
       "      <td>1</td>\n",
       "      <td>0</td>\n",
       "      <td>144</td>\n",
       "      <td>193</td>\n",
       "      <td>1</td>\n",
       "      <td>1</td>\n",
       "      <td>141</td>\n",
       "      <td>0</td>\n",
       "      <td>3.4</td>\n",
       "      <td>1</td>\n",
       "      <td>2</td>\n",
       "    </tr>\n",
       "    <tr>\n",
       "      <th>301</th>\n",
       "      <td>57</td>\n",
       "      <td>1</td>\n",
       "      <td>0</td>\n",
       "      <td>130</td>\n",
       "      <td>131</td>\n",
       "      <td>0</td>\n",
       "      <td>1</td>\n",
       "      <td>115</td>\n",
       "      <td>1</td>\n",
       "      <td>1.2</td>\n",
       "      <td>1</td>\n",
       "      <td>1</td>\n",
       "    </tr>\n",
       "    <tr>\n",
       "      <th>302</th>\n",
       "      <td>57</td>\n",
       "      <td>0</td>\n",
       "      <td>1</td>\n",
       "      <td>130</td>\n",
       "      <td>236</td>\n",
       "      <td>0</td>\n",
       "      <td>0</td>\n",
       "      <td>174</td>\n",
       "      <td>0</td>\n",
       "      <td>0.0</td>\n",
       "      <td>1</td>\n",
       "      <td>1</td>\n",
       "    </tr>\n",
       "  </tbody>\n",
       "</table>\n",
       "<p>303 rows × 12 columns</p>\n",
       "</div>"
      ],
      "text/plain": [
       "     age  sex  cp  trestbps  chol  fbs  restecg  thalach  exang  oldpeak  \\\n",
       "0     63    1   3       145   233    1        0      150      0      2.3   \n",
       "1     37    1   2       130   250    0        1      187      0      3.5   \n",
       "2     41    0   1       130   204    0        0      172      0      1.4   \n",
       "3     56    1   1       120   236    0        1      178      0      0.8   \n",
       "4     57    0   0       120   354    0        1      163      1      0.6   \n",
       "..   ...  ...  ..       ...   ...  ...      ...      ...    ...      ...   \n",
       "298   57    0   0       140   241    0        1      123      1      0.2   \n",
       "299   45    1   3       110   264    0        1      132      0      1.2   \n",
       "300   68    1   0       144   193    1        1      141      0      3.4   \n",
       "301   57    1   0       130   131    0        1      115      1      1.2   \n",
       "302   57    0   1       130   236    0        0      174      0      0.0   \n",
       "\n",
       "     slope  ca  \n",
       "0        0   0  \n",
       "1        0   0  \n",
       "2        2   0  \n",
       "3        2   0  \n",
       "4        2   0  \n",
       "..     ...  ..  \n",
       "298      1   0  \n",
       "299      1   0  \n",
       "300      1   2  \n",
       "301      1   1  \n",
       "302      1   1  \n",
       "\n",
       "[303 rows x 12 columns]"
      ]
     },
     "execution_count": 39,
     "metadata": {},
     "output_type": "execute_result"
    }
   ],
   "source": [
    "X"
   ]
  },
  {
   "cell_type": "code",
   "execution_count": 40,
   "id": "99b5cbf6",
   "metadata": {},
   "outputs": [
    {
     "data": {
      "text/plain": [
       "0      1\n",
       "1      1\n",
       "2      1\n",
       "3      1\n",
       "4      1\n",
       "      ..\n",
       "298    0\n",
       "299    0\n",
       "300    0\n",
       "301    0\n",
       "302    0\n",
       "Name: target, Length: 303, dtype: int64"
      ]
     },
     "execution_count": 40,
     "metadata": {},
     "output_type": "execute_result"
    }
   ],
   "source": [
    "Y"
   ]
  },
  {
   "cell_type": "code",
   "execution_count": 41,
   "id": "8ecbe5e0",
   "metadata": {},
   "outputs": [],
   "source": [
    "#model ------>   Decisiontreeclassifier\n",
    "dt=DecisionTreeClassifier( criterion='gini',\n",
    "    splitter='best',\n",
    "    max_depth=None,\n",
    "    min_samples_split=2,\n",
    "    min_samples_leaf=1,\n",
    "    min_weight_fraction_leaf=0.0,\n",
    "    max_features=None,\n",
    "    random_state=None,\n",
    "    max_leaf_nodes=None,\n",
    "    min_impurity_decrease=0.0,\n",
    "    class_weight=None,\n",
    "    ccp_alpha=0.0,)"
   ]
  },
  {
   "cell_type": "code",
   "execution_count": 42,
   "id": "adc099d7",
   "metadata": {},
   "outputs": [
    {
     "data": {
      "text/plain": [
       "DecisionTreeClassifier()"
      ]
     },
     "execution_count": 42,
     "metadata": {},
     "output_type": "execute_result"
    }
   ],
   "source": [
    "dt.fit(x_train,ytrain)"
   ]
  },
  {
   "cell_type": "code",
   "execution_count": 43,
   "id": "c9231bc6",
   "metadata": {},
   "outputs": [
    {
     "data": {
      "text/plain": [
       "array([0, 1, 1, 1, 1, 1, 1, 0, 0, 0, 1, 1, 1, 1, 1, 1, 1, 0, 0, 0, 1, 0,\n",
       "       0, 1, 0, 1, 1, 1, 0, 1, 0, 0, 0, 1, 1, 0, 0, 1, 1, 1, 1, 1, 1, 0,\n",
       "       1, 0, 0, 1, 0, 0, 0, 0, 1, 1, 0, 0, 1, 1, 0, 0, 0, 1, 1, 0, 1, 0,\n",
       "       0, 1, 1, 1, 1, 1, 0, 1, 0, 1], dtype=int64)"
      ]
     },
     "execution_count": 43,
     "metadata": {},
     "output_type": "execute_result"
    }
   ],
   "source": [
    "dt.predict(x_test)"
   ]
  },
  {
   "cell_type": "code",
   "execution_count": 44,
   "id": "05ad4c0c",
   "metadata": {},
   "outputs": [],
   "source": [
    "ypreddt=dt.predict(x_test)"
   ]
  },
  {
   "cell_type": "code",
   "execution_count": 45,
   "id": "aaeb0cd9",
   "metadata": {},
   "outputs": [
    {
     "data": {
      "text/plain": [
       "0.8157894736842105"
      ]
     },
     "execution_count": 45,
     "metadata": {},
     "output_type": "execute_result"
    }
   ],
   "source": [
    "accuracy_score(ypreddt,ytest)"
   ]
  },
  {
   "cell_type": "code",
   "execution_count": 46,
   "id": "f7ec0ebf",
   "metadata": {},
   "outputs": [
    {
     "data": {
      "text/plain": [
       "'              precision    recall  f1-score   support\\n\\n           0       0.77      0.82      0.79        33\\n           1       0.85      0.81      0.83        43\\n\\n    accuracy                           0.82        76\\n   macro avg       0.81      0.82      0.81        76\\nweighted avg       0.82      0.82      0.82        76\\n'"
      ]
     },
     "execution_count": 46,
     "metadata": {},
     "output_type": "execute_result"
    }
   ],
   "source": [
    "classification_report(ypreddt,ytest)"
   ]
  },
  {
   "cell_type": "code",
   "execution_count": 47,
   "id": "776d323e",
   "metadata": {},
   "outputs": [
    {
     "name": "stdout",
     "output_type": "stream",
     "text": [
      "              precision    recall  f1-score   support\n",
      "\n",
      "           0       0.77      0.82      0.79        33\n",
      "           1       0.85      0.81      0.83        43\n",
      "\n",
      "    accuracy                           0.82        76\n",
      "   macro avg       0.81      0.82      0.81        76\n",
      "weighted avg       0.82      0.82      0.82        76\n",
      "\n"
     ]
    }
   ],
   "source": [
    "print(classification_report(ypreddt,ytest))"
   ]
  },
  {
   "cell_type": "code",
   "execution_count": 48,
   "id": "67b4bfd3",
   "metadata": {},
   "outputs": [
    {
     "data": {
      "text/plain": [
       "array([[27,  6],\n",
       "       [ 8, 35]], dtype=int64)"
      ]
     },
     "execution_count": 48,
     "metadata": {},
     "output_type": "execute_result"
    }
   ],
   "source": [
    "confusion_matrix(ypreddt,ytest)"
   ]
  },
  {
   "cell_type": "code",
   "execution_count": 49,
   "id": "b491c6ab",
   "metadata": {},
   "outputs": [],
   "source": [
    "#modeling ----------> Random ForstClassifier\n",
    "rt=RandomForestClassifier(n_estimators=100,\n",
    "       criterion='gini',\n",
    "    max_depth=None,\n",
    "    min_samples_split=2,\n",
    "    min_samples_leaf=1,\n",
    "    min_weight_fraction_leaf=0.0,\n",
    "    max_features='auto',\n",
    "    max_leaf_nodes=None,\n",
    "    min_impurity_decrease=0.0,\n",
    "    bootstrap=True,\n",
    "    oob_score=False,\n",
    "    n_jobs=None,\n",
    "    random_state=None,\n",
    "    verbose=0,\n",
    "    warm_start=False,\n",
    "    class_weight=None,\n",
    "    ccp_alpha=0.0,\n",
    "    max_samples=None,\n",
    ")"
   ]
  },
  {
   "cell_type": "code",
   "execution_count": 50,
   "id": "f560ffb0",
   "metadata": {},
   "outputs": [
    {
     "data": {
      "text/plain": [
       "RandomForestClassifier()"
      ]
     },
     "execution_count": 50,
     "metadata": {},
     "output_type": "execute_result"
    }
   ],
   "source": [
    "rt.fit(x_train,ytrain)"
   ]
  },
  {
   "cell_type": "code",
   "execution_count": 51,
   "id": "683dff0e",
   "metadata": {},
   "outputs": [
    {
     "data": {
      "text/plain": [
       "array([0, 1, 1, 0, 1, 1, 1, 0, 0, 0, 1, 0, 1, 0, 1, 1, 1, 0, 0, 0, 0, 0,\n",
       "       1, 1, 1, 1, 1, 1, 0, 1, 0, 0, 0, 0, 1, 0, 1, 1, 1, 1, 1, 1, 1, 1,\n",
       "       1, 0, 0, 1, 0, 0, 0, 0, 1, 1, 0, 0, 0, 1, 0, 0, 0, 1, 1, 0, 1, 0,\n",
       "       0, 1, 1, 1, 1, 1, 0, 1, 0, 1], dtype=int64)"
      ]
     },
     "execution_count": 51,
     "metadata": {},
     "output_type": "execute_result"
    }
   ],
   "source": [
    "rt.predict(x_test)"
   ]
  },
  {
   "cell_type": "code",
   "execution_count": 52,
   "id": "aeffdf5f",
   "metadata": {},
   "outputs": [],
   "source": [
    "ypredrt=rt.predict(x_test)"
   ]
  },
  {
   "cell_type": "code",
   "execution_count": 53,
   "id": "66535583",
   "metadata": {},
   "outputs": [
    {
     "data": {
      "text/plain": [
       "0.8421052631578947"
      ]
     },
     "execution_count": 53,
     "metadata": {},
     "output_type": "execute_result"
    }
   ],
   "source": [
    "accuracy_score(ypredrt,ytest)"
   ]
  },
  {
   "cell_type": "code",
   "execution_count": 54,
   "id": "22f2360e",
   "metadata": {},
   "outputs": [
    {
     "name": "stdout",
     "output_type": "stream",
     "text": [
      "              precision    recall  f1-score   support\n",
      "\n",
      "           0       0.83      0.83      0.83        35\n",
      "           1       0.85      0.85      0.85        41\n",
      "\n",
      "    accuracy                           0.84        76\n",
      "   macro avg       0.84      0.84      0.84        76\n",
      "weighted avg       0.84      0.84      0.84        76\n",
      "\n"
     ]
    }
   ],
   "source": [
    "print(classification_report(ypredrt,ytest))"
   ]
  },
  {
   "cell_type": "code",
   "execution_count": 55,
   "id": "3465c398",
   "metadata": {},
   "outputs": [
    {
     "data": {
      "text/plain": [
       "array([[29,  6],\n",
       "       [ 6, 35]], dtype=int64)"
      ]
     },
     "execution_count": 55,
     "metadata": {},
     "output_type": "execute_result"
    }
   ],
   "source": [
    "confusion_matrix(ypredrt,ytest)"
   ]
  },
  {
   "cell_type": "code",
   "execution_count": 56,
   "id": "1fac6866",
   "metadata": {},
   "outputs": [],
   "source": [
    "from catboost import CatBoostClassifier\n",
    "cb=CatBoostClassifier()"
   ]
  },
  {
   "cell_type": "code",
   "execution_count": 57,
   "id": "46698054",
   "metadata": {},
   "outputs": [
    {
     "name": "stdout",
     "output_type": "stream",
     "text": [
      "Learning rate set to 0.00547\n",
      "0:\tlearn: 0.6888041\ttotal: 146ms\tremaining: 2m 25s\n",
      "1:\tlearn: 0.6840939\ttotal: 149ms\tremaining: 1m 14s\n",
      "2:\tlearn: 0.6805265\ttotal: 153ms\tremaining: 51s\n",
      "3:\tlearn: 0.6767959\ttotal: 159ms\tremaining: 39.6s\n",
      "4:\tlearn: 0.6730448\ttotal: 162ms\tremaining: 32.3s\n",
      "5:\tlearn: 0.6693812\ttotal: 166ms\tremaining: 27.5s\n",
      "6:\tlearn: 0.6651491\ttotal: 171ms\tremaining: 24.2s\n",
      "7:\tlearn: 0.6614644\ttotal: 176ms\tremaining: 21.9s\n",
      "8:\tlearn: 0.6577113\ttotal: 180ms\tremaining: 19.8s\n",
      "9:\tlearn: 0.6545200\ttotal: 184ms\tremaining: 18.2s\n",
      "10:\tlearn: 0.6507437\ttotal: 189ms\tremaining: 17s\n",
      "11:\tlearn: 0.6465646\ttotal: 193ms\tremaining: 15.9s\n",
      "12:\tlearn: 0.6431656\ttotal: 197ms\tremaining: 14.9s\n",
      "13:\tlearn: 0.6398851\ttotal: 202ms\tremaining: 14.2s\n",
      "14:\tlearn: 0.6359805\ttotal: 206ms\tremaining: 13.5s\n",
      "15:\tlearn: 0.6316184\ttotal: 210ms\tremaining: 12.9s\n",
      "16:\tlearn: 0.6276654\ttotal: 214ms\tremaining: 12.4s\n",
      "17:\tlearn: 0.6245762\ttotal: 219ms\tremaining: 11.9s\n",
      "18:\tlearn: 0.6220106\ttotal: 222ms\tremaining: 11.5s\n",
      "19:\tlearn: 0.6182077\ttotal: 227ms\tremaining: 11.1s\n",
      "20:\tlearn: 0.6147437\ttotal: 233ms\tremaining: 10.9s\n",
      "21:\tlearn: 0.6117027\ttotal: 238ms\tremaining: 10.6s\n",
      "22:\tlearn: 0.6083076\ttotal: 243ms\tremaining: 10.3s\n",
      "23:\tlearn: 0.6058774\ttotal: 249ms\tremaining: 10.1s\n",
      "24:\tlearn: 0.6036035\ttotal: 253ms\tremaining: 9.87s\n",
      "25:\tlearn: 0.5999551\ttotal: 258ms\tremaining: 9.66s\n",
      "26:\tlearn: 0.5965423\ttotal: 262ms\tremaining: 9.45s\n",
      "27:\tlearn: 0.5934713\ttotal: 269ms\tremaining: 9.35s\n",
      "28:\tlearn: 0.5916786\ttotal: 272ms\tremaining: 9.11s\n",
      "29:\tlearn: 0.5880179\ttotal: 276ms\tremaining: 8.92s\n",
      "30:\tlearn: 0.5848354\ttotal: 280ms\tremaining: 8.74s\n",
      "31:\tlearn: 0.5818430\ttotal: 283ms\tremaining: 8.56s\n",
      "32:\tlearn: 0.5787623\ttotal: 287ms\tremaining: 8.4s\n",
      "33:\tlearn: 0.5758665\ttotal: 290ms\tremaining: 8.25s\n",
      "34:\tlearn: 0.5727310\ttotal: 294ms\tremaining: 8.12s\n",
      "35:\tlearn: 0.5701861\ttotal: 297ms\tremaining: 7.96s\n",
      "36:\tlearn: 0.5692967\ttotal: 300ms\tremaining: 7.81s\n",
      "37:\tlearn: 0.5667502\ttotal: 304ms\tremaining: 7.69s\n",
      "38:\tlearn: 0.5634795\ttotal: 308ms\tremaining: 7.58s\n",
      "39:\tlearn: 0.5617982\ttotal: 311ms\tremaining: 7.46s\n",
      "40:\tlearn: 0.5593010\ttotal: 315ms\tremaining: 7.36s\n",
      "41:\tlearn: 0.5565412\ttotal: 318ms\tremaining: 7.26s\n",
      "42:\tlearn: 0.5535063\ttotal: 322ms\tremaining: 7.17s\n",
      "43:\tlearn: 0.5515003\ttotal: 326ms\tremaining: 7.08s\n",
      "44:\tlearn: 0.5485245\ttotal: 330ms\tremaining: 7s\n",
      "45:\tlearn: 0.5457997\ttotal: 333ms\tremaining: 6.91s\n",
      "46:\tlearn: 0.5437788\ttotal: 337ms\tremaining: 6.83s\n",
      "47:\tlearn: 0.5410559\ttotal: 341ms\tremaining: 6.76s\n",
      "48:\tlearn: 0.5379996\ttotal: 345ms\tremaining: 6.69s\n",
      "49:\tlearn: 0.5355143\ttotal: 349ms\tremaining: 6.62s\n",
      "50:\tlearn: 0.5331877\ttotal: 353ms\tremaining: 6.56s\n",
      "51:\tlearn: 0.5306420\ttotal: 356ms\tremaining: 6.5s\n",
      "52:\tlearn: 0.5282594\ttotal: 360ms\tremaining: 6.43s\n",
      "53:\tlearn: 0.5257009\ttotal: 364ms\tremaining: 6.37s\n",
      "54:\tlearn: 0.5227098\ttotal: 367ms\tremaining: 6.31s\n",
      "55:\tlearn: 0.5208174\ttotal: 371ms\tremaining: 6.26s\n",
      "56:\tlearn: 0.5187935\ttotal: 376ms\tremaining: 6.21s\n",
      "57:\tlearn: 0.5170038\ttotal: 380ms\tremaining: 6.18s\n",
      "58:\tlearn: 0.5149629\ttotal: 384ms\tremaining: 6.13s\n",
      "59:\tlearn: 0.5127266\ttotal: 388ms\tremaining: 6.08s\n",
      "60:\tlearn: 0.5113322\ttotal: 391ms\tremaining: 6.02s\n",
      "61:\tlearn: 0.5089314\ttotal: 396ms\tremaining: 5.99s\n",
      "62:\tlearn: 0.5069727\ttotal: 402ms\tremaining: 5.98s\n",
      "63:\tlearn: 0.5053304\ttotal: 407ms\tremaining: 5.96s\n",
      "64:\tlearn: 0.5036617\ttotal: 410ms\tremaining: 5.9s\n",
      "65:\tlearn: 0.5011925\ttotal: 414ms\tremaining: 5.86s\n",
      "66:\tlearn: 0.4990962\ttotal: 418ms\tremaining: 5.82s\n",
      "67:\tlearn: 0.4969149\ttotal: 423ms\tremaining: 5.79s\n",
      "68:\tlearn: 0.4947660\ttotal: 429ms\tremaining: 5.79s\n",
      "69:\tlearn: 0.4927938\ttotal: 433ms\tremaining: 5.75s\n",
      "70:\tlearn: 0.4912740\ttotal: 437ms\tremaining: 5.72s\n",
      "71:\tlearn: 0.4889835\ttotal: 441ms\tremaining: 5.68s\n",
      "72:\tlearn: 0.4870761\ttotal: 445ms\tremaining: 5.64s\n",
      "73:\tlearn: 0.4848857\ttotal: 448ms\tremaining: 5.61s\n",
      "74:\tlearn: 0.4829942\ttotal: 453ms\tremaining: 5.59s\n",
      "75:\tlearn: 0.4810161\ttotal: 457ms\tremaining: 5.56s\n",
      "76:\tlearn: 0.4792456\ttotal: 462ms\tremaining: 5.53s\n",
      "77:\tlearn: 0.4777156\ttotal: 466ms\tremaining: 5.51s\n",
      "78:\tlearn: 0.4757672\ttotal: 472ms\tremaining: 5.5s\n",
      "79:\tlearn: 0.4742671\ttotal: 477ms\tremaining: 5.49s\n",
      "80:\tlearn: 0.4722828\ttotal: 484ms\tremaining: 5.49s\n",
      "81:\tlearn: 0.4699525\ttotal: 491ms\tremaining: 5.5s\n",
      "82:\tlearn: 0.4679546\ttotal: 495ms\tremaining: 5.47s\n",
      "83:\tlearn: 0.4673732\ttotal: 498ms\tremaining: 5.43s\n",
      "84:\tlearn: 0.4654200\ttotal: 502ms\tremaining: 5.41s\n",
      "85:\tlearn: 0.4640689\ttotal: 506ms\tremaining: 5.38s\n",
      "86:\tlearn: 0.4622135\ttotal: 513ms\tremaining: 5.38s\n",
      "87:\tlearn: 0.4601073\ttotal: 518ms\tremaining: 5.36s\n",
      "88:\tlearn: 0.4587827\ttotal: 522ms\tremaining: 5.34s\n",
      "89:\tlearn: 0.4568100\ttotal: 527ms\tremaining: 5.33s\n",
      "90:\tlearn: 0.4554869\ttotal: 532ms\tremaining: 5.32s\n",
      "91:\tlearn: 0.4545161\ttotal: 537ms\tremaining: 5.3s\n",
      "92:\tlearn: 0.4529761\ttotal: 542ms\tremaining: 5.28s\n",
      "93:\tlearn: 0.4514761\ttotal: 546ms\tremaining: 5.26s\n",
      "94:\tlearn: 0.4500742\ttotal: 551ms\tremaining: 5.25s\n",
      "95:\tlearn: 0.4484598\ttotal: 555ms\tremaining: 5.23s\n",
      "96:\tlearn: 0.4465768\ttotal: 561ms\tremaining: 5.23s\n",
      "97:\tlearn: 0.4449928\ttotal: 587ms\tremaining: 5.4s\n",
      "98:\tlearn: 0.4430508\ttotal: 592ms\tremaining: 5.39s\n",
      "99:\tlearn: 0.4415053\ttotal: 597ms\tremaining: 5.37s\n",
      "100:\tlearn: 0.4396244\ttotal: 604ms\tremaining: 5.38s\n",
      "101:\tlearn: 0.4379240\ttotal: 609ms\tremaining: 5.36s\n",
      "102:\tlearn: 0.4363065\ttotal: 616ms\tremaining: 5.36s\n",
      "103:\tlearn: 0.4354281\ttotal: 635ms\tremaining: 5.47s\n",
      "104:\tlearn: 0.4337812\ttotal: 643ms\tremaining: 5.48s\n",
      "105:\tlearn: 0.4324638\ttotal: 646ms\tremaining: 5.45s\n",
      "106:\tlearn: 0.4312008\ttotal: 649ms\tremaining: 5.42s\n",
      "107:\tlearn: 0.4295569\ttotal: 654ms\tremaining: 5.4s\n",
      "108:\tlearn: 0.4279216\ttotal: 658ms\tremaining: 5.38s\n",
      "109:\tlearn: 0.4268138\ttotal: 663ms\tremaining: 5.36s\n",
      "110:\tlearn: 0.4255149\ttotal: 667ms\tremaining: 5.34s\n",
      "111:\tlearn: 0.4243010\ttotal: 677ms\tremaining: 5.36s\n",
      "112:\tlearn: 0.4233449\ttotal: 681ms\tremaining: 5.35s\n",
      "113:\tlearn: 0.4224977\ttotal: 685ms\tremaining: 5.32s\n",
      "114:\tlearn: 0.4207950\ttotal: 689ms\tremaining: 5.3s\n",
      "115:\tlearn: 0.4191362\ttotal: 693ms\tremaining: 5.28s\n",
      "116:\tlearn: 0.4173453\ttotal: 698ms\tremaining: 5.27s\n",
      "117:\tlearn: 0.4162230\ttotal: 708ms\tremaining: 5.29s\n",
      "118:\tlearn: 0.4147568\ttotal: 712ms\tremaining: 5.27s\n",
      "119:\tlearn: 0.4135648\ttotal: 717ms\tremaining: 5.26s\n",
      "120:\tlearn: 0.4121593\ttotal: 722ms\tremaining: 5.24s\n",
      "121:\tlearn: 0.4107656\ttotal: 726ms\tremaining: 5.22s\n",
      "122:\tlearn: 0.4096612\ttotal: 730ms\tremaining: 5.21s\n",
      "123:\tlearn: 0.4079159\ttotal: 735ms\tremaining: 5.19s\n",
      "124:\tlearn: 0.4063669\ttotal: 754ms\tremaining: 5.27s\n",
      "125:\tlearn: 0.4051143\ttotal: 760ms\tremaining: 5.27s\n",
      "126:\tlearn: 0.4036388\ttotal: 764ms\tremaining: 5.25s\n",
      "127:\tlearn: 0.4025210\ttotal: 769ms\tremaining: 5.24s\n",
      "128:\tlearn: 0.4010965\ttotal: 773ms\tremaining: 5.22s\n",
      "129:\tlearn: 0.3997964\ttotal: 777ms\tremaining: 5.2s\n",
      "130:\tlearn: 0.3988278\ttotal: 787ms\tremaining: 5.22s\n",
      "131:\tlearn: 0.3976443\ttotal: 791ms\tremaining: 5.2s\n",
      "132:\tlearn: 0.3963363\ttotal: 796ms\tremaining: 5.19s\n",
      "133:\tlearn: 0.3950576\ttotal: 802ms\tremaining: 5.19s\n",
      "134:\tlearn: 0.3940117\ttotal: 807ms\tremaining: 5.17s\n",
      "135:\tlearn: 0.3927768\ttotal: 811ms\tremaining: 5.15s\n",
      "136:\tlearn: 0.3911111\ttotal: 819ms\tremaining: 5.16s\n",
      "137:\tlearn: 0.3901258\ttotal: 824ms\tremaining: 5.15s\n",
      "138:\tlearn: 0.3890572\ttotal: 829ms\tremaining: 5.13s\n",
      "139:\tlearn: 0.3879096\ttotal: 833ms\tremaining: 5.12s\n",
      "140:\tlearn: 0.3866591\ttotal: 837ms\tremaining: 5.1s\n",
      "141:\tlearn: 0.3855086\ttotal: 841ms\tremaining: 5.08s\n",
      "142:\tlearn: 0.3845328\ttotal: 846ms\tremaining: 5.07s\n",
      "143:\tlearn: 0.3836459\ttotal: 850ms\tremaining: 5.05s\n",
      "144:\tlearn: 0.3822312\ttotal: 854ms\tremaining: 5.03s\n",
      "145:\tlearn: 0.3811389\ttotal: 857ms\tremaining: 5.01s\n",
      "146:\tlearn: 0.3802313\ttotal: 861ms\tremaining: 4.99s\n",
      "147:\tlearn: 0.3789745\ttotal: 865ms\tremaining: 4.98s\n",
      "148:\tlearn: 0.3778176\ttotal: 868ms\tremaining: 4.96s\n",
      "149:\tlearn: 0.3769198\ttotal: 872ms\tremaining: 4.94s\n",
      "150:\tlearn: 0.3759003\ttotal: 875ms\tremaining: 4.92s\n",
      "151:\tlearn: 0.3748540\ttotal: 878ms\tremaining: 4.9s\n",
      "152:\tlearn: 0.3736057\ttotal: 881ms\tremaining: 4.88s\n",
      "153:\tlearn: 0.3726736\ttotal: 885ms\tremaining: 4.86s\n",
      "154:\tlearn: 0.3718530\ttotal: 888ms\tremaining: 4.84s\n",
      "155:\tlearn: 0.3710289\ttotal: 891ms\tremaining: 4.82s\n",
      "156:\tlearn: 0.3697463\ttotal: 894ms\tremaining: 4.8s\n",
      "157:\tlearn: 0.3689381\ttotal: 897ms\tremaining: 4.78s\n",
      "158:\tlearn: 0.3676097\ttotal: 900ms\tremaining: 4.76s\n",
      "159:\tlearn: 0.3671102\ttotal: 903ms\tremaining: 4.74s\n",
      "160:\tlearn: 0.3662403\ttotal: 906ms\tremaining: 4.72s\n",
      "161:\tlearn: 0.3653183\ttotal: 908ms\tremaining: 4.7s\n",
      "162:\tlearn: 0.3646400\ttotal: 912ms\tremaining: 4.68s\n",
      "163:\tlearn: 0.3635654\ttotal: 915ms\tremaining: 4.66s\n",
      "164:\tlearn: 0.3627157\ttotal: 918ms\tremaining: 4.65s\n",
      "165:\tlearn: 0.3617937\ttotal: 921ms\tremaining: 4.63s\n",
      "166:\tlearn: 0.3609340\ttotal: 925ms\tremaining: 4.61s\n",
      "167:\tlearn: 0.3599022\ttotal: 928ms\tremaining: 4.59s\n",
      "168:\tlearn: 0.3585899\ttotal: 931ms\tremaining: 4.58s\n",
      "169:\tlearn: 0.3576513\ttotal: 934ms\tremaining: 4.56s\n",
      "170:\tlearn: 0.3565955\ttotal: 937ms\tremaining: 4.54s\n",
      "171:\tlearn: 0.3552348\ttotal: 940ms\tremaining: 4.53s\n",
      "172:\tlearn: 0.3543519\ttotal: 943ms\tremaining: 4.51s\n",
      "173:\tlearn: 0.3535096\ttotal: 946ms\tremaining: 4.49s\n",
      "174:\tlearn: 0.3525105\ttotal: 949ms\tremaining: 4.47s\n",
      "175:\tlearn: 0.3516194\ttotal: 952ms\tremaining: 4.46s\n",
      "176:\tlearn: 0.3511666\ttotal: 955ms\tremaining: 4.44s\n",
      "177:\tlearn: 0.3504450\ttotal: 958ms\tremaining: 4.42s\n",
      "178:\tlearn: 0.3496785\ttotal: 961ms\tremaining: 4.41s\n",
      "179:\tlearn: 0.3483983\ttotal: 964ms\tremaining: 4.39s\n",
      "180:\tlearn: 0.3473626\ttotal: 967ms\tremaining: 4.37s\n",
      "181:\tlearn: 0.3461085\ttotal: 970ms\tremaining: 4.36s\n",
      "182:\tlearn: 0.3453741\ttotal: 973ms\tremaining: 4.34s\n",
      "183:\tlearn: 0.3445714\ttotal: 976ms\tremaining: 4.33s\n",
      "184:\tlearn: 0.3434282\ttotal: 979ms\tremaining: 4.31s\n",
      "185:\tlearn: 0.3429507\ttotal: 982ms\tremaining: 4.3s\n",
      "186:\tlearn: 0.3422126\ttotal: 985ms\tremaining: 4.28s\n",
      "187:\tlearn: 0.3414350\ttotal: 989ms\tremaining: 4.27s\n",
      "188:\tlearn: 0.3405952\ttotal: 992ms\tremaining: 4.26s\n",
      "189:\tlearn: 0.3393754\ttotal: 995ms\tremaining: 4.24s\n",
      "190:\tlearn: 0.3392392\ttotal: 997ms\tremaining: 4.22s\n",
      "191:\tlearn: 0.3384112\ttotal: 1s\tremaining: 4.21s\n",
      "192:\tlearn: 0.3376823\ttotal: 1s\tremaining: 4.19s\n",
      "193:\tlearn: 0.3368892\ttotal: 1.01s\tremaining: 4.18s\n",
      "194:\tlearn: 0.3361737\ttotal: 1.01s\tremaining: 4.17s\n",
      "195:\tlearn: 0.3355126\ttotal: 1.01s\tremaining: 4.15s\n",
      "196:\tlearn: 0.3345664\ttotal: 1.01s\tremaining: 4.14s\n"
     ]
    },
    {
     "name": "stdout",
     "output_type": "stream",
     "text": [
      "197:\tlearn: 0.3336759\ttotal: 1.02s\tremaining: 4.13s\n",
      "198:\tlearn: 0.3329942\ttotal: 1.02s\tremaining: 4.12s\n",
      "199:\tlearn: 0.3321153\ttotal: 1.03s\tremaining: 4.11s\n",
      "200:\tlearn: 0.3312272\ttotal: 1.03s\tremaining: 4.09s\n",
      "201:\tlearn: 0.3304034\ttotal: 1.04s\tremaining: 4.11s\n",
      "202:\tlearn: 0.3295005\ttotal: 1.05s\tremaining: 4.12s\n",
      "203:\tlearn: 0.3287651\ttotal: 1.05s\tremaining: 4.11s\n",
      "204:\tlearn: 0.3279432\ttotal: 1.06s\tremaining: 4.11s\n",
      "205:\tlearn: 0.3274944\ttotal: 1.06s\tremaining: 4.1s\n",
      "206:\tlearn: 0.3264598\ttotal: 1.07s\tremaining: 4.09s\n",
      "207:\tlearn: 0.3256469\ttotal: 1.07s\tremaining: 4.08s\n",
      "208:\tlearn: 0.3246617\ttotal: 1.08s\tremaining: 4.1s\n",
      "209:\tlearn: 0.3242653\ttotal: 1.09s\tremaining: 4.09s\n",
      "210:\tlearn: 0.3234656\ttotal: 1.09s\tremaining: 4.08s\n",
      "211:\tlearn: 0.3227002\ttotal: 1.09s\tremaining: 4.07s\n",
      "212:\tlearn: 0.3219372\ttotal: 1.1s\tremaining: 4.06s\n",
      "213:\tlearn: 0.3212347\ttotal: 1.1s\tremaining: 4.05s\n",
      "214:\tlearn: 0.3203035\ttotal: 1.11s\tremaining: 4.05s\n",
      "215:\tlearn: 0.3194903\ttotal: 1.11s\tremaining: 4.04s\n",
      "216:\tlearn: 0.3189368\ttotal: 1.12s\tremaining: 4.04s\n",
      "217:\tlearn: 0.3180062\ttotal: 1.12s\tremaining: 4.03s\n",
      "218:\tlearn: 0.3174258\ttotal: 1.13s\tremaining: 4.02s\n",
      "219:\tlearn: 0.3168130\ttotal: 1.13s\tremaining: 4.01s\n",
      "220:\tlearn: 0.3163936\ttotal: 1.14s\tremaining: 4.02s\n",
      "221:\tlearn: 0.3156912\ttotal: 1.17s\tremaining: 4.09s\n",
      "222:\tlearn: 0.3148521\ttotal: 1.17s\tremaining: 4.09s\n",
      "223:\tlearn: 0.3143168\ttotal: 1.18s\tremaining: 4.08s\n",
      "224:\tlearn: 0.3133456\ttotal: 1.18s\tremaining: 4.07s\n",
      "225:\tlearn: 0.3123993\ttotal: 1.19s\tremaining: 4.06s\n",
      "226:\tlearn: 0.3118360\ttotal: 1.19s\tremaining: 4.05s\n",
      "227:\tlearn: 0.3112494\ttotal: 1.19s\tremaining: 4.04s\n",
      "228:\tlearn: 0.3106261\ttotal: 1.2s\tremaining: 4.05s\n",
      "229:\tlearn: 0.3099368\ttotal: 1.21s\tremaining: 4.05s\n",
      "230:\tlearn: 0.3094234\ttotal: 1.21s\tremaining: 4.04s\n",
      "231:\tlearn: 0.3087981\ttotal: 1.22s\tremaining: 4.03s\n",
      "232:\tlearn: 0.3083743\ttotal: 1.22s\tremaining: 4.03s\n",
      "233:\tlearn: 0.3074857\ttotal: 1.23s\tremaining: 4.02s\n",
      "234:\tlearn: 0.3067322\ttotal: 1.23s\tremaining: 4.01s\n",
      "235:\tlearn: 0.3058096\ttotal: 1.24s\tremaining: 4s\n",
      "236:\tlearn: 0.3052629\ttotal: 1.25s\tremaining: 4.02s\n",
      "237:\tlearn: 0.3045332\ttotal: 1.25s\tremaining: 4.01s\n",
      "238:\tlearn: 0.3041232\ttotal: 1.26s\tremaining: 4s\n",
      "239:\tlearn: 0.3036704\ttotal: 1.26s\tremaining: 4s\n",
      "240:\tlearn: 0.3028695\ttotal: 1.26s\tremaining: 3.99s\n",
      "241:\tlearn: 0.3023786\ttotal: 1.27s\tremaining: 3.98s\n",
      "242:\tlearn: 0.3017313\ttotal: 1.27s\tremaining: 3.97s\n",
      "243:\tlearn: 0.3010426\ttotal: 1.28s\tremaining: 3.96s\n",
      "244:\tlearn: 0.3006817\ttotal: 1.31s\tremaining: 4.05s\n",
      "245:\tlearn: 0.3000580\ttotal: 1.32s\tremaining: 4.04s\n",
      "246:\tlearn: 0.2995831\ttotal: 1.32s\tremaining: 4.03s\n",
      "247:\tlearn: 0.2988258\ttotal: 1.33s\tremaining: 4.02s\n",
      "248:\tlearn: 0.2983249\ttotal: 1.33s\tremaining: 4.01s\n",
      "249:\tlearn: 0.2978418\ttotal: 1.33s\tremaining: 4s\n",
      "250:\tlearn: 0.2973232\ttotal: 1.34s\tremaining: 4.01s\n",
      "251:\tlearn: 0.2965251\ttotal: 1.35s\tremaining: 4s\n",
      "252:\tlearn: 0.2957945\ttotal: 1.35s\tremaining: 3.99s\n",
      "253:\tlearn: 0.2953750\ttotal: 1.35s\tremaining: 3.98s\n",
      "254:\tlearn: 0.2949177\ttotal: 1.36s\tremaining: 3.97s\n",
      "255:\tlearn: 0.2944323\ttotal: 1.36s\tremaining: 3.96s\n",
      "256:\tlearn: 0.2936709\ttotal: 1.37s\tremaining: 3.96s\n",
      "257:\tlearn: 0.2930625\ttotal: 1.38s\tremaining: 3.97s\n",
      "258:\tlearn: 0.2924455\ttotal: 1.41s\tremaining: 4.02s\n",
      "259:\tlearn: 0.2921732\ttotal: 1.41s\tremaining: 4.02s\n",
      "260:\tlearn: 0.2917107\ttotal: 1.42s\tremaining: 4.01s\n",
      "261:\tlearn: 0.2911097\ttotal: 1.42s\tremaining: 4s\n",
      "262:\tlearn: 0.2905823\ttotal: 1.42s\tremaining: 3.99s\n",
      "263:\tlearn: 0.2899128\ttotal: 1.43s\tremaining: 3.99s\n",
      "264:\tlearn: 0.2894093\ttotal: 1.44s\tremaining: 4s\n",
      "265:\tlearn: 0.2889762\ttotal: 1.46s\tremaining: 4.04s\n",
      "266:\tlearn: 0.2886096\ttotal: 1.47s\tremaining: 4.04s\n",
      "267:\tlearn: 0.2879015\ttotal: 1.48s\tremaining: 4.04s\n",
      "268:\tlearn: 0.2871593\ttotal: 1.49s\tremaining: 4.04s\n",
      "269:\tlearn: 0.2863879\ttotal: 1.49s\tremaining: 4.03s\n",
      "270:\tlearn: 0.2860347\ttotal: 1.5s\tremaining: 4.03s\n",
      "271:\tlearn: 0.2855406\ttotal: 1.52s\tremaining: 4.08s\n",
      "272:\tlearn: 0.2849289\ttotal: 1.53s\tremaining: 4.08s\n",
      "273:\tlearn: 0.2841588\ttotal: 1.54s\tremaining: 4.08s\n",
      "274:\tlearn: 0.2837302\ttotal: 1.54s\tremaining: 4.07s\n",
      "275:\tlearn: 0.2832061\ttotal: 1.55s\tremaining: 4.06s\n",
      "276:\tlearn: 0.2827340\ttotal: 1.55s\tremaining: 4.05s\n",
      "277:\tlearn: 0.2820911\ttotal: 1.55s\tremaining: 4.04s\n",
      "278:\tlearn: 0.2815100\ttotal: 1.56s\tremaining: 4.03s\n",
      "279:\tlearn: 0.2810129\ttotal: 1.56s\tremaining: 4.02s\n",
      "280:\tlearn: 0.2803085\ttotal: 1.57s\tremaining: 4.01s\n",
      "281:\tlearn: 0.2795881\ttotal: 1.57s\tremaining: 4s\n",
      "282:\tlearn: 0.2790172\ttotal: 1.57s\tremaining: 3.99s\n",
      "283:\tlearn: 0.2783580\ttotal: 1.58s\tremaining: 3.98s\n",
      "284:\tlearn: 0.2777532\ttotal: 1.58s\tremaining: 3.97s\n",
      "285:\tlearn: 0.2770969\ttotal: 1.59s\tremaining: 3.96s\n",
      "286:\tlearn: 0.2764509\ttotal: 1.59s\tremaining: 3.95s\n",
      "287:\tlearn: 0.2759702\ttotal: 1.59s\tremaining: 3.94s\n",
      "288:\tlearn: 0.2753451\ttotal: 1.6s\tremaining: 3.94s\n",
      "289:\tlearn: 0.2747417\ttotal: 1.61s\tremaining: 3.94s\n",
      "290:\tlearn: 0.2743832\ttotal: 1.61s\tremaining: 3.93s\n",
      "291:\tlearn: 0.2739433\ttotal: 1.62s\tremaining: 3.92s\n",
      "292:\tlearn: 0.2735003\ttotal: 1.62s\tremaining: 3.91s\n",
      "293:\tlearn: 0.2728027\ttotal: 1.62s\tremaining: 3.9s\n",
      "294:\tlearn: 0.2721725\ttotal: 1.63s\tremaining: 3.89s\n",
      "295:\tlearn: 0.2717843\ttotal: 1.63s\tremaining: 3.88s\n",
      "296:\tlearn: 0.2712452\ttotal: 1.64s\tremaining: 3.87s\n",
      "297:\tlearn: 0.2709362\ttotal: 1.64s\tremaining: 3.86s\n",
      "298:\tlearn: 0.2705779\ttotal: 1.65s\tremaining: 3.86s\n",
      "299:\tlearn: 0.2700868\ttotal: 1.65s\tremaining: 3.85s\n",
      "300:\tlearn: 0.2695348\ttotal: 1.65s\tremaining: 3.84s\n",
      "301:\tlearn: 0.2689028\ttotal: 1.66s\tremaining: 3.83s\n",
      "302:\tlearn: 0.2683364\ttotal: 1.66s\tremaining: 3.82s\n",
      "303:\tlearn: 0.2682580\ttotal: 1.66s\tremaining: 3.81s\n",
      "304:\tlearn: 0.2676648\ttotal: 1.67s\tremaining: 3.8s\n",
      "305:\tlearn: 0.2671856\ttotal: 1.67s\tremaining: 3.79s\n",
      "306:\tlearn: 0.2664669\ttotal: 1.68s\tremaining: 3.78s\n",
      "307:\tlearn: 0.2658412\ttotal: 1.68s\tremaining: 3.77s\n",
      "308:\tlearn: 0.2653863\ttotal: 1.68s\tremaining: 3.77s\n",
      "309:\tlearn: 0.2650418\ttotal: 1.69s\tremaining: 3.76s\n",
      "310:\tlearn: 0.2646728\ttotal: 1.69s\tremaining: 3.75s\n",
      "311:\tlearn: 0.2641620\ttotal: 1.7s\tremaining: 3.74s\n",
      "312:\tlearn: 0.2636998\ttotal: 1.7s\tremaining: 3.73s\n",
      "313:\tlearn: 0.2635036\ttotal: 1.7s\tremaining: 3.72s\n",
      "314:\tlearn: 0.2629773\ttotal: 1.71s\tremaining: 3.72s\n",
      "315:\tlearn: 0.2626588\ttotal: 1.71s\tremaining: 3.71s\n",
      "316:\tlearn: 0.2623244\ttotal: 1.72s\tremaining: 3.7s\n",
      "317:\tlearn: 0.2618214\ttotal: 1.72s\tremaining: 3.69s\n",
      "318:\tlearn: 0.2613377\ttotal: 1.73s\tremaining: 3.69s\n",
      "319:\tlearn: 0.2606334\ttotal: 1.73s\tremaining: 3.68s\n",
      "320:\tlearn: 0.2600505\ttotal: 1.74s\tremaining: 3.67s\n",
      "321:\tlearn: 0.2596374\ttotal: 1.74s\tremaining: 3.66s\n",
      "322:\tlearn: 0.2591960\ttotal: 1.74s\tremaining: 3.65s\n",
      "323:\tlearn: 0.2585551\ttotal: 1.75s\tremaining: 3.65s\n",
      "324:\tlearn: 0.2581990\ttotal: 1.75s\tremaining: 3.64s\n",
      "325:\tlearn: 0.2575569\ttotal: 1.75s\tremaining: 3.63s\n",
      "326:\tlearn: 0.2569838\ttotal: 1.76s\tremaining: 3.62s\n",
      "327:\tlearn: 0.2563572\ttotal: 1.76s\tremaining: 3.61s\n",
      "328:\tlearn: 0.2556880\ttotal: 1.77s\tremaining: 3.6s\n",
      "329:\tlearn: 0.2548858\ttotal: 1.77s\tremaining: 3.6s\n",
      "330:\tlearn: 0.2543627\ttotal: 1.78s\tremaining: 3.59s\n",
      "331:\tlearn: 0.2540764\ttotal: 1.78s\tremaining: 3.59s\n",
      "332:\tlearn: 0.2538902\ttotal: 1.79s\tremaining: 3.58s\n",
      "333:\tlearn: 0.2535165\ttotal: 1.79s\tremaining: 3.57s\n",
      "334:\tlearn: 0.2529448\ttotal: 1.79s\tremaining: 3.56s\n",
      "335:\tlearn: 0.2525216\ttotal: 1.8s\tremaining: 3.56s\n",
      "336:\tlearn: 0.2521633\ttotal: 1.8s\tremaining: 3.55s\n",
      "337:\tlearn: 0.2516570\ttotal: 1.81s\tremaining: 3.54s\n",
      "338:\tlearn: 0.2513387\ttotal: 1.81s\tremaining: 3.53s\n",
      "339:\tlearn: 0.2511819\ttotal: 1.82s\tremaining: 3.53s\n",
      "340:\tlearn: 0.2505634\ttotal: 1.82s\tremaining: 3.52s\n",
      "341:\tlearn: 0.2502314\ttotal: 1.82s\tremaining: 3.51s\n",
      "342:\tlearn: 0.2499456\ttotal: 1.83s\tremaining: 3.5s\n",
      "343:\tlearn: 0.2494526\ttotal: 1.83s\tremaining: 3.5s\n",
      "344:\tlearn: 0.2489699\ttotal: 1.84s\tremaining: 3.49s\n",
      "345:\tlearn: 0.2484664\ttotal: 1.84s\tremaining: 3.48s\n",
      "346:\tlearn: 0.2479544\ttotal: 1.84s\tremaining: 3.47s\n",
      "347:\tlearn: 0.2475533\ttotal: 1.85s\tremaining: 3.46s\n",
      "348:\tlearn: 0.2472785\ttotal: 1.85s\tremaining: 3.46s\n",
      "349:\tlearn: 0.2468475\ttotal: 1.86s\tremaining: 3.45s\n",
      "350:\tlearn: 0.2465247\ttotal: 1.86s\tremaining: 3.44s\n",
      "351:\tlearn: 0.2461201\ttotal: 1.86s\tremaining: 3.43s\n",
      "352:\tlearn: 0.2456688\ttotal: 1.87s\tremaining: 3.42s\n",
      "353:\tlearn: 0.2452909\ttotal: 1.87s\tremaining: 3.42s\n",
      "354:\tlearn: 0.2450054\ttotal: 1.88s\tremaining: 3.41s\n",
      "355:\tlearn: 0.2447268\ttotal: 1.88s\tremaining: 3.4s\n",
      "356:\tlearn: 0.2443345\ttotal: 1.88s\tremaining: 3.39s\n",
      "357:\tlearn: 0.2438372\ttotal: 1.89s\tremaining: 3.38s\n",
      "358:\tlearn: 0.2433348\ttotal: 1.89s\tremaining: 3.38s\n",
      "359:\tlearn: 0.2430722\ttotal: 1.89s\tremaining: 3.37s\n",
      "360:\tlearn: 0.2428090\ttotal: 1.9s\tremaining: 3.36s\n",
      "361:\tlearn: 0.2425241\ttotal: 1.9s\tremaining: 3.35s\n",
      "362:\tlearn: 0.2421689\ttotal: 1.91s\tremaining: 3.34s\n",
      "363:\tlearn: 0.2419875\ttotal: 1.91s\tremaining: 3.33s\n",
      "364:\tlearn: 0.2417416\ttotal: 1.91s\tremaining: 3.33s\n",
      "365:\tlearn: 0.2411801\ttotal: 1.92s\tremaining: 3.32s\n",
      "366:\tlearn: 0.2407318\ttotal: 1.92s\tremaining: 3.31s\n",
      "367:\tlearn: 0.2403456\ttotal: 1.92s\tremaining: 3.3s\n",
      "368:\tlearn: 0.2398642\ttotal: 1.93s\tremaining: 3.29s\n",
      "369:\tlearn: 0.2396351\ttotal: 1.93s\tremaining: 3.29s\n",
      "370:\tlearn: 0.2391767\ttotal: 1.93s\tremaining: 3.28s\n",
      "371:\tlearn: 0.2384974\ttotal: 1.94s\tremaining: 3.27s\n",
      "372:\tlearn: 0.2380093\ttotal: 1.94s\tremaining: 3.26s\n",
      "373:\tlearn: 0.2374926\ttotal: 1.94s\tremaining: 3.25s\n",
      "374:\tlearn: 0.2370559\ttotal: 1.95s\tremaining: 3.25s\n",
      "375:\tlearn: 0.2368406\ttotal: 1.95s\tremaining: 3.24s\n",
      "376:\tlearn: 0.2364588\ttotal: 1.96s\tremaining: 3.23s\n",
      "377:\tlearn: 0.2361637\ttotal: 1.96s\tremaining: 3.22s\n",
      "378:\tlearn: 0.2359777\ttotal: 1.96s\tremaining: 3.22s\n",
      "379:\tlearn: 0.2356175\ttotal: 1.97s\tremaining: 3.21s\n",
      "380:\tlearn: 0.2353048\ttotal: 1.97s\tremaining: 3.2s\n",
      "381:\tlearn: 0.2350061\ttotal: 1.97s\tremaining: 3.19s\n",
      "382:\tlearn: 0.2345571\ttotal: 1.98s\tremaining: 3.19s\n",
      "383:\tlearn: 0.2343227\ttotal: 1.98s\tremaining: 3.18s\n",
      "384:\tlearn: 0.2339125\ttotal: 1.98s\tremaining: 3.17s\n",
      "385:\tlearn: 0.2336014\ttotal: 1.99s\tremaining: 3.16s\n",
      "386:\tlearn: 0.2331202\ttotal: 1.99s\tremaining: 3.15s\n",
      "387:\tlearn: 0.2327584\ttotal: 1.99s\tremaining: 3.15s\n",
      "388:\tlearn: 0.2324077\ttotal: 2s\tremaining: 3.14s\n",
      "389:\tlearn: 0.2322712\ttotal: 2s\tremaining: 3.13s\n",
      "390:\tlearn: 0.2321189\ttotal: 2s\tremaining: 3.12s\n",
      "391:\tlearn: 0.2316086\ttotal: 2.01s\tremaining: 3.12s\n",
      "392:\tlearn: 0.2313737\ttotal: 2.01s\tremaining: 3.11s\n",
      "393:\tlearn: 0.2307760\ttotal: 2.02s\tremaining: 3.1s\n",
      "394:\tlearn: 0.2303051\ttotal: 2.02s\tremaining: 3.09s\n",
      "395:\tlearn: 0.2300634\ttotal: 2.02s\tremaining: 3.08s\n",
      "396:\tlearn: 0.2299007\ttotal: 2.02s\tremaining: 3.08s\n",
      "397:\tlearn: 0.2295236\ttotal: 2.03s\tremaining: 3.07s\n",
      "398:\tlearn: 0.2291064\ttotal: 2.03s\tremaining: 3.06s\n",
      "399:\tlearn: 0.2287672\ttotal: 2.03s\tremaining: 3.05s\n",
      "400:\tlearn: 0.2284341\ttotal: 2.04s\tremaining: 3.04s\n"
     ]
    },
    {
     "name": "stdout",
     "output_type": "stream",
     "text": [
      "401:\tlearn: 0.2281288\ttotal: 2.04s\tremaining: 3.04s\n",
      "402:\tlearn: 0.2277583\ttotal: 2.04s\tremaining: 3.03s\n",
      "403:\tlearn: 0.2275353\ttotal: 2.05s\tremaining: 3.02s\n",
      "404:\tlearn: 0.2271985\ttotal: 2.05s\tremaining: 3.02s\n",
      "405:\tlearn: 0.2269339\ttotal: 2.06s\tremaining: 3.01s\n",
      "406:\tlearn: 0.2265498\ttotal: 2.06s\tremaining: 3s\n",
      "407:\tlearn: 0.2261321\ttotal: 2.06s\tremaining: 3s\n",
      "408:\tlearn: 0.2258332\ttotal: 2.07s\tremaining: 2.99s\n",
      "409:\tlearn: 0.2254054\ttotal: 2.07s\tremaining: 2.98s\n",
      "410:\tlearn: 0.2249026\ttotal: 2.08s\tremaining: 2.97s\n",
      "411:\tlearn: 0.2245791\ttotal: 2.08s\tremaining: 2.97s\n",
      "412:\tlearn: 0.2241450\ttotal: 2.08s\tremaining: 2.96s\n",
      "413:\tlearn: 0.2238720\ttotal: 2.08s\tremaining: 2.95s\n",
      "414:\tlearn: 0.2234298\ttotal: 2.09s\tremaining: 2.94s\n",
      "415:\tlearn: 0.2229845\ttotal: 2.09s\tremaining: 2.94s\n",
      "416:\tlearn: 0.2225266\ttotal: 2.1s\tremaining: 2.93s\n",
      "417:\tlearn: 0.2222183\ttotal: 2.1s\tremaining: 2.92s\n",
      "418:\tlearn: 0.2221542\ttotal: 2.1s\tremaining: 2.91s\n",
      "419:\tlearn: 0.2217661\ttotal: 2.1s\tremaining: 2.91s\n",
      "420:\tlearn: 0.2213947\ttotal: 2.11s\tremaining: 2.9s\n",
      "421:\tlearn: 0.2208603\ttotal: 2.11s\tremaining: 2.89s\n",
      "422:\tlearn: 0.2205140\ttotal: 2.12s\tremaining: 2.88s\n",
      "423:\tlearn: 0.2204236\ttotal: 2.12s\tremaining: 2.88s\n",
      "424:\tlearn: 0.2200210\ttotal: 2.12s\tremaining: 2.87s\n",
      "425:\tlearn: 0.2196333\ttotal: 2.12s\tremaining: 2.86s\n",
      "426:\tlearn: 0.2192893\ttotal: 2.13s\tremaining: 2.85s\n",
      "427:\tlearn: 0.2190190\ttotal: 2.13s\tremaining: 2.85s\n",
      "428:\tlearn: 0.2185351\ttotal: 2.13s\tremaining: 2.84s\n",
      "429:\tlearn: 0.2180398\ttotal: 2.14s\tremaining: 2.83s\n",
      "430:\tlearn: 0.2177810\ttotal: 2.14s\tremaining: 2.83s\n",
      "431:\tlearn: 0.2173670\ttotal: 2.14s\tremaining: 2.82s\n",
      "432:\tlearn: 0.2171359\ttotal: 2.15s\tremaining: 2.81s\n",
      "433:\tlearn: 0.2166624\ttotal: 2.15s\tremaining: 2.81s\n",
      "434:\tlearn: 0.2161810\ttotal: 2.15s\tremaining: 2.8s\n",
      "435:\tlearn: 0.2159653\ttotal: 2.16s\tremaining: 2.79s\n",
      "436:\tlearn: 0.2155348\ttotal: 2.16s\tremaining: 2.79s\n",
      "437:\tlearn: 0.2150148\ttotal: 2.17s\tremaining: 2.78s\n",
      "438:\tlearn: 0.2144695\ttotal: 2.17s\tremaining: 2.77s\n",
      "439:\tlearn: 0.2140036\ttotal: 2.17s\tremaining: 2.77s\n",
      "440:\tlearn: 0.2136827\ttotal: 2.18s\tremaining: 2.76s\n",
      "441:\tlearn: 0.2132952\ttotal: 2.18s\tremaining: 2.75s\n",
      "442:\tlearn: 0.2130082\ttotal: 2.18s\tremaining: 2.75s\n",
      "443:\tlearn: 0.2124988\ttotal: 2.19s\tremaining: 2.74s\n",
      "444:\tlearn: 0.2122128\ttotal: 2.19s\tremaining: 2.73s\n",
      "445:\tlearn: 0.2120243\ttotal: 2.19s\tremaining: 2.72s\n",
      "446:\tlearn: 0.2117554\ttotal: 2.2s\tremaining: 2.72s\n",
      "447:\tlearn: 0.2113968\ttotal: 2.2s\tremaining: 2.71s\n",
      "448:\tlearn: 0.2112463\ttotal: 2.2s\tremaining: 2.7s\n",
      "449:\tlearn: 0.2109038\ttotal: 2.21s\tremaining: 2.7s\n",
      "450:\tlearn: 0.2104446\ttotal: 2.21s\tremaining: 2.69s\n",
      "451:\tlearn: 0.2102177\ttotal: 2.21s\tremaining: 2.69s\n",
      "452:\tlearn: 0.2100262\ttotal: 2.22s\tremaining: 2.68s\n",
      "453:\tlearn: 0.2097898\ttotal: 2.22s\tremaining: 2.67s\n",
      "454:\tlearn: 0.2095237\ttotal: 2.23s\tremaining: 2.67s\n",
      "455:\tlearn: 0.2092610\ttotal: 2.23s\tremaining: 2.66s\n",
      "456:\tlearn: 0.2090283\ttotal: 2.23s\tremaining: 2.65s\n",
      "457:\tlearn: 0.2086560\ttotal: 2.24s\tremaining: 2.65s\n",
      "458:\tlearn: 0.2085313\ttotal: 2.24s\tremaining: 2.64s\n",
      "459:\tlearn: 0.2081597\ttotal: 2.24s\tremaining: 2.63s\n",
      "460:\tlearn: 0.2076947\ttotal: 2.25s\tremaining: 2.63s\n",
      "461:\tlearn: 0.2073158\ttotal: 2.25s\tremaining: 2.62s\n",
      "462:\tlearn: 0.2071038\ttotal: 2.26s\tremaining: 2.62s\n",
      "463:\tlearn: 0.2068247\ttotal: 2.26s\tremaining: 2.61s\n",
      "464:\tlearn: 0.2063997\ttotal: 2.26s\tremaining: 2.6s\n",
      "465:\tlearn: 0.2061783\ttotal: 2.27s\tremaining: 2.6s\n",
      "466:\tlearn: 0.2060202\ttotal: 2.27s\tremaining: 2.59s\n",
      "467:\tlearn: 0.2056857\ttotal: 2.27s\tremaining: 2.58s\n",
      "468:\tlearn: 0.2055848\ttotal: 2.28s\tremaining: 2.58s\n",
      "469:\tlearn: 0.2051328\ttotal: 2.28s\tremaining: 2.57s\n",
      "470:\tlearn: 0.2047221\ttotal: 2.29s\tremaining: 2.57s\n",
      "471:\tlearn: 0.2043706\ttotal: 2.29s\tremaining: 2.56s\n",
      "472:\tlearn: 0.2040244\ttotal: 2.29s\tremaining: 2.55s\n",
      "473:\tlearn: 0.2037499\ttotal: 2.29s\tremaining: 2.55s\n",
      "474:\tlearn: 0.2036188\ttotal: 2.3s\tremaining: 2.54s\n",
      "475:\tlearn: 0.2034951\ttotal: 2.3s\tremaining: 2.53s\n",
      "476:\tlearn: 0.2031902\ttotal: 2.31s\tremaining: 2.53s\n",
      "477:\tlearn: 0.2027240\ttotal: 2.31s\tremaining: 2.52s\n",
      "478:\tlearn: 0.2024431\ttotal: 2.31s\tremaining: 2.52s\n",
      "479:\tlearn: 0.2020847\ttotal: 2.31s\tremaining: 2.51s\n",
      "480:\tlearn: 0.2019304\ttotal: 2.32s\tremaining: 2.5s\n",
      "481:\tlearn: 0.2017366\ttotal: 2.32s\tremaining: 2.5s\n",
      "482:\tlearn: 0.2014354\ttotal: 2.33s\tremaining: 2.49s\n",
      "483:\tlearn: 0.2012773\ttotal: 2.33s\tremaining: 2.48s\n",
      "484:\tlearn: 0.2010825\ttotal: 2.33s\tremaining: 2.48s\n",
      "485:\tlearn: 0.2006707\ttotal: 2.34s\tremaining: 2.47s\n",
      "486:\tlearn: 0.2004499\ttotal: 2.34s\tremaining: 2.46s\n",
      "487:\tlearn: 0.2002501\ttotal: 2.34s\tremaining: 2.46s\n",
      "488:\tlearn: 0.2000063\ttotal: 2.35s\tremaining: 2.45s\n",
      "489:\tlearn: 0.1997955\ttotal: 2.35s\tremaining: 2.45s\n",
      "490:\tlearn: 0.1994135\ttotal: 2.35s\tremaining: 2.44s\n",
      "491:\tlearn: 0.1991080\ttotal: 2.36s\tremaining: 2.44s\n",
      "492:\tlearn: 0.1988821\ttotal: 2.36s\tremaining: 2.43s\n",
      "493:\tlearn: 0.1987417\ttotal: 2.37s\tremaining: 2.42s\n",
      "494:\tlearn: 0.1985834\ttotal: 2.37s\tremaining: 2.42s\n",
      "495:\tlearn: 0.1982877\ttotal: 2.37s\tremaining: 2.41s\n",
      "496:\tlearn: 0.1981967\ttotal: 2.38s\tremaining: 2.4s\n",
      "497:\tlearn: 0.1978099\ttotal: 2.38s\tremaining: 2.4s\n",
      "498:\tlearn: 0.1975528\ttotal: 2.38s\tremaining: 2.39s\n",
      "499:\tlearn: 0.1973089\ttotal: 2.39s\tremaining: 2.39s\n",
      "500:\tlearn: 0.1971517\ttotal: 2.39s\tremaining: 2.38s\n",
      "501:\tlearn: 0.1966793\ttotal: 2.4s\tremaining: 2.38s\n",
      "502:\tlearn: 0.1960946\ttotal: 2.4s\tremaining: 2.37s\n",
      "503:\tlearn: 0.1956665\ttotal: 2.4s\tremaining: 2.37s\n",
      "504:\tlearn: 0.1954976\ttotal: 2.41s\tremaining: 2.36s\n",
      "505:\tlearn: 0.1952750\ttotal: 2.41s\tremaining: 2.35s\n",
      "506:\tlearn: 0.1949939\ttotal: 2.41s\tremaining: 2.35s\n",
      "507:\tlearn: 0.1948014\ttotal: 2.42s\tremaining: 2.34s\n",
      "508:\tlearn: 0.1943862\ttotal: 2.42s\tremaining: 2.33s\n",
      "509:\tlearn: 0.1940246\ttotal: 2.42s\tremaining: 2.33s\n",
      "510:\tlearn: 0.1937121\ttotal: 2.43s\tremaining: 2.32s\n",
      "511:\tlearn: 0.1933989\ttotal: 2.43s\tremaining: 2.32s\n",
      "512:\tlearn: 0.1931090\ttotal: 2.44s\tremaining: 2.31s\n",
      "513:\tlearn: 0.1926967\ttotal: 2.44s\tremaining: 2.31s\n",
      "514:\tlearn: 0.1924904\ttotal: 2.44s\tremaining: 2.3s\n",
      "515:\tlearn: 0.1921199\ttotal: 2.44s\tremaining: 2.29s\n",
      "516:\tlearn: 0.1918876\ttotal: 2.45s\tremaining: 2.29s\n",
      "517:\tlearn: 0.1917495\ttotal: 2.45s\tremaining: 2.28s\n",
      "518:\tlearn: 0.1913669\ttotal: 2.46s\tremaining: 2.27s\n",
      "519:\tlearn: 0.1911668\ttotal: 2.46s\tremaining: 2.27s\n",
      "520:\tlearn: 0.1910488\ttotal: 2.46s\tremaining: 2.26s\n",
      "521:\tlearn: 0.1908919\ttotal: 2.46s\tremaining: 2.26s\n",
      "522:\tlearn: 0.1904788\ttotal: 2.47s\tremaining: 2.25s\n",
      "523:\tlearn: 0.1901236\ttotal: 2.47s\tremaining: 2.25s\n",
      "524:\tlearn: 0.1898101\ttotal: 2.48s\tremaining: 2.24s\n",
      "525:\tlearn: 0.1896282\ttotal: 2.48s\tremaining: 2.23s\n",
      "526:\tlearn: 0.1892680\ttotal: 2.48s\tremaining: 2.23s\n",
      "527:\tlearn: 0.1889766\ttotal: 2.48s\tremaining: 2.22s\n",
      "528:\tlearn: 0.1885643\ttotal: 2.49s\tremaining: 2.22s\n",
      "529:\tlearn: 0.1883517\ttotal: 2.49s\tremaining: 2.21s\n",
      "530:\tlearn: 0.1881577\ttotal: 2.5s\tremaining: 2.21s\n",
      "531:\tlearn: 0.1879656\ttotal: 2.5s\tremaining: 2.2s\n",
      "532:\tlearn: 0.1877728\ttotal: 2.5s\tremaining: 2.19s\n",
      "533:\tlearn: 0.1874772\ttotal: 2.51s\tremaining: 2.19s\n",
      "534:\tlearn: 0.1872518\ttotal: 2.51s\tremaining: 2.18s\n",
      "535:\tlearn: 0.1869376\ttotal: 2.52s\tremaining: 2.18s\n",
      "536:\tlearn: 0.1866928\ttotal: 2.52s\tremaining: 2.17s\n",
      "537:\tlearn: 0.1865613\ttotal: 2.52s\tremaining: 2.17s\n",
      "538:\tlearn: 0.1863593\ttotal: 2.53s\tremaining: 2.16s\n",
      "539:\tlearn: 0.1861896\ttotal: 2.53s\tremaining: 2.16s\n",
      "540:\tlearn: 0.1858946\ttotal: 2.53s\tremaining: 2.15s\n",
      "541:\tlearn: 0.1855717\ttotal: 2.54s\tremaining: 2.14s\n",
      "542:\tlearn: 0.1853585\ttotal: 2.54s\tremaining: 2.14s\n",
      "543:\tlearn: 0.1850621\ttotal: 2.55s\tremaining: 2.13s\n",
      "544:\tlearn: 0.1848286\ttotal: 2.55s\tremaining: 2.13s\n",
      "545:\tlearn: 0.1846648\ttotal: 2.55s\tremaining: 2.12s\n",
      "546:\tlearn: 0.1845530\ttotal: 2.56s\tremaining: 2.12s\n",
      "547:\tlearn: 0.1844474\ttotal: 2.56s\tremaining: 2.11s\n",
      "548:\tlearn: 0.1843129\ttotal: 2.57s\tremaining: 2.11s\n",
      "549:\tlearn: 0.1840527\ttotal: 2.58s\tremaining: 2.11s\n",
      "550:\tlearn: 0.1838208\ttotal: 2.59s\tremaining: 2.11s\n",
      "551:\tlearn: 0.1836745\ttotal: 2.59s\tremaining: 2.1s\n",
      "552:\tlearn: 0.1835553\ttotal: 2.6s\tremaining: 2.1s\n",
      "553:\tlearn: 0.1833094\ttotal: 2.6s\tremaining: 2.09s\n",
      "554:\tlearn: 0.1832483\ttotal: 2.6s\tremaining: 2.09s\n",
      "555:\tlearn: 0.1830445\ttotal: 2.61s\tremaining: 2.08s\n",
      "556:\tlearn: 0.1830208\ttotal: 2.61s\tremaining: 2.08s\n",
      "557:\tlearn: 0.1828215\ttotal: 2.61s\tremaining: 2.07s\n",
      "558:\tlearn: 0.1825481\ttotal: 2.62s\tremaining: 2.07s\n",
      "559:\tlearn: 0.1823877\ttotal: 2.62s\tremaining: 2.06s\n",
      "560:\tlearn: 0.1820027\ttotal: 2.63s\tremaining: 2.06s\n",
      "561:\tlearn: 0.1818902\ttotal: 2.63s\tremaining: 2.05s\n",
      "562:\tlearn: 0.1817648\ttotal: 2.63s\tremaining: 2.04s\n",
      "563:\tlearn: 0.1815635\ttotal: 2.64s\tremaining: 2.04s\n",
      "564:\tlearn: 0.1812423\ttotal: 2.64s\tremaining: 2.03s\n",
      "565:\tlearn: 0.1810946\ttotal: 2.65s\tremaining: 2.03s\n",
      "566:\tlearn: 0.1808115\ttotal: 2.65s\tremaining: 2.02s\n",
      "567:\tlearn: 0.1807341\ttotal: 2.65s\tremaining: 2.02s\n",
      "568:\tlearn: 0.1805483\ttotal: 2.65s\tremaining: 2.01s\n",
      "569:\tlearn: 0.1804073\ttotal: 2.66s\tremaining: 2.01s\n",
      "570:\tlearn: 0.1802889\ttotal: 2.66s\tremaining: 2s\n",
      "571:\tlearn: 0.1800835\ttotal: 2.67s\tremaining: 2s\n",
      "572:\tlearn: 0.1798552\ttotal: 2.67s\tremaining: 1.99s\n",
      "573:\tlearn: 0.1797839\ttotal: 2.67s\tremaining: 1.99s\n",
      "574:\tlearn: 0.1795005\ttotal: 2.68s\tremaining: 1.98s\n",
      "575:\tlearn: 0.1793926\ttotal: 2.68s\tremaining: 1.97s\n",
      "576:\tlearn: 0.1791015\ttotal: 2.69s\tremaining: 1.97s\n",
      "577:\tlearn: 0.1789684\ttotal: 2.69s\tremaining: 1.96s\n",
      "578:\tlearn: 0.1786045\ttotal: 2.69s\tremaining: 1.96s\n",
      "579:\tlearn: 0.1782544\ttotal: 2.7s\tremaining: 1.95s\n",
      "580:\tlearn: 0.1779407\ttotal: 2.7s\tremaining: 1.95s\n",
      "581:\tlearn: 0.1778636\ttotal: 2.71s\tremaining: 1.95s\n",
      "582:\tlearn: 0.1775907\ttotal: 2.71s\tremaining: 1.94s\n"
     ]
    },
    {
     "name": "stdout",
     "output_type": "stream",
     "text": [
      "583:\tlearn: 0.1773114\ttotal: 2.72s\tremaining: 1.94s\n",
      "584:\tlearn: 0.1771434\ttotal: 2.72s\tremaining: 1.93s\n",
      "585:\tlearn: 0.1770302\ttotal: 2.73s\tremaining: 1.93s\n",
      "586:\tlearn: 0.1767464\ttotal: 2.73s\tremaining: 1.92s\n",
      "587:\tlearn: 0.1765472\ttotal: 2.73s\tremaining: 1.92s\n",
      "588:\tlearn: 0.1763537\ttotal: 2.74s\tremaining: 1.91s\n",
      "589:\tlearn: 0.1761475\ttotal: 2.75s\tremaining: 1.91s\n",
      "590:\tlearn: 0.1758615\ttotal: 2.75s\tremaining: 1.9s\n",
      "591:\tlearn: 0.1755175\ttotal: 2.75s\tremaining: 1.9s\n",
      "592:\tlearn: 0.1753053\ttotal: 2.76s\tremaining: 1.89s\n",
      "593:\tlearn: 0.1750551\ttotal: 2.76s\tremaining: 1.89s\n",
      "594:\tlearn: 0.1749007\ttotal: 2.77s\tremaining: 1.88s\n",
      "595:\tlearn: 0.1746487\ttotal: 2.77s\tremaining: 1.88s\n",
      "596:\tlearn: 0.1742986\ttotal: 2.77s\tremaining: 1.87s\n",
      "597:\tlearn: 0.1739589\ttotal: 2.78s\tremaining: 1.87s\n",
      "598:\tlearn: 0.1737327\ttotal: 2.78s\tremaining: 1.86s\n",
      "599:\tlearn: 0.1735455\ttotal: 2.78s\tremaining: 1.86s\n",
      "600:\tlearn: 0.1733716\ttotal: 2.79s\tremaining: 1.85s\n",
      "601:\tlearn: 0.1732658\ttotal: 2.79s\tremaining: 1.84s\n",
      "602:\tlearn: 0.1731518\ttotal: 2.79s\tremaining: 1.84s\n",
      "603:\tlearn: 0.1729767\ttotal: 2.8s\tremaining: 1.83s\n",
      "604:\tlearn: 0.1726625\ttotal: 2.8s\tremaining: 1.83s\n",
      "605:\tlearn: 0.1724300\ttotal: 2.81s\tremaining: 1.82s\n",
      "606:\tlearn: 0.1723347\ttotal: 2.81s\tremaining: 1.82s\n",
      "607:\tlearn: 0.1723033\ttotal: 2.81s\tremaining: 1.81s\n",
      "608:\tlearn: 0.1720156\ttotal: 2.82s\tremaining: 1.81s\n",
      "609:\tlearn: 0.1717909\ttotal: 2.82s\tremaining: 1.8s\n",
      "610:\tlearn: 0.1714062\ttotal: 2.82s\tremaining: 1.8s\n",
      "611:\tlearn: 0.1712899\ttotal: 2.83s\tremaining: 1.79s\n",
      "612:\tlearn: 0.1710317\ttotal: 2.83s\tremaining: 1.79s\n",
      "613:\tlearn: 0.1707953\ttotal: 2.83s\tremaining: 1.78s\n",
      "614:\tlearn: 0.1705283\ttotal: 2.84s\tremaining: 1.78s\n",
      "615:\tlearn: 0.1702623\ttotal: 2.84s\tremaining: 1.77s\n",
      "616:\tlearn: 0.1700089\ttotal: 2.85s\tremaining: 1.77s\n",
      "617:\tlearn: 0.1697267\ttotal: 2.85s\tremaining: 1.76s\n",
      "618:\tlearn: 0.1695203\ttotal: 2.85s\tremaining: 1.76s\n",
      "619:\tlearn: 0.1692871\ttotal: 2.86s\tremaining: 1.75s\n",
      "620:\tlearn: 0.1691353\ttotal: 2.86s\tremaining: 1.75s\n",
      "621:\tlearn: 0.1690250\ttotal: 2.87s\tremaining: 1.74s\n",
      "622:\tlearn: 0.1689391\ttotal: 2.87s\tremaining: 1.74s\n",
      "623:\tlearn: 0.1687713\ttotal: 2.87s\tremaining: 1.73s\n",
      "624:\tlearn: 0.1686486\ttotal: 2.88s\tremaining: 1.73s\n",
      "625:\tlearn: 0.1684853\ttotal: 2.88s\tremaining: 1.72s\n",
      "626:\tlearn: 0.1681732\ttotal: 2.88s\tremaining: 1.72s\n",
      "627:\tlearn: 0.1678612\ttotal: 2.89s\tremaining: 1.71s\n",
      "628:\tlearn: 0.1677180\ttotal: 2.89s\tremaining: 1.71s\n",
      "629:\tlearn: 0.1674513\ttotal: 2.9s\tremaining: 1.7s\n",
      "630:\tlearn: 0.1673083\ttotal: 2.9s\tremaining: 1.7s\n",
      "631:\tlearn: 0.1671241\ttotal: 2.9s\tremaining: 1.69s\n",
      "632:\tlearn: 0.1669794\ttotal: 2.91s\tremaining: 1.69s\n",
      "633:\tlearn: 0.1668089\ttotal: 2.91s\tremaining: 1.68s\n",
      "634:\tlearn: 0.1665487\ttotal: 2.92s\tremaining: 1.68s\n",
      "635:\tlearn: 0.1664770\ttotal: 2.92s\tremaining: 1.67s\n",
      "636:\tlearn: 0.1662692\ttotal: 2.92s\tremaining: 1.67s\n",
      "637:\tlearn: 0.1661019\ttotal: 2.93s\tremaining: 1.66s\n",
      "638:\tlearn: 0.1660075\ttotal: 2.93s\tremaining: 1.66s\n",
      "639:\tlearn: 0.1657510\ttotal: 2.93s\tremaining: 1.65s\n",
      "640:\tlearn: 0.1655350\ttotal: 2.94s\tremaining: 1.64s\n",
      "641:\tlearn: 0.1653151\ttotal: 2.94s\tremaining: 1.64s\n",
      "642:\tlearn: 0.1651055\ttotal: 2.94s\tremaining: 1.64s\n",
      "643:\tlearn: 0.1648958\ttotal: 2.95s\tremaining: 1.63s\n",
      "644:\tlearn: 0.1646728\ttotal: 2.95s\tremaining: 1.62s\n",
      "645:\tlearn: 0.1643980\ttotal: 2.96s\tremaining: 1.62s\n",
      "646:\tlearn: 0.1642060\ttotal: 2.96s\tremaining: 1.61s\n",
      "647:\tlearn: 0.1641815\ttotal: 2.96s\tremaining: 1.61s\n",
      "648:\tlearn: 0.1639875\ttotal: 2.97s\tremaining: 1.6s\n",
      "649:\tlearn: 0.1636821\ttotal: 2.97s\tremaining: 1.6s\n",
      "650:\tlearn: 0.1633963\ttotal: 2.97s\tremaining: 1.59s\n",
      "651:\tlearn: 0.1631734\ttotal: 2.98s\tremaining: 1.59s\n",
      "652:\tlearn: 0.1630730\ttotal: 2.98s\tremaining: 1.58s\n",
      "653:\tlearn: 0.1629481\ttotal: 2.98s\tremaining: 1.58s\n",
      "654:\tlearn: 0.1627381\ttotal: 2.99s\tremaining: 1.57s\n",
      "655:\tlearn: 0.1625980\ttotal: 2.99s\tremaining: 1.57s\n",
      "656:\tlearn: 0.1624542\ttotal: 3s\tremaining: 1.56s\n",
      "657:\tlearn: 0.1621616\ttotal: 3s\tremaining: 1.56s\n",
      "658:\tlearn: 0.1621320\ttotal: 3s\tremaining: 1.55s\n",
      "659:\tlearn: 0.1618981\ttotal: 3.01s\tremaining: 1.55s\n",
      "660:\tlearn: 0.1617530\ttotal: 3.01s\tremaining: 1.54s\n",
      "661:\tlearn: 0.1615346\ttotal: 3.01s\tremaining: 1.54s\n",
      "662:\tlearn: 0.1612687\ttotal: 3.02s\tremaining: 1.53s\n",
      "663:\tlearn: 0.1612284\ttotal: 3.02s\tremaining: 1.53s\n",
      "664:\tlearn: 0.1610086\ttotal: 3.02s\tremaining: 1.52s\n",
      "665:\tlearn: 0.1607792\ttotal: 3.03s\tremaining: 1.52s\n",
      "666:\tlearn: 0.1604115\ttotal: 3.03s\tremaining: 1.51s\n",
      "667:\tlearn: 0.1602902\ttotal: 3.04s\tremaining: 1.51s\n",
      "668:\tlearn: 0.1599977\ttotal: 3.04s\tremaining: 1.5s\n",
      "669:\tlearn: 0.1597835\ttotal: 3.04s\tremaining: 1.5s\n",
      "670:\tlearn: 0.1596050\ttotal: 3.05s\tremaining: 1.49s\n",
      "671:\tlearn: 0.1595192\ttotal: 3.05s\tremaining: 1.49s\n",
      "672:\tlearn: 0.1593738\ttotal: 3.06s\tremaining: 1.49s\n",
      "673:\tlearn: 0.1592322\ttotal: 3.06s\tremaining: 1.48s\n",
      "674:\tlearn: 0.1589634\ttotal: 3.06s\tremaining: 1.47s\n",
      "675:\tlearn: 0.1586847\ttotal: 3.07s\tremaining: 1.47s\n",
      "676:\tlearn: 0.1585980\ttotal: 3.07s\tremaining: 1.47s\n",
      "677:\tlearn: 0.1584221\ttotal: 3.08s\tremaining: 1.46s\n",
      "678:\tlearn: 0.1582818\ttotal: 3.09s\tremaining: 1.46s\n",
      "679:\tlearn: 0.1579664\ttotal: 3.09s\tremaining: 1.46s\n",
      "680:\tlearn: 0.1578831\ttotal: 3.1s\tremaining: 1.45s\n",
      "681:\tlearn: 0.1576035\ttotal: 3.1s\tremaining: 1.45s\n",
      "682:\tlearn: 0.1575295\ttotal: 3.11s\tremaining: 1.44s\n",
      "683:\tlearn: 0.1573736\ttotal: 3.11s\tremaining: 1.44s\n",
      "684:\tlearn: 0.1572228\ttotal: 3.12s\tremaining: 1.43s\n",
      "685:\tlearn: 0.1569874\ttotal: 3.12s\tremaining: 1.43s\n",
      "686:\tlearn: 0.1567499\ttotal: 3.13s\tremaining: 1.42s\n",
      "687:\tlearn: 0.1564982\ttotal: 3.13s\tremaining: 1.42s\n",
      "688:\tlearn: 0.1562468\ttotal: 3.13s\tremaining: 1.41s\n",
      "689:\tlearn: 0.1560545\ttotal: 3.14s\tremaining: 1.41s\n",
      "690:\tlearn: 0.1557788\ttotal: 3.14s\tremaining: 1.41s\n",
      "691:\tlearn: 0.1556094\ttotal: 3.15s\tremaining: 1.4s\n",
      "692:\tlearn: 0.1553813\ttotal: 3.15s\tremaining: 1.4s\n",
      "693:\tlearn: 0.1552082\ttotal: 3.15s\tremaining: 1.39s\n",
      "694:\tlearn: 0.1550634\ttotal: 3.16s\tremaining: 1.39s\n",
      "695:\tlearn: 0.1547921\ttotal: 3.16s\tremaining: 1.38s\n",
      "696:\tlearn: 0.1546654\ttotal: 3.17s\tremaining: 1.38s\n",
      "697:\tlearn: 0.1545345\ttotal: 3.17s\tremaining: 1.37s\n",
      "698:\tlearn: 0.1543044\ttotal: 3.17s\tremaining: 1.37s\n",
      "699:\tlearn: 0.1541258\ttotal: 3.18s\tremaining: 1.36s\n",
      "700:\tlearn: 0.1539189\ttotal: 3.18s\tremaining: 1.36s\n",
      "701:\tlearn: 0.1537721\ttotal: 3.19s\tremaining: 1.35s\n",
      "702:\tlearn: 0.1536622\ttotal: 3.19s\tremaining: 1.35s\n",
      "703:\tlearn: 0.1535175\ttotal: 3.19s\tremaining: 1.34s\n",
      "704:\tlearn: 0.1533610\ttotal: 3.2s\tremaining: 1.34s\n",
      "705:\tlearn: 0.1530964\ttotal: 3.2s\tremaining: 1.33s\n",
      "706:\tlearn: 0.1528630\ttotal: 3.21s\tremaining: 1.33s\n",
      "707:\tlearn: 0.1527241\ttotal: 3.21s\tremaining: 1.32s\n",
      "708:\tlearn: 0.1525086\ttotal: 3.21s\tremaining: 1.32s\n",
      "709:\tlearn: 0.1523751\ttotal: 3.22s\tremaining: 1.31s\n",
      "710:\tlearn: 0.1521604\ttotal: 3.22s\tremaining: 1.31s\n",
      "711:\tlearn: 0.1519224\ttotal: 3.23s\tremaining: 1.3s\n",
      "712:\tlearn: 0.1518772\ttotal: 3.23s\tremaining: 1.3s\n",
      "713:\tlearn: 0.1516699\ttotal: 3.23s\tremaining: 1.29s\n",
      "714:\tlearn: 0.1515539\ttotal: 3.23s\tremaining: 1.29s\n",
      "715:\tlearn: 0.1512598\ttotal: 3.24s\tremaining: 1.28s\n",
      "716:\tlearn: 0.1510029\ttotal: 3.24s\tremaining: 1.28s\n",
      "717:\tlearn: 0.1508523\ttotal: 3.25s\tremaining: 1.27s\n",
      "718:\tlearn: 0.1506811\ttotal: 3.25s\tremaining: 1.27s\n",
      "719:\tlearn: 0.1506250\ttotal: 3.26s\tremaining: 1.27s\n",
      "720:\tlearn: 0.1505242\ttotal: 3.26s\tremaining: 1.26s\n",
      "721:\tlearn: 0.1504381\ttotal: 3.26s\tremaining: 1.26s\n",
      "722:\tlearn: 0.1503447\ttotal: 3.27s\tremaining: 1.25s\n",
      "723:\tlearn: 0.1501676\ttotal: 3.27s\tremaining: 1.25s\n",
      "724:\tlearn: 0.1500046\ttotal: 3.28s\tremaining: 1.24s\n",
      "725:\tlearn: 0.1498786\ttotal: 3.28s\tremaining: 1.24s\n",
      "726:\tlearn: 0.1496505\ttotal: 3.28s\tremaining: 1.23s\n",
      "727:\tlearn: 0.1494230\ttotal: 3.29s\tremaining: 1.23s\n",
      "728:\tlearn: 0.1491966\ttotal: 3.29s\tremaining: 1.22s\n",
      "729:\tlearn: 0.1488815\ttotal: 3.3s\tremaining: 1.22s\n",
      "730:\tlearn: 0.1487083\ttotal: 3.3s\tremaining: 1.21s\n",
      "731:\tlearn: 0.1484847\ttotal: 3.3s\tremaining: 1.21s\n",
      "732:\tlearn: 0.1482640\ttotal: 3.31s\tremaining: 1.2s\n",
      "733:\tlearn: 0.1480518\ttotal: 3.31s\tremaining: 1.2s\n",
      "734:\tlearn: 0.1478417\ttotal: 3.31s\tremaining: 1.2s\n",
      "735:\tlearn: 0.1476106\ttotal: 3.32s\tremaining: 1.19s\n",
      "736:\tlearn: 0.1473620\ttotal: 3.32s\tremaining: 1.19s\n",
      "737:\tlearn: 0.1472156\ttotal: 3.33s\tremaining: 1.18s\n",
      "738:\tlearn: 0.1469866\ttotal: 3.33s\tremaining: 1.18s\n",
      "739:\tlearn: 0.1468865\ttotal: 3.33s\tremaining: 1.17s\n",
      "740:\tlearn: 0.1466543\ttotal: 3.34s\tremaining: 1.17s\n",
      "741:\tlearn: 0.1464542\ttotal: 3.34s\tremaining: 1.16s\n",
      "742:\tlearn: 0.1461840\ttotal: 3.35s\tremaining: 1.16s\n",
      "743:\tlearn: 0.1460238\ttotal: 3.35s\tremaining: 1.15s\n",
      "744:\tlearn: 0.1458831\ttotal: 3.36s\tremaining: 1.15s\n",
      "745:\tlearn: 0.1456529\ttotal: 3.36s\tremaining: 1.14s\n",
      "746:\tlearn: 0.1455256\ttotal: 3.37s\tremaining: 1.14s\n",
      "747:\tlearn: 0.1453172\ttotal: 3.37s\tremaining: 1.14s\n",
      "748:\tlearn: 0.1451872\ttotal: 3.38s\tremaining: 1.13s\n"
     ]
    },
    {
     "name": "stdout",
     "output_type": "stream",
     "text": [
      "749:\tlearn: 0.1450255\ttotal: 3.38s\tremaining: 1.13s\n",
      "750:\tlearn: 0.1447948\ttotal: 3.38s\tremaining: 1.12s\n",
      "751:\tlearn: 0.1446495\ttotal: 3.39s\tremaining: 1.12s\n",
      "752:\tlearn: 0.1444699\ttotal: 3.39s\tremaining: 1.11s\n",
      "753:\tlearn: 0.1443617\ttotal: 3.4s\tremaining: 1.11s\n",
      "754:\tlearn: 0.1441775\ttotal: 3.4s\tremaining: 1.1s\n",
      "755:\tlearn: 0.1439715\ttotal: 3.41s\tremaining: 1.1s\n",
      "756:\tlearn: 0.1437577\ttotal: 3.41s\tremaining: 1.09s\n",
      "757:\tlearn: 0.1436246\ttotal: 3.42s\tremaining: 1.09s\n",
      "758:\tlearn: 0.1433913\ttotal: 3.42s\tremaining: 1.09s\n",
      "759:\tlearn: 0.1432222\ttotal: 3.43s\tremaining: 1.08s\n",
      "760:\tlearn: 0.1429808\ttotal: 3.43s\tremaining: 1.08s\n",
      "761:\tlearn: 0.1429046\ttotal: 3.44s\tremaining: 1.07s\n",
      "762:\tlearn: 0.1427154\ttotal: 3.44s\tremaining: 1.07s\n",
      "763:\tlearn: 0.1425325\ttotal: 3.44s\tremaining: 1.06s\n",
      "764:\tlearn: 0.1422975\ttotal: 3.45s\tremaining: 1.06s\n",
      "765:\tlearn: 0.1422124\ttotal: 3.45s\tremaining: 1.05s\n",
      "766:\tlearn: 0.1420938\ttotal: 3.46s\tremaining: 1.05s\n",
      "767:\tlearn: 0.1419860\ttotal: 3.46s\tremaining: 1.04s\n",
      "768:\tlearn: 0.1419438\ttotal: 3.46s\tremaining: 1.04s\n",
      "769:\tlearn: 0.1416991\ttotal: 3.47s\tremaining: 1.04s\n",
      "770:\tlearn: 0.1415622\ttotal: 3.48s\tremaining: 1.03s\n",
      "771:\tlearn: 0.1413177\ttotal: 3.48s\tremaining: 1.03s\n",
      "772:\tlearn: 0.1410199\ttotal: 3.48s\tremaining: 1.02s\n",
      "773:\tlearn: 0.1409231\ttotal: 3.49s\tremaining: 1.02s\n",
      "774:\tlearn: 0.1406950\ttotal: 3.49s\tremaining: 1.01s\n",
      "775:\tlearn: 0.1405709\ttotal: 3.49s\tremaining: 1.01s\n",
      "776:\tlearn: 0.1404109\ttotal: 3.5s\tremaining: 1s\n",
      "777:\tlearn: 0.1401874\ttotal: 3.5s\tremaining: 1000ms\n",
      "778:\tlearn: 0.1400246\ttotal: 3.51s\tremaining: 995ms\n",
      "779:\tlearn: 0.1398015\ttotal: 3.51s\tremaining: 990ms\n",
      "780:\tlearn: 0.1396094\ttotal: 3.52s\tremaining: 986ms\n",
      "781:\tlearn: 0.1395514\ttotal: 3.52s\tremaining: 981ms\n",
      "782:\tlearn: 0.1394393\ttotal: 3.52s\tremaining: 976ms\n",
      "783:\tlearn: 0.1392214\ttotal: 3.53s\tremaining: 972ms\n",
      "784:\tlearn: 0.1390776\ttotal: 3.53s\tremaining: 967ms\n",
      "785:\tlearn: 0.1389772\ttotal: 3.53s\tremaining: 962ms\n",
      "786:\tlearn: 0.1386469\ttotal: 3.54s\tremaining: 957ms\n",
      "787:\tlearn: 0.1384711\ttotal: 3.54s\tremaining: 953ms\n",
      "788:\tlearn: 0.1383613\ttotal: 3.54s\tremaining: 948ms\n",
      "789:\tlearn: 0.1381864\ttotal: 3.55s\tremaining: 944ms\n",
      "790:\tlearn: 0.1379644\ttotal: 3.55s\tremaining: 939ms\n",
      "791:\tlearn: 0.1378355\ttotal: 3.56s\tremaining: 935ms\n",
      "792:\tlearn: 0.1376873\ttotal: 3.56s\tremaining: 930ms\n",
      "793:\tlearn: 0.1375281\ttotal: 3.57s\tremaining: 925ms\n",
      "794:\tlearn: 0.1373937\ttotal: 3.57s\tremaining: 921ms\n",
      "795:\tlearn: 0.1372508\ttotal: 3.57s\tremaining: 916ms\n",
      "796:\tlearn: 0.1371250\ttotal: 3.58s\tremaining: 911ms\n",
      "797:\tlearn: 0.1370119\ttotal: 3.58s\tremaining: 906ms\n",
      "798:\tlearn: 0.1369107\ttotal: 3.58s\tremaining: 902ms\n",
      "799:\tlearn: 0.1368682\ttotal: 3.59s\tremaining: 897ms\n",
      "800:\tlearn: 0.1366564\ttotal: 3.59s\tremaining: 892ms\n",
      "801:\tlearn: 0.1364055\ttotal: 3.59s\tremaining: 887ms\n",
      "802:\tlearn: 0.1362590\ttotal: 3.6s\tremaining: 883ms\n",
      "803:\tlearn: 0.1360640\ttotal: 3.6s\tremaining: 878ms\n",
      "804:\tlearn: 0.1358701\ttotal: 3.6s\tremaining: 873ms\n",
      "805:\tlearn: 0.1356659\ttotal: 3.61s\tremaining: 868ms\n",
      "806:\tlearn: 0.1355646\ttotal: 3.61s\tremaining: 864ms\n",
      "807:\tlearn: 0.1354832\ttotal: 3.61s\tremaining: 859ms\n",
      "808:\tlearn: 0.1352892\ttotal: 3.62s\tremaining: 854ms\n",
      "809:\tlearn: 0.1351079\ttotal: 3.62s\tremaining: 849ms\n",
      "810:\tlearn: 0.1350072\ttotal: 3.62s\tremaining: 845ms\n",
      "811:\tlearn: 0.1347120\ttotal: 3.63s\tremaining: 840ms\n",
      "812:\tlearn: 0.1345495\ttotal: 3.63s\tremaining: 835ms\n",
      "813:\tlearn: 0.1343603\ttotal: 3.63s\tremaining: 830ms\n",
      "814:\tlearn: 0.1342252\ttotal: 3.64s\tremaining: 826ms\n",
      "815:\tlearn: 0.1340936\ttotal: 3.64s\tremaining: 821ms\n",
      "816:\tlearn: 0.1339447\ttotal: 3.64s\tremaining: 816ms\n",
      "817:\tlearn: 0.1338295\ttotal: 3.65s\tremaining: 812ms\n",
      "818:\tlearn: 0.1336204\ttotal: 3.65s\tremaining: 807ms\n",
      "819:\tlearn: 0.1333589\ttotal: 3.65s\tremaining: 802ms\n",
      "820:\tlearn: 0.1332181\ttotal: 3.66s\tremaining: 798ms\n",
      "821:\tlearn: 0.1330530\ttotal: 3.66s\tremaining: 793ms\n",
      "822:\tlearn: 0.1329225\ttotal: 3.66s\tremaining: 788ms\n",
      "823:\tlearn: 0.1328836\ttotal: 3.67s\tremaining: 783ms\n",
      "824:\tlearn: 0.1327713\ttotal: 3.67s\tremaining: 779ms\n",
      "825:\tlearn: 0.1326425\ttotal: 3.67s\tremaining: 774ms\n",
      "826:\tlearn: 0.1325598\ttotal: 3.68s\tremaining: 769ms\n",
      "827:\tlearn: 0.1324171\ttotal: 3.68s\tremaining: 765ms\n",
      "828:\tlearn: 0.1322079\ttotal: 3.69s\tremaining: 760ms\n",
      "829:\tlearn: 0.1320606\ttotal: 3.69s\tremaining: 756ms\n",
      "830:\tlearn: 0.1319799\ttotal: 3.69s\tremaining: 751ms\n",
      "831:\tlearn: 0.1318724\ttotal: 3.7s\tremaining: 747ms\n",
      "832:\tlearn: 0.1317522\ttotal: 3.7s\tremaining: 742ms\n",
      "833:\tlearn: 0.1316053\ttotal: 3.71s\tremaining: 738ms\n",
      "834:\tlearn: 0.1314681\ttotal: 3.71s\tremaining: 733ms\n",
      "835:\tlearn: 0.1313671\ttotal: 3.71s\tremaining: 729ms\n",
      "836:\tlearn: 0.1311632\ttotal: 3.72s\tremaining: 724ms\n",
      "837:\tlearn: 0.1310822\ttotal: 3.72s\tremaining: 719ms\n",
      "838:\tlearn: 0.1308595\ttotal: 3.73s\tremaining: 715ms\n",
      "839:\tlearn: 0.1306890\ttotal: 3.73s\tremaining: 710ms\n",
      "840:\tlearn: 0.1305685\ttotal: 3.73s\tremaining: 706ms\n",
      "841:\tlearn: 0.1304282\ttotal: 3.73s\tremaining: 701ms\n",
      "842:\tlearn: 0.1302841\ttotal: 3.74s\tremaining: 697ms\n",
      "843:\tlearn: 0.1300842\ttotal: 3.75s\tremaining: 692ms\n",
      "844:\tlearn: 0.1299278\ttotal: 3.75s\tremaining: 688ms\n",
      "845:\tlearn: 0.1298225\ttotal: 3.75s\tremaining: 683ms\n",
      "846:\tlearn: 0.1297404\ttotal: 3.76s\tremaining: 679ms\n",
      "847:\tlearn: 0.1295964\ttotal: 3.76s\tremaining: 674ms\n",
      "848:\tlearn: 0.1295427\ttotal: 3.77s\tremaining: 670ms\n",
      "849:\tlearn: 0.1293146\ttotal: 3.77s\tremaining: 666ms\n",
      "850:\tlearn: 0.1290855\ttotal: 3.78s\tremaining: 662ms\n",
      "851:\tlearn: 0.1289767\ttotal: 3.78s\tremaining: 657ms\n",
      "852:\tlearn: 0.1288707\ttotal: 3.79s\tremaining: 653ms\n",
      "853:\tlearn: 0.1286318\ttotal: 3.8s\tremaining: 649ms\n",
      "854:\tlearn: 0.1285000\ttotal: 3.81s\tremaining: 647ms\n",
      "855:\tlearn: 0.1282530\ttotal: 3.82s\tremaining: 642ms\n",
      "856:\tlearn: 0.1280491\ttotal: 3.82s\tremaining: 637ms\n",
      "857:\tlearn: 0.1279888\ttotal: 3.83s\tremaining: 633ms\n",
      "858:\tlearn: 0.1278013\ttotal: 3.83s\tremaining: 629ms\n",
      "859:\tlearn: 0.1276701\ttotal: 3.83s\tremaining: 624ms\n",
      "860:\tlearn: 0.1275709\ttotal: 3.84s\tremaining: 620ms\n",
      "861:\tlearn: 0.1274836\ttotal: 3.84s\tremaining: 615ms\n",
      "862:\tlearn: 0.1273782\ttotal: 3.85s\tremaining: 612ms\n",
      "863:\tlearn: 0.1272041\ttotal: 3.86s\tremaining: 607ms\n",
      "864:\tlearn: 0.1270586\ttotal: 3.86s\tremaining: 603ms\n",
      "865:\tlearn: 0.1268751\ttotal: 3.86s\tremaining: 598ms\n",
      "866:\tlearn: 0.1267767\ttotal: 3.87s\tremaining: 594ms\n",
      "867:\tlearn: 0.1266675\ttotal: 3.87s\tremaining: 589ms\n",
      "868:\tlearn: 0.1264134\ttotal: 3.88s\tremaining: 585ms\n",
      "869:\tlearn: 0.1263504\ttotal: 3.89s\tremaining: 582ms\n",
      "870:\tlearn: 0.1262764\ttotal: 3.9s\tremaining: 577ms\n",
      "871:\tlearn: 0.1261267\ttotal: 3.9s\tremaining: 573ms\n",
      "872:\tlearn: 0.1259821\ttotal: 3.91s\tremaining: 568ms\n",
      "873:\tlearn: 0.1259502\ttotal: 3.91s\tremaining: 564ms\n",
      "874:\tlearn: 0.1257066\ttotal: 3.92s\tremaining: 559ms\n",
      "875:\tlearn: 0.1255270\ttotal: 3.92s\tremaining: 555ms\n",
      "876:\tlearn: 0.1254111\ttotal: 3.92s\tremaining: 550ms\n",
      "877:\tlearn: 0.1252497\ttotal: 3.93s\tremaining: 546ms\n",
      "878:\tlearn: 0.1251115\ttotal: 3.94s\tremaining: 542ms\n",
      "879:\tlearn: 0.1249651\ttotal: 3.94s\tremaining: 537ms\n",
      "880:\tlearn: 0.1248549\ttotal: 3.94s\tremaining: 533ms\n",
      "881:\tlearn: 0.1247706\ttotal: 3.95s\tremaining: 529ms\n",
      "882:\tlearn: 0.1246621\ttotal: 3.95s\tremaining: 524ms\n",
      "883:\tlearn: 0.1245604\ttotal: 3.96s\tremaining: 519ms\n",
      "884:\tlearn: 0.1245065\ttotal: 3.96s\tremaining: 515ms\n",
      "885:\tlearn: 0.1243373\ttotal: 3.97s\tremaining: 511ms\n",
      "886:\tlearn: 0.1241932\ttotal: 3.97s\tremaining: 506ms\n",
      "887:\tlearn: 0.1239762\ttotal: 4.01s\tremaining: 505ms\n",
      "888:\tlearn: 0.1237869\ttotal: 4.01s\tremaining: 501ms\n",
      "889:\tlearn: 0.1236165\ttotal: 4.02s\tremaining: 496ms\n",
      "890:\tlearn: 0.1234187\ttotal: 4.02s\tremaining: 492ms\n",
      "891:\tlearn: 0.1231843\ttotal: 4.02s\tremaining: 487ms\n",
      "892:\tlearn: 0.1230269\ttotal: 4.03s\tremaining: 483ms\n",
      "893:\tlearn: 0.1228435\ttotal: 4.03s\tremaining: 478ms\n",
      "894:\tlearn: 0.1227003\ttotal: 4.04s\tremaining: 474ms\n",
      "895:\tlearn: 0.1226129\ttotal: 4.04s\tremaining: 469ms\n",
      "896:\tlearn: 0.1224736\ttotal: 4.04s\tremaining: 465ms\n",
      "897:\tlearn: 0.1223370\ttotal: 4.05s\tremaining: 460ms\n",
      "898:\tlearn: 0.1220989\ttotal: 4.05s\tremaining: 455ms\n",
      "899:\tlearn: 0.1219288\ttotal: 4.06s\tremaining: 451ms\n",
      "900:\tlearn: 0.1217348\ttotal: 4.06s\tremaining: 446ms\n",
      "901:\tlearn: 0.1215244\ttotal: 4.07s\tremaining: 442ms\n",
      "902:\tlearn: 0.1213720\ttotal: 4.07s\tremaining: 437ms\n",
      "903:\tlearn: 0.1212702\ttotal: 4.08s\tremaining: 433ms\n",
      "904:\tlearn: 0.1211569\ttotal: 4.08s\tremaining: 428ms\n",
      "905:\tlearn: 0.1211089\ttotal: 4.08s\tremaining: 424ms\n",
      "906:\tlearn: 0.1208734\ttotal: 4.09s\tremaining: 419ms\n",
      "907:\tlearn: 0.1206150\ttotal: 4.09s\tremaining: 415ms\n",
      "908:\tlearn: 0.1205000\ttotal: 4.1s\tremaining: 410ms\n",
      "909:\tlearn: 0.1204279\ttotal: 4.1s\tremaining: 406ms\n",
      "910:\tlearn: 0.1202935\ttotal: 4.11s\tremaining: 401ms\n",
      "911:\tlearn: 0.1201413\ttotal: 4.12s\tremaining: 398ms\n",
      "912:\tlearn: 0.1201060\ttotal: 4.13s\tremaining: 393ms\n",
      "913:\tlearn: 0.1200118\ttotal: 4.15s\tremaining: 390ms\n"
     ]
    },
    {
     "name": "stdout",
     "output_type": "stream",
     "text": [
      "914:\tlearn: 0.1198359\ttotal: 4.15s\tremaining: 386ms\n",
      "915:\tlearn: 0.1196363\ttotal: 4.16s\tremaining: 381ms\n",
      "916:\tlearn: 0.1194666\ttotal: 4.16s\tremaining: 376ms\n",
      "917:\tlearn: 0.1193667\ttotal: 4.16s\tremaining: 372ms\n",
      "918:\tlearn: 0.1192132\ttotal: 4.17s\tremaining: 367ms\n",
      "919:\tlearn: 0.1190853\ttotal: 4.17s\tremaining: 363ms\n",
      "920:\tlearn: 0.1189873\ttotal: 4.17s\tremaining: 358ms\n",
      "921:\tlearn: 0.1188729\ttotal: 4.18s\tremaining: 353ms\n",
      "922:\tlearn: 0.1187534\ttotal: 4.18s\tremaining: 349ms\n",
      "923:\tlearn: 0.1186502\ttotal: 4.19s\tremaining: 344ms\n",
      "924:\tlearn: 0.1185560\ttotal: 4.19s\tremaining: 340ms\n",
      "925:\tlearn: 0.1184196\ttotal: 4.19s\tremaining: 335ms\n",
      "926:\tlearn: 0.1183268\ttotal: 4.2s\tremaining: 331ms\n",
      "927:\tlearn: 0.1182147\ttotal: 4.2s\tremaining: 326ms\n",
      "928:\tlearn: 0.1181142\ttotal: 4.22s\tremaining: 323ms\n",
      "929:\tlearn: 0.1179710\ttotal: 4.23s\tremaining: 318ms\n",
      "930:\tlearn: 0.1177823\ttotal: 4.23s\tremaining: 314ms\n",
      "931:\tlearn: 0.1176738\ttotal: 4.24s\tremaining: 309ms\n",
      "932:\tlearn: 0.1174759\ttotal: 4.24s\tremaining: 305ms\n",
      "933:\tlearn: 0.1173030\ttotal: 4.25s\tremaining: 300ms\n",
      "934:\tlearn: 0.1171252\ttotal: 4.25s\tremaining: 295ms\n",
      "935:\tlearn: 0.1169138\ttotal: 4.25s\tremaining: 291ms\n",
      "936:\tlearn: 0.1167327\ttotal: 4.26s\tremaining: 286ms\n",
      "937:\tlearn: 0.1165704\ttotal: 4.26s\tremaining: 282ms\n",
      "938:\tlearn: 0.1163594\ttotal: 4.27s\tremaining: 277ms\n",
      "939:\tlearn: 0.1161896\ttotal: 4.27s\tremaining: 273ms\n",
      "940:\tlearn: 0.1160454\ttotal: 4.28s\tremaining: 268ms\n",
      "941:\tlearn: 0.1159120\ttotal: 4.28s\tremaining: 263ms\n",
      "942:\tlearn: 0.1158061\ttotal: 4.28s\tremaining: 259ms\n",
      "943:\tlearn: 0.1156798\ttotal: 4.29s\tremaining: 254ms\n",
      "944:\tlearn: 0.1155398\ttotal: 4.29s\tremaining: 250ms\n",
      "945:\tlearn: 0.1153730\ttotal: 4.29s\tremaining: 245ms\n",
      "946:\tlearn: 0.1152012\ttotal: 4.3s\tremaining: 241ms\n",
      "947:\tlearn: 0.1150924\ttotal: 4.3s\tremaining: 236ms\n",
      "948:\tlearn: 0.1150450\ttotal: 4.3s\tremaining: 231ms\n",
      "949:\tlearn: 0.1149228\ttotal: 4.31s\tremaining: 227ms\n",
      "950:\tlearn: 0.1148628\ttotal: 4.31s\tremaining: 222ms\n",
      "951:\tlearn: 0.1147192\ttotal: 4.31s\tremaining: 218ms\n",
      "952:\tlearn: 0.1145421\ttotal: 4.32s\tremaining: 213ms\n",
      "953:\tlearn: 0.1144713\ttotal: 4.32s\tremaining: 208ms\n",
      "954:\tlearn: 0.1143665\ttotal: 4.33s\tremaining: 204ms\n",
      "955:\tlearn: 0.1142399\ttotal: 4.33s\tremaining: 199ms\n",
      "956:\tlearn: 0.1141282\ttotal: 4.33s\tremaining: 195ms\n",
      "957:\tlearn: 0.1140393\ttotal: 4.34s\tremaining: 190ms\n",
      "958:\tlearn: 0.1138372\ttotal: 4.34s\tremaining: 186ms\n",
      "959:\tlearn: 0.1137510\ttotal: 4.34s\tremaining: 181ms\n",
      "960:\tlearn: 0.1136737\ttotal: 4.35s\tremaining: 176ms\n",
      "961:\tlearn: 0.1135541\ttotal: 4.35s\tremaining: 172ms\n",
      "962:\tlearn: 0.1134717\ttotal: 4.35s\tremaining: 167ms\n",
      "963:\tlearn: 0.1134111\ttotal: 4.36s\tremaining: 163ms\n",
      "964:\tlearn: 0.1133014\ttotal: 4.36s\tremaining: 158ms\n",
      "965:\tlearn: 0.1132457\ttotal: 4.37s\tremaining: 154ms\n",
      "966:\tlearn: 0.1131437\ttotal: 4.37s\tremaining: 149ms\n",
      "967:\tlearn: 0.1130847\ttotal: 4.37s\tremaining: 145ms\n",
      "968:\tlearn: 0.1129691\ttotal: 4.38s\tremaining: 140ms\n",
      "969:\tlearn: 0.1129085\ttotal: 4.39s\tremaining: 136ms\n",
      "970:\tlearn: 0.1126636\ttotal: 4.39s\tremaining: 131ms\n",
      "971:\tlearn: 0.1126199\ttotal: 4.4s\tremaining: 127ms\n",
      "972:\tlearn: 0.1125526\ttotal: 4.4s\tremaining: 122ms\n",
      "973:\tlearn: 0.1124130\ttotal: 4.41s\tremaining: 118ms\n",
      "974:\tlearn: 0.1122924\ttotal: 4.41s\tremaining: 113ms\n",
      "975:\tlearn: 0.1121993\ttotal: 4.44s\tremaining: 109ms\n",
      "976:\tlearn: 0.1120090\ttotal: 4.44s\tremaining: 105ms\n",
      "977:\tlearn: 0.1118718\ttotal: 4.44s\tremaining: 100ms\n",
      "978:\tlearn: 0.1117247\ttotal: 4.45s\tremaining: 95.4ms\n",
      "979:\tlearn: 0.1116382\ttotal: 4.45s\tremaining: 90.9ms\n",
      "980:\tlearn: 0.1115501\ttotal: 4.46s\tremaining: 86.3ms\n",
      "981:\tlearn: 0.1113935\ttotal: 4.46s\tremaining: 81.8ms\n",
      "982:\tlearn: 0.1113459\ttotal: 4.46s\tremaining: 77.2ms\n",
      "983:\tlearn: 0.1112156\ttotal: 4.47s\tremaining: 72.7ms\n",
      "984:\tlearn: 0.1111280\ttotal: 4.47s\tremaining: 68.1ms\n",
      "985:\tlearn: 0.1110387\ttotal: 4.48s\tremaining: 63.6ms\n",
      "986:\tlearn: 0.1109435\ttotal: 4.48s\tremaining: 59ms\n",
      "987:\tlearn: 0.1108316\ttotal: 4.48s\tremaining: 54.5ms\n",
      "988:\tlearn: 0.1107378\ttotal: 4.49s\tremaining: 49.9ms\n",
      "989:\tlearn: 0.1105947\ttotal: 4.49s\tremaining: 45.4ms\n",
      "990:\tlearn: 0.1105213\ttotal: 4.49s\tremaining: 40.8ms\n",
      "991:\tlearn: 0.1103656\ttotal: 4.5s\tremaining: 36.3ms\n",
      "992:\tlearn: 0.1102887\ttotal: 4.5s\tremaining: 31.7ms\n",
      "993:\tlearn: 0.1101486\ttotal: 4.5s\tremaining: 27.2ms\n",
      "994:\tlearn: 0.1100003\ttotal: 4.51s\tremaining: 22.7ms\n",
      "995:\tlearn: 0.1098907\ttotal: 4.51s\tremaining: 18.1ms\n",
      "996:\tlearn: 0.1097446\ttotal: 4.52s\tremaining: 13.6ms\n",
      "997:\tlearn: 0.1096576\ttotal: 4.53s\tremaining: 9.07ms\n",
      "998:\tlearn: 0.1094780\ttotal: 4.53s\tremaining: 4.54ms\n",
      "999:\tlearn: 0.1093433\ttotal: 4.54s\tremaining: 0us\n"
     ]
    },
    {
     "data": {
      "text/plain": [
       "<catboost.core.CatBoostClassifier at 0x244a7c29b50>"
      ]
     },
     "execution_count": 57,
     "metadata": {},
     "output_type": "execute_result"
    }
   ],
   "source": [
    "cb.fit(x_train,ytrain)"
   ]
  },
  {
   "cell_type": "code",
   "execution_count": 58,
   "id": "63de1849",
   "metadata": {},
   "outputs": [
    {
     "data": {
      "text/plain": [
       "array([0, 1, 1, 0, 1, 1, 1, 0, 0, 0, 1, 0, 1, 0, 1, 1, 1, 0, 0, 0, 1, 0,\n",
       "       1, 1, 1, 1, 1, 1, 0, 1, 0, 0, 0, 0, 1, 0, 1, 1, 1, 1, 1, 1, 1, 1,\n",
       "       1, 0, 0, 1, 0, 0, 0, 0, 1, 1, 0, 0, 0, 1, 0, 0, 0, 1, 0, 0, 1, 0,\n",
       "       0, 0, 1, 1, 1, 1, 0, 1, 0, 1], dtype=int64)"
      ]
     },
     "execution_count": 58,
     "metadata": {},
     "output_type": "execute_result"
    }
   ],
   "source": [
    "cb.predict(x_test)"
   ]
  },
  {
   "cell_type": "code",
   "execution_count": 59,
   "id": "4419f8b8",
   "metadata": {},
   "outputs": [],
   "source": [
    "ypredcb=cb.predict(x_test)"
   ]
  },
  {
   "cell_type": "code",
   "execution_count": 60,
   "id": "7debca36",
   "metadata": {},
   "outputs": [
    {
     "data": {
      "text/plain": [
       "0.8552631578947368"
      ]
     },
     "execution_count": 60,
     "metadata": {},
     "output_type": "execute_result"
    }
   ],
   "source": [
    "accuracy_score(ypredcb,ytest)"
   ]
  },
  {
   "cell_type": "code",
   "execution_count": 61,
   "id": "2666c124",
   "metadata": {},
   "outputs": [
    {
     "name": "stdout",
     "output_type": "stream",
     "text": [
      "              precision    recall  f1-score   support\n",
      "\n",
      "           0       0.86      0.83      0.85        36\n",
      "           1       0.85      0.88      0.86        40\n",
      "\n",
      "    accuracy                           0.86        76\n",
      "   macro avg       0.86      0.85      0.85        76\n",
      "weighted avg       0.86      0.86      0.86        76\n",
      "\n"
     ]
    }
   ],
   "source": [
    "print(classification_report(ypredcb,ytest))"
   ]
  },
  {
   "cell_type": "code",
   "execution_count": 62,
   "id": "7605e167",
   "metadata": {},
   "outputs": [
    {
     "data": {
      "text/plain": [
       "array([[30,  6],\n",
       "       [ 5, 35]], dtype=int64)"
      ]
     },
     "execution_count": 62,
     "metadata": {},
     "output_type": "execute_result"
    }
   ],
   "source": [
    "confusion_matrix(ypredcb,ytest)"
   ]
  },
  {
   "cell_type": "code",
   "execution_count": 63,
   "id": "e3cc2857",
   "metadata": {},
   "outputs": [
    {
     "data": {
      "text/plain": [
       "{'learn': {'Logloss': 0.10934329387374911}}"
      ]
     },
     "execution_count": 63,
     "metadata": {},
     "output_type": "execute_result"
    }
   ],
   "source": [
    "cb.best_score_"
   ]
  },
  {
   "cell_type": "code",
   "execution_count": 64,
   "id": "c0f3bcc1",
   "metadata": {},
   "outputs": [
    {
     "data": {
      "text/plain": [
       "array([0, 1], dtype=int64)"
      ]
     },
     "execution_count": 64,
     "metadata": {},
     "output_type": "execute_result"
    }
   ],
   "source": [
    "cb.classes_"
   ]
  },
  {
   "cell_type": "code",
   "execution_count": 65,
   "id": "53f04ea0",
   "metadata": {},
   "outputs": [
    {
     "data": {
      "text/plain": [
       "{'learn': {'Logloss': [0.688804070953493,\n",
       "   0.6840939004351652,\n",
       "   0.6805265487750196,\n",
       "   0.6767958575112967,\n",
       "   0.6730447596488808,\n",
       "   0.669381236230815,\n",
       "   0.6651490757240307,\n",
       "   0.6614644336903935,\n",
       "   0.6577112998050281,\n",
       "   0.6545199707759717,\n",
       "   0.6507437358844188,\n",
       "   0.6465645729921069,\n",
       "   0.6431656387164811,\n",
       "   0.6398851410731968,\n",
       "   0.63598054753399,\n",
       "   0.6316183638966146,\n",
       "   0.6276654106203778,\n",
       "   0.6245761765741501,\n",
       "   0.6220105621586287,\n",
       "   0.6182076679993962,\n",
       "   0.6147437038408831,\n",
       "   0.6117026677133622,\n",
       "   0.6083075812554176,\n",
       "   0.6058773748363299,\n",
       "   0.6036035400540425,\n",
       "   0.59995506101571,\n",
       "   0.5965422804504305,\n",
       "   0.5934713109999501,\n",
       "   0.5916786286856831,\n",
       "   0.5880178766702568,\n",
       "   0.5848353952743802,\n",
       "   0.581842984552885,\n",
       "   0.5787622539022945,\n",
       "   0.5758664903563288,\n",
       "   0.5727309860896302,\n",
       "   0.5701861173931985,\n",
       "   0.5692967130445633,\n",
       "   0.5667501858349414,\n",
       "   0.5634794548514919,\n",
       "   0.5617981550451943,\n",
       "   0.5593010065548885,\n",
       "   0.556541247806196,\n",
       "   0.5535062815427846,\n",
       "   0.5515003255260739,\n",
       "   0.5485244959814367,\n",
       "   0.5457997068809961,\n",
       "   0.5437788385569655,\n",
       "   0.5410558600040226,\n",
       "   0.5379995803988747,\n",
       "   0.5355143214469275,\n",
       "   0.5331877458745476,\n",
       "   0.5306419614571175,\n",
       "   0.5282594187488772,\n",
       "   0.5257008999446612,\n",
       "   0.5227097699065828,\n",
       "   0.5208174081371547,\n",
       "   0.5187934828913947,\n",
       "   0.5170038170160701,\n",
       "   0.514962912976151,\n",
       "   0.5127265875428784,\n",
       "   0.5113321865297493,\n",
       "   0.508931366488797,\n",
       "   0.5069726811976291,\n",
       "   0.5053304146958868,\n",
       "   0.5036617232494811,\n",
       "   0.5011925413663035,\n",
       "   0.4990962167077653,\n",
       "   0.49691492437266044,\n",
       "   0.4947660292625952,\n",
       "   0.49279379628040715,\n",
       "   0.49127397210324913,\n",
       "   0.48898348140033854,\n",
       "   0.4870760527148121,\n",
       "   0.48488571988787943,\n",
       "   0.48299419099571683,\n",
       "   0.48101610225104285,\n",
       "   0.47924557783628613,\n",
       "   0.4777155740326065,\n",
       "   0.4757671504884564,\n",
       "   0.47426709694385794,\n",
       "   0.4722828275076881,\n",
       "   0.46995250640297515,\n",
       "   0.46795464208603954,\n",
       "   0.4673731907348801,\n",
       "   0.4654200317149383,\n",
       "   0.4640688788523233,\n",
       "   0.46221346330997176,\n",
       "   0.460107310588927,\n",
       "   0.4587827438267055,\n",
       "   0.45681003220215244,\n",
       "   0.4554869160056114,\n",
       "   0.4545161269342584,\n",
       "   0.45297608332552575,\n",
       "   0.4514761418104172,\n",
       "   0.4500742353466114,\n",
       "   0.4484597922585872,\n",
       "   0.44657683554659333,\n",
       "   0.44499279460192775,\n",
       "   0.44305084946068896,\n",
       "   0.4415053355995779,\n",
       "   0.4396244244494102,\n",
       "   0.43792402933019375,\n",
       "   0.4363065257438742,\n",
       "   0.4354281319953534,\n",
       "   0.4337812246762971,\n",
       "   0.4324638325606149,\n",
       "   0.43120076380965466,\n",
       "   0.4295568693150245,\n",
       "   0.42792160050853234,\n",
       "   0.4268138153142078,\n",
       "   0.42551485774012915,\n",
       "   0.4243009940183635,\n",
       "   0.4233448777823721,\n",
       "   0.4224976759387533,\n",
       "   0.42079503358329445,\n",
       "   0.4191362025454181,\n",
       "   0.41734530875204945,\n",
       "   0.4162229786787002,\n",
       "   0.4147567744756585,\n",
       "   0.41356478283583853,\n",
       "   0.4121593039335133,\n",
       "   0.4107656458860452,\n",
       "   0.40966124927813785,\n",
       "   0.4079158612350535,\n",
       "   0.40636694972866955,\n",
       "   0.4051142643136075,\n",
       "   0.4036388204223784,\n",
       "   0.4025210185788802,\n",
       "   0.40109654082732055,\n",
       "   0.3997964487792637,\n",
       "   0.398827772997812,\n",
       "   0.39764433534660004,\n",
       "   0.39633630472132814,\n",
       "   0.39505760466868656,\n",
       "   0.39401173522687694,\n",
       "   0.3927768029371022,\n",
       "   0.3911111108006885,\n",
       "   0.39012584277317913,\n",
       "   0.38905719881015727,\n",
       "   0.38790959369243505,\n",
       "   0.38665913948009717,\n",
       "   0.3855085872474746,\n",
       "   0.384532768853698,\n",
       "   0.38364588679327316,\n",
       "   0.38223123993511243,\n",
       "   0.381138936669816,\n",
       "   0.3802313177727393,\n",
       "   0.37897452725187797,\n",
       "   0.37781760503542056,\n",
       "   0.3769197827984583,\n",
       "   0.3759003198553812,\n",
       "   0.37485398247115936,\n",
       "   0.3736057122964166,\n",
       "   0.37267356362636916,\n",
       "   0.3718529871381852,\n",
       "   0.37102888675513246,\n",
       "   0.3697463285161535,\n",
       "   0.3689381328579613,\n",
       "   0.36760972742204623,\n",
       "   0.36711016228414317,\n",
       "   0.3662402893084261,\n",
       "   0.3653183044447248,\n",
       "   0.3646400453366897,\n",
       "   0.36356535419362235,\n",
       "   0.36271567741154576,\n",
       "   0.36179371834588997,\n",
       "   0.3609340428518304,\n",
       "   0.3599022097787143,\n",
       "   0.3585899161084633,\n",
       "   0.3576512600619362,\n",
       "   0.35659552395081207,\n",
       "   0.3552348352476364,\n",
       "   0.35435193022179706,\n",
       "   0.3535095950842954,\n",
       "   0.3525104680250395,\n",
       "   0.3516193815396221,\n",
       "   0.35116659104824066,\n",
       "   0.3504449764537391,\n",
       "   0.3496785136965403,\n",
       "   0.3483982917889624,\n",
       "   0.3473625711538718,\n",
       "   0.34610847432970476,\n",
       "   0.34537409895842297,\n",
       "   0.34457141246302014,\n",
       "   0.34342822918282734,\n",
       "   0.3429507268551688,\n",
       "   0.3422125828686265,\n",
       "   0.34143496754411035,\n",
       "   0.3405951610089399,\n",
       "   0.33937537597927225,\n",
       "   0.3392391764119858,\n",
       "   0.33841123632134845,\n",
       "   0.33768226600165935,\n",
       "   0.33688919942021894,\n",
       "   0.3361736851116634,\n",
       "   0.3355125749426266,\n",
       "   0.3345664203954688,\n",
       "   0.333675885581235,\n",
       "   0.33299423425995833,\n",
       "   0.33211530928832317,\n",
       "   0.3312271749395631,\n",
       "   0.3304033777656009,\n",
       "   0.32950053794005896,\n",
       "   0.32876512171938554,\n",
       "   0.32794323274742665,\n",
       "   0.3274944404936047,\n",
       "   0.3264597546030246,\n",
       "   0.32564690157705467,\n",
       "   0.32466172581202135,\n",
       "   0.3242652688651358,\n",
       "   0.323465648070306,\n",
       "   0.3227002255717038,\n",
       "   0.32193718949078465,\n",
       "   0.3212346966308644,\n",
       "   0.3203035437456837,\n",
       "   0.31949029101411675,\n",
       "   0.3189367735307122,\n",
       "   0.31800621853000793,\n",
       "   0.31742580556659444,\n",
       "   0.316812952775262,\n",
       "   0.3163936200514764,\n",
       "   0.31569123176226005,\n",
       "   0.31485207963094836,\n",
       "   0.31431684186805187,\n",
       "   0.31334555503555334,\n",
       "   0.3123992930950047,\n",
       "   0.3118359869272173,\n",
       "   0.3112493791506679,\n",
       "   0.31062613631135044,\n",
       "   0.3099368339987053,\n",
       "   0.30942337982980167,\n",
       "   0.308798091395836,\n",
       "   0.30837429383777837,\n",
       "   0.30748566052987186,\n",
       "   0.3067322194838839,\n",
       "   0.3058096468448639,\n",
       "   0.30526292599770466,\n",
       "   0.304533183312101,\n",
       "   0.30412324724743545,\n",
       "   0.30367040345322194,\n",
       "   0.30286949085243997,\n",
       "   0.3023786179819821,\n",
       "   0.3017312774049028,\n",
       "   0.3010425589945873,\n",
       "   0.3006816595661483,\n",
       "   0.300057958007384,\n",
       "   0.2995830860957175,\n",
       "   0.29882584479411795,\n",
       "   0.29832491567481456,\n",
       "   0.297841836702456,\n",
       "   0.2973231703436847,\n",
       "   0.2965250800359617,\n",
       "   0.2957945153576687,\n",
       "   0.295374953668023,\n",
       "   0.2949176572492994,\n",
       "   0.2944323003029508,\n",
       "   0.293670903349763,\n",
       "   0.2930625078436562,\n",
       "   0.2924455002541059,\n",
       "   0.292173246192512,\n",
       "   0.2917106662290212,\n",
       "   0.2911097365328919,\n",
       "   0.2905822981821808,\n",
       "   0.2899127766686914,\n",
       "   0.28940934271014207,\n",
       "   0.2889762368496294,\n",
       "   0.28860955472034505,\n",
       "   0.287901459548967,\n",
       "   0.28715932999413446,\n",
       "   0.286387906856999,\n",
       "   0.28603465585981697,\n",
       "   0.28554055199749145,\n",
       "   0.28492889359659035,\n",
       "   0.28415884858711177,\n",
       "   0.28373021701359014,\n",
       "   0.28320611035246157,\n",
       "   0.282733987343994,\n",
       "   0.28209112249807117,\n",
       "   0.28151002198063857,\n",
       "   0.2810129416934194,\n",
       "   0.2803084602177406,\n",
       "   0.2795881315212418,\n",
       "   0.2790171540781265,\n",
       "   0.2783579584785495,\n",
       "   0.27775318270737903,\n",
       "   0.2770969142997843,\n",
       "   0.2764508725525524,\n",
       "   0.27597015137714437,\n",
       "   0.2753451368094541,\n",
       "   0.2747417041121075,\n",
       "   0.2743832230042781,\n",
       "   0.2739433002892045,\n",
       "   0.27350030294598987,\n",
       "   0.2728026603812163,\n",
       "   0.2721724564020854,\n",
       "   0.27178427498246077,\n",
       "   0.27124520414201175,\n",
       "   0.2709361891126843,\n",
       "   0.2705778828801563,\n",
       "   0.27008679824253534,\n",
       "   0.26953481932043505,\n",
       "   0.26890283573566554,\n",
       "   0.26833638115601394,\n",
       "   0.2682579759721714,\n",
       "   0.2676648340036165,\n",
       "   0.26718559861183167,\n",
       "   0.266466921384114,\n",
       "   0.2658412242513396,\n",
       "   0.2653862704001859,\n",
       "   0.2650417808919226,\n",
       "   0.26467275225643544,\n",
       "   0.264161972353637,\n",
       "   0.2636998005638039,\n",
       "   0.26350364811094845,\n",
       "   0.2629772801493758,\n",
       "   0.26265884075921014,\n",
       "   0.26232437612201676,\n",
       "   0.26182135138742724,\n",
       "   0.26133772179418724,\n",
       "   0.26063337908967477,\n",
       "   0.2600505250928686,\n",
       "   0.2596374424543675,\n",
       "   0.2591959525572571,\n",
       "   0.2585550500695401,\n",
       "   0.2581989574799979,\n",
       "   0.25755685909204024,\n",
       "   0.25698379312317804,\n",
       "   0.25635724235736324,\n",
       "   0.2556880438117729,\n",
       "   0.2548858184646405,\n",
       "   0.2543627065708984,\n",
       "   0.2540763581114193,\n",
       "   0.25389024063879173,\n",
       "   0.25351647592851245,\n",
       "   0.2529448450661966,\n",
       "   0.25252155139057647,\n",
       "   0.25216334533061224,\n",
       "   0.2516569907444689,\n",
       "   0.25133866780654973,\n",
       "   0.2511818781823314,\n",
       "   0.2505634252457892,\n",
       "   0.2502314395841523,\n",
       "   0.24994557807098927,\n",
       "   0.2494526491028622,\n",
       "   0.24896987668743217,\n",
       "   0.24846643025654527,\n",
       "   0.24795441204755841,\n",
       "   0.24755325217604113,\n",
       "   0.24727847450105103,\n",
       "   0.24684747961649287,\n",
       "   0.2465246667683387,\n",
       "   0.24612007306535863,\n",
       "   0.2456688417474604,\n",
       "   0.24529087924222065,\n",
       "   0.24500544231368582,\n",
       "   0.24472684508378284,\n",
       "   0.2443345066996923,\n",
       "   0.24383715963573707,\n",
       "   0.24333484923787055,\n",
       "   0.24307221804421378,\n",
       "   0.2428089820078291,\n",
       "   0.24252411854424666,\n",
       "   0.2421689221249803,\n",
       "   0.24198747744644267,\n",
       "   0.24174155091399138,\n",
       "   0.2411800605872654,\n",
       "   0.24073181882303718,\n",
       "   0.24034557783656182,\n",
       "   0.2398641565035093,\n",
       "   0.23963514823745527,\n",
       "   0.23917670672685565,\n",
       "   0.23849737683581887,\n",
       "   0.23800927650035741,\n",
       "   0.2374925526753396,\n",
       "   0.23705585990183153,\n",
       "   0.2368406228031881,\n",
       "   0.2364587636771181,\n",
       "   0.2361637012548909,\n",
       "   0.2359777037792794,\n",
       "   0.23561750674037682,\n",
       "   0.23530481302790704,\n",
       "   0.2350060850513139,\n",
       "   0.2345571296068015,\n",
       "   0.23432272029343157,\n",
       "   0.2339124624424569,\n",
       "   0.2336014406796594,\n",
       "   0.2331201594306509,\n",
       "   0.23275837604169802,\n",
       "   0.23240773215693,\n",
       "   0.23227116163606687,\n",
       "   0.23211892034513834,\n",
       "   0.23160855885644316,\n",
       "   0.23137371458671166,\n",
       "   0.23077604922954206,\n",
       "   0.2303050686871953,\n",
       "   0.23006341767206065,\n",
       "   0.22990070998931247,\n",
       "   0.2295236377463992,\n",
       "   0.22910641862432338,\n",
       "   0.22876724902753787,\n",
       "   0.22843407928155907,\n",
       "   0.228128750681352,\n",
       "   0.22775834772555315,\n",
       "   0.2275353079325302,\n",
       "   0.22719849232535005,\n",
       "   0.22693392962611195,\n",
       "   0.22654983466942405,\n",
       "   0.22613214264882295,\n",
       "   0.22583319988544817,\n",
       "   0.22540539791930614,\n",
       "   0.2249025555434206,\n",
       "   0.22457906853259924,\n",
       "   0.22414496974272874,\n",
       "   0.22387197495557137,\n",
       "   0.2234298169350309,\n",
       "   0.2229844539176,\n",
       "   0.22252660858473589,\n",
       "   0.22221832863559807,\n",
       "   0.2221542087420493,\n",
       "   0.22176610058099688,\n",
       "   0.2213947465766369,\n",
       "   0.22086028485571235,\n",
       "   0.22051399604864583,\n",
       "   0.2204235752773705,\n",
       "   0.22002103018865712,\n",
       "   0.2196333295448236,\n",
       "   0.21928932199394124,\n",
       "   0.21901901571761143,\n",
       "   0.21853512735618894,\n",
       "   0.21803982825006157,\n",
       "   0.21778100597700883,\n",
       "   0.21736699946651375,\n",
       "   0.2171358870514689,\n",
       "   0.21666244683286692,\n",
       "   0.21618096392585318,\n",
       "   0.21596527467215113,\n",
       "   0.21553478130685075,\n",
       "   0.21501484762729528,\n",
       "   0.21446950897771355,\n",
       "   0.21400358918479886,\n",
       "   0.21368266464855176,\n",
       "   0.213295189294521,\n",
       "   0.21300823205368108,\n",
       "   0.21249878879160608,\n",
       "   0.2122127728840328,\n",
       "   0.2120243352940429,\n",
       "   0.21175544561268475,\n",
       "   0.2113968052527978,\n",
       "   0.21124630903882602,\n",
       "   0.2109037635084816,\n",
       "   0.2104445674871033,\n",
       "   0.21021766205716239,\n",
       "   0.2100262098375396,\n",
       "   0.20978975479823378,\n",
       "   0.209523742156932,\n",
       "   0.20926096733446164,\n",
       "   0.20902827789079775,\n",
       "   0.20865596732379058,\n",
       "   0.20853129410008503,\n",
       "   0.20815966596687419,\n",
       "   0.20769473424567,\n",
       "   0.2073158193789915,\n",
       "   0.20710384110522165,\n",
       "   0.20682474826401026,\n",
       "   0.20639972907331022,\n",
       "   0.20617831882401186,\n",
       "   0.20602017667325057,\n",
       "   0.20568566280314576,\n",
       "   0.2055847529272676,\n",
       "   0.20513279427515776,\n",
       "   0.2047221017303971,\n",
       "   0.2043705598373245,\n",
       "   0.2040243613562395,\n",
       "   0.2037498780284159,\n",
       "   0.2036187987495624,\n",
       "   0.20349506003215975,\n",
       "   0.20319016546929985,\n",
       "   0.20272396760890138,\n",
       "   0.20244308400259145,\n",
       "   0.20208466525644983,\n",
       "   0.20193042497802935,\n",
       "   0.20173657675671683,\n",
       "   0.20143542573315457,\n",
       "   0.201277266514984,\n",
       "   0.20108248457509514,\n",
       "   0.200670728336872,\n",
       "   0.20044992253643826,\n",
       "   0.20025013459411486,\n",
       "   0.20000627203659865,\n",
       "   0.19979550239798255,\n",
       "   0.19941352826383146,\n",
       "   0.19910800010622334,\n",
       "   0.19888205701559125,\n",
       "   0.19874173980452417,\n",
       "   0.19858342540421675,\n",
       "   0.19828765166488513,\n",
       "   0.19819665480290216,\n",
       "   0.19780986030721454,\n",
       "   0.19755284035258355,\n",
       "   0.19730892029102678,\n",
       "   0.19715171527232367,\n",
       "   0.19667926916466935,\n",
       "   0.19609460457831226,\n",
       "   0.1956664573253514,\n",
       "   0.19549760997032803,\n",
       "   0.19527497638164637,\n",
       "   0.1949938614462966,\n",
       "   0.19480142273041645,\n",
       "   0.19438620705961657,\n",
       "   0.19402457228841236,\n",
       "   0.19371208456644404,\n",
       "   0.19339887449919915,\n",
       "   0.19310901002211717,\n",
       "   0.1926967239064792,\n",
       "   0.19249044824801878,\n",
       "   0.19211992713323248,\n",
       "   0.19188759873091912,\n",
       "   0.19174952706576445,\n",
       "   0.1913669314153394,\n",
       "   0.19116679451013976,\n",
       "   0.19104883035374107,\n",
       "   0.1908918963129825,\n",
       "   0.19047881249289156,\n",
       "   0.1901236076712083,\n",
       "   0.1898100932789269,\n",
       "   0.18962824265862352,\n",
       "   0.18926797157342212,\n",
       "   0.18897659137910683,\n",
       "   0.18856429712362752,\n",
       "   0.18835174184013567,\n",
       "   0.18815771585519092,\n",
       "   0.18796561914393556,\n",
       "   0.18777283343449563,\n",
       "   0.18747718034861896,\n",
       "   0.18725184301972914,\n",
       "   0.18693757359151797,\n",
       "   0.18669281617660355,\n",
       "   0.1865612576974121,\n",
       "   0.18635932004924388,\n",
       "   0.18618957770553454,\n",
       "   0.18589462517116564,\n",
       "   0.18557173880186376,\n",
       "   0.18535849609564053,\n",
       "   0.18506207261316576,\n",
       "   0.1848285949177679,\n",
       "   0.18466480450483147,\n",
       "   0.18455300457151977,\n",
       "   0.18444739380597017,\n",
       "   0.1843129158807746,\n",
       "   0.18405272926528024,\n",
       "   0.1838208144194229,\n",
       "   0.1836745297856268,\n",
       "   0.18355534058310388,\n",
       "   0.1833094477916079,\n",
       "   0.18324829775856455,\n",
       "   0.18304447468682009,\n",
       "   0.18302083133600883,\n",
       "   0.18282147493656511,\n",
       "   0.18254814444659564,\n",
       "   0.18238765552705605,\n",
       "   0.18200269827233537,\n",
       "   0.18189023139718347,\n",
       "   0.1817648494821288,\n",
       "   0.18156348976269693,\n",
       "   0.18124225210513312,\n",
       "   0.18109460339147088,\n",
       "   0.1808115272795051,\n",
       "   0.18073408692943893,\n",
       "   0.180548313168177,\n",
       "   0.18040732113800384,\n",
       "   0.18028888933459042,\n",
       "   0.18008354726341852,\n",
       "   0.17985519346686712,\n",
       "   0.17978390644300352,\n",
       "   0.17950053335811597,\n",
       "   0.17939257162257963,\n",
       "   0.1791015159716165,\n",
       "   0.17896843665496892,\n",
       "   0.17860445196408006,\n",
       "   0.17825441541650747,\n",
       "   0.1779406530216402,\n",
       "   0.17786364473960473,\n",
       "   0.17759069603445246,\n",
       "   0.1773113668752662,\n",
       "   0.17714338063668575,\n",
       "   0.1770302447190894,\n",
       "   0.1767464251245171,\n",
       "   0.17654722600781445,\n",
       "   0.17635372714324143,\n",
       "   0.17614748693247723,\n",
       "   0.17586147128747948,\n",
       "   0.1755174624237195,\n",
       "   0.17530529194466343,\n",
       "   0.17505514188485,\n",
       "   0.17490066857064873,\n",
       "   0.17464870306363714,\n",
       "   0.17429862804874974,\n",
       "   0.17395887251467432,\n",
       "   0.17373269297477958,\n",
       "   0.17354554082328527,\n",
       "   0.17337161171278764,\n",
       "   0.1732657979763552,\n",
       "   0.17315176194985007,\n",
       "   0.17297671019768399,\n",
       "   0.17266250706979358,\n",
       "   0.17243000313573997,\n",
       "   0.17233468428057197,\n",
       "   0.1723032919320766,\n",
       "   0.17201556994001246,\n",
       "   0.17179087710275523,\n",
       "   0.1714061807168213,\n",
       "   0.17128991726211515,\n",
       "   0.1710316647779574,\n",
       "   0.17079530991121536,\n",
       "   0.17052829830131866,\n",
       "   0.17026231730036798,\n",
       "   0.17000885760731635,\n",
       "   0.169726687906072,\n",
       "   0.16952031102474566,\n",
       "   0.16928711152811932,\n",
       "   0.1691352941653802,\n",
       "   0.16902504080192632,\n",
       "   0.16893912477640327,\n",
       "   0.16877131052479344,\n",
       "   0.1686485861366541,\n",
       "   0.16848525772535852,\n",
       "   0.16817316281637956,\n",
       "   0.16786118921729437,\n",
       "   0.16771799536003415,\n",
       "   0.16745130881864068,\n",
       "   0.16730832187089625,\n",
       "   0.1671241402363462,\n",
       "   0.16697944838570078,\n",
       "   0.16680893052517054,\n",
       "   0.16654872841772003,\n",
       "   0.16647695116534633,\n",
       "   0.16626922792800197,\n",
       "   0.16610191086315373,\n",
       "   0.1660075094468793,\n",
       "   0.16575103735608676,\n",
       "   0.16553501476275237,\n",
       "   0.1653150713916392,\n",
       "   0.16510548504963846,\n",
       "   0.16489581284544017,\n",
       "   0.1646728166399548,\n",
       "   0.16439800548658498,\n",
       "   0.16420596050270853,\n",
       "   0.16418153270750843,\n",
       "   0.1639875361310228,\n",
       "   0.16368207821236833,\n",
       "   0.16339627236521717,\n",
       "   0.16317335453852683,\n",
       "   0.16307298937558076,\n",
       "   0.1629480992644894,\n",
       "   0.162738098578306,\n",
       "   0.16259796346336736,\n",
       "   0.16245417172163068,\n",
       "   0.16216162674227474,\n",
       "   0.16213200585957666,\n",
       "   0.16189812589847044,\n",
       "   0.16175303532688629,\n",
       "   0.16153461909504188,\n",
       "   0.16126872014894358,\n",
       "   0.161228385396991,\n",
       "   0.16100856136645514,\n",
       "   0.1607791781425476,\n",
       "   0.16041154155122025,\n",
       "   0.16029023848441204,\n",
       "   0.1599976764376468,\n",
       "   0.15978346679704306,\n",
       "   0.15960498475818383,\n",
       "   0.159519225358963,\n",
       "   0.15937378569321486,\n",
       "   0.15923215153458886,\n",
       "   0.1589633742355565,\n",
       "   0.1586847445775759,\n",
       "   0.15859797242454496,\n",
       "   0.15842205272897225,\n",
       "   0.1582818475063677,\n",
       "   0.1579664423077117,\n",
       "   0.15788312958725748,\n",
       "   0.15760348665031568,\n",
       "   0.15752950770214266,\n",
       "   0.15737355319938995,\n",
       "   0.15722282801955806,\n",
       "   0.15698743693629025,\n",
       "   0.15674994275433377,\n",
       "   0.15649815277906243,\n",
       "   0.15624680051719564,\n",
       "   0.15605450096634516,\n",
       "   0.1557787778881678,\n",
       "   0.15560943058933982,\n",
       "   0.1553812691293624,\n",
       "   0.15520822726157268,\n",
       "   0.1550633657871364,\n",
       "   0.1547920723581104,\n",
       "   0.154665434544307,\n",
       "   0.15453448537162748,\n",
       "   0.15430441551271515,\n",
       "   0.15412578406838068,\n",
       "   0.15391892851186745,\n",
       "   0.153772085379924,\n",
       "   0.1536622415030055,\n",
       "   0.15351752391995838,\n",
       "   0.15336096890697395,\n",
       "   0.1530963581564143,\n",
       "   0.15286295148769663,\n",
       "   0.1527241296442595,\n",
       "   0.15250864401787914,\n",
       "   0.15237505569857124,\n",
       "   0.15216041280834686,\n",
       "   0.15192239544465153,\n",
       "   0.1518771620836552,\n",
       "   0.15166986710699645,\n",
       "   0.1515538922227952,\n",
       "   0.1512598323139325,\n",
       "   0.15100285148305514,\n",
       "   0.15085233715137197,\n",
       "   0.15068114644105213,\n",
       "   0.1506249543591218,\n",
       "   0.15052420045310705,\n",
       "   0.1504381363349864,\n",
       "   0.15034472587875333,\n",
       "   0.1501676231491408,\n",
       "   0.15000462545172233,\n",
       "   0.14987856202188568,\n",
       "   0.14965050979332778,\n",
       "   0.14942303825054926,\n",
       "   0.14919659587255132,\n",
       "   0.1488815351729876,\n",
       "   0.14870827786197746,\n",
       "   0.14848467773277854,\n",
       "   0.1482639786692968,\n",
       "   0.14805181015955718,\n",
       "   0.14784172334860074,\n",
       "   0.14761058310054997,\n",
       "   0.1473620027172408,\n",
       "   0.14721558889628508,\n",
       "   0.14698661857239476,\n",
       "   0.14688647449804298,\n",
       "   0.14665426583017022,\n",
       "   0.14645424472077828,\n",
       "   0.14618402023672533,\n",
       "   0.14602377840075723,\n",
       "   0.14588311524643247,\n",
       "   0.14565287970236218,\n",
       "   0.1455255566977194,\n",
       "   0.1453171666498226,\n",
       "   0.145187242572003,\n",
       "   0.14502550471196615,\n",
       "   0.1447947874730904,\n",
       "   0.14464954631444116,\n",
       "   0.14446986798147798,\n",
       "   0.14436173872275498,\n",
       "   0.14417750706756693,\n",
       "   0.14397151564711516,\n",
       "   0.14375768542814885,\n",
       "   0.1436246137261916,\n",
       "   0.14339131996495083,\n",
       "   0.14322223379748508,\n",
       "   0.1429807894292907,\n",
       "   0.14290455482604744,\n",
       "   0.14271538031783923,\n",
       "   0.14253252547743037,\n",
       "   0.14229750685754852,\n",
       "   0.14221244984786416,\n",
       "   0.14209379682456869,\n",
       "   0.141986000380327,\n",
       "   0.14194380816909186,\n",
       "   0.14169914383720197,\n",
       "   0.1415622311804263,\n",
       "   0.14131773686619056,\n",
       "   0.14101993958855516,\n",
       "   0.1409231268099226,\n",
       "   0.14069500263567014,\n",
       "   0.14057089198003256,\n",
       "   0.1404109353010875,\n",
       "   0.140187358278535,\n",
       "   0.14002463996147793,\n",
       "   0.13980149842043804,\n",
       "   0.1396094198268941,\n",
       "   0.13955137028568115,\n",
       "   0.13943932996447392,\n",
       "   0.13922143323831096,\n",
       "   0.1390776059175903,\n",
       "   0.13897715016608722,\n",
       "   0.13864694555425433,\n",
       "   0.13847108559461418,\n",
       "   0.1383612539274577,\n",
       "   0.1381863662849964,\n",
       "   0.13796435289971104,\n",
       "   0.13783548109331845,\n",
       "   0.13768725838955279,\n",
       "   0.13752807749000415,\n",
       "   0.1373937040698686,\n",
       "   0.137250793925466,\n",
       "   0.1371250303568819,\n",
       "   0.1370118659498408,\n",
       "   0.13691073971172787,\n",
       "   0.13686819105421394,\n",
       "   0.1366564265169236,\n",
       "   0.1364054855796209,\n",
       "   0.13625899928781954,\n",
       "   0.13606403131316938,\n",
       "   0.13587006755862466,\n",
       "   0.13566587530568833,\n",
       "   0.13556460071240228,\n",
       "   0.1354832145085944,\n",
       "   0.13528921570021676,\n",
       "   0.13510785333910702,\n",
       "   0.13500720118110926,\n",
       "   0.1347119871215148,\n",
       "   0.13454949356910942,\n",
       "   0.13436033796633917,\n",
       "   0.134225182202419,\n",
       "   0.13409362831829927,\n",
       "   0.1339447172727879,\n",
       "   0.1338295184305586,\n",
       "   0.13362037912339367,\n",
       "   0.13335885350399607,\n",
       "   0.13321810304330833,\n",
       "   0.1330530250912721,\n",
       "   0.132922505360868,\n",
       "   0.13288355083717648,\n",
       "   0.13277126881519602,\n",
       "   0.13264248510289298,\n",
       "   0.1325598482518469,\n",
       "   0.13241712177902593,\n",
       "   0.13220794045977655,\n",
       "   0.13206056640011624,\n",
       "   0.131979886918341,\n",
       "   0.13187236171461938,\n",
       "   0.13175219638757243,\n",
       "   0.13160527159463992,\n",
       "   0.13146812012542186,\n",
       "   0.1313671203174255,\n",
       "   0.13116324026679152,\n",
       "   0.13108220748964386,\n",
       "   0.13085946834560008,\n",
       "   0.13068901205903108,\n",
       "   0.1305684531312682,\n",
       "   0.13042816874214205,\n",
       "   0.1302840939439866,\n",
       "   0.13008422315908424,\n",
       "   0.12992777435790073,\n",
       "   0.12982246305974043,\n",
       "   0.12974042146741557,\n",
       "   0.12959638933778334,\n",
       "   0.12954267006088457,\n",
       "   0.12931463424329714,\n",
       "   0.1290855369641392,\n",
       "   0.12897669021778696,\n",
       "   0.12887068401349275,\n",
       "   0.12863176181452915,\n",
       "   0.128500042507827,\n",
       "   0.12825304138502885,\n",
       "   0.12804914032835268,\n",
       "   0.12798876856917327,\n",
       "   0.12780131091105254,\n",
       "   0.12767010861556435,\n",
       "   0.12757092819339905,\n",
       "   0.12748359084654484,\n",
       "   0.12737818016354732,\n",
       "   0.12720406685631705,\n",
       "   0.1270586002765773,\n",
       "   0.12687506313365987,\n",
       "   0.1267766830417028,\n",
       "   0.12666753170773845,\n",
       "   0.12641344629720444,\n",
       "   0.12635040217559243,\n",
       "   0.12627644344573505,\n",
       "   0.12612672957554788,\n",
       "   0.1259820516414054,\n",
       "   0.1259501703772776,\n",
       "   0.125706593764511,\n",
       "   0.1255270199366078,\n",
       "   0.12541108168169265,\n",
       "   0.125249656680397,\n",
       "   0.12511145727224812,\n",
       "   0.12496511172092958,\n",
       "   0.1248548834334386,\n",
       "   0.1247706137564739,\n",
       "   0.12466205873153283,\n",
       "   0.12456041666379584,\n",
       "   0.12450649979881254,\n",
       "   0.12433734719973828,\n",
       "   0.12419323682259883,\n",
       "   0.12397624952677588,\n",
       "   0.12378685629315313,\n",
       "   0.12361646249955971,\n",
       "   0.12341871056787768,\n",
       "   0.12318427171476087,\n",
       "   0.12302689365878504,\n",
       "   0.12284348399628627,\n",
       "   0.12270028318077457,\n",
       "   0.12261289541941907,\n",
       "   0.1224736312675056,\n",
       "   0.122336961493093,\n",
       "   0.12209893441410317,\n",
       "   0.12192883759343151,\n",
       "   0.12173479926743697,\n",
       "   0.12152436139300006,\n",
       "   0.12137200443755163,\n",
       "   0.12127017252770815,\n",
       "   0.12115691871369988,\n",
       "   0.12110887842031302,\n",
       "   0.1208733756111582,\n",
       "   0.12061503214458012,\n",
       "   0.12050002957755773,\n",
       "   0.12042793145788924,\n",
       "   0.12029346718662111,\n",
       "   0.12014130191130785,\n",
       "   0.12010596384035858,\n",
       "   0.12001180858864133,\n",
       "   0.11983586381710573,\n",
       "   0.11963631901972094,\n",
       "   0.11946660871022598,\n",
       "   0.1193667433597968,\n",
       "   0.11921315846989333,\n",
       "   0.11908533473371934,\n",
       "   0.11898725345271274,\n",
       "   0.11887286347439635,\n",
       "   0.11875335038496009,\n",
       "   0.11865021793852819,\n",
       "   0.11855596802833322,\n",
       "   0.11841958590541117,\n",
       "   0.1183267868562942,\n",
       "   0.11821468640529112,\n",
       "   0.11811420780971713,\n",
       "   0.11797099675375984,\n",
       "   0.11778227807666762,\n",
       "   0.11767382348686588,\n",
       "   0.11747586989717862,\n",
       "   0.11730299463356118,\n",
       "   0.11712520343091519,\n",
       "   0.11691377459643695,\n",
       "   0.11673274019216126,\n",
       "   0.11657038672379985,\n",
       "   0.11635943643322075,\n",
       "   0.11618957199189106,\n",
       "   0.11604544625408324,\n",
       "   0.11591204843332063,\n",
       "   0.1158060724252121,\n",
       "   0.11567982230417528,\n",
       "   0.11553976674962149,\n",
       "   0.11537302682578301,\n",
       "   0.11520118781648543,\n",
       "   0.11509242063051804,\n",
       "   0.11504495117632828,\n",
       "   0.11492283084319027,\n",
       "   0.11486279334265755,\n",
       "   0.11471917700137335,\n",
       "   0.11454211694028409,\n",
       "   0.11447133196082934,\n",
       "   0.11436654896463067,\n",
       "   0.11423986362465678,\n",
       "   0.11412818893987177,\n",
       "   0.11403929819619603,\n",
       "   0.11383721403088339,\n",
       "   0.11375096676633221,\n",
       "   0.11367367910393535,\n",
       "   0.11355412505271677,\n",
       "   0.1134716718732523,\n",
       "   0.11341107876290309,\n",
       "   0.11330135580201506,\n",
       "   0.11324573836662696,\n",
       "   0.11314371503922382,\n",
       "   0.11308466311593413,\n",
       "   0.11296907434904628,\n",
       "   0.11290846981666161,\n",
       "   0.11266356601589052,\n",
       "   0.11261993554720269,\n",
       "   0.11255262326038881,\n",
       "   0.11241295973109779,\n",
       "   0.11229241813331974,\n",
       "   0.11219925410421934,\n",
       "   0.11200904636130984,\n",
       "   0.11187184172054744,\n",
       "   0.11172468927463246,\n",
       "   0.11163818626151736,\n",
       "   0.1115501277509765,\n",
       "   0.1113935022364629,\n",
       "   0.11134585961371267,\n",
       "   0.1112156330488852,\n",
       "   0.1111280286627194,\n",
       "   0.11103868642042387,\n",
       "   0.11094350594255893,\n",
       "   0.11083163550771806,\n",
       "   0.11073775701060694,\n",
       "   0.11059474682492831,\n",
       "   0.11052129565356586,\n",
       "   0.11036559335460747,\n",
       "   0.11028865806856869,\n",
       "   0.11014861091643179,\n",
       "   0.11000033648528716,\n",
       "   0.10989072682573932,\n",
       "   0.10974455916934077,\n",
       "   0.10965756789703202,\n",
       "   0.10947798317224444,\n",
       "   0.10934329387374911]}}"
      ]
     },
     "execution_count": 65,
     "metadata": {},
     "output_type": "execute_result"
    }
   ],
   "source": [
    "cb.evals_result_"
   ]
  },
  {
   "cell_type": "code",
   "execution_count": 66,
   "id": "599efa06",
   "metadata": {},
   "outputs": [
    {
     "data": {
      "text/plain": [
       "<bound method CatBoost.get_feature_importance of <catboost.core.CatBoostClassifier object at 0x00000244A7C29B50>>"
      ]
     },
     "execution_count": 66,
     "metadata": {},
     "output_type": "execute_result"
    }
   ],
   "source": [
    "cb.get_feature_importance"
   ]
  },
  {
   "cell_type": "code",
   "execution_count": 67,
   "id": "d83c098d",
   "metadata": {},
   "outputs": [
    {
     "data": {
      "text/plain": [
       "0.005470000207424164"
      ]
     },
     "execution_count": 67,
     "metadata": {},
     "output_type": "execute_result"
    }
   ],
   "source": [
    "cb.learning_rate_"
   ]
  },
  {
   "cell_type": "code",
   "execution_count": 68,
   "id": "1e97ba5f",
   "metadata": {},
   "outputs": [
    {
     "data": {
      "text/plain": [
       "<bound method CatBoost.randomized_search of <catboost.core.CatBoostClassifier object at 0x00000244A7C29B50>>"
      ]
     },
     "execution_count": 68,
     "metadata": {},
     "output_type": "execute_result"
    }
   ],
   "source": [
    "cb.randomized_search"
   ]
  },
  {
   "cell_type": "code",
   "execution_count": 69,
   "id": "b97deae1",
   "metadata": {},
   "outputs": [
    {
     "data": {
      "text/plain": [
       "<bound method CatBoost.get_all_params of <catboost.core.CatBoostClassifier object at 0x00000244A7C29B50>>"
      ]
     },
     "execution_count": 69,
     "metadata": {},
     "output_type": "execute_result"
    }
   ],
   "source": [
    "cb.get_all_params"
   ]
  },
  {
   "cell_type": "code",
   "execution_count": 70,
   "id": "486ae530",
   "metadata": {},
   "outputs": [],
   "source": [
    "#modelling -----------> xgboost\n"
   ]
  },
  {
   "cell_type": "code",
   "execution_count": 71,
   "id": "3bcae7b3",
   "metadata": {},
   "outputs": [],
   "source": [
    "from xgboost import XGBClassifier\n",
    "xg=XGBClassifier()"
   ]
  },
  {
   "cell_type": "code",
   "execution_count": 72,
   "id": "ad7a0be6",
   "metadata": {},
   "outputs": [
    {
     "data": {
      "text/plain": [
       "XGBClassifier(base_score=None, booster=None, callbacks=None,\n",
       "              colsample_bylevel=None, colsample_bynode=None,\n",
       "              colsample_bytree=None, early_stopping_rounds=None,\n",
       "              enable_categorical=False, eval_metric=None, feature_types=None,\n",
       "              gamma=None, gpu_id=None, grow_policy=None, importance_type=None,\n",
       "              interaction_constraints=None, learning_rate=None, max_bin=None,\n",
       "              max_cat_threshold=None, max_cat_to_onehot=None,\n",
       "              max_delta_step=None, max_depth=None, max_leaves=None,\n",
       "              min_child_weight=None, missing=nan, monotone_constraints=None,\n",
       "              n_estimators=100, n_jobs=None, num_parallel_tree=None,\n",
       "              predictor=None, random_state=None, ...)"
      ]
     },
     "execution_count": 72,
     "metadata": {},
     "output_type": "execute_result"
    }
   ],
   "source": [
    "xg.fit(x_train,ytrain)"
   ]
  },
  {
   "cell_type": "code",
   "execution_count": 73,
   "id": "21322136",
   "metadata": {},
   "outputs": [
    {
     "data": {
      "text/plain": [
       "array([0, 1, 0, 0, 1, 1, 1, 0, 0, 0, 1, 0, 1, 0, 1, 1, 1, 0, 0, 0, 1, 0,\n",
       "       1, 1, 1, 1, 1, 1, 0, 1, 0, 0, 0, 0, 0, 0, 1, 1, 1, 0, 1, 1, 1, 0,\n",
       "       1, 0, 1, 1, 0, 0, 0, 0, 1, 1, 0, 0, 0, 1, 0, 0, 0, 1, 0, 0, 1, 0,\n",
       "       0, 0, 1, 1, 1, 1, 0, 0, 0, 1])"
      ]
     },
     "execution_count": 73,
     "metadata": {},
     "output_type": "execute_result"
    }
   ],
   "source": [
    "xg.predict(x_test)"
   ]
  },
  {
   "cell_type": "code",
   "execution_count": 74,
   "id": "3f807aa5",
   "metadata": {},
   "outputs": [],
   "source": [
    "ypredxg=xg.predict(x_test)"
   ]
  },
  {
   "cell_type": "code",
   "execution_count": 75,
   "id": "f7b49144",
   "metadata": {},
   "outputs": [
    {
     "data": {
      "text/plain": [
       "0.7763157894736842"
      ]
     },
     "execution_count": 75,
     "metadata": {},
     "output_type": "execute_result"
    }
   ],
   "source": [
    "accuracy_score(ypredxg,ytest)"
   ]
  },
  {
   "cell_type": "code",
   "execution_count": 76,
   "id": "890e1eab",
   "metadata": {},
   "outputs": [
    {
     "name": "stdout",
     "output_type": "stream",
     "text": [
      "              precision    recall  f1-score   support\n",
      "\n",
      "           0       0.83      0.72      0.77        40\n",
      "           1       0.73      0.83      0.78        36\n",
      "\n",
      "    accuracy                           0.78        76\n",
      "   macro avg       0.78      0.78      0.78        76\n",
      "weighted avg       0.78      0.78      0.78        76\n",
      "\n"
     ]
    }
   ],
   "source": [
    "print(classification_report(ypredxg,ytest))"
   ]
  },
  {
   "cell_type": "code",
   "execution_count": 77,
   "id": "8c631917",
   "metadata": {},
   "outputs": [
    {
     "data": {
      "text/plain": [
       "array([[29, 11],\n",
       "       [ 6, 30]], dtype=int64)"
      ]
     },
     "execution_count": 77,
     "metadata": {},
     "output_type": "execute_result"
    }
   ],
   "source": [
    "confusion_matrix(ypredxg,ytest)"
   ]
  },
  {
   "cell_type": "code",
   "execution_count": 78,
   "id": "d78e08a1",
   "metadata": {},
   "outputs": [],
   "source": [
    "#################################################################"
   ]
  },
  {
   "cell_type": "code",
   "execution_count": 79,
   "id": "633dd3d0",
   "metadata": {},
   "outputs": [
    {
     "data": {
      "text/html": [
       "<div>\n",
       "<style scoped>\n",
       "    .dataframe tbody tr th:only-of-type {\n",
       "        vertical-align: middle;\n",
       "    }\n",
       "\n",
       "    .dataframe tbody tr th {\n",
       "        vertical-align: top;\n",
       "    }\n",
       "\n",
       "    .dataframe thead th {\n",
       "        text-align: right;\n",
       "    }\n",
       "</style>\n",
       "<table border=\"1\" class=\"dataframe\">\n",
       "  <thead>\n",
       "    <tr style=\"text-align: right;\">\n",
       "      <th></th>\n",
       "      <th>age</th>\n",
       "      <th>sex</th>\n",
       "      <th>cp</th>\n",
       "      <th>trestbps</th>\n",
       "      <th>chol</th>\n",
       "      <th>fbs</th>\n",
       "      <th>restecg</th>\n",
       "      <th>thalach</th>\n",
       "      <th>exang</th>\n",
       "      <th>oldpeak</th>\n",
       "      <th>slope</th>\n",
       "      <th>ca</th>\n",
       "      <th>target</th>\n",
       "    </tr>\n",
       "  </thead>\n",
       "  <tbody>\n",
       "    <tr>\n",
       "      <th>0</th>\n",
       "      <td>63</td>\n",
       "      <td>1</td>\n",
       "      <td>3</td>\n",
       "      <td>145</td>\n",
       "      <td>233</td>\n",
       "      <td>1</td>\n",
       "      <td>0</td>\n",
       "      <td>150</td>\n",
       "      <td>0</td>\n",
       "      <td>2.3</td>\n",
       "      <td>0</td>\n",
       "      <td>0</td>\n",
       "      <td>1</td>\n",
       "    </tr>\n",
       "    <tr>\n",
       "      <th>1</th>\n",
       "      <td>37</td>\n",
       "      <td>1</td>\n",
       "      <td>2</td>\n",
       "      <td>130</td>\n",
       "      <td>250</td>\n",
       "      <td>0</td>\n",
       "      <td>1</td>\n",
       "      <td>187</td>\n",
       "      <td>0</td>\n",
       "      <td>3.5</td>\n",
       "      <td>0</td>\n",
       "      <td>0</td>\n",
       "      <td>1</td>\n",
       "    </tr>\n",
       "    <tr>\n",
       "      <th>2</th>\n",
       "      <td>41</td>\n",
       "      <td>0</td>\n",
       "      <td>1</td>\n",
       "      <td>130</td>\n",
       "      <td>204</td>\n",
       "      <td>0</td>\n",
       "      <td>0</td>\n",
       "      <td>172</td>\n",
       "      <td>0</td>\n",
       "      <td>1.4</td>\n",
       "      <td>2</td>\n",
       "      <td>0</td>\n",
       "      <td>1</td>\n",
       "    </tr>\n",
       "    <tr>\n",
       "      <th>3</th>\n",
       "      <td>56</td>\n",
       "      <td>1</td>\n",
       "      <td>1</td>\n",
       "      <td>120</td>\n",
       "      <td>236</td>\n",
       "      <td>0</td>\n",
       "      <td>1</td>\n",
       "      <td>178</td>\n",
       "      <td>0</td>\n",
       "      <td>0.8</td>\n",
       "      <td>2</td>\n",
       "      <td>0</td>\n",
       "      <td>1</td>\n",
       "    </tr>\n",
       "    <tr>\n",
       "      <th>4</th>\n",
       "      <td>57</td>\n",
       "      <td>0</td>\n",
       "      <td>0</td>\n",
       "      <td>120</td>\n",
       "      <td>354</td>\n",
       "      <td>0</td>\n",
       "      <td>1</td>\n",
       "      <td>163</td>\n",
       "      <td>1</td>\n",
       "      <td>0.6</td>\n",
       "      <td>2</td>\n",
       "      <td>0</td>\n",
       "      <td>1</td>\n",
       "    </tr>\n",
       "  </tbody>\n",
       "</table>\n",
       "</div>"
      ],
      "text/plain": [
       "   age  sex  cp  trestbps  chol  fbs  restecg  thalach  exang  oldpeak  slope  \\\n",
       "0   63    1   3       145   233    1        0      150      0      2.3      0   \n",
       "1   37    1   2       130   250    0        1      187      0      3.5      0   \n",
       "2   41    0   1       130   204    0        0      172      0      1.4      2   \n",
       "3   56    1   1       120   236    0        1      178      0      0.8      2   \n",
       "4   57    0   0       120   354    0        1      163      1      0.6      2   \n",
       "\n",
       "   ca  target  \n",
       "0   0       1  \n",
       "1   0       1  \n",
       "2   0       1  \n",
       "3   0       1  \n",
       "4   0       1  "
      ]
     },
     "execution_count": 79,
     "metadata": {},
     "output_type": "execute_result"
    }
   ],
   "source": [
    "data.head()"
   ]
  },
  {
   "cell_type": "code",
   "execution_count": 80,
   "id": "7e95c0ae",
   "metadata": {},
   "outputs": [
    {
     "name": "stdout",
     "output_type": "stream",
     "text": [
      "age\n"
     ]
    },
    {
     "data": {
      "image/png": "[encoded data removed]",
      "text/plain": [
       "<Figure size 432x288 with 1 Axes>"
      ]
     },
     "metadata": {
      "needs_background": "light"
     },
     "output_type": "display_data"
    },
    {
     "name": "stdout",
     "output_type": "stream",
     "text": [
      "sex\n"
     ]
    },
    {
     "data": {
      "image/png": "[encoded data removed]",
      "text/plain": [
       "<Figure size 432x288 with 1 Axes>"
      ]
     },
     "metadata": {
      "needs_background": "light"
     },
     "output_type": "display_data"
    },
    {
     "name": "stdout",
     "output_type": "stream",
     "text": [
      "cp\n"
     ]
    },
    {
     "data": {
      "image/png": "[encoded data removed]",
      "text/plain": [
       "<Figure size 432x288 with 1 Axes>"
      ]
     },
     "metadata": {
      "needs_background": "light"
     },
     "output_type": "display_data"
    },
    {
     "name": "stdout",
     "output_type": "stream",
     "text": [
      "trestbps\n"
     ]
    },
    {
     "data": {
      "image/png": "[encoded data removed]",
      "text/plain": [
       "<Figure size 432x288 with 1 Axes>"
      ]
     },
     "metadata": {
      "needs_background": "light"
     },
     "output_type": "display_data"
    },
    {
     "name": "stdout",
     "output_type": "stream",
     "text": [
      "chol\n"
     ]
    },
    {
     "data": {
      "image/png": "[encoded data removed]",
      "text/plain": [
       "<Figure size 432x288 with 1 Axes>"
      ]
     },
     "metadata": {
      "needs_background": "light"
     },
     "output_type": "display_data"
    },
    {
     "name": "stdout",
     "output_type": "stream",
     "text": [
      "fbs\n"
     ]
    },
    {
     "data": {
      "image/png": "[encoded data removed]",
      "text/plain": [
       "<Figure size 432x288 with 1 Axes>"
      ]
     },
     "metadata": {
      "needs_background": "light"
     },
     "output_type": "display_data"
    },
    {
     "name": "stdout",
     "output_type": "stream",
     "text": [
      "restecg\n"
     ]
    },
    {
     "data": {
      "image/png": "[encoded data removed]",
      "text/plain": [
       "<Figure size 432x288 with 1 Axes>"
      ]
     },
     "metadata": {
      "needs_background": "light"
     },
     "output_type": "display_data"
    },
    {
     "name": "stdout",
     "output_type": "stream",
     "text": [
      "thalach\n"
     ]
    },
    {
     "data": {
      "image/png": "[encoded data removed]",
      "text/plain": [
       "<Figure size 432x288 with 1 Axes>"
      ]
     },
     "metadata": {
      "needs_background": "light"
     },
     "output_type": "display_data"
    },
    {
     "name": "stdout",
     "output_type": "stream",
     "text": [
      "exang\n"
     ]
    },
    {
     "data": {
      "image/png": "[encoded data removed]",
      "text/plain": [
       "<Figure size 432x288 with 1 Axes>"
      ]
     },
     "metadata": {
      "needs_background": "light"
     },
     "output_type": "display_data"
    },
    {
     "name": "stdout",
     "output_type": "stream",
     "text": [
      "oldpeak\n"
     ]
    },
    {
     "data": {
      "image/png": "[encoded data removed]",
      "text/plain": [
       "<Figure size 432x288 with 1 Axes>"
      ]
     },
     "metadata": {
      "needs_background": "light"
     },
     "output_type": "display_data"
    },
    {
     "name": "stdout",
     "output_type": "stream",
     "text": [
      "slope\n"
     ]
    },
    {
     "data": {
      "image/png": "[encoded data removed]",
      "text/plain": [
       "<Figure size 432x288 with 1 Axes>"
      ]
     },
     "metadata": {
      "needs_background": "light"
     },
     "output_type": "display_data"
    },
    {
     "name": "stdout",
     "output_type": "stream",
     "text": [
      "ca\n"
     ]
    },
    {
     "data": {
      "image/png": "[encoded data removed]",
      "text/plain": [
       "<Figure size 432x288 with 1 Axes>"
      ]
     },
     "metadata": {
      "needs_background": "light"
     },
     "output_type": "display_data"
    },
    {
     "name": "stdout",
     "output_type": "stream",
     "text": [
      "target\n"
     ]
    },
    {
     "data": {
      "image/png": "[encoded data removed]",
      "text/plain": [
       "<Figure size 432x288 with 1 Axes>"
      ]
     },
     "metadata": {
      "needs_background": "light"
     },
     "output_type": "display_data"
    }
   ],
   "source": [
    "for i in col:\n",
    "    print(i)\n",
    "    sns.boxplot(data=data,x=data[i])\n",
    "    plt.show()\n",
    "    "
   ]
  },
  {
   "cell_type": "code",
   "execution_count": 81,
   "id": "802dcf01",
   "metadata": {},
   "outputs": [
    {
     "data": {
      "text/plain": [
       "0      1\n",
       "1      0\n",
       "2      0\n",
       "3      0\n",
       "4      0\n",
       "      ..\n",
       "298    0\n",
       "299    0\n",
       "300    1\n",
       "301    0\n",
       "302    0\n",
       "Name: fbs, Length: 303, dtype: int64"
      ]
     },
     "execution_count": 81,
     "metadata": {},
     "output_type": "execute_result"
    }
   ],
   "source": [
    "data.fbs"
   ]
  },
  {
   "cell_type": "code",
   "execution_count": 82,
   "id": "9b996e53",
   "metadata": {},
   "outputs": [
    {
     "data": {
      "text/plain": [
       "0    258\n",
       "1     45\n",
       "Name: fbs, dtype: int64"
      ]
     },
     "execution_count": 82,
     "metadata": {},
     "output_type": "execute_result"
    }
   ],
   "source": [
    "data.fbs.value_counts()"
   ]
  },
  {
   "cell_type": "code",
   "execution_count": 83,
   "id": "2224ef4a",
   "metadata": {},
   "outputs": [],
   "source": [
    "#oldpeak,thalach,ca,trestbps,chol"
   ]
  },
  {
   "cell_type": "code",
   "execution_count": 84,
   "id": "52b38746",
   "metadata": {},
   "outputs": [
    {
     "data": {
      "text/plain": [
       "0.0"
      ]
     },
     "execution_count": 84,
     "metadata": {},
     "output_type": "execute_result"
    }
   ],
   "source": [
    "np.quantile(data[\"oldpeak\"],0.25)"
   ]
  },
  {
   "cell_type": "code",
   "execution_count": 85,
   "id": "71a58b82",
   "metadata": {},
   "outputs": [
    {
     "data": {
      "text/plain": [
       "1.6"
      ]
     },
     "execution_count": 85,
     "metadata": {},
     "output_type": "execute_result"
    }
   ],
   "source": [
    "np.quantile(data[\"oldpeak\"],0.75)"
   ]
  },
  {
   "cell_type": "code",
   "execution_count": 86,
   "id": "f75f00ce",
   "metadata": {},
   "outputs": [
    {
     "data": {
      "text/html": [
       "<div>\n",
       "<style scoped>\n",
       "    .dataframe tbody tr th:only-of-type {\n",
       "        vertical-align: middle;\n",
       "    }\n",
       "\n",
       "    .dataframe tbody tr th {\n",
       "        vertical-align: top;\n",
       "    }\n",
       "\n",
       "    .dataframe thead th {\n",
       "        text-align: right;\n",
       "    }\n",
       "</style>\n",
       "<table border=\"1\" class=\"dataframe\">\n",
       "  <thead>\n",
       "    <tr style=\"text-align: right;\">\n",
       "      <th></th>\n",
       "      <th>age</th>\n",
       "      <th>sex</th>\n",
       "      <th>cp</th>\n",
       "      <th>trestbps</th>\n",
       "      <th>chol</th>\n",
       "      <th>fbs</th>\n",
       "      <th>restecg</th>\n",
       "      <th>thalach</th>\n",
       "      <th>exang</th>\n",
       "      <th>oldpeak</th>\n",
       "      <th>slope</th>\n",
       "      <th>ca</th>\n",
       "      <th>target</th>\n",
       "    </tr>\n",
       "  </thead>\n",
       "  <tbody>\n",
       "    <tr>\n",
       "      <th>count</th>\n",
       "      <td>303.000000</td>\n",
       "      <td>303.000000</td>\n",
       "      <td>303.000000</td>\n",
       "      <td>303.000000</td>\n",
       "      <td>303.000000</td>\n",
       "      <td>303.000000</td>\n",
       "      <td>303.000000</td>\n",
       "      <td>303.000000</td>\n",
       "      <td>303.000000</td>\n",
       "      <td>303.000000</td>\n",
       "      <td>303.000000</td>\n",
       "      <td>303.000000</td>\n",
       "      <td>303.000000</td>\n",
       "    </tr>\n",
       "    <tr>\n",
       "      <th>mean</th>\n",
       "      <td>54.366337</td>\n",
       "      <td>0.683168</td>\n",
       "      <td>0.966997</td>\n",
       "      <td>131.623762</td>\n",
       "      <td>246.264026</td>\n",
       "      <td>0.148515</td>\n",
       "      <td>0.528053</td>\n",
       "      <td>149.646865</td>\n",
       "      <td>0.326733</td>\n",
       "      <td>1.039604</td>\n",
       "      <td>1.399340</td>\n",
       "      <td>0.729373</td>\n",
       "      <td>0.544554</td>\n",
       "    </tr>\n",
       "    <tr>\n",
       "      <th>std</th>\n",
       "      <td>9.082101</td>\n",
       "      <td>0.466011</td>\n",
       "      <td>1.032052</td>\n",
       "      <td>17.538143</td>\n",
       "      <td>51.830751</td>\n",
       "      <td>0.356198</td>\n",
       "      <td>0.525860</td>\n",
       "      <td>22.905161</td>\n",
       "      <td>0.469794</td>\n",
       "      <td>1.161075</td>\n",
       "      <td>0.616226</td>\n",
       "      <td>1.022606</td>\n",
       "      <td>0.498835</td>\n",
       "    </tr>\n",
       "    <tr>\n",
       "      <th>min</th>\n",
       "      <td>29.000000</td>\n",
       "      <td>0.000000</td>\n",
       "      <td>0.000000</td>\n",
       "      <td>94.000000</td>\n",
       "      <td>126.000000</td>\n",
       "      <td>0.000000</td>\n",
       "      <td>0.000000</td>\n",
       "      <td>71.000000</td>\n",
       "      <td>0.000000</td>\n",
       "      <td>0.000000</td>\n",
       "      <td>0.000000</td>\n",
       "      <td>0.000000</td>\n",
       "      <td>0.000000</td>\n",
       "    </tr>\n",
       "    <tr>\n",
       "      <th>25%</th>\n",
       "      <td>47.500000</td>\n",
       "      <td>0.000000</td>\n",
       "      <td>0.000000</td>\n",
       "      <td>120.000000</td>\n",
       "      <td>211.000000</td>\n",
       "      <td>0.000000</td>\n",
       "      <td>0.000000</td>\n",
       "      <td>133.500000</td>\n",
       "      <td>0.000000</td>\n",
       "      <td>0.000000</td>\n",
       "      <td>1.000000</td>\n",
       "      <td>0.000000</td>\n",
       "      <td>0.000000</td>\n",
       "    </tr>\n",
       "    <tr>\n",
       "      <th>50%</th>\n",
       "      <td>55.000000</td>\n",
       "      <td>1.000000</td>\n",
       "      <td>1.000000</td>\n",
       "      <td>130.000000</td>\n",
       "      <td>240.000000</td>\n",
       "      <td>0.000000</td>\n",
       "      <td>1.000000</td>\n",
       "      <td>153.000000</td>\n",
       "      <td>0.000000</td>\n",
       "      <td>0.800000</td>\n",
       "      <td>1.000000</td>\n",
       "      <td>0.000000</td>\n",
       "      <td>1.000000</td>\n",
       "    </tr>\n",
       "    <tr>\n",
       "      <th>75%</th>\n",
       "      <td>61.000000</td>\n",
       "      <td>1.000000</td>\n",
       "      <td>2.000000</td>\n",
       "      <td>140.000000</td>\n",
       "      <td>274.500000</td>\n",
       "      <td>0.000000</td>\n",
       "      <td>1.000000</td>\n",
       "      <td>166.000000</td>\n",
       "      <td>1.000000</td>\n",
       "      <td>1.600000</td>\n",
       "      <td>2.000000</td>\n",
       "      <td>1.000000</td>\n",
       "      <td>1.000000</td>\n",
       "    </tr>\n",
       "    <tr>\n",
       "      <th>max</th>\n",
       "      <td>77.000000</td>\n",
       "      <td>1.000000</td>\n",
       "      <td>3.000000</td>\n",
       "      <td>200.000000</td>\n",
       "      <td>564.000000</td>\n",
       "      <td>1.000000</td>\n",
       "      <td>2.000000</td>\n",
       "      <td>202.000000</td>\n",
       "      <td>1.000000</td>\n",
       "      <td>6.200000</td>\n",
       "      <td>2.000000</td>\n",
       "      <td>4.000000</td>\n",
       "      <td>1.000000</td>\n",
       "    </tr>\n",
       "  </tbody>\n",
       "</table>\n",
       "</div>"
      ],
      "text/plain": [
       "              age         sex          cp    trestbps        chol         fbs  \\\n",
       "count  303.000000  303.000000  303.000000  303.000000  303.000000  303.000000   \n",
       "mean    54.366337    0.683168    0.966997  131.623762  246.264026    0.148515   \n",
       "std      9.082101    0.466011    1.032052   17.538143   51.830751    0.356198   \n",
       "min     29.000000    0.000000    0.000000   94.000000  126.000000    0.000000   \n",
       "25%     47.500000    0.000000    0.000000  120.000000  211.000000    0.000000   \n",
       "50%     55.000000    1.000000    1.000000  130.000000  240.000000    0.000000   \n",
       "75%     61.000000    1.000000    2.000000  140.000000  274.500000    0.000000   \n",
       "max     77.000000    1.000000    3.000000  200.000000  564.000000    1.000000   \n",
       "\n",
       "          restecg     thalach       exang     oldpeak       slope          ca  \\\n",
       "count  303.000000  303.000000  303.000000  303.000000  303.000000  303.000000   \n",
       "mean     0.528053  149.646865    0.326733    1.039604    1.399340    0.729373   \n",
       "std      0.525860   22.905161    0.469794    1.161075    0.616226    1.022606   \n",
       "min      0.000000   71.000000    0.000000    0.000000    0.000000    0.000000   \n",
       "25%      0.000000  133.500000    0.000000    0.000000    1.000000    0.000000   \n",
       "50%      1.000000  153.000000    0.000000    0.800000    1.000000    0.000000   \n",
       "75%      1.000000  166.000000    1.000000    1.600000    2.000000    1.000000   \n",
       "max      2.000000  202.000000    1.000000    6.200000    2.000000    4.000000   \n",
       "\n",
       "           target  \n",
       "count  303.000000  \n",
       "mean     0.544554  \n",
       "std      0.498835  \n",
       "min      0.000000  \n",
       "25%      0.000000  \n",
       "50%      1.000000  \n",
       "75%      1.000000  \n",
       "max      1.000000  "
      ]
     },
     "execution_count": 86,
     "metadata": {},
     "output_type": "execute_result"
    }
   ],
   "source": [
    "data.describe()"
   ]
  },
  {
   "cell_type": "code",
   "execution_count": 87,
   "id": "76ca4a45",
   "metadata": {},
   "outputs": [
    {
     "data": {
      "text/plain": [
       "(303, 13)"
      ]
     },
     "execution_count": 87,
     "metadata": {},
     "output_type": "execute_result"
    }
   ],
   "source": [
    "data.shape"
   ]
  },
  {
   "cell_type": "code",
   "execution_count": 88,
   "id": "5765b0d4",
   "metadata": {},
   "outputs": [
    {
     "name": "stdout",
     "output_type": "stream",
     "text": [
      "0.0 1.6 1.6\n",
      "Upper   4.0\n",
      " Lower -2.4000000000000004\n"
     ]
    }
   ],
   "source": [
    "Q1=np.quantile(data[\"oldpeak\"],0.25)\n",
    "Q3=np.quantile(data[\"oldpeak\"],0.75)\n",
    "IQR=Q3-Q1\n",
    "print(Q1,Q3,IQR)\n",
    "Upper=Q3+(1.5*IQR)\n",
    "Lower=Q1-(1.5*IQR)\n",
    "print(\"Upper   {}\\n Lower {}\".format(Upper,Lower))"
   ]
  },
  {
   "cell_type": "code",
   "execution_count": 89,
   "id": "52508db8",
   "metadata": {},
   "outputs": [],
   "source": [
    "df=data.copy()"
   ]
  },
  {
   "cell_type": "code",
   "execution_count": 90,
   "id": "2fbfe8f0",
   "metadata": {},
   "outputs": [],
   "source": [
    "#[oldpeak,thalach,ca,trestbps,chol]\n",
    "df=df[(df[\"oldpeak\"]<Upper) | ( df[\"oldpeak\"]>Lower)]"
   ]
  },
  {
   "cell_type": "code",
   "execution_count": 91,
   "id": "815d3bc8",
   "metadata": {},
   "outputs": [
    {
     "data": {
      "text/plain": [
       "(303, 13)"
      ]
     },
     "execution_count": 91,
     "metadata": {},
     "output_type": "execute_result"
    }
   ],
   "source": [
    "df.shape"
   ]
  },
  {
   "cell_type": "code",
   "execution_count": 92,
   "id": "dbd79089",
   "metadata": {},
   "outputs": [
    {
     "data": {
      "text/html": [
       "<div>\n",
       "<style scoped>\n",
       "    .dataframe tbody tr th:only-of-type {\n",
       "        vertical-align: middle;\n",
       "    }\n",
       "\n",
       "    .dataframe tbody tr th {\n",
       "        vertical-align: top;\n",
       "    }\n",
       "\n",
       "    .dataframe thead th {\n",
       "        text-align: right;\n",
       "    }\n",
       "</style>\n",
       "<table border=\"1\" class=\"dataframe\">\n",
       "  <thead>\n",
       "    <tr style=\"text-align: right;\">\n",
       "      <th></th>\n",
       "      <th>age</th>\n",
       "      <th>sex</th>\n",
       "      <th>cp</th>\n",
       "      <th>trestbps</th>\n",
       "      <th>chol</th>\n",
       "      <th>fbs</th>\n",
       "      <th>restecg</th>\n",
       "      <th>thalach</th>\n",
       "      <th>exang</th>\n",
       "      <th>oldpeak</th>\n",
       "      <th>slope</th>\n",
       "      <th>ca</th>\n",
       "      <th>target</th>\n",
       "    </tr>\n",
       "  </thead>\n",
       "  <tbody>\n",
       "    <tr>\n",
       "      <th>0</th>\n",
       "      <td>63</td>\n",
       "      <td>1</td>\n",
       "      <td>3</td>\n",
       "      <td>145</td>\n",
       "      <td>233</td>\n",
       "      <td>1</td>\n",
       "      <td>0</td>\n",
       "      <td>150</td>\n",
       "      <td>0</td>\n",
       "      <td>2.3</td>\n",
       "      <td>0</td>\n",
       "      <td>0</td>\n",
       "      <td>1</td>\n",
       "    </tr>\n",
       "    <tr>\n",
       "      <th>1</th>\n",
       "      <td>37</td>\n",
       "      <td>1</td>\n",
       "      <td>2</td>\n",
       "      <td>130</td>\n",
       "      <td>250</td>\n",
       "      <td>0</td>\n",
       "      <td>1</td>\n",
       "      <td>187</td>\n",
       "      <td>0</td>\n",
       "      <td>3.5</td>\n",
       "      <td>0</td>\n",
       "      <td>0</td>\n",
       "      <td>1</td>\n",
       "    </tr>\n",
       "    <tr>\n",
       "      <th>2</th>\n",
       "      <td>41</td>\n",
       "      <td>0</td>\n",
       "      <td>1</td>\n",
       "      <td>130</td>\n",
       "      <td>204</td>\n",
       "      <td>0</td>\n",
       "      <td>0</td>\n",
       "      <td>172</td>\n",
       "      <td>0</td>\n",
       "      <td>1.4</td>\n",
       "      <td>2</td>\n",
       "      <td>0</td>\n",
       "      <td>1</td>\n",
       "    </tr>\n",
       "    <tr>\n",
       "      <th>3</th>\n",
       "      <td>56</td>\n",
       "      <td>1</td>\n",
       "      <td>1</td>\n",
       "      <td>120</td>\n",
       "      <td>236</td>\n",
       "      <td>0</td>\n",
       "      <td>1</td>\n",
       "      <td>178</td>\n",
       "      <td>0</td>\n",
       "      <td>0.8</td>\n",
       "      <td>2</td>\n",
       "      <td>0</td>\n",
       "      <td>1</td>\n",
       "    </tr>\n",
       "    <tr>\n",
       "      <th>4</th>\n",
       "      <td>57</td>\n",
       "      <td>0</td>\n",
       "      <td>0</td>\n",
       "      <td>120</td>\n",
       "      <td>354</td>\n",
       "      <td>0</td>\n",
       "      <td>1</td>\n",
       "      <td>163</td>\n",
       "      <td>1</td>\n",
       "      <td>0.6</td>\n",
       "      <td>2</td>\n",
       "      <td>0</td>\n",
       "      <td>1</td>\n",
       "    </tr>\n",
       "    <tr>\n",
       "      <th>5</th>\n",
       "      <td>57</td>\n",
       "      <td>1</td>\n",
       "      <td>0</td>\n",
       "      <td>140</td>\n",
       "      <td>192</td>\n",
       "      <td>0</td>\n",
       "      <td>1</td>\n",
       "      <td>148</td>\n",
       "      <td>0</td>\n",
       "      <td>0.4</td>\n",
       "      <td>1</td>\n",
       "      <td>0</td>\n",
       "      <td>1</td>\n",
       "    </tr>\n",
       "    <tr>\n",
       "      <th>6</th>\n",
       "      <td>56</td>\n",
       "      <td>0</td>\n",
       "      <td>1</td>\n",
       "      <td>140</td>\n",
       "      <td>294</td>\n",
       "      <td>0</td>\n",
       "      <td>0</td>\n",
       "      <td>153</td>\n",
       "      <td>0</td>\n",
       "      <td>1.3</td>\n",
       "      <td>1</td>\n",
       "      <td>0</td>\n",
       "      <td>1</td>\n",
       "    </tr>\n",
       "    <tr>\n",
       "      <th>7</th>\n",
       "      <td>44</td>\n",
       "      <td>1</td>\n",
       "      <td>1</td>\n",
       "      <td>120</td>\n",
       "      <td>263</td>\n",
       "      <td>0</td>\n",
       "      <td>1</td>\n",
       "      <td>173</td>\n",
       "      <td>0</td>\n",
       "      <td>0.0</td>\n",
       "      <td>2</td>\n",
       "      <td>0</td>\n",
       "      <td>1</td>\n",
       "    </tr>\n",
       "    <tr>\n",
       "      <th>8</th>\n",
       "      <td>52</td>\n",
       "      <td>1</td>\n",
       "      <td>2</td>\n",
       "      <td>172</td>\n",
       "      <td>199</td>\n",
       "      <td>1</td>\n",
       "      <td>1</td>\n",
       "      <td>162</td>\n",
       "      <td>0</td>\n",
       "      <td>0.5</td>\n",
       "      <td>2</td>\n",
       "      <td>0</td>\n",
       "      <td>1</td>\n",
       "    </tr>\n",
       "    <tr>\n",
       "      <th>9</th>\n",
       "      <td>57</td>\n",
       "      <td>1</td>\n",
       "      <td>2</td>\n",
       "      <td>150</td>\n",
       "      <td>168</td>\n",
       "      <td>0</td>\n",
       "      <td>1</td>\n",
       "      <td>174</td>\n",
       "      <td>0</td>\n",
       "      <td>1.6</td>\n",
       "      <td>2</td>\n",
       "      <td>0</td>\n",
       "      <td>1</td>\n",
       "    </tr>\n",
       "    <tr>\n",
       "      <th>10</th>\n",
       "      <td>54</td>\n",
       "      <td>1</td>\n",
       "      <td>0</td>\n",
       "      <td>140</td>\n",
       "      <td>239</td>\n",
       "      <td>0</td>\n",
       "      <td>1</td>\n",
       "      <td>160</td>\n",
       "      <td>0</td>\n",
       "      <td>1.2</td>\n",
       "      <td>2</td>\n",
       "      <td>0</td>\n",
       "      <td>1</td>\n",
       "    </tr>\n",
       "    <tr>\n",
       "      <th>11</th>\n",
       "      <td>48</td>\n",
       "      <td>0</td>\n",
       "      <td>2</td>\n",
       "      <td>130</td>\n",
       "      <td>275</td>\n",
       "      <td>0</td>\n",
       "      <td>1</td>\n",
       "      <td>139</td>\n",
       "      <td>0</td>\n",
       "      <td>0.2</td>\n",
       "      <td>2</td>\n",
       "      <td>0</td>\n",
       "      <td>1</td>\n",
       "    </tr>\n",
       "    <tr>\n",
       "      <th>12</th>\n",
       "      <td>49</td>\n",
       "      <td>1</td>\n",
       "      <td>1</td>\n",
       "      <td>130</td>\n",
       "      <td>266</td>\n",
       "      <td>0</td>\n",
       "      <td>1</td>\n",
       "      <td>171</td>\n",
       "      <td>0</td>\n",
       "      <td>0.6</td>\n",
       "      <td>2</td>\n",
       "      <td>0</td>\n",
       "      <td>1</td>\n",
       "    </tr>\n",
       "    <tr>\n",
       "      <th>13</th>\n",
       "      <td>64</td>\n",
       "      <td>1</td>\n",
       "      <td>3</td>\n",
       "      <td>110</td>\n",
       "      <td>211</td>\n",
       "      <td>0</td>\n",
       "      <td>0</td>\n",
       "      <td>144</td>\n",
       "      <td>1</td>\n",
       "      <td>1.8</td>\n",
       "      <td>1</td>\n",
       "      <td>0</td>\n",
       "      <td>1</td>\n",
       "    </tr>\n",
       "    <tr>\n",
       "      <th>14</th>\n",
       "      <td>58</td>\n",
       "      <td>0</td>\n",
       "      <td>3</td>\n",
       "      <td>150</td>\n",
       "      <td>283</td>\n",
       "      <td>1</td>\n",
       "      <td>0</td>\n",
       "      <td>162</td>\n",
       "      <td>0</td>\n",
       "      <td>1.0</td>\n",
       "      <td>2</td>\n",
       "      <td>0</td>\n",
       "      <td>1</td>\n",
       "    </tr>\n",
       "    <tr>\n",
       "      <th>15</th>\n",
       "      <td>50</td>\n",
       "      <td>0</td>\n",
       "      <td>2</td>\n",
       "      <td>120</td>\n",
       "      <td>219</td>\n",
       "      <td>0</td>\n",
       "      <td>1</td>\n",
       "      <td>158</td>\n",
       "      <td>0</td>\n",
       "      <td>1.6</td>\n",
       "      <td>1</td>\n",
       "      <td>0</td>\n",
       "      <td>1</td>\n",
       "    </tr>\n",
       "    <tr>\n",
       "      <th>16</th>\n",
       "      <td>58</td>\n",
       "      <td>0</td>\n",
       "      <td>2</td>\n",
       "      <td>120</td>\n",
       "      <td>340</td>\n",
       "      <td>0</td>\n",
       "      <td>1</td>\n",
       "      <td>172</td>\n",
       "      <td>0</td>\n",
       "      <td>0.0</td>\n",
       "      <td>2</td>\n",
       "      <td>0</td>\n",
       "      <td>1</td>\n",
       "    </tr>\n",
       "    <tr>\n",
       "      <th>17</th>\n",
       "      <td>66</td>\n",
       "      <td>0</td>\n",
       "      <td>3</td>\n",
       "      <td>150</td>\n",
       "      <td>226</td>\n",
       "      <td>0</td>\n",
       "      <td>1</td>\n",
       "      <td>114</td>\n",
       "      <td>0</td>\n",
       "      <td>2.6</td>\n",
       "      <td>0</td>\n",
       "      <td>0</td>\n",
       "      <td>1</td>\n",
       "    </tr>\n",
       "    <tr>\n",
       "      <th>18</th>\n",
       "      <td>43</td>\n",
       "      <td>1</td>\n",
       "      <td>0</td>\n",
       "      <td>150</td>\n",
       "      <td>247</td>\n",
       "      <td>0</td>\n",
       "      <td>1</td>\n",
       "      <td>171</td>\n",
       "      <td>0</td>\n",
       "      <td>1.5</td>\n",
       "      <td>2</td>\n",
       "      <td>0</td>\n",
       "      <td>1</td>\n",
       "    </tr>\n",
       "    <tr>\n",
       "      <th>19</th>\n",
       "      <td>69</td>\n",
       "      <td>0</td>\n",
       "      <td>3</td>\n",
       "      <td>140</td>\n",
       "      <td>239</td>\n",
       "      <td>0</td>\n",
       "      <td>1</td>\n",
       "      <td>151</td>\n",
       "      <td>0</td>\n",
       "      <td>1.8</td>\n",
       "      <td>2</td>\n",
       "      <td>2</td>\n",
       "      <td>1</td>\n",
       "    </tr>\n",
       "  </tbody>\n",
       "</table>\n",
       "</div>"
      ],
      "text/plain": [
       "    age  sex  cp  trestbps  chol  fbs  restecg  thalach  exang  oldpeak  \\\n",
       "0    63    1   3       145   233    1        0      150      0      2.3   \n",
       "1    37    1   2       130   250    0        1      187      0      3.5   \n",
       "2    41    0   1       130   204    0        0      172      0      1.4   \n",
       "3    56    1   1       120   236    0        1      178      0      0.8   \n",
       "4    57    0   0       120   354    0        1      163      1      0.6   \n",
       "5    57    1   0       140   192    0        1      148      0      0.4   \n",
       "6    56    0   1       140   294    0        0      153      0      1.3   \n",
       "7    44    1   1       120   263    0        1      173      0      0.0   \n",
       "8    52    1   2       172   199    1        1      162      0      0.5   \n",
       "9    57    1   2       150   168    0        1      174      0      1.6   \n",
       "10   54    1   0       140   239    0        1      160      0      1.2   \n",
       "11   48    0   2       130   275    0        1      139      0      0.2   \n",
       "12   49    1   1       130   266    0        1      171      0      0.6   \n",
       "13   64    1   3       110   211    0        0      144      1      1.8   \n",
       "14   58    0   3       150   283    1        0      162      0      1.0   \n",
       "15   50    0   2       120   219    0        1      158      0      1.6   \n",
       "16   58    0   2       120   340    0        1      172      0      0.0   \n",
       "17   66    0   3       150   226    0        1      114      0      2.6   \n",
       "18   43    1   0       150   247    0        1      171      0      1.5   \n",
       "19   69    0   3       140   239    0        1      151      0      1.8   \n",
       "\n",
       "    slope  ca  target  \n",
       "0       0   0       1  \n",
       "1       0   0       1  \n",
       "2       2   0       1  \n",
       "3       2   0       1  \n",
       "4       2   0       1  \n",
       "5       1   0       1  \n",
       "6       1   0       1  \n",
       "7       2   0       1  \n",
       "8       2   0       1  \n",
       "9       2   0       1  \n",
       "10      2   0       1  \n",
       "11      2   0       1  \n",
       "12      2   0       1  \n",
       "13      1   0       1  \n",
       "14      2   0       1  \n",
       "15      1   0       1  \n",
       "16      2   0       1  \n",
       "17      0   0       1  \n",
       "18      2   0       1  \n",
       "19      2   2       1  "
      ]
     },
     "execution_count": 92,
     "metadata": {},
     "output_type": "execute_result"
    }
   ],
   "source": [
    "df.head(20)"
   ]
  },
  {
   "cell_type": "code",
   "execution_count": 93,
   "id": "e641f632",
   "metadata": {},
   "outputs": [
    {
     "name": "stdout",
     "output_type": "stream",
     "text": [
      "133.5 166.0 32.5\n",
      "Upper   214.75\n",
      " Lower 84.75\n"
     ]
    }
   ],
   "source": [
    "Q1=np.quantile(data[\"thalach\"],0.25)\n",
    "Q3=np.quantile(data[\"thalach\"],0.75)\n",
    "IQR=Q3-Q1\n",
    "print(Q1,Q3,IQR)\n",
    "Upper=Q3+(1.5*IQR)\n",
    "Lower=Q1-(1.5*IQR)\n",
    "print(\"Upper   {}\\n Lower {}\".format(Upper,Lower))"
   ]
  },
  {
   "cell_type": "code",
   "execution_count": 94,
   "id": "90f90095",
   "metadata": {},
   "outputs": [],
   "source": [
    "df=df[(df[\"thalach\"]<Upper) | ( df[\"thalach\"]>Lower)]"
   ]
  },
  {
   "cell_type": "code",
   "execution_count": 95,
   "id": "2340c902",
   "metadata": {},
   "outputs": [
    {
     "data": {
      "text/plain": [
       "(303, 13)"
      ]
     },
     "execution_count": 95,
     "metadata": {},
     "output_type": "execute_result"
    }
   ],
   "source": [
    "df.shape"
   ]
  },
  {
   "cell_type": "code",
   "execution_count": 96,
   "id": "f63b651a",
   "metadata": {},
   "outputs": [
    {
     "name": "stdout",
     "output_type": "stream",
     "text": [
      "0.0 1.0 1.0\n",
      "Upper   2.5\n",
      " Lower -1.5\n"
     ]
    }
   ],
   "source": [
    "Q1=np.quantile(data[\"ca\"],0.25)\n",
    "Q3=np.quantile(data[\"ca\"],0.75)\n",
    "IQR=Q3-Q1\n",
    "print(Q1,Q3,IQR)\n",
    "Upper=Q3+(1.5*IQR)\n",
    "Lower=Q1-(1.5*IQR)\n",
    "print(\"Upper   {}\\n Lower {}\".format(Upper,Lower))\n",
    "df=df[(df[\"ca\"]<Upper) | ( df[\"ca\"]>Lower)]"
   ]
  },
  {
   "cell_type": "code",
   "execution_count": 97,
   "id": "19fdf139",
   "metadata": {},
   "outputs": [
    {
     "data": {
      "text/plain": [
       "(303, 13)"
      ]
     },
     "execution_count": 97,
     "metadata": {},
     "output_type": "execute_result"
    }
   ],
   "source": [
    "df.shape"
   ]
  },
  {
   "cell_type": "code",
   "execution_count": 98,
   "id": "b6afe9a3",
   "metadata": {},
   "outputs": [
    {
     "name": "stdout",
     "output_type": "stream",
     "text": [
      "120.0 140.0 20.0\n",
      "Upper   170.0\n",
      " Lower 90.0\n"
     ]
    }
   ],
   "source": [
    "Q1=np.quantile(data[\"trestbps\"],0.25)\n",
    "Q3=np.quantile(data[\"trestbps\"],0.75)\n",
    "IQR=Q3-Q1\n",
    "print(Q1,Q3,IQR)\n",
    "Upper=Q3+(1.5*IQR)\n",
    "Lower=Q1-(1.5*IQR)\n",
    "print(\"Upper   {}\\n Lower {}\".format(Upper,Lower))\n",
    "df=df[(df[\"trestbps\"]<Upper) | ( df[\"trestbps\"]>Lower)]"
   ]
  },
  {
   "cell_type": "code",
   "execution_count": 99,
   "id": "8871c3e1",
   "metadata": {},
   "outputs": [
    {
     "data": {
      "text/plain": [
       "(303, 13)"
      ]
     },
     "execution_count": 99,
     "metadata": {},
     "output_type": "execute_result"
    }
   ],
   "source": [
    "df.shape"
   ]
  },
  {
   "cell_type": "code",
   "execution_count": 100,
   "id": "5dc6676d",
   "metadata": {},
   "outputs": [
    {
     "name": "stdout",
     "output_type": "stream",
     "text": [
      "211.0 274.5 63.5\n",
      "Upper   369.75\n",
      " Lower 115.75\n"
     ]
    }
   ],
   "source": [
    "Q1=np.quantile(data[\"chol\"],0.25)\n",
    "Q3=np.quantile(data[\"chol\"],0.75)\n",
    "IQR=Q3-Q1\n",
    "print(Q1,Q3,IQR)\n",
    "Upper=Q3+(1.5*IQR)\n",
    "Lower=Q1-(1.5*IQR)\n",
    "print(\"Upper   {}\\n Lower {}\".format(Upper,Lower))\n",
    "df=df[(df[\"chol\"]<Upper) | ( df[\"chol\"]>Lower)]"
   ]
  },
  {
   "cell_type": "code",
   "execution_count": 101,
   "id": "fc3607f0",
   "metadata": {},
   "outputs": [
    {
     "data": {
      "text/plain": [
       "(303, 13)"
      ]
     },
     "execution_count": 101,
     "metadata": {},
     "output_type": "execute_result"
    }
   ],
   "source": [
    "df.shape"
   ]
  },
  {
   "cell_type": "code",
   "execution_count": 106,
   "id": "3841de5c",
   "metadata": {},
   "outputs": [],
   "source": [
    "X=df.iloc[:,:-1]\n",
    "Y=df.iloc[:,-1]"
   ]
  },
  {
   "cell_type": "code",
   "execution_count": 108,
   "id": "8ad10e80",
   "metadata": {},
   "outputs": [],
   "source": [
    "xxtrain,xxtest,yytrain,yytest=train_test_split(X,Y,random_state=42,test_size=0.25,stratify=Y)"
   ]
  },
  {
   "cell_type": "code",
   "execution_count": 110,
   "id": "9e067ca1",
   "metadata": {},
   "outputs": [],
   "source": [
    "sc=StandardScaler()\n",
    "xx_train=sc.fit_transform(xxtrain)\n",
    "xx_test=sc.transform(xxtest)"
   ]
  },
  {
   "cell_type": "code",
   "execution_count": 111,
   "id": "6f5b5c03",
   "metadata": {},
   "outputs": [],
   "source": [
    "#Logistic Regression\n",
    "lr=LogisticRegression(penalty='l2',\n",
    "    dual=False,\n",
    "    tol=0.0001,\n",
    "    C=1.0,\n",
    "    fit_intercept=True,\n",
    "    intercept_scaling=1,\n",
    "    class_weight=None,\n",
    "    random_state=None,\n",
    "    solver='lbfgs',\n",
    "    max_iter=100,\n",
    "    multi_class='auto',\n",
    "    verbose=0,\n",
    "    warm_start=False,\n",
    "    n_jobs=None,\n",
    "    l1_ratio=None,\n",
    ")"
   ]
  },
  {
   "cell_type": "code",
   "execution_count": 113,
   "id": "3e7487a5",
   "metadata": {},
   "outputs": [
    {
     "data": {
      "text/plain": [
       "LogisticRegression()"
      ]
     },
     "execution_count": 113,
     "metadata": {},
     "output_type": "execute_result"
    }
   ],
   "source": [
    "lr.fit(xx_train,yytrain)"
   ]
  },
  {
   "cell_type": "code",
   "execution_count": 114,
   "id": "838f0874",
   "metadata": {},
   "outputs": [],
   "source": [
    "ypreddlr=lr.predict(xx_test)"
   ]
  },
  {
   "cell_type": "code",
   "execution_count": 115,
   "id": "64bbaa7f",
   "metadata": {},
   "outputs": [
    {
     "data": {
      "text/plain": [
       "0.7631578947368421"
      ]
     },
     "execution_count": 115,
     "metadata": {},
     "output_type": "execute_result"
    }
   ],
   "source": [
    "accuracy_score(ypreddlr,yytest)"
   ]
  },
  {
   "cell_type": "code",
   "execution_count": 116,
   "id": "6340a83e",
   "metadata": {},
   "outputs": [
    {
     "name": "stdout",
     "output_type": "stream",
     "text": [
      "              precision    recall  f1-score   support\n",
      "\n",
      "           0       0.69      0.77      0.73        31\n",
      "           1       0.83      0.76      0.79        45\n",
      "\n",
      "    accuracy                           0.76        76\n",
      "   macro avg       0.76      0.76      0.76        76\n",
      "weighted avg       0.77      0.76      0.76        76\n",
      "\n"
     ]
    }
   ],
   "source": [
    "print(classification_report(ypreddlr,yytest))"
   ]
  },
  {
   "cell_type": "code",
   "execution_count": 117,
   "id": "edc1b61e",
   "metadata": {},
   "outputs": [
    {
     "data": {
      "text/plain": [
       "array([[24,  7],\n",
       "       [11, 34]], dtype=int64)"
      ]
     },
     "execution_count": 117,
     "metadata": {},
     "output_type": "execute_result"
    }
   ],
   "source": [
    "confusion_matrix(ypreddlr,yytest)"
   ]
  },
  {
   "cell_type": "code",
   "execution_count": null,
   "id": "dfe8a3ba",
   "metadata": {},
   "outputs": [],
   "source": [
    "#model using the catboost"
   ]
  },
  {
   "cell_type": "code",
   "execution_count": 118,
   "id": "ee18c813",
   "metadata": {},
   "outputs": [],
   "source": [
    "Cb=CatBoostClassifier()"
   ]
  },
  {
   "cell_type": "code",
   "execution_count": 119,
   "id": "225dba55",
   "metadata": {},
   "outputs": [
    {
     "name": "stdout",
     "output_type": "stream",
     "text": [
      "Learning rate set to 0.00547\n",
      "0:\tlearn: 0.6890439\ttotal: 4.05ms\tremaining: 4.05s\n",
      "1:\tlearn: 0.6847265\ttotal: 7.38ms\tremaining: 3.68s\n",
      "2:\tlearn: 0.6804536\ttotal: 10.7ms\tremaining: 3.55s\n",
      "3:\tlearn: 0.6763887\ttotal: 14ms\tremaining: 3.49s\n",
      "4:\tlearn: 0.6730503\ttotal: 17.4ms\tremaining: 3.46s\n",
      "5:\tlearn: 0.6690487\ttotal: 21.1ms\tremaining: 3.5s\n",
      "6:\tlearn: 0.6651815\ttotal: 24.3ms\tremaining: 3.45s\n",
      "7:\tlearn: 0.6620759\ttotal: 27.6ms\tremaining: 3.42s\n",
      "8:\tlearn: 0.6586712\ttotal: 30.9ms\tremaining: 3.4s\n",
      "9:\tlearn: 0.6569262\ttotal: 33.2ms\tremaining: 3.29s\n",
      "10:\tlearn: 0.6537147\ttotal: 36.8ms\tremaining: 3.31s\n",
      "11:\tlearn: 0.6494941\ttotal: 40.1ms\tremaining: 3.3s\n",
      "12:\tlearn: 0.6460231\ttotal: 43.6ms\tremaining: 3.31s\n",
      "13:\tlearn: 0.6422330\ttotal: 47.3ms\tremaining: 3.33s\n",
      "14:\tlearn: 0.6388662\ttotal: 50.6ms\tremaining: 3.32s\n",
      "15:\tlearn: 0.6351288\ttotal: 54.1ms\tremaining: 3.33s\n",
      "16:\tlearn: 0.6310254\ttotal: 57.5ms\tremaining: 3.32s\n",
      "17:\tlearn: 0.6278720\ttotal: 60.9ms\tremaining: 3.32s\n",
      "18:\tlearn: 0.6244536\ttotal: 64.3ms\tremaining: 3.32s\n",
      "19:\tlearn: 0.6209305\ttotal: 67.8ms\tremaining: 3.32s\n",
      "20:\tlearn: 0.6183347\ttotal: 71.2ms\tremaining: 3.32s\n",
      "21:\tlearn: 0.6160086\ttotal: 73.8ms\tremaining: 3.28s\n",
      "22:\tlearn: 0.6127626\ttotal: 78.3ms\tremaining: 3.32s\n",
      "23:\tlearn: 0.6103991\ttotal: 82.5ms\tremaining: 3.35s\n",
      "24:\tlearn: 0.6066549\ttotal: 87ms\tremaining: 3.39s\n",
      "25:\tlearn: 0.6031723\ttotal: 91.9ms\tremaining: 3.44s\n",
      "26:\tlearn: 0.6017847\ttotal: 94ms\tremaining: 3.39s\n",
      "27:\tlearn: 0.5987753\ttotal: 98.2ms\tremaining: 3.41s\n",
      "28:\tlearn: 0.5974145\ttotal: 100ms\tremaining: 3.35s\n",
      "29:\tlearn: 0.5946090\ttotal: 103ms\tremaining: 3.34s\n",
      "30:\tlearn: 0.5913033\ttotal: 107ms\tremaining: 3.33s\n",
      "31:\tlearn: 0.5881559\ttotal: 110ms\tremaining: 3.32s\n",
      "32:\tlearn: 0.5848747\ttotal: 113ms\tremaining: 3.32s\n",
      "33:\tlearn: 0.5820784\ttotal: 117ms\tremaining: 3.31s\n",
      "34:\tlearn: 0.5787249\ttotal: 120ms\tremaining: 3.3s\n",
      "35:\tlearn: 0.5778725\ttotal: 122ms\tremaining: 3.26s\n",
      "36:\tlearn: 0.5752726\ttotal: 125ms\tremaining: 3.25s\n",
      "37:\tlearn: 0.5716580\ttotal: 128ms\tremaining: 3.25s\n",
      "38:\tlearn: 0.5692756\ttotal: 132ms\tremaining: 3.24s\n",
      "39:\tlearn: 0.5668878\ttotal: 134ms\tremaining: 3.22s\n",
      "40:\tlearn: 0.5639362\ttotal: 137ms\tremaining: 3.21s\n",
      "41:\tlearn: 0.5610724\ttotal: 140ms\tremaining: 3.2s\n",
      "42:\tlearn: 0.5584125\ttotal: 143ms\tremaining: 3.19s\n",
      "43:\tlearn: 0.5553801\ttotal: 146ms\tremaining: 3.18s\n",
      "44:\tlearn: 0.5530667\ttotal: 150ms\tremaining: 3.17s\n",
      "45:\tlearn: 0.5507074\ttotal: 152ms\tremaining: 3.16s\n",
      "46:\tlearn: 0.5482627\ttotal: 155ms\tremaining: 3.15s\n",
      "47:\tlearn: 0.5453681\ttotal: 158ms\tremaining: 3.14s\n",
      "48:\tlearn: 0.5422834\ttotal: 162ms\tremaining: 3.13s\n",
      "49:\tlearn: 0.5396386\ttotal: 165ms\tremaining: 3.13s\n",
      "50:\tlearn: 0.5378079\ttotal: 167ms\tremaining: 3.12s\n",
      "51:\tlearn: 0.5359423\ttotal: 170ms\tremaining: 3.1s\n",
      "52:\tlearn: 0.5336369\ttotal: 175ms\tremaining: 3.12s\n",
      "53:\tlearn: 0.5310212\ttotal: 178ms\tremaining: 3.12s\n",
      "54:\tlearn: 0.5285548\ttotal: 181ms\tremaining: 3.12s\n",
      "55:\tlearn: 0.5263204\ttotal: 185ms\tremaining: 3.12s\n",
      "56:\tlearn: 0.5240456\ttotal: 189ms\tremaining: 3.13s\n",
      "57:\tlearn: 0.5214075\ttotal: 193ms\tremaining: 3.14s\n",
      "58:\tlearn: 0.5187697\ttotal: 198ms\tremaining: 3.15s\n",
      "59:\tlearn: 0.5163356\ttotal: 200ms\tremaining: 3.14s\n",
      "60:\tlearn: 0.5136653\ttotal: 205ms\tremaining: 3.15s\n",
      "61:\tlearn: 0.5117856\ttotal: 208ms\tremaining: 3.14s\n",
      "62:\tlearn: 0.5093869\ttotal: 211ms\tremaining: 3.14s\n",
      "63:\tlearn: 0.5069869\ttotal: 214ms\tremaining: 3.13s\n",
      "64:\tlearn: 0.5052380\ttotal: 217ms\tremaining: 3.12s\n",
      "65:\tlearn: 0.5035073\ttotal: 220ms\tremaining: 3.11s\n",
      "66:\tlearn: 0.5016876\ttotal: 223ms\tremaining: 3.1s\n",
      "67:\tlearn: 0.4996247\ttotal: 226ms\tremaining: 3.1s\n",
      "68:\tlearn: 0.4972356\ttotal: 229ms\tremaining: 3.09s\n",
      "69:\tlearn: 0.4955125\ttotal: 232ms\tremaining: 3.08s\n",
      "70:\tlearn: 0.4933454\ttotal: 235ms\tremaining: 3.08s\n",
      "71:\tlearn: 0.4910949\ttotal: 238ms\tremaining: 3.07s\n",
      "72:\tlearn: 0.4896148\ttotal: 241ms\tremaining: 3.06s\n",
      "73:\tlearn: 0.4874078\ttotal: 244ms\tremaining: 3.06s\n",
      "74:\tlearn: 0.4853199\ttotal: 247ms\tremaining: 3.05s\n",
      "75:\tlearn: 0.4833049\ttotal: 250ms\tremaining: 3.04s\n",
      "76:\tlearn: 0.4811669\ttotal: 253ms\tremaining: 3.04s\n",
      "77:\tlearn: 0.4789969\ttotal: 256ms\tremaining: 3.03s\n",
      "78:\tlearn: 0.4767379\ttotal: 259ms\tremaining: 3.02s\n",
      "79:\tlearn: 0.4758632\ttotal: 262ms\tremaining: 3.01s\n",
      "80:\tlearn: 0.4742036\ttotal: 265ms\tremaining: 3s\n",
      "81:\tlearn: 0.4720440\ttotal: 268ms\tremaining: 3s\n",
      "82:\tlearn: 0.4702387\ttotal: 271ms\tremaining: 2.99s\n",
      "83:\tlearn: 0.4681899\ttotal: 274ms\tremaining: 2.99s\n",
      "84:\tlearn: 0.4664475\ttotal: 277ms\tremaining: 2.98s\n",
      "85:\tlearn: 0.4643425\ttotal: 280ms\tremaining: 2.98s\n",
      "86:\tlearn: 0.4624622\ttotal: 283ms\tremaining: 2.97s\n",
      "87:\tlearn: 0.4607361\ttotal: 286ms\tremaining: 2.96s\n",
      "88:\tlearn: 0.4588083\ttotal: 289ms\tremaining: 2.96s\n",
      "89:\tlearn: 0.4569770\ttotal: 292ms\tremaining: 2.95s\n",
      "90:\tlearn: 0.4552513\ttotal: 295ms\tremaining: 2.95s\n",
      "91:\tlearn: 0.4548525\ttotal: 297ms\tremaining: 2.93s\n",
      "92:\tlearn: 0.4529296\ttotal: 300ms\tremaining: 2.93s\n",
      "93:\tlearn: 0.4516555\ttotal: 303ms\tremaining: 2.92s\n",
      "94:\tlearn: 0.4495856\ttotal: 306ms\tremaining: 2.92s\n",
      "95:\tlearn: 0.4476754\ttotal: 309ms\tremaining: 2.91s\n",
      "96:\tlearn: 0.4460619\ttotal: 313ms\tremaining: 2.91s\n",
      "97:\tlearn: 0.4442246\ttotal: 315ms\tremaining: 2.9s\n",
      "98:\tlearn: 0.4425950\ttotal: 319ms\tremaining: 2.9s\n",
      "99:\tlearn: 0.4407086\ttotal: 322ms\tremaining: 2.89s\n",
      "100:\tlearn: 0.4386115\ttotal: 325ms\tremaining: 2.89s\n",
      "101:\tlearn: 0.4366612\ttotal: 328ms\tremaining: 2.88s\n",
      "102:\tlearn: 0.4350304\ttotal: 330ms\tremaining: 2.88s\n",
      "103:\tlearn: 0.4337659\ttotal: 334ms\tremaining: 2.87s\n",
      "104:\tlearn: 0.4321037\ttotal: 337ms\tremaining: 2.87s\n",
      "105:\tlearn: 0.4305997\ttotal: 340ms\tremaining: 2.86s\n",
      "106:\tlearn: 0.4292440\ttotal: 343ms\tremaining: 2.86s\n",
      "107:\tlearn: 0.4280415\ttotal: 346ms\tremaining: 2.85s\n",
      "108:\tlearn: 0.4268820\ttotal: 349ms\tremaining: 2.85s\n",
      "109:\tlearn: 0.4255547\ttotal: 352ms\tremaining: 2.85s\n",
      "110:\tlearn: 0.4241543\ttotal: 355ms\tremaining: 2.84s\n",
      "111:\tlearn: 0.4227859\ttotal: 359ms\tremaining: 2.85s\n",
      "112:\tlearn: 0.4210868\ttotal: 362ms\tremaining: 2.85s\n",
      "113:\tlearn: 0.4194448\ttotal: 366ms\tremaining: 2.84s\n",
      "114:\tlearn: 0.4179689\ttotal: 370ms\tremaining: 2.84s\n",
      "115:\tlearn: 0.4159626\ttotal: 373ms\tremaining: 2.84s\n",
      "116:\tlearn: 0.4141786\ttotal: 377ms\tremaining: 2.84s\n",
      "117:\tlearn: 0.4124597\ttotal: 382ms\tremaining: 2.85s\n",
      "118:\tlearn: 0.4111540\ttotal: 386ms\tremaining: 2.86s\n",
      "119:\tlearn: 0.4102000\ttotal: 389ms\tremaining: 2.85s\n",
      "120:\tlearn: 0.4085509\ttotal: 393ms\tremaining: 2.85s\n",
      "121:\tlearn: 0.4072660\ttotal: 396ms\tremaining: 2.85s\n",
      "122:\tlearn: 0.4059773\ttotal: 400ms\tremaining: 2.85s\n",
      "123:\tlearn: 0.4056771\ttotal: 402ms\tremaining: 2.84s\n",
      "124:\tlearn: 0.4046086\ttotal: 407ms\tremaining: 2.85s\n",
      "125:\tlearn: 0.4034917\ttotal: 410ms\tremaining: 2.84s\n",
      "126:\tlearn: 0.4020272\ttotal: 413ms\tremaining: 2.84s\n",
      "127:\tlearn: 0.4008484\ttotal: 417ms\tremaining: 2.84s\n",
      "128:\tlearn: 0.3997146\ttotal: 420ms\tremaining: 2.83s\n",
      "129:\tlearn: 0.3991264\ttotal: 423ms\tremaining: 2.83s\n",
      "130:\tlearn: 0.3977132\ttotal: 426ms\tremaining: 2.83s\n",
      "131:\tlearn: 0.3963307\ttotal: 429ms\tremaining: 2.82s\n",
      "132:\tlearn: 0.3949844\ttotal: 432ms\tremaining: 2.82s\n",
      "133:\tlearn: 0.3940371\ttotal: 435ms\tremaining: 2.81s\n",
      "134:\tlearn: 0.3926224\ttotal: 438ms\tremaining: 2.81s\n",
      "135:\tlearn: 0.3914224\ttotal: 442ms\tremaining: 2.81s\n",
      "136:\tlearn: 0.3902326\ttotal: 445ms\tremaining: 2.8s\n",
      "137:\tlearn: 0.3890730\ttotal: 448ms\tremaining: 2.8s\n",
      "138:\tlearn: 0.3877296\ttotal: 451ms\tremaining: 2.79s\n",
      "139:\tlearn: 0.3868836\ttotal: 454ms\tremaining: 2.79s\n",
      "140:\tlearn: 0.3856975\ttotal: 457ms\tremaining: 2.78s\n",
      "141:\tlearn: 0.3843430\ttotal: 460ms\tremaining: 2.78s\n",
      "142:\tlearn: 0.3830262\ttotal: 463ms\tremaining: 2.77s\n",
      "143:\tlearn: 0.3816635\ttotal: 466ms\tremaining: 2.77s\n",
      "144:\tlearn: 0.3803348\ttotal: 469ms\tremaining: 2.77s\n",
      "145:\tlearn: 0.3790642\ttotal: 472ms\tremaining: 2.76s\n",
      "146:\tlearn: 0.3779793\ttotal: 475ms\tremaining: 2.76s\n",
      "147:\tlearn: 0.3769013\ttotal: 478ms\tremaining: 2.75s\n",
      "148:\tlearn: 0.3762133\ttotal: 481ms\tremaining: 2.75s\n",
      "149:\tlearn: 0.3749087\ttotal: 484ms\tremaining: 2.75s\n",
      "150:\tlearn: 0.3737835\ttotal: 487ms\tremaining: 2.74s\n",
      "151:\tlearn: 0.3727249\ttotal: 491ms\tremaining: 2.74s\n",
      "152:\tlearn: 0.3715678\ttotal: 494ms\tremaining: 2.73s\n",
      "153:\tlearn: 0.3705170\ttotal: 496ms\tremaining: 2.73s\n",
      "154:\tlearn: 0.3692488\ttotal: 499ms\tremaining: 2.72s\n",
      "155:\tlearn: 0.3685549\ttotal: 503ms\tremaining: 2.72s\n",
      "156:\tlearn: 0.3672524\ttotal: 506ms\tremaining: 2.71s\n",
      "157:\tlearn: 0.3660414\ttotal: 509ms\tremaining: 2.71s\n",
      "158:\tlearn: 0.3646177\ttotal: 512ms\tremaining: 2.71s\n",
      "159:\tlearn: 0.3638092\ttotal: 514ms\tremaining: 2.7s\n",
      "160:\tlearn: 0.3625089\ttotal: 518ms\tremaining: 2.7s\n",
      "161:\tlearn: 0.3618308\ttotal: 521ms\tremaining: 2.69s\n",
      "162:\tlearn: 0.3608080\ttotal: 524ms\tremaining: 2.69s\n",
      "163:\tlearn: 0.3596168\ttotal: 527ms\tremaining: 2.69s\n",
      "164:\tlearn: 0.3585100\ttotal: 530ms\tremaining: 2.68s\n"
     ]
    },
    {
     "name": "stdout",
     "output_type": "stream",
     "text": [
      "165:\tlearn: 0.3571951\ttotal: 534ms\tremaining: 2.68s\n",
      "166:\tlearn: 0.3563417\ttotal: 538ms\tremaining: 2.68s\n",
      "167:\tlearn: 0.3553237\ttotal: 541ms\tremaining: 2.68s\n",
      "168:\tlearn: 0.3547052\ttotal: 544ms\tremaining: 2.68s\n",
      "169:\tlearn: 0.3542242\ttotal: 548ms\tremaining: 2.67s\n",
      "170:\tlearn: 0.3532531\ttotal: 551ms\tremaining: 2.67s\n",
      "171:\tlearn: 0.3518826\ttotal: 555ms\tremaining: 2.67s\n",
      "172:\tlearn: 0.3509745\ttotal: 559ms\tremaining: 2.67s\n",
      "173:\tlearn: 0.3499105\ttotal: 563ms\tremaining: 2.67s\n",
      "174:\tlearn: 0.3489210\ttotal: 567ms\tremaining: 2.67s\n",
      "175:\tlearn: 0.3482972\ttotal: 570ms\tremaining: 2.67s\n",
      "176:\tlearn: 0.3474395\ttotal: 573ms\tremaining: 2.67s\n",
      "177:\tlearn: 0.3464008\ttotal: 576ms\tremaining: 2.66s\n",
      "178:\tlearn: 0.3451629\ttotal: 580ms\tremaining: 2.66s\n",
      "179:\tlearn: 0.3440881\ttotal: 583ms\tremaining: 2.65s\n",
      "180:\tlearn: 0.3430067\ttotal: 586ms\tremaining: 2.65s\n",
      "181:\tlearn: 0.3421024\ttotal: 589ms\tremaining: 2.65s\n",
      "182:\tlearn: 0.3414123\ttotal: 592ms\tremaining: 2.64s\n",
      "183:\tlearn: 0.3405460\ttotal: 595ms\tremaining: 2.64s\n",
      "184:\tlearn: 0.3397786\ttotal: 598ms\tremaining: 2.63s\n",
      "185:\tlearn: 0.3388445\ttotal: 601ms\tremaining: 2.63s\n",
      "186:\tlearn: 0.3376077\ttotal: 604ms\tremaining: 2.63s\n",
      "187:\tlearn: 0.3364740\ttotal: 607ms\tremaining: 2.62s\n",
      "188:\tlearn: 0.3359716\ttotal: 610ms\tremaining: 2.62s\n",
      "189:\tlearn: 0.3355398\ttotal: 612ms\tremaining: 2.61s\n",
      "190:\tlearn: 0.3345136\ttotal: 615ms\tremaining: 2.6s\n",
      "191:\tlearn: 0.3338267\ttotal: 618ms\tremaining: 2.6s\n",
      "192:\tlearn: 0.3332291\ttotal: 621ms\tremaining: 2.6s\n",
      "193:\tlearn: 0.3324080\ttotal: 624ms\tremaining: 2.59s\n",
      "194:\tlearn: 0.3315718\ttotal: 627ms\tremaining: 2.59s\n",
      "195:\tlearn: 0.3307598\ttotal: 630ms\tremaining: 2.58s\n",
      "196:\tlearn: 0.3301226\ttotal: 634ms\tremaining: 2.58s\n",
      "197:\tlearn: 0.3290942\ttotal: 637ms\tremaining: 2.58s\n",
      "198:\tlearn: 0.3282549\ttotal: 640ms\tremaining: 2.57s\n",
      "199:\tlearn: 0.3273631\ttotal: 643ms\tremaining: 2.57s\n",
      "200:\tlearn: 0.3264483\ttotal: 646ms\tremaining: 2.57s\n",
      "201:\tlearn: 0.3254383\ttotal: 649ms\tremaining: 2.56s\n",
      "202:\tlearn: 0.3248045\ttotal: 652ms\tremaining: 2.56s\n",
      "203:\tlearn: 0.3242615\ttotal: 655ms\tremaining: 2.55s\n",
      "204:\tlearn: 0.3235297\ttotal: 658ms\tremaining: 2.55s\n",
      "205:\tlearn: 0.3226302\ttotal: 661ms\tremaining: 2.55s\n",
      "206:\tlearn: 0.3216971\ttotal: 664ms\tremaining: 2.54s\n",
      "207:\tlearn: 0.3208290\ttotal: 667ms\tremaining: 2.54s\n",
      "208:\tlearn: 0.3201232\ttotal: 670ms\tremaining: 2.53s\n",
      "209:\tlearn: 0.3196065\ttotal: 673ms\tremaining: 2.53s\n",
      "210:\tlearn: 0.3186878\ttotal: 676ms\tremaining: 2.53s\n",
      "211:\tlearn: 0.3180859\ttotal: 679ms\tremaining: 2.52s\n",
      "212:\tlearn: 0.3172005\ttotal: 682ms\tremaining: 2.52s\n",
      "213:\tlearn: 0.3164714\ttotal: 685ms\tremaining: 2.52s\n",
      "214:\tlearn: 0.3155529\ttotal: 688ms\tremaining: 2.51s\n",
      "215:\tlearn: 0.3147109\ttotal: 691ms\tremaining: 2.51s\n",
      "216:\tlearn: 0.3136846\ttotal: 695ms\tremaining: 2.51s\n",
      "217:\tlearn: 0.3131795\ttotal: 698ms\tremaining: 2.5s\n",
      "218:\tlearn: 0.3123625\ttotal: 701ms\tremaining: 2.5s\n",
      "219:\tlearn: 0.3114238\ttotal: 705ms\tremaining: 2.5s\n",
      "220:\tlearn: 0.3107925\ttotal: 709ms\tremaining: 2.5s\n",
      "221:\tlearn: 0.3100968\ttotal: 712ms\tremaining: 2.5s\n",
      "222:\tlearn: 0.3095785\ttotal: 716ms\tremaining: 2.49s\n",
      "223:\tlearn: 0.3088918\ttotal: 720ms\tremaining: 2.5s\n",
      "224:\tlearn: 0.3079543\ttotal: 724ms\tremaining: 2.49s\n",
      "225:\tlearn: 0.3074167\ttotal: 727ms\tremaining: 2.49s\n",
      "226:\tlearn: 0.3068355\ttotal: 730ms\tremaining: 2.49s\n",
      "227:\tlearn: 0.3060662\ttotal: 733ms\tremaining: 2.48s\n",
      "228:\tlearn: 0.3052251\ttotal: 737ms\tremaining: 2.48s\n",
      "229:\tlearn: 0.3048237\ttotal: 740ms\tremaining: 2.48s\n",
      "230:\tlearn: 0.3039343\ttotal: 743ms\tremaining: 2.47s\n",
      "231:\tlearn: 0.3033284\ttotal: 746ms\tremaining: 2.47s\n",
      "232:\tlearn: 0.3029032\ttotal: 750ms\tremaining: 2.47s\n",
      "233:\tlearn: 0.3025321\ttotal: 753ms\tremaining: 2.46s\n",
      "234:\tlearn: 0.3014541\ttotal: 756ms\tremaining: 2.46s\n",
      "235:\tlearn: 0.3005469\ttotal: 759ms\tremaining: 2.46s\n",
      "236:\tlearn: 0.2997996\ttotal: 762ms\tremaining: 2.45s\n",
      "237:\tlearn: 0.2992642\ttotal: 765ms\tremaining: 2.45s\n",
      "238:\tlearn: 0.2985024\ttotal: 768ms\tremaining: 2.45s\n",
      "239:\tlearn: 0.2977717\ttotal: 771ms\tremaining: 2.44s\n",
      "240:\tlearn: 0.2970350\ttotal: 774ms\tremaining: 2.44s\n",
      "241:\tlearn: 0.2966151\ttotal: 777ms\tremaining: 2.43s\n",
      "242:\tlearn: 0.2961133\ttotal: 780ms\tremaining: 2.43s\n",
      "243:\tlearn: 0.2956029\ttotal: 784ms\tremaining: 2.43s\n",
      "244:\tlearn: 0.2950679\ttotal: 787ms\tremaining: 2.42s\n",
      "245:\tlearn: 0.2943597\ttotal: 790ms\tremaining: 2.42s\n",
      "246:\tlearn: 0.2937782\ttotal: 793ms\tremaining: 2.42s\n",
      "247:\tlearn: 0.2931893\ttotal: 796ms\tremaining: 2.41s\n",
      "248:\tlearn: 0.2923947\ttotal: 799ms\tremaining: 2.41s\n",
      "249:\tlearn: 0.2916512\ttotal: 802ms\tremaining: 2.4s\n",
      "250:\tlearn: 0.2912375\ttotal: 805ms\tremaining: 2.4s\n",
      "251:\tlearn: 0.2907532\ttotal: 808ms\tremaining: 2.4s\n",
      "252:\tlearn: 0.2901521\ttotal: 811ms\tremaining: 2.39s\n",
      "253:\tlearn: 0.2895608\ttotal: 814ms\tremaining: 2.39s\n",
      "254:\tlearn: 0.2890495\ttotal: 817ms\tremaining: 2.39s\n",
      "255:\tlearn: 0.2881996\ttotal: 820ms\tremaining: 2.38s\n",
      "256:\tlearn: 0.2875604\ttotal: 823ms\tremaining: 2.38s\n",
      "257:\tlearn: 0.2870036\ttotal: 826ms\tremaining: 2.38s\n",
      "258:\tlearn: 0.2865216\ttotal: 829ms\tremaining: 2.37s\n",
      "259:\tlearn: 0.2859402\ttotal: 832ms\tremaining: 2.37s\n",
      "260:\tlearn: 0.2852770\ttotal: 835ms\tremaining: 2.37s\n",
      "261:\tlearn: 0.2847269\ttotal: 838ms\tremaining: 2.36s\n",
      "262:\tlearn: 0.2842829\ttotal: 841ms\tremaining: 2.36s\n",
      "263:\tlearn: 0.2835030\ttotal: 845ms\tremaining: 2.35s\n",
      "264:\tlearn: 0.2829958\ttotal: 848ms\tremaining: 2.35s\n",
      "265:\tlearn: 0.2822598\ttotal: 851ms\tremaining: 2.35s\n",
      "266:\tlearn: 0.2818256\ttotal: 854ms\tremaining: 2.34s\n",
      "267:\tlearn: 0.2811368\ttotal: 857ms\tremaining: 2.34s\n",
      "268:\tlearn: 0.2805616\ttotal: 860ms\tremaining: 2.34s\n",
      "269:\tlearn: 0.2801165\ttotal: 863ms\tremaining: 2.33s\n",
      "270:\tlearn: 0.2792964\ttotal: 866ms\tremaining: 2.33s\n",
      "271:\tlearn: 0.2785789\ttotal: 869ms\tremaining: 2.33s\n",
      "272:\tlearn: 0.2779373\ttotal: 872ms\tremaining: 2.32s\n",
      "273:\tlearn: 0.2772052\ttotal: 875ms\tremaining: 2.32s\n",
      "274:\tlearn: 0.2765933\ttotal: 878ms\tremaining: 2.31s\n",
      "275:\tlearn: 0.2760435\ttotal: 883ms\tremaining: 2.31s\n",
      "276:\tlearn: 0.2752321\ttotal: 886ms\tremaining: 2.31s\n",
      "277:\tlearn: 0.2747685\ttotal: 890ms\tremaining: 2.31s\n",
      "278:\tlearn: 0.2743365\ttotal: 893ms\tremaining: 2.31s\n",
      "279:\tlearn: 0.2736386\ttotal: 897ms\tremaining: 2.31s\n",
      "280:\tlearn: 0.2733262\ttotal: 901ms\tremaining: 2.31s\n",
      "281:\tlearn: 0.2729705\ttotal: 905ms\tremaining: 2.3s\n",
      "282:\tlearn: 0.2725461\ttotal: 908ms\tremaining: 2.3s\n",
      "283:\tlearn: 0.2722293\ttotal: 911ms\tremaining: 2.3s\n",
      "284:\tlearn: 0.2715882\ttotal: 915ms\tremaining: 2.29s\n",
      "285:\tlearn: 0.2709961\ttotal: 919ms\tremaining: 2.29s\n",
      "286:\tlearn: 0.2704733\ttotal: 922ms\tremaining: 2.29s\n",
      "287:\tlearn: 0.2698078\ttotal: 926ms\tremaining: 2.29s\n",
      "288:\tlearn: 0.2690574\ttotal: 929ms\tremaining: 2.29s\n",
      "289:\tlearn: 0.2684762\ttotal: 932ms\tremaining: 2.28s\n",
      "290:\tlearn: 0.2677554\ttotal: 935ms\tremaining: 2.28s\n",
      "291:\tlearn: 0.2671751\ttotal: 938ms\tremaining: 2.27s\n",
      "292:\tlearn: 0.2666528\ttotal: 942ms\tremaining: 2.27s\n",
      "293:\tlearn: 0.2662542\ttotal: 945ms\tremaining: 2.27s\n",
      "294:\tlearn: 0.2659104\ttotal: 948ms\tremaining: 2.26s\n",
      "295:\tlearn: 0.2650663\ttotal: 951ms\tremaining: 2.26s\n",
      "296:\tlearn: 0.2644574\ttotal: 954ms\tremaining: 2.26s\n",
      "297:\tlearn: 0.2639633\ttotal: 957ms\tremaining: 2.25s\n",
      "298:\tlearn: 0.2634931\ttotal: 960ms\tremaining: 2.25s\n",
      "299:\tlearn: 0.2631657\ttotal: 963ms\tremaining: 2.25s\n",
      "300:\tlearn: 0.2627983\ttotal: 966ms\tremaining: 2.24s\n",
      "301:\tlearn: 0.2623292\ttotal: 969ms\tremaining: 2.24s\n",
      "302:\tlearn: 0.2617040\ttotal: 972ms\tremaining: 2.24s\n",
      "303:\tlearn: 0.2612687\ttotal: 975ms\tremaining: 2.23s\n",
      "304:\tlearn: 0.2606669\ttotal: 978ms\tremaining: 2.23s\n",
      "305:\tlearn: 0.2601428\ttotal: 981ms\tremaining: 2.23s\n",
      "306:\tlearn: 0.2597253\ttotal: 984ms\tremaining: 2.22s\n",
      "307:\tlearn: 0.2594419\ttotal: 988ms\tremaining: 2.22s\n",
      "308:\tlearn: 0.2589367\ttotal: 991ms\tremaining: 2.21s\n",
      "309:\tlearn: 0.2583986\ttotal: 994ms\tremaining: 2.21s\n",
      "310:\tlearn: 0.2578687\ttotal: 999ms\tremaining: 2.21s\n",
      "311:\tlearn: 0.2571634\ttotal: 1s\tremaining: 2.21s\n",
      "312:\tlearn: 0.2568747\ttotal: 1s\tremaining: 2.21s\n",
      "313:\tlearn: 0.2565052\ttotal: 1.01s\tremaining: 2.2s\n",
      "314:\tlearn: 0.2559071\ttotal: 1.01s\tremaining: 2.2s\n",
      "315:\tlearn: 0.2553497\ttotal: 1.01s\tremaining: 2.2s\n",
      "316:\tlearn: 0.2549353\ttotal: 1.02s\tremaining: 2.19s\n",
      "317:\tlearn: 0.2543383\ttotal: 1.02s\tremaining: 2.19s\n",
      "318:\tlearn: 0.2538577\ttotal: 1.02s\tremaining: 2.19s\n",
      "319:\tlearn: 0.2534529\ttotal: 1.03s\tremaining: 2.18s\n",
      "320:\tlearn: 0.2531211\ttotal: 1.03s\tremaining: 2.18s\n",
      "321:\tlearn: 0.2526633\ttotal: 1.03s\tremaining: 2.18s\n",
      "322:\tlearn: 0.2523742\ttotal: 1.04s\tremaining: 2.17s\n",
      "323:\tlearn: 0.2519036\ttotal: 1.04s\tremaining: 2.17s\n",
      "324:\tlearn: 0.2513799\ttotal: 1.04s\tremaining: 2.17s\n",
      "325:\tlearn: 0.2508787\ttotal: 1.05s\tremaining: 2.16s\n",
      "326:\tlearn: 0.2504363\ttotal: 1.05s\tremaining: 2.16s\n"
     ]
    },
    {
     "name": "stdout",
     "output_type": "stream",
     "text": [
      "327:\tlearn: 0.2498574\ttotal: 1.05s\tremaining: 2.16s\n",
      "328:\tlearn: 0.2492633\ttotal: 1.06s\tremaining: 2.16s\n",
      "329:\tlearn: 0.2489741\ttotal: 1.06s\tremaining: 2.15s\n",
      "330:\tlearn: 0.2486943\ttotal: 1.06s\tremaining: 2.15s\n",
      "331:\tlearn: 0.2483044\ttotal: 1.07s\tremaining: 2.15s\n",
      "332:\tlearn: 0.2479989\ttotal: 1.07s\tremaining: 2.14s\n",
      "333:\tlearn: 0.2474124\ttotal: 1.07s\tremaining: 2.14s\n",
      "334:\tlearn: 0.2470039\ttotal: 1.08s\tremaining: 2.14s\n",
      "335:\tlearn: 0.2465518\ttotal: 1.08s\tremaining: 2.14s\n",
      "336:\tlearn: 0.2459793\ttotal: 1.08s\tremaining: 2.13s\n",
      "337:\tlearn: 0.2455600\ttotal: 1.09s\tremaining: 2.13s\n",
      "338:\tlearn: 0.2452052\ttotal: 1.09s\tremaining: 2.13s\n",
      "339:\tlearn: 0.2447859\ttotal: 1.09s\tremaining: 2.12s\n",
      "340:\tlearn: 0.2443324\ttotal: 1.1s\tremaining: 2.12s\n",
      "341:\tlearn: 0.2438024\ttotal: 1.1s\tremaining: 2.12s\n",
      "342:\tlearn: 0.2432836\ttotal: 1.1s\tremaining: 2.11s\n",
      "343:\tlearn: 0.2429083\ttotal: 1.11s\tremaining: 2.11s\n",
      "344:\tlearn: 0.2421851\ttotal: 1.11s\tremaining: 2.11s\n",
      "345:\tlearn: 0.2417939\ttotal: 1.11s\tremaining: 2.1s\n",
      "346:\tlearn: 0.2415445\ttotal: 1.11s\tremaining: 2.1s\n",
      "347:\tlearn: 0.2409813\ttotal: 1.12s\tremaining: 2.1s\n",
      "348:\tlearn: 0.2407221\ttotal: 1.12s\tremaining: 2.09s\n",
      "349:\tlearn: 0.2402340\ttotal: 1.13s\tremaining: 2.09s\n",
      "350:\tlearn: 0.2399242\ttotal: 1.13s\tremaining: 2.09s\n",
      "351:\tlearn: 0.2394970\ttotal: 1.13s\tremaining: 2.08s\n",
      "352:\tlearn: 0.2391616\ttotal: 1.13s\tremaining: 2.08s\n",
      "353:\tlearn: 0.2388570\ttotal: 1.14s\tremaining: 2.08s\n",
      "354:\tlearn: 0.2385649\ttotal: 1.14s\tremaining: 2.07s\n",
      "355:\tlearn: 0.2380847\ttotal: 1.14s\tremaining: 2.07s\n",
      "356:\tlearn: 0.2378055\ttotal: 1.15s\tremaining: 2.06s\n",
      "357:\tlearn: 0.2373498\ttotal: 1.15s\tremaining: 2.06s\n",
      "358:\tlearn: 0.2370916\ttotal: 1.15s\tremaining: 2.06s\n",
      "359:\tlearn: 0.2366951\ttotal: 1.16s\tremaining: 2.05s\n",
      "360:\tlearn: 0.2363384\ttotal: 1.16s\tremaining: 2.05s\n",
      "361:\tlearn: 0.2360209\ttotal: 1.16s\tremaining: 2.05s\n",
      "362:\tlearn: 0.2355835\ttotal: 1.16s\tremaining: 2.04s\n",
      "363:\tlearn: 0.2350756\ttotal: 1.17s\tremaining: 2.04s\n",
      "364:\tlearn: 0.2346977\ttotal: 1.17s\tremaining: 2.04s\n",
      "365:\tlearn: 0.2344580\ttotal: 1.17s\tremaining: 2.03s\n",
      "366:\tlearn: 0.2338660\ttotal: 1.18s\tremaining: 2.03s\n",
      "367:\tlearn: 0.2336768\ttotal: 1.18s\tremaining: 2.03s\n",
      "368:\tlearn: 0.2333553\ttotal: 1.18s\tremaining: 2.02s\n",
      "369:\tlearn: 0.2328659\ttotal: 1.19s\tremaining: 2.02s\n",
      "370:\tlearn: 0.2324869\ttotal: 1.19s\tremaining: 2.02s\n",
      "371:\tlearn: 0.2321282\ttotal: 1.19s\tremaining: 2.01s\n",
      "372:\tlearn: 0.2317026\ttotal: 1.2s\tremaining: 2.01s\n",
      "373:\tlearn: 0.2312266\ttotal: 1.2s\tremaining: 2.01s\n",
      "374:\tlearn: 0.2309248\ttotal: 1.2s\tremaining: 2.01s\n",
      "375:\tlearn: 0.2305748\ttotal: 1.21s\tremaining: 2s\n",
      "376:\tlearn: 0.2303237\ttotal: 1.21s\tremaining: 2s\n",
      "377:\tlearn: 0.2299897\ttotal: 1.21s\tremaining: 2s\n",
      "378:\tlearn: 0.2296712\ttotal: 1.22s\tremaining: 1.99s\n",
      "379:\tlearn: 0.2292883\ttotal: 1.22s\tremaining: 1.99s\n",
      "380:\tlearn: 0.2291038\ttotal: 1.22s\tremaining: 1.99s\n",
      "381:\tlearn: 0.2286988\ttotal: 1.23s\tremaining: 1.99s\n",
      "382:\tlearn: 0.2282890\ttotal: 1.23s\tremaining: 1.98s\n",
      "383:\tlearn: 0.2277434\ttotal: 1.23s\tremaining: 1.98s\n",
      "384:\tlearn: 0.2274129\ttotal: 1.24s\tremaining: 1.98s\n",
      "385:\tlearn: 0.2269775\ttotal: 1.24s\tremaining: 1.97s\n",
      "386:\tlearn: 0.2265679\ttotal: 1.24s\tremaining: 1.97s\n",
      "387:\tlearn: 0.2263198\ttotal: 1.25s\tremaining: 1.97s\n",
      "388:\tlearn: 0.2260612\ttotal: 1.25s\tremaining: 1.96s\n",
      "389:\tlearn: 0.2255869\ttotal: 1.25s\tremaining: 1.96s\n",
      "390:\tlearn: 0.2253835\ttotal: 1.26s\tremaining: 1.96s\n",
      "391:\tlearn: 0.2249387\ttotal: 1.26s\tremaining: 1.95s\n",
      "392:\tlearn: 0.2244948\ttotal: 1.26s\tremaining: 1.95s\n",
      "393:\tlearn: 0.2239327\ttotal: 1.27s\tremaining: 1.95s\n",
      "394:\tlearn: 0.2236935\ttotal: 1.27s\tremaining: 1.94s\n",
      "395:\tlearn: 0.2233666\ttotal: 1.27s\tremaining: 1.94s\n",
      "396:\tlearn: 0.2230522\ttotal: 1.27s\tremaining: 1.94s\n",
      "397:\tlearn: 0.2225970\ttotal: 1.28s\tremaining: 1.93s\n",
      "398:\tlearn: 0.2222711\ttotal: 1.28s\tremaining: 1.93s\n",
      "399:\tlearn: 0.2219293\ttotal: 1.28s\tremaining: 1.93s\n",
      "400:\tlearn: 0.2217147\ttotal: 1.29s\tremaining: 1.92s\n",
      "401:\tlearn: 0.2213617\ttotal: 1.29s\tremaining: 1.92s\n",
      "402:\tlearn: 0.2209415\ttotal: 1.29s\tremaining: 1.92s\n",
      "403:\tlearn: 0.2207318\ttotal: 1.3s\tremaining: 1.91s\n",
      "404:\tlearn: 0.2204281\ttotal: 1.3s\tremaining: 1.91s\n",
      "405:\tlearn: 0.2199453\ttotal: 1.3s\tremaining: 1.91s\n",
      "406:\tlearn: 0.2196590\ttotal: 1.3s\tremaining: 1.9s\n",
      "407:\tlearn: 0.2193862\ttotal: 1.31s\tremaining: 1.9s\n",
      "408:\tlearn: 0.2187774\ttotal: 1.31s\tremaining: 1.9s\n",
      "409:\tlearn: 0.2181556\ttotal: 1.31s\tremaining: 1.89s\n",
      "410:\tlearn: 0.2177128\ttotal: 1.32s\tremaining: 1.89s\n",
      "411:\tlearn: 0.2175021\ttotal: 1.32s\tremaining: 1.89s\n",
      "412:\tlearn: 0.2171432\ttotal: 1.32s\tremaining: 1.88s\n",
      "413:\tlearn: 0.2169027\ttotal: 1.33s\tremaining: 1.88s\n",
      "414:\tlearn: 0.2163575\ttotal: 1.33s\tremaining: 1.88s\n",
      "415:\tlearn: 0.2159823\ttotal: 1.33s\tremaining: 1.87s\n",
      "416:\tlearn: 0.2158788\ttotal: 1.33s\tremaining: 1.87s\n",
      "417:\tlearn: 0.2155618\ttotal: 1.34s\tremaining: 1.86s\n",
      "418:\tlearn: 0.2153556\ttotal: 1.34s\tremaining: 1.86s\n",
      "419:\tlearn: 0.2148231\ttotal: 1.34s\tremaining: 1.86s\n",
      "420:\tlearn: 0.2144436\ttotal: 1.35s\tremaining: 1.85s\n",
      "421:\tlearn: 0.2142059\ttotal: 1.35s\tremaining: 1.85s\n",
      "422:\tlearn: 0.2139442\ttotal: 1.35s\tremaining: 1.85s\n",
      "423:\tlearn: 0.2134568\ttotal: 1.36s\tremaining: 1.84s\n",
      "424:\tlearn: 0.2132537\ttotal: 1.36s\tremaining: 1.84s\n",
      "425:\tlearn: 0.2128744\ttotal: 1.36s\tremaining: 1.84s\n",
      "426:\tlearn: 0.2125643\ttotal: 1.37s\tremaining: 1.83s\n",
      "427:\tlearn: 0.2123212\ttotal: 1.37s\tremaining: 1.83s\n",
      "428:\tlearn: 0.2120273\ttotal: 1.37s\tremaining: 1.83s\n",
      "429:\tlearn: 0.2116333\ttotal: 1.38s\tremaining: 1.83s\n",
      "430:\tlearn: 0.2110788\ttotal: 1.38s\tremaining: 1.82s\n",
      "431:\tlearn: 0.2106551\ttotal: 1.38s\tremaining: 1.82s\n",
      "432:\tlearn: 0.2103324\ttotal: 1.39s\tremaining: 1.82s\n",
      "433:\tlearn: 0.2099345\ttotal: 1.39s\tremaining: 1.81s\n",
      "434:\tlearn: 0.2094686\ttotal: 1.4s\tremaining: 1.81s\n",
      "435:\tlearn: 0.2090285\ttotal: 1.4s\tremaining: 1.81s\n",
      "436:\tlearn: 0.2087182\ttotal: 1.4s\tremaining: 1.81s\n",
      "437:\tlearn: 0.2084545\ttotal: 1.41s\tremaining: 1.8s\n",
      "438:\tlearn: 0.2081610\ttotal: 1.41s\tremaining: 1.8s\n",
      "439:\tlearn: 0.2078702\ttotal: 1.41s\tremaining: 1.8s\n",
      "440:\tlearn: 0.2076654\ttotal: 1.42s\tremaining: 1.79s\n",
      "441:\tlearn: 0.2072854\ttotal: 1.42s\tremaining: 1.79s\n",
      "442:\tlearn: 0.2069672\ttotal: 1.42s\tremaining: 1.79s\n",
      "443:\tlearn: 0.2066894\ttotal: 1.43s\tremaining: 1.79s\n",
      "444:\tlearn: 0.2066582\ttotal: 1.43s\tremaining: 1.78s\n",
      "445:\tlearn: 0.2062978\ttotal: 1.43s\tremaining: 1.78s\n",
      "446:\tlearn: 0.2059090\ttotal: 1.44s\tremaining: 1.78s\n",
      "447:\tlearn: 0.2058776\ttotal: 1.44s\tremaining: 1.77s\n",
      "448:\tlearn: 0.2055637\ttotal: 1.44s\tremaining: 1.77s\n",
      "449:\tlearn: 0.2053382\ttotal: 1.45s\tremaining: 1.77s\n",
      "450:\tlearn: 0.2049918\ttotal: 1.45s\tremaining: 1.76s\n",
      "451:\tlearn: 0.2046786\ttotal: 1.45s\tremaining: 1.76s\n",
      "452:\tlearn: 0.2043468\ttotal: 1.46s\tremaining: 1.76s\n",
      "453:\tlearn: 0.2040132\ttotal: 1.46s\tremaining: 1.75s\n",
      "454:\tlearn: 0.2039651\ttotal: 1.46s\tremaining: 1.75s\n",
      "455:\tlearn: 0.2037344\ttotal: 1.46s\tremaining: 1.75s\n",
      "456:\tlearn: 0.2034310\ttotal: 1.47s\tremaining: 1.74s\n",
      "457:\tlearn: 0.2031088\ttotal: 1.47s\tremaining: 1.74s\n",
      "458:\tlearn: 0.2028365\ttotal: 1.47s\tremaining: 1.74s\n",
      "459:\tlearn: 0.2025784\ttotal: 1.48s\tremaining: 1.73s\n",
      "460:\tlearn: 0.2022138\ttotal: 1.48s\tremaining: 1.73s\n",
      "461:\tlearn: 0.2018351\ttotal: 1.48s\tremaining: 1.73s\n",
      "462:\tlearn: 0.2014152\ttotal: 1.49s\tremaining: 1.72s\n",
      "463:\tlearn: 0.2010436\ttotal: 1.49s\tremaining: 1.72s\n",
      "464:\tlearn: 0.2008537\ttotal: 1.49s\tremaining: 1.72s\n",
      "465:\tlearn: 0.2005489\ttotal: 1.5s\tremaining: 1.71s\n",
      "466:\tlearn: 0.2000899\ttotal: 1.5s\tremaining: 1.71s\n",
      "467:\tlearn: 0.1999948\ttotal: 1.5s\tremaining: 1.71s\n",
      "468:\tlearn: 0.1999436\ttotal: 1.5s\tremaining: 1.7s\n",
      "469:\tlearn: 0.1996806\ttotal: 1.51s\tremaining: 1.7s\n",
      "470:\tlearn: 0.1993662\ttotal: 1.51s\tremaining: 1.7s\n",
      "471:\tlearn: 0.1989712\ttotal: 1.51s\tremaining: 1.69s\n",
      "472:\tlearn: 0.1988006\ttotal: 1.51s\tremaining: 1.69s\n",
      "473:\tlearn: 0.1984486\ttotal: 1.52s\tremaining: 1.69s\n",
      "474:\tlearn: 0.1981731\ttotal: 1.52s\tremaining: 1.68s\n",
      "475:\tlearn: 0.1978412\ttotal: 1.52s\tremaining: 1.68s\n",
      "476:\tlearn: 0.1976550\ttotal: 1.53s\tremaining: 1.68s\n",
      "477:\tlearn: 0.1973595\ttotal: 1.53s\tremaining: 1.67s\n",
      "478:\tlearn: 0.1969952\ttotal: 1.53s\tremaining: 1.67s\n",
      "479:\tlearn: 0.1967088\ttotal: 1.54s\tremaining: 1.67s\n",
      "480:\tlearn: 0.1964608\ttotal: 1.54s\tremaining: 1.66s\n",
      "481:\tlearn: 0.1962406\ttotal: 1.54s\tremaining: 1.66s\n",
      "482:\tlearn: 0.1959360\ttotal: 1.55s\tremaining: 1.66s\n",
      "483:\tlearn: 0.1957709\ttotal: 1.55s\tremaining: 1.65s\n",
      "484:\tlearn: 0.1954138\ttotal: 1.55s\tremaining: 1.65s\n",
      "485:\tlearn: 0.1950288\ttotal: 1.55s\tremaining: 1.65s\n",
      "486:\tlearn: 0.1947530\ttotal: 1.56s\tremaining: 1.64s\n",
      "487:\tlearn: 0.1945591\ttotal: 1.56s\tremaining: 1.64s\n",
      "488:\tlearn: 0.1942500\ttotal: 1.56s\tremaining: 1.64s\n"
     ]
    },
    {
     "name": "stdout",
     "output_type": "stream",
     "text": [
      "489:\tlearn: 0.1941013\ttotal: 1.57s\tremaining: 1.63s\n",
      "490:\tlearn: 0.1938834\ttotal: 1.57s\tremaining: 1.63s\n",
      "491:\tlearn: 0.1936831\ttotal: 1.58s\tremaining: 1.63s\n",
      "492:\tlearn: 0.1935319\ttotal: 1.58s\tremaining: 1.62s\n",
      "493:\tlearn: 0.1933504\ttotal: 1.58s\tremaining: 1.62s\n",
      "494:\tlearn: 0.1929353\ttotal: 1.59s\tremaining: 1.62s\n",
      "495:\tlearn: 0.1927170\ttotal: 1.59s\tremaining: 1.61s\n",
      "496:\tlearn: 0.1923812\ttotal: 1.59s\tremaining: 1.61s\n",
      "497:\tlearn: 0.1920767\ttotal: 1.6s\tremaining: 1.61s\n",
      "498:\tlearn: 0.1918067\ttotal: 1.6s\tremaining: 1.61s\n",
      "499:\tlearn: 0.1915429\ttotal: 1.6s\tremaining: 1.6s\n",
      "500:\tlearn: 0.1912502\ttotal: 1.61s\tremaining: 1.6s\n",
      "501:\tlearn: 0.1910418\ttotal: 1.61s\tremaining: 1.6s\n",
      "502:\tlearn: 0.1907001\ttotal: 1.61s\tremaining: 1.59s\n",
      "503:\tlearn: 0.1905116\ttotal: 1.62s\tremaining: 1.59s\n",
      "504:\tlearn: 0.1901453\ttotal: 1.62s\tremaining: 1.59s\n",
      "505:\tlearn: 0.1898173\ttotal: 1.62s\tremaining: 1.58s\n",
      "506:\tlearn: 0.1896006\ttotal: 1.63s\tremaining: 1.58s\n",
      "507:\tlearn: 0.1893761\ttotal: 1.63s\tremaining: 1.58s\n",
      "508:\tlearn: 0.1890986\ttotal: 1.63s\tremaining: 1.57s\n",
      "509:\tlearn: 0.1888690\ttotal: 1.64s\tremaining: 1.57s\n",
      "510:\tlearn: 0.1885608\ttotal: 1.64s\tremaining: 1.57s\n",
      "511:\tlearn: 0.1883162\ttotal: 1.65s\tremaining: 1.57s\n",
      "512:\tlearn: 0.1880984\ttotal: 1.65s\tremaining: 1.57s\n",
      "513:\tlearn: 0.1878798\ttotal: 1.65s\tremaining: 1.56s\n",
      "514:\tlearn: 0.1876055\ttotal: 1.66s\tremaining: 1.56s\n",
      "515:\tlearn: 0.1873570\ttotal: 1.66s\tremaining: 1.56s\n",
      "516:\tlearn: 0.1871704\ttotal: 1.67s\tremaining: 1.56s\n",
      "517:\tlearn: 0.1868150\ttotal: 1.67s\tremaining: 1.55s\n",
      "518:\tlearn: 0.1865847\ttotal: 1.67s\tremaining: 1.55s\n",
      "519:\tlearn: 0.1862085\ttotal: 1.68s\tremaining: 1.55s\n",
      "520:\tlearn: 0.1860257\ttotal: 1.68s\tremaining: 1.55s\n",
      "521:\tlearn: 0.1859279\ttotal: 1.69s\tremaining: 1.54s\n",
      "522:\tlearn: 0.1856872\ttotal: 1.69s\tremaining: 1.54s\n",
      "523:\tlearn: 0.1854431\ttotal: 1.69s\tremaining: 1.54s\n",
      "524:\tlearn: 0.1849930\ttotal: 1.7s\tremaining: 1.53s\n",
      "525:\tlearn: 0.1847125\ttotal: 1.7s\tremaining: 1.53s\n",
      "526:\tlearn: 0.1844506\ttotal: 1.71s\tremaining: 1.53s\n",
      "527:\tlearn: 0.1843217\ttotal: 1.71s\tremaining: 1.53s\n",
      "528:\tlearn: 0.1841199\ttotal: 1.71s\tremaining: 1.52s\n",
      "529:\tlearn: 0.1839682\ttotal: 1.72s\tremaining: 1.52s\n",
      "530:\tlearn: 0.1838343\ttotal: 1.72s\tremaining: 1.52s\n",
      "531:\tlearn: 0.1834275\ttotal: 1.73s\tremaining: 1.52s\n",
      "532:\tlearn: 0.1830413\ttotal: 1.73s\tremaining: 1.51s\n",
      "533:\tlearn: 0.1828527\ttotal: 1.73s\tremaining: 1.51s\n",
      "534:\tlearn: 0.1826281\ttotal: 1.74s\tremaining: 1.51s\n",
      "535:\tlearn: 0.1822256\ttotal: 1.74s\tremaining: 1.51s\n",
      "536:\tlearn: 0.1821870\ttotal: 1.75s\tremaining: 1.5s\n",
      "537:\tlearn: 0.1819159\ttotal: 1.75s\tremaining: 1.5s\n",
      "538:\tlearn: 0.1815986\ttotal: 1.75s\tremaining: 1.5s\n",
      "539:\tlearn: 0.1814134\ttotal: 1.76s\tremaining: 1.5s\n",
      "540:\tlearn: 0.1810933\ttotal: 1.76s\tremaining: 1.49s\n",
      "541:\tlearn: 0.1810269\ttotal: 1.76s\tremaining: 1.49s\n",
      "542:\tlearn: 0.1806689\ttotal: 1.77s\tremaining: 1.49s\n",
      "543:\tlearn: 0.1805256\ttotal: 1.77s\tremaining: 1.49s\n",
      "544:\tlearn: 0.1801417\ttotal: 1.77s\tremaining: 1.48s\n",
      "545:\tlearn: 0.1800096\ttotal: 1.78s\tremaining: 1.48s\n",
      "546:\tlearn: 0.1797667\ttotal: 1.78s\tremaining: 1.48s\n",
      "547:\tlearn: 0.1795016\ttotal: 1.79s\tremaining: 1.47s\n",
      "548:\tlearn: 0.1793084\ttotal: 1.79s\tremaining: 1.47s\n",
      "549:\tlearn: 0.1791145\ttotal: 1.79s\tremaining: 1.47s\n",
      "550:\tlearn: 0.1789655\ttotal: 1.8s\tremaining: 1.46s\n",
      "551:\tlearn: 0.1787607\ttotal: 1.8s\tremaining: 1.46s\n",
      "552:\tlearn: 0.1785130\ttotal: 1.8s\tremaining: 1.46s\n",
      "553:\tlearn: 0.1782302\ttotal: 1.8s\tremaining: 1.45s\n",
      "554:\tlearn: 0.1780540\ttotal: 1.81s\tremaining: 1.45s\n",
      "555:\tlearn: 0.1779036\ttotal: 1.81s\tremaining: 1.45s\n",
      "556:\tlearn: 0.1778405\ttotal: 1.81s\tremaining: 1.44s\n",
      "557:\tlearn: 0.1775981\ttotal: 1.82s\tremaining: 1.44s\n",
      "558:\tlearn: 0.1771105\ttotal: 1.82s\tremaining: 1.44s\n",
      "559:\tlearn: 0.1768552\ttotal: 1.82s\tremaining: 1.43s\n",
      "560:\tlearn: 0.1765387\ttotal: 1.83s\tremaining: 1.43s\n",
      "561:\tlearn: 0.1763979\ttotal: 1.83s\tremaining: 1.43s\n",
      "562:\tlearn: 0.1761765\ttotal: 1.83s\tremaining: 1.42s\n",
      "563:\tlearn: 0.1759708\ttotal: 1.83s\tremaining: 1.42s\n",
      "564:\tlearn: 0.1756716\ttotal: 1.84s\tremaining: 1.42s\n",
      "565:\tlearn: 0.1755306\ttotal: 1.84s\tremaining: 1.41s\n",
      "566:\tlearn: 0.1751637\ttotal: 1.84s\tremaining: 1.41s\n",
      "567:\tlearn: 0.1748315\ttotal: 1.85s\tremaining: 1.41s\n",
      "568:\tlearn: 0.1745269\ttotal: 1.85s\tremaining: 1.4s\n",
      "569:\tlearn: 0.1744702\ttotal: 1.85s\tremaining: 1.4s\n",
      "570:\tlearn: 0.1743406\ttotal: 1.86s\tremaining: 1.39s\n",
      "571:\tlearn: 0.1739566\ttotal: 1.86s\tremaining: 1.39s\n",
      "572:\tlearn: 0.1737648\ttotal: 1.86s\tremaining: 1.39s\n",
      "573:\tlearn: 0.1736428\ttotal: 1.86s\tremaining: 1.38s\n",
      "574:\tlearn: 0.1734341\ttotal: 1.87s\tremaining: 1.38s\n",
      "575:\tlearn: 0.1731300\ttotal: 1.87s\tremaining: 1.38s\n",
      "576:\tlearn: 0.1729452\ttotal: 1.87s\tremaining: 1.37s\n",
      "577:\tlearn: 0.1727382\ttotal: 1.88s\tremaining: 1.37s\n",
      "578:\tlearn: 0.1725634\ttotal: 1.88s\tremaining: 1.37s\n",
      "579:\tlearn: 0.1723560\ttotal: 1.88s\tremaining: 1.36s\n",
      "580:\tlearn: 0.1721777\ttotal: 1.89s\tremaining: 1.36s\n",
      "581:\tlearn: 0.1719444\ttotal: 1.89s\tremaining: 1.36s\n",
      "582:\tlearn: 0.1717125\ttotal: 1.89s\tremaining: 1.35s\n",
      "583:\tlearn: 0.1715097\ttotal: 1.9s\tremaining: 1.35s\n",
      "584:\tlearn: 0.1713785\ttotal: 1.9s\tremaining: 1.35s\n",
      "585:\tlearn: 0.1709943\ttotal: 1.9s\tremaining: 1.34s\n",
      "586:\tlearn: 0.1706923\ttotal: 1.9s\tremaining: 1.34s\n",
      "587:\tlearn: 0.1703457\ttotal: 1.91s\tremaining: 1.34s\n",
      "588:\tlearn: 0.1700904\ttotal: 1.91s\tremaining: 1.33s\n",
      "589:\tlearn: 0.1698439\ttotal: 1.92s\tremaining: 1.33s\n",
      "590:\tlearn: 0.1697096\ttotal: 1.92s\tremaining: 1.33s\n",
      "591:\tlearn: 0.1695801\ttotal: 1.92s\tremaining: 1.32s\n",
      "592:\tlearn: 0.1693420\ttotal: 1.93s\tremaining: 1.32s\n",
      "593:\tlearn: 0.1690677\ttotal: 1.93s\tremaining: 1.32s\n",
      "594:\tlearn: 0.1688773\ttotal: 1.93s\tremaining: 1.32s\n",
      "595:\tlearn: 0.1685507\ttotal: 1.94s\tremaining: 1.31s\n",
      "596:\tlearn: 0.1683135\ttotal: 1.94s\tremaining: 1.31s\n",
      "597:\tlearn: 0.1682114\ttotal: 1.95s\tremaining: 1.31s\n",
      "598:\tlearn: 0.1680409\ttotal: 1.95s\tremaining: 1.3s\n",
      "599:\tlearn: 0.1678860\ttotal: 1.95s\tremaining: 1.3s\n",
      "600:\tlearn: 0.1676635\ttotal: 1.96s\tremaining: 1.3s\n",
      "601:\tlearn: 0.1675298\ttotal: 1.96s\tremaining: 1.29s\n",
      "602:\tlearn: 0.1672465\ttotal: 1.96s\tremaining: 1.29s\n",
      "603:\tlearn: 0.1670769\ttotal: 1.96s\tremaining: 1.29s\n",
      "604:\tlearn: 0.1668592\ttotal: 1.97s\tremaining: 1.28s\n",
      "605:\tlearn: 0.1666122\ttotal: 1.97s\tremaining: 1.28s\n",
      "606:\tlearn: 0.1665042\ttotal: 1.97s\tremaining: 1.28s\n",
      "607:\tlearn: 0.1661268\ttotal: 1.98s\tremaining: 1.27s\n",
      "608:\tlearn: 0.1659168\ttotal: 1.98s\tremaining: 1.27s\n",
      "609:\tlearn: 0.1656214\ttotal: 1.98s\tremaining: 1.27s\n",
      "610:\tlearn: 0.1654690\ttotal: 1.99s\tremaining: 1.26s\n",
      "611:\tlearn: 0.1652626\ttotal: 1.99s\tremaining: 1.26s\n",
      "612:\tlearn: 0.1651064\ttotal: 1.99s\tremaining: 1.26s\n",
      "613:\tlearn: 0.1649406\ttotal: 2s\tremaining: 1.25s\n",
      "614:\tlearn: 0.1647681\ttotal: 2s\tremaining: 1.25s\n",
      "615:\tlearn: 0.1644121\ttotal: 2s\tremaining: 1.25s\n",
      "616:\tlearn: 0.1643449\ttotal: 2s\tremaining: 1.24s\n",
      "617:\tlearn: 0.1639068\ttotal: 2.01s\tremaining: 1.24s\n",
      "618:\tlearn: 0.1638007\ttotal: 2.01s\tremaining: 1.24s\n",
      "619:\tlearn: 0.1636360\ttotal: 2.02s\tremaining: 1.24s\n",
      "620:\tlearn: 0.1635305\ttotal: 2.02s\tremaining: 1.23s\n",
      "621:\tlearn: 0.1633230\ttotal: 2.02s\tremaining: 1.23s\n",
      "622:\tlearn: 0.1631072\ttotal: 2.02s\tremaining: 1.23s\n",
      "623:\tlearn: 0.1630959\ttotal: 2.03s\tremaining: 1.22s\n",
      "624:\tlearn: 0.1629097\ttotal: 2.03s\tremaining: 1.22s\n",
      "625:\tlearn: 0.1627211\ttotal: 2.03s\tremaining: 1.21s\n",
      "626:\tlearn: 0.1623940\ttotal: 2.04s\tremaining: 1.21s\n",
      "627:\tlearn: 0.1622501\ttotal: 2.04s\tremaining: 1.21s\n",
      "628:\tlearn: 0.1621389\ttotal: 2.04s\tremaining: 1.21s\n",
      "629:\tlearn: 0.1617915\ttotal: 2.05s\tremaining: 1.2s\n",
      "630:\tlearn: 0.1615574\ttotal: 2.05s\tremaining: 1.2s\n",
      "631:\tlearn: 0.1612698\ttotal: 2.05s\tremaining: 1.2s\n",
      "632:\tlearn: 0.1610715\ttotal: 2.06s\tremaining: 1.19s\n",
      "633:\tlearn: 0.1608444\ttotal: 2.06s\tremaining: 1.19s\n",
      "634:\tlearn: 0.1606402\ttotal: 2.06s\tremaining: 1.19s\n",
      "635:\tlearn: 0.1605388\ttotal: 2.07s\tremaining: 1.18s\n",
      "636:\tlearn: 0.1602551\ttotal: 2.07s\tremaining: 1.18s\n",
      "637:\tlearn: 0.1599489\ttotal: 2.07s\tremaining: 1.18s\n",
      "638:\tlearn: 0.1596950\ttotal: 2.08s\tremaining: 1.17s\n",
      "639:\tlearn: 0.1595306\ttotal: 2.08s\tremaining: 1.17s\n",
      "640:\tlearn: 0.1594290\ttotal: 2.08s\tremaining: 1.17s\n",
      "641:\tlearn: 0.1592659\ttotal: 2.09s\tremaining: 1.16s\n",
      "642:\tlearn: 0.1589942\ttotal: 2.09s\tremaining: 1.16s\n",
      "643:\tlearn: 0.1588189\ttotal: 2.09s\tremaining: 1.16s\n",
      "644:\tlearn: 0.1586844\ttotal: 2.1s\tremaining: 1.15s\n",
      "645:\tlearn: 0.1584234\ttotal: 2.1s\tremaining: 1.15s\n",
      "646:\tlearn: 0.1583092\ttotal: 2.11s\tremaining: 1.15s\n",
      "647:\tlearn: 0.1581012\ttotal: 2.11s\tremaining: 1.15s\n",
      "648:\tlearn: 0.1580171\ttotal: 2.11s\tremaining: 1.14s\n",
      "649:\tlearn: 0.1579138\ttotal: 2.12s\tremaining: 1.14s\n",
      "650:\tlearn: 0.1576453\ttotal: 2.12s\tremaining: 1.14s\n",
      "651:\tlearn: 0.1575007\ttotal: 2.12s\tremaining: 1.13s\n",
      "652:\tlearn: 0.1573741\ttotal: 2.13s\tremaining: 1.13s\n",
      "653:\tlearn: 0.1572704\ttotal: 2.13s\tremaining: 1.13s\n",
      "654:\tlearn: 0.1571566\ttotal: 2.13s\tremaining: 1.12s\n",
      "655:\tlearn: 0.1568551\ttotal: 2.14s\tremaining: 1.12s\n",
      "656:\tlearn: 0.1565550\ttotal: 2.14s\tremaining: 1.12s\n",
      "657:\tlearn: 0.1563022\ttotal: 2.14s\tremaining: 1.11s\n",
      "658:\tlearn: 0.1561117\ttotal: 2.15s\tremaining: 1.11s\n",
      "659:\tlearn: 0.1558292\ttotal: 2.15s\tremaining: 1.11s\n",
      "660:\tlearn: 0.1555625\ttotal: 2.15s\tremaining: 1.1s\n",
      "661:\tlearn: 0.1552436\ttotal: 2.16s\tremaining: 1.1s\n",
      "662:\tlearn: 0.1551233\ttotal: 2.16s\tremaining: 1.1s\n",
      "663:\tlearn: 0.1548937\ttotal: 2.16s\tremaining: 1.09s\n",
      "664:\tlearn: 0.1546443\ttotal: 2.17s\tremaining: 1.09s\n",
      "665:\tlearn: 0.1544310\ttotal: 2.17s\tremaining: 1.09s\n",
      "666:\tlearn: 0.1542433\ttotal: 2.17s\tremaining: 1.08s\n",
      "667:\tlearn: 0.1540147\ttotal: 2.18s\tremaining: 1.08s\n",
      "668:\tlearn: 0.1538277\ttotal: 2.18s\tremaining: 1.08s\n",
      "669:\tlearn: 0.1537862\ttotal: 2.18s\tremaining: 1.07s\n",
      "670:\tlearn: 0.1535037\ttotal: 2.18s\tremaining: 1.07s\n",
      "671:\tlearn: 0.1533223\ttotal: 2.19s\tremaining: 1.07s\n",
      "672:\tlearn: 0.1530929\ttotal: 2.19s\tremaining: 1.06s\n",
      "673:\tlearn: 0.1530164\ttotal: 2.19s\tremaining: 1.06s\n",
      "674:\tlearn: 0.1528585\ttotal: 2.2s\tremaining: 1.06s\n",
      "675:\tlearn: 0.1526410\ttotal: 2.2s\tremaining: 1.05s\n",
      "676:\tlearn: 0.1523835\ttotal: 2.21s\tremaining: 1.05s\n",
      "677:\tlearn: 0.1521396\ttotal: 2.21s\tremaining: 1.05s\n",
      "678:\tlearn: 0.1519274\ttotal: 2.21s\tremaining: 1.04s\n",
      "679:\tlearn: 0.1517823\ttotal: 2.21s\tremaining: 1.04s\n",
      "680:\tlearn: 0.1516375\ttotal: 2.22s\tremaining: 1.04s\n",
      "681:\tlearn: 0.1514723\ttotal: 2.22s\tremaining: 1.03s\n",
      "682:\tlearn: 0.1512567\ttotal: 2.22s\tremaining: 1.03s\n",
      "683:\tlearn: 0.1510517\ttotal: 2.23s\tremaining: 1.03s\n",
      "684:\tlearn: 0.1509025\ttotal: 2.23s\tremaining: 1.03s\n",
      "685:\tlearn: 0.1508276\ttotal: 2.23s\tremaining: 1.02s\n",
      "686:\tlearn: 0.1506429\ttotal: 2.24s\tremaining: 1.02s\n",
      "687:\tlearn: 0.1504304\ttotal: 2.24s\tremaining: 1.02s\n"
     ]
    },
    {
     "name": "stdout",
     "output_type": "stream",
     "text": [
      "688:\tlearn: 0.1501951\ttotal: 2.25s\tremaining: 1.01s\n",
      "689:\tlearn: 0.1500096\ttotal: 2.25s\tremaining: 1.01s\n",
      "690:\tlearn: 0.1497744\ttotal: 2.25s\tremaining: 1.01s\n",
      "691:\tlearn: 0.1495647\ttotal: 2.26s\tremaining: 1s\n",
      "692:\tlearn: 0.1494371\ttotal: 2.26s\tremaining: 1s\n",
      "693:\tlearn: 0.1492640\ttotal: 2.26s\tremaining: 998ms\n",
      "694:\tlearn: 0.1491057\ttotal: 2.27s\tremaining: 995ms\n",
      "695:\tlearn: 0.1489510\ttotal: 2.27s\tremaining: 991ms\n",
      "696:\tlearn: 0.1486890\ttotal: 2.27s\tremaining: 988ms\n",
      "697:\tlearn: 0.1484301\ttotal: 2.28s\tremaining: 985ms\n",
      "698:\tlearn: 0.1482096\ttotal: 2.28s\tremaining: 982ms\n",
      "699:\tlearn: 0.1480972\ttotal: 2.28s\tremaining: 979ms\n",
      "700:\tlearn: 0.1479279\ttotal: 2.29s\tremaining: 976ms\n",
      "701:\tlearn: 0.1477182\ttotal: 2.29s\tremaining: 973ms\n",
      "702:\tlearn: 0.1475152\ttotal: 2.29s\tremaining: 970ms\n",
      "703:\tlearn: 0.1473794\ttotal: 2.3s\tremaining: 966ms\n",
      "704:\tlearn: 0.1472250\ttotal: 2.3s\tremaining: 963ms\n",
      "705:\tlearn: 0.1470106\ttotal: 2.3s\tremaining: 960ms\n",
      "706:\tlearn: 0.1468504\ttotal: 2.31s\tremaining: 956ms\n",
      "707:\tlearn: 0.1466552\ttotal: 2.31s\tremaining: 953ms\n",
      "708:\tlearn: 0.1463900\ttotal: 2.31s\tremaining: 950ms\n",
      "709:\tlearn: 0.1463085\ttotal: 2.32s\tremaining: 946ms\n",
      "710:\tlearn: 0.1461084\ttotal: 2.32s\tremaining: 943ms\n",
      "711:\tlearn: 0.1458943\ttotal: 2.32s\tremaining: 940ms\n",
      "712:\tlearn: 0.1456185\ttotal: 2.33s\tremaining: 936ms\n",
      "713:\tlearn: 0.1454838\ttotal: 2.33s\tremaining: 933ms\n",
      "714:\tlearn: 0.1452280\ttotal: 2.33s\tremaining: 930ms\n",
      "715:\tlearn: 0.1451020\ttotal: 2.33s\tremaining: 926ms\n",
      "716:\tlearn: 0.1448465\ttotal: 2.34s\tremaining: 923ms\n",
      "717:\tlearn: 0.1446630\ttotal: 2.34s\tremaining: 920ms\n",
      "718:\tlearn: 0.1444590\ttotal: 2.34s\tremaining: 916ms\n",
      "719:\tlearn: 0.1441992\ttotal: 2.35s\tremaining: 913ms\n",
      "720:\tlearn: 0.1439104\ttotal: 2.35s\tremaining: 910ms\n",
      "721:\tlearn: 0.1436999\ttotal: 2.35s\tremaining: 906ms\n",
      "722:\tlearn: 0.1435249\ttotal: 2.36s\tremaining: 903ms\n",
      "723:\tlearn: 0.1432935\ttotal: 2.36s\tremaining: 900ms\n",
      "724:\tlearn: 0.1431205\ttotal: 2.36s\tremaining: 896ms\n",
      "725:\tlearn: 0.1429536\ttotal: 2.37s\tremaining: 893ms\n",
      "726:\tlearn: 0.1428402\ttotal: 2.37s\tremaining: 890ms\n",
      "727:\tlearn: 0.1426784\ttotal: 2.37s\tremaining: 886ms\n",
      "728:\tlearn: 0.1425347\ttotal: 2.38s\tremaining: 883ms\n",
      "729:\tlearn: 0.1423083\ttotal: 2.38s\tremaining: 880ms\n",
      "730:\tlearn: 0.1420900\ttotal: 2.38s\tremaining: 876ms\n",
      "731:\tlearn: 0.1419898\ttotal: 2.38s\tremaining: 873ms\n",
      "732:\tlearn: 0.1416711\ttotal: 2.39s\tremaining: 870ms\n",
      "733:\tlearn: 0.1415584\ttotal: 2.39s\tremaining: 866ms\n",
      "734:\tlearn: 0.1413661\ttotal: 2.39s\tremaining: 863ms\n",
      "735:\tlearn: 0.1413164\ttotal: 2.4s\tremaining: 860ms\n",
      "736:\tlearn: 0.1411445\ttotal: 2.4s\tremaining: 856ms\n",
      "737:\tlearn: 0.1410473\ttotal: 2.4s\tremaining: 853ms\n",
      "738:\tlearn: 0.1409298\ttotal: 2.41s\tremaining: 850ms\n",
      "739:\tlearn: 0.1407418\ttotal: 2.41s\tremaining: 846ms\n",
      "740:\tlearn: 0.1405333\ttotal: 2.41s\tremaining: 843ms\n",
      "741:\tlearn: 0.1403922\ttotal: 2.42s\tremaining: 841ms\n",
      "742:\tlearn: 0.1401999\ttotal: 2.42s\tremaining: 837ms\n",
      "743:\tlearn: 0.1399392\ttotal: 2.42s\tremaining: 834ms\n",
      "744:\tlearn: 0.1397116\ttotal: 2.43s\tremaining: 831ms\n",
      "745:\tlearn: 0.1395228\ttotal: 2.43s\tremaining: 828ms\n",
      "746:\tlearn: 0.1393324\ttotal: 2.43s\tremaining: 824ms\n",
      "747:\tlearn: 0.1391547\ttotal: 2.44s\tremaining: 821ms\n",
      "748:\tlearn: 0.1390432\ttotal: 2.44s\tremaining: 818ms\n",
      "749:\tlearn: 0.1388669\ttotal: 2.44s\tremaining: 815ms\n",
      "750:\tlearn: 0.1386343\ttotal: 2.45s\tremaining: 812ms\n",
      "751:\tlearn: 0.1385326\ttotal: 2.45s\tremaining: 809ms\n",
      "752:\tlearn: 0.1383743\ttotal: 2.46s\tremaining: 805ms\n",
      "753:\tlearn: 0.1380826\ttotal: 2.46s\tremaining: 802ms\n",
      "754:\tlearn: 0.1378982\ttotal: 2.46s\tremaining: 799ms\n",
      "755:\tlearn: 0.1377675\ttotal: 2.46s\tremaining: 796ms\n",
      "756:\tlearn: 0.1375886\ttotal: 2.47s\tremaining: 793ms\n",
      "757:\tlearn: 0.1373983\ttotal: 2.47s\tremaining: 790ms\n",
      "758:\tlearn: 0.1373003\ttotal: 2.48s\tremaining: 786ms\n",
      "759:\tlearn: 0.1371897\ttotal: 2.48s\tremaining: 783ms\n",
      "760:\tlearn: 0.1370517\ttotal: 2.48s\tremaining: 780ms\n",
      "761:\tlearn: 0.1369412\ttotal: 2.48s\tremaining: 776ms\n",
      "762:\tlearn: 0.1366624\ttotal: 2.49s\tremaining: 773ms\n",
      "763:\tlearn: 0.1364178\ttotal: 2.49s\tremaining: 770ms\n",
      "764:\tlearn: 0.1363234\ttotal: 2.5s\tremaining: 767ms\n",
      "765:\tlearn: 0.1361464\ttotal: 2.5s\tremaining: 763ms\n",
      "766:\tlearn: 0.1360532\ttotal: 2.5s\tremaining: 760ms\n",
      "767:\tlearn: 0.1359074\ttotal: 2.5s\tremaining: 757ms\n",
      "768:\tlearn: 0.1356788\ttotal: 2.51s\tremaining: 753ms\n",
      "769:\tlearn: 0.1354965\ttotal: 2.51s\tremaining: 750ms\n",
      "770:\tlearn: 0.1353102\ttotal: 2.51s\tremaining: 747ms\n",
      "771:\tlearn: 0.1350388\ttotal: 2.52s\tremaining: 743ms\n",
      "772:\tlearn: 0.1347500\ttotal: 2.52s\tremaining: 740ms\n",
      "773:\tlearn: 0.1346033\ttotal: 2.52s\tremaining: 737ms\n",
      "774:\tlearn: 0.1343469\ttotal: 2.53s\tremaining: 734ms\n",
      "775:\tlearn: 0.1342166\ttotal: 2.53s\tremaining: 730ms\n",
      "776:\tlearn: 0.1341527\ttotal: 2.53s\tremaining: 727ms\n",
      "777:\tlearn: 0.1340639\ttotal: 2.54s\tremaining: 723ms\n",
      "778:\tlearn: 0.1338825\ttotal: 2.54s\tremaining: 720ms\n",
      "779:\tlearn: 0.1336415\ttotal: 2.54s\tremaining: 717ms\n",
      "780:\tlearn: 0.1335718\ttotal: 2.54s\tremaining: 714ms\n",
      "781:\tlearn: 0.1333321\ttotal: 2.55s\tremaining: 710ms\n",
      "782:\tlearn: 0.1331328\ttotal: 2.55s\tremaining: 707ms\n",
      "783:\tlearn: 0.1329761\ttotal: 2.55s\tremaining: 704ms\n",
      "784:\tlearn: 0.1328525\ttotal: 2.56s\tremaining: 700ms\n",
      "785:\tlearn: 0.1325959\ttotal: 2.56s\tremaining: 697ms\n",
      "786:\tlearn: 0.1324892\ttotal: 2.56s\tremaining: 694ms\n",
      "787:\tlearn: 0.1323590\ttotal: 2.56s\tremaining: 690ms\n",
      "788:\tlearn: 0.1321806\ttotal: 2.57s\tremaining: 687ms\n",
      "789:\tlearn: 0.1320098\ttotal: 2.57s\tremaining: 684ms\n",
      "790:\tlearn: 0.1317894\ttotal: 2.58s\tremaining: 680ms\n",
      "791:\tlearn: 0.1316331\ttotal: 2.58s\tremaining: 677ms\n",
      "792:\tlearn: 0.1315476\ttotal: 2.58s\tremaining: 674ms\n",
      "793:\tlearn: 0.1313980\ttotal: 2.58s\tremaining: 670ms\n",
      "794:\tlearn: 0.1312309\ttotal: 2.59s\tremaining: 667ms\n",
      "795:\tlearn: 0.1310426\ttotal: 2.59s\tremaining: 664ms\n",
      "796:\tlearn: 0.1308566\ttotal: 2.59s\tremaining: 661ms\n",
      "797:\tlearn: 0.1306748\ttotal: 2.6s\tremaining: 658ms\n",
      "798:\tlearn: 0.1306313\ttotal: 2.6s\tremaining: 654ms\n",
      "799:\tlearn: 0.1304911\ttotal: 2.61s\tremaining: 652ms\n",
      "800:\tlearn: 0.1304099\ttotal: 2.61s\tremaining: 648ms\n",
      "801:\tlearn: 0.1302351\ttotal: 2.61s\tremaining: 645ms\n",
      "802:\tlearn: 0.1301081\ttotal: 2.62s\tremaining: 642ms\n",
      "803:\tlearn: 0.1299460\ttotal: 2.62s\tremaining: 639ms\n",
      "804:\tlearn: 0.1297792\ttotal: 2.62s\tremaining: 636ms\n",
      "805:\tlearn: 0.1296574\ttotal: 2.63s\tremaining: 633ms\n",
      "806:\tlearn: 0.1296039\ttotal: 2.63s\tremaining: 629ms\n",
      "807:\tlearn: 0.1295313\ttotal: 2.63s\tremaining: 626ms\n",
      "808:\tlearn: 0.1293970\ttotal: 2.64s\tremaining: 623ms\n",
      "809:\tlearn: 0.1292576\ttotal: 2.64s\tremaining: 619ms\n",
      "810:\tlearn: 0.1291421\ttotal: 2.64s\tremaining: 616ms\n",
      "811:\tlearn: 0.1290028\ttotal: 2.65s\tremaining: 613ms\n",
      "812:\tlearn: 0.1289402\ttotal: 2.65s\tremaining: 610ms\n",
      "813:\tlearn: 0.1288857\ttotal: 2.65s\tremaining: 607ms\n",
      "814:\tlearn: 0.1286780\ttotal: 2.66s\tremaining: 603ms\n",
      "815:\tlearn: 0.1285410\ttotal: 2.66s\tremaining: 600ms\n",
      "816:\tlearn: 0.1282704\ttotal: 2.66s\tremaining: 597ms\n",
      "817:\tlearn: 0.1281484\ttotal: 2.67s\tremaining: 594ms\n",
      "818:\tlearn: 0.1279168\ttotal: 2.67s\tremaining: 591ms\n",
      "819:\tlearn: 0.1277852\ttotal: 2.67s\tremaining: 587ms\n",
      "820:\tlearn: 0.1276573\ttotal: 2.68s\tremaining: 584ms\n",
      "821:\tlearn: 0.1275845\ttotal: 2.68s\tremaining: 581ms\n",
      "822:\tlearn: 0.1275260\ttotal: 2.69s\tremaining: 578ms\n",
      "823:\tlearn: 0.1274149\ttotal: 2.69s\tremaining: 575ms\n",
      "824:\tlearn: 0.1272535\ttotal: 2.69s\tremaining: 571ms\n",
      "825:\tlearn: 0.1269932\ttotal: 2.7s\tremaining: 568ms\n",
      "826:\tlearn: 0.1267948\ttotal: 2.7s\tremaining: 565ms\n",
      "827:\tlearn: 0.1267691\ttotal: 2.7s\tremaining: 561ms\n",
      "828:\tlearn: 0.1266744\ttotal: 2.71s\tremaining: 558ms\n",
      "829:\tlearn: 0.1265234\ttotal: 2.71s\tremaining: 555ms\n",
      "830:\tlearn: 0.1263592\ttotal: 2.71s\tremaining: 552ms\n",
      "831:\tlearn: 0.1262151\ttotal: 2.72s\tremaining: 549ms\n",
      "832:\tlearn: 0.1260495\ttotal: 2.72s\tremaining: 546ms\n",
      "833:\tlearn: 0.1259533\ttotal: 2.72s\tremaining: 542ms\n",
      "834:\tlearn: 0.1257946\ttotal: 2.73s\tremaining: 539ms\n",
      "835:\tlearn: 0.1256169\ttotal: 2.73s\tremaining: 536ms\n",
      "836:\tlearn: 0.1254990\ttotal: 2.73s\tremaining: 532ms\n",
      "837:\tlearn: 0.1252898\ttotal: 2.74s\tremaining: 529ms\n",
      "838:\tlearn: 0.1251733\ttotal: 2.74s\tremaining: 526ms\n",
      "839:\tlearn: 0.1251326\ttotal: 2.74s\tremaining: 523ms\n",
      "840:\tlearn: 0.1250692\ttotal: 2.75s\tremaining: 519ms\n",
      "841:\tlearn: 0.1249063\ttotal: 2.75s\tremaining: 516ms\n",
      "842:\tlearn: 0.1247389\ttotal: 2.75s\tremaining: 513ms\n",
      "843:\tlearn: 0.1246278\ttotal: 2.76s\tremaining: 510ms\n",
      "844:\tlearn: 0.1244728\ttotal: 2.76s\tremaining: 506ms\n",
      "845:\tlearn: 0.1243994\ttotal: 2.76s\tremaining: 503ms\n",
      "846:\tlearn: 0.1243267\ttotal: 2.77s\tremaining: 500ms\n",
      "847:\tlearn: 0.1242025\ttotal: 2.77s\tremaining: 497ms\n",
      "848:\tlearn: 0.1241124\ttotal: 2.77s\tremaining: 494ms\n",
      "849:\tlearn: 0.1239922\ttotal: 2.78s\tremaining: 490ms\n",
      "850:\tlearn: 0.1239232\ttotal: 2.78s\tremaining: 487ms\n",
      "851:\tlearn: 0.1237881\ttotal: 2.79s\tremaining: 484ms\n",
      "852:\tlearn: 0.1236597\ttotal: 2.79s\tremaining: 481ms\n",
      "853:\tlearn: 0.1234212\ttotal: 2.79s\tremaining: 477ms\n",
      "854:\tlearn: 0.1232919\ttotal: 2.8s\tremaining: 474ms\n",
      "855:\tlearn: 0.1231454\ttotal: 2.8s\tremaining: 471ms\n",
      "856:\tlearn: 0.1230109\ttotal: 2.8s\tremaining: 468ms\n",
      "857:\tlearn: 0.1228473\ttotal: 2.81s\tremaining: 464ms\n",
      "858:\tlearn: 0.1227198\ttotal: 2.81s\tremaining: 461ms\n",
      "859:\tlearn: 0.1225100\ttotal: 2.81s\tremaining: 458ms\n",
      "860:\tlearn: 0.1223441\ttotal: 2.81s\tremaining: 454ms\n",
      "861:\tlearn: 0.1221664\ttotal: 2.82s\tremaining: 451ms\n",
      "862:\tlearn: 0.1219750\ttotal: 2.82s\tremaining: 448ms\n",
      "863:\tlearn: 0.1218628\ttotal: 2.82s\tremaining: 445ms\n",
      "864:\tlearn: 0.1217358\ttotal: 2.83s\tremaining: 441ms\n",
      "865:\tlearn: 0.1216041\ttotal: 2.83s\tremaining: 438ms\n",
      "866:\tlearn: 0.1214233\ttotal: 2.83s\tremaining: 435ms\n",
      "867:\tlearn: 0.1213312\ttotal: 2.84s\tremaining: 431ms\n",
      "868:\tlearn: 0.1212407\ttotal: 2.84s\tremaining: 428ms\n",
      "869:\tlearn: 0.1210571\ttotal: 2.84s\tremaining: 425ms\n",
      "870:\tlearn: 0.1209491\ttotal: 2.85s\tremaining: 422ms\n",
      "871:\tlearn: 0.1208717\ttotal: 2.85s\tremaining: 418ms\n",
      "872:\tlearn: 0.1207289\ttotal: 2.85s\tremaining: 415ms\n",
      "873:\tlearn: 0.1206366\ttotal: 2.85s\tremaining: 412ms\n",
      "874:\tlearn: 0.1205195\ttotal: 2.86s\tremaining: 408ms\n",
      "875:\tlearn: 0.1203282\ttotal: 2.86s\tremaining: 405ms\n",
      "876:\tlearn: 0.1201749\ttotal: 2.86s\tremaining: 402ms\n",
      "877:\tlearn: 0.1201435\ttotal: 2.87s\tremaining: 398ms\n",
      "878:\tlearn: 0.1200648\ttotal: 2.87s\tremaining: 395ms\n",
      "879:\tlearn: 0.1200050\ttotal: 2.87s\tremaining: 392ms\n",
      "880:\tlearn: 0.1198597\ttotal: 2.88s\tremaining: 388ms\n",
      "881:\tlearn: 0.1197588\ttotal: 2.88s\tremaining: 385ms\n",
      "882:\tlearn: 0.1195442\ttotal: 2.88s\tremaining: 382ms\n",
      "883:\tlearn: 0.1194035\ttotal: 2.88s\tremaining: 379ms\n",
      "884:\tlearn: 0.1192770\ttotal: 2.89s\tremaining: 375ms\n",
      "885:\tlearn: 0.1192041\ttotal: 2.89s\tremaining: 372ms\n",
      "886:\tlearn: 0.1190799\ttotal: 2.89s\tremaining: 369ms\n",
      "887:\tlearn: 0.1189784\ttotal: 2.9s\tremaining: 365ms\n",
      "888:\tlearn: 0.1188776\ttotal: 2.9s\tremaining: 362ms\n",
      "889:\tlearn: 0.1187820\ttotal: 2.9s\tremaining: 359ms\n",
      "890:\tlearn: 0.1186487\ttotal: 2.91s\tremaining: 356ms\n",
      "891:\tlearn: 0.1185418\ttotal: 2.91s\tremaining: 352ms\n",
      "892:\tlearn: 0.1183749\ttotal: 2.91s\tremaining: 349ms\n",
      "893:\tlearn: 0.1182394\ttotal: 2.92s\tremaining: 346ms\n",
      "894:\tlearn: 0.1180489\ttotal: 2.92s\tremaining: 342ms\n",
      "895:\tlearn: 0.1178946\ttotal: 2.92s\tremaining: 339ms\n",
      "896:\tlearn: 0.1178115\ttotal: 2.92s\tremaining: 336ms\n",
      "897:\tlearn: 0.1176801\ttotal: 2.93s\tremaining: 333ms\n"
     ]
    },
    {
     "name": "stdout",
     "output_type": "stream",
     "text": [
      "898:\tlearn: 0.1175989\ttotal: 2.93s\tremaining: 329ms\n",
      "899:\tlearn: 0.1175040\ttotal: 2.94s\tremaining: 326ms\n",
      "900:\tlearn: 0.1174031\ttotal: 2.94s\tremaining: 323ms\n",
      "901:\tlearn: 0.1172339\ttotal: 2.94s\tremaining: 320ms\n",
      "902:\tlearn: 0.1169945\ttotal: 2.94s\tremaining: 316ms\n",
      "903:\tlearn: 0.1168625\ttotal: 2.95s\tremaining: 313ms\n",
      "904:\tlearn: 0.1166573\ttotal: 2.95s\tremaining: 310ms\n",
      "905:\tlearn: 0.1164546\ttotal: 2.96s\tremaining: 307ms\n",
      "906:\tlearn: 0.1164026\ttotal: 2.96s\tremaining: 303ms\n",
      "907:\tlearn: 0.1163752\ttotal: 2.96s\tremaining: 300ms\n",
      "908:\tlearn: 0.1161643\ttotal: 2.97s\tremaining: 297ms\n",
      "909:\tlearn: 0.1161028\ttotal: 2.97s\tremaining: 294ms\n",
      "910:\tlearn: 0.1159914\ttotal: 2.97s\tremaining: 290ms\n",
      "911:\tlearn: 0.1157575\ttotal: 2.98s\tremaining: 287ms\n",
      "912:\tlearn: 0.1155673\ttotal: 2.98s\tremaining: 284ms\n",
      "913:\tlearn: 0.1154026\ttotal: 2.98s\tremaining: 281ms\n",
      "914:\tlearn: 0.1153047\ttotal: 2.98s\tremaining: 277ms\n",
      "915:\tlearn: 0.1152124\ttotal: 2.99s\tremaining: 274ms\n",
      "916:\tlearn: 0.1150621\ttotal: 2.99s\tremaining: 271ms\n",
      "917:\tlearn: 0.1149413\ttotal: 2.99s\tremaining: 268ms\n",
      "918:\tlearn: 0.1148596\ttotal: 3s\tremaining: 264ms\n",
      "919:\tlearn: 0.1148136\ttotal: 3s\tremaining: 261ms\n",
      "920:\tlearn: 0.1147099\ttotal: 3s\tremaining: 258ms\n",
      "921:\tlearn: 0.1145674\ttotal: 3.01s\tremaining: 254ms\n",
      "922:\tlearn: 0.1144802\ttotal: 3.01s\tremaining: 251ms\n",
      "923:\tlearn: 0.1143400\ttotal: 3.01s\tremaining: 248ms\n",
      "924:\tlearn: 0.1142301\ttotal: 3.02s\tremaining: 245ms\n",
      "925:\tlearn: 0.1140556\ttotal: 3.02s\tremaining: 241ms\n",
      "926:\tlearn: 0.1139425\ttotal: 3.02s\tremaining: 238ms\n",
      "927:\tlearn: 0.1138940\ttotal: 3.02s\tremaining: 235ms\n",
      "928:\tlearn: 0.1137930\ttotal: 3.03s\tremaining: 231ms\n",
      "929:\tlearn: 0.1135424\ttotal: 3.03s\tremaining: 228ms\n",
      "930:\tlearn: 0.1133713\ttotal: 3.03s\tremaining: 225ms\n",
      "931:\tlearn: 0.1132482\ttotal: 3.04s\tremaining: 222ms\n",
      "932:\tlearn: 0.1130961\ttotal: 3.04s\tremaining: 218ms\n",
      "933:\tlearn: 0.1130513\ttotal: 3.04s\tremaining: 215ms\n",
      "934:\tlearn: 0.1129623\ttotal: 3.05s\tremaining: 212ms\n",
      "935:\tlearn: 0.1128596\ttotal: 3.05s\tremaining: 208ms\n",
      "936:\tlearn: 0.1127572\ttotal: 3.05s\tremaining: 205ms\n",
      "937:\tlearn: 0.1125395\ttotal: 3.06s\tremaining: 202ms\n",
      "938:\tlearn: 0.1124669\ttotal: 3.06s\tremaining: 199ms\n",
      "939:\tlearn: 0.1123499\ttotal: 3.06s\tremaining: 195ms\n",
      "940:\tlearn: 0.1122993\ttotal: 3.06s\tremaining: 192ms\n",
      "941:\tlearn: 0.1122137\ttotal: 3.07s\tremaining: 189ms\n",
      "942:\tlearn: 0.1120284\ttotal: 3.07s\tremaining: 186ms\n",
      "943:\tlearn: 0.1119658\ttotal: 3.07s\tremaining: 182ms\n",
      "944:\tlearn: 0.1117743\ttotal: 3.08s\tremaining: 179ms\n",
      "945:\tlearn: 0.1116415\ttotal: 3.08s\tremaining: 176ms\n",
      "946:\tlearn: 0.1115047\ttotal: 3.08s\tremaining: 173ms\n",
      "947:\tlearn: 0.1113995\ttotal: 3.08s\tremaining: 169ms\n",
      "948:\tlearn: 0.1112724\ttotal: 3.09s\tremaining: 166ms\n",
      "949:\tlearn: 0.1112085\ttotal: 3.09s\tremaining: 163ms\n",
      "950:\tlearn: 0.1110928\ttotal: 3.09s\tremaining: 159ms\n",
      "951:\tlearn: 0.1110507\ttotal: 3.1s\tremaining: 156ms\n",
      "952:\tlearn: 0.1109116\ttotal: 3.1s\tremaining: 153ms\n",
      "953:\tlearn: 0.1107727\ttotal: 3.1s\tremaining: 150ms\n",
      "954:\tlearn: 0.1106983\ttotal: 3.11s\tremaining: 146ms\n",
      "955:\tlearn: 0.1105792\ttotal: 3.11s\tremaining: 143ms\n",
      "956:\tlearn: 0.1104433\ttotal: 3.11s\tremaining: 140ms\n",
      "957:\tlearn: 0.1102812\ttotal: 3.12s\tremaining: 137ms\n",
      "958:\tlearn: 0.1101500\ttotal: 3.12s\tremaining: 133ms\n",
      "959:\tlearn: 0.1100917\ttotal: 3.12s\tremaining: 130ms\n",
      "960:\tlearn: 0.1099831\ttotal: 3.13s\tremaining: 127ms\n",
      "961:\tlearn: 0.1098993\ttotal: 3.13s\tremaining: 124ms\n",
      "962:\tlearn: 0.1097251\ttotal: 3.13s\tremaining: 120ms\n",
      "963:\tlearn: 0.1096263\ttotal: 3.14s\tremaining: 117ms\n",
      "964:\tlearn: 0.1094908\ttotal: 3.14s\tremaining: 114ms\n",
      "965:\tlearn: 0.1093295\ttotal: 3.14s\tremaining: 111ms\n",
      "966:\tlearn: 0.1091700\ttotal: 3.15s\tremaining: 107ms\n",
      "967:\tlearn: 0.1090249\ttotal: 3.15s\tremaining: 104ms\n",
      "968:\tlearn: 0.1088210\ttotal: 3.15s\tremaining: 101ms\n",
      "969:\tlearn: 0.1087202\ttotal: 3.16s\tremaining: 97.7ms\n",
      "970:\tlearn: 0.1086037\ttotal: 3.16s\tremaining: 94.4ms\n",
      "971:\tlearn: 0.1084942\ttotal: 3.16s\tremaining: 91.1ms\n",
      "972:\tlearn: 0.1083372\ttotal: 3.17s\tremaining: 87.9ms\n",
      "973:\tlearn: 0.1082693\ttotal: 3.17s\tremaining: 84.6ms\n",
      "974:\tlearn: 0.1081616\ttotal: 3.17s\tremaining: 81.4ms\n",
      "975:\tlearn: 0.1080977\ttotal: 3.18s\tremaining: 78.1ms\n",
      "976:\tlearn: 0.1079747\ttotal: 3.18s\tremaining: 74.8ms\n",
      "977:\tlearn: 0.1078824\ttotal: 3.18s\tremaining: 71.6ms\n",
      "978:\tlearn: 0.1077509\ttotal: 3.19s\tremaining: 68.3ms\n",
      "979:\tlearn: 0.1076292\ttotal: 3.19s\tremaining: 65.1ms\n",
      "980:\tlearn: 0.1075573\ttotal: 3.19s\tremaining: 61.8ms\n",
      "981:\tlearn: 0.1074746\ttotal: 3.2s\tremaining: 58.6ms\n",
      "982:\tlearn: 0.1074054\ttotal: 3.2s\tremaining: 55.3ms\n",
      "983:\tlearn: 0.1072002\ttotal: 3.2s\tremaining: 52.1ms\n",
      "984:\tlearn: 0.1070921\ttotal: 3.21s\tremaining: 48.8ms\n",
      "985:\tlearn: 0.1069702\ttotal: 3.21s\tremaining: 45.6ms\n",
      "986:\tlearn: 0.1068499\ttotal: 3.21s\tremaining: 42.3ms\n",
      "987:\tlearn: 0.1067658\ttotal: 3.21s\tremaining: 39.1ms\n",
      "988:\tlearn: 0.1066353\ttotal: 3.22s\tremaining: 35.8ms\n",
      "989:\tlearn: 0.1065700\ttotal: 3.22s\tremaining: 32.5ms\n",
      "990:\tlearn: 0.1064759\ttotal: 3.22s\tremaining: 29.3ms\n",
      "991:\tlearn: 0.1063910\ttotal: 3.23s\tremaining: 26ms\n",
      "992:\tlearn: 0.1063251\ttotal: 3.23s\tremaining: 22.8ms\n",
      "993:\tlearn: 0.1062976\ttotal: 3.23s\tremaining: 19.5ms\n",
      "994:\tlearn: 0.1061638\ttotal: 3.24s\tremaining: 16.3ms\n",
      "995:\tlearn: 0.1060287\ttotal: 3.24s\tremaining: 13ms\n",
      "996:\tlearn: 0.1059437\ttotal: 3.24s\tremaining: 9.76ms\n",
      "997:\tlearn: 0.1058113\ttotal: 3.25s\tremaining: 6.5ms\n",
      "998:\tlearn: 0.1057815\ttotal: 3.25s\tremaining: 3.25ms\n",
      "999:\tlearn: 0.1056992\ttotal: 3.25s\tremaining: 0us\n"
     ]
    },
    {
     "data": {
      "text/plain": [
       "<catboost.core.CatBoostClassifier at 0x244abac1ca0>"
      ]
     },
     "execution_count": 119,
     "metadata": {},
     "output_type": "execute_result"
    }
   ],
   "source": [
    "Cb.fit(xx_train,yytrain)"
   ]
  },
  {
   "cell_type": "code",
   "execution_count": 121,
   "id": "87fe8a45",
   "metadata": {},
   "outputs": [],
   "source": [
    "ypreddcb=Cb.predict(xx_test)"
   ]
  },
  {
   "cell_type": "code",
   "execution_count": 122,
   "id": "2e1121fb",
   "metadata": {},
   "outputs": [
    {
     "data": {
      "text/plain": [
       "0.8157894736842105"
      ]
     },
     "execution_count": 122,
     "metadata": {},
     "output_type": "execute_result"
    }
   ],
   "source": [
    "accuracy_score(ypreddcb,yytest)"
   ]
  },
  {
   "cell_type": "code",
   "execution_count": 123,
   "id": "b8f03768",
   "metadata": {},
   "outputs": [
    {
     "name": "stdout",
     "output_type": "stream",
     "text": [
      "              precision    recall  f1-score   support\n",
      "\n",
      "           0       0.71      0.86      0.78        29\n",
      "           1       0.90      0.79      0.84        47\n",
      "\n",
      "    accuracy                           0.82        76\n",
      "   macro avg       0.81      0.82      0.81        76\n",
      "weighted avg       0.83      0.82      0.82        76\n",
      "\n"
     ]
    }
   ],
   "source": [
    "print(classification_report(ypreddcb,yytest))"
   ]
  },
  {
   "cell_type": "code",
   "execution_count": 124,
   "id": "e1068831",
   "metadata": {},
   "outputs": [
    {
     "data": {
      "text/plain": [
       "array([[25,  4],\n",
       "       [10, 37]], dtype=int64)"
      ]
     },
     "execution_count": 124,
     "metadata": {},
     "output_type": "execute_result"
    }
   ],
   "source": [
    "confusion_matrix(ypreddcb,yytest)"
   ]
  },
  {
   "cell_type": "code",
   "execution_count": 125,
   "id": "9d4f64fe",
   "metadata": {},
   "outputs": [],
   "source": [
    "#random forest model"
   ]
  },
  {
   "cell_type": "code",
   "execution_count": 126,
   "id": "41fc5828",
   "metadata": {},
   "outputs": [],
   "source": [
    "rfm=RandomForestClassifier()"
   ]
  },
  {
   "cell_type": "code",
   "execution_count": 127,
   "id": "d4b942f6",
   "metadata": {},
   "outputs": [
    {
     "data": {
      "text/plain": [
       "RandomForestClassifier()"
      ]
     },
     "execution_count": 127,
     "metadata": {},
     "output_type": "execute_result"
    }
   ],
   "source": [
    "rfm.fit(xx_train,yytrain)"
   ]
  },
  {
   "cell_type": "code",
   "execution_count": 128,
   "id": "2b20c5dd",
   "metadata": {},
   "outputs": [],
   "source": [
    "ypredrfm=rfm.predict(xx_test)"
   ]
  },
  {
   "cell_type": "code",
   "execution_count": 129,
   "id": "da4888af",
   "metadata": {},
   "outputs": [
    {
     "data": {
      "text/plain": [
       "0.7894736842105263"
      ]
     },
     "execution_count": 129,
     "metadata": {},
     "output_type": "execute_result"
    }
   ],
   "source": [
    "accuracy_score(ypredrfm,yytest)"
   ]
  },
  {
   "cell_type": "code",
   "execution_count": 130,
   "id": "c0e4b8c8",
   "metadata": {},
   "outputs": [
    {
     "name": "stdout",
     "output_type": "stream",
     "text": [
      "              precision    recall  f1-score   support\n",
      "\n",
      "           0       0.69      0.83      0.75        29\n",
      "           1       0.88      0.77      0.82        47\n",
      "\n",
      "    accuracy                           0.79        76\n",
      "   macro avg       0.78      0.80      0.78        76\n",
      "weighted avg       0.80      0.79      0.79        76\n",
      "\n"
     ]
    }
   ],
   "source": [
    "print(classification_report(ypredrfm,yytest))"
   ]
  },
  {
   "cell_type": "code",
   "execution_count": 131,
   "id": "f6825dfd",
   "metadata": {},
   "outputs": [
    {
     "data": {
      "text/plain": [
       "array([[24,  5],\n",
       "       [11, 36]], dtype=int64)"
      ]
     },
     "execution_count": 131,
     "metadata": {},
     "output_type": "execute_result"
    }
   ],
   "source": [
    "confusion_matrix(ypredrfm,yytest)"
   ]
  },
  {
   "cell_type": "code",
   "execution_count": null,
   "id": "14ecb2ea",
   "metadata": {},
   "outputs": [],
   "source": []
  }
 ],
 "metadata": {
  "kernelspec": {
   "display_name": "Python 3 (ipykernel)",
   "language": "python",
   "name": "python3"
  },
  "language_info": {
   "codemirror_mode": {
    "name": "ipython",
    "version": 3
   },
   "file_extension": ".py",
   "mimetype": "text/x-python",
   "name": "python",
   "nbconvert_exporter": "python",
   "pygments_lexer": "ipython3",
   "version": "3.9.12"
  }
 },
 "nbformat": 4,
 "nbformat_minor": 5
}
