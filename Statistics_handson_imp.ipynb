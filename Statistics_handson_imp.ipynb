{
 "cells": [
  {
   "cell_type": "code",
   "execution_count": null,
   "id": "7bcaf2b8",
   "metadata": {},
   "outputs": [],
   "source": [
    "collection of raw and unstructure things is called data\n",
    "information is byproduct when we apply the cleaning of data\n",
    "knowledge\n",
    "\n",
    "\n",
    "\n",
    "central tendency\n",
    "mean mode median and range"
   ]
  },
  {
   "cell_type": "code",
   "execution_count": 1,
   "id": "f4ffc530",
   "metadata": {},
   "outputs": [],
   "source": [
    "import pandas as pd\n",
    "import numpy as np\n",
    "import seaborn as sns\n",
    "import matplotlib.pyplot as plt"
   ]
  },
  {
   "cell_type": "code",
   "execution_count": 2,
   "id": "0d2c4396",
   "metadata": {},
   "outputs": [],
   "source": [
    "data=pd.read_csv(\"country_profile_variables (1).csv\")"
   ]
  },
  {
   "cell_type": "code",
   "execution_count": 3,
   "id": "242fd2fd",
   "metadata": {
    "scrolled": true
   },
   "outputs": [
    {
     "data": {
      "text/html": [
       "<div>\n",
       "<style scoped>\n",
       "    .dataframe tbody tr th:only-of-type {\n",
       "        vertical-align: middle;\n",
       "    }\n",
       "\n",
       "    .dataframe tbody tr th {\n",
       "        vertical-align: top;\n",
       "    }\n",
       "\n",
       "    .dataframe thead th {\n",
       "        text-align: right;\n",
       "    }\n",
       "</style>\n",
       "<table border=\"1\" class=\"dataframe\">\n",
       "  <thead>\n",
       "    <tr style=\"text-align: right;\">\n",
       "      <th></th>\n",
       "      <th>country</th>\n",
       "      <th>Region</th>\n",
       "      <th>Surface area (km2)</th>\n",
       "      <th>Population in thousands (2017)</th>\n",
       "      <th>Population density (per km2, 2017)</th>\n",
       "      <th>Sex ratio (m per 100 f, 2017)</th>\n",
       "      <th>GDP: Gross domestic product (million current US$)</th>\n",
       "      <th>GDP growth rate (annual %, const. 2005 prices)</th>\n",
       "      <th>GDP per capita (current US$)</th>\n",
       "      <th>Economy: Agriculture (% of GVA)</th>\n",
       "      <th>...</th>\n",
       "      <th>Mobile-cellular subscriptions (per 100 inhabitants).1</th>\n",
       "      <th>Individuals using the Internet (per 100 inhabitants)</th>\n",
       "      <th>Threatened species (number)</th>\n",
       "      <th>Forested area (% of land area)</th>\n",
       "      <th>CO2 emission estimates (million tons/tons per capita)</th>\n",
       "      <th>Energy production, primary (Petajoules)</th>\n",
       "      <th>Energy supply per capita (Gigajoules)</th>\n",
       "      <th>Pop. using improved drinking water (urban/rural, %)</th>\n",
       "      <th>Pop. using improved sanitation facilities (urban/rural, %)</th>\n",
       "      <th>Net Official Development Assist. received (% of GNI)</th>\n",
       "    </tr>\n",
       "  </thead>\n",
       "  <tbody>\n",
       "    <tr>\n",
       "      <th>0</th>\n",
       "      <td>Afghanistan</td>\n",
       "      <td>SouthernAsia</td>\n",
       "      <td>652864</td>\n",
       "      <td>35530</td>\n",
       "      <td>54.4</td>\n",
       "      <td>106.3</td>\n",
       "      <td>20270</td>\n",
       "      <td>-2.4</td>\n",
       "      <td>623.2</td>\n",
       "      <td>23.3</td>\n",
       "      <td>...</td>\n",
       "      <td>8.3</td>\n",
       "      <td>42</td>\n",
       "      <td>2.1</td>\n",
       "      <td>9.8/0.3</td>\n",
       "      <td>63</td>\n",
       "      <td>5</td>\n",
       "      <td>78.2/47.0</td>\n",
       "      <td>45.1/27.0</td>\n",
       "      <td>21.43</td>\n",
       "      <td>-99</td>\n",
       "    </tr>\n",
       "    <tr>\n",
       "      <th>1</th>\n",
       "      <td>Albania</td>\n",
       "      <td>SouthernEurope</td>\n",
       "      <td>28748</td>\n",
       "      <td>2930</td>\n",
       "      <td>106.9</td>\n",
       "      <td>101.9</td>\n",
       "      <td>11541</td>\n",
       "      <td>2.6</td>\n",
       "      <td>3984.2</td>\n",
       "      <td>22.4</td>\n",
       "      <td>...</td>\n",
       "      <td>63.3</td>\n",
       "      <td>130</td>\n",
       "      <td>28.2</td>\n",
       "      <td>5.7/2.0</td>\n",
       "      <td>84</td>\n",
       "      <td>36</td>\n",
       "      <td>94.9/95.2</td>\n",
       "      <td>95.5/90.2</td>\n",
       "      <td>2.96</td>\n",
       "      <td>-99</td>\n",
       "    </tr>\n",
       "    <tr>\n",
       "      <th>2</th>\n",
       "      <td>Algeria</td>\n",
       "      <td>NorthernAfrica</td>\n",
       "      <td>2381741</td>\n",
       "      <td>41318</td>\n",
       "      <td>17.3</td>\n",
       "      <td>102.0</td>\n",
       "      <td>164779</td>\n",
       "      <td>3.8</td>\n",
       "      <td>4154.1</td>\n",
       "      <td>12.2</td>\n",
       "      <td>...</td>\n",
       "      <td>38.2</td>\n",
       "      <td>135</td>\n",
       "      <td>0.8</td>\n",
       "      <td>145.4/3.7</td>\n",
       "      <td>5900</td>\n",
       "      <td>55</td>\n",
       "      <td>84.3/81.8</td>\n",
       "      <td>89.8/82.2</td>\n",
       "      <td>0.05</td>\n",
       "      <td>-99</td>\n",
       "    </tr>\n",
       "    <tr>\n",
       "      <th>3</th>\n",
       "      <td>American Samoa</td>\n",
       "      <td>Polynesia</td>\n",
       "      <td>199</td>\n",
       "      <td>56</td>\n",
       "      <td>278.2</td>\n",
       "      <td>103.6</td>\n",
       "      <td>-99</td>\n",
       "      <td>-99</td>\n",
       "      <td>-99.0</td>\n",
       "      <td>-99</td>\n",
       "      <td>...</td>\n",
       "      <td>-99</td>\n",
       "      <td>92</td>\n",
       "      <td>87.9</td>\n",
       "      <td>-99</td>\n",
       "      <td>-99</td>\n",
       "      <td>-99</td>\n",
       "      <td>100.0/100.0</td>\n",
       "      <td>62.5/62.5</td>\n",
       "      <td>-99</td>\n",
       "      <td>-99</td>\n",
       "    </tr>\n",
       "    <tr>\n",
       "      <th>4</th>\n",
       "      <td>Andorra</td>\n",
       "      <td>SouthernEurope</td>\n",
       "      <td>468</td>\n",
       "      <td>77</td>\n",
       "      <td>163.8</td>\n",
       "      <td>102.3</td>\n",
       "      <td>2812</td>\n",
       "      <td>0.8</td>\n",
       "      <td>39896.4</td>\n",
       "      <td>0.5</td>\n",
       "      <td>...</td>\n",
       "      <td>96.9</td>\n",
       "      <td>13</td>\n",
       "      <td>34.0</td>\n",
       "      <td>0.5/6.4</td>\n",
       "      <td>1</td>\n",
       "      <td>119</td>\n",
       "      <td>100.0/100.0</td>\n",
       "      <td>100.0/100.0</td>\n",
       "      <td>-99</td>\n",
       "      <td>-99</td>\n",
       "    </tr>\n",
       "  </tbody>\n",
       "</table>\n",
       "<p>5 rows × 50 columns</p>\n",
       "</div>"
      ],
      "text/plain": [
       "          country          Region Surface area (km2)  \\\n",
       "0     Afghanistan    SouthernAsia             652864   \n",
       "1         Albania  SouthernEurope              28748   \n",
       "2         Algeria  NorthernAfrica            2381741   \n",
       "3  American Samoa       Polynesia                199   \n",
       "4         Andorra  SouthernEurope                468   \n",
       "\n",
       "   Population in thousands (2017)  Population density (per km2, 2017)  \\\n",
       "0                           35530                                54.4   \n",
       "1                            2930                               106.9   \n",
       "2                           41318                                17.3   \n",
       "3                              56                               278.2   \n",
       "4                              77                               163.8   \n",
       "\n",
       "   Sex ratio (m per 100 f, 2017)  \\\n",
       "0                          106.3   \n",
       "1                          101.9   \n",
       "2                          102.0   \n",
       "3                          103.6   \n",
       "4                          102.3   \n",
       "\n",
       "   GDP: Gross domestic product (million current US$)  \\\n",
       "0                                              20270   \n",
       "1                                              11541   \n",
       "2                                             164779   \n",
       "3                                                -99   \n",
       "4                                               2812   \n",
       "\n",
       "  GDP growth rate (annual %, const. 2005 prices)  \\\n",
       "0                                           -2.4   \n",
       "1                                            2.6   \n",
       "2                                            3.8   \n",
       "3                                            -99   \n",
       "4                                            0.8   \n",
       "\n",
       "   GDP per capita (current US$) Economy: Agriculture (% of GVA)  ...  \\\n",
       "0                         623.2                            23.3  ...   \n",
       "1                        3984.2                            22.4  ...   \n",
       "2                        4154.1                            12.2  ...   \n",
       "3                         -99.0                             -99  ...   \n",
       "4                       39896.4                             0.5  ...   \n",
       "\n",
       "   Mobile-cellular subscriptions (per 100 inhabitants).1  \\\n",
       "0                                                8.3       \n",
       "1                                               63.3       \n",
       "2                                               38.2       \n",
       "3                                                -99       \n",
       "4                                               96.9       \n",
       "\n",
       "   Individuals using the Internet (per 100 inhabitants)  \\\n",
       "0                                                 42      \n",
       "1                                                130      \n",
       "2                                                135      \n",
       "3                                                 92      \n",
       "4                                                 13      \n",
       "\n",
       "  Threatened species (number) Forested area (% of land area)  \\\n",
       "0                         2.1                        9.8/0.3   \n",
       "1                        28.2                        5.7/2.0   \n",
       "2                         0.8                      145.4/3.7   \n",
       "3                        87.9                            -99   \n",
       "4                        34.0                        0.5/6.4   \n",
       "\n",
       "  CO2 emission estimates (million tons/tons per capita)  \\\n",
       "0                                                 63      \n",
       "1                                                 84      \n",
       "2                                               5900      \n",
       "3                                                -99      \n",
       "4                                                  1      \n",
       "\n",
       "  Energy production, primary (Petajoules)  \\\n",
       "0                                       5   \n",
       "1                                      36   \n",
       "2                                      55   \n",
       "3                                     -99   \n",
       "4                                     119   \n",
       "\n",
       "  Energy supply per capita (Gigajoules)  \\\n",
       "0                             78.2/47.0   \n",
       "1                             94.9/95.2   \n",
       "2                             84.3/81.8   \n",
       "3                           100.0/100.0   \n",
       "4                           100.0/100.0   \n",
       "\n",
       "   Pop. using improved drinking water (urban/rural, %)  \\\n",
       "0                                          45.1/27.0     \n",
       "1                                          95.5/90.2     \n",
       "2                                          89.8/82.2     \n",
       "3                                          62.5/62.5     \n",
       "4                                        100.0/100.0     \n",
       "\n",
       "   Pop. using improved sanitation facilities (urban/rural, %)  \\\n",
       "0                                              21.43            \n",
       "1                                               2.96            \n",
       "2                                               0.05            \n",
       "3                                                -99            \n",
       "4                                                -99            \n",
       "\n",
       "  Net Official Development Assist. received (% of GNI)  \n",
       "0                                                -99    \n",
       "1                                                -99    \n",
       "2                                                -99    \n",
       "3                                                -99    \n",
       "4                                                -99    \n",
       "\n",
       "[5 rows x 50 columns]"
      ]
     },
     "execution_count": 3,
     "metadata": {},
     "output_type": "execute_result"
    }
   ],
   "source": [
    "data.head()"
   ]
  },
  {
   "cell_type": "code",
   "execution_count": 4,
   "id": "fac3585b",
   "metadata": {},
   "outputs": [
    {
     "name": "stdout",
     "output_type": "stream",
     "text": [
      "<class 'pandas.core.frame.DataFrame'>\n",
      "RangeIndex: 229 entries, 0 to 228\n",
      "Data columns (total 50 columns):\n",
      " #   Column                                                      Non-Null Count  Dtype  \n",
      "---  ------                                                      --------------  -----  \n",
      " 0   country                                                     229 non-null    object \n",
      " 1   Region                                                      229 non-null    object \n",
      " 2   Surface area (km2)                                          229 non-null    object \n",
      " 3   Population in thousands (2017)                              229 non-null    int64  \n",
      " 4   Population density (per km2, 2017)                          229 non-null    float64\n",
      " 5   Sex ratio (m per 100 f, 2017)                               229 non-null    float64\n",
      " 6   GDP: Gross domestic product (million current US$)           229 non-null    int64  \n",
      " 7   GDP growth rate (annual %, const. 2005 prices)              229 non-null    object \n",
      " 8   GDP per capita (current US$)                                229 non-null    float64\n",
      " 9   Economy: Agriculture (% of GVA)                             229 non-null    object \n",
      " 10  Economy: Industry (% of GVA)                                229 non-null    float64\n",
      " 11  Economy: Services and other activity (% of GVA)             229 non-null    float64\n",
      " 12  Employment: Agriculture (% of employed)                     229 non-null    object \n",
      " 13  Employment: Industry (% of employed)                        229 non-null    object \n",
      " 14  Employment: Services (% of employed)                        229 non-null    object \n",
      " 15  Unemployment (% of labour force)                            229 non-null    object \n",
      " 16  Labour force participation (female/male pop. %)             229 non-null    object \n",
      " 17  Agricultural production index (2004-2006=100)               229 non-null    int64  \n",
      " 18  Food production index (2004-2006=100)                       229 non-null    int64  \n",
      " 19  International trade: Exports (million US$)                  229 non-null    object \n",
      " 20  International trade: Imports (million US$)                  229 non-null    object \n",
      " 21  International trade: Balance (million US$)                  229 non-null    object \n",
      " 22  Balance of payments, current account (million US$)          229 non-null    object \n",
      " 23  Population growth rate (average annual %)                   229 non-null    object \n",
      " 24  Urban population (% of total population)                    229 non-null    float64\n",
      " 25  Urban population growth rate (average annual %)             229 non-null    object \n",
      " 26  Fertility rate, total (live births per woman)               229 non-null    object \n",
      " 27  Life expectancy at birth (females/males, years)             229 non-null    object \n",
      " 28  Population age distribution (0-14 / 60+ years, %)           229 non-null    object \n",
      " 29  International migrant stock (000/% of total pop.)           229 non-null    object \n",
      " 30  Refugees and others of concern to UNHCR (in thousands)      229 non-null    object \n",
      " 31  Infant mortality rate (per 1000 live births                 229 non-null    object \n",
      " 32  Health: Total expenditure (% of GDP)                        229 non-null    float64\n",
      " 33  Health: Physicians (per 1000 pop.)                          229 non-null    object \n",
      " 34  Education: Government expenditure (% of GDP)                229 non-null    object \n",
      " 35  Education: Primary gross enrol. ratio (f/m per 100 pop.)    229 non-null    object \n",
      " 36  Education: Secondary gross enrol. ratio (f/m per 100 pop.)  229 non-null    object \n",
      " 37  Education: Tertiary gross enrol. ratio (f/m per 100 pop.)   229 non-null    object \n",
      " 38  Seats held by women in national parliaments %               229 non-null    float64\n",
      " 39  Mobile-cellular subscriptions (per 100 inhabitants)         229 non-null    object \n",
      " 40  Mobile-cellular subscriptions (per 100 inhabitants).1       229 non-null    object \n",
      " 41  Individuals using the Internet (per 100 inhabitants)        229 non-null    int64  \n",
      " 42  Threatened species (number)                                 229 non-null    object \n",
      " 43  Forested area (% of land area)                              229 non-null    object \n",
      " 44  CO2 emission estimates (million tons/tons per capita)       229 non-null    int64  \n",
      " 45  Energy production, primary (Petajoules)                     229 non-null    int64  \n",
      " 46  Energy supply per capita (Gigajoules)                       229 non-null    object \n",
      " 47  Pop. using improved drinking water (urban/rural, %)         229 non-null    object \n",
      " 48  Pop. using improved sanitation facilities (urban/rural, %)  229 non-null    object \n",
      " 49  Net Official Development Assist. received (% of GNI)        229 non-null    int64  \n",
      "dtypes: float64(8), int64(8), object(34)\n",
      "memory usage: 89.6+ KB\n"
     ]
    }
   ],
   "source": [
    "data.info()"
   ]
  },
  {
   "cell_type": "code",
   "execution_count": 5,
   "id": "9e39573e",
   "metadata": {},
   "outputs": [
    {
     "data": {
      "text/plain": [
       "country                                                       0\n",
       "Region                                                        0\n",
       "Surface area (km2)                                            0\n",
       "Population in thousands (2017)                                0\n",
       "Population density (per km2, 2017)                            0\n",
       "Sex ratio (m per 100 f, 2017)                                 0\n",
       "GDP: Gross domestic product (million current US$)             0\n",
       "GDP growth rate (annual %, const. 2005 prices)                0\n",
       "GDP per capita (current US$)                                  0\n",
       "Economy: Agriculture (% of GVA)                               0\n",
       "Economy: Industry (% of GVA)                                  0\n",
       "Economy: Services and other activity (% of GVA)               0\n",
       "Employment: Agriculture (% of employed)                       0\n",
       "Employment: Industry (% of employed)                          0\n",
       "Employment: Services (% of employed)                          0\n",
       "Unemployment (% of labour force)                              0\n",
       "Labour force participation (female/male pop. %)               0\n",
       "Agricultural production index (2004-2006=100)                 0\n",
       "Food production index (2004-2006=100)                         0\n",
       "International trade: Exports (million US$)                    0\n",
       "International trade: Imports (million US$)                    0\n",
       "International trade: Balance (million US$)                    0\n",
       "Balance of payments, current account (million US$)            0\n",
       "Population growth rate (average annual %)                     0\n",
       "Urban population (% of total population)                      0\n",
       "Urban population growth rate (average annual %)               0\n",
       "Fertility rate, total (live births per woman)                 0\n",
       "Life expectancy at birth (females/males, years)               0\n",
       "Population age distribution (0-14 / 60+ years, %)             0\n",
       "International migrant stock (000/% of total pop.)             0\n",
       "Refugees and others of concern to UNHCR (in thousands)        0\n",
       "Infant mortality rate (per 1000 live births                   0\n",
       "Health: Total expenditure (% of GDP)                          0\n",
       "Health: Physicians (per 1000 pop.)                            0\n",
       "Education: Government expenditure (% of GDP)                  0\n",
       "Education: Primary gross enrol. ratio (f/m per 100 pop.)      0\n",
       "Education: Secondary gross enrol. ratio (f/m per 100 pop.)    0\n",
       "Education: Tertiary gross enrol. ratio (f/m per 100 pop.)     0\n",
       "Seats held by women in national parliaments %                 0\n",
       "Mobile-cellular subscriptions (per 100 inhabitants)           0\n",
       "Mobile-cellular subscriptions (per 100 inhabitants).1         0\n",
       "Individuals using the Internet (per 100 inhabitants)          0\n",
       "Threatened species (number)                                   0\n",
       "Forested area (% of land area)                                0\n",
       "CO2 emission estimates (million tons/tons per capita)         0\n",
       "Energy production, primary (Petajoules)                       0\n",
       "Energy supply per capita (Gigajoules)                         0\n",
       "Pop. using improved drinking water (urban/rural, %)           0\n",
       "Pop. using improved sanitation facilities (urban/rural, %)    0\n",
       "Net Official Development Assist. received (% of GNI)          0\n",
       "dtype: int64"
      ]
     },
     "execution_count": 5,
     "metadata": {},
     "output_type": "execute_result"
    }
   ],
   "source": [
    "data.isna().sum()"
   ]
  },
  {
   "cell_type": "markdown",
   "id": "431822ae",
   "metadata": {},
   "source": [
    "# Central Tendency   mean mode median and range"
   ]
  },
  {
   "cell_type": "code",
   "execution_count": 6,
   "id": "5f1dbff4",
   "metadata": {},
   "outputs": [
    {
     "data": {
      "text/plain": [
       "32756.794759825327"
      ]
     },
     "execution_count": 6,
     "metadata": {},
     "output_type": "execute_result"
    }
   ],
   "source": [
    "data[\"Population in thousands (2017)\"].mean()"
   ]
  },
  {
   "cell_type": "code",
   "execution_count": 7,
   "id": "5fda713e",
   "metadata": {},
   "outputs": [
    {
     "data": {
      "text/plain": [
       "5448.0"
      ]
     },
     "execution_count": 7,
     "metadata": {},
     "output_type": "execute_result"
    }
   ],
   "source": [
    "data[\"Population in thousands (2017)\"].median()"
   ]
  },
  {
   "cell_type": "code",
   "execution_count": 8,
   "id": "afa0c680",
   "metadata": {},
   "outputs": [
    {
     "data": {
      "text/plain": [
       "0        1\n",
       "1       11\n",
       "2       35\n",
       "3       55\n",
       "4       56\n",
       "5      105\n",
       "6      108\n",
       "7      276\n",
       "8      283\n",
       "9     2890\n",
       "10    2930\n",
       "Name: Population in thousands (2017), dtype: int64"
      ]
     },
     "execution_count": 8,
     "metadata": {},
     "output_type": "execute_result"
    }
   ],
   "source": [
    "#the mode() in pandas return the set of values that appear often,\n",
    "#and can return multiple values as well\n",
    "data[\"Population in thousands (2017)\"].mode()"
   ]
  },
  {
   "cell_type": "code",
   "execution_count": 9,
   "id": "f0154e71",
   "metadata": {},
   "outputs": [
    {
     "data": {
      "text/plain": [
       "2890     2\n",
       "55       2\n",
       "11       2\n",
       "56       2\n",
       "276      2\n",
       "        ..\n",
       "82114    1\n",
       "28834    1\n",
       "11160    1\n",
       "450      1\n",
       "16530    1\n",
       "Name: Population in thousands (2017), Length: 218, dtype: int64"
      ]
     },
     "execution_count": 9,
     "metadata": {},
     "output_type": "execute_result"
    }
   ],
   "source": [
    "data[\"Population in thousands (2017)\"].value_counts()          "
   ]
  },
  {
   "cell_type": "code",
   "execution_count": 10,
   "id": "a0ba7f68",
   "metadata": {},
   "outputs": [
    {
     "data": {
      "text/plain": [
       "1"
      ]
     },
     "execution_count": 10,
     "metadata": {},
     "output_type": "execute_result"
    }
   ],
   "source": [
    "data[\"Population in thousands (2017)\"].min()          "
   ]
  },
  {
   "cell_type": "code",
   "execution_count": 11,
   "id": "bac81aa3",
   "metadata": {},
   "outputs": [
    {
     "data": {
      "text/plain": [
       "1409517"
      ]
     },
     "execution_count": 11,
     "metadata": {},
     "output_type": "execute_result"
    }
   ],
   "source": [
    "data[\"Population in thousands (2017)\"].max()          "
   ]
  },
  {
   "cell_type": "code",
   "execution_count": 12,
   "id": "7ebca77e",
   "metadata": {},
   "outputs": [
    {
     "name": "stdout",
     "output_type": "stream",
     "text": [
      "range: 1409516\n"
     ]
    }
   ],
   "source": [
    "print(\"range:\",data[\"Population in thousands (2017)\"].max()- data[\"Population in thousands (2017)\"].min() )         "
   ]
  },
  {
   "cell_type": "code",
   "execution_count": 13,
   "id": "eddc67d2",
   "metadata": {},
   "outputs": [
    {
     "data": {
      "text/plain": [
       "229"
      ]
     },
     "execution_count": 13,
     "metadata": {},
     "output_type": "execute_result"
    }
   ],
   "source": [
    "#count\n",
    "data[\"Population in thousands (2017)\"].count()          "
   ]
  },
  {
   "cell_type": "code",
   "execution_count": 14,
   "id": "93c19bf6",
   "metadata": {},
   "outputs": [
    {
     "data": {
      "text/plain": [
       "218"
      ]
     },
     "execution_count": 14,
     "metadata": {},
     "output_type": "execute_result"
    }
   ],
   "source": [
    "#unique value count\n",
    "data[\"Population in thousands (2017)\"].nunique()          "
   ]
  },
  {
   "cell_type": "code",
   "execution_count": null,
   "id": "6c2b2de2",
   "metadata": {},
   "outputs": [],
   "source": [
    "229-218=11 # one is index   #  that means rest are duplicted values thats why mode has many values"
   ]
  },
  {
   "cell_type": "code",
   "execution_count": 15,
   "id": "374dfc73",
   "metadata": {},
   "outputs": [
    {
     "data": {
      "text/plain": [
       "11"
      ]
     },
     "execution_count": 15,
     "metadata": {},
     "output_type": "execute_result"
    }
   ],
   "source": [
    "data[\"Population in thousands (2017)\"].duplicated().sum()          "
   ]
  },
  {
   "cell_type": "code",
   "execution_count": 17,
   "id": "89adc480",
   "metadata": {},
   "outputs": [
    {
     "data": {
      "text/plain": [
       "array([  35530,    2930,   41318,      56,      77,   29784,      15,\n",
       "           102,   44271,     105,   24451,    8736,    9828,     395,\n",
       "          1493,  164670,     286,    9468,   11429,     375,   11176,\n",
       "            61,     808,   11052,      25,    3507,    2292,  209288,\n",
       "            31,     429,    7085,   19193,   10864,     546,   16005,\n",
       "         24054,   36624,      62,    4659,   14900,     165,   18055,\n",
       "          7365,     623, 1409517,   49066,     814,    5261,      17,\n",
       "          4906,    4189,   11485,    1180,   10618,   25491,   81340,\n",
       "          5734,     957,      74,   10767,   16625,   97553,    6378,\n",
       "          1268,    5069,    1310,  104957,       3,      49,     906,\n",
       "          5523,   64980,     283,    2025,    2101,    3912,   82114,\n",
       "         28834,      35,   11160,     108,     450,     164,   16914,\n",
       "          1861,   12717,     778,   10981,       1,    9265,    9722,\n",
       "           335, 1339180,  263991,   81163,   38275,    4762,      84,\n",
       "          8322,   59360,    2890,  127484,    9702,   18204,   49700,\n",
       "           116,    4136,    6045,    6858,    1950,    6082,    2233,\n",
       "          4732,    6375,      38,     584,   25571,   18622,   31624,\n",
       "           436,   18542,     431,      53,     385,    4420,    1265,\n",
       "           253,  129163,     106,      39,    3076,     629,       5,\n",
       "         35740,   29669,   53371,    2534,      11,   29305,   17036,\n",
       "           276,    4706,    6218,   21477,  190886,       2,      55,\n",
       "          5305,    4636,  197016,      22,    4099,    8251,    6811,\n",
       "         32166,  104918,   38171,   10330,    3663,    2639,   50982,\n",
       "          4051,   19679,  143990,   12208,       4,     179,       6,\n",
       "           110,     196,      33,     204,   32938,   15851,    8791,\n",
       "            95,    7557,    5709,      40,    5448,    2080,     611,\n",
       "         14742,   56717,   12576,   46354,   20877,    4921,   40533,\n",
       "           563,    1367,    9911,    8476,   18270,    8921,   69038,\n",
       "          2083,    1296,    7798,    1369,   11532,   80745,    5758,\n",
       "         42863,   44223,    9400,   66182,   57310,  324460,    3457,\n",
       "         31911,   31977,   95541,      12,     553,   28250,   17094,\n",
       "         16530], dtype=int64)"
      ]
     },
     "execution_count": 17,
     "metadata": {},
     "output_type": "execute_result"
    }
   ],
   "source": [
    "data[\"Population in thousands (2017)\"].unique()          "
   ]
  },
  {
   "cell_type": "markdown",
   "id": "e61d7db9",
   "metadata": {},
   "source": [
    "# Measure of Variation\n",
    " standard deviation \n"
   ]
  },
  {
   "cell_type": "code",
   "execution_count": 16,
   "id": "51f0534e",
   "metadata": {},
   "outputs": [
    {
     "data": {
      "text/plain": [
       "133275.07991351312"
      ]
     },
     "execution_count": 16,
     "metadata": {},
     "output_type": "execute_result"
    }
   ],
   "source": [
    "data[\"Population in thousands (2017)\"].std()           "
   ]
  },
  {
   "cell_type": "code",
   "execution_count": 18,
   "id": "0a181b3a",
   "metadata": {},
   "outputs": [
    {
     "data": {
      "text/plain": [
       "17762246925.953312"
      ]
     },
     "execution_count": 18,
     "metadata": {},
     "output_type": "execute_result"
    }
   ],
   "source": [
    "data[\"Population in thousands (2017)\"].var()            # std^2=var"
   ]
  },
  {
   "cell_type": "code",
   "execution_count": 20,
   "id": "c8297e68",
   "metadata": {},
   "outputs": [],
   "source": [
    "# Percentile\n",
    "import numpy as np\n",
    "\n",
    "#25,50,75 percentile\n",
    "\n",
    "sev=np.percentile(data[\"Population in thousands (2017)\"],75)\n",
    "fif=np.percentile(data[\"Population in thousands (2017)\"],50)\n",
    "twe=np.percentile(data[\"Population in thousands (2017)\"],25)           "
   ]
  },
  {
   "cell_type": "code",
   "execution_count": 21,
   "id": "becd98fc",
   "metadata": {},
   "outputs": [
    {
     "name": "stdout",
     "output_type": "stream",
     "text": [
      "19193.0 5448.0 431.0\n"
     ]
    }
   ],
   "source": [
    "print(sev,fif,twe)"
   ]
  },
  {
   "cell_type": "code",
   "execution_count": 24,
   "id": "b7109dad",
   "metadata": {},
   "outputs": [
    {
     "name": "stdout",
     "output_type": "stream",
     "text": [
      "IQR:values is18762.0 \n"
     ]
    }
   ],
   "source": [
    "#IQR\n",
    "IQR=sev-twe\n",
    "print(\"IQR:values is{} \".format(IQR))"
   ]
  },
  {
   "cell_type": "code",
   "execution_count": 23,
   "id": "5919852c",
   "metadata": {},
   "outputs": [
    {
     "data": {
      "text/plain": [
       "19193.0"
      ]
     },
     "execution_count": 23,
     "metadata": {},
     "output_type": "execute_result"
    }
   ],
   "source": [
    "data[\"Population in thousands (2017)\"].quantile(q=.75)"
   ]
  },
  {
   "cell_type": "code",
   "execution_count": null,
   "id": "ccaa9747",
   "metadata": {},
   "outputs": [],
   "source": [
    "# quartile  is divided into 4 parts\n",
    "#the percentile divides the data in 100 parts"
   ]
  },
  {
   "cell_type": "code",
   "execution_count": 25,
   "id": "b83f7edc",
   "metadata": {},
   "outputs": [
    {
     "data": {
      "text/plain": [
       "count    2.290000e+02\n",
       "mean     3.275679e+04\n",
       "std      1.332751e+05\n",
       "min      1.000000e+00\n",
       "25%      4.310000e+02\n",
       "50%      5.448000e+03\n",
       "75%      1.919300e+04\n",
       "max      1.409517e+06\n",
       "Name: Population in thousands (2017), dtype: float64"
      ]
     },
     "execution_count": 25,
     "metadata": {},
     "output_type": "execute_result"
    }
   ],
   "source": [
    "#or we can use describe() to get the above info from the data\n",
    "data[\"Population in thousands (2017)\"].describe()\n"
   ]
  },
  {
   "cell_type": "code",
   "execution_count": null,
   "id": "cd3a623d",
   "metadata": {},
   "outputs": [],
   "source": [
    "# visualisation of DISTRIBUTION  of measure of frequency of data"
   ]
  },
  {
   "cell_type": "code",
   "execution_count": 26,
   "id": "06d704a3",
   "metadata": {},
   "outputs": [],
   "source": [
    "import matplotlib.pyplot as plt\n",
    "import seaborn as sns"
   ]
  },
  {
   "cell_type": "code",
   "execution_count": 27,
   "id": "b1ef4a21",
   "metadata": {},
   "outputs": [
    {
     "data": {
      "text/plain": [
       "<seaborn.axisgrid.FacetGrid at 0x28079e7efa0>"
      ]
     },
     "execution_count": 27,
     "metadata": {},
     "output_type": "execute_result"
    },
    {
     "data": {
      "image/png": "[encoded data removed]",
      "text/plain": [
       "<Figure size 360x360 with 1 Axes>"
      ]
     },
     "metadata": {
      "needs_background": "light"
     },
     "output_type": "display_data"
    }
   ],
   "source": [
    "sns.displot(data[\"Population in thousands (2017)\"])"
   ]
  },
  {
   "cell_type": "code",
   "execution_count": 28,
   "id": "c6e92d24",
   "metadata": {},
   "outputs": [
    {
     "data": {
      "text/plain": [
       "<seaborn.axisgrid.FacetGrid at 0x2807a5ac520>"
      ]
     },
     "execution_count": 28,
     "metadata": {},
     "output_type": "execute_result"
    },
    {
     "data": {
      "image/png": "[encoded data removed]",
      "text/plain": [
       "<Figure size 360x360 with 1 Axes>"
      ]
     },
     "metadata": {
      "needs_background": "light"
     },
     "output_type": "display_data"
    }
   ],
   "source": [
    "sns.displot(data[\"Population in thousands (2017)\"],kind=\"kde\")"
   ]
  },
  {
   "cell_type": "code",
   "execution_count": null,
   "id": "f77d1867",
   "metadata": {},
   "outputs": [],
   "source": [
    "# here data is from range 0 to .25^6           # kde is used to find the density   (it is right skewed)\n",
    "#it is not a normal distribution graph"
   ]
  },
  {
   "cell_type": "code",
   "execution_count": 29,
   "id": "d7fe962c",
   "metadata": {},
   "outputs": [
    {
     "data": {
      "text/plain": [
       "Index(['country', 'Region', 'Surface area (km2)',\n",
       "       'Population in thousands (2017)', 'Population density (per km2, 2017)',\n",
       "       'Sex ratio (m per 100 f, 2017)',\n",
       "       'GDP: Gross domestic product (million current US$)',\n",
       "       'GDP growth rate (annual %, const. 2005 prices)',\n",
       "       'GDP per capita (current US$)', 'Economy: Agriculture (% of GVA)',\n",
       "       'Economy: Industry (% of GVA)',\n",
       "       'Economy: Services and other activity (% of GVA)',\n",
       "       'Employment: Agriculture (% of employed)',\n",
       "       'Employment: Industry (% of employed)',\n",
       "       'Employment: Services (% of employed)',\n",
       "       'Unemployment (% of labour force)',\n",
       "       'Labour force participation (female/male pop. %)',\n",
       "       'Agricultural production index (2004-2006=100)',\n",
       "       'Food production index (2004-2006=100)',\n",
       "       'International trade: Exports (million US$)',\n",
       "       'International trade: Imports (million US$)',\n",
       "       'International trade: Balance (million US$)',\n",
       "       'Balance of payments, current account (million US$)',\n",
       "       'Population growth rate (average annual %)',\n",
       "       'Urban population (% of total population)',\n",
       "       'Urban population growth rate (average annual %)',\n",
       "       'Fertility rate, total (live births per woman)',\n",
       "       'Life expectancy at birth (females/males, years)',\n",
       "       'Population age distribution (0-14 / 60+ years, %)',\n",
       "       'International migrant stock (000/% of total pop.)',\n",
       "       'Refugees and others of concern to UNHCR (in thousands)',\n",
       "       'Infant mortality rate (per 1000 live births',\n",
       "       'Health: Total expenditure (% of GDP)',\n",
       "       'Health: Physicians (per 1000 pop.)',\n",
       "       'Education: Government expenditure (% of GDP)',\n",
       "       'Education: Primary gross enrol. ratio (f/m per 100 pop.)',\n",
       "       'Education: Secondary gross enrol. ratio (f/m per 100 pop.)',\n",
       "       'Education: Tertiary gross enrol. ratio (f/m per 100 pop.)',\n",
       "       'Seats held by women in national parliaments %',\n",
       "       'Mobile-cellular subscriptions (per 100 inhabitants)',\n",
       "       'Mobile-cellular subscriptions (per 100 inhabitants).1',\n",
       "       'Individuals using the Internet (per 100 inhabitants)',\n",
       "       'Threatened species (number)', 'Forested area (% of land area)',\n",
       "       'CO2 emission estimates (million tons/tons per capita)',\n",
       "       'Energy production, primary (Petajoules)',\n",
       "       'Energy supply per capita (Gigajoules)',\n",
       "       'Pop. using improved drinking water (urban/rural, %)',\n",
       "       'Pop. using improved sanitation facilities (urban/rural, %)',\n",
       "       'Net Official Development Assist. received (% of GNI)'],\n",
       "      dtype='object')"
      ]
     },
     "execution_count": 29,
     "metadata": {},
     "output_type": "execute_result"
    }
   ],
   "source": [
    "data.columns"
   ]
  },
  {
   "cell_type": "code",
   "execution_count": 31,
   "id": "036da8de",
   "metadata": {},
   "outputs": [
    {
     "data": {
      "text/plain": [
       "<seaborn.axisgrid.FacetGrid at 0x28079eddca0>"
      ]
     },
     "execution_count": 31,
     "metadata": {},
     "output_type": "execute_result"
    },
    {
     "data": {
      "image/png": "[encoded data removed]",
      "text/plain": [
       "<Figure size 360x360 with 1 Axes>"
      ]
     },
     "metadata": {
      "needs_background": "light"
     },
     "output_type": "display_data"
    }
   ],
   "source": [
    "sns.displot(data['Agricultural production index (2004-2006=100)'],kind=\"kde\")        # below graph is bimodal distribution(doesnot means that there are two mode ,mean)"
   ]
  },
  {
   "cell_type": "code",
   "execution_count": 32,
   "id": "01407f42",
   "metadata": {},
   "outputs": [
    {
     "data": {
      "text/plain": [
       "-99     18\n",
       " 102     8\n",
       " 111     7\n",
       " 112     7\n",
       " 103     6\n",
       "        ..\n",
       " 80      1\n",
       " 144     1\n",
       " 85      1\n",
       " 82      1\n",
       " 179     1\n",
       "Name: Agricultural production index (2004-2006=100), Length: 84, dtype: int64"
      ]
     },
     "execution_count": 32,
     "metadata": {},
     "output_type": "execute_result"
    }
   ],
   "source": [
    "data[\"Agricultural production index (2004-2006=100)\"].value_counts()"
   ]
  },
  {
   "cell_type": "code",
   "execution_count": 33,
   "id": "77fb7df5",
   "metadata": {},
   "outputs": [
    {
     "data": {
      "text/plain": [
       "<seaborn.axisgrid.FacetGrid at 0x2807a827160>"
      ]
     },
     "execution_count": 33,
     "metadata": {},
     "output_type": "execute_result"
    },
    {
     "data": {
      "image/png": "[encoded data removed]",
      "text/plain": [
       "<Figure size 360x360 with 1 Axes>"
      ]
     },
     "metadata": {
      "needs_background": "light"
     },
     "output_type": "display_data"
    }
   ],
   "source": [
    "sns.displot(data[\"Sex ratio (m per 100 f, 2017)\"],kind=\"kde\")"
   ]
  },
  {
   "cell_type": "code",
   "execution_count": 34,
   "id": "cb6a15fd",
   "metadata": {},
   "outputs": [
    {
     "data": {
      "text/plain": [
       "100.2    7\n",
       "98.2     5\n",
       "99.3     5\n",
       "99.0     5\n",
       "100.7    4\n",
       "        ..\n",
       "98.7     1\n",
       "102.5    1\n",
       "101.2    1\n",
       "101.4    1\n",
       "95.0     1\n",
       "Name: Sex ratio (m per 100 f, 2017), Length: 129, dtype: int64"
      ]
     },
     "execution_count": 34,
     "metadata": {},
     "output_type": "execute_result"
    }
   ],
   "source": [
    "data[\"Sex ratio (m per 100 f, 2017)\"].value_counts()"
   ]
  },
  {
   "cell_type": "code",
   "execution_count": 35,
   "id": "e2eaa1a0",
   "metadata": {},
   "outputs": [
    {
     "data": {
      "text/plain": [
       "0    100.2\n",
       "Name: Sex ratio (m per 100 f, 2017), dtype: float64"
      ]
     },
     "execution_count": 35,
     "metadata": {},
     "output_type": "execute_result"
    }
   ],
   "source": [
    "data[\"Sex ratio (m per 100 f, 2017)\"].mode()"
   ]
  },
  {
   "cell_type": "code",
   "execution_count": 36,
   "id": "59b4d287",
   "metadata": {},
   "outputs": [
    {
     "data": {
      "text/plain": [
       "100.2"
      ]
     },
     "execution_count": 36,
     "metadata": {},
     "output_type": "execute_result"
    }
   ],
   "source": [
    "data[\"Sex ratio (m per 100 f, 2017)\"].mode()[0]"
   ]
  },
  {
   "cell_type": "code",
   "execution_count": 37,
   "id": "462362fe",
   "metadata": {},
   "outputs": [
    {
     "data": {
      "text/plain": [
       "<seaborn.axisgrid.FacetGrid at 0x2807ac116d0>"
      ]
     },
     "execution_count": 37,
     "metadata": {},
     "output_type": "execute_result"
    },
    {
     "data": {
      "image/png": "[encoded data removed]",
      "text/plain": [
       "<Figure size 360x360 with 1 Axes>"
      ]
     },
     "metadata": {
      "needs_background": "light"
     },
     "output_type": "display_data"
    }
   ],
   "source": [
    "sns.displot(data[\"Seats held by women in national parliaments %\"],kind=\"kde\")"
   ]
  },
  {
   "cell_type": "code",
   "execution_count": 39,
   "id": "1d25b5a7",
   "metadata": {},
   "outputs": [
    {
     "data": {
      "text/plain": [
       "<seaborn.axisgrid.FacetGrid at 0x2807ca55c70>"
      ]
     },
     "execution_count": 39,
     "metadata": {},
     "output_type": "execute_result"
    },
    {
     "data": {
      "image/png": "[encoded data removed]",
      "text/plain": [
       "<Figure size 360x360 with 1 Axes>"
      ]
     },
     "metadata": {
      "needs_background": "light"
     },
     "output_type": "display_data"
    }
   ],
   "source": [
    "sns.displot(data[\"Urban population (% of total population)\"],kind=\"kde\")"
   ]
  },
  {
   "cell_type": "code",
   "execution_count": 40,
   "id": "a9a51d23",
   "metadata": {},
   "outputs": [],
   "source": [
    "# PROBABILITY "
   ]
  },
  {
   "cell_type": "code",
   "execution_count": null,
   "id": "88a32850",
   "metadata": {},
   "outputs": [],
   "source": [
    "#QUES: what is the probability  the population in thousads(2017) is more than 50,000\n",
    "#given that Population density (per km2,2017) is 100.0 or more"
   ]
  },
  {
   "cell_type": "code",
   "execution_count": 43,
   "id": "bdc31fef",
   "metadata": {},
   "outputs": [
    {
     "data": {
      "text/plain": [
       "27"
      ]
     },
     "execution_count": 43,
     "metadata": {},
     "output_type": "execute_result"
    }
   ],
   "source": [
    "(data[\"Population in thousands (2017)\"]>50000).sum()"
   ]
  },
  {
   "cell_type": "code",
   "execution_count": 45,
   "id": "1120f452",
   "metadata": {},
   "outputs": [
    {
     "data": {
      "text/plain": [
       "106"
      ]
     },
     "execution_count": 45,
     "metadata": {},
     "output_type": "execute_result"
    }
   ],
   "source": [
    "(data[\"Population density (per km2, 2017)\"]>=100).sum()"
   ]
  },
  {
   "cell_type": "code",
   "execution_count": 46,
   "id": "113dff85",
   "metadata": {},
   "outputs": [
    {
     "data": {
      "text/plain": [
       "10"
      ]
     },
     "execution_count": 46,
     "metadata": {},
     "output_type": "execute_result"
    }
   ],
   "source": [
    "(data[\"Population density (per km2, 2017)\"]>=100).sum() & ((data[\"Population in thousands (2017)\"]>50000).sum() ) "
   ]
  },
  {
   "cell_type": "code",
   "execution_count": 48,
   "id": "6dc6b5ec",
   "metadata": {},
   "outputs": [
    {
     "data": {
      "text/plain": [
       "2890     2\n",
       "55       2\n",
       "11       2\n",
       "56       2\n",
       "276      2\n",
       "        ..\n",
       "82114    1\n",
       "28834    1\n",
       "11160    1\n",
       "450      1\n",
       "16530    1\n",
       "Name: Population in thousands (2017), Length: 218, dtype: int64"
      ]
     },
     "execution_count": 48,
     "metadata": {},
     "output_type": "execute_result"
    }
   ],
   "source": [
    "data[\"Population in thousands (2017)\"].value_counts()"
   ]
  },
  {
   "cell_type": "code",
   "execution_count": 49,
   "id": "d6911467",
   "metadata": {},
   "outputs": [],
   "source": [
    "data[\"population\"]=np.where(data[\"Population in thousands (2017)\"]>50000,1,0)"
   ]
  },
  {
   "cell_type": "code",
   "execution_count": 54,
   "id": "5c587781",
   "metadata": {},
   "outputs": [],
   "source": [
    "data[\"density\"]=np.where(data[\"Population density (per km2, 2017)\"]>=100.0,1,0)"
   ]
  },
  {
   "cell_type": "code",
   "execution_count": 55,
   "id": "3ee335d2",
   "metadata": {},
   "outputs": [],
   "source": [
    "data[\"count\"]=1"
   ]
  },
  {
   "cell_type": "code",
   "execution_count": 56,
   "id": "f21c1d05",
   "metadata": {},
   "outputs": [],
   "source": [
    "data_new=data[[\"population\",\"density\",\"count\"]]"
   ]
  },
  {
   "cell_type": "code",
   "execution_count": 57,
   "id": "60dd7ee3",
   "metadata": {},
   "outputs": [
    {
     "data": {
      "text/html": [
       "<div>\n",
       "<style scoped>\n",
       "    .dataframe tbody tr th:only-of-type {\n",
       "        vertical-align: middle;\n",
       "    }\n",
       "\n",
       "    .dataframe tbody tr th {\n",
       "        vertical-align: top;\n",
       "    }\n",
       "\n",
       "    .dataframe thead th {\n",
       "        text-align: right;\n",
       "    }\n",
       "</style>\n",
       "<table border=\"1\" class=\"dataframe\">\n",
       "  <thead>\n",
       "    <tr style=\"text-align: right;\">\n",
       "      <th></th>\n",
       "      <th>population</th>\n",
       "      <th>density</th>\n",
       "      <th>count</th>\n",
       "    </tr>\n",
       "  </thead>\n",
       "  <tbody>\n",
       "    <tr>\n",
       "      <th>0</th>\n",
       "      <td>0</td>\n",
       "      <td>0</td>\n",
       "      <td>1</td>\n",
       "    </tr>\n",
       "    <tr>\n",
       "      <th>1</th>\n",
       "      <td>0</td>\n",
       "      <td>1</td>\n",
       "      <td>1</td>\n",
       "    </tr>\n",
       "    <tr>\n",
       "      <th>2</th>\n",
       "      <td>0</td>\n",
       "      <td>0</td>\n",
       "      <td>1</td>\n",
       "    </tr>\n",
       "    <tr>\n",
       "      <th>3</th>\n",
       "      <td>0</td>\n",
       "      <td>1</td>\n",
       "      <td>1</td>\n",
       "    </tr>\n",
       "    <tr>\n",
       "      <th>4</th>\n",
       "      <td>0</td>\n",
       "      <td>1</td>\n",
       "      <td>1</td>\n",
       "    </tr>\n",
       "  </tbody>\n",
       "</table>\n",
       "</div>"
      ],
      "text/plain": [
       "   population  density  count\n",
       "0           0        0      1\n",
       "1           0        1      1\n",
       "2           0        0      1\n",
       "3           0        1      1\n",
       "4           0        1      1"
      ]
     },
     "execution_count": 57,
     "metadata": {},
     "output_type": "execute_result"
    }
   ],
   "source": [
    "data_new.head()"
   ]
  },
  {
   "cell_type": "code",
   "execution_count": 59,
   "id": "849d019f",
   "metadata": {},
   "outputs": [
    {
     "data": {
      "text/html": [
       "<div>\n",
       "<style scoped>\n",
       "    .dataframe tbody tr th:only-of-type {\n",
       "        vertical-align: middle;\n",
       "    }\n",
       "\n",
       "    .dataframe tbody tr th {\n",
       "        vertical-align: top;\n",
       "    }\n",
       "\n",
       "    .dataframe thead th {\n",
       "        text-align: right;\n",
       "    }\n",
       "</style>\n",
       "<table border=\"1\" class=\"dataframe\">\n",
       "  <thead>\n",
       "    <tr style=\"text-align: right;\">\n",
       "      <th>density</th>\n",
       "      <th>0</th>\n",
       "      <th>1</th>\n",
       "    </tr>\n",
       "    <tr>\n",
       "      <th>population</th>\n",
       "      <th></th>\n",
       "      <th></th>\n",
       "    </tr>\n",
       "  </thead>\n",
       "  <tbody>\n",
       "    <tr>\n",
       "      <th>0</th>\n",
       "      <td>113</td>\n",
       "      <td>89</td>\n",
       "    </tr>\n",
       "    <tr>\n",
       "      <th>1</th>\n",
       "      <td>10</td>\n",
       "      <td>17</td>\n",
       "    </tr>\n",
       "  </tbody>\n",
       "</table>\n",
       "</div>"
      ],
      "text/plain": [
       "density       0   1\n",
       "population         \n",
       "0           113  89\n",
       "1            10  17"
      ]
     },
     "execution_count": 59,
     "metadata": {},
     "output_type": "execute_result"
    }
   ],
   "source": [
    "pd.pivot_table(data_new,values=\"count\",index=[\"population\"],columns=[\"density\"],aggfunc=np.size,fill_value=0)"
   ]
  },
  {
   "cell_type": "code",
   "execution_count": 65,
   "id": "468d6889",
   "metadata": {},
   "outputs": [
    {
     "data": {
      "text/plain": [
       "0.11790393013100436"
      ]
     },
     "execution_count": 65,
     "metadata": {},
     "output_type": "execute_result"
    }
   ],
   "source": [
    "#there are 113 countries whouse population is <50k and whose density is also less than 100.0\n",
    "#0 1    89 is no of countries whose population is <50K bit density is >=100.0\n",
    "#1 0    10 countries whose population is >50K but density is <100.0\n",
    "#1 1    17 countries are there poplutaion>50K and density >=100.0\n",
    "\n",
    "p_a=(10+17)/(113+89+10+17)      #population >50K\n",
    "p_a"
   ]
  },
  {
   "cell_type": "code",
   "execution_count": 66,
   "id": "15418b84",
   "metadata": {},
   "outputs": [
    {
     "data": {
      "text/plain": [
       "0.462882096069869"
      ]
     },
     "execution_count": 66,
     "metadata": {},
     "output_type": "execute_result"
    }
   ],
   "source": [
    "p_b=(89+17)/(113+89+10+17)        #density>=100.0\n",
    "p_b"
   ]
  },
  {
   "cell_type": "code",
   "execution_count": 68,
   "id": "334caed7",
   "metadata": {},
   "outputs": [
    {
     "data": {
      "text/plain": [
       "0.07423580786026202"
      ]
     },
     "execution_count": 68,
     "metadata": {},
     "output_type": "execute_result"
    }
   ],
   "source": [
    "p_a_b=17/(113+89+10+17)\n",
    "p_a_b"
   ]
  },
  {
   "cell_type": "code",
   "execution_count": 71,
   "id": "43c0638e",
   "metadata": {},
   "outputs": [
    {
     "data": {
      "text/plain": [
       "False    202\n",
       "True      27\n",
       "Name: Population in thousands (2017), dtype: int64"
      ]
     },
     "execution_count": 71,
     "metadata": {},
     "output_type": "execute_result"
    }
   ],
   "source": [
    "(data[\"Population in thousands (2017)\"]>=50000).value_counts()"
   ]
  },
  {
   "cell_type": "code",
   "execution_count": 72,
   "id": "ba583e8d",
   "metadata": {},
   "outputs": [
    {
     "data": {
      "text/plain": [
       "False    123\n",
       "True     106\n",
       "Name: Population density (per km2, 2017), dtype: int64"
      ]
     },
     "execution_count": 72,
     "metadata": {},
     "output_type": "execute_result"
    }
   ],
   "source": [
    "(data[\"Population density (per km2, 2017)\"]>=100.0).value_counts()"
   ]
  },
  {
   "cell_type": "code",
   "execution_count": 76,
   "id": "db835568",
   "metadata": {},
   "outputs": [
    {
     "data": {
      "text/plain": [
       "False    212\n",
       "True      17\n",
       "dtype: int64"
      ]
     },
     "execution_count": 76,
     "metadata": {},
     "output_type": "execute_result"
    }
   ],
   "source": [
    "((data[\"Population density (per km2, 2017)\"]>=100) & (data[\"Population in thousands (2017)\"]>50000)).value_counts()"
   ]
  },
  {
   "cell_type": "code",
   "execution_count": 77,
   "id": "00f0e5be",
   "metadata": {},
   "outputs": [
    {
     "data": {
      "text/plain": [
       "0.07423580786026202"
      ]
     },
     "execution_count": 77,
     "metadata": {},
     "output_type": "execute_result"
    }
   ],
   "source": [
    "17/(212+17)        #17 is P>50K and D>100.0  and 212 is P<50K and D<100.0    total=212+17"
   ]
  },
  {
   "cell_type": "code",
   "execution_count": null,
   "id": "0a1b3181",
   "metadata": {},
   "outputs": [],
   "source": []
  }
 ],
 "metadata": {
  "kernelspec": {
   "display_name": "Python 3 (ipykernel)",
   "language": "python",
   "name": "python3"
  },
  "language_info": {
   "codemirror_mode": {
    "name": "ipython",
    "version": 3
   },
   "file_extension": ".py",
   "mimetype": "text/x-python",
   "name": "python",
   "nbconvert_exporter": "python",
   "pygments_lexer": "ipython3",
   "version": "3.9.12"
  }
 },
 "nbformat": 4,
 "nbformat_minor": 5
}
