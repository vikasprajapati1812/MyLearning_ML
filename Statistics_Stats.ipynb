{
 "cells": [
  {
   "cell_type": "code",
   "execution_count": 1,
   "id": "f7e00fa4",
   "metadata": {},
   "outputs": [],
   "source": [
    "import pandas as pd\n",
    "import numpy as np\n",
    "from scipy import constants"
   ]
  },
  {
   "cell_type": "raw",
   "id": "ac607661",
   "metadata": {},
   "source": [
    "Q1. Given a sample, find the standard deviation and variance of the same. \n",
    "Sample = [42 61 39 70 8 30 52 28 95 86 35 77 80 86 1 84 90 57 45 6 1 56 60 83 24 63 93 59 92 53] \n",
    " \n",
    "02. For a given unsorted array, find the range of the array, and the Interquartile range(IQR) of \n",
    "the array. \n",
    "array = numpy.array([17, 27, 80, 39, 72, 95, 52, 85, 8, 64, 36, 15, 62, 76, 66, 67, 59, 92]) \n",
    " \n",
    " \n",
    "03. In a skewed distribution, If the mean and median of a sample is 56, and 63 and the mode of \n",
    "the same is 65. The distribution graph of the sample will be ___? \n",
    " \n",
    "04. If the IQR range of the sample is 4.25, and IQR 1 and IQR 3 values are 4, 8.25 respectively. Which of \n",
    "the following are suspected outliers in the sample? \n",
    " \n",
    "05. In a normal distribution curve ___? \n",
    " \n",
    "06. Calculate the 95% confidence interval of the given sample using the \n",
    "t-distribution. Sample = [78 65 20 69 36 81 85 71 44 71 47 37 89 25 73 55 80 52 46 77]. \n",
    " \n",
    "07.If the mean value is 100 and standard deviation is 15 for a normally distributed sample. \n",
    "Calculate the p-value from the given sample after performing the one sample z-test on the following data. \n",
    "Sample = [88, 92, 84, 64, 96, 97, 67, 97, 96, 99,115, 119, 119, 129, 130, 142, 102, 123, 134, 105] \n",
    " \n",
    "08. To calculate the p-value in a chi squared test, what among the following is not \n",
    "required? \n",
    " \n",
    "09. If the chi squared value is low, it means that ___? "
   ]
  },
  {
   "cell_type": "code",
   "execution_count": 2,
   "id": "3f3f035e",
   "metadata": {},
   "outputs": [],
   "source": [
    "#Q1. Given a sample, find the standard deviation and variance of the same. \n",
    "\n",
    "Sample = [42,61, 39, 70, 8, 30, 52, 28, 95, 86, 35, 77, 80, 86, 1, 84, 90, 57, 45, 6, 1, 56, 60, 83, 24, 63, 93, 59, 92, 53] \n"
   ]
  },
  {
   "cell_type": "code",
   "execution_count": 3,
   "id": "b5478c76",
   "metadata": {},
   "outputs": [
    {
     "data": {
      "text/plain": [
       "28.49491182649983"
      ]
     },
     "execution_count": 3,
     "metadata": {},
     "output_type": "execute_result"
    }
   ],
   "source": [
    "np.std(Sample)"
   ]
  },
  {
   "cell_type": "code",
   "execution_count": 4,
   "id": "21e1a3db",
   "metadata": {},
   "outputs": [
    {
     "data": {
      "text/plain": [
       "811.9599999999999"
      ]
     },
     "execution_count": 4,
     "metadata": {},
     "output_type": "execute_result"
    }
   ],
   "source": [
    "np.var(Sample)"
   ]
  },
  {
   "cell_type": "code",
   "execution_count": 5,
   "id": "a3f0f0b0",
   "metadata": {},
   "outputs": [],
   "source": [
    "#02. For a given unsorted array, find the range of the array, and the Interquartile range(IQR) of  the array. \n",
    "array = np.array([17, 27, 80, 39, 72, 95, 52, 85, 8, 64, 36, 15, 62, 76, 66, 67, 59, 92]) "
   ]
  },
  {
   "cell_type": "code",
   "execution_count": 6,
   "id": "4455e15a",
   "metadata": {},
   "outputs": [
    {
     "data": {
      "text/plain": [
       "87"
      ]
     },
     "execution_count": 6,
     "metadata": {},
     "output_type": "execute_result"
    }
   ],
   "source": [
    "np.ptp(array)    #range =max-min"
   ]
  },
  {
   "cell_type": "code",
   "execution_count": 7,
   "id": "16880b2a",
   "metadata": {},
   "outputs": [
    {
     "data": {
      "text/plain": [
       "87"
      ]
     },
     "execution_count": 7,
     "metadata": {},
     "output_type": "execute_result"
    }
   ],
   "source": [
    "95-8"
   ]
  },
  {
   "cell_type": "code",
   "execution_count": 8,
   "id": "41bd4cd0",
   "metadata": {},
   "outputs": [
    {
     "data": {
      "text/plain": [
       "array([8.2975, 8.8925])"
      ]
     },
     "execution_count": 8,
     "metadata": {},
     "output_type": "execute_result"
    }
   ],
   "source": [
    "np.percentile(array,[0.25,0.75])             # wrong"
   ]
  },
  {
   "cell_type": "code",
   "execution_count": 9,
   "id": "0fc0e407",
   "metadata": {},
   "outputs": [],
   "source": [
    "Q1,Q3=np.percentile(array,[0.25,0.75])            # Wrong"
   ]
  },
  {
   "cell_type": "code",
   "execution_count": 10,
   "id": "1487faac",
   "metadata": {},
   "outputs": [],
   "source": [
    "IQR=Q3-Q1              # for IQR ewe have to find using quartile "
   ]
  },
  {
   "cell_type": "code",
   "execution_count": 11,
   "id": "d985a807",
   "metadata": {},
   "outputs": [
    {
     "data": {
      "text/plain": [
       "0.5950000000000006"
      ]
     },
     "execution_count": 11,
     "metadata": {},
     "output_type": "execute_result"
    }
   ],
   "source": [
    "IQR"
   ]
  },
  {
   "cell_type": "code",
   "execution_count": 12,
   "id": "3734981c",
   "metadata": {},
   "outputs": [
    {
     "data": {
      "text/plain": [
       "array([36.75, 75.  ])"
      ]
     },
     "execution_count": 12,
     "metadata": {},
     "output_type": "execute_result"
    }
   ],
   "source": [
    "np.quantile(array,[0.25,0.75])"
   ]
  },
  {
   "cell_type": "code",
   "execution_count": 13,
   "id": "88b07a51",
   "metadata": {},
   "outputs": [],
   "source": [
    "IQRr=75.0-36.75"
   ]
  },
  {
   "cell_type": "code",
   "execution_count": 14,
   "id": "61f5f0e2",
   "metadata": {},
   "outputs": [
    {
     "data": {
      "text/plain": [
       "38.25"
      ]
     },
     "execution_count": 14,
     "metadata": {},
     "output_type": "execute_result"
    }
   ],
   "source": [
    "IQRr"
   ]
  },
  {
   "cell_type": "raw",
   "id": "2acd86ed",
   "metadata": {},
   "source": [
    "#03. In a skewed distribution, If the mean and median of a sample is 56, and 63 and the mode of \n",
    "the same is 65. The distribution graph of the sample will be ___? "
   ]
  },
  {
   "cell_type": "code",
   "execution_count": 16,
   "id": "a5f0587d",
   "metadata": {},
   "outputs": [],
   "source": [
    "#mean=56 ,median=63 ,mode=65"
   ]
  },
  {
   "cell_type": "code",
   "execution_count": 17,
   "id": "dfd08bdd",
   "metadata": {},
   "outputs": [],
   "source": [
    "#since median is greater so left skewed (negatively skewed)"
   ]
  },
  {
   "cell_type": "raw",
   "id": "84d5209b",
   "metadata": {},
   "source": [
    "\n",
    "#04. If the IQR range of the sample is 4.25, and IQR 1 and IQR 3 values are 4, 8.25 respectively. Which of \n",
    "the following are suspected outliers in the sample?"
   ]
  },
  {
   "cell_type": "code",
   "execution_count": 18,
   "id": "65e28000",
   "metadata": {},
   "outputs": [
    {
     "data": {
      "text/plain": [
       "[42,\n",
       " 61,\n",
       " 39,\n",
       " 70,\n",
       " 8,\n",
       " 30,\n",
       " 52,\n",
       " 28,\n",
       " 95,\n",
       " 86,\n",
       " 35,\n",
       " 77,\n",
       " 80,\n",
       " 86,\n",
       " 1,\n",
       " 84,\n",
       " 90,\n",
       " 57,\n",
       " 45,\n",
       " 6,\n",
       " 1,\n",
       " 56,\n",
       " 60,\n",
       " 83,\n",
       " 24,\n",
       " 63,\n",
       " 93,\n",
       " 59,\n",
       " 92,\n",
       " 53]"
      ]
     },
     "execution_count": 18,
     "metadata": {},
     "output_type": "execute_result"
    }
   ],
   "source": [
    "Sample"
   ]
  },
  {
   "cell_type": "code",
   "execution_count": 25,
   "id": "89658f9f",
   "metadata": {},
   "outputs": [],
   "source": [
    "Q1=4.25\n",
    "Q3=8.25\n",
    "IQr=4.25\n",
    "Upper=Q3+1.5*IQr\n",
    "Lower=Q1-1.5*IQr"
   ]
  },
  {
   "cell_type": "code",
   "execution_count": 26,
   "id": "c04657ba",
   "metadata": {},
   "outputs": [
    {
     "data": {
      "text/plain": [
       "14.625"
      ]
     },
     "execution_count": 26,
     "metadata": {},
     "output_type": "execute_result"
    }
   ],
   "source": [
    "Upper"
   ]
  },
  {
   "cell_type": "code",
   "execution_count": 27,
   "id": "33bbce9f",
   "metadata": {},
   "outputs": [
    {
     "data": {
      "text/plain": [
       "-2.125"
      ]
     },
     "execution_count": 27,
     "metadata": {},
     "output_type": "execute_result"
    }
   ],
   "source": [
    "Lower"
   ]
  },
  {
   "cell_type": "code",
   "execution_count": null,
   "id": "a13471e8",
   "metadata": {},
   "outputs": [],
   "source": []
  },
  {
   "cell_type": "code",
   "execution_count": null,
   "id": "eba24ecc",
   "metadata": {},
   "outputs": [],
   "source": []
  },
  {
   "cell_type": "code",
   "execution_count": null,
   "id": "a1e6b860",
   "metadata": {},
   "outputs": [],
   "source": []
  },
  {
   "cell_type": "raw",
   "id": "460e29e5",
   "metadata": {},
   "source": [
    " \n",
    "05. In a normal distribution curve ___? \n",
    " "
   ]
  },
  {
   "cell_type": "code",
   "execution_count": null,
   "id": "6804c034",
   "metadata": {},
   "outputs": [],
   "source": [
    "# The AUC value is 1"
   ]
  },
  {
   "cell_type": "code",
   "execution_count": null,
   "id": "902ae920",
   "metadata": {},
   "outputs": [],
   "source": []
  },
  {
   "cell_type": "raw",
   "id": "c7ace946",
   "metadata": {},
   "source": [
    "\n",
    "06. Calculate the 95% confidence interval of the given sample using the  t-distribution.\n",
    "\n",
    "Sample = [78 65 20 69 36 81 85 71 44 71 47 37 89 25 73 55 80 52 46 77]. \n",
    " "
   ]
  },
  {
   "cell_type": "code",
   "execution_count": 69,
   "id": "65828450",
   "metadata": {},
   "outputs": [],
   "source": [
    "Sample = [78, 65, 20, 69, 36, 81, 85, 71, 44, 71, 47, 37, 89, 25, 73, 55, 80, 52, 46, 77]\n"
   ]
  },
  {
   "cell_type": "code",
   "execution_count": 70,
   "id": "53efdce3",
   "metadata": {},
   "outputs": [
    {
     "data": {
      "text/plain": [
       "60.05"
      ]
     },
     "execution_count": 70,
     "metadata": {},
     "output_type": "execute_result"
    }
   ],
   "source": [
    "np.mean(Sample)"
   ]
  },
  {
   "cell_type": "code",
   "execution_count": 71,
   "id": "5482628a",
   "metadata": {},
   "outputs": [
    {
     "data": {
      "text/plain": [
       "20.095957304890952"
      ]
     },
     "execution_count": 71,
     "metadata": {},
     "output_type": "execute_result"
    }
   ],
   "source": [
    "np.std(Sample)"
   ]
  },
  {
   "cell_type": "code",
   "execution_count": 79,
   "id": "62775b65",
   "metadata": {},
   "outputs": [
    {
     "data": {
      "text/plain": [
       "3.0025"
      ]
     },
     "execution_count": 79,
     "metadata": {},
     "output_type": "execute_result"
    }
   ],
   "source": [
    "60.05/20   #(point estimate)=sum(xi)/n"
   ]
  },
  {
   "cell_type": "code",
   "execution_count": 86,
   "id": "7e54e677",
   "metadata": {},
   "outputs": [
    {
     "data": {
      "text/plain": [
       "9.646557661610911"
      ]
     },
     "execution_count": 86,
     "metadata": {},
     "output_type": "execute_result"
    }
   ],
   "source": [
    "2.093*20.09/np.sqrt(19)"
   ]
  },
  {
   "cell_type": "code",
   "execution_count": 87,
   "id": "024a6a07",
   "metadata": {},
   "outputs": [
    {
     "data": {
      "text/plain": [
       "50.354"
      ]
     },
     "execution_count": 87,
     "metadata": {},
     "output_type": "execute_result"
    }
   ],
   "source": [
    "60-9.646"
   ]
  },
  {
   "cell_type": "code",
   "execution_count": 88,
   "id": "9cf31b3a",
   "metadata": {},
   "outputs": [
    {
     "data": {
      "text/plain": [
       "69.646"
      ]
     },
     "execution_count": 88,
     "metadata": {},
     "output_type": "execute_result"
    }
   ],
   "source": [
    "60+9.646"
   ]
  },
  {
   "cell_type": "code",
   "execution_count": null,
   "id": "047daba6",
   "metadata": {},
   "outputs": [],
   "source": []
  },
  {
   "cell_type": "code",
   "execution_count": null,
   "id": "c484fb94",
   "metadata": {},
   "outputs": [],
   "source": []
  },
  {
   "cell_type": "raw",
   "id": "f9bc58ab",
   "metadata": {},
   "source": [
    "\n",
    "07.If the mean value is 100 and standard deviation is 15 for a normally distributed sample. \n",
    "Calculate the p-value from the given sample after performing the one sample z-test on the following data. \n",
    "Sample = [88, 92, 84, 64, 96, 97, 67, 97, 96, 99,115, 119, 119, 129, 130, 142, 102, 123, 134, 105] \n",
    " "
   ]
  },
  {
   "cell_type": "code",
   "execution_count": 34,
   "id": "a971dc1a",
   "metadata": {},
   "outputs": [],
   "source": [
    "Sample = [88, 92, 84, 64, 96, 97, 67, 97, 96, 99,115, 119, 119, 129, 130, 142, 102, 123, 134, 105] "
   ]
  },
  {
   "cell_type": "code",
   "execution_count": 35,
   "id": "b5f9c9d3",
   "metadata": {},
   "outputs": [],
   "source": [
    "n=20\n",
    "m=100\n",
    "s=15"
   ]
  },
  {
   "cell_type": "code",
   "execution_count": 36,
   "id": "f4870bbd",
   "metadata": {},
   "outputs": [
    {
     "data": {
      "text/plain": [
       "104.9"
      ]
     },
     "execution_count": 36,
     "metadata": {},
     "output_type": "execute_result"
    }
   ],
   "source": [
    "np.mean(Sample)"
   ]
  },
  {
   "cell_type": "code",
   "execution_count": 37,
   "id": "76d99949",
   "metadata": {},
   "outputs": [
    {
     "data": {
      "text/plain": [
       "4.47213595499958"
      ]
     },
     "execution_count": 37,
     "metadata": {},
     "output_type": "execute_result"
    }
   ],
   "source": [
    "np.sqrt(20)"
   ]
  },
  {
   "cell_type": "code",
   "execution_count": 38,
   "id": "524e448b",
   "metadata": {},
   "outputs": [
    {
     "data": {
      "text/plain": [
       "1.4608533333333351"
      ]
     },
     "execution_count": 38,
     "metadata": {},
     "output_type": "execute_result"
    }
   ],
   "source": [
    "(104.9-100)/(15/(4.472))"
   ]
  },
  {
   "cell_type": "raw",
   "id": "8e99fa6e",
   "metadata": {},
   "source": [
    "from using the ztable at 1.46  the probaoboites is 0.9297\n",
    "so after subtracting by \n",
    "1-0.9297=0.07"
   ]
  },
  {
   "cell_type": "raw",
   "id": "34b56ef4",
   "metadata": {},
   "source": [
    "\n",
    "08. To calculate the p-value in a chi squared test, what among the following is not  required? "
   ]
  },
  {
   "cell_type": "code",
   "execution_count": null,
   "id": "4f7b81f6",
   "metadata": {},
   "outputs": [],
   "source": [
    "#IQR not required for Chi square"
   ]
  },
  {
   "cell_type": "code",
   "execution_count": null,
   "id": "9812b1db",
   "metadata": {},
   "outputs": [],
   "source": []
  },
  {
   "cell_type": "raw",
   "id": "7c0f2621",
   "metadata": {},
   "source": [
    "09. If the chi squared value is low, it means that ___? "
   ]
  },
  {
   "cell_type": "code",
   "execution_count": null,
   "id": "0a673b68",
   "metadata": {},
   "outputs": [],
   "source": [
    "#  highly correlated if there is less chi square value"
   ]
  },
  {
   "cell_type": "code",
   "execution_count": null,
   "id": "d018100a",
   "metadata": {},
   "outputs": [],
   "source": []
  },
  {
   "cell_type": "raw",
   "id": "84640dc3",
   "metadata": {},
   "source": [
    "10. A card is drawn at random from a standard deck of cards. Recall that there are 13 hearts, \n",
    "13 diamonds, 13 spades and 13 clubs in a standard deck of cards. • Let H be the event that a \n",
    "heart is drawn, • Let R be the event that a red card is drawn and • Let F be the event that a face \n",
    "card is drawn, where the face cards are the kings, queens and jacks. \n",
    " \n",
    "a. If I draw a card at random from the deck of 52, what is P(H)? \n",
    "b. If I draw a card at random from the deck of 52, what is P(F)? \n",
    "c. If I draw a card at random, and without showing you the card, I tell you that the card is red, then what are the chances that it is a face card? \n"
   ]
  },
  {
   "cell_type": "code",
   "execution_count": 40,
   "id": "b7c07fa4",
   "metadata": {},
   "outputs": [
    {
     "data": {
      "text/plain": [
       "0.25"
      ]
     },
     "execution_count": 40,
     "metadata": {},
     "output_type": "execute_result"
    }
   ],
   "source": [
    "13/52        #1"
   ]
  },
  {
   "cell_type": "code",
   "execution_count": 41,
   "id": "2fc11d90",
   "metadata": {},
   "outputs": [
    {
     "data": {
      "text/plain": [
       "0.23076923076923078"
      ]
     },
     "execution_count": 41,
     "metadata": {},
     "output_type": "execute_result"
    }
   ],
   "source": [
    "12/52         #2"
   ]
  },
  {
   "cell_type": "code",
   "execution_count": 43,
   "id": "13ca5bcd",
   "metadata": {},
   "outputs": [
    {
     "data": {
      "text/plain": [
       "0.23076923076923078"
      ]
     },
     "execution_count": 43,
     "metadata": {},
     "output_type": "execute_result"
    }
   ],
   "source": [
    "6/26      #3"
   ]
  },
  {
   "cell_type": "raw",
   "id": "d21b0ebc",
   "metadata": {},
   "source": [
    " \n",
    "11. A box contains three coins: two regular coins and one fake two-headed coin \n",
    "(P(H)=1). \n",
    " \n",
    "a. You pick a coin at random and toss it. What is the probability that it lands \n",
    "heads up? \n",
    "b. You pick a coin at random and toss it, and get heads. What is the probability that it \n",
    "is the two-headed coin? \n",
    " "
   ]
  },
  {
   "cell_type": "code",
   "execution_count": null,
   "id": "f588124a",
   "metadata": {},
   "outputs": [],
   "source": []
  },
  {
   "cell_type": "code",
   "execution_count": null,
   "id": "83a8516d",
   "metadata": {},
   "outputs": [],
   "source": []
  },
  {
   "cell_type": "code",
   "execution_count": null,
   "id": "c17a5c47",
   "metadata": {},
   "outputs": [],
   "source": []
  },
  {
   "cell_type": "raw",
   "id": "476555f5",
   "metadata": {},
   "source": [
    "\n",
    "12. In my town, it’s rainy one third of the days. Given that it is rainy, there will be heavy traffic \n",
    "with probability 12, and given that it is not rainy, there will be heavy traffic with probability 14. If it’s \n",
    "rainy and there is heavy traffic, I arrive late for work with probability 12. On the other hand, the \n",
    "probability \n",
    "of being late is reduced to 18 if it is not rainy and there is no heavy traffic. In other situations \n",
    "(rainy and no traffic, not rainy and traffic) the probability of being late is 0.25. You pick a random \n",
    "day. \n",
    "a. What is the probability that it’s not raining and there is heavy traffic and I am not late? \n",
    "b. What is the probability that I am late? \n",
    "c. Given that I arrived late at work, what is the probability that it rained that day? \n",
    " "
   ]
  },
  {
   "cell_type": "code",
   "execution_count": null,
   "id": "68e6800d",
   "metadata": {},
   "outputs": [],
   "source": []
  },
  {
   "cell_type": "code",
   "execution_count": null,
   "id": "e2cf5392",
   "metadata": {},
   "outputs": [],
   "source": []
  },
  {
   "cell_type": "code",
   "execution_count": null,
   "id": "b1493e99",
   "metadata": {},
   "outputs": [],
   "source": []
  },
  {
   "cell_type": "raw",
   "id": "ec24243c",
   "metadata": {},
   "source": [
    "\n",
    "13.A nationalized bank has found that the daily balance available in its savings accounts follows \n",
    "a normal distribution with a mean of Rs. 500 and a standard deviation of Rs. 50. The percentage \n",
    "of savings account holders, who maintain an average daily balance of more than Rs. 500 is \n",
    "_______ ? "
   ]
  },
  {
   "cell_type": "code",
   "execution_count": null,
   "id": "55d97112",
   "metadata": {},
   "outputs": [],
   "source": []
  },
  {
   "cell_type": "code",
   "execution_count": null,
   "id": "0b51a7ca",
   "metadata": {},
   "outputs": [],
   "source": []
  },
  {
   "cell_type": "code",
   "execution_count": null,
   "id": "0e0b5f7c",
   "metadata": {},
   "outputs": [],
   "source": [
    "14. A day’s production of 850 manufactured parts contains 50 parts that do not meet customer \n",
    "requirements. Suppose two parts are selected from the batch, but the first part is replaced before \n",
    "the second part is selected. What is the probability that the second part is defective?\n",
    "(Denoted as B) given that the first part is defective (denoted as A)? \n"
   ]
  },
  {
   "cell_type": "code",
   "execution_count": null,
   "id": "27645b70",
   "metadata": {},
   "outputs": [],
   "source": []
  },
  {
   "cell_type": "code",
   "execution_count": null,
   "id": "d3b0bab3",
   "metadata": {},
   "outputs": [],
   "source": []
  },
  {
   "cell_type": "code",
   "execution_count": null,
   "id": "87918569",
   "metadata": {},
   "outputs": [],
   "source": []
  },
  {
   "cell_type": "code",
   "execution_count": null,
   "id": "68108708",
   "metadata": {},
   "outputs": [],
   "source": [
    " \n",
    "15.*Which of the following statements is/are correct with respect to the below shaded part in the image: \n",
    " \n",
    "image 3 \n",
    " \n",
    "Marked Answer : \n",
    "All data that is either one or more standard deviations above the mean value.* \n",
    " \n",
    " \n"
   ]
  },
  {
   "cell_type": "code",
   "execution_count": null,
   "id": "eacc9aed",
   "metadata": {},
   "outputs": [],
   "source": []
  },
  {
   "cell_type": "code",
   "execution_count": null,
   "id": "422f902c",
   "metadata": {},
   "outputs": [],
   "source": []
  },
  {
   "cell_type": "code",
   "execution_count": null,
   "id": "07e22b2c",
   "metadata": {},
   "outputs": [],
   "source": [
    "16. Which of the following options is/are area under the standard normal distribution curve? \n",
    " \n"
   ]
  },
  {
   "cell_type": "code",
   "execution_count": null,
   "id": "9ad606a0",
   "metadata": {},
   "outputs": [],
   "source": []
  },
  {
   "cell_type": "code",
   "execution_count": null,
   "id": "13710210",
   "metadata": {},
   "outputs": [],
   "source": []
  },
  {
   "cell_type": "code",
   "execution_count": null,
   "id": "eaddd702",
   "metadata": {},
   "outputs": [],
   "source": [
    "17. Which of the following statements is/are true with respect to the below image: \n",
    " \n"
   ]
  },
  {
   "cell_type": "code",
   "execution_count": null,
   "id": "0d865665",
   "metadata": {},
   "outputs": [],
   "source": []
  },
  {
   "cell_type": "code",
   "execution_count": null,
   "id": "f9d76844",
   "metadata": {},
   "outputs": [],
   "source": []
  },
  {
   "cell_type": "code",
   "execution_count": null,
   "id": "a961a0e7",
   "metadata": {},
   "outputs": [],
   "source": [
    "18. Which of the following statements is/are true with respect to the below image \n",
    " \n"
   ]
  },
  {
   "cell_type": "code",
   "execution_count": null,
   "id": "8740984e",
   "metadata": {},
   "outputs": [],
   "source": []
  },
  {
   "cell_type": "code",
   "execution_count": null,
   "id": "4afb5843",
   "metadata": {},
   "outputs": [],
   "source": []
  },
  {
   "cell_type": "code",
   "execution_count": null,
   "id": "7dc48c89",
   "metadata": {},
   "outputs": [],
   "source": [
    "19.Find t-statistic for the following samples given that the mean of the distribution is 8. Sample: [5 3 3 5 5 6 6 7 3 8] \n"
   ]
  },
  {
   "cell_type": "code",
   "execution_count": 64,
   "id": "63d98d5c",
   "metadata": {},
   "outputs": [],
   "source": [
    "Sample=[5, 3 ,3 ,5 ,5 ,6, 6, 7, 3, 8] \n"
   ]
  },
  {
   "cell_type": "code",
   "execution_count": 65,
   "id": "a4d8c9e9",
   "metadata": {},
   "outputs": [
    {
     "data": {
      "text/plain": [
       "5.1"
      ]
     },
     "execution_count": 65,
     "metadata": {},
     "output_type": "execute_result"
    }
   ],
   "source": [
    "np.mean(Sample)"
   ]
  },
  {
   "cell_type": "code",
   "execution_count": 66,
   "id": "2afe1354",
   "metadata": {},
   "outputs": [
    {
     "data": {
      "text/plain": [
       "1.6401219466856725"
      ]
     },
     "execution_count": 66,
     "metadata": {},
     "output_type": "execute_result"
    }
   ],
   "source": [
    "np.std(Sample)"
   ]
  },
  {
   "cell_type": "code",
   "execution_count": 67,
   "id": "00e4ad6f",
   "metadata": {},
   "outputs": [
    {
     "data": {
      "text/plain": [
       "-5.591416705570259"
      ]
     },
     "execution_count": 67,
     "metadata": {},
     "output_type": "execute_result"
    }
   ],
   "source": [
    "(5.1-8)/(1.64012194/np.sqrt(10))"
   ]
  },
  {
   "cell_type": "code",
   "execution_count": null,
   "id": "89743765",
   "metadata": {},
   "outputs": [],
   "source": [
    "20. There are two machines for spray coating at desired thickness. Their variability should be \n",
    "similar if they need to be used for the same applications. To test this, various samples were \n",
    "collected from both machines and the sample covariance of machine 1 and 2 are 1.84 and 6.36 \n",
    "respectively. Comment on whether these machines can be used for the same application if the \n",
    "machines were truly built to have the same variance. Perform the test at 95% significance given n1 \n",
    "= 24 n2 = 25 \n",
    " "
   ]
  },
  {
   "cell_type": "code",
   "execution_count": null,
   "id": "543ee8a3",
   "metadata": {},
   "outputs": [],
   "source": []
  },
  {
   "cell_type": "code",
   "execution_count": null,
   "id": "537ae367",
   "metadata": {},
   "outputs": [],
   "source": []
  },
  {
   "cell_type": "code",
   "execution_count": null,
   "id": "73e610ff",
   "metadata": {},
   "outputs": [],
   "source": [
    "\n",
    "21. In the contact process for the production of sulphuric acid, temperature of not more than \n",
    "450°C is desired. The reactor temperature was measured 24 times and it was found that the mean \n",
    "temperature was 450.3°C and the variance was 1.0. Find whether the reactor is operating at the \n",
    "desired condition? Perform the test at 95% significance. \n",
    " "
   ]
  },
  {
   "cell_type": "code",
   "execution_count": 54,
   "id": "bdc8aec3",
   "metadata": {},
   "outputs": [
    {
     "data": {
      "text/plain": [
       "1.4696938456699624"
      ]
     },
     "execution_count": 54,
     "metadata": {},
     "output_type": "execute_result"
    }
   ],
   "source": [
    "(450.3-450)*np.sqrt(24)"
   ]
  },
  {
   "cell_type": "code",
   "execution_count": null,
   "id": "34e9538f",
   "metadata": {},
   "outputs": [],
   "source": [
    "0.9297   Probaoility"
   ]
  },
  {
   "cell_type": "code",
   "execution_count": 55,
   "id": "e6dd43b7",
   "metadata": {},
   "outputs": [
    {
     "data": {
      "text/plain": [
       "0.07030000000000003"
      ]
     },
     "execution_count": 55,
     "metadata": {},
     "output_type": "execute_result"
    }
   ],
   "source": [
    "1-0.9297"
   ]
  },
  {
   "cell_type": "code",
   "execution_count": null,
   "id": "46f08fc9",
   "metadata": {},
   "outputs": [],
   "source": [
    "Pvalue>0.05     accept the null hyposthers"
   ]
  },
  {
   "cell_type": "code",
   "execution_count": null,
   "id": "f43c7dbd",
   "metadata": {},
   "outputs": [],
   "source": [
    "\n",
    "22.Two biased coins are tossed 126 times. 36 trials are both heads and 44 trials are both tails out \n",
    "of these 126 trials. Among the rest, 16 trials have head in the first coin while tail in the second coin \n",
    "and 30 trials with tail in the first coin and head in the second coin. Find the probability that the coin 2 \n",
    "gives a tail given that the first coin gave a head. \n",
    " "
   ]
  },
  {
   "cell_type": "code",
   "execution_count": 59,
   "id": "f729d86a",
   "metadata": {},
   "outputs": [
    {
     "data": {
      "text/plain": [
       "0.7971014492753623"
      ]
     },
     "execution_count": 59,
     "metadata": {},
     "output_type": "execute_result"
    }
   ],
   "source": [
    "30*44/(46*36)   # wrong"
   ]
  },
  {
   "cell_type": "code",
   "execution_count": 60,
   "id": "23ec503d",
   "metadata": {},
   "outputs": [
    {
     "data": {
      "text/plain": [
       "0.291005291005291"
      ]
     },
     "execution_count": 60,
     "metadata": {},
     "output_type": "execute_result"
    }
   ],
   "source": [
    "30*44/(126*36)"
   ]
  },
  {
   "cell_type": "raw",
   "id": "a0604501",
   "metadata": {},
   "source": [
    "\n",
    "23.A total of 69 percent of Indians eat Dosai,24 percent of Indians eat Dhokla, and 11 percent \n",
    "eat Dosai and Dhokla. Then, what percentage of Indians eat neither Dosai nor Dhokla? \n",
    " "
   ]
  },
  {
   "cell_type": "code",
   "execution_count": 56,
   "id": "6d5f81f2",
   "metadata": {},
   "outputs": [
    {
     "data": {
      "text/plain": [
       "0.7971014492753623"
      ]
     },
     "execution_count": 56,
     "metadata": {},
     "output_type": "execute_result"
    }
   ],
   "source": []
  },
  {
   "cell_type": "code",
   "execution_count": 58,
   "id": "3ccb4bd5",
   "metadata": {},
   "outputs": [
    {
     "data": {
      "text/plain": [
       "0.291005291005291"
      ]
     },
     "execution_count": 58,
     "metadata": {},
     "output_type": "execute_result"
    }
   ],
   "source": []
  },
  {
   "cell_type": "code",
   "execution_count": null,
   "id": "c2aa48c6",
   "metadata": {},
   "outputs": [],
   "source": []
  },
  {
   "cell_type": "code",
   "execution_count": null,
   "id": "fc6751a1",
   "metadata": {},
   "outputs": [],
   "source": [
    "\n",
    "24. Two balls are randomly drawn one after the other without replacement from a bowl containing 12 and \n",
    "8 black balls. If the first ball drawn is white, what is the probability that second ball drawn is black? \n",
    " "
   ]
  },
  {
   "cell_type": "code",
   "execution_count": 95,
   "id": "af5df34f",
   "metadata": {},
   "outputs": [
    {
     "data": {
      "text/plain": [
       "0.42105263157894735"
      ]
     },
     "execution_count": 95,
     "metadata": {},
     "output_type": "execute_result"
    }
   ],
   "source": [
    "8/19"
   ]
  },
  {
   "cell_type": "raw",
   "id": "7fd770c1",
   "metadata": {},
   "source": [
    "\n",
    "25. Two biased coins are tossed 144 times. 50 trials are both heads and 39 trials are both tails out of thes\n",
    "e 144 trials. Among the rest, 25 trials have head in the first coin while tail in the second coin and 30 trials \n",
    "with tail in the first coin and head in the second coin. Calculate the marginal probabilities for both the coin\n",
    "s. \n",
    " "
   ]
  },
  {
   "cell_type": "code",
   "execution_count": null,
   "id": "5a189635",
   "metadata": {},
   "outputs": [],
   "source": []
  },
  {
   "cell_type": "code",
   "execution_count": null,
   "id": "a721b43f",
   "metadata": {},
   "outputs": [],
   "source": []
  },
  {
   "cell_type": "code",
   "execution_count": null,
   "id": "3584f961",
   "metadata": {},
   "outputs": [],
   "source": [
    "\n",
    " \n",
    "26. The outcomes of an experiment are {e, f, g, h} with probabilities 0.39, 0.24, 0.77, and 0.88, respectivel\n",
    "y. Let E and F denote the events {e, f} and {f, h}, respectively. Compute (a) P(E∩F) and (b) P(E )"
   ]
  },
  {
   "cell_type": "code",
   "execution_count": null,
   "id": "8de9acf6",
   "metadata": {},
   "outputs": [],
   "source": []
  }
 ],
 "metadata": {
  "kernelspec": {
   "display_name": "Python 3 (ipykernel)",
   "language": "python",
   "name": "python3"
  },
  "language_info": {
   "codemirror_mode": {
    "name": "ipython",
    "version": 3
   },
   "file_extension": ".py",
   "mimetype": "text/x-python",
   "name": "python",
   "nbconvert_exporter": "python",
   "pygments_lexer": "ipython3",
   "version": "3.9.12"
  }
 },
 "nbformat": 4,
 "nbformat_minor": 5
}
