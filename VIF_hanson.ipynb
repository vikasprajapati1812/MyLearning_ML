{
 "cells": [
  {
   "cell_type": "code",
   "execution_count": 1,
   "id": "9c232459",
   "metadata": {},
   "outputs": [],
   "source": [
    "import pandas as pd\n",
    "import numpy as np\n",
    "import matplotlib.pyplot as plt"
   ]
  },
  {
   "cell_type": "code",
   "execution_count": 2,
   "id": "5462a136",
   "metadata": {},
   "outputs": [],
   "source": [
    "insurance=pd.read_csv(\"new_insurance_data.csv\")"
   ]
  },
  {
   "cell_type": "code",
   "execution_count": 3,
   "id": "fb4c4ac4",
   "metadata": {},
   "outputs": [
    {
     "data": {
      "text/html": [
       "<div>\n",
       "<style scoped>\n",
       "    .dataframe tbody tr th:only-of-type {\n",
       "        vertical-align: middle;\n",
       "    }\n",
       "\n",
       "    .dataframe tbody tr th {\n",
       "        vertical-align: top;\n",
       "    }\n",
       "\n",
       "    .dataframe thead th {\n",
       "        text-align: right;\n",
       "    }\n",
       "</style>\n",
       "<table border=\"1\" class=\"dataframe\">\n",
       "  <thead>\n",
       "    <tr style=\"text-align: right;\">\n",
       "      <th></th>\n",
       "      <th>age</th>\n",
       "      <th>sex</th>\n",
       "      <th>bmi</th>\n",
       "      <th>children</th>\n",
       "      <th>smoker</th>\n",
       "      <th>Claim_Amount</th>\n",
       "      <th>past_consultations</th>\n",
       "      <th>num_of_steps</th>\n",
       "      <th>Hospital_expenditure</th>\n",
       "      <th>NUmber_of_past_hospitalizations</th>\n",
       "      <th>Anual_Salary</th>\n",
       "      <th>region</th>\n",
       "      <th>charges</th>\n",
       "    </tr>\n",
       "  </thead>\n",
       "  <tbody>\n",
       "    <tr>\n",
       "      <th>0</th>\n",
       "      <td>18.0</td>\n",
       "      <td>male</td>\n",
       "      <td>23.210</td>\n",
       "      <td>0.0</td>\n",
       "      <td>no</td>\n",
       "      <td>29087.54313</td>\n",
       "      <td>17.0</td>\n",
       "      <td>715428.0</td>\n",
       "      <td>4.720921e+06</td>\n",
       "      <td>0.0</td>\n",
       "      <td>5.578497e+07</td>\n",
       "      <td>southeast</td>\n",
       "      <td>1121.87390</td>\n",
       "    </tr>\n",
       "    <tr>\n",
       "      <th>1</th>\n",
       "      <td>18.0</td>\n",
       "      <td>male</td>\n",
       "      <td>30.140</td>\n",
       "      <td>0.0</td>\n",
       "      <td>no</td>\n",
       "      <td>39053.67437</td>\n",
       "      <td>7.0</td>\n",
       "      <td>699157.0</td>\n",
       "      <td>4.329832e+06</td>\n",
       "      <td>0.0</td>\n",
       "      <td>1.370089e+07</td>\n",
       "      <td>southeast</td>\n",
       "      <td>1131.50660</td>\n",
       "    </tr>\n",
       "    <tr>\n",
       "      <th>2</th>\n",
       "      <td>18.0</td>\n",
       "      <td>male</td>\n",
       "      <td>33.330</td>\n",
       "      <td>0.0</td>\n",
       "      <td>no</td>\n",
       "      <td>39023.62759</td>\n",
       "      <td>19.0</td>\n",
       "      <td>702341.0</td>\n",
       "      <td>6.884861e+06</td>\n",
       "      <td>0.0</td>\n",
       "      <td>7.352311e+07</td>\n",
       "      <td>southeast</td>\n",
       "      <td>1135.94070</td>\n",
       "    </tr>\n",
       "    <tr>\n",
       "      <th>3</th>\n",
       "      <td>18.0</td>\n",
       "      <td>male</td>\n",
       "      <td>33.660</td>\n",
       "      <td>0.0</td>\n",
       "      <td>no</td>\n",
       "      <td>28185.39332</td>\n",
       "      <td>11.0</td>\n",
       "      <td>700250.0</td>\n",
       "      <td>4.274774e+06</td>\n",
       "      <td>0.0</td>\n",
       "      <td>7.581968e+07</td>\n",
       "      <td>southeast</td>\n",
       "      <td>1136.39940</td>\n",
       "    </tr>\n",
       "    <tr>\n",
       "      <th>4</th>\n",
       "      <td>18.0</td>\n",
       "      <td>male</td>\n",
       "      <td>34.100</td>\n",
       "      <td>0.0</td>\n",
       "      <td>no</td>\n",
       "      <td>14697.85941</td>\n",
       "      <td>16.0</td>\n",
       "      <td>711584.0</td>\n",
       "      <td>3.787294e+06</td>\n",
       "      <td>0.0</td>\n",
       "      <td>2.301232e+07</td>\n",
       "      <td>southeast</td>\n",
       "      <td>1137.01100</td>\n",
       "    </tr>\n",
       "    <tr>\n",
       "      <th>...</th>\n",
       "      <td>...</td>\n",
       "      <td>...</td>\n",
       "      <td>...</td>\n",
       "      <td>...</td>\n",
       "      <td>...</td>\n",
       "      <td>...</td>\n",
       "      <td>...</td>\n",
       "      <td>...</td>\n",
       "      <td>...</td>\n",
       "      <td>...</td>\n",
       "      <td>...</td>\n",
       "      <td>...</td>\n",
       "      <td>...</td>\n",
       "    </tr>\n",
       "    <tr>\n",
       "      <th>1333</th>\n",
       "      <td>33.0</td>\n",
       "      <td>female</td>\n",
       "      <td>35.530</td>\n",
       "      <td>0.0</td>\n",
       "      <td>yes</td>\n",
       "      <td>63142.25346</td>\n",
       "      <td>32.0</td>\n",
       "      <td>1091267.0</td>\n",
       "      <td>1.703805e+08</td>\n",
       "      <td>2.0</td>\n",
       "      <td>3.101107e+09</td>\n",
       "      <td>northwest</td>\n",
       "      <td>55135.40209</td>\n",
       "    </tr>\n",
       "    <tr>\n",
       "      <th>1334</th>\n",
       "      <td>31.0</td>\n",
       "      <td>female</td>\n",
       "      <td>38.095</td>\n",
       "      <td>1.0</td>\n",
       "      <td>yes</td>\n",
       "      <td>43419.95227</td>\n",
       "      <td>31.0</td>\n",
       "      <td>1107872.0</td>\n",
       "      <td>2.015152e+08</td>\n",
       "      <td>2.0</td>\n",
       "      <td>3.484216e+09</td>\n",
       "      <td>northeast</td>\n",
       "      <td>58571.07448</td>\n",
       "    </tr>\n",
       "    <tr>\n",
       "      <th>1335</th>\n",
       "      <td>52.0</td>\n",
       "      <td>male</td>\n",
       "      <td>34.485</td>\n",
       "      <td>3.0</td>\n",
       "      <td>yes</td>\n",
       "      <td>52458.92353</td>\n",
       "      <td>25.0</td>\n",
       "      <td>1092005.0</td>\n",
       "      <td>2.236450e+08</td>\n",
       "      <td>2.0</td>\n",
       "      <td>3.640807e+09</td>\n",
       "      <td>northwest</td>\n",
       "      <td>60021.39897</td>\n",
       "    </tr>\n",
       "    <tr>\n",
       "      <th>1336</th>\n",
       "      <td>45.0</td>\n",
       "      <td>male</td>\n",
       "      <td>30.360</td>\n",
       "      <td>0.0</td>\n",
       "      <td>yes</td>\n",
       "      <td>69927.51664</td>\n",
       "      <td>34.0</td>\n",
       "      <td>1106821.0</td>\n",
       "      <td>2.528924e+08</td>\n",
       "      <td>3.0</td>\n",
       "      <td>4.006359e+09</td>\n",
       "      <td>southeast</td>\n",
       "      <td>62592.87309</td>\n",
       "    </tr>\n",
       "    <tr>\n",
       "      <th>1337</th>\n",
       "      <td>54.0</td>\n",
       "      <td>female</td>\n",
       "      <td>47.410</td>\n",
       "      <td>0.0</td>\n",
       "      <td>yes</td>\n",
       "      <td>63982.80926</td>\n",
       "      <td>31.0</td>\n",
       "      <td>1100328.0</td>\n",
       "      <td>2.616317e+08</td>\n",
       "      <td>3.0</td>\n",
       "      <td>4.117197e+09</td>\n",
       "      <td>southeast</td>\n",
       "      <td>63770.42801</td>\n",
       "    </tr>\n",
       "  </tbody>\n",
       "</table>\n",
       "<p>1338 rows × 13 columns</p>\n",
       "</div>"
      ],
      "text/plain": [
       "       age     sex     bmi  children smoker  Claim_Amount  past_consultations  \\\n",
       "0     18.0    male  23.210       0.0     no   29087.54313                17.0   \n",
       "1     18.0    male  30.140       0.0     no   39053.67437                 7.0   \n",
       "2     18.0    male  33.330       0.0     no   39023.62759                19.0   \n",
       "3     18.0    male  33.660       0.0     no   28185.39332                11.0   \n",
       "4     18.0    male  34.100       0.0     no   14697.85941                16.0   \n",
       "...    ...     ...     ...       ...    ...           ...                 ...   \n",
       "1333  33.0  female  35.530       0.0    yes   63142.25346                32.0   \n",
       "1334  31.0  female  38.095       1.0    yes   43419.95227                31.0   \n",
       "1335  52.0    male  34.485       3.0    yes   52458.92353                25.0   \n",
       "1336  45.0    male  30.360       0.0    yes   69927.51664                34.0   \n",
       "1337  54.0  female  47.410       0.0    yes   63982.80926                31.0   \n",
       "\n",
       "      num_of_steps  Hospital_expenditure  NUmber_of_past_hospitalizations  \\\n",
       "0         715428.0          4.720921e+06                              0.0   \n",
       "1         699157.0          4.329832e+06                              0.0   \n",
       "2         702341.0          6.884861e+06                              0.0   \n",
       "3         700250.0          4.274774e+06                              0.0   \n",
       "4         711584.0          3.787294e+06                              0.0   \n",
       "...            ...                   ...                              ...   \n",
       "1333     1091267.0          1.703805e+08                              2.0   \n",
       "1334     1107872.0          2.015152e+08                              2.0   \n",
       "1335     1092005.0          2.236450e+08                              2.0   \n",
       "1336     1106821.0          2.528924e+08                              3.0   \n",
       "1337     1100328.0          2.616317e+08                              3.0   \n",
       "\n",
       "      Anual_Salary     region      charges  \n",
       "0     5.578497e+07  southeast   1121.87390  \n",
       "1     1.370089e+07  southeast   1131.50660  \n",
       "2     7.352311e+07  southeast   1135.94070  \n",
       "3     7.581968e+07  southeast   1136.39940  \n",
       "4     2.301232e+07  southeast   1137.01100  \n",
       "...            ...        ...          ...  \n",
       "1333  3.101107e+09  northwest  55135.40209  \n",
       "1334  3.484216e+09  northeast  58571.07448  \n",
       "1335  3.640807e+09  northwest  60021.39897  \n",
       "1336  4.006359e+09  southeast  62592.87309  \n",
       "1337  4.117197e+09  southeast  63770.42801  \n",
       "\n",
       "[1338 rows x 13 columns]"
      ]
     },
     "execution_count": 3,
     "metadata": {},
     "output_type": "execute_result"
    }
   ],
   "source": [
    "insurance"
   ]
  },
  {
   "cell_type": "code",
   "execution_count": 4,
   "id": "d5376494",
   "metadata": {},
   "outputs": [],
   "source": [
    "#EDA- Exploratory Data Analysis"
   ]
  },
  {
   "cell_type": "code",
   "execution_count": 5,
   "id": "3bf4837f",
   "metadata": {},
   "outputs": [
    {
     "data": {
      "text/plain": [
       "age                                 9\n",
       "sex                                 0\n",
       "bmi                                 3\n",
       "children                            5\n",
       "smoker                              0\n",
       "Claim_Amount                       14\n",
       "past_consultations                  6\n",
       "num_of_steps                        3\n",
       "Hospital_expenditure                4\n",
       "NUmber_of_past_hospitalizations     2\n",
       "Anual_Salary                        6\n",
       "region                              0\n",
       "charges                             0\n",
       "dtype: int64"
      ]
     },
     "execution_count": 5,
     "metadata": {},
     "output_type": "execute_result"
    }
   ],
   "source": [
    "insurance.isnull().sum()"
   ]
  },
  {
   "cell_type": "code",
   "execution_count": 6,
   "id": "f00f0d58",
   "metadata": {},
   "outputs": [
    {
     "name": "stdout",
     "output_type": "stream",
     "text": [
      "<class 'pandas.core.frame.DataFrame'>\n",
      "RangeIndex: 1338 entries, 0 to 1337\n",
      "Data columns (total 13 columns):\n",
      " #   Column                           Non-Null Count  Dtype  \n",
      "---  ------                           --------------  -----  \n",
      " 0   age                              1329 non-null   float64\n",
      " 1   sex                              1338 non-null   object \n",
      " 2   bmi                              1335 non-null   float64\n",
      " 3   children                         1333 non-null   float64\n",
      " 4   smoker                           1338 non-null   object \n",
      " 5   Claim_Amount                     1324 non-null   float64\n",
      " 6   past_consultations               1332 non-null   float64\n",
      " 7   num_of_steps                     1335 non-null   float64\n",
      " 8   Hospital_expenditure             1334 non-null   float64\n",
      " 9   NUmber_of_past_hospitalizations  1336 non-null   float64\n",
      " 10  Anual_Salary                     1332 non-null   float64\n",
      " 11  region                           1338 non-null   object \n",
      " 12  charges                          1338 non-null   float64\n",
      "dtypes: float64(10), object(3)\n",
      "memory usage: 136.0+ KB\n"
     ]
    }
   ],
   "source": [
    "insurance.info()"
   ]
  },
  {
   "cell_type": "code",
   "execution_count": 7,
   "id": "22d48345",
   "metadata": {},
   "outputs": [
    {
     "data": {
      "text/plain": [
       "'\\nInteger/Float ---Replace null values with mean/median\\nobject------- mode'"
      ]
     },
     "execution_count": 7,
     "metadata": {},
     "output_type": "execute_result"
    }
   ],
   "source": [
    "# Removal Of NaN values\n",
    "\"\"\"\n",
    "Integer/Float ---Replace null values with mean/median\n",
    "object------- mode\"\"\""
   ]
  },
  {
   "cell_type": "code",
   "execution_count": 8,
   "id": "60c0159b",
   "metadata": {},
   "outputs": [],
   "source": [
    "insurance[\"age\"]=insurance[\"age\"].fillna(insurance[\"age\"].mean())"
   ]
  },
  {
   "cell_type": "code",
   "execution_count": 9,
   "id": "db60de15",
   "metadata": {},
   "outputs": [
    {
     "data": {
      "text/plain": [
       "age                                 0\n",
       "sex                                 0\n",
       "bmi                                 3\n",
       "children                            5\n",
       "smoker                              0\n",
       "Claim_Amount                       14\n",
       "past_consultations                  6\n",
       "num_of_steps                        3\n",
       "Hospital_expenditure                4\n",
       "NUmber_of_past_hospitalizations     2\n",
       "Anual_Salary                        6\n",
       "region                              0\n",
       "charges                             0\n",
       "dtype: int64"
      ]
     },
     "execution_count": 9,
     "metadata": {},
     "output_type": "execute_result"
    }
   ],
   "source": [
    "insurance.isnull().sum()\n"
   ]
  },
  {
   "cell_type": "code",
   "execution_count": 10,
   "id": "186be785",
   "metadata": {},
   "outputs": [],
   "source": [
    "col_names=insurance.columns"
   ]
  },
  {
   "cell_type": "code",
   "execution_count": 11,
   "id": "7a533406",
   "metadata": {},
   "outputs": [
    {
     "data": {
      "text/plain": [
       "Index(['age', 'sex', 'bmi', 'children', 'smoker', 'Claim_Amount',\n",
       "       'past_consultations', 'num_of_steps', 'Hospital_expenditure',\n",
       "       'NUmber_of_past_hospitalizations', 'Anual_Salary', 'region', 'charges'],\n",
       "      dtype='object')"
      ]
     },
     "execution_count": 11,
     "metadata": {},
     "output_type": "execute_result"
    }
   ],
   "source": [
    "col_names"
   ]
  },
  {
   "cell_type": "code",
   "execution_count": 12,
   "id": "681e7c57",
   "metadata": {},
   "outputs": [],
   "source": [
    "for col in col_names:\n",
    "    if insurance[col].dtype==\"object\":\n",
    "        insurance[col]=insurance[col].fillna(insurance[col].mode())\n",
    "    else:\n",
    "        insurance[col]=insurance[col].fillna(insurance[col].mean())"
   ]
  },
  {
   "cell_type": "code",
   "execution_count": 13,
   "id": "e873a640",
   "metadata": {},
   "outputs": [
    {
     "data": {
      "text/plain": [
       "age                                0\n",
       "sex                                0\n",
       "bmi                                0\n",
       "children                           0\n",
       "smoker                             0\n",
       "Claim_Amount                       0\n",
       "past_consultations                 0\n",
       "num_of_steps                       0\n",
       "Hospital_expenditure               0\n",
       "NUmber_of_past_hospitalizations    0\n",
       "Anual_Salary                       0\n",
       "region                             0\n",
       "charges                            0\n",
       "dtype: int64"
      ]
     },
     "execution_count": 13,
     "metadata": {},
     "output_type": "execute_result"
    }
   ],
   "source": [
    "insurance.isnull().sum()"
   ]
  },
  {
   "cell_type": "code",
   "execution_count": 14,
   "id": "a8f1809d",
   "metadata": {},
   "outputs": [
    {
     "data": {
      "image/png": "[encoded data removed]",
      "text/plain": [
       "<Figure size 432x288 with 1 Axes>"
      ]
     },
     "metadata": {
      "needs_background": "light"
     },
     "output_type": "display_data"
    },
    {
     "data": {
      "image/png": "[encoded data removed]",
      "text/plain": [
       "<Figure size 432x288 with 1 Axes>"
      ]
     },
     "metadata": {
      "needs_background": "light"
     },
     "output_type": "display_data"
    },
    {
     "data": {
      "image/png": "[encoded data removed]",
      "text/plain": [
       "<Figure size 432x288 with 1 Axes>"
      ]
     },
     "metadata": {
      "needs_background": "light"
     },
     "output_type": "display_data"
    },
    {
     "data": {
      "image/png": "[encoded data removed]",
      "text/plain": [
       "<Figure size 432x288 with 1 Axes>"
      ]
     },
     "metadata": {
      "needs_background": "light"
     },
     "output_type": "display_data"
    },
    {
     "data": {
      "image/png": "[encoded data removed]",
      "text/plain": [
       "<Figure size 432x288 with 1 Axes>"
      ]
     },
     "metadata": {
      "needs_background": "light"
     },
     "output_type": "display_data"
    },
    {
     "data": {
      "image/png": "[encoded data removed]",
      "text/plain": [
       "<Figure size 432x288 with 1 Axes>"
      ]
     },
     "metadata": {
      "needs_background": "light"
     },
     "output_type": "display_data"
    },
    {
     "data": {
      "image/png": "[encoded data removed]",
      "text/plain": [
       "<Figure size 432x288 with 1 Axes>"
      ]
     },
     "metadata": {
      "needs_background": "light"
     },
     "output_type": "display_data"
    },
    {
     "data": {
      "image/png": "[encoded data removed]",
      "text/plain": [
       "<Figure size 432x288 with 1 Axes>"
      ]
     },
     "metadata": {
      "needs_background": "light"
     },
     "output_type": "display_data"
    },
    {
     "data": {
      "image/png": "[encoded data removed]",
      "text/plain": [
       "<Figure size 432x288 with 1 Axes>"
      ]
     },
     "metadata": {
      "needs_background": "light"
     },
     "output_type": "display_data"
    },
    {
     "data": {
      "image/png": "[encoded data removed]",
      "text/plain": [
       "<Figure size 432x288 with 1 Axes>"
      ]
     },
     "metadata": {
      "needs_background": "light"
     },
     "output_type": "display_data"
    }
   ],
   "source": [
    "#visualizing the data\n",
    "# finding the Outliers\n",
    "for col in col_names:\n",
    "    if insurance[col].dtype==\"float64\" or insurance[col].dtype==\"int64\":\n",
    "        plt.boxplot(insurance[col])\n",
    "        plt.xlabel(col)\n",
    "        plt.ylabel(\"count\")\n",
    "        plt.show()"
   ]
  },
  {
   "cell_type": "code",
   "execution_count": 15,
   "id": "7f8d5603",
   "metadata": {},
   "outputs": [],
   "source": [
    "Q1=insurance[\"bmi\"].quantile(0.25)\n",
    "Q3=insurance[\"bmi\"].quantile(0.75)\n",
    "IQR=Q3-Q1\n",
    "lower_limit=Q1-1.5*IQR\n",
    "upper_limit=Q3+1.5*IQR"
   ]
  },
  {
   "cell_type": "code",
   "execution_count": 16,
   "id": "78f2b88d",
   "metadata": {},
   "outputs": [
    {
     "data": {
      "text/plain": [
       "26.315"
      ]
     },
     "execution_count": 16,
     "metadata": {},
     "output_type": "execute_result"
    }
   ],
   "source": [
    "Q1"
   ]
  },
  {
   "cell_type": "code",
   "execution_count": 17,
   "id": "3b0bc7af",
   "metadata": {},
   "outputs": [
    {
     "data": {
      "text/plain": [
       "34.65625"
      ]
     },
     "execution_count": 17,
     "metadata": {},
     "output_type": "execute_result"
    }
   ],
   "source": [
    "Q3"
   ]
  },
  {
   "cell_type": "code",
   "execution_count": 18,
   "id": "faa57beb",
   "metadata": {},
   "outputs": [],
   "source": [
    "insurance=insurance[(insurance[\"bmi\"]>=lower_limit) & (insurance[\"bmi\"]<=upper_limit)]"
   ]
  },
  {
   "cell_type": "code",
   "execution_count": 19,
   "id": "58610723",
   "metadata": {},
   "outputs": [
    {
     "data": {
      "text/html": [
       "<div>\n",
       "<style scoped>\n",
       "    .dataframe tbody tr th:only-of-type {\n",
       "        vertical-align: middle;\n",
       "    }\n",
       "\n",
       "    .dataframe tbody tr th {\n",
       "        vertical-align: top;\n",
       "    }\n",
       "\n",
       "    .dataframe thead th {\n",
       "        text-align: right;\n",
       "    }\n",
       "</style>\n",
       "<table border=\"1\" class=\"dataframe\">\n",
       "  <thead>\n",
       "    <tr style=\"text-align: right;\">\n",
       "      <th></th>\n",
       "      <th>age</th>\n",
       "      <th>sex</th>\n",
       "      <th>bmi</th>\n",
       "      <th>children</th>\n",
       "      <th>smoker</th>\n",
       "      <th>Claim_Amount</th>\n",
       "      <th>past_consultations</th>\n",
       "      <th>num_of_steps</th>\n",
       "      <th>Hospital_expenditure</th>\n",
       "      <th>NUmber_of_past_hospitalizations</th>\n",
       "      <th>Anual_Salary</th>\n",
       "      <th>region</th>\n",
       "      <th>charges</th>\n",
       "    </tr>\n",
       "  </thead>\n",
       "  <tbody>\n",
       "    <tr>\n",
       "      <th>0</th>\n",
       "      <td>18.0</td>\n",
       "      <td>male</td>\n",
       "      <td>23.210</td>\n",
       "      <td>0.0</td>\n",
       "      <td>no</td>\n",
       "      <td>29087.54313</td>\n",
       "      <td>17.0</td>\n",
       "      <td>715428.0</td>\n",
       "      <td>4.720921e+06</td>\n",
       "      <td>0.0</td>\n",
       "      <td>5.578497e+07</td>\n",
       "      <td>southeast</td>\n",
       "      <td>1121.87390</td>\n",
       "    </tr>\n",
       "    <tr>\n",
       "      <th>1</th>\n",
       "      <td>18.0</td>\n",
       "      <td>male</td>\n",
       "      <td>30.140</td>\n",
       "      <td>0.0</td>\n",
       "      <td>no</td>\n",
       "      <td>39053.67437</td>\n",
       "      <td>7.0</td>\n",
       "      <td>699157.0</td>\n",
       "      <td>4.329832e+06</td>\n",
       "      <td>0.0</td>\n",
       "      <td>1.370089e+07</td>\n",
       "      <td>southeast</td>\n",
       "      <td>1131.50660</td>\n",
       "    </tr>\n",
       "    <tr>\n",
       "      <th>2</th>\n",
       "      <td>18.0</td>\n",
       "      <td>male</td>\n",
       "      <td>33.330</td>\n",
       "      <td>0.0</td>\n",
       "      <td>no</td>\n",
       "      <td>39023.62759</td>\n",
       "      <td>19.0</td>\n",
       "      <td>702341.0</td>\n",
       "      <td>6.884861e+06</td>\n",
       "      <td>0.0</td>\n",
       "      <td>7.352311e+07</td>\n",
       "      <td>southeast</td>\n",
       "      <td>1135.94070</td>\n",
       "    </tr>\n",
       "    <tr>\n",
       "      <th>3</th>\n",
       "      <td>18.0</td>\n",
       "      <td>male</td>\n",
       "      <td>33.660</td>\n",
       "      <td>0.0</td>\n",
       "      <td>no</td>\n",
       "      <td>28185.39332</td>\n",
       "      <td>11.0</td>\n",
       "      <td>700250.0</td>\n",
       "      <td>4.274774e+06</td>\n",
       "      <td>0.0</td>\n",
       "      <td>7.581968e+07</td>\n",
       "      <td>southeast</td>\n",
       "      <td>1136.39940</td>\n",
       "    </tr>\n",
       "    <tr>\n",
       "      <th>4</th>\n",
       "      <td>18.0</td>\n",
       "      <td>male</td>\n",
       "      <td>34.100</td>\n",
       "      <td>0.0</td>\n",
       "      <td>no</td>\n",
       "      <td>14697.85941</td>\n",
       "      <td>16.0</td>\n",
       "      <td>711584.0</td>\n",
       "      <td>3.787294e+06</td>\n",
       "      <td>0.0</td>\n",
       "      <td>2.301232e+07</td>\n",
       "      <td>southeast</td>\n",
       "      <td>1137.01100</td>\n",
       "    </tr>\n",
       "    <tr>\n",
       "      <th>...</th>\n",
       "      <td>...</td>\n",
       "      <td>...</td>\n",
       "      <td>...</td>\n",
       "      <td>...</td>\n",
       "      <td>...</td>\n",
       "      <td>...</td>\n",
       "      <td>...</td>\n",
       "      <td>...</td>\n",
       "      <td>...</td>\n",
       "      <td>...</td>\n",
       "      <td>...</td>\n",
       "      <td>...</td>\n",
       "      <td>...</td>\n",
       "    </tr>\n",
       "    <tr>\n",
       "      <th>1332</th>\n",
       "      <td>60.0</td>\n",
       "      <td>male</td>\n",
       "      <td>32.800</td>\n",
       "      <td>0.0</td>\n",
       "      <td>yes</td>\n",
       "      <td>77277.98848</td>\n",
       "      <td>40.0</td>\n",
       "      <td>1095960.0</td>\n",
       "      <td>1.480346e+08</td>\n",
       "      <td>2.0</td>\n",
       "      <td>2.780642e+09</td>\n",
       "      <td>southwest</td>\n",
       "      <td>52590.82939</td>\n",
       "    </tr>\n",
       "    <tr>\n",
       "      <th>1333</th>\n",
       "      <td>33.0</td>\n",
       "      <td>female</td>\n",
       "      <td>35.530</td>\n",
       "      <td>0.0</td>\n",
       "      <td>yes</td>\n",
       "      <td>63142.25346</td>\n",
       "      <td>32.0</td>\n",
       "      <td>1091267.0</td>\n",
       "      <td>1.703805e+08</td>\n",
       "      <td>2.0</td>\n",
       "      <td>3.101107e+09</td>\n",
       "      <td>northwest</td>\n",
       "      <td>55135.40209</td>\n",
       "    </tr>\n",
       "    <tr>\n",
       "      <th>1334</th>\n",
       "      <td>31.0</td>\n",
       "      <td>female</td>\n",
       "      <td>38.095</td>\n",
       "      <td>1.0</td>\n",
       "      <td>yes</td>\n",
       "      <td>43419.95227</td>\n",
       "      <td>31.0</td>\n",
       "      <td>1107872.0</td>\n",
       "      <td>2.015152e+08</td>\n",
       "      <td>2.0</td>\n",
       "      <td>3.484216e+09</td>\n",
       "      <td>northeast</td>\n",
       "      <td>58571.07448</td>\n",
       "    </tr>\n",
       "    <tr>\n",
       "      <th>1335</th>\n",
       "      <td>52.0</td>\n",
       "      <td>male</td>\n",
       "      <td>34.485</td>\n",
       "      <td>3.0</td>\n",
       "      <td>yes</td>\n",
       "      <td>52458.92353</td>\n",
       "      <td>25.0</td>\n",
       "      <td>1092005.0</td>\n",
       "      <td>2.236450e+08</td>\n",
       "      <td>2.0</td>\n",
       "      <td>3.640807e+09</td>\n",
       "      <td>northwest</td>\n",
       "      <td>60021.39897</td>\n",
       "    </tr>\n",
       "    <tr>\n",
       "      <th>1336</th>\n",
       "      <td>45.0</td>\n",
       "      <td>male</td>\n",
       "      <td>30.360</td>\n",
       "      <td>0.0</td>\n",
       "      <td>yes</td>\n",
       "      <td>69927.51664</td>\n",
       "      <td>34.0</td>\n",
       "      <td>1106821.0</td>\n",
       "      <td>2.528924e+08</td>\n",
       "      <td>3.0</td>\n",
       "      <td>4.006359e+09</td>\n",
       "      <td>southeast</td>\n",
       "      <td>62592.87309</td>\n",
       "    </tr>\n",
       "  </tbody>\n",
       "</table>\n",
       "<p>1329 rows × 13 columns</p>\n",
       "</div>"
      ],
      "text/plain": [
       "       age     sex     bmi  children smoker  Claim_Amount  past_consultations  \\\n",
       "0     18.0    male  23.210       0.0     no   29087.54313                17.0   \n",
       "1     18.0    male  30.140       0.0     no   39053.67437                 7.0   \n",
       "2     18.0    male  33.330       0.0     no   39023.62759                19.0   \n",
       "3     18.0    male  33.660       0.0     no   28185.39332                11.0   \n",
       "4     18.0    male  34.100       0.0     no   14697.85941                16.0   \n",
       "...    ...     ...     ...       ...    ...           ...                 ...   \n",
       "1332  60.0    male  32.800       0.0    yes   77277.98848                40.0   \n",
       "1333  33.0  female  35.530       0.0    yes   63142.25346                32.0   \n",
       "1334  31.0  female  38.095       1.0    yes   43419.95227                31.0   \n",
       "1335  52.0    male  34.485       3.0    yes   52458.92353                25.0   \n",
       "1336  45.0    male  30.360       0.0    yes   69927.51664                34.0   \n",
       "\n",
       "      num_of_steps  Hospital_expenditure  NUmber_of_past_hospitalizations  \\\n",
       "0         715428.0          4.720921e+06                              0.0   \n",
       "1         699157.0          4.329832e+06                              0.0   \n",
       "2         702341.0          6.884861e+06                              0.0   \n",
       "3         700250.0          4.274774e+06                              0.0   \n",
       "4         711584.0          3.787294e+06                              0.0   \n",
       "...            ...                   ...                              ...   \n",
       "1332     1095960.0          1.480346e+08                              2.0   \n",
       "1333     1091267.0          1.703805e+08                              2.0   \n",
       "1334     1107872.0          2.015152e+08                              2.0   \n",
       "1335     1092005.0          2.236450e+08                              2.0   \n",
       "1336     1106821.0          2.528924e+08                              3.0   \n",
       "\n",
       "      Anual_Salary     region      charges  \n",
       "0     5.578497e+07  southeast   1121.87390  \n",
       "1     1.370089e+07  southeast   1131.50660  \n",
       "2     7.352311e+07  southeast   1135.94070  \n",
       "3     7.581968e+07  southeast   1136.39940  \n",
       "4     2.301232e+07  southeast   1137.01100  \n",
       "...            ...        ...          ...  \n",
       "1332  2.780642e+09  southwest  52590.82939  \n",
       "1333  3.101107e+09  northwest  55135.40209  \n",
       "1334  3.484216e+09  northeast  58571.07448  \n",
       "1335  3.640807e+09  northwest  60021.39897  \n",
       "1336  4.006359e+09  southeast  62592.87309  \n",
       "\n",
       "[1329 rows x 13 columns]"
      ]
     },
     "execution_count": 19,
     "metadata": {},
     "output_type": "execute_result"
    }
   ],
   "source": [
    "insurance"
   ]
  },
  {
   "cell_type": "code",
   "execution_count": 20,
   "id": "99ed799d",
   "metadata": {},
   "outputs": [
    {
     "data": {
      "image/png": "[encoded data removed]",
      "text/plain": [
       "<Figure size 432x288 with 1 Axes>"
      ]
     },
     "metadata": {
      "needs_background": "light"
     },
     "output_type": "display_data"
    }
   ],
   "source": [
    "plt.boxplot(insurance[\"bmi\"])\n",
    "plt.xlabel(\"bmi\")\n",
    "plt.ylabel(\"count\")\n",
    "plt.show()"
   ]
  },
  {
   "cell_type": "code",
   "execution_count": 21,
   "id": "c29cde5a",
   "metadata": {},
   "outputs": [],
   "source": [
    "Q1 = insurance.past_consultations.quantile(0.25)\n",
    "Q3 = insurance.past_consultations.quantile(0.75)\n",
    "IQR = Q3 - Q1\n",
    "insurance = insurance[(insurance.past_consultations >= Q1 - 1.5*IQR) & (insurance.past_consultations <= Q3 + 1.5*IQR)]\n",
    "\n",
    "Q1 = insurance.Hospital_expenditure.quantile(0.25)\n",
    "Q3 = insurance.Hospital_expenditure.quantile(0.75)\n",
    "IQR = Q3 - Q1\n",
    "insurance = insurance[(insurance.Hospital_expenditure >= Q1 - 1.5*IQR) & (insurance.Hospital_expenditure <= Q3 + 1.5*IQR)]\n",
    "\n",
    "Q1 = insurance.Anual_Salary.quantile(0.25)\n",
    "Q3 = insurance.Anual_Salary.quantile(0.75)\n",
    "IQR = Q3 - Q1\n",
    "insurance = insurance[(insurance.Anual_Salary >= Q1 - 1.5*IQR) & (insurance.Anual_Salary <= Q3 + 1.5*IQR)]\n"
   ]
  },
  {
   "cell_type": "code",
   "execution_count": 22,
   "id": "82beb196",
   "metadata": {},
   "outputs": [
    {
     "data": {
      "text/html": [
       "<div>\n",
       "<style scoped>\n",
       "    .dataframe tbody tr th:only-of-type {\n",
       "        vertical-align: middle;\n",
       "    }\n",
       "\n",
       "    .dataframe tbody tr th {\n",
       "        vertical-align: top;\n",
       "    }\n",
       "\n",
       "    .dataframe thead th {\n",
       "        text-align: right;\n",
       "    }\n",
       "</style>\n",
       "<table border=\"1\" class=\"dataframe\">\n",
       "  <thead>\n",
       "    <tr style=\"text-align: right;\">\n",
       "      <th></th>\n",
       "      <th>age</th>\n",
       "      <th>sex</th>\n",
       "      <th>bmi</th>\n",
       "      <th>children</th>\n",
       "      <th>smoker</th>\n",
       "      <th>Claim_Amount</th>\n",
       "      <th>past_consultations</th>\n",
       "      <th>num_of_steps</th>\n",
       "      <th>Hospital_expenditure</th>\n",
       "      <th>NUmber_of_past_hospitalizations</th>\n",
       "      <th>Anual_Salary</th>\n",
       "      <th>region</th>\n",
       "      <th>charges</th>\n",
       "    </tr>\n",
       "  </thead>\n",
       "  <tbody>\n",
       "    <tr>\n",
       "      <th>0</th>\n",
       "      <td>18.0</td>\n",
       "      <td>male</td>\n",
       "      <td>23.210</td>\n",
       "      <td>0.0</td>\n",
       "      <td>no</td>\n",
       "      <td>29087.54313</td>\n",
       "      <td>17.0</td>\n",
       "      <td>715428.0</td>\n",
       "      <td>4.720921e+06</td>\n",
       "      <td>0.0</td>\n",
       "      <td>5.578497e+07</td>\n",
       "      <td>southeast</td>\n",
       "      <td>1121.87390</td>\n",
       "    </tr>\n",
       "    <tr>\n",
       "      <th>1</th>\n",
       "      <td>18.0</td>\n",
       "      <td>male</td>\n",
       "      <td>30.140</td>\n",
       "      <td>0.0</td>\n",
       "      <td>no</td>\n",
       "      <td>39053.67437</td>\n",
       "      <td>7.0</td>\n",
       "      <td>699157.0</td>\n",
       "      <td>4.329832e+06</td>\n",
       "      <td>0.0</td>\n",
       "      <td>1.370089e+07</td>\n",
       "      <td>southeast</td>\n",
       "      <td>1131.50660</td>\n",
       "    </tr>\n",
       "    <tr>\n",
       "      <th>2</th>\n",
       "      <td>18.0</td>\n",
       "      <td>male</td>\n",
       "      <td>33.330</td>\n",
       "      <td>0.0</td>\n",
       "      <td>no</td>\n",
       "      <td>39023.62759</td>\n",
       "      <td>19.0</td>\n",
       "      <td>702341.0</td>\n",
       "      <td>6.884861e+06</td>\n",
       "      <td>0.0</td>\n",
       "      <td>7.352311e+07</td>\n",
       "      <td>southeast</td>\n",
       "      <td>1135.94070</td>\n",
       "    </tr>\n",
       "    <tr>\n",
       "      <th>3</th>\n",
       "      <td>18.0</td>\n",
       "      <td>male</td>\n",
       "      <td>33.660</td>\n",
       "      <td>0.0</td>\n",
       "      <td>no</td>\n",
       "      <td>28185.39332</td>\n",
       "      <td>11.0</td>\n",
       "      <td>700250.0</td>\n",
       "      <td>4.274774e+06</td>\n",
       "      <td>0.0</td>\n",
       "      <td>7.581968e+07</td>\n",
       "      <td>southeast</td>\n",
       "      <td>1136.39940</td>\n",
       "    </tr>\n",
       "    <tr>\n",
       "      <th>4</th>\n",
       "      <td>18.0</td>\n",
       "      <td>male</td>\n",
       "      <td>34.100</td>\n",
       "      <td>0.0</td>\n",
       "      <td>no</td>\n",
       "      <td>14697.85941</td>\n",
       "      <td>16.0</td>\n",
       "      <td>711584.0</td>\n",
       "      <td>3.787294e+06</td>\n",
       "      <td>0.0</td>\n",
       "      <td>2.301232e+07</td>\n",
       "      <td>southeast</td>\n",
       "      <td>1137.01100</td>\n",
       "    </tr>\n",
       "    <tr>\n",
       "      <th>...</th>\n",
       "      <td>...</td>\n",
       "      <td>...</td>\n",
       "      <td>...</td>\n",
       "      <td>...</td>\n",
       "      <td>...</td>\n",
       "      <td>...</td>\n",
       "      <td>...</td>\n",
       "      <td>...</td>\n",
       "      <td>...</td>\n",
       "      <td>...</td>\n",
       "      <td>...</td>\n",
       "      <td>...</td>\n",
       "      <td>...</td>\n",
       "    </tr>\n",
       "    <tr>\n",
       "      <th>1046</th>\n",
       "      <td>29.0</td>\n",
       "      <td>female</td>\n",
       "      <td>27.940</td>\n",
       "      <td>1.0</td>\n",
       "      <td>yes</td>\n",
       "      <td>51168.25474</td>\n",
       "      <td>23.0</td>\n",
       "      <td>993751.0</td>\n",
       "      <td>1.665982e+07</td>\n",
       "      <td>1.0</td>\n",
       "      <td>3.712188e+08</td>\n",
       "      <td>southeast</td>\n",
       "      <td>19107.77960</td>\n",
       "    </tr>\n",
       "    <tr>\n",
       "      <th>1048</th>\n",
       "      <td>31.0</td>\n",
       "      <td>male</td>\n",
       "      <td>25.900</td>\n",
       "      <td>3.0</td>\n",
       "      <td>yes</td>\n",
       "      <td>46619.40230</td>\n",
       "      <td>27.0</td>\n",
       "      <td>989387.0</td>\n",
       "      <td>1.361938e+07</td>\n",
       "      <td>1.0</td>\n",
       "      <td>3.812895e+08</td>\n",
       "      <td>southwest</td>\n",
       "      <td>19199.94400</td>\n",
       "    </tr>\n",
       "    <tr>\n",
       "      <th>1050</th>\n",
       "      <td>31.0</td>\n",
       "      <td>male</td>\n",
       "      <td>29.810</td>\n",
       "      <td>0.0</td>\n",
       "      <td>yes</td>\n",
       "      <td>24382.58056</td>\n",
       "      <td>21.0</td>\n",
       "      <td>973924.0</td>\n",
       "      <td>1.028991e+07</td>\n",
       "      <td>1.0</td>\n",
       "      <td>3.745310e+08</td>\n",
       "      <td>southeast</td>\n",
       "      <td>19350.36890</td>\n",
       "    </tr>\n",
       "    <tr>\n",
       "      <th>1062</th>\n",
       "      <td>43.0</td>\n",
       "      <td>female</td>\n",
       "      <td>20.045</td>\n",
       "      <td>2.0</td>\n",
       "      <td>yes</td>\n",
       "      <td>21596.43846</td>\n",
       "      <td>10.0</td>\n",
       "      <td>994419.0</td>\n",
       "      <td>1.083030e+07</td>\n",
       "      <td>1.0</td>\n",
       "      <td>3.696849e+08</td>\n",
       "      <td>northeast</td>\n",
       "      <td>19798.05455</td>\n",
       "    </tr>\n",
       "    <tr>\n",
       "      <th>1069</th>\n",
       "      <td>35.0</td>\n",
       "      <td>female</td>\n",
       "      <td>28.025</td>\n",
       "      <td>0.0</td>\n",
       "      <td>yes</td>\n",
       "      <td>17200.14586</td>\n",
       "      <td>15.0</td>\n",
       "      <td>993979.0</td>\n",
       "      <td>1.247744e+07</td>\n",
       "      <td>1.0</td>\n",
       "      <td>3.696849e+08</td>\n",
       "      <td>northwest</td>\n",
       "      <td>20234.85475</td>\n",
       "    </tr>\n",
       "  </tbody>\n",
       "</table>\n",
       "<p>1030 rows × 13 columns</p>\n",
       "</div>"
      ],
      "text/plain": [
       "       age     sex     bmi  children smoker  Claim_Amount  past_consultations  \\\n",
       "0     18.0    male  23.210       0.0     no   29087.54313                17.0   \n",
       "1     18.0    male  30.140       0.0     no   39053.67437                 7.0   \n",
       "2     18.0    male  33.330       0.0     no   39023.62759                19.0   \n",
       "3     18.0    male  33.660       0.0     no   28185.39332                11.0   \n",
       "4     18.0    male  34.100       0.0     no   14697.85941                16.0   \n",
       "...    ...     ...     ...       ...    ...           ...                 ...   \n",
       "1046  29.0  female  27.940       1.0    yes   51168.25474                23.0   \n",
       "1048  31.0    male  25.900       3.0    yes   46619.40230                27.0   \n",
       "1050  31.0    male  29.810       0.0    yes   24382.58056                21.0   \n",
       "1062  43.0  female  20.045       2.0    yes   21596.43846                10.0   \n",
       "1069  35.0  female  28.025       0.0    yes   17200.14586                15.0   \n",
       "\n",
       "      num_of_steps  Hospital_expenditure  NUmber_of_past_hospitalizations  \\\n",
       "0         715428.0          4.720921e+06                              0.0   \n",
       "1         699157.0          4.329832e+06                              0.0   \n",
       "2         702341.0          6.884861e+06                              0.0   \n",
       "3         700250.0          4.274774e+06                              0.0   \n",
       "4         711584.0          3.787294e+06                              0.0   \n",
       "...            ...                   ...                              ...   \n",
       "1046      993751.0          1.665982e+07                              1.0   \n",
       "1048      989387.0          1.361938e+07                              1.0   \n",
       "1050      973924.0          1.028991e+07                              1.0   \n",
       "1062      994419.0          1.083030e+07                              1.0   \n",
       "1069      993979.0          1.247744e+07                              1.0   \n",
       "\n",
       "      Anual_Salary     region      charges  \n",
       "0     5.578497e+07  southeast   1121.87390  \n",
       "1     1.370089e+07  southeast   1131.50660  \n",
       "2     7.352311e+07  southeast   1135.94070  \n",
       "3     7.581968e+07  southeast   1136.39940  \n",
       "4     2.301232e+07  southeast   1137.01100  \n",
       "...            ...        ...          ...  \n",
       "1046  3.712188e+08  southeast  19107.77960  \n",
       "1048  3.812895e+08  southwest  19199.94400  \n",
       "1050  3.745310e+08  southeast  19350.36890  \n",
       "1062  3.696849e+08  northeast  19798.05455  \n",
       "1069  3.696849e+08  northwest  20234.85475  \n",
       "\n",
       "[1030 rows x 13 columns]"
      ]
     },
     "execution_count": 22,
     "metadata": {},
     "output_type": "execute_result"
    }
   ],
   "source": [
    "insurance"
   ]
  },
  {
   "cell_type": "code",
   "execution_count": 23,
   "id": "f674594d",
   "metadata": {},
   "outputs": [
    {
     "data": {
      "image/png": "[encoded data removed]",
      "text/plain": [
       "<Figure size 432x288 with 1 Axes>"
      ]
     },
     "metadata": {
      "needs_background": "light"
     },
     "output_type": "display_data"
    },
    {
     "data": {
      "image/png": "[encoded data removed]",
      "text/plain": [
       "<Figure size 432x288 with 1 Axes>"
      ]
     },
     "metadata": {
      "needs_background": "light"
     },
     "output_type": "display_data"
    },
    {
     "data": {
      "image/png": "[encoded data removed]",
      "text/plain": [
       "<Figure size 432x288 with 1 Axes>"
      ]
     },
     "metadata": {
      "needs_background": "light"
     },
     "output_type": "display_data"
    },
    {
     "data": {
      "image/png": "[encoded data removed]",
      "text/plain": [
       "<Figure size 432x288 with 1 Axes>"
      ]
     },
     "metadata": {
      "needs_background": "light"
     },
     "output_type": "display_data"
    },
    {
     "data": {
      "image/png": "[encoded data removed]",
      "text/plain": [
       "<Figure size 432x288 with 1 Axes>"
      ]
     },
     "metadata": {
      "needs_background": "light"
     },
     "output_type": "display_data"
    },
    {
     "data": {
      "image/png": "[encoded data removed]",
      "text/plain": [
       "<Figure size 432x288 with 1 Axes>"
      ]
     },
     "metadata": {
      "needs_background": "light"
     },
     "output_type": "display_data"
    },
    {
     "data": {
      "image/png": "[encoded data removed]",
      "text/plain": [
       "<Figure size 432x288 with 1 Axes>"
      ]
     },
     "metadata": {
      "needs_background": "light"
     },
     "output_type": "display_data"
    },
    {
     "data": {
      "image/png": "[encoded data removed]",
      "text/plain": [
       "<Figure size 432x288 with 1 Axes>"
      ]
     },
     "metadata": {
      "needs_background": "light"
     },
     "output_type": "display_data"
    },
    {
     "data": {
      "image/png": "[encoded data removed]",
      "text/plain": [
       "<Figure size 432x288 with 1 Axes>"
      ]
     },
     "metadata": {
      "needs_background": "light"
     },
     "output_type": "display_data"
    },
    {
     "data": {
      "image/png": "[encoded data removed]",
      "text/plain": [
       "<Figure size 432x288 with 1 Axes>"
      ]
     },
     "metadata": {
      "needs_background": "light"
     },
     "output_type": "display_data"
    }
   ],
   "source": [
    "for col in col_names:\n",
    "    if insurance[col].dtype==\"float64\" or insurance[col].dtype==\"int64\":\n",
    "        plt.boxplot(insurance[col])\n",
    "        plt.xlabel(col)\n",
    "        plt.ylabel(\"count\")\n",
    "        plt.show()"
   ]
  },
  {
   "cell_type": "code",
   "execution_count": 24,
   "id": "85f8e8e1",
   "metadata": {},
   "outputs": [
    {
     "ename": "SyntaxError",
     "evalue": "invalid syntax (2852022219.py, line 2)",
     "output_type": "error",
     "traceback": [
      "\u001b[1;36m  Input \u001b[1;32mIn [24]\u001b[1;36m\u001b[0m\n\u001b[1;33m    Corelation Factor\u001b[0m\n\u001b[1;37m               ^\u001b[0m\n\u001b[1;31mSyntaxError\u001b[0m\u001b[1;31m:\u001b[0m invalid syntax\n"
     ]
    }
   ],
   "source": [
    "# Feature Selection ond scaling \n",
    "Corelation Factor\n",
    "VIF-variance inflation factor"
   ]
  },
  {
   "cell_type": "code",
   "execution_count": 25,
   "id": "3473b26e",
   "metadata": {},
   "outputs": [
    {
     "data": {
      "text/html": [
       "<div>\n",
       "<style scoped>\n",
       "    .dataframe tbody tr th:only-of-type {\n",
       "        vertical-align: middle;\n",
       "    }\n",
       "\n",
       "    .dataframe tbody tr th {\n",
       "        vertical-align: top;\n",
       "    }\n",
       "\n",
       "    .dataframe thead th {\n",
       "        text-align: right;\n",
       "    }\n",
       "</style>\n",
       "<table border=\"1\" class=\"dataframe\">\n",
       "  <thead>\n",
       "    <tr style=\"text-align: right;\">\n",
       "      <th></th>\n",
       "      <th>age</th>\n",
       "      <th>bmi</th>\n",
       "      <th>children</th>\n",
       "      <th>Claim_Amount</th>\n",
       "      <th>past_consultations</th>\n",
       "      <th>num_of_steps</th>\n",
       "      <th>Hospital_expenditure</th>\n",
       "      <th>NUmber_of_past_hospitalizations</th>\n",
       "      <th>Anual_Salary</th>\n",
       "      <th>charges</th>\n",
       "    </tr>\n",
       "  </thead>\n",
       "  <tbody>\n",
       "    <tr>\n",
       "      <th>age</th>\n",
       "      <td>1.000000</td>\n",
       "      <td>0.155957</td>\n",
       "      <td>0.045371</td>\n",
       "      <td>0.117750</td>\n",
       "      <td>0.172063</td>\n",
       "      <td>0.749468</td>\n",
       "      <td>0.160555</td>\n",
       "      <td>0.519538</td>\n",
       "      <td>0.490802</td>\n",
       "      <td>0.676071</td>\n",
       "    </tr>\n",
       "    <tr>\n",
       "      <th>bmi</th>\n",
       "      <td>0.155957</td>\n",
       "      <td>1.000000</td>\n",
       "      <td>0.006477</td>\n",
       "      <td>0.008343</td>\n",
       "      <td>0.023543</td>\n",
       "      <td>0.040324</td>\n",
       "      <td>0.013992</td>\n",
       "      <td>0.016121</td>\n",
       "      <td>0.004105</td>\n",
       "      <td>0.010248</td>\n",
       "    </tr>\n",
       "    <tr>\n",
       "      <th>children</th>\n",
       "      <td>0.045371</td>\n",
       "      <td>0.006477</td>\n",
       "      <td>1.000000</td>\n",
       "      <td>0.041716</td>\n",
       "      <td>0.045472</td>\n",
       "      <td>0.228830</td>\n",
       "      <td>-0.007494</td>\n",
       "      <td>0.316622</td>\n",
       "      <td>0.064840</td>\n",
       "      <td>0.138470</td>\n",
       "    </tr>\n",
       "    <tr>\n",
       "      <th>Claim_Amount</th>\n",
       "      <td>0.117750</td>\n",
       "      <td>0.008343</td>\n",
       "      <td>0.041716</td>\n",
       "      <td>1.000000</td>\n",
       "      <td>0.071569</td>\n",
       "      <td>0.185434</td>\n",
       "      <td>0.054111</td>\n",
       "      <td>0.109748</td>\n",
       "      <td>0.157826</td>\n",
       "      <td>0.192601</td>\n",
       "    </tr>\n",
       "    <tr>\n",
       "      <th>past_consultations</th>\n",
       "      <td>0.172063</td>\n",
       "      <td>0.023543</td>\n",
       "      <td>0.045472</td>\n",
       "      <td>0.071569</td>\n",
       "      <td>1.000000</td>\n",
       "      <td>0.259401</td>\n",
       "      <td>0.088466</td>\n",
       "      <td>0.135498</td>\n",
       "      <td>0.265710</td>\n",
       "      <td>0.278131</td>\n",
       "    </tr>\n",
       "    <tr>\n",
       "      <th>num_of_steps</th>\n",
       "      <td>0.749468</td>\n",
       "      <td>0.040324</td>\n",
       "      <td>0.228830</td>\n",
       "      <td>0.185434</td>\n",
       "      <td>0.259401</td>\n",
       "      <td>1.000000</td>\n",
       "      <td>0.299554</td>\n",
       "      <td>0.714983</td>\n",
       "      <td>0.767247</td>\n",
       "      <td>0.936946</td>\n",
       "    </tr>\n",
       "    <tr>\n",
       "      <th>Hospital_expenditure</th>\n",
       "      <td>0.160555</td>\n",
       "      <td>0.013992</td>\n",
       "      <td>-0.007494</td>\n",
       "      <td>0.054111</td>\n",
       "      <td>0.088466</td>\n",
       "      <td>0.299554</td>\n",
       "      <td>1.000000</td>\n",
       "      <td>0.129334</td>\n",
       "      <td>0.366809</td>\n",
       "      <td>0.358378</td>\n",
       "    </tr>\n",
       "    <tr>\n",
       "      <th>NUmber_of_past_hospitalizations</th>\n",
       "      <td>0.519538</td>\n",
       "      <td>0.016121</td>\n",
       "      <td>0.316622</td>\n",
       "      <td>0.109748</td>\n",
       "      <td>0.135498</td>\n",
       "      <td>0.714983</td>\n",
       "      <td>0.129334</td>\n",
       "      <td>1.000000</td>\n",
       "      <td>0.359422</td>\n",
       "      <td>0.538116</td>\n",
       "    </tr>\n",
       "    <tr>\n",
       "      <th>Anual_Salary</th>\n",
       "      <td>0.490802</td>\n",
       "      <td>0.004105</td>\n",
       "      <td>0.064840</td>\n",
       "      <td>0.157826</td>\n",
       "      <td>0.265710</td>\n",
       "      <td>0.767247</td>\n",
       "      <td>0.366809</td>\n",
       "      <td>0.359422</td>\n",
       "      <td>1.000000</td>\n",
       "      <td>0.892308</td>\n",
       "    </tr>\n",
       "    <tr>\n",
       "      <th>charges</th>\n",
       "      <td>0.676071</td>\n",
       "      <td>0.010248</td>\n",
       "      <td>0.138470</td>\n",
       "      <td>0.192601</td>\n",
       "      <td>0.278131</td>\n",
       "      <td>0.936946</td>\n",
       "      <td>0.358378</td>\n",
       "      <td>0.538116</td>\n",
       "      <td>0.892308</td>\n",
       "      <td>1.000000</td>\n",
       "    </tr>\n",
       "  </tbody>\n",
       "</table>\n",
       "</div>"
      ],
      "text/plain": [
       "                                      age       bmi  children  Claim_Amount  \\\n",
       "age                              1.000000  0.155957  0.045371      0.117750   \n",
       "bmi                              0.155957  1.000000  0.006477      0.008343   \n",
       "children                         0.045371  0.006477  1.000000      0.041716   \n",
       "Claim_Amount                     0.117750  0.008343  0.041716      1.000000   \n",
       "past_consultations               0.172063  0.023543  0.045472      0.071569   \n",
       "num_of_steps                     0.749468  0.040324  0.228830      0.185434   \n",
       "Hospital_expenditure             0.160555  0.013992 -0.007494      0.054111   \n",
       "NUmber_of_past_hospitalizations  0.519538  0.016121  0.316622      0.109748   \n",
       "Anual_Salary                     0.490802  0.004105  0.064840      0.157826   \n",
       "charges                          0.676071  0.010248  0.138470      0.192601   \n",
       "\n",
       "                                 past_consultations  num_of_steps  \\\n",
       "age                                        0.172063      0.749468   \n",
       "bmi                                        0.023543      0.040324   \n",
       "children                                   0.045472      0.228830   \n",
       "Claim_Amount                               0.071569      0.185434   \n",
       "past_consultations                         1.000000      0.259401   \n",
       "num_of_steps                               0.259401      1.000000   \n",
       "Hospital_expenditure                       0.088466      0.299554   \n",
       "NUmber_of_past_hospitalizations            0.135498      0.714983   \n",
       "Anual_Salary                               0.265710      0.767247   \n",
       "charges                                    0.278131      0.936946   \n",
       "\n",
       "                                 Hospital_expenditure  \\\n",
       "age                                          0.160555   \n",
       "bmi                                          0.013992   \n",
       "children                                    -0.007494   \n",
       "Claim_Amount                                 0.054111   \n",
       "past_consultations                           0.088466   \n",
       "num_of_steps                                 0.299554   \n",
       "Hospital_expenditure                         1.000000   \n",
       "NUmber_of_past_hospitalizations              0.129334   \n",
       "Anual_Salary                                 0.366809   \n",
       "charges                                      0.358378   \n",
       "\n",
       "                                 NUmber_of_past_hospitalizations  \\\n",
       "age                                                     0.519538   \n",
       "bmi                                                     0.016121   \n",
       "children                                                0.316622   \n",
       "Claim_Amount                                            0.109748   \n",
       "past_consultations                                      0.135498   \n",
       "num_of_steps                                            0.714983   \n",
       "Hospital_expenditure                                    0.129334   \n",
       "NUmber_of_past_hospitalizations                         1.000000   \n",
       "Anual_Salary                                            0.359422   \n",
       "charges                                                 0.538116   \n",
       "\n",
       "                                 Anual_Salary   charges  \n",
       "age                                  0.490802  0.676071  \n",
       "bmi                                  0.004105  0.010248  \n",
       "children                             0.064840  0.138470  \n",
       "Claim_Amount                         0.157826  0.192601  \n",
       "past_consultations                   0.265710  0.278131  \n",
       "num_of_steps                         0.767247  0.936946  \n",
       "Hospital_expenditure                 0.366809  0.358378  \n",
       "NUmber_of_past_hospitalizations      0.359422  0.538116  \n",
       "Anual_Salary                         1.000000  0.892308  \n",
       "charges                              0.892308  1.000000  "
      ]
     },
     "execution_count": 25,
     "metadata": {},
     "output_type": "execute_result"
    }
   ],
   "source": [
    "insurance.corr()"
   ]
  },
  {
   "cell_type": "code",
   "execution_count": 26,
   "id": "1091c9de",
   "metadata": {},
   "outputs": [],
   "source": [
    "from statsmodels.stats.outliers_influence import variance_inflation_factor"
   ]
  },
  {
   "cell_type": "code",
   "execution_count": 27,
   "id": "56166010",
   "metadata": {},
   "outputs": [],
   "source": [
    "col_list=[]\n",
    "for col in col_names:\n",
    "    if insurance[col].dtype!=\"object\" and col!=\"charges\":\n",
    "        col_list.append(col)\n",
    "        "
   ]
  },
  {
   "cell_type": "code",
   "execution_count": 28,
   "id": "657899f1",
   "metadata": {},
   "outputs": [
    {
     "data": {
      "text/plain": [
       "['age',\n",
       " 'bmi',\n",
       " 'children',\n",
       " 'Claim_Amount',\n",
       " 'past_consultations',\n",
       " 'num_of_steps',\n",
       " 'Hospital_expenditure',\n",
       " 'NUmber_of_past_hospitalizations',\n",
       " 'Anual_Salary']"
      ]
     },
     "execution_count": 28,
     "metadata": {},
     "output_type": "execute_result"
    }
   ],
   "source": [
    "col_list"
   ]
  },
  {
   "cell_type": "code",
   "execution_count": 29,
   "id": "58e1674a",
   "metadata": {},
   "outputs": [],
   "source": [
    "X=insurance[col_list]"
   ]
  },
  {
   "cell_type": "code",
   "execution_count": 30,
   "id": "05c50c06",
   "metadata": {},
   "outputs": [],
   "source": [
    "vif_data=pd.DataFrame()"
   ]
  },
  {
   "cell_type": "code",
   "execution_count": 31,
   "id": "5c8df7bb",
   "metadata": {},
   "outputs": [],
   "source": [
    "vif_data[\"Column names\"]=X.columns"
   ]
  },
  {
   "cell_type": "code",
   "execution_count": 32,
   "id": "5819ad12",
   "metadata": {},
   "outputs": [],
   "source": [
    "vif_data[\"VIF values\"]=[variance_inflation_factor(X.values,i) for i in range(len(X.columns))]"
   ]
  },
  {
   "cell_type": "code",
   "execution_count": 33,
   "id": "a0f58e18",
   "metadata": {},
   "outputs": [
    {
     "data": {
      "text/html": [
       "<div>\n",
       "<style scoped>\n",
       "    .dataframe tbody tr th:only-of-type {\n",
       "        vertical-align: middle;\n",
       "    }\n",
       "\n",
       "    .dataframe tbody tr th {\n",
       "        vertical-align: top;\n",
       "    }\n",
       "\n",
       "    .dataframe thead th {\n",
       "        text-align: right;\n",
       "    }\n",
       "</style>\n",
       "<table border=\"1\" class=\"dataframe\">\n",
       "  <thead>\n",
       "    <tr style=\"text-align: right;\">\n",
       "      <th></th>\n",
       "      <th>Column names</th>\n",
       "      <th>VIF values</th>\n",
       "    </tr>\n",
       "  </thead>\n",
       "  <tbody>\n",
       "    <tr>\n",
       "      <th>0</th>\n",
       "      <td>age</td>\n",
       "      <td>15.452095</td>\n",
       "    </tr>\n",
       "    <tr>\n",
       "      <th>1</th>\n",
       "      <td>bmi</td>\n",
       "      <td>26.330788</td>\n",
       "    </tr>\n",
       "    <tr>\n",
       "      <th>2</th>\n",
       "      <td>children</td>\n",
       "      <td>2.029618</td>\n",
       "    </tr>\n",
       "    <tr>\n",
       "      <th>3</th>\n",
       "      <td>Claim_Amount</td>\n",
       "      <td>5.678660</td>\n",
       "    </tr>\n",
       "    <tr>\n",
       "      <th>4</th>\n",
       "      <td>past_consultations</td>\n",
       "      <td>6.258017</td>\n",
       "    </tr>\n",
       "    <tr>\n",
       "      <th>5</th>\n",
       "      <td>num_of_steps</td>\n",
       "      <td>61.574692</td>\n",
       "    </tr>\n",
       "    <tr>\n",
       "      <th>6</th>\n",
       "      <td>Hospital_expenditure</td>\n",
       "      <td>5.204376</td>\n",
       "    </tr>\n",
       "    <tr>\n",
       "      <th>7</th>\n",
       "      <td>NUmber_of_past_hospitalizations</td>\n",
       "      <td>12.052060</td>\n",
       "    </tr>\n",
       "    <tr>\n",
       "      <th>8</th>\n",
       "      <td>Anual_Salary</td>\n",
       "      <td>5.481823</td>\n",
       "    </tr>\n",
       "  </tbody>\n",
       "</table>\n",
       "</div>"
      ],
      "text/plain": [
       "                      Column names  VIF values\n",
       "0                              age   15.452095\n",
       "1                              bmi   26.330788\n",
       "2                         children    2.029618\n",
       "3                     Claim_Amount    5.678660\n",
       "4               past_consultations    6.258017\n",
       "5                     num_of_steps   61.574692\n",
       "6             Hospital_expenditure    5.204376\n",
       "7  NUmber_of_past_hospitalizations   12.052060\n",
       "8                     Anual_Salary    5.481823"
      ]
     },
     "execution_count": 33,
     "metadata": {},
     "output_type": "execute_result"
    }
   ],
   "source": [
    "vif_data"
   ]
  },
  {
   "cell_type": "code",
   "execution_count": 34,
   "id": "be90af94",
   "metadata": {},
   "outputs": [],
   "source": [
    "insurance=insurance.drop('num_of_steps',axis=1)"
   ]
  },
  {
   "cell_type": "code",
   "execution_count": 35,
   "id": "7bed665a",
   "metadata": {},
   "outputs": [
    {
     "data": {
      "text/html": [
       "<div>\n",
       "<style scoped>\n",
       "    .dataframe tbody tr th:only-of-type {\n",
       "        vertical-align: middle;\n",
       "    }\n",
       "\n",
       "    .dataframe tbody tr th {\n",
       "        vertical-align: top;\n",
       "    }\n",
       "\n",
       "    .dataframe thead th {\n",
       "        text-align: right;\n",
       "    }\n",
       "</style>\n",
       "<table border=\"1\" class=\"dataframe\">\n",
       "  <thead>\n",
       "    <tr style=\"text-align: right;\">\n",
       "      <th></th>\n",
       "      <th>age</th>\n",
       "      <th>sex</th>\n",
       "      <th>bmi</th>\n",
       "      <th>children</th>\n",
       "      <th>smoker</th>\n",
       "      <th>Claim_Amount</th>\n",
       "      <th>past_consultations</th>\n",
       "      <th>Hospital_expenditure</th>\n",
       "      <th>NUmber_of_past_hospitalizations</th>\n",
       "      <th>Anual_Salary</th>\n",
       "      <th>region</th>\n",
       "      <th>charges</th>\n",
       "    </tr>\n",
       "  </thead>\n",
       "  <tbody>\n",
       "    <tr>\n",
       "      <th>0</th>\n",
       "      <td>18.0</td>\n",
       "      <td>male</td>\n",
       "      <td>23.210</td>\n",
       "      <td>0.0</td>\n",
       "      <td>no</td>\n",
       "      <td>29087.54313</td>\n",
       "      <td>17.0</td>\n",
       "      <td>4.720921e+06</td>\n",
       "      <td>0.0</td>\n",
       "      <td>5.578497e+07</td>\n",
       "      <td>southeast</td>\n",
       "      <td>1121.87390</td>\n",
       "    </tr>\n",
       "    <tr>\n",
       "      <th>1</th>\n",
       "      <td>18.0</td>\n",
       "      <td>male</td>\n",
       "      <td>30.140</td>\n",
       "      <td>0.0</td>\n",
       "      <td>no</td>\n",
       "      <td>39053.67437</td>\n",
       "      <td>7.0</td>\n",
       "      <td>4.329832e+06</td>\n",
       "      <td>0.0</td>\n",
       "      <td>1.370089e+07</td>\n",
       "      <td>southeast</td>\n",
       "      <td>1131.50660</td>\n",
       "    </tr>\n",
       "    <tr>\n",
       "      <th>2</th>\n",
       "      <td>18.0</td>\n",
       "      <td>male</td>\n",
       "      <td>33.330</td>\n",
       "      <td>0.0</td>\n",
       "      <td>no</td>\n",
       "      <td>39023.62759</td>\n",
       "      <td>19.0</td>\n",
       "      <td>6.884861e+06</td>\n",
       "      <td>0.0</td>\n",
       "      <td>7.352311e+07</td>\n",
       "      <td>southeast</td>\n",
       "      <td>1135.94070</td>\n",
       "    </tr>\n",
       "    <tr>\n",
       "      <th>3</th>\n",
       "      <td>18.0</td>\n",
       "      <td>male</td>\n",
       "      <td>33.660</td>\n",
       "      <td>0.0</td>\n",
       "      <td>no</td>\n",
       "      <td>28185.39332</td>\n",
       "      <td>11.0</td>\n",
       "      <td>4.274774e+06</td>\n",
       "      <td>0.0</td>\n",
       "      <td>7.581968e+07</td>\n",
       "      <td>southeast</td>\n",
       "      <td>1136.39940</td>\n",
       "    </tr>\n",
       "    <tr>\n",
       "      <th>4</th>\n",
       "      <td>18.0</td>\n",
       "      <td>male</td>\n",
       "      <td>34.100</td>\n",
       "      <td>0.0</td>\n",
       "      <td>no</td>\n",
       "      <td>14697.85941</td>\n",
       "      <td>16.0</td>\n",
       "      <td>3.787294e+06</td>\n",
       "      <td>0.0</td>\n",
       "      <td>2.301232e+07</td>\n",
       "      <td>southeast</td>\n",
       "      <td>1137.01100</td>\n",
       "    </tr>\n",
       "    <tr>\n",
       "      <th>...</th>\n",
       "      <td>...</td>\n",
       "      <td>...</td>\n",
       "      <td>...</td>\n",
       "      <td>...</td>\n",
       "      <td>...</td>\n",
       "      <td>...</td>\n",
       "      <td>...</td>\n",
       "      <td>...</td>\n",
       "      <td>...</td>\n",
       "      <td>...</td>\n",
       "      <td>...</td>\n",
       "      <td>...</td>\n",
       "    </tr>\n",
       "    <tr>\n",
       "      <th>1046</th>\n",
       "      <td>29.0</td>\n",
       "      <td>female</td>\n",
       "      <td>27.940</td>\n",
       "      <td>1.0</td>\n",
       "      <td>yes</td>\n",
       "      <td>51168.25474</td>\n",
       "      <td>23.0</td>\n",
       "      <td>1.665982e+07</td>\n",
       "      <td>1.0</td>\n",
       "      <td>3.712188e+08</td>\n",
       "      <td>southeast</td>\n",
       "      <td>19107.77960</td>\n",
       "    </tr>\n",
       "    <tr>\n",
       "      <th>1048</th>\n",
       "      <td>31.0</td>\n",
       "      <td>male</td>\n",
       "      <td>25.900</td>\n",
       "      <td>3.0</td>\n",
       "      <td>yes</td>\n",
       "      <td>46619.40230</td>\n",
       "      <td>27.0</td>\n",
       "      <td>1.361938e+07</td>\n",
       "      <td>1.0</td>\n",
       "      <td>3.812895e+08</td>\n",
       "      <td>southwest</td>\n",
       "      <td>19199.94400</td>\n",
       "    </tr>\n",
       "    <tr>\n",
       "      <th>1050</th>\n",
       "      <td>31.0</td>\n",
       "      <td>male</td>\n",
       "      <td>29.810</td>\n",
       "      <td>0.0</td>\n",
       "      <td>yes</td>\n",
       "      <td>24382.58056</td>\n",
       "      <td>21.0</td>\n",
       "      <td>1.028991e+07</td>\n",
       "      <td>1.0</td>\n",
       "      <td>3.745310e+08</td>\n",
       "      <td>southeast</td>\n",
       "      <td>19350.36890</td>\n",
       "    </tr>\n",
       "    <tr>\n",
       "      <th>1062</th>\n",
       "      <td>43.0</td>\n",
       "      <td>female</td>\n",
       "      <td>20.045</td>\n",
       "      <td>2.0</td>\n",
       "      <td>yes</td>\n",
       "      <td>21596.43846</td>\n",
       "      <td>10.0</td>\n",
       "      <td>1.083030e+07</td>\n",
       "      <td>1.0</td>\n",
       "      <td>3.696849e+08</td>\n",
       "      <td>northeast</td>\n",
       "      <td>19798.05455</td>\n",
       "    </tr>\n",
       "    <tr>\n",
       "      <th>1069</th>\n",
       "      <td>35.0</td>\n",
       "      <td>female</td>\n",
       "      <td>28.025</td>\n",
       "      <td>0.0</td>\n",
       "      <td>yes</td>\n",
       "      <td>17200.14586</td>\n",
       "      <td>15.0</td>\n",
       "      <td>1.247744e+07</td>\n",
       "      <td>1.0</td>\n",
       "      <td>3.696849e+08</td>\n",
       "      <td>northwest</td>\n",
       "      <td>20234.85475</td>\n",
       "    </tr>\n",
       "  </tbody>\n",
       "</table>\n",
       "<p>1030 rows × 12 columns</p>\n",
       "</div>"
      ],
      "text/plain": [
       "       age     sex     bmi  children smoker  Claim_Amount  past_consultations  \\\n",
       "0     18.0    male  23.210       0.0     no   29087.54313                17.0   \n",
       "1     18.0    male  30.140       0.0     no   39053.67437                 7.0   \n",
       "2     18.0    male  33.330       0.0     no   39023.62759                19.0   \n",
       "3     18.0    male  33.660       0.0     no   28185.39332                11.0   \n",
       "4     18.0    male  34.100       0.0     no   14697.85941                16.0   \n",
       "...    ...     ...     ...       ...    ...           ...                 ...   \n",
       "1046  29.0  female  27.940       1.0    yes   51168.25474                23.0   \n",
       "1048  31.0    male  25.900       3.0    yes   46619.40230                27.0   \n",
       "1050  31.0    male  29.810       0.0    yes   24382.58056                21.0   \n",
       "1062  43.0  female  20.045       2.0    yes   21596.43846                10.0   \n",
       "1069  35.0  female  28.025       0.0    yes   17200.14586                15.0   \n",
       "\n",
       "      Hospital_expenditure  NUmber_of_past_hospitalizations  Anual_Salary  \\\n",
       "0             4.720921e+06                              0.0  5.578497e+07   \n",
       "1             4.329832e+06                              0.0  1.370089e+07   \n",
       "2             6.884861e+06                              0.0  7.352311e+07   \n",
       "3             4.274774e+06                              0.0  7.581968e+07   \n",
       "4             3.787294e+06                              0.0  2.301232e+07   \n",
       "...                    ...                              ...           ...   \n",
       "1046          1.665982e+07                              1.0  3.712188e+08   \n",
       "1048          1.361938e+07                              1.0  3.812895e+08   \n",
       "1050          1.028991e+07                              1.0  3.745310e+08   \n",
       "1062          1.083030e+07                              1.0  3.696849e+08   \n",
       "1069          1.247744e+07                              1.0  3.696849e+08   \n",
       "\n",
       "         region      charges  \n",
       "0     southeast   1121.87390  \n",
       "1     southeast   1131.50660  \n",
       "2     southeast   1135.94070  \n",
       "3     southeast   1136.39940  \n",
       "4     southeast   1137.01100  \n",
       "...         ...          ...  \n",
       "1046  southeast  19107.77960  \n",
       "1048  southwest  19199.94400  \n",
       "1050  southeast  19350.36890  \n",
       "1062  northeast  19798.05455  \n",
       "1069  northwest  20234.85475  \n",
       "\n",
       "[1030 rows x 12 columns]"
      ]
     },
     "execution_count": 35,
     "metadata": {},
     "output_type": "execute_result"
    }
   ],
   "source": [
    "insurance"
   ]
  },
  {
   "cell_type": "code",
   "execution_count": 36,
   "id": "cd86bbeb",
   "metadata": {},
   "outputs": [
    {
     "data": {
      "text/html": [
       "<div>\n",
       "<style scoped>\n",
       "    .dataframe tbody tr th:only-of-type {\n",
       "        vertical-align: middle;\n",
       "    }\n",
       "\n",
       "    .dataframe tbody tr th {\n",
       "        vertical-align: top;\n",
       "    }\n",
       "\n",
       "    .dataframe thead th {\n",
       "        text-align: right;\n",
       "    }\n",
       "</style>\n",
       "<table border=\"1\" class=\"dataframe\">\n",
       "  <thead>\n",
       "    <tr style=\"text-align: right;\">\n",
       "      <th></th>\n",
       "      <th>Column names</th>\n",
       "      <th>VIF values</th>\n",
       "    </tr>\n",
       "  </thead>\n",
       "  <tbody>\n",
       "    <tr>\n",
       "      <th>0</th>\n",
       "      <td>age</td>\n",
       "      <td>14.484893</td>\n",
       "    </tr>\n",
       "    <tr>\n",
       "      <th>1</th>\n",
       "      <td>bmi</td>\n",
       "      <td>12.261123</td>\n",
       "    </tr>\n",
       "    <tr>\n",
       "      <th>2</th>\n",
       "      <td>children</td>\n",
       "      <td>2.017441</td>\n",
       "    </tr>\n",
       "    <tr>\n",
       "      <th>3</th>\n",
       "      <td>Claim_Amount</td>\n",
       "      <td>5.243640</td>\n",
       "    </tr>\n",
       "    <tr>\n",
       "      <th>4</th>\n",
       "      <td>past_consultations</td>\n",
       "      <td>5.842169</td>\n",
       "    </tr>\n",
       "    <tr>\n",
       "      <th>5</th>\n",
       "      <td>Hospital_expenditure</td>\n",
       "      <td>4.929952</td>\n",
       "    </tr>\n",
       "    <tr>\n",
       "      <th>6</th>\n",
       "      <td>NUmber_of_past_hospitalizations</td>\n",
       "      <td>10.687768</td>\n",
       "    </tr>\n",
       "    <tr>\n",
       "      <th>7</th>\n",
       "      <td>Anual_Salary</td>\n",
       "      <td>5.380679</td>\n",
       "    </tr>\n",
       "  </tbody>\n",
       "</table>\n",
       "</div>"
      ],
      "text/plain": [
       "                      Column names  VIF values\n",
       "0                              age   14.484893\n",
       "1                              bmi   12.261123\n",
       "2                         children    2.017441\n",
       "3                     Claim_Amount    5.243640\n",
       "4               past_consultations    5.842169\n",
       "5             Hospital_expenditure    4.929952\n",
       "6  NUmber_of_past_hospitalizations   10.687768\n",
       "7                     Anual_Salary    5.380679"
      ]
     },
     "execution_count": 36,
     "metadata": {},
     "output_type": "execute_result"
    }
   ],
   "source": [
    "col_list=[]\n",
    "for col in insurance.columns:\n",
    "    if insurance[col].dtype!=\"object\" and col!=\"charges\":\n",
    "        col_list.append(col)\n",
    "X=insurance[col_list]\n",
    "vif_data=pd.DataFrame()\n",
    "vif_data[\"Column names\"]=X.columns\n",
    "\n",
    "vif_data[\"VIF values\"]=[variance_inflation_factor(X.values,i) for i in range(len(X.columns))]\n",
    "vif_data"
   ]
  },
  {
   "cell_type": "code",
   "execution_count": 37,
   "id": "96c9c94a",
   "metadata": {},
   "outputs": [],
   "source": [
    "insurance=insurance.drop('age',axis=1)"
   ]
  },
  {
   "cell_type": "code",
   "execution_count": 38,
   "id": "2b585f5d",
   "metadata": {},
   "outputs": [
    {
     "data": {
      "text/html": [
       "<div>\n",
       "<style scoped>\n",
       "    .dataframe tbody tr th:only-of-type {\n",
       "        vertical-align: middle;\n",
       "    }\n",
       "\n",
       "    .dataframe tbody tr th {\n",
       "        vertical-align: top;\n",
       "    }\n",
       "\n",
       "    .dataframe thead th {\n",
       "        text-align: right;\n",
       "    }\n",
       "</style>\n",
       "<table border=\"1\" class=\"dataframe\">\n",
       "  <thead>\n",
       "    <tr style=\"text-align: right;\">\n",
       "      <th></th>\n",
       "      <th>Column names</th>\n",
       "      <th>VIF values</th>\n",
       "    </tr>\n",
       "  </thead>\n",
       "  <tbody>\n",
       "    <tr>\n",
       "      <th>0</th>\n",
       "      <td>bmi</td>\n",
       "      <td>10.323093</td>\n",
       "    </tr>\n",
       "    <tr>\n",
       "      <th>1</th>\n",
       "      <td>children</td>\n",
       "      <td>1.978843</td>\n",
       "    </tr>\n",
       "    <tr>\n",
       "      <th>2</th>\n",
       "      <td>Claim_Amount</td>\n",
       "      <td>5.228284</td>\n",
       "    </tr>\n",
       "    <tr>\n",
       "      <th>3</th>\n",
       "      <td>past_consultations</td>\n",
       "      <td>5.821933</td>\n",
       "    </tr>\n",
       "    <tr>\n",
       "      <th>4</th>\n",
       "      <td>Hospital_expenditure</td>\n",
       "      <td>4.929287</td>\n",
       "    </tr>\n",
       "    <tr>\n",
       "      <th>5</th>\n",
       "      <td>NUmber_of_past_hospitalizations</td>\n",
       "      <td>8.310570</td>\n",
       "    </tr>\n",
       "    <tr>\n",
       "      <th>6</th>\n",
       "      <td>Anual_Salary</td>\n",
       "      <td>4.723495</td>\n",
       "    </tr>\n",
       "  </tbody>\n",
       "</table>\n",
       "</div>"
      ],
      "text/plain": [
       "                      Column names  VIF values\n",
       "0                              bmi   10.323093\n",
       "1                         children    1.978843\n",
       "2                     Claim_Amount    5.228284\n",
       "3               past_consultations    5.821933\n",
       "4             Hospital_expenditure    4.929287\n",
       "5  NUmber_of_past_hospitalizations    8.310570\n",
       "6                     Anual_Salary    4.723495"
      ]
     },
     "execution_count": 38,
     "metadata": {},
     "output_type": "execute_result"
    }
   ],
   "source": [
    "col_list=[]\n",
    "for col in insurance.columns:\n",
    "    if insurance[col].dtype!=\"object\" and col!=\"charges\":\n",
    "        col_list.append(col)\n",
    "X=insurance[col_list]\n",
    "vif_data=pd.DataFrame()\n",
    "vif_data[\"Column names\"]=X.columns\n",
    "vif_data[\"VIF values\"]=[variance_inflation_factor(X.values,i) for i in range(len(X.columns))]\n",
    "vif_data"
   ]
  },
  {
   "cell_type": "code",
   "execution_count": 39,
   "id": "5d5be67b",
   "metadata": {},
   "outputs": [],
   "source": [
    "insurance=insurance.drop('bmi',axis=1)\n",
    "#since it is execute once that why when i executed it agian it through an error"
   ]
  },
  {
   "cell_type": "code",
   "execution_count": 40,
   "id": "fcae694e",
   "metadata": {},
   "outputs": [
    {
     "data": {
      "text/html": [
       "<div>\n",
       "<style scoped>\n",
       "    .dataframe tbody tr th:only-of-type {\n",
       "        vertical-align: middle;\n",
       "    }\n",
       "\n",
       "    .dataframe tbody tr th {\n",
       "        vertical-align: top;\n",
       "    }\n",
       "\n",
       "    .dataframe thead th {\n",
       "        text-align: right;\n",
       "    }\n",
       "</style>\n",
       "<table border=\"1\" class=\"dataframe\">\n",
       "  <thead>\n",
       "    <tr style=\"text-align: right;\">\n",
       "      <th></th>\n",
       "      <th>Column names</th>\n",
       "      <th>VIF values</th>\n",
       "    </tr>\n",
       "  </thead>\n",
       "  <tbody>\n",
       "    <tr>\n",
       "      <th>0</th>\n",
       "      <td>children</td>\n",
       "      <td>1.977037</td>\n",
       "    </tr>\n",
       "    <tr>\n",
       "      <th>1</th>\n",
       "      <td>Claim_Amount</td>\n",
       "      <td>4.547332</td>\n",
       "    </tr>\n",
       "    <tr>\n",
       "      <th>2</th>\n",
       "      <td>past_consultations</td>\n",
       "      <td>5.049165</td>\n",
       "    </tr>\n",
       "    <tr>\n",
       "      <th>3</th>\n",
       "      <td>Hospital_expenditure</td>\n",
       "      <td>4.492630</td>\n",
       "    </tr>\n",
       "    <tr>\n",
       "      <th>4</th>\n",
       "      <td>NUmber_of_past_hospitalizations</td>\n",
       "      <td>7.245972</td>\n",
       "    </tr>\n",
       "    <tr>\n",
       "      <th>5</th>\n",
       "      <td>Anual_Salary</td>\n",
       "      <td>4.688833</td>\n",
       "    </tr>\n",
       "  </tbody>\n",
       "</table>\n",
       "</div>"
      ],
      "text/plain": [
       "                      Column names  VIF values\n",
       "0                         children    1.977037\n",
       "1                     Claim_Amount    4.547332\n",
       "2               past_consultations    5.049165\n",
       "3             Hospital_expenditure    4.492630\n",
       "4  NUmber_of_past_hospitalizations    7.245972\n",
       "5                     Anual_Salary    4.688833"
      ]
     },
     "execution_count": 40,
     "metadata": {},
     "output_type": "execute_result"
    }
   ],
   "source": [
    "col_list=[]\n",
    "for col in insurance.columns:\n",
    "    if insurance[col].dtype!=\"object\" and col!=\"charges\":\n",
    "        col_list.append(col)\n",
    "X=insurance[col_list]\n",
    "vif_data=pd.DataFrame()\n",
    "vif_data[\"Column names\"]=X.columns\n",
    "vif_data[\"VIF values\"]=[variance_inflation_factor(X.values,i) for i in range(len(X.columns))]\n",
    "vif_data"
   ]
  },
  {
   "cell_type": "code",
   "execution_count": 41,
   "id": "088fc8fe",
   "metadata": {},
   "outputs": [],
   "source": [
    "insurance=insurance.drop('NUmber_of_past_hospitalizations',axis=1)"
   ]
  },
  {
   "cell_type": "code",
   "execution_count": 42,
   "id": "9d3fe5c2",
   "metadata": {},
   "outputs": [
    {
     "data": {
      "text/html": [
       "<div>\n",
       "<style scoped>\n",
       "    .dataframe tbody tr th:only-of-type {\n",
       "        vertical-align: middle;\n",
       "    }\n",
       "\n",
       "    .dataframe tbody tr th {\n",
       "        vertical-align: top;\n",
       "    }\n",
       "\n",
       "    .dataframe thead th {\n",
       "        text-align: right;\n",
       "    }\n",
       "</style>\n",
       "<table border=\"1\" class=\"dataframe\">\n",
       "  <thead>\n",
       "    <tr style=\"text-align: right;\">\n",
       "      <th></th>\n",
       "      <th>Column names</th>\n",
       "      <th>VIF values</th>\n",
       "    </tr>\n",
       "  </thead>\n",
       "  <tbody>\n",
       "    <tr>\n",
       "      <th>0</th>\n",
       "      <td>children</td>\n",
       "      <td>1.713101</td>\n",
       "    </tr>\n",
       "    <tr>\n",
       "      <th>1</th>\n",
       "      <td>Claim_Amount</td>\n",
       "      <td>4.152224</td>\n",
       "    </tr>\n",
       "    <tr>\n",
       "      <th>2</th>\n",
       "      <td>past_consultations</td>\n",
       "      <td>4.670212</td>\n",
       "    </tr>\n",
       "    <tr>\n",
       "      <th>3</th>\n",
       "      <td>Hospital_expenditure</td>\n",
       "      <td>4.320876</td>\n",
       "    </tr>\n",
       "    <tr>\n",
       "      <th>4</th>\n",
       "      <td>Anual_Salary</td>\n",
       "      <td>4.279483</td>\n",
       "    </tr>\n",
       "  </tbody>\n",
       "</table>\n",
       "</div>"
      ],
      "text/plain": [
       "           Column names  VIF values\n",
       "0              children    1.713101\n",
       "1          Claim_Amount    4.152224\n",
       "2    past_consultations    4.670212\n",
       "3  Hospital_expenditure    4.320876\n",
       "4          Anual_Salary    4.279483"
      ]
     },
     "execution_count": 42,
     "metadata": {},
     "output_type": "execute_result"
    }
   ],
   "source": [
    "col_list=[]\n",
    "for col in insurance.columns:\n",
    "    if insurance[col].dtype!=\"object\" and col!=\"charges\":\n",
    "        col_list.append(col)\n",
    "X=insurance[col_list]\n",
    "vif_data=pd.DataFrame()\n",
    "vif_data[\"Column names\"]=X.columns\n",
    "vif_data[\"VIF values\"]=[variance_inflation_factor(X.values,i) for i in range(len(X.columns))]\n",
    "vif_data"
   ]
  },
  {
   "cell_type": "code",
   "execution_count": 43,
   "id": "e7c2a25f",
   "metadata": {},
   "outputs": [],
   "source": [
    "# Independent and Dependent data\n",
    "x=insurance.loc[:,[\"children\",\"Claim_Amount\",\"past_consultations\",\"Hospital_expenditure\",\"Anual_Salary\"]]\n"
   ]
  },
  {
   "cell_type": "code",
   "execution_count": 44,
   "id": "ced0d48f",
   "metadata": {},
   "outputs": [
    {
     "data": {
      "text/html": [
       "<div>\n",
       "<style scoped>\n",
       "    .dataframe tbody tr th:only-of-type {\n",
       "        vertical-align: middle;\n",
       "    }\n",
       "\n",
       "    .dataframe tbody tr th {\n",
       "        vertical-align: top;\n",
       "    }\n",
       "\n",
       "    .dataframe thead th {\n",
       "        text-align: right;\n",
       "    }\n",
       "</style>\n",
       "<table border=\"1\" class=\"dataframe\">\n",
       "  <thead>\n",
       "    <tr style=\"text-align: right;\">\n",
       "      <th></th>\n",
       "      <th>children</th>\n",
       "      <th>Claim_Amount</th>\n",
       "      <th>past_consultations</th>\n",
       "      <th>Hospital_expenditure</th>\n",
       "      <th>Anual_Salary</th>\n",
       "    </tr>\n",
       "  </thead>\n",
       "  <tbody>\n",
       "    <tr>\n",
       "      <th>0</th>\n",
       "      <td>0.0</td>\n",
       "      <td>29087.54313</td>\n",
       "      <td>17.0</td>\n",
       "      <td>4.720921e+06</td>\n",
       "      <td>5.578497e+07</td>\n",
       "    </tr>\n",
       "    <tr>\n",
       "      <th>1</th>\n",
       "      <td>0.0</td>\n",
       "      <td>39053.67437</td>\n",
       "      <td>7.0</td>\n",
       "      <td>4.329832e+06</td>\n",
       "      <td>1.370089e+07</td>\n",
       "    </tr>\n",
       "    <tr>\n",
       "      <th>2</th>\n",
       "      <td>0.0</td>\n",
       "      <td>39023.62759</td>\n",
       "      <td>19.0</td>\n",
       "      <td>6.884861e+06</td>\n",
       "      <td>7.352311e+07</td>\n",
       "    </tr>\n",
       "    <tr>\n",
       "      <th>3</th>\n",
       "      <td>0.0</td>\n",
       "      <td>28185.39332</td>\n",
       "      <td>11.0</td>\n",
       "      <td>4.274774e+06</td>\n",
       "      <td>7.581968e+07</td>\n",
       "    </tr>\n",
       "    <tr>\n",
       "      <th>4</th>\n",
       "      <td>0.0</td>\n",
       "      <td>14697.85941</td>\n",
       "      <td>16.0</td>\n",
       "      <td>3.787294e+06</td>\n",
       "      <td>2.301232e+07</td>\n",
       "    </tr>\n",
       "    <tr>\n",
       "      <th>...</th>\n",
       "      <td>...</td>\n",
       "      <td>...</td>\n",
       "      <td>...</td>\n",
       "      <td>...</td>\n",
       "      <td>...</td>\n",
       "    </tr>\n",
       "    <tr>\n",
       "      <th>1046</th>\n",
       "      <td>1.0</td>\n",
       "      <td>51168.25474</td>\n",
       "      <td>23.0</td>\n",
       "      <td>1.665982e+07</td>\n",
       "      <td>3.712188e+08</td>\n",
       "    </tr>\n",
       "    <tr>\n",
       "      <th>1048</th>\n",
       "      <td>3.0</td>\n",
       "      <td>46619.40230</td>\n",
       "      <td>27.0</td>\n",
       "      <td>1.361938e+07</td>\n",
       "      <td>3.812895e+08</td>\n",
       "    </tr>\n",
       "    <tr>\n",
       "      <th>1050</th>\n",
       "      <td>0.0</td>\n",
       "      <td>24382.58056</td>\n",
       "      <td>21.0</td>\n",
       "      <td>1.028991e+07</td>\n",
       "      <td>3.745310e+08</td>\n",
       "    </tr>\n",
       "    <tr>\n",
       "      <th>1062</th>\n",
       "      <td>2.0</td>\n",
       "      <td>21596.43846</td>\n",
       "      <td>10.0</td>\n",
       "      <td>1.083030e+07</td>\n",
       "      <td>3.696849e+08</td>\n",
       "    </tr>\n",
       "    <tr>\n",
       "      <th>1069</th>\n",
       "      <td>0.0</td>\n",
       "      <td>17200.14586</td>\n",
       "      <td>15.0</td>\n",
       "      <td>1.247744e+07</td>\n",
       "      <td>3.696849e+08</td>\n",
       "    </tr>\n",
       "  </tbody>\n",
       "</table>\n",
       "<p>1030 rows × 5 columns</p>\n",
       "</div>"
      ],
      "text/plain": [
       "      children  Claim_Amount  past_consultations  Hospital_expenditure  \\\n",
       "0          0.0   29087.54313                17.0          4.720921e+06   \n",
       "1          0.0   39053.67437                 7.0          4.329832e+06   \n",
       "2          0.0   39023.62759                19.0          6.884861e+06   \n",
       "3          0.0   28185.39332                11.0          4.274774e+06   \n",
       "4          0.0   14697.85941                16.0          3.787294e+06   \n",
       "...        ...           ...                 ...                   ...   \n",
       "1046       1.0   51168.25474                23.0          1.665982e+07   \n",
       "1048       3.0   46619.40230                27.0          1.361938e+07   \n",
       "1050       0.0   24382.58056                21.0          1.028991e+07   \n",
       "1062       2.0   21596.43846                10.0          1.083030e+07   \n",
       "1069       0.0   17200.14586                15.0          1.247744e+07   \n",
       "\n",
       "      Anual_Salary  \n",
       "0     5.578497e+07  \n",
       "1     1.370089e+07  \n",
       "2     7.352311e+07  \n",
       "3     7.581968e+07  \n",
       "4     2.301232e+07  \n",
       "...            ...  \n",
       "1046  3.712188e+08  \n",
       "1048  3.812895e+08  \n",
       "1050  3.745310e+08  \n",
       "1062  3.696849e+08  \n",
       "1069  3.696849e+08  \n",
       "\n",
       "[1030 rows x 5 columns]"
      ]
     },
     "execution_count": 44,
     "metadata": {},
     "output_type": "execute_result"
    }
   ],
   "source": [
    "x"
   ]
  },
  {
   "cell_type": "code",
   "execution_count": 45,
   "id": "34e9f7f4",
   "metadata": {},
   "outputs": [],
   "source": [
    "y=insurance.iloc[:,-1]"
   ]
  },
  {
   "cell_type": "code",
   "execution_count": 46,
   "id": "39cb8abd",
   "metadata": {},
   "outputs": [
    {
     "data": {
      "text/plain": [
       "0        1121.87390\n",
       "1        1131.50660\n",
       "2        1135.94070\n",
       "3        1136.39940\n",
       "4        1137.01100\n",
       "           ...     \n",
       "1046    19107.77960\n",
       "1048    19199.94400\n",
       "1050    19350.36890\n",
       "1062    19798.05455\n",
       "1069    20234.85475\n",
       "Name: charges, Length: 1030, dtype: float64"
      ]
     },
     "execution_count": 46,
     "metadata": {},
     "output_type": "execute_result"
    }
   ],
   "source": [
    "y"
   ]
  },
  {
   "cell_type": "code",
   "execution_count": 47,
   "id": "7d04c498",
   "metadata": {},
   "outputs": [],
   "source": [
    "# Train Testing\n",
    "from sklearn.model_selection import train_test_split\n",
    "x_train,x_test,y_train,y_test=train_test_split(x,y,random_state=56,test_size=0.3)"
   ]
  },
  {
   "cell_type": "code",
   "execution_count": 48,
   "id": "c761da16",
   "metadata": {},
   "outputs": [
    {
     "data": {
      "text/html": [
       "<div>\n",
       "<style scoped>\n",
       "    .dataframe tbody tr th:only-of-type {\n",
       "        vertical-align: middle;\n",
       "    }\n",
       "\n",
       "    .dataframe tbody tr th {\n",
       "        vertical-align: top;\n",
       "    }\n",
       "\n",
       "    .dataframe thead th {\n",
       "        text-align: right;\n",
       "    }\n",
       "</style>\n",
       "<table border=\"1\" class=\"dataframe\">\n",
       "  <thead>\n",
       "    <tr style=\"text-align: right;\">\n",
       "      <th></th>\n",
       "      <th>children</th>\n",
       "      <th>Claim_Amount</th>\n",
       "      <th>past_consultations</th>\n",
       "      <th>Hospital_expenditure</th>\n",
       "      <th>Anual_Salary</th>\n",
       "    </tr>\n",
       "  </thead>\n",
       "  <tbody>\n",
       "    <tr>\n",
       "      <th>969</th>\n",
       "      <td>0.0</td>\n",
       "      <td>24827.43078</td>\n",
       "      <td>8.0</td>\n",
       "      <td>1.214312e+07</td>\n",
       "      <td>2.928227e+08</td>\n",
       "    </tr>\n",
       "    <tr>\n",
       "      <th>150</th>\n",
       "      <td>0.0</td>\n",
       "      <td>41589.95664</td>\n",
       "      <td>20.0</td>\n",
       "      <td>3.126146e+06</td>\n",
       "      <td>2.276322e+07</td>\n",
       "    </tr>\n",
       "    <tr>\n",
       "      <th>512</th>\n",
       "      <td>1.0</td>\n",
       "      <td>41827.76441</td>\n",
       "      <td>21.0</td>\n",
       "      <td>3.210070e+06</td>\n",
       "      <td>1.200297e+08</td>\n",
       "    </tr>\n",
       "    <tr>\n",
       "      <th>159</th>\n",
       "      <td>1.0</td>\n",
       "      <td>33699.89171</td>\n",
       "      <td>16.0</td>\n",
       "      <td>8.864018e+06</td>\n",
       "      <td>7.050630e+07</td>\n",
       "    </tr>\n",
       "    <tr>\n",
       "      <th>280</th>\n",
       "      <td>1.0</td>\n",
       "      <td>23282.86667</td>\n",
       "      <td>9.0</td>\n",
       "      <td>1.774925e+06</td>\n",
       "      <td>8.265115e+07</td>\n",
       "    </tr>\n",
       "    <tr>\n",
       "      <th>...</th>\n",
       "      <td>...</td>\n",
       "      <td>...</td>\n",
       "      <td>...</td>\n",
       "      <td>...</td>\n",
       "      <td>...</td>\n",
       "    </tr>\n",
       "    <tr>\n",
       "      <th>1029</th>\n",
       "      <td>0.0</td>\n",
       "      <td>51178.09811</td>\n",
       "      <td>20.0</td>\n",
       "      <td>8.528747e+06</td>\n",
       "      <td>3.504584e+08</td>\n",
       "    </tr>\n",
       "    <tr>\n",
       "      <th>235</th>\n",
       "      <td>0.0</td>\n",
       "      <td>18767.94647</td>\n",
       "      <td>15.0</td>\n",
       "      <td>2.247799e+06</td>\n",
       "      <td>2.946028e+07</td>\n",
       "    </tr>\n",
       "    <tr>\n",
       "      <th>657</th>\n",
       "      <td>5.0</td>\n",
       "      <td>10176.26227</td>\n",
       "      <td>8.0</td>\n",
       "      <td>7.225558e+06</td>\n",
       "      <td>9.606326e+07</td>\n",
       "    </tr>\n",
       "    <tr>\n",
       "      <th>401</th>\n",
       "      <td>1.0</td>\n",
       "      <td>21406.64866</td>\n",
       "      <td>12.0</td>\n",
       "      <td>3.036738e+06</td>\n",
       "      <td>3.303909e+07</td>\n",
       "    </tr>\n",
       "    <tr>\n",
       "      <th>486</th>\n",
       "      <td>3.0</td>\n",
       "      <td>47348.03370</td>\n",
       "      <td>10.0</td>\n",
       "      <td>6.034962e+06</td>\n",
       "      <td>5.093163e+07</td>\n",
       "    </tr>\n",
       "  </tbody>\n",
       "</table>\n",
       "<p>721 rows × 5 columns</p>\n",
       "</div>"
      ],
      "text/plain": [
       "      children  Claim_Amount  past_consultations  Hospital_expenditure  \\\n",
       "969        0.0   24827.43078                 8.0          1.214312e+07   \n",
       "150        0.0   41589.95664                20.0          3.126146e+06   \n",
       "512        1.0   41827.76441                21.0          3.210070e+06   \n",
       "159        1.0   33699.89171                16.0          8.864018e+06   \n",
       "280        1.0   23282.86667                 9.0          1.774925e+06   \n",
       "...        ...           ...                 ...                   ...   \n",
       "1029       0.0   51178.09811                20.0          8.528747e+06   \n",
       "235        0.0   18767.94647                15.0          2.247799e+06   \n",
       "657        5.0   10176.26227                 8.0          7.225558e+06   \n",
       "401        1.0   21406.64866                12.0          3.036738e+06   \n",
       "486        3.0   47348.03370                10.0          6.034962e+06   \n",
       "\n",
       "      Anual_Salary  \n",
       "969   2.928227e+08  \n",
       "150   2.276322e+07  \n",
       "512   1.200297e+08  \n",
       "159   7.050630e+07  \n",
       "280   8.265115e+07  \n",
       "...            ...  \n",
       "1029  3.504584e+08  \n",
       "235   2.946028e+07  \n",
       "657   9.606326e+07  \n",
       "401   3.303909e+07  \n",
       "486   5.093163e+07  \n",
       "\n",
       "[721 rows x 5 columns]"
      ]
     },
     "execution_count": 48,
     "metadata": {},
     "output_type": "execute_result"
    }
   ],
   "source": [
    "x_train"
   ]
  },
  {
   "cell_type": "code",
   "execution_count": 49,
   "id": "d13f059b",
   "metadata": {},
   "outputs": [
    {
     "data": {
      "text/plain": [
       "969     14449.85440\n",
       "150      2498.41440\n",
       "512      7152.67140\n",
       "159      2639.04290\n",
       "280      4151.02870\n",
       "           ...     \n",
       "1029    18246.49550\n",
       "235      3558.62025\n",
       "657      9222.40260\n",
       "401      5484.46730\n",
       "486      6753.03800\n",
       "Name: charges, Length: 721, dtype: float64"
      ]
     },
     "execution_count": 49,
     "metadata": {},
     "output_type": "execute_result"
    }
   ],
   "source": [
    "y_train"
   ]
  },
  {
   "cell_type": "code",
   "execution_count": 50,
   "id": "865532ab",
   "metadata": {},
   "outputs": [],
   "source": [
    "from sklearn.linear_model import LinearRegression"
   ]
  },
  {
   "cell_type": "code",
   "execution_count": 51,
   "id": "0fc8dd27",
   "metadata": {},
   "outputs": [],
   "source": [
    "li_model=LinearRegression()"
   ]
  },
  {
   "cell_type": "code",
   "execution_count": 52,
   "id": "d16bb957",
   "metadata": {},
   "outputs": [
    {
     "data": {
      "text/plain": [
       "LinearRegression()"
      ]
     },
     "execution_count": 52,
     "metadata": {},
     "output_type": "execute_result"
    }
   ],
   "source": [
    "li_model"
   ]
  },
  {
   "cell_type": "code",
   "execution_count": 53,
   "id": "0f5a1c8d",
   "metadata": {},
   "outputs": [
    {
     "data": {
      "text/plain": [
       "LinearRegression()"
      ]
     },
     "execution_count": 53,
     "metadata": {},
     "output_type": "execute_result"
    }
   ],
   "source": [
    "# Fitting of Training data\n",
    "li_model.fit(x_train,y_train)"
   ]
  },
  {
   "cell_type": "code",
   "execution_count": 54,
   "id": "4a808d22",
   "metadata": {},
   "outputs": [],
   "source": [
    "# Prediction \n",
    "\n",
    "pred_y=li_model.predict(x_test)"
   ]
  },
  {
   "cell_type": "code",
   "execution_count": 55,
   "id": "09f72004",
   "metadata": {},
   "outputs": [
    {
     "data": {
      "text/plain": [
       "array([ 9192.76356201,  7958.75960493,  8033.96011965,  2810.3850915 ,\n",
       "        9027.0144242 ,  8236.96614444,  7680.19165442,  6789.61414066,\n",
       "        3588.40913792,  1972.84852718,  6420.8565884 ,  2768.43501767,\n",
       "        8686.56609183, 17074.15904971,  7352.97064427, 15146.77287481,\n",
       "        6956.37632145, 18646.45997506, 10235.66663533,  6504.11218123,\n",
       "        6754.26162695,  4345.03720524, 10422.89961042,  3761.10515555,\n",
       "        2755.35029334,  7232.49564568,  7361.8805728 ,  6273.43149023,\n",
       "        5466.20429462,  6082.29398875,  6901.51316254, 16450.75238109,\n",
       "       11356.86773335, 10247.27301319,  7473.13881881,  3027.17834319,\n",
       "        1948.56571087,  5478.93095694,  7867.48881012, 10612.83721589,\n",
       "        4519.10706418,  4732.09887722,  5552.66322684,  2420.80635145,\n",
       "        2586.0765823 ,  5951.44415976,  5303.82766607,  5865.22904259,\n",
       "        9439.57025781,  5553.14261525,  5642.79409063, 14128.73330201,\n",
       "       10062.97064088,  5448.87645119, 11788.56971962,  8248.47756853,\n",
       "       11127.65578223,  7673.16023052, 11967.3611952 ,  5260.08641187,\n",
       "       13352.08910037,  7326.57773686,  5259.62743587,  5419.5525314 ,\n",
       "        9097.28179579,  2490.28239783,  5578.25705286,  7032.6627976 ,\n",
       "        9012.29265327,  5052.73774282,  4192.41135089, 13826.08384503,\n",
       "       15810.96042463, 10586.63474177,  4069.04517522,  4333.10598765,\n",
       "        3233.88346486,  5655.69411909,  6408.22554678,  5328.94569878,\n",
       "        7695.46470025,  7786.16617268,  5093.29492479,  7182.01702925,\n",
       "       11906.73204518,  4960.36714609,  6218.86034285,  4124.87009634,\n",
       "        7223.2791248 ,  6302.30759387,  5708.14700426,  3221.36124805,\n",
       "        3676.88186481,  4443.04278905,  2712.77637523,  8842.00454998,\n",
       "        3857.56225353, 15072.66719665, 18864.30285053,  1853.6069934 ,\n",
       "        4259.9783544 ,  7770.56905639, 11186.11401223, 11134.52065282,\n",
       "        5768.06488541,  6983.27267323,  1798.99356755, 15439.00084359,\n",
       "       18504.62992731,  7044.32886753, 10805.83369126,  5506.23077076,\n",
       "       14005.39596395, 16295.45377283,  4492.48808152,  5205.17537936,\n",
       "       12077.25246356,  4184.34032167,  1710.78980247,  5695.21073125,\n",
       "        5111.89837235, 11323.61389237,  3828.28777015,  9644.75186048,\n",
       "        2690.25723229,  7474.91109343,  7360.82946959,  5653.79432282,\n",
       "        9630.5283219 ,  7927.24004675,  5629.62281119, 11261.60170608,\n",
       "       10015.75399408, 12189.14280049,  6198.34251646,  5432.5647857 ,\n",
       "        6329.94346359,  2194.47622565,  9349.47614837,  4016.30633031,\n",
       "        7546.23152871,  3765.52347335,  6144.29706972,  1953.01201211,\n",
       "        4766.00007907,  8893.7976954 , 10757.67519309, 10323.95286085,\n",
       "       13819.68055452,  7631.95067123,  2318.12340578, 10420.44161851,\n",
       "       17572.27364812,  2290.12879437, 13272.79586644,  5031.44127844,\n",
       "        6309.56763554,  4752.91243044,  5236.9103551 ,  6890.07836987,\n",
       "       13758.99955738,  5485.53478891, 12494.81447493, 11052.96425512,\n",
       "        4096.53874288, 18704.05808714,  2634.46221283,  7045.65475093,\n",
       "        6628.84470882,  7097.13782087, 16369.53263964,  6183.10693839,\n",
       "        6045.52800031,  3804.48104017,  4654.55564843,  5258.77354128,\n",
       "        9123.56616678,  5783.19903606, 14232.27941413,  5560.92227588,\n",
       "        7662.81866096,  8316.87346298,  7974.90247658,  8774.49249409,\n",
       "        8927.2885251 ,  6514.1147932 ,  9504.14870316,  6000.17219181,\n",
       "        2141.65283026,  2776.90294996,  9893.74233694,  4954.19040496,\n",
       "        7535.43677012, 12788.51797902,  4813.01421755,  4887.09512333,\n",
       "        6091.90347107,  4489.78133912,  9611.62058439,  7255.78926271,\n",
       "       10059.89224386,  9693.96036122,  4630.302572  , 10634.64990005,\n",
       "       10914.00513919, 12027.02138936,  6996.0397743 , 17861.64451947,\n",
       "        7300.95683588,  6148.60912573,  4762.61872708,  2080.10259564,\n",
       "        2651.61557124,  4300.98858345,  9901.44919537,  9828.95459307,\n",
       "       13517.76621638,  7524.67332895, 10407.22762158,  8972.10234359,\n",
       "        3172.98983965, 10273.45016749,  7159.19107497,  6243.49518805,\n",
       "       10289.03121103, 12159.52695669, 10717.70875198,  6007.037108  ,\n",
       "        5987.70845644,  9517.47199267,  5067.46521156,  7079.35982776,\n",
       "        4742.69377421,  4938.56747216,  7089.95630328,  4429.23521461,\n",
       "        3841.96897238, 10791.7573266 ,  6171.4764271 ,  2061.07592118,\n",
       "       12138.28387699,  7679.79630418,  2159.77267068,  9340.56339291,\n",
       "        1730.39925996,  5376.49937564,  8528.49559272,  4809.91574368,\n",
       "        7430.19536077,  3033.73110283,  9413.10524389,  4022.72687921,\n",
       "        5950.6980621 ,  7763.99067785,  6665.45113324,  9359.45832685,\n",
       "        8558.71916859,  5267.46591601,  8459.76235072,  3793.42450254,\n",
       "        5982.77088662,  6322.20369264,  1720.48360114,  6230.0981253 ,\n",
       "        8861.72453376,  3739.21741919,  3203.90696608,  9837.40270555,\n",
       "        5704.5975911 ,  4990.26274528,  4231.06989608,  6105.9853759 ,\n",
       "        6837.39200428, 10420.42003765, 17838.7732197 ,  4397.41108629,\n",
       "        5296.10818618,  5618.21234336,  8472.59427796,  3541.50090799,\n",
       "        7452.94437296,  8274.63271819, 14541.11678066, 18456.67327175,\n",
       "       15403.32910709,  4849.75411002,  3547.38408406,  6165.08874427,\n",
       "        5159.20176195,  8121.08779234,  4070.62365816,  7333.34504944,\n",
       "        7227.95888923, 11520.39206137, 12269.70641582,  5488.15148229,\n",
       "       11757.02122072,  5409.09519417,  4484.90954248,  7520.63673149,\n",
       "        9705.85314895,  8131.62380962,  5795.77063756, 10344.76306493,\n",
       "       14806.5242419 ,  2576.28911531,  7137.09189699,  9495.63649349,\n",
       "       10408.99250053])"
      ]
     },
     "execution_count": 55,
     "metadata": {},
     "output_type": "execute_result"
    }
   ],
   "source": [
    "pred_y"
   ]
  },
  {
   "cell_type": "code",
   "execution_count": 56,
   "id": "5c7cb006",
   "metadata": {},
   "outputs": [
    {
     "data": {
      "text/plain": [
       "683     9583.89330\n",
       "383     5325.65100\n",
       "485     6748.59120\n",
       "104     2134.90150\n",
       "643     8964.06055\n",
       "          ...     \n",
       "993    16085.12750\n",
       "174     2755.02095\n",
       "467     6500.23590\n",
       "614     8551.34700\n",
       "661     9282.48060\n",
       "Name: charges, Length: 309, dtype: float64"
      ]
     },
     "execution_count": 56,
     "metadata": {},
     "output_type": "execute_result"
    }
   ],
   "source": [
    "y_test"
   ]
  },
  {
   "cell_type": "code",
   "execution_count": 57,
   "id": "c20b1798",
   "metadata": {},
   "outputs": [],
   "source": [
    "from sklearn.metrics import mean_absolute_percentage_error"
   ]
  },
  {
   "cell_type": "code",
   "execution_count": 58,
   "id": "5c40c535",
   "metadata": {},
   "outputs": [],
   "source": [
    "mape=mean_absolute_percentage_error(pred_y,y_test)"
   ]
  },
  {
   "cell_type": "code",
   "execution_count": 59,
   "id": "cd009585",
   "metadata": {},
   "outputs": [
    {
     "name": "stdout",
     "output_type": "stream",
     "text": [
      "0.24312691945943496\n"
     ]
    }
   ],
   "source": [
    "print(mape)"
   ]
  },
  {
   "cell_type": "code",
   "execution_count": 60,
   "id": "cd5dd25b",
   "metadata": {},
   "outputs": [
    {
     "ename": "SyntaxError",
     "evalue": "invalid syntax (966145817.py, line 1)",
     "output_type": "error",
     "traceback": [
      "\u001b[1;36m  Input \u001b[1;32mIn [60]\u001b[1;36m\u001b[0m\n\u001b[1;33m    that means that the accuracy is (100-0.243126)% is the accuracy\u001b[0m\n\u001b[1;37m         ^\u001b[0m\n\u001b[1;31mSyntaxError\u001b[0m\u001b[1;31m:\u001b[0m invalid syntax\n"
     ]
    }
   ],
   "source": [
    "that means that the accuracy is (100-0.243126)% is the accuracy"
   ]
  },
  {
   "cell_type": "code",
   "execution_count": null,
   "id": "11e5f541",
   "metadata": {},
   "outputs": [],
   "source": []
  },
  {
   "cell_type": "code",
   "execution_count": null,
   "id": "4ee064e4",
   "metadata": {},
   "outputs": [],
   "source": []
  },
  {
   "cell_type": "code",
   "execution_count": null,
   "id": "31bc2be7",
   "metadata": {},
   "outputs": [],
   "source": []
  }
 ],
 "metadata": {
  "kernelspec": {
   "display_name": "Python 3 (ipykernel)",
   "language": "python",
   "name": "python3"
  },
  "language_info": {
   "codemirror_mode": {
    "name": "ipython",
    "version": 3
   },
   "file_extension": ".py",
   "mimetype": "text/x-python",
   "name": "python",
   "nbconvert_exporter": "python",
   "pygments_lexer": "ipython3",
   "version": "3.9.12"
  }
 },
 "nbformat": 4,
 "nbformat_minor": 5
}
