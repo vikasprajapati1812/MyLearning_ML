{
 "cells": [
  {
   "cell_type": "code",
   "execution_count": 1,
   "id": "b56ac858",
   "metadata": {},
   "outputs": [],
   "source": [
    "import pandas as pd\n",
    "import numpy as np\n",
    "import seaborn as sns\n",
    "import matplotlib.pyplot as plt"
   ]
  },
  {
   "cell_type": "raw",
   "id": "41734b67",
   "metadata": {},
   "source": [
    "Problem Statement:\n",
    "\n",
    "1. Pokémon is a group of adorable creatures peacefully colonizing a planet until\n",
    "humans come along and make them combat each other in order to get shiny\n",
    "badges and we can call them Pokémon masters.\n",
    "\n",
    "2. In this universe, there exists a group of rare and often strong Pokémon,\n",
    "known as Legendary Pokémon. Unfortunately, there are no detailed criteria\n",
    "that define these Pokémon.\n",
    "\n",
    "3. The only way to recognize a Legendary Pokémon is through information from\n",
    "official media, such as the game or anime.\n",
    "\n",
    "4. This data set includes 721 Pokemon, including their number, name, first and\n",
    "second type, and basic stats: HP, Attack, Defense, Special Attack, Special\n",
    "Defense, and Speed. The legend of a pokemon cannot be suspected only by\n",
    "its Attack and Defense. It would be worth finding which variables can define\n",
    "the legend of a pokemon. The strategy is to analyze the data and perform a\n",
    "predictive task of classification to predict the legend of a pokemon using a\n",
    "decision tree algorithm"
   ]
  },
  {
   "cell_type": "raw",
   "id": "1b09c901",
   "metadata": {},
   "source": [
    "Data Description:\n",
    "           Column Names                       Description\n",
    "ID                               ID of each Pokemon\n",
    "Name                             Name of each Pokemon\n",
    "Type 1                           Each Pokemon has a type, determines weakness/resistance to attacks\n",
    "Type 2                           Some Pokemon are dual type and have 2\n",
    "Total                            sum of all stats that come after this, a\n",
    "                                    general guide to how strong a Pokemon is\n",
    "HP                               hit points, or health, defines how much damage a \n",
    "                                    Pokemon can withstand  before fainting\n",
    "    \n",
    "Attack                           the base modifier for normal attacks (eg. Scratch, Punch)\n",
    "Defense                          the base damage resistance against normal attacks\n",
    "SP Atk                           special attack, the base modifier for special attacks                                                                            (e.g. fire blast, bubble beam)\n",
    "                                                \n",
    "SP Def                           the base damage resistance against special attacks\n",
    "Speed                            determines which Pokemon attacks first each round\n",
    "Generation                       type of generation of the Pokemon\n",
    "Legendary                        Rare Pokemon\n"
   ]
  },
  {
   "cell_type": "code",
   "execution_count": 2,
   "id": "bd5376b9",
   "metadata": {},
   "outputs": [],
   "source": [
    "pokemon=pd.read_csv(\"D:\\Assignment (NUmpy,Visualisation, MOdels)\\Pokemon.csv\",skipinitialspace=True,na_values=\"?\",encoding=\"latin-1\") "
   ]
  },
  {
   "cell_type": "code",
   "execution_count": 3,
   "id": "641f1c01",
   "metadata": {},
   "outputs": [
    {
     "data": {
      "text/html": [
       "<div>\n",
       "<style scoped>\n",
       "    .dataframe tbody tr th:only-of-type {\n",
       "        vertical-align: middle;\n",
       "    }\n",
       "\n",
       "    .dataframe tbody tr th {\n",
       "        vertical-align: top;\n",
       "    }\n",
       "\n",
       "    .dataframe thead th {\n",
       "        text-align: right;\n",
       "    }\n",
       "</style>\n",
       "<table border=\"1\" class=\"dataframe\">\n",
       "  <thead>\n",
       "    <tr style=\"text-align: right;\">\n",
       "      <th></th>\n",
       "      <th>#</th>\n",
       "      <th>Name</th>\n",
       "      <th>Type 1</th>\n",
       "      <th>Type 2</th>\n",
       "      <th>Total</th>\n",
       "      <th>HP</th>\n",
       "      <th>Attack</th>\n",
       "      <th>Defense</th>\n",
       "      <th>Sp. Atk</th>\n",
       "      <th>Sp. Def</th>\n",
       "      <th>Speed</th>\n",
       "      <th>Generation</th>\n",
       "      <th>Legendary</th>\n",
       "    </tr>\n",
       "  </thead>\n",
       "  <tbody>\n",
       "    <tr>\n",
       "      <th>0</th>\n",
       "      <td>1</td>\n",
       "      <td>Bulbasaur</td>\n",
       "      <td>Grass</td>\n",
       "      <td>Poison</td>\n",
       "      <td>318</td>\n",
       "      <td>45</td>\n",
       "      <td>49</td>\n",
       "      <td>49</td>\n",
       "      <td>65</td>\n",
       "      <td>65</td>\n",
       "      <td>45</td>\n",
       "      <td>1</td>\n",
       "      <td>False</td>\n",
       "    </tr>\n",
       "    <tr>\n",
       "      <th>1</th>\n",
       "      <td>2</td>\n",
       "      <td>Ivysaur</td>\n",
       "      <td>Grass</td>\n",
       "      <td>Poison</td>\n",
       "      <td>405</td>\n",
       "      <td>60</td>\n",
       "      <td>62</td>\n",
       "      <td>63</td>\n",
       "      <td>80</td>\n",
       "      <td>80</td>\n",
       "      <td>60</td>\n",
       "      <td>1</td>\n",
       "      <td>False</td>\n",
       "    </tr>\n",
       "    <tr>\n",
       "      <th>2</th>\n",
       "      <td>3</td>\n",
       "      <td>Venusaur</td>\n",
       "      <td>Grass</td>\n",
       "      <td>Poison</td>\n",
       "      <td>525</td>\n",
       "      <td>80</td>\n",
       "      <td>82</td>\n",
       "      <td>83</td>\n",
       "      <td>100</td>\n",
       "      <td>100</td>\n",
       "      <td>80</td>\n",
       "      <td>1</td>\n",
       "      <td>False</td>\n",
       "    </tr>\n",
       "    <tr>\n",
       "      <th>3</th>\n",
       "      <td>3</td>\n",
       "      <td>VenusaurMega Venusaur</td>\n",
       "      <td>Grass</td>\n",
       "      <td>Poison</td>\n",
       "      <td>625</td>\n",
       "      <td>80</td>\n",
       "      <td>100</td>\n",
       "      <td>123</td>\n",
       "      <td>122</td>\n",
       "      <td>120</td>\n",
       "      <td>80</td>\n",
       "      <td>1</td>\n",
       "      <td>False</td>\n",
       "    </tr>\n",
       "    <tr>\n",
       "      <th>4</th>\n",
       "      <td>4</td>\n",
       "      <td>Charmander</td>\n",
       "      <td>Fire</td>\n",
       "      <td>NaN</td>\n",
       "      <td>309</td>\n",
       "      <td>39</td>\n",
       "      <td>52</td>\n",
       "      <td>43</td>\n",
       "      <td>60</td>\n",
       "      <td>50</td>\n",
       "      <td>65</td>\n",
       "      <td>1</td>\n",
       "      <td>False</td>\n",
       "    </tr>\n",
       "    <tr>\n",
       "      <th>...</th>\n",
       "      <td>...</td>\n",
       "      <td>...</td>\n",
       "      <td>...</td>\n",
       "      <td>...</td>\n",
       "      <td>...</td>\n",
       "      <td>...</td>\n",
       "      <td>...</td>\n",
       "      <td>...</td>\n",
       "      <td>...</td>\n",
       "      <td>...</td>\n",
       "      <td>...</td>\n",
       "      <td>...</td>\n",
       "      <td>...</td>\n",
       "    </tr>\n",
       "    <tr>\n",
       "      <th>795</th>\n",
       "      <td>719</td>\n",
       "      <td>Diancie</td>\n",
       "      <td>Rock</td>\n",
       "      <td>Fairy</td>\n",
       "      <td>600</td>\n",
       "      <td>50</td>\n",
       "      <td>100</td>\n",
       "      <td>150</td>\n",
       "      <td>100</td>\n",
       "      <td>150</td>\n",
       "      <td>50</td>\n",
       "      <td>6</td>\n",
       "      <td>True</td>\n",
       "    </tr>\n",
       "    <tr>\n",
       "      <th>796</th>\n",
       "      <td>719</td>\n",
       "      <td>DiancieMega Diancie</td>\n",
       "      <td>Rock</td>\n",
       "      <td>Fairy</td>\n",
       "      <td>700</td>\n",
       "      <td>50</td>\n",
       "      <td>160</td>\n",
       "      <td>110</td>\n",
       "      <td>160</td>\n",
       "      <td>110</td>\n",
       "      <td>110</td>\n",
       "      <td>6</td>\n",
       "      <td>True</td>\n",
       "    </tr>\n",
       "    <tr>\n",
       "      <th>797</th>\n",
       "      <td>720</td>\n",
       "      <td>HoopaHoopa Confined</td>\n",
       "      <td>Psychic</td>\n",
       "      <td>Ghost</td>\n",
       "      <td>600</td>\n",
       "      <td>80</td>\n",
       "      <td>110</td>\n",
       "      <td>60</td>\n",
       "      <td>150</td>\n",
       "      <td>130</td>\n",
       "      <td>70</td>\n",
       "      <td>6</td>\n",
       "      <td>True</td>\n",
       "    </tr>\n",
       "    <tr>\n",
       "      <th>798</th>\n",
       "      <td>720</td>\n",
       "      <td>HoopaHoopa Unbound</td>\n",
       "      <td>Psychic</td>\n",
       "      <td>Dark</td>\n",
       "      <td>680</td>\n",
       "      <td>80</td>\n",
       "      <td>160</td>\n",
       "      <td>60</td>\n",
       "      <td>170</td>\n",
       "      <td>130</td>\n",
       "      <td>80</td>\n",
       "      <td>6</td>\n",
       "      <td>True</td>\n",
       "    </tr>\n",
       "    <tr>\n",
       "      <th>799</th>\n",
       "      <td>721</td>\n",
       "      <td>Volcanion</td>\n",
       "      <td>Fire</td>\n",
       "      <td>Water</td>\n",
       "      <td>600</td>\n",
       "      <td>80</td>\n",
       "      <td>110</td>\n",
       "      <td>120</td>\n",
       "      <td>130</td>\n",
       "      <td>90</td>\n",
       "      <td>70</td>\n",
       "      <td>6</td>\n",
       "      <td>True</td>\n",
       "    </tr>\n",
       "  </tbody>\n",
       "</table>\n",
       "<p>800 rows × 13 columns</p>\n",
       "</div>"
      ],
      "text/plain": [
       "       #                   Name   Type 1  Type 2  Total  HP  Attack  Defense  \\\n",
       "0      1              Bulbasaur    Grass  Poison    318  45      49       49   \n",
       "1      2                Ivysaur    Grass  Poison    405  60      62       63   \n",
       "2      3               Venusaur    Grass  Poison    525  80      82       83   \n",
       "3      3  VenusaurMega Venusaur    Grass  Poison    625  80     100      123   \n",
       "4      4             Charmander     Fire     NaN    309  39      52       43   \n",
       "..   ...                    ...      ...     ...    ...  ..     ...      ...   \n",
       "795  719                Diancie     Rock   Fairy    600  50     100      150   \n",
       "796  719    DiancieMega Diancie     Rock   Fairy    700  50     160      110   \n",
       "797  720    HoopaHoopa Confined  Psychic   Ghost    600  80     110       60   \n",
       "798  720     HoopaHoopa Unbound  Psychic    Dark    680  80     160       60   \n",
       "799  721              Volcanion     Fire   Water    600  80     110      120   \n",
       "\n",
       "     Sp. Atk  Sp. Def  Speed  Generation  Legendary  \n",
       "0         65       65     45           1      False  \n",
       "1         80       80     60           1      False  \n",
       "2        100      100     80           1      False  \n",
       "3        122      120     80           1      False  \n",
       "4         60       50     65           1      False  \n",
       "..       ...      ...    ...         ...        ...  \n",
       "795      100      150     50           6       True  \n",
       "796      160      110    110           6       True  \n",
       "797      150      130     70           6       True  \n",
       "798      170      130     80           6       True  \n",
       "799      130       90     70           6       True  \n",
       "\n",
       "[800 rows x 13 columns]"
      ]
     },
     "execution_count": 3,
     "metadata": {},
     "output_type": "execute_result"
    }
   ],
   "source": [
    "pokemon"
   ]
  },
  {
   "cell_type": "code",
   "execution_count": 4,
   "id": "6efaf7a1",
   "metadata": {},
   "outputs": [],
   "source": [
    "pokemon=pokemon.rename({\"#\":\"ID\"},axis=1)"
   ]
  },
  {
   "cell_type": "code",
   "execution_count": 5,
   "id": "a1b2e802",
   "metadata": {},
   "outputs": [
    {
     "data": {
      "text/html": [
       "<div>\n",
       "<style scoped>\n",
       "    .dataframe tbody tr th:only-of-type {\n",
       "        vertical-align: middle;\n",
       "    }\n",
       "\n",
       "    .dataframe tbody tr th {\n",
       "        vertical-align: top;\n",
       "    }\n",
       "\n",
       "    .dataframe thead th {\n",
       "        text-align: right;\n",
       "    }\n",
       "</style>\n",
       "<table border=\"1\" class=\"dataframe\">\n",
       "  <thead>\n",
       "    <tr style=\"text-align: right;\">\n",
       "      <th></th>\n",
       "      <th>ID</th>\n",
       "      <th>Name</th>\n",
       "      <th>Type 1</th>\n",
       "      <th>Type 2</th>\n",
       "      <th>Total</th>\n",
       "      <th>HP</th>\n",
       "      <th>Attack</th>\n",
       "      <th>Defense</th>\n",
       "      <th>Sp. Atk</th>\n",
       "      <th>Sp. Def</th>\n",
       "      <th>Speed</th>\n",
       "      <th>Generation</th>\n",
       "      <th>Legendary</th>\n",
       "    </tr>\n",
       "  </thead>\n",
       "  <tbody>\n",
       "    <tr>\n",
       "      <th>0</th>\n",
       "      <td>1</td>\n",
       "      <td>Bulbasaur</td>\n",
       "      <td>Grass</td>\n",
       "      <td>Poison</td>\n",
       "      <td>318</td>\n",
       "      <td>45</td>\n",
       "      <td>49</td>\n",
       "      <td>49</td>\n",
       "      <td>65</td>\n",
       "      <td>65</td>\n",
       "      <td>45</td>\n",
       "      <td>1</td>\n",
       "      <td>False</td>\n",
       "    </tr>\n",
       "    <tr>\n",
       "      <th>1</th>\n",
       "      <td>2</td>\n",
       "      <td>Ivysaur</td>\n",
       "      <td>Grass</td>\n",
       "      <td>Poison</td>\n",
       "      <td>405</td>\n",
       "      <td>60</td>\n",
       "      <td>62</td>\n",
       "      <td>63</td>\n",
       "      <td>80</td>\n",
       "      <td>80</td>\n",
       "      <td>60</td>\n",
       "      <td>1</td>\n",
       "      <td>False</td>\n",
       "    </tr>\n",
       "    <tr>\n",
       "      <th>2</th>\n",
       "      <td>3</td>\n",
       "      <td>Venusaur</td>\n",
       "      <td>Grass</td>\n",
       "      <td>Poison</td>\n",
       "      <td>525</td>\n",
       "      <td>80</td>\n",
       "      <td>82</td>\n",
       "      <td>83</td>\n",
       "      <td>100</td>\n",
       "      <td>100</td>\n",
       "      <td>80</td>\n",
       "      <td>1</td>\n",
       "      <td>False</td>\n",
       "    </tr>\n",
       "    <tr>\n",
       "      <th>3</th>\n",
       "      <td>3</td>\n",
       "      <td>VenusaurMega Venusaur</td>\n",
       "      <td>Grass</td>\n",
       "      <td>Poison</td>\n",
       "      <td>625</td>\n",
       "      <td>80</td>\n",
       "      <td>100</td>\n",
       "      <td>123</td>\n",
       "      <td>122</td>\n",
       "      <td>120</td>\n",
       "      <td>80</td>\n",
       "      <td>1</td>\n",
       "      <td>False</td>\n",
       "    </tr>\n",
       "    <tr>\n",
       "      <th>4</th>\n",
       "      <td>4</td>\n",
       "      <td>Charmander</td>\n",
       "      <td>Fire</td>\n",
       "      <td>NaN</td>\n",
       "      <td>309</td>\n",
       "      <td>39</td>\n",
       "      <td>52</td>\n",
       "      <td>43</td>\n",
       "      <td>60</td>\n",
       "      <td>50</td>\n",
       "      <td>65</td>\n",
       "      <td>1</td>\n",
       "      <td>False</td>\n",
       "    </tr>\n",
       "  </tbody>\n",
       "</table>\n",
       "</div>"
      ],
      "text/plain": [
       "   ID                   Name Type 1  Type 2  Total  HP  Attack  Defense  \\\n",
       "0   1              Bulbasaur  Grass  Poison    318  45      49       49   \n",
       "1   2                Ivysaur  Grass  Poison    405  60      62       63   \n",
       "2   3               Venusaur  Grass  Poison    525  80      82       83   \n",
       "3   3  VenusaurMega Venusaur  Grass  Poison    625  80     100      123   \n",
       "4   4             Charmander   Fire     NaN    309  39      52       43   \n",
       "\n",
       "   Sp. Atk  Sp. Def  Speed  Generation  Legendary  \n",
       "0       65       65     45           1      False  \n",
       "1       80       80     60           1      False  \n",
       "2      100      100     80           1      False  \n",
       "3      122      120     80           1      False  \n",
       "4       60       50     65           1      False  "
      ]
     },
     "execution_count": 5,
     "metadata": {},
     "output_type": "execute_result"
    }
   ],
   "source": [
    "pokemon.head()"
   ]
  },
  {
   "cell_type": "code",
   "execution_count": 6,
   "id": "0eabfb67",
   "metadata": {},
   "outputs": [
    {
     "data": {
      "text/plain": [
       "ID              0\n",
       "Name            0\n",
       "Type 1          0\n",
       "Type 2        386\n",
       "Total           0\n",
       "HP              0\n",
       "Attack          0\n",
       "Defense         0\n",
       "Sp. Atk         0\n",
       "Sp. Def         0\n",
       "Speed           0\n",
       "Generation      0\n",
       "Legendary       0\n",
       "dtype: int64"
      ]
     },
     "execution_count": 6,
     "metadata": {},
     "output_type": "execute_result"
    }
   ],
   "source": [
    "pokemon.isnull().sum()"
   ]
  },
  {
   "cell_type": "code",
   "execution_count": 7,
   "id": "ade286d3",
   "metadata": {},
   "outputs": [
    {
     "name": "stdout",
     "output_type": "stream",
     "text": [
      "<class 'pandas.core.frame.DataFrame'>\n",
      "RangeIndex: 800 entries, 0 to 799\n",
      "Data columns (total 13 columns):\n",
      " #   Column      Non-Null Count  Dtype \n",
      "---  ------      --------------  ----- \n",
      " 0   ID          800 non-null    int64 \n",
      " 1   Name        800 non-null    object\n",
      " 2   Type 1      800 non-null    object\n",
      " 3   Type 2      414 non-null    object\n",
      " 4   Total       800 non-null    int64 \n",
      " 5   HP          800 non-null    int64 \n",
      " 6   Attack      800 non-null    int64 \n",
      " 7   Defense     800 non-null    int64 \n",
      " 8   Sp. Atk     800 non-null    int64 \n",
      " 9   Sp. Def     800 non-null    int64 \n",
      " 10  Speed       800 non-null    int64 \n",
      " 11  Generation  800 non-null    int64 \n",
      " 12  Legendary   800 non-null    bool  \n",
      "dtypes: bool(1), int64(9), object(3)\n",
      "memory usage: 75.9+ KB\n"
     ]
    }
   ],
   "source": [
    "pokemon.info()"
   ]
  },
  {
   "cell_type": "code",
   "execution_count": 8,
   "id": "6960f313",
   "metadata": {},
   "outputs": [],
   "source": [
    "pokemon[\"Type 2\"]=pokemon[\"Type 2\"].fillna(pokemon[\"Type 2\"].mode()[0])"
   ]
  },
  {
   "cell_type": "code",
   "execution_count": 9,
   "id": "1bb94cc0",
   "metadata": {},
   "outputs": [
    {
     "data": {
      "text/plain": [
       "ID            0\n",
       "Name          0\n",
       "Type 1        0\n",
       "Type 2        0\n",
       "Total         0\n",
       "HP            0\n",
       "Attack        0\n",
       "Defense       0\n",
       "Sp. Atk       0\n",
       "Sp. Def       0\n",
       "Speed         0\n",
       "Generation    0\n",
       "Legendary     0\n",
       "dtype: int64"
      ]
     },
     "execution_count": 9,
     "metadata": {},
     "output_type": "execute_result"
    }
   ],
   "source": [
    "pokemon.isnull().sum()"
   ]
  },
  {
   "cell_type": "raw",
   "id": "b532c485",
   "metadata": {},
   "source": [
    "1. How many pokemon are from the 5th generation?\n",
    "a. 178\n",
    "b. 165           # answer\n",
    "c. 150\n",
    "d. 170"
   ]
  },
  {
   "cell_type": "code",
   "execution_count": 10,
   "id": "5701c7d5",
   "metadata": {},
   "outputs": [
    {
     "data": {
      "text/plain": [
       "0    1\n",
       "1    1\n",
       "2    1\n",
       "3    1\n",
       "4    1\n",
       "Name: Generation, dtype: int64"
      ]
     },
     "execution_count": 10,
     "metadata": {},
     "output_type": "execute_result"
    }
   ],
   "source": [
    "pokemon[\"Generation\"].head()"
   ]
  },
  {
   "cell_type": "code",
   "execution_count": 11,
   "id": "9a791977",
   "metadata": {},
   "outputs": [
    {
     "data": {
      "text/plain": [
       "(165, 13)"
      ]
     },
     "execution_count": 11,
     "metadata": {},
     "output_type": "execute_result"
    }
   ],
   "source": [
    "(pokemon[pokemon[\"Generation\"]==5]).shape"
   ]
  },
  {
   "cell_type": "code",
   "execution_count": 12,
   "id": "c6e4ea95",
   "metadata": {},
   "outputs": [],
   "source": [
    "#Answer--->b. 165"
   ]
  },
  {
   "cell_type": "raw",
   "id": "6edc38be",
   "metadata": {},
   "source": [
    "2. How many pokemon have the highest defense score?\n",
    "a. 10\n",
    "b. 7\n",
    "c. 3        # answer\n",
    "d. 2"
   ]
  },
  {
   "cell_type": "code",
   "execution_count": 13,
   "id": "a339be91",
   "metadata": {},
   "outputs": [
    {
     "data": {
      "text/plain": [
       "230    230\n",
       "224    230\n",
       "333    230\n",
       "223    200\n",
       "414    200\n",
       "Name: Defense, dtype: int64"
      ]
     },
     "execution_count": 13,
     "metadata": {},
     "output_type": "execute_result"
    }
   ],
   "source": [
    "pokemon[\"Defense\"].sort_values(ascending=False).head()"
   ]
  },
  {
   "cell_type": "code",
   "execution_count": 14,
   "id": "47c09da9",
   "metadata": {},
   "outputs": [],
   "source": [
    "#Answer---->c.  3"
   ]
  },
  {
   "cell_type": "raw",
   "id": "b71c1de9",
   "metadata": {},
   "source": [
    "3. How you will be handling missing values in this dataset:\n",
    "\n",
    "a. Fill up the null values with the median.\n",
    "b. Fill up the null values with standard deviation.\n",
    "c. Fill up the null values with the mean.\n",
    "d. Fill up the null values with None.                  # LMS Answer "
   ]
  },
  {
   "cell_type": "code",
   "execution_count": 15,
   "id": "c556ce27",
   "metadata": {},
   "outputs": [],
   "source": [
    "#ANswer--->c. Fill up the null values with the mean\n",
    "# Dont Know as type2 column is filled by mode (dtype=\"Object\")         but here no any option"
   ]
  },
  {
   "cell_type": "raw",
   "id": "57cfa459",
   "metadata": {},
   "source": [
    "4. Which columns are not having any kind of relationship with the generation column?\n",
    "a. Attack\n",
    "b. Speed\n",
    "c. Both of the Above           \n",
    "d. None of the Above"
   ]
  },
  {
   "cell_type": "code",
   "execution_count": 16,
   "id": "ca4c79ac",
   "metadata": {},
   "outputs": [
    {
     "data": {
      "text/plain": [
       "ID            0.982516\n",
       "Total         0.048384\n",
       "HP            0.058683\n",
       "Attack        0.051451\n",
       "Defense       0.042419\n",
       "Sp. Atk       0.036437\n",
       "Sp. Def       0.028486\n",
       "Speed        -0.023121\n",
       "Generation    1.000000\n",
       "Legendary     0.079794\n",
       "Name: Generation, dtype: float64"
      ]
     },
     "execution_count": 16,
     "metadata": {},
     "output_type": "execute_result"
    }
   ],
   "source": [
    "pokemon.corr()[\"Generation\"]"
   ]
  },
  {
   "cell_type": "code",
   "execution_count": 17,
   "id": "8904ac60",
   "metadata": {},
   "outputs": [],
   "source": [
    "#Ansswer----> C. both of the above           \n",
    "# leaving the ID column rest has corelation of <5% dont know what to do  ??"
   ]
  },
  {
   "cell_type": "raw",
   "id": "1eebce64",
   "metadata": {},
   "source": [
    "5. Which of the following model is the best fit for predicting the legendary of the\n",
    "pokemon based on the below parameters:\n",
    "1. Handle the missing values.\n",
    "2. Split the dataset into a 70:30 ratio with random_state as 1.\n",
    "a. Linear Regression\n",
    "b. Logistic Regression\n",
    "c. Decision Tree Model\n",
    "d. Random Forest Model            #\n"
   ]
  },
  {
   "cell_type": "code",
   "execution_count": 18,
   "id": "bd80697f",
   "metadata": {},
   "outputs": [],
   "source": [
    "from sklearn.preprocessing import StandardScaler\n",
    "from sklearn.model_selection import train_test_split\n"
   ]
  },
  {
   "cell_type": "code",
   "execution_count": 19,
   "id": "e5819aca",
   "metadata": {},
   "outputs": [
    {
     "data": {
      "text/html": [
       "<div>\n",
       "<style scoped>\n",
       "    .dataframe tbody tr th:only-of-type {\n",
       "        vertical-align: middle;\n",
       "    }\n",
       "\n",
       "    .dataframe tbody tr th {\n",
       "        vertical-align: top;\n",
       "    }\n",
       "\n",
       "    .dataframe thead th {\n",
       "        text-align: right;\n",
       "    }\n",
       "</style>\n",
       "<table border=\"1\" class=\"dataframe\">\n",
       "  <thead>\n",
       "    <tr style=\"text-align: right;\">\n",
       "      <th></th>\n",
       "      <th>#</th>\n",
       "      <th>Name</th>\n",
       "      <th>Type 1</th>\n",
       "      <th>Type 2</th>\n",
       "      <th>Total</th>\n",
       "      <th>HP</th>\n",
       "      <th>Attack</th>\n",
       "      <th>Defense</th>\n",
       "      <th>Sp. Atk</th>\n",
       "      <th>Sp. Def</th>\n",
       "      <th>Speed</th>\n",
       "      <th>Generation</th>\n",
       "      <th>Legendary</th>\n",
       "    </tr>\n",
       "  </thead>\n",
       "  <tbody>\n",
       "    <tr>\n",
       "      <th>0</th>\n",
       "      <td>1</td>\n",
       "      <td>Bulbasaur</td>\n",
       "      <td>Grass</td>\n",
       "      <td>Poison</td>\n",
       "      <td>318</td>\n",
       "      <td>45</td>\n",
       "      <td>49</td>\n",
       "      <td>49</td>\n",
       "      <td>65</td>\n",
       "      <td>65</td>\n",
       "      <td>45</td>\n",
       "      <td>1</td>\n",
       "      <td>False</td>\n",
       "    </tr>\n",
       "    <tr>\n",
       "      <th>1</th>\n",
       "      <td>2</td>\n",
       "      <td>Ivysaur</td>\n",
       "      <td>Grass</td>\n",
       "      <td>Poison</td>\n",
       "      <td>405</td>\n",
       "      <td>60</td>\n",
       "      <td>62</td>\n",
       "      <td>63</td>\n",
       "      <td>80</td>\n",
       "      <td>80</td>\n",
       "      <td>60</td>\n",
       "      <td>1</td>\n",
       "      <td>False</td>\n",
       "    </tr>\n",
       "    <tr>\n",
       "      <th>2</th>\n",
       "      <td>3</td>\n",
       "      <td>Venusaur</td>\n",
       "      <td>Grass</td>\n",
       "      <td>Poison</td>\n",
       "      <td>525</td>\n",
       "      <td>80</td>\n",
       "      <td>82</td>\n",
       "      <td>83</td>\n",
       "      <td>100</td>\n",
       "      <td>100</td>\n",
       "      <td>80</td>\n",
       "      <td>1</td>\n",
       "      <td>False</td>\n",
       "    </tr>\n",
       "    <tr>\n",
       "      <th>3</th>\n",
       "      <td>3</td>\n",
       "      <td>VenusaurMega Venusaur</td>\n",
       "      <td>Grass</td>\n",
       "      <td>Poison</td>\n",
       "      <td>625</td>\n",
       "      <td>80</td>\n",
       "      <td>100</td>\n",
       "      <td>123</td>\n",
       "      <td>122</td>\n",
       "      <td>120</td>\n",
       "      <td>80</td>\n",
       "      <td>1</td>\n",
       "      <td>False</td>\n",
       "    </tr>\n",
       "    <tr>\n",
       "      <th>4</th>\n",
       "      <td>4</td>\n",
       "      <td>Charmander</td>\n",
       "      <td>Fire</td>\n",
       "      <td>NaN</td>\n",
       "      <td>309</td>\n",
       "      <td>39</td>\n",
       "      <td>52</td>\n",
       "      <td>43</td>\n",
       "      <td>60</td>\n",
       "      <td>50</td>\n",
       "      <td>65</td>\n",
       "      <td>1</td>\n",
       "      <td>False</td>\n",
       "    </tr>\n",
       "    <tr>\n",
       "      <th>...</th>\n",
       "      <td>...</td>\n",
       "      <td>...</td>\n",
       "      <td>...</td>\n",
       "      <td>...</td>\n",
       "      <td>...</td>\n",
       "      <td>...</td>\n",
       "      <td>...</td>\n",
       "      <td>...</td>\n",
       "      <td>...</td>\n",
       "      <td>...</td>\n",
       "      <td>...</td>\n",
       "      <td>...</td>\n",
       "      <td>...</td>\n",
       "    </tr>\n",
       "    <tr>\n",
       "      <th>795</th>\n",
       "      <td>719</td>\n",
       "      <td>Diancie</td>\n",
       "      <td>Rock</td>\n",
       "      <td>Fairy</td>\n",
       "      <td>600</td>\n",
       "      <td>50</td>\n",
       "      <td>100</td>\n",
       "      <td>150</td>\n",
       "      <td>100</td>\n",
       "      <td>150</td>\n",
       "      <td>50</td>\n",
       "      <td>6</td>\n",
       "      <td>True</td>\n",
       "    </tr>\n",
       "    <tr>\n",
       "      <th>796</th>\n",
       "      <td>719</td>\n",
       "      <td>DiancieMega Diancie</td>\n",
       "      <td>Rock</td>\n",
       "      <td>Fairy</td>\n",
       "      <td>700</td>\n",
       "      <td>50</td>\n",
       "      <td>160</td>\n",
       "      <td>110</td>\n",
       "      <td>160</td>\n",
       "      <td>110</td>\n",
       "      <td>110</td>\n",
       "      <td>6</td>\n",
       "      <td>True</td>\n",
       "    </tr>\n",
       "    <tr>\n",
       "      <th>797</th>\n",
       "      <td>720</td>\n",
       "      <td>HoopaHoopa Confined</td>\n",
       "      <td>Psychic</td>\n",
       "      <td>Ghost</td>\n",
       "      <td>600</td>\n",
       "      <td>80</td>\n",
       "      <td>110</td>\n",
       "      <td>60</td>\n",
       "      <td>150</td>\n",
       "      <td>130</td>\n",
       "      <td>70</td>\n",
       "      <td>6</td>\n",
       "      <td>True</td>\n",
       "    </tr>\n",
       "    <tr>\n",
       "      <th>798</th>\n",
       "      <td>720</td>\n",
       "      <td>HoopaHoopa Unbound</td>\n",
       "      <td>Psychic</td>\n",
       "      <td>Dark</td>\n",
       "      <td>680</td>\n",
       "      <td>80</td>\n",
       "      <td>160</td>\n",
       "      <td>60</td>\n",
       "      <td>170</td>\n",
       "      <td>130</td>\n",
       "      <td>80</td>\n",
       "      <td>6</td>\n",
       "      <td>True</td>\n",
       "    </tr>\n",
       "    <tr>\n",
       "      <th>799</th>\n",
       "      <td>721</td>\n",
       "      <td>Volcanion</td>\n",
       "      <td>Fire</td>\n",
       "      <td>Water</td>\n",
       "      <td>600</td>\n",
       "      <td>80</td>\n",
       "      <td>110</td>\n",
       "      <td>120</td>\n",
       "      <td>130</td>\n",
       "      <td>90</td>\n",
       "      <td>70</td>\n",
       "      <td>6</td>\n",
       "      <td>True</td>\n",
       "    </tr>\n",
       "  </tbody>\n",
       "</table>\n",
       "<p>800 rows × 13 columns</p>\n",
       "</div>"
      ],
      "text/plain": [
       "       #                   Name   Type 1  Type 2  Total  HP  Attack  Defense  \\\n",
       "0      1              Bulbasaur    Grass  Poison    318  45      49       49   \n",
       "1      2                Ivysaur    Grass  Poison    405  60      62       63   \n",
       "2      3               Venusaur    Grass  Poison    525  80      82       83   \n",
       "3      3  VenusaurMega Venusaur    Grass  Poison    625  80     100      123   \n",
       "4      4             Charmander     Fire     NaN    309  39      52       43   \n",
       "..   ...                    ...      ...     ...    ...  ..     ...      ...   \n",
       "795  719                Diancie     Rock   Fairy    600  50     100      150   \n",
       "796  719    DiancieMega Diancie     Rock   Fairy    700  50     160      110   \n",
       "797  720    HoopaHoopa Confined  Psychic   Ghost    600  80     110       60   \n",
       "798  720     HoopaHoopa Unbound  Psychic    Dark    680  80     160       60   \n",
       "799  721              Volcanion     Fire   Water    600  80     110      120   \n",
       "\n",
       "     Sp. Atk  Sp. Def  Speed  Generation  Legendary  \n",
       "0         65       65     45           1      False  \n",
       "1         80       80     60           1      False  \n",
       "2        100      100     80           1      False  \n",
       "3        122      120     80           1      False  \n",
       "4         60       50     65           1      False  \n",
       "..       ...      ...    ...         ...        ...  \n",
       "795      100      150     50           6       True  \n",
       "796      160      110    110           6       True  \n",
       "797      150      130     70           6       True  \n",
       "798      170      130     80           6       True  \n",
       "799      130       90     70           6       True  \n",
       "\n",
       "[800 rows x 13 columns]"
      ]
     },
     "execution_count": 19,
     "metadata": {},
     "output_type": "execute_result"
    }
   ],
   "source": [
    "pokemon=pd.read_csv(\"D:\\Assignment (NUmpy,Visualisation, MOdels)\\Pokemon.csv\",skipinitialspace=True,na_values=\"?\",encoding=\"latin-1\") \n",
    "pokemon"
   ]
  },
  {
   "cell_type": "code",
   "execution_count": 20,
   "id": "42a433ea",
   "metadata": {},
   "outputs": [],
   "source": [
    "pokemon.drop(\"#\",axis=1,inplace=True)"
   ]
  },
  {
   "cell_type": "code",
   "execution_count": 21,
   "id": "8cc53678",
   "metadata": {},
   "outputs": [
    {
     "data": {
      "text/html": [
       "<div>\n",
       "<style scoped>\n",
       "    .dataframe tbody tr th:only-of-type {\n",
       "        vertical-align: middle;\n",
       "    }\n",
       "\n",
       "    .dataframe tbody tr th {\n",
       "        vertical-align: top;\n",
       "    }\n",
       "\n",
       "    .dataframe thead th {\n",
       "        text-align: right;\n",
       "    }\n",
       "</style>\n",
       "<table border=\"1\" class=\"dataframe\">\n",
       "  <thead>\n",
       "    <tr style=\"text-align: right;\">\n",
       "      <th></th>\n",
       "      <th>Name</th>\n",
       "      <th>Type 1</th>\n",
       "      <th>Type 2</th>\n",
       "      <th>Total</th>\n",
       "      <th>HP</th>\n",
       "      <th>Attack</th>\n",
       "      <th>Defense</th>\n",
       "      <th>Sp. Atk</th>\n",
       "      <th>Sp. Def</th>\n",
       "      <th>Speed</th>\n",
       "      <th>Generation</th>\n",
       "      <th>Legendary</th>\n",
       "    </tr>\n",
       "  </thead>\n",
       "  <tbody>\n",
       "    <tr>\n",
       "      <th>0</th>\n",
       "      <td>Bulbasaur</td>\n",
       "      <td>Grass</td>\n",
       "      <td>Poison</td>\n",
       "      <td>318</td>\n",
       "      <td>45</td>\n",
       "      <td>49</td>\n",
       "      <td>49</td>\n",
       "      <td>65</td>\n",
       "      <td>65</td>\n",
       "      <td>45</td>\n",
       "      <td>1</td>\n",
       "      <td>False</td>\n",
       "    </tr>\n",
       "    <tr>\n",
       "      <th>1</th>\n",
       "      <td>Ivysaur</td>\n",
       "      <td>Grass</td>\n",
       "      <td>Poison</td>\n",
       "      <td>405</td>\n",
       "      <td>60</td>\n",
       "      <td>62</td>\n",
       "      <td>63</td>\n",
       "      <td>80</td>\n",
       "      <td>80</td>\n",
       "      <td>60</td>\n",
       "      <td>1</td>\n",
       "      <td>False</td>\n",
       "    </tr>\n",
       "    <tr>\n",
       "      <th>2</th>\n",
       "      <td>Venusaur</td>\n",
       "      <td>Grass</td>\n",
       "      <td>Poison</td>\n",
       "      <td>525</td>\n",
       "      <td>80</td>\n",
       "      <td>82</td>\n",
       "      <td>83</td>\n",
       "      <td>100</td>\n",
       "      <td>100</td>\n",
       "      <td>80</td>\n",
       "      <td>1</td>\n",
       "      <td>False</td>\n",
       "    </tr>\n",
       "    <tr>\n",
       "      <th>3</th>\n",
       "      <td>VenusaurMega Venusaur</td>\n",
       "      <td>Grass</td>\n",
       "      <td>Poison</td>\n",
       "      <td>625</td>\n",
       "      <td>80</td>\n",
       "      <td>100</td>\n",
       "      <td>123</td>\n",
       "      <td>122</td>\n",
       "      <td>120</td>\n",
       "      <td>80</td>\n",
       "      <td>1</td>\n",
       "      <td>False</td>\n",
       "    </tr>\n",
       "    <tr>\n",
       "      <th>4</th>\n",
       "      <td>Charmander</td>\n",
       "      <td>Fire</td>\n",
       "      <td>NaN</td>\n",
       "      <td>309</td>\n",
       "      <td>39</td>\n",
       "      <td>52</td>\n",
       "      <td>43</td>\n",
       "      <td>60</td>\n",
       "      <td>50</td>\n",
       "      <td>65</td>\n",
       "      <td>1</td>\n",
       "      <td>False</td>\n",
       "    </tr>\n",
       "  </tbody>\n",
       "</table>\n",
       "</div>"
      ],
      "text/plain": [
       "                    Name Type 1  Type 2  Total  HP  Attack  Defense  Sp. Atk  \\\n",
       "0              Bulbasaur  Grass  Poison    318  45      49       49       65   \n",
       "1                Ivysaur  Grass  Poison    405  60      62       63       80   \n",
       "2               Venusaur  Grass  Poison    525  80      82       83      100   \n",
       "3  VenusaurMega Venusaur  Grass  Poison    625  80     100      123      122   \n",
       "4             Charmander   Fire     NaN    309  39      52       43       60   \n",
       "\n",
       "   Sp. Def  Speed  Generation  Legendary  \n",
       "0       65     45           1      False  \n",
       "1       80     60           1      False  \n",
       "2      100     80           1      False  \n",
       "3      120     80           1      False  \n",
       "4       50     65           1      False  "
      ]
     },
     "execution_count": 21,
     "metadata": {},
     "output_type": "execute_result"
    }
   ],
   "source": [
    "pokemon.head()"
   ]
  },
  {
   "cell_type": "code",
   "execution_count": 22,
   "id": "c3d9c65c",
   "metadata": {},
   "outputs": [
    {
     "data": {
      "text/plain": [
       "Name            0\n",
       "Type 1          0\n",
       "Type 2        386\n",
       "Total           0\n",
       "HP              0\n",
       "Attack          0\n",
       "Defense         0\n",
       "Sp. Atk         0\n",
       "Sp. Def         0\n",
       "Speed           0\n",
       "Generation      0\n",
       "Legendary       0\n",
       "dtype: int64"
      ]
     },
     "execution_count": 22,
     "metadata": {},
     "output_type": "execute_result"
    }
   ],
   "source": [
    "pokemon.isnull().sum()"
   ]
  },
  {
   "cell_type": "code",
   "execution_count": 23,
   "id": "8bd7f4f1",
   "metadata": {},
   "outputs": [],
   "source": [
    "pokemon[\"Type 2\"]=pokemon[\"Type 2\"].fillna(pokemon[\"Type 2\"].mode()[0])"
   ]
  },
  {
   "cell_type": "code",
   "execution_count": 24,
   "id": "48c6cbb3",
   "metadata": {},
   "outputs": [
    {
     "data": {
      "text/plain": [
       "Name          0\n",
       "Type 1        0\n",
       "Type 2        0\n",
       "Total         0\n",
       "HP            0\n",
       "Attack        0\n",
       "Defense       0\n",
       "Sp. Atk       0\n",
       "Sp. Def       0\n",
       "Speed         0\n",
       "Generation    0\n",
       "Legendary     0\n",
       "dtype: int64"
      ]
     },
     "execution_count": 24,
     "metadata": {},
     "output_type": "execute_result"
    }
   ],
   "source": [
    "pokemon.isnull().sum()"
   ]
  },
  {
   "cell_type": "code",
   "execution_count": 25,
   "id": "722f1638",
   "metadata": {},
   "outputs": [],
   "source": [
    "X=pd.get_dummies(pokemon.iloc[:,2:-1])\n",
    "Y=pokemon.iloc[:,-1]"
   ]
  },
  {
   "cell_type": "code",
   "execution_count": 26,
   "id": "e88f2c50",
   "metadata": {},
   "outputs": [
    {
     "name": "stdout",
     "output_type": "stream",
     "text": [
      "     Total  HP  Attack  Defense  Sp. Atk  Sp. Def  Speed  Generation  \\\n",
      "0      318  45      49       49       65       65     45           1   \n",
      "1      405  60      62       63       80       80     60           1   \n",
      "2      525  80      82       83      100      100     80           1   \n",
      "3      625  80     100      123      122      120     80           1   \n",
      "4      309  39      52       43       60       50     65           1   \n",
      "..     ...  ..     ...      ...      ...      ...    ...         ...   \n",
      "795    600  50     100      150      100      150     50           6   \n",
      "796    700  50     160      110      160      110    110           6   \n",
      "797    600  80     110       60      150      130     70           6   \n",
      "798    680  80     160       60      170      130     80           6   \n",
      "799    600  80     110      120      130       90     70           6   \n",
      "\n",
      "     Type 2_Bug  Type 2_Dark  ...  Type 2_Ghost  Type 2_Grass  Type 2_Ground  \\\n",
      "0             0            0  ...             0             0              0   \n",
      "1             0            0  ...             0             0              0   \n",
      "2             0            0  ...             0             0              0   \n",
      "3             0            0  ...             0             0              0   \n",
      "4             0            0  ...             0             0              0   \n",
      "..          ...          ...  ...           ...           ...            ...   \n",
      "795           0            0  ...             0             0              0   \n",
      "796           0            0  ...             0             0              0   \n",
      "797           0            0  ...             1             0              0   \n",
      "798           0            1  ...             0             0              0   \n",
      "799           0            0  ...             0             0              0   \n",
      "\n",
      "     Type 2_Ice  Type 2_Normal  Type 2_Poison  Type 2_Psychic  Type 2_Rock  \\\n",
      "0             0              0              1               0            0   \n",
      "1             0              0              1               0            0   \n",
      "2             0              0              1               0            0   \n",
      "3             0              0              1               0            0   \n",
      "4             0              0              0               0            0   \n",
      "..          ...            ...            ...             ...          ...   \n",
      "795           0              0              0               0            0   \n",
      "796           0              0              0               0            0   \n",
      "797           0              0              0               0            0   \n",
      "798           0              0              0               0            0   \n",
      "799           0              0              0               0            0   \n",
      "\n",
      "     Type 2_Steel  Type 2_Water  \n",
      "0               0             0  \n",
      "1               0             0  \n",
      "2               0             0  \n",
      "3               0             0  \n",
      "4               0             0  \n",
      "..            ...           ...  \n",
      "795             0             0  \n",
      "796             0             0  \n",
      "797             0             0  \n",
      "798             0             0  \n",
      "799             0             1  \n",
      "\n",
      "[800 rows x 26 columns]\n"
     ]
    }
   ],
   "source": [
    "print(X)"
   ]
  },
  {
   "cell_type": "code",
   "execution_count": 27,
   "id": "406d7490",
   "metadata": {},
   "outputs": [
    {
     "name": "stdout",
     "output_type": "stream",
     "text": [
      "0      False\n",
      "1      False\n",
      "2      False\n",
      "3      False\n",
      "4      False\n",
      "       ...  \n",
      "795     True\n",
      "796     True\n",
      "797     True\n",
      "798     True\n",
      "799     True\n",
      "Name: Legendary, Length: 800, dtype: bool\n"
     ]
    }
   ],
   "source": [
    "print(Y)"
   ]
  },
  {
   "cell_type": "code",
   "execution_count": 28,
   "id": "8bdc3048",
   "metadata": {},
   "outputs": [],
   "source": [
    "scaler=StandardScaler()\n",
    "xtrain,xtest,ytrain,ytest=train_test_split(X,Y,random_state=1,test_size=0.3)"
   ]
  },
  {
   "cell_type": "code",
   "execution_count": 29,
   "id": "ff29bbe3",
   "metadata": {},
   "outputs": [],
   "source": [
    "x_train=scaler.fit_transform(xtrain)\n",
    "x_test=scaler.transform(xtest)"
   ]
  },
  {
   "cell_type": "code",
   "execution_count": 30,
   "id": "a7376bf4",
   "metadata": {},
   "outputs": [],
   "source": [
    "x_train=pd.DataFrame(x_train,columns=xtrain.columns)\n",
    "x_test=pd.DataFrame(x_test,columns=xtrain.columns)"
   ]
  },
  {
   "cell_type": "code",
   "execution_count": 31,
   "id": "0f8a5871",
   "metadata": {},
   "outputs": [
    {
     "data": {
      "text/html": [
       "<div>\n",
       "<style scoped>\n",
       "    .dataframe tbody tr th:only-of-type {\n",
       "        vertical-align: middle;\n",
       "    }\n",
       "\n",
       "    .dataframe tbody tr th {\n",
       "        vertical-align: top;\n",
       "    }\n",
       "\n",
       "    .dataframe thead th {\n",
       "        text-align: right;\n",
       "    }\n",
       "</style>\n",
       "<table border=\"1\" class=\"dataframe\">\n",
       "  <thead>\n",
       "    <tr style=\"text-align: right;\">\n",
       "      <th></th>\n",
       "      <th>Total</th>\n",
       "      <th>HP</th>\n",
       "      <th>Attack</th>\n",
       "      <th>Defense</th>\n",
       "      <th>Sp. Atk</th>\n",
       "      <th>Sp. Def</th>\n",
       "      <th>Speed</th>\n",
       "      <th>Generation</th>\n",
       "      <th>Type 2_Bug</th>\n",
       "      <th>Type 2_Dark</th>\n",
       "      <th>...</th>\n",
       "      <th>Type 2_Ghost</th>\n",
       "      <th>Type 2_Grass</th>\n",
       "      <th>Type 2_Ground</th>\n",
       "      <th>Type 2_Ice</th>\n",
       "      <th>Type 2_Normal</th>\n",
       "      <th>Type 2_Poison</th>\n",
       "      <th>Type 2_Psychic</th>\n",
       "      <th>Type 2_Rock</th>\n",
       "      <th>Type 2_Steel</th>\n",
       "      <th>Type 2_Water</th>\n",
       "    </tr>\n",
       "  </thead>\n",
       "  <tbody>\n",
       "    <tr>\n",
       "      <th>0</th>\n",
       "      <td>-0.927124</td>\n",
       "      <td>-1.718850</td>\n",
       "      <td>-1.364020</td>\n",
       "      <td>-0.147847</td>\n",
       "      <td>0.698619</td>\n",
       "      <td>-0.612343</td>\n",
       "      <td>-0.804933</td>\n",
       "      <td>-1.415840</td>\n",
       "      <td>-0.073389</td>\n",
       "      <td>-0.1659</td>\n",
       "      <td>...</td>\n",
       "      <td>-0.14155</td>\n",
       "      <td>-0.176939</td>\n",
       "      <td>-0.206955</td>\n",
       "      <td>-0.127804</td>\n",
       "      <td>-0.059868</td>\n",
       "      <td>-0.211604</td>\n",
       "      <td>-0.206955</td>\n",
       "      <td>-0.127804</td>\n",
       "      <td>5.487359</td>\n",
       "      <td>-0.14155</td>\n",
       "    </tr>\n",
       "    <tr>\n",
       "      <th>1</th>\n",
       "      <td>0.321368</td>\n",
       "      <td>-0.567283</td>\n",
       "      <td>1.558017</td>\n",
       "      <td>1.288448</td>\n",
       "      <td>-0.686199</td>\n",
       "      <td>-0.790294</td>\n",
       "      <td>0.239143</td>\n",
       "      <td>-1.415840</td>\n",
       "      <td>-0.073389</td>\n",
       "      <td>-0.1659</td>\n",
       "      <td>...</td>\n",
       "      <td>-0.14155</td>\n",
       "      <td>-0.176939</td>\n",
       "      <td>-0.206955</td>\n",
       "      <td>-0.127804</td>\n",
       "      <td>-0.059868</td>\n",
       "      <td>-0.211604</td>\n",
       "      <td>-0.206955</td>\n",
       "      <td>-0.127804</td>\n",
       "      <td>-0.182237</td>\n",
       "      <td>-0.14155</td>\n",
       "    </tr>\n",
       "    <tr>\n",
       "      <th>2</th>\n",
       "      <td>-1.925918</td>\n",
       "      <td>-0.951139</td>\n",
       "      <td>-1.671603</td>\n",
       "      <td>-0.786200</td>\n",
       "      <td>-1.455542</td>\n",
       "      <td>-1.680051</td>\n",
       "      <td>-1.152959</td>\n",
       "      <td>-1.415840</td>\n",
       "      <td>-0.073389</td>\n",
       "      <td>-0.1659</td>\n",
       "      <td>...</td>\n",
       "      <td>-0.14155</td>\n",
       "      <td>-0.176939</td>\n",
       "      <td>-0.206955</td>\n",
       "      <td>-0.127804</td>\n",
       "      <td>-0.059868</td>\n",
       "      <td>4.725816</td>\n",
       "      <td>-0.206955</td>\n",
       "      <td>-0.127804</td>\n",
       "      <td>-0.182237</td>\n",
       "      <td>-0.14155</td>\n",
       "    </tr>\n",
       "    <tr>\n",
       "      <th>3</th>\n",
       "      <td>1.195312</td>\n",
       "      <td>0.814596</td>\n",
       "      <td>1.527259</td>\n",
       "      <td>0.490506</td>\n",
       "      <td>-0.009177</td>\n",
       "      <td>0.633316</td>\n",
       "      <td>1.387627</td>\n",
       "      <td>1.042673</td>\n",
       "      <td>-0.073389</td>\n",
       "      <td>-0.1659</td>\n",
       "      <td>...</td>\n",
       "      <td>-0.14155</td>\n",
       "      <td>-0.176939</td>\n",
       "      <td>-0.206955</td>\n",
       "      <td>-0.127804</td>\n",
       "      <td>-0.059868</td>\n",
       "      <td>-0.211604</td>\n",
       "      <td>-0.206955</td>\n",
       "      <td>-0.127804</td>\n",
       "      <td>-0.182237</td>\n",
       "      <td>-0.14155</td>\n",
       "    </tr>\n",
       "    <tr>\n",
       "      <th>4</th>\n",
       "      <td>-1.018680</td>\n",
       "      <td>-0.759211</td>\n",
       "      <td>-0.441272</td>\n",
       "      <td>-0.339353</td>\n",
       "      <td>-0.870841</td>\n",
       "      <td>-0.861475</td>\n",
       "      <td>-0.874538</td>\n",
       "      <td>-0.801212</td>\n",
       "      <td>-0.073389</td>\n",
       "      <td>-0.1659</td>\n",
       "      <td>...</td>\n",
       "      <td>-0.14155</td>\n",
       "      <td>-0.176939</td>\n",
       "      <td>-0.206955</td>\n",
       "      <td>-0.127804</td>\n",
       "      <td>-0.059868</td>\n",
       "      <td>-0.211604</td>\n",
       "      <td>-0.206955</td>\n",
       "      <td>-0.127804</td>\n",
       "      <td>-0.182237</td>\n",
       "      <td>-0.14155</td>\n",
       "    </tr>\n",
       "    <tr>\n",
       "      <th>...</th>\n",
       "      <td>...</td>\n",
       "      <td>...</td>\n",
       "      <td>...</td>\n",
       "      <td>...</td>\n",
       "      <td>...</td>\n",
       "      <td>...</td>\n",
       "      <td>...</td>\n",
       "      <td>...</td>\n",
       "      <td>...</td>\n",
       "      <td>...</td>\n",
       "      <td>...</td>\n",
       "      <td>...</td>\n",
       "      <td>...</td>\n",
       "      <td>...</td>\n",
       "      <td>...</td>\n",
       "      <td>...</td>\n",
       "      <td>...</td>\n",
       "      <td>...</td>\n",
       "      <td>...</td>\n",
       "      <td>...</td>\n",
       "      <td>...</td>\n",
       "    </tr>\n",
       "    <tr>\n",
       "      <th>555</th>\n",
       "      <td>1.361778</td>\n",
       "      <td>1.160066</td>\n",
       "      <td>-0.072172</td>\n",
       "      <td>0.075576</td>\n",
       "      <td>1.714152</td>\n",
       "      <td>1.985746</td>\n",
       "      <td>0.761181</td>\n",
       "      <td>1.042673</td>\n",
       "      <td>-0.073389</td>\n",
       "      <td>-0.1659</td>\n",
       "      <td>...</td>\n",
       "      <td>-0.14155</td>\n",
       "      <td>-0.176939</td>\n",
       "      <td>-0.206955</td>\n",
       "      <td>-0.127804</td>\n",
       "      <td>-0.059868</td>\n",
       "      <td>-0.211604</td>\n",
       "      <td>4.831959</td>\n",
       "      <td>-0.127804</td>\n",
       "      <td>-0.182237</td>\n",
       "      <td>-0.14155</td>\n",
       "    </tr>\n",
       "    <tr>\n",
       "      <th>556</th>\n",
       "      <td>0.704239</td>\n",
       "      <td>0.469126</td>\n",
       "      <td>1.281193</td>\n",
       "      <td>1.416118</td>\n",
       "      <td>-0.101498</td>\n",
       "      <td>-0.469982</td>\n",
       "      <td>0.099933</td>\n",
       "      <td>1.657301</td>\n",
       "      <td>-0.073389</td>\n",
       "      <td>-0.1659</td>\n",
       "      <td>...</td>\n",
       "      <td>-0.14155</td>\n",
       "      <td>-0.176939</td>\n",
       "      <td>-0.206955</td>\n",
       "      <td>-0.127804</td>\n",
       "      <td>-0.059868</td>\n",
       "      <td>-0.211604</td>\n",
       "      <td>-0.206955</td>\n",
       "      <td>-0.127804</td>\n",
       "      <td>-0.182237</td>\n",
       "      <td>-0.14155</td>\n",
       "    </tr>\n",
       "    <tr>\n",
       "      <th>557</th>\n",
       "      <td>-1.093590</td>\n",
       "      <td>0.008500</td>\n",
       "      <td>0.020103</td>\n",
       "      <td>-0.786200</td>\n",
       "      <td>-1.147805</td>\n",
       "      <td>-1.324148</td>\n",
       "      <td>-1.152959</td>\n",
       "      <td>-1.415840</td>\n",
       "      <td>-0.073389</td>\n",
       "      <td>-0.1659</td>\n",
       "      <td>...</td>\n",
       "      <td>-0.14155</td>\n",
       "      <td>-0.176939</td>\n",
       "      <td>-0.206955</td>\n",
       "      <td>-0.127804</td>\n",
       "      <td>-0.059868</td>\n",
       "      <td>-0.211604</td>\n",
       "      <td>-0.206955</td>\n",
       "      <td>-0.127804</td>\n",
       "      <td>-0.182237</td>\n",
       "      <td>-0.14155</td>\n",
       "    </tr>\n",
       "    <tr>\n",
       "      <th>558</th>\n",
       "      <td>0.529450</td>\n",
       "      <td>0.776210</td>\n",
       "      <td>1.558017</td>\n",
       "      <td>0.011741</td>\n",
       "      <td>0.083144</td>\n",
       "      <td>0.099462</td>\n",
       "      <td>-0.456908</td>\n",
       "      <td>-0.801212</td>\n",
       "      <td>-0.073389</td>\n",
       "      <td>-0.1659</td>\n",
       "      <td>...</td>\n",
       "      <td>-0.14155</td>\n",
       "      <td>-0.176939</td>\n",
       "      <td>-0.206955</td>\n",
       "      <td>-0.127804</td>\n",
       "      <td>-0.059868</td>\n",
       "      <td>-0.211604</td>\n",
       "      <td>-0.206955</td>\n",
       "      <td>-0.127804</td>\n",
       "      <td>-0.182237</td>\n",
       "      <td>-0.14155</td>\n",
       "    </tr>\n",
       "    <tr>\n",
       "      <th>559</th>\n",
       "      <td>-1.359935</td>\n",
       "      <td>-0.912753</td>\n",
       "      <td>-0.687338</td>\n",
       "      <td>-1.105377</td>\n",
       "      <td>-0.993936</td>\n",
       "      <td>-1.146197</td>\n",
       "      <td>-0.630920</td>\n",
       "      <td>-1.415840</td>\n",
       "      <td>-0.073389</td>\n",
       "      <td>-0.1659</td>\n",
       "      <td>...</td>\n",
       "      <td>-0.14155</td>\n",
       "      <td>-0.176939</td>\n",
       "      <td>-0.206955</td>\n",
       "      <td>-0.127804</td>\n",
       "      <td>-0.059868</td>\n",
       "      <td>-0.211604</td>\n",
       "      <td>-0.206955</td>\n",
       "      <td>-0.127804</td>\n",
       "      <td>-0.182237</td>\n",
       "      <td>-0.14155</td>\n",
       "    </tr>\n",
       "  </tbody>\n",
       "</table>\n",
       "<p>560 rows × 26 columns</p>\n",
       "</div>"
      ],
      "text/plain": [
       "        Total        HP    Attack   Defense   Sp. Atk   Sp. Def     Speed  \\\n",
       "0   -0.927124 -1.718850 -1.364020 -0.147847  0.698619 -0.612343 -0.804933   \n",
       "1    0.321368 -0.567283  1.558017  1.288448 -0.686199 -0.790294  0.239143   \n",
       "2   -1.925918 -0.951139 -1.671603 -0.786200 -1.455542 -1.680051 -1.152959   \n",
       "3    1.195312  0.814596  1.527259  0.490506 -0.009177  0.633316  1.387627   \n",
       "4   -1.018680 -0.759211 -0.441272 -0.339353 -0.870841 -0.861475 -0.874538   \n",
       "..        ...       ...       ...       ...       ...       ...       ...   \n",
       "555  1.361778  1.160066 -0.072172  0.075576  1.714152  1.985746  0.761181   \n",
       "556  0.704239  0.469126  1.281193  1.416118 -0.101498 -0.469982  0.099933   \n",
       "557 -1.093590  0.008500  0.020103 -0.786200 -1.147805 -1.324148 -1.152959   \n",
       "558  0.529450  0.776210  1.558017  0.011741  0.083144  0.099462 -0.456908   \n",
       "559 -1.359935 -0.912753 -0.687338 -1.105377 -0.993936 -1.146197 -0.630920   \n",
       "\n",
       "     Generation  Type 2_Bug  Type 2_Dark  ...  Type 2_Ghost  Type 2_Grass  \\\n",
       "0     -1.415840   -0.073389      -0.1659  ...      -0.14155     -0.176939   \n",
       "1     -1.415840   -0.073389      -0.1659  ...      -0.14155     -0.176939   \n",
       "2     -1.415840   -0.073389      -0.1659  ...      -0.14155     -0.176939   \n",
       "3      1.042673   -0.073389      -0.1659  ...      -0.14155     -0.176939   \n",
       "4     -0.801212   -0.073389      -0.1659  ...      -0.14155     -0.176939   \n",
       "..          ...         ...          ...  ...           ...           ...   \n",
       "555    1.042673   -0.073389      -0.1659  ...      -0.14155     -0.176939   \n",
       "556    1.657301   -0.073389      -0.1659  ...      -0.14155     -0.176939   \n",
       "557   -1.415840   -0.073389      -0.1659  ...      -0.14155     -0.176939   \n",
       "558   -0.801212   -0.073389      -0.1659  ...      -0.14155     -0.176939   \n",
       "559   -1.415840   -0.073389      -0.1659  ...      -0.14155     -0.176939   \n",
       "\n",
       "     Type 2_Ground  Type 2_Ice  Type 2_Normal  Type 2_Poison  Type 2_Psychic  \\\n",
       "0        -0.206955   -0.127804      -0.059868      -0.211604       -0.206955   \n",
       "1        -0.206955   -0.127804      -0.059868      -0.211604       -0.206955   \n",
       "2        -0.206955   -0.127804      -0.059868       4.725816       -0.206955   \n",
       "3        -0.206955   -0.127804      -0.059868      -0.211604       -0.206955   \n",
       "4        -0.206955   -0.127804      -0.059868      -0.211604       -0.206955   \n",
       "..             ...         ...            ...            ...             ...   \n",
       "555      -0.206955   -0.127804      -0.059868      -0.211604        4.831959   \n",
       "556      -0.206955   -0.127804      -0.059868      -0.211604       -0.206955   \n",
       "557      -0.206955   -0.127804      -0.059868      -0.211604       -0.206955   \n",
       "558      -0.206955   -0.127804      -0.059868      -0.211604       -0.206955   \n",
       "559      -0.206955   -0.127804      -0.059868      -0.211604       -0.206955   \n",
       "\n",
       "     Type 2_Rock  Type 2_Steel  Type 2_Water  \n",
       "0      -0.127804      5.487359      -0.14155  \n",
       "1      -0.127804     -0.182237      -0.14155  \n",
       "2      -0.127804     -0.182237      -0.14155  \n",
       "3      -0.127804     -0.182237      -0.14155  \n",
       "4      -0.127804     -0.182237      -0.14155  \n",
       "..           ...           ...           ...  \n",
       "555    -0.127804     -0.182237      -0.14155  \n",
       "556    -0.127804     -0.182237      -0.14155  \n",
       "557    -0.127804     -0.182237      -0.14155  \n",
       "558    -0.127804     -0.182237      -0.14155  \n",
       "559    -0.127804     -0.182237      -0.14155  \n",
       "\n",
       "[560 rows x 26 columns]"
      ]
     },
     "execution_count": 31,
     "metadata": {},
     "output_type": "execute_result"
    }
   ],
   "source": [
    "x_train"
   ]
  },
  {
   "cell_type": "code",
   "execution_count": 32,
   "id": "265933fd",
   "metadata": {},
   "outputs": [
    {
     "data": {
      "text/html": [
       "<div>\n",
       "<style scoped>\n",
       "    .dataframe tbody tr th:only-of-type {\n",
       "        vertical-align: middle;\n",
       "    }\n",
       "\n",
       "    .dataframe tbody tr th {\n",
       "        vertical-align: top;\n",
       "    }\n",
       "\n",
       "    .dataframe thead th {\n",
       "        text-align: right;\n",
       "    }\n",
       "</style>\n",
       "<table border=\"1\" class=\"dataframe\">\n",
       "  <thead>\n",
       "    <tr style=\"text-align: right;\">\n",
       "      <th></th>\n",
       "      <th>Total</th>\n",
       "      <th>HP</th>\n",
       "      <th>Attack</th>\n",
       "      <th>Defense</th>\n",
       "      <th>Sp. Atk</th>\n",
       "      <th>Sp. Def</th>\n",
       "      <th>Speed</th>\n",
       "      <th>Generation</th>\n",
       "      <th>Type 2_Bug</th>\n",
       "      <th>Type 2_Dark</th>\n",
       "      <th>...</th>\n",
       "      <th>Type 2_Ghost</th>\n",
       "      <th>Type 2_Grass</th>\n",
       "      <th>Type 2_Ground</th>\n",
       "      <th>Type 2_Ice</th>\n",
       "      <th>Type 2_Normal</th>\n",
       "      <th>Type 2_Poison</th>\n",
       "      <th>Type 2_Psychic</th>\n",
       "      <th>Type 2_Rock</th>\n",
       "      <th>Type 2_Steel</th>\n",
       "      <th>Type 2_Water</th>\n",
       "    </tr>\n",
       "  </thead>\n",
       "  <tbody>\n",
       "    <tr>\n",
       "      <th>0</th>\n",
       "      <td>1.644769</td>\n",
       "      <td>0.315584</td>\n",
       "      <td>0.758302</td>\n",
       "      <td>0.107494</td>\n",
       "      <td>2.668137</td>\n",
       "      <td>1.523072</td>\n",
       "      <td>1.109207</td>\n",
       "      <td>-1.415840</td>\n",
       "      <td>-0.073389</td>\n",
       "      <td>-0.1659</td>\n",
       "      <td>...</td>\n",
       "      <td>-0.14155</td>\n",
       "      <td>-0.176939</td>\n",
       "      <td>-0.206955</td>\n",
       "      <td>-0.127804</td>\n",
       "      <td>-0.059868</td>\n",
       "      <td>-0.211604</td>\n",
       "      <td>-0.206955</td>\n",
       "      <td>-0.127804</td>\n",
       "      <td>-0.182237</td>\n",
       "      <td>-0.14155</td>\n",
       "    </tr>\n",
       "    <tr>\n",
       "      <th>1</th>\n",
       "      <td>0.479510</td>\n",
       "      <td>0.776210</td>\n",
       "      <td>0.389202</td>\n",
       "      <td>0.011741</td>\n",
       "      <td>0.606297</td>\n",
       "      <td>0.455365</td>\n",
       "      <td>-0.282895</td>\n",
       "      <td>0.428045</td>\n",
       "      <td>-0.073389</td>\n",
       "      <td>-0.1659</td>\n",
       "      <td>...</td>\n",
       "      <td>-0.14155</td>\n",
       "      <td>-0.176939</td>\n",
       "      <td>-0.206955</td>\n",
       "      <td>7.824463</td>\n",
       "      <td>-0.059868</td>\n",
       "      <td>-0.211604</td>\n",
       "      <td>-0.206955</td>\n",
       "      <td>-0.127804</td>\n",
       "      <td>-0.182237</td>\n",
       "      <td>-0.14155</td>\n",
       "    </tr>\n",
       "    <tr>\n",
       "      <th>2</th>\n",
       "      <td>-1.842685</td>\n",
       "      <td>-1.334994</td>\n",
       "      <td>-1.025679</td>\n",
       "      <td>-1.296883</td>\n",
       "      <td>-1.147805</td>\n",
       "      <td>-0.968246</td>\n",
       "      <td>-1.674997</td>\n",
       "      <td>-0.801212</td>\n",
       "      <td>-0.073389</td>\n",
       "      <td>-0.1659</td>\n",
       "      <td>...</td>\n",
       "      <td>-0.14155</td>\n",
       "      <td>-0.176939</td>\n",
       "      <td>-0.206955</td>\n",
       "      <td>-0.127804</td>\n",
       "      <td>-0.059868</td>\n",
       "      <td>-0.211604</td>\n",
       "      <td>-0.206955</td>\n",
       "      <td>-0.127804</td>\n",
       "      <td>-0.182237</td>\n",
       "      <td>-0.14155</td>\n",
       "    </tr>\n",
       "    <tr>\n",
       "      <th>3</th>\n",
       "      <td>-0.560900</td>\n",
       "      <td>-0.298585</td>\n",
       "      <td>-0.902646</td>\n",
       "      <td>-0.530859</td>\n",
       "      <td>0.021597</td>\n",
       "      <td>-0.647933</td>\n",
       "      <td>0.134736</td>\n",
       "      <td>1.657301</td>\n",
       "      <td>-0.073389</td>\n",
       "      <td>-0.1659</td>\n",
       "      <td>...</td>\n",
       "      <td>-0.14155</td>\n",
       "      <td>-0.176939</td>\n",
       "      <td>-0.206955</td>\n",
       "      <td>-0.127804</td>\n",
       "      <td>16.703293</td>\n",
       "      <td>-0.211604</td>\n",
       "      <td>-0.206955</td>\n",
       "      <td>-0.127804</td>\n",
       "      <td>-0.182237</td>\n",
       "      <td>-0.14155</td>\n",
       "    </tr>\n",
       "    <tr>\n",
       "      <th>4</th>\n",
       "      <td>0.362984</td>\n",
       "      <td>0.200427</td>\n",
       "      <td>0.789060</td>\n",
       "      <td>0.011741</td>\n",
       "      <td>1.006356</td>\n",
       "      <td>0.099462</td>\n",
       "      <td>-0.804933</td>\n",
       "      <td>-0.801212</td>\n",
       "      <td>-0.073389</td>\n",
       "      <td>-0.1659</td>\n",
       "      <td>...</td>\n",
       "      <td>-0.14155</td>\n",
       "      <td>-0.176939</td>\n",
       "      <td>-0.206955</td>\n",
       "      <td>-0.127804</td>\n",
       "      <td>-0.059868</td>\n",
       "      <td>-0.211604</td>\n",
       "      <td>-0.206955</td>\n",
       "      <td>-0.127804</td>\n",
       "      <td>-0.182237</td>\n",
       "      <td>-0.14155</td>\n",
       "    </tr>\n",
       "    <tr>\n",
       "      <th>...</th>\n",
       "      <td>...</td>\n",
       "      <td>...</td>\n",
       "      <td>...</td>\n",
       "      <td>...</td>\n",
       "      <td>...</td>\n",
       "      <td>...</td>\n",
       "      <td>...</td>\n",
       "      <td>...</td>\n",
       "      <td>...</td>\n",
       "      <td>...</td>\n",
       "      <td>...</td>\n",
       "      <td>...</td>\n",
       "      <td>...</td>\n",
       "      <td>...</td>\n",
       "      <td>...</td>\n",
       "      <td>...</td>\n",
       "      <td>...</td>\n",
       "      <td>...</td>\n",
       "      <td>...</td>\n",
       "      <td>...</td>\n",
       "      <td>...</td>\n",
       "    </tr>\n",
       "    <tr>\n",
       "      <th>235</th>\n",
       "      <td>-0.760659</td>\n",
       "      <td>0.392355</td>\n",
       "      <td>0.173894</td>\n",
       "      <td>0.650094</td>\n",
       "      <td>-1.301674</td>\n",
       "      <td>-1.502099</td>\n",
       "      <td>-1.500984</td>\n",
       "      <td>-1.415840</td>\n",
       "      <td>-0.073389</td>\n",
       "      <td>-0.1659</td>\n",
       "      <td>...</td>\n",
       "      <td>-0.14155</td>\n",
       "      <td>-0.176939</td>\n",
       "      <td>-0.206955</td>\n",
       "      <td>-0.127804</td>\n",
       "      <td>-0.059868</td>\n",
       "      <td>-0.211604</td>\n",
       "      <td>-0.206955</td>\n",
       "      <td>7.824463</td>\n",
       "      <td>-0.182237</td>\n",
       "      <td>-0.14155</td>\n",
       "    </tr>\n",
       "    <tr>\n",
       "      <th>236</th>\n",
       "      <td>0.487833</td>\n",
       "      <td>0.392355</td>\n",
       "      <td>1.250434</td>\n",
       "      <td>1.767212</td>\n",
       "      <td>-0.532331</td>\n",
       "      <td>-0.256441</td>\n",
       "      <td>-0.804933</td>\n",
       "      <td>-1.415840</td>\n",
       "      <td>-0.073389</td>\n",
       "      <td>-0.1659</td>\n",
       "      <td>...</td>\n",
       "      <td>-0.14155</td>\n",
       "      <td>-0.176939</td>\n",
       "      <td>4.831959</td>\n",
       "      <td>-0.127804</td>\n",
       "      <td>-0.059868</td>\n",
       "      <td>-0.211604</td>\n",
       "      <td>-0.206955</td>\n",
       "      <td>-0.127804</td>\n",
       "      <td>-0.182237</td>\n",
       "      <td>-0.14155</td>\n",
       "    </tr>\n",
       "    <tr>\n",
       "      <th>237</th>\n",
       "      <td>1.361778</td>\n",
       "      <td>-0.759211</td>\n",
       "      <td>3.095932</td>\n",
       "      <td>-1.743730</td>\n",
       "      <td>3.314385</td>\n",
       "      <td>-1.858002</td>\n",
       "      <td>2.849334</td>\n",
       "      <td>-0.186584</td>\n",
       "      <td>-0.073389</td>\n",
       "      <td>-0.1659</td>\n",
       "      <td>...</td>\n",
       "      <td>-0.14155</td>\n",
       "      <td>-0.176939</td>\n",
       "      <td>-0.206955</td>\n",
       "      <td>-0.127804</td>\n",
       "      <td>-0.059868</td>\n",
       "      <td>-0.211604</td>\n",
       "      <td>-0.206955</td>\n",
       "      <td>-0.127804</td>\n",
       "      <td>-0.182237</td>\n",
       "      <td>-0.14155</td>\n",
       "    </tr>\n",
       "    <tr>\n",
       "      <th>238</th>\n",
       "      <td>-1.010357</td>\n",
       "      <td>0.008500</td>\n",
       "      <td>0.327686</td>\n",
       "      <td>-0.945789</td>\n",
       "      <td>-1.763280</td>\n",
       "      <td>-0.968246</td>\n",
       "      <td>-0.630920</td>\n",
       "      <td>1.042673</td>\n",
       "      <td>-0.073389</td>\n",
       "      <td>-0.1659</td>\n",
       "      <td>...</td>\n",
       "      <td>-0.14155</td>\n",
       "      <td>-0.176939</td>\n",
       "      <td>-0.206955</td>\n",
       "      <td>-0.127804</td>\n",
       "      <td>-0.059868</td>\n",
       "      <td>-0.211604</td>\n",
       "      <td>-0.206955</td>\n",
       "      <td>-0.127804</td>\n",
       "      <td>-0.182237</td>\n",
       "      <td>-0.14155</td>\n",
       "    </tr>\n",
       "    <tr>\n",
       "      <th>239</th>\n",
       "      <td>0.321368</td>\n",
       "      <td>0.008500</td>\n",
       "      <td>0.481477</td>\n",
       "      <td>1.607624</td>\n",
       "      <td>-0.224593</td>\n",
       "      <td>0.099462</td>\n",
       "      <td>-0.804933</td>\n",
       "      <td>1.042673</td>\n",
       "      <td>-0.073389</td>\n",
       "      <td>-0.1659</td>\n",
       "      <td>...</td>\n",
       "      <td>-0.14155</td>\n",
       "      <td>-0.176939</td>\n",
       "      <td>-0.206955</td>\n",
       "      <td>-0.127804</td>\n",
       "      <td>-0.059868</td>\n",
       "      <td>-0.211604</td>\n",
       "      <td>-0.206955</td>\n",
       "      <td>7.824463</td>\n",
       "      <td>-0.182237</td>\n",
       "      <td>-0.14155</td>\n",
       "    </tr>\n",
       "  </tbody>\n",
       "</table>\n",
       "<p>240 rows × 26 columns</p>\n",
       "</div>"
      ],
      "text/plain": [
       "        Total        HP    Attack   Defense   Sp. Atk   Sp. Def     Speed  \\\n",
       "0    1.644769  0.315584  0.758302  0.107494  2.668137  1.523072  1.109207   \n",
       "1    0.479510  0.776210  0.389202  0.011741  0.606297  0.455365 -0.282895   \n",
       "2   -1.842685 -1.334994 -1.025679 -1.296883 -1.147805 -0.968246 -1.674997   \n",
       "3   -0.560900 -0.298585 -0.902646 -0.530859  0.021597 -0.647933  0.134736   \n",
       "4    0.362984  0.200427  0.789060  0.011741  1.006356  0.099462 -0.804933   \n",
       "..        ...       ...       ...       ...       ...       ...       ...   \n",
       "235 -0.760659  0.392355  0.173894  0.650094 -1.301674 -1.502099 -1.500984   \n",
       "236  0.487833  0.392355  1.250434  1.767212 -0.532331 -0.256441 -0.804933   \n",
       "237  1.361778 -0.759211  3.095932 -1.743730  3.314385 -1.858002  2.849334   \n",
       "238 -1.010357  0.008500  0.327686 -0.945789 -1.763280 -0.968246 -0.630920   \n",
       "239  0.321368  0.008500  0.481477  1.607624 -0.224593  0.099462 -0.804933   \n",
       "\n",
       "     Generation  Type 2_Bug  Type 2_Dark  ...  Type 2_Ghost  Type 2_Grass  \\\n",
       "0     -1.415840   -0.073389      -0.1659  ...      -0.14155     -0.176939   \n",
       "1      0.428045   -0.073389      -0.1659  ...      -0.14155     -0.176939   \n",
       "2     -0.801212   -0.073389      -0.1659  ...      -0.14155     -0.176939   \n",
       "3      1.657301   -0.073389      -0.1659  ...      -0.14155     -0.176939   \n",
       "4     -0.801212   -0.073389      -0.1659  ...      -0.14155     -0.176939   \n",
       "..          ...         ...          ...  ...           ...           ...   \n",
       "235   -1.415840   -0.073389      -0.1659  ...      -0.14155     -0.176939   \n",
       "236   -1.415840   -0.073389      -0.1659  ...      -0.14155     -0.176939   \n",
       "237   -0.186584   -0.073389      -0.1659  ...      -0.14155     -0.176939   \n",
       "238    1.042673   -0.073389      -0.1659  ...      -0.14155     -0.176939   \n",
       "239    1.042673   -0.073389      -0.1659  ...      -0.14155     -0.176939   \n",
       "\n",
       "     Type 2_Ground  Type 2_Ice  Type 2_Normal  Type 2_Poison  Type 2_Psychic  \\\n",
       "0        -0.206955   -0.127804      -0.059868      -0.211604       -0.206955   \n",
       "1        -0.206955    7.824463      -0.059868      -0.211604       -0.206955   \n",
       "2        -0.206955   -0.127804      -0.059868      -0.211604       -0.206955   \n",
       "3        -0.206955   -0.127804      16.703293      -0.211604       -0.206955   \n",
       "4        -0.206955   -0.127804      -0.059868      -0.211604       -0.206955   \n",
       "..             ...         ...            ...            ...             ...   \n",
       "235      -0.206955   -0.127804      -0.059868      -0.211604       -0.206955   \n",
       "236       4.831959   -0.127804      -0.059868      -0.211604       -0.206955   \n",
       "237      -0.206955   -0.127804      -0.059868      -0.211604       -0.206955   \n",
       "238      -0.206955   -0.127804      -0.059868      -0.211604       -0.206955   \n",
       "239      -0.206955   -0.127804      -0.059868      -0.211604       -0.206955   \n",
       "\n",
       "     Type 2_Rock  Type 2_Steel  Type 2_Water  \n",
       "0      -0.127804     -0.182237      -0.14155  \n",
       "1      -0.127804     -0.182237      -0.14155  \n",
       "2      -0.127804     -0.182237      -0.14155  \n",
       "3      -0.127804     -0.182237      -0.14155  \n",
       "4      -0.127804     -0.182237      -0.14155  \n",
       "..           ...           ...           ...  \n",
       "235     7.824463     -0.182237      -0.14155  \n",
       "236    -0.127804     -0.182237      -0.14155  \n",
       "237    -0.127804     -0.182237      -0.14155  \n",
       "238    -0.127804     -0.182237      -0.14155  \n",
       "239     7.824463     -0.182237      -0.14155  \n",
       "\n",
       "[240 rows x 26 columns]"
      ]
     },
     "execution_count": 32,
     "metadata": {},
     "output_type": "execute_result"
    }
   ],
   "source": [
    "x_test"
   ]
  },
  {
   "cell_type": "code",
   "execution_count": 33,
   "id": "7e62327b",
   "metadata": {},
   "outputs": [
    {
     "data": {
      "text/plain": [
       "LogisticRegression()"
      ]
     },
     "execution_count": 33,
     "metadata": {},
     "output_type": "execute_result"
    }
   ],
   "source": [
    "#Model generation ----> Linear model--> Logistic Regresssion\n",
    "from sklearn.linear_model import LogisticRegression\n",
    "lr=LogisticRegression()\n",
    "lr.fit(x_train,ytrain)"
   ]
  },
  {
   "cell_type": "code",
   "execution_count": 34,
   "id": "f7f6fac7",
   "metadata": {},
   "outputs": [
    {
     "data": {
      "text/plain": [
       "0.9589285714285715"
      ]
     },
     "execution_count": 34,
     "metadata": {},
     "output_type": "execute_result"
    }
   ],
   "source": [
    "from sklearn.metrics import accuracy_score,confusion_matrix,classification_report\n",
    "accuracy_score(ytrain,lr.predict(x_train))"
   ]
  },
  {
   "cell_type": "code",
   "execution_count": 35,
   "id": "62eb2d19",
   "metadata": {},
   "outputs": [
    {
     "data": {
      "text/plain": [
       "0.9291666666666667"
      ]
     },
     "execution_count": 35,
     "metadata": {},
     "output_type": "execute_result"
    }
   ],
   "source": [
    "accuracy_score(ytest,lr.predict(x_test))\n"
   ]
  },
  {
   "cell_type": "code",
   "execution_count": 36,
   "id": "7c5ce50c",
   "metadata": {},
   "outputs": [
    {
     "data": {
      "text/plain": [
       "array([[213,   6],\n",
       "       [ 11,  10]], dtype=int64)"
      ]
     },
     "execution_count": 36,
     "metadata": {},
     "output_type": "execute_result"
    }
   ],
   "source": [
    "confusion_matrix(ytest,lr.predict(x_test))"
   ]
  },
  {
   "cell_type": "code",
   "execution_count": 37,
   "id": "b3b18737",
   "metadata": {},
   "outputs": [
    {
     "name": "stdout",
     "output_type": "stream",
     "text": [
      "              precision    recall  f1-score   support\n",
      "\n",
      "       False       0.95      0.97      0.96       219\n",
      "        True       0.62      0.48      0.54        21\n",
      "\n",
      "    accuracy                           0.93       240\n",
      "   macro avg       0.79      0.72      0.75       240\n",
      "weighted avg       0.92      0.93      0.92       240\n",
      "\n"
     ]
    }
   ],
   "source": [
    "print(classification_report(ytest,lr.predict(x_test)))"
   ]
  },
  {
   "cell_type": "code",
   "execution_count": 38,
   "id": "6875f97e",
   "metadata": {},
   "outputs": [],
   "source": [
    "lr_acc=accuracy_score(lr.predict(x_test),ytest)\n",
    "lr_con=confusion_matrix(ytest,lr.predict(x_test))\n",
    "lr_cla=classification_report(ytest,lr.predict(x_test))"
   ]
  },
  {
   "cell_type": "code",
   "execution_count": 39,
   "id": "4092a1e0",
   "metadata": {},
   "outputs": [],
   "source": [
    "#Model---> Decision Tree clssifier\n",
    "from sklearn.tree import DecisionTreeClassifier"
   ]
  },
  {
   "cell_type": "code",
   "execution_count": 40,
   "id": "6d043371",
   "metadata": {},
   "outputs": [
    {
     "data": {
      "text/plain": [
       "DecisionTreeClassifier()"
      ]
     },
     "execution_count": 40,
     "metadata": {},
     "output_type": "execute_result"
    }
   ],
   "source": [
    "dt=DecisionTreeClassifier()\n",
    "dt.fit(x_train,ytrain)"
   ]
  },
  {
   "cell_type": "code",
   "execution_count": 41,
   "id": "ff22b3b6",
   "metadata": {},
   "outputs": [
    {
     "data": {
      "text/plain": [
       "1.0"
      ]
     },
     "execution_count": 41,
     "metadata": {},
     "output_type": "execute_result"
    }
   ],
   "source": [
    "accuracy_score(ytrain,dt.predict(x_train))"
   ]
  },
  {
   "cell_type": "code",
   "execution_count": 42,
   "id": "38b2a73e",
   "metadata": {},
   "outputs": [
    {
     "data": {
      "text/plain": [
       "0.925"
      ]
     },
     "execution_count": 42,
     "metadata": {},
     "output_type": "execute_result"
    }
   ],
   "source": [
    "accuracy_score(ytest,dt.predict(x_test))"
   ]
  },
  {
   "cell_type": "code",
   "execution_count": 43,
   "id": "436adffa",
   "metadata": {},
   "outputs": [
    {
     "name": "stdout",
     "output_type": "stream",
     "text": [
      "              precision    recall  f1-score   support\n",
      "\n",
      "       False       0.96      0.96      0.96       219\n",
      "        True       0.57      0.57      0.57        21\n",
      "\n",
      "    accuracy                           0.93       240\n",
      "   macro avg       0.77      0.77      0.77       240\n",
      "weighted avg       0.93      0.93      0.93       240\n",
      "\n"
     ]
    }
   ],
   "source": [
    "print(classification_report(ytest,dt.predict(x_test)))"
   ]
  },
  {
   "cell_type": "code",
   "execution_count": 44,
   "id": "18237449",
   "metadata": {},
   "outputs": [
    {
     "data": {
      "text/plain": [
       "array([[210,   9],\n",
       "       [  9,  12]], dtype=int64)"
      ]
     },
     "execution_count": 44,
     "metadata": {},
     "output_type": "execute_result"
    }
   ],
   "source": [
    "confusion_matrix(ytest,dt.predict(x_test))"
   ]
  },
  {
   "cell_type": "code",
   "execution_count": 45,
   "id": "973d0623",
   "metadata": {},
   "outputs": [],
   "source": [
    "dt_acc=accuracy_score(ytest,dt.predict(x_test))\n",
    "dt_conf=confusion_matrix(ytest,dt.predict(x_test))\n",
    "dt_cla=classification_report(ytest,dt.predict(x_test))"
   ]
  },
  {
   "cell_type": "code",
   "execution_count": 46,
   "id": "69704de3",
   "metadata": {},
   "outputs": [],
   "source": [
    "#model ----> RandomForestClassifier as this is the classification Report\n",
    "from sklearn.ensemble import RandomForestClassifier\n",
    "rf=RandomForestClassifier()"
   ]
  },
  {
   "cell_type": "code",
   "execution_count": 47,
   "id": "1c1fb2b1",
   "metadata": {},
   "outputs": [
    {
     "data": {
      "text/plain": [
       "RandomForestClassifier()"
      ]
     },
     "execution_count": 47,
     "metadata": {},
     "output_type": "execute_result"
    }
   ],
   "source": [
    "rf.fit(x_train,ytrain)"
   ]
  },
  {
   "cell_type": "code",
   "execution_count": 48,
   "id": "2a5dc224",
   "metadata": {},
   "outputs": [
    {
     "data": {
      "text/plain": [
       "1.0"
      ]
     },
     "execution_count": 48,
     "metadata": {},
     "output_type": "execute_result"
    }
   ],
   "source": [
    "accuracy_score(ytrain,rf.predict(x_train))"
   ]
  },
  {
   "cell_type": "code",
   "execution_count": 49,
   "id": "a7219e3b",
   "metadata": {},
   "outputs": [
    {
     "data": {
      "text/plain": [
       "0.9333333333333333"
      ]
     },
     "execution_count": 49,
     "metadata": {},
     "output_type": "execute_result"
    }
   ],
   "source": [
    "accuracy_score(ytest,rf.predict(x_test))"
   ]
  },
  {
   "cell_type": "code",
   "execution_count": 50,
   "id": "c810ab2d",
   "metadata": {},
   "outputs": [
    {
     "data": {
      "text/plain": [
       "array([[213,   6],\n",
       "       [ 10,  11]], dtype=int64)"
      ]
     },
     "execution_count": 50,
     "metadata": {},
     "output_type": "execute_result"
    }
   ],
   "source": [
    "confusion_matrix(ytest,rf.predict(x_test))"
   ]
  },
  {
   "cell_type": "code",
   "execution_count": 51,
   "id": "de5cdf06",
   "metadata": {},
   "outputs": [
    {
     "name": "stdout",
     "output_type": "stream",
     "text": [
      "              precision    recall  f1-score   support\n",
      "\n",
      "       False       0.96      0.97      0.96       219\n",
      "        True       0.65      0.52      0.58        21\n",
      "\n",
      "    accuracy                           0.93       240\n",
      "   macro avg       0.80      0.75      0.77       240\n",
      "weighted avg       0.93      0.93      0.93       240\n",
      "\n"
     ]
    }
   ],
   "source": [
    "print(classification_report(ytest,rf.predict(x_test)))"
   ]
  },
  {
   "cell_type": "code",
   "execution_count": 52,
   "id": "98440264",
   "metadata": {},
   "outputs": [],
   "source": [
    "rf_acc=accuracy_score(ytest,rf.predict(x_test))\n",
    "rf_cla=classification_report(ytest,rf.predict(x_test))\n",
    "rf_con=confusion_matrix(ytest,rf.predict(x_test))"
   ]
  },
  {
   "cell_type": "code",
   "execution_count": 53,
   "id": "6d00e6ce",
   "metadata": {
    "scrolled": true
   },
   "outputs": [
    {
     "name": "stdout",
     "output_type": "stream",
     "text": [
      "0.9333333333333333 0.925 0.9291666666666667\n",
      "              precision    recall  f1-score   support\n",
      "\n",
      "       False       0.96      0.97      0.96       219\n",
      "        True       0.65      0.52      0.58        21\n",
      "\n",
      "    accuracy                           0.93       240\n",
      "   macro avg       0.80      0.75      0.77       240\n",
      "weighted avg       0.93      0.93      0.93       240\n",
      "               precision    recall  f1-score   support\n",
      "\n",
      "       False       0.96      0.96      0.96       219\n",
      "        True       0.57      0.57      0.57        21\n",
      "\n",
      "    accuracy                           0.93       240\n",
      "   macro avg       0.77      0.77      0.77       240\n",
      "weighted avg       0.93      0.93      0.93       240\n",
      "               precision    recall  f1-score   support\n",
      "\n",
      "       False       0.95      0.97      0.96       219\n",
      "        True       0.62      0.48      0.54        21\n",
      "\n",
      "    accuracy                           0.93       240\n",
      "   macro avg       0.79      0.72      0.75       240\n",
      "weighted avg       0.92      0.93      0.92       240\n",
      "\n",
      "[[213   6]\n",
      " [ 10  11]] [[210   9]\n",
      " [  9  12]] [[213   6]\n",
      " [ 11  10]]\n"
     ]
    }
   ],
   "source": [
    "print(rf_acc,dt_acc,lr_acc)\n",
    "print(rf_cla,dt_cla,lr_cla)\n",
    "print(rf_con,dt_conf,lr_con)"
   ]
  },
  {
   "cell_type": "raw",
   "id": "a47d721f",
   "metadata": {},
   "source": [
    "6. What is the precision of the Decision Tree model when the target is False?\n",
    "a. 0.90 to 0.1                #answer\n",
    "b. 0.80 to 0.90\n",
    "c. 1.0 to 2.0\n",
    "d. 0.50 to 0.60"
   ]
  },
  {
   "cell_type": "code",
   "execution_count": 54,
   "id": "27f8f9b8",
   "metadata": {
    "scrolled": true
   },
   "outputs": [
    {
     "name": "stdout",
     "output_type": "stream",
     "text": [
      "              precision    recall  f1-score   support\n",
      "\n",
      "       False       0.96      0.96      0.96       219\n",
      "        True       0.57      0.57      0.57        21\n",
      "\n",
      "    accuracy                           0.93       240\n",
      "   macro avg       0.77      0.77      0.77       240\n",
      "weighted avg       0.93      0.93      0.93       240\n",
      "\n"
     ]
    }
   ],
   "source": [
    "print(dt_cla)     # decsion Tree classification matrix"
   ]
  },
  {
   "cell_type": "code",
   "execution_count": 55,
   "id": "c39e8a63",
   "metadata": {},
   "outputs": [
    {
     "data": {
      "text/plain": [
       "0.9497716894977168"
      ]
     },
     "execution_count": 55,
     "metadata": {},
     "output_type": "execute_result"
    }
   ],
   "source": [
    "#Answer-->a. 0.90 to 0.1--->   0 .96\n",
    "\n",
    "\n",
    "208/(11+208)                # approx 95%"
   ]
  },
  {
   "cell_type": "raw",
   "id": "a5ff883c",
   "metadata": {},
   "source": [
    "7. What is the sensitivity of the above model when the target is True?\n",
    "a. 0.90 to 1.0          \n",
    "b. 0.50 to 0.60       \n",
    "c. 0.60 to 0.70\n",
    "d. 0.30 to 0.40\n"
   ]
  },
  {
   "cell_type": "code",
   "execution_count": 56,
   "id": "1d0d370c",
   "metadata": {},
   "outputs": [],
   "source": [
    "#sensitivity a.k.a Recall\n",
    "#answer--->b   0.50 to 0.60 ----> TP/(TP+FP)=12/(12+9)=.57\n"
   ]
  },
  {
   "cell_type": "raw",
   "id": "ce439d12",
   "metadata": {},
   "source": [
    "8. How much correctly classified data has been retrieved from the above model?           \n",
    "a. Between 15 to 20          ##answer\n",
    "b. Between 7 to 10\n",
    "c. Between 30 to 45\n",
    "d. Between 50 to 70"
   ]
  },
  {
   "cell_type": "code",
   "execution_count": 57,
   "id": "e816cb5d",
   "metadata": {},
   "outputs": [
    {
     "data": {
      "text/plain": [
       "array([[210,   9],\n",
       "       [  9,  12]], dtype=int64)"
      ]
     },
     "execution_count": 57,
     "metadata": {},
     "output_type": "execute_result"
    }
   ],
   "source": [
    "dt_conf      # Decesion Tree Confusion matrix"
   ]
  },
  {
   "cell_type": "code",
   "execution_count": 58,
   "id": "b3aa0a8a",
   "metadata": {},
   "outputs": [],
   "source": [
    "#Answer--->a. Between 15 to 20--->9+9=18\n"
   ]
  },
  {
   "cell_type": "raw",
   "id": "e19d5295",
   "metadata": {},
   "source": [
    "9. Decision tree models might create some biased trees if some classes dominate.\n",
    "From the below options which action is best to take so that it won't create biased trees:\n",
    "\n",
    "a. balance the dataset prior to fitting\n",
    "b. imbalance the dataset prior to fitting\n",
    "c. balance the dataset after fitting\n",
    "d. None of the above"
   ]
  },
  {
   "cell_type": "code",
   "execution_count": 59,
   "id": "677b525e",
   "metadata": {},
   "outputs": [],
   "source": [
    "#answer--->a. balance the dataset prior to fitting\n"
   ]
  },
  {
   "cell_type": "raw",
   "id": "21779643",
   "metadata": {},
   "source": [
    "10.Suppose, you have to work with an ML problem, where you have to predict\n",
    "the number of oxygen tanks needed to be shipped from Indonesia. Which\n",
    "of the following ML algorithm you will choose:\n",
    "a. Logistic regression\n",
    "b. Decision Tree\n",
    "c. Both of the above\n",
    "d. None of the above"
   ]
  },
  {
   "cell_type": "code",
   "execution_count": 60,
   "id": "fae016eb",
   "metadata": {},
   "outputs": [],
   "source": [
    "#answer--->b--------->Decision Tree\n"
   ]
  },
  {
   "cell_type": "raw",
   "id": "11e3c8fb",
   "metadata": {},
   "source": [
    "11.Which of the following is true for the Decision Tree?\n",
    "a. The model can able to generate understandable rules\n",
    "b. The model can able to handle both continuous and categorical variables\n",
    "c. It can able to perform classification without requiring much computation\n",
    "d. All of the above"
   ]
  },
  {
   "cell_type": "code",
   "execution_count": 61,
   "id": "e57a989c",
   "metadata": {},
   "outputs": [],
   "source": [
    "#Answer--> d.   All of the Above"
   ]
  },
  {
   "cell_type": "raw",
   "id": "6a70159f",
   "metadata": {},
   "source": [
    "12.The total gain is computed by adding the expected value of each\n",
    "outcome and deducting the costs associated with the decision.\n",
    "a. True\n",
    "b. False"
   ]
  },
  {
   "cell_type": "code",
   "execution_count": 62,
   "id": "b101da2c",
   "metadata": {},
   "outputs": [],
   "source": [
    "#Answer---> a.--> True"
   ]
  },
  {
   "cell_type": "raw",
   "id": "0445b744",
   "metadata": {},
   "source": [
    "\n",
    "13.How we can avoid the overfitting in Decision Tree\n",
    "a. Stopping the Tree Growth\n",
    "b. Pruning the Full Grown Tree\n",
    "c. Both of above\n",
    "d. None of the Above "
   ]
  },
  {
   "cell_type": "code",
   "execution_count": 63,
   "id": "80c79a84",
   "metadata": {},
   "outputs": [],
   "source": [
    "#Answer--->c. Both of above\n"
   ]
  },
  {
   "cell_type": "code",
   "execution_count": null,
   "id": "bd992448",
   "metadata": {},
   "outputs": [],
   "source": []
  },
  {
   "cell_type": "code",
   "execution_count": null,
   "id": "60903ebf",
   "metadata": {},
   "outputs": [],
   "source": []
  },
  {
   "cell_type": "raw",
   "id": "091f27e2",
   "metadata": {},
   "source": [
    "5. Which of the following model is the best fit for predicting the legendary of the\n",
    "pokemon based on the below parameters:\n",
    "1. Handle the missing values.\n",
    "2. Split the dataset into a 70:30 ratio with random_state as 1.\n",
    "a. Linear Regression\n",
    "b. Logistic Regression\n",
    "c. Decision Tree Model\n",
    "d. Random Forest Model\n"
   ]
  },
  {
   "cell_type": "markdown",
   "id": "37cf90b8",
   "metadata": {},
   "source": [
    "# This i have done without doing anything other then missing values."
   ]
  },
  {
   "cell_type": "code",
   "execution_count": 65,
   "id": "323d05bc",
   "metadata": {},
   "outputs": [
    {
     "data": {
      "text/html": [
       "<div>\n",
       "<style scoped>\n",
       "    .dataframe tbody tr th:only-of-type {\n",
       "        vertical-align: middle;\n",
       "    }\n",
       "\n",
       "    .dataframe tbody tr th {\n",
       "        vertical-align: top;\n",
       "    }\n",
       "\n",
       "    .dataframe thead th {\n",
       "        text-align: right;\n",
       "    }\n",
       "</style>\n",
       "<table border=\"1\" class=\"dataframe\">\n",
       "  <thead>\n",
       "    <tr style=\"text-align: right;\">\n",
       "      <th></th>\n",
       "      <th>#</th>\n",
       "      <th>Name</th>\n",
       "      <th>Type 1</th>\n",
       "      <th>Type 2</th>\n",
       "      <th>Total</th>\n",
       "      <th>HP</th>\n",
       "      <th>Attack</th>\n",
       "      <th>Defense</th>\n",
       "      <th>Sp. Atk</th>\n",
       "      <th>Sp. Def</th>\n",
       "      <th>Speed</th>\n",
       "      <th>Generation</th>\n",
       "      <th>Legendary</th>\n",
       "    </tr>\n",
       "  </thead>\n",
       "  <tbody>\n",
       "    <tr>\n",
       "      <th>0</th>\n",
       "      <td>1</td>\n",
       "      <td>Bulbasaur</td>\n",
       "      <td>Grass</td>\n",
       "      <td>Poison</td>\n",
       "      <td>318</td>\n",
       "      <td>45</td>\n",
       "      <td>49</td>\n",
       "      <td>49</td>\n",
       "      <td>65</td>\n",
       "      <td>65</td>\n",
       "      <td>45</td>\n",
       "      <td>1</td>\n",
       "      <td>False</td>\n",
       "    </tr>\n",
       "    <tr>\n",
       "      <th>1</th>\n",
       "      <td>2</td>\n",
       "      <td>Ivysaur</td>\n",
       "      <td>Grass</td>\n",
       "      <td>Poison</td>\n",
       "      <td>405</td>\n",
       "      <td>60</td>\n",
       "      <td>62</td>\n",
       "      <td>63</td>\n",
       "      <td>80</td>\n",
       "      <td>80</td>\n",
       "      <td>60</td>\n",
       "      <td>1</td>\n",
       "      <td>False</td>\n",
       "    </tr>\n",
       "    <tr>\n",
       "      <th>2</th>\n",
       "      <td>3</td>\n",
       "      <td>Venusaur</td>\n",
       "      <td>Grass</td>\n",
       "      <td>Poison</td>\n",
       "      <td>525</td>\n",
       "      <td>80</td>\n",
       "      <td>82</td>\n",
       "      <td>83</td>\n",
       "      <td>100</td>\n",
       "      <td>100</td>\n",
       "      <td>80</td>\n",
       "      <td>1</td>\n",
       "      <td>False</td>\n",
       "    </tr>\n",
       "    <tr>\n",
       "      <th>3</th>\n",
       "      <td>3</td>\n",
       "      <td>VenusaurMega Venusaur</td>\n",
       "      <td>Grass</td>\n",
       "      <td>Poison</td>\n",
       "      <td>625</td>\n",
       "      <td>80</td>\n",
       "      <td>100</td>\n",
       "      <td>123</td>\n",
       "      <td>122</td>\n",
       "      <td>120</td>\n",
       "      <td>80</td>\n",
       "      <td>1</td>\n",
       "      <td>False</td>\n",
       "    </tr>\n",
       "    <tr>\n",
       "      <th>4</th>\n",
       "      <td>4</td>\n",
       "      <td>Charmander</td>\n",
       "      <td>Fire</td>\n",
       "      <td>NaN</td>\n",
       "      <td>309</td>\n",
       "      <td>39</td>\n",
       "      <td>52</td>\n",
       "      <td>43</td>\n",
       "      <td>60</td>\n",
       "      <td>50</td>\n",
       "      <td>65</td>\n",
       "      <td>1</td>\n",
       "      <td>False</td>\n",
       "    </tr>\n",
       "    <tr>\n",
       "      <th>...</th>\n",
       "      <td>...</td>\n",
       "      <td>...</td>\n",
       "      <td>...</td>\n",
       "      <td>...</td>\n",
       "      <td>...</td>\n",
       "      <td>...</td>\n",
       "      <td>...</td>\n",
       "      <td>...</td>\n",
       "      <td>...</td>\n",
       "      <td>...</td>\n",
       "      <td>...</td>\n",
       "      <td>...</td>\n",
       "      <td>...</td>\n",
       "    </tr>\n",
       "    <tr>\n",
       "      <th>795</th>\n",
       "      <td>719</td>\n",
       "      <td>Diancie</td>\n",
       "      <td>Rock</td>\n",
       "      <td>Fairy</td>\n",
       "      <td>600</td>\n",
       "      <td>50</td>\n",
       "      <td>100</td>\n",
       "      <td>150</td>\n",
       "      <td>100</td>\n",
       "      <td>150</td>\n",
       "      <td>50</td>\n",
       "      <td>6</td>\n",
       "      <td>True</td>\n",
       "    </tr>\n",
       "    <tr>\n",
       "      <th>796</th>\n",
       "      <td>719</td>\n",
       "      <td>DiancieMega Diancie</td>\n",
       "      <td>Rock</td>\n",
       "      <td>Fairy</td>\n",
       "      <td>700</td>\n",
       "      <td>50</td>\n",
       "      <td>160</td>\n",
       "      <td>110</td>\n",
       "      <td>160</td>\n",
       "      <td>110</td>\n",
       "      <td>110</td>\n",
       "      <td>6</td>\n",
       "      <td>True</td>\n",
       "    </tr>\n",
       "    <tr>\n",
       "      <th>797</th>\n",
       "      <td>720</td>\n",
       "      <td>HoopaHoopa Confined</td>\n",
       "      <td>Psychic</td>\n",
       "      <td>Ghost</td>\n",
       "      <td>600</td>\n",
       "      <td>80</td>\n",
       "      <td>110</td>\n",
       "      <td>60</td>\n",
       "      <td>150</td>\n",
       "      <td>130</td>\n",
       "      <td>70</td>\n",
       "      <td>6</td>\n",
       "      <td>True</td>\n",
       "    </tr>\n",
       "    <tr>\n",
       "      <th>798</th>\n",
       "      <td>720</td>\n",
       "      <td>HoopaHoopa Unbound</td>\n",
       "      <td>Psychic</td>\n",
       "      <td>Dark</td>\n",
       "      <td>680</td>\n",
       "      <td>80</td>\n",
       "      <td>160</td>\n",
       "      <td>60</td>\n",
       "      <td>170</td>\n",
       "      <td>130</td>\n",
       "      <td>80</td>\n",
       "      <td>6</td>\n",
       "      <td>True</td>\n",
       "    </tr>\n",
       "    <tr>\n",
       "      <th>799</th>\n",
       "      <td>721</td>\n",
       "      <td>Volcanion</td>\n",
       "      <td>Fire</td>\n",
       "      <td>Water</td>\n",
       "      <td>600</td>\n",
       "      <td>80</td>\n",
       "      <td>110</td>\n",
       "      <td>120</td>\n",
       "      <td>130</td>\n",
       "      <td>90</td>\n",
       "      <td>70</td>\n",
       "      <td>6</td>\n",
       "      <td>True</td>\n",
       "    </tr>\n",
       "  </tbody>\n",
       "</table>\n",
       "<p>800 rows × 13 columns</p>\n",
       "</div>"
      ],
      "text/plain": [
       "       #                   Name   Type 1  Type 2  Total  HP  Attack  Defense  \\\n",
       "0      1              Bulbasaur    Grass  Poison    318  45      49       49   \n",
       "1      2                Ivysaur    Grass  Poison    405  60      62       63   \n",
       "2      3               Venusaur    Grass  Poison    525  80      82       83   \n",
       "3      3  VenusaurMega Venusaur    Grass  Poison    625  80     100      123   \n",
       "4      4             Charmander     Fire     NaN    309  39      52       43   \n",
       "..   ...                    ...      ...     ...    ...  ..     ...      ...   \n",
       "795  719                Diancie     Rock   Fairy    600  50     100      150   \n",
       "796  719    DiancieMega Diancie     Rock   Fairy    700  50     160      110   \n",
       "797  720    HoopaHoopa Confined  Psychic   Ghost    600  80     110       60   \n",
       "798  720     HoopaHoopa Unbound  Psychic    Dark    680  80     160       60   \n",
       "799  721              Volcanion     Fire   Water    600  80     110      120   \n",
       "\n",
       "     Sp. Atk  Sp. Def  Speed  Generation  Legendary  \n",
       "0         65       65     45           1      False  \n",
       "1         80       80     60           1      False  \n",
       "2        100      100     80           1      False  \n",
       "3        122      120     80           1      False  \n",
       "4         60       50     65           1      False  \n",
       "..       ...      ...    ...         ...        ...  \n",
       "795      100      150     50           6       True  \n",
       "796      160      110    110           6       True  \n",
       "797      150      130     70           6       True  \n",
       "798      170      130     80           6       True  \n",
       "799      130       90     70           6       True  \n",
       "\n",
       "[800 rows x 13 columns]"
      ]
     },
     "execution_count": 65,
     "metadata": {},
     "output_type": "execute_result"
    }
   ],
   "source": [
    "pokemon=pd.read_csv(\"D:\\Assignment (NUmpy,Visualisation, MOdels)\\Pokemon.csv\",skipinitialspace=True,na_values=\"?\",encoding=\"latin-1\") \n",
    "pokemon"
   ]
  },
  {
   "cell_type": "code",
   "execution_count": 66,
   "id": "5731a622",
   "metadata": {},
   "outputs": [],
   "source": [
    "from sklearn.model_selection import train_test_split\n",
    "pokemon.drop(\"#\",axis=1,inplace=True)"
   ]
  },
  {
   "cell_type": "code",
   "execution_count": 67,
   "id": "1e8a883f",
   "metadata": {},
   "outputs": [
    {
     "data": {
      "text/html": [
       "<div>\n",
       "<style scoped>\n",
       "    .dataframe tbody tr th:only-of-type {\n",
       "        vertical-align: middle;\n",
       "    }\n",
       "\n",
       "    .dataframe tbody tr th {\n",
       "        vertical-align: top;\n",
       "    }\n",
       "\n",
       "    .dataframe thead th {\n",
       "        text-align: right;\n",
       "    }\n",
       "</style>\n",
       "<table border=\"1\" class=\"dataframe\">\n",
       "  <thead>\n",
       "    <tr style=\"text-align: right;\">\n",
       "      <th></th>\n",
       "      <th>Name</th>\n",
       "      <th>Type 1</th>\n",
       "      <th>Type 2</th>\n",
       "      <th>Total</th>\n",
       "      <th>HP</th>\n",
       "      <th>Attack</th>\n",
       "      <th>Defense</th>\n",
       "      <th>Sp. Atk</th>\n",
       "      <th>Sp. Def</th>\n",
       "      <th>Speed</th>\n",
       "      <th>Generation</th>\n",
       "      <th>Legendary</th>\n",
       "    </tr>\n",
       "  </thead>\n",
       "  <tbody>\n",
       "    <tr>\n",
       "      <th>0</th>\n",
       "      <td>Bulbasaur</td>\n",
       "      <td>Grass</td>\n",
       "      <td>Poison</td>\n",
       "      <td>318</td>\n",
       "      <td>45</td>\n",
       "      <td>49</td>\n",
       "      <td>49</td>\n",
       "      <td>65</td>\n",
       "      <td>65</td>\n",
       "      <td>45</td>\n",
       "      <td>1</td>\n",
       "      <td>False</td>\n",
       "    </tr>\n",
       "    <tr>\n",
       "      <th>1</th>\n",
       "      <td>Ivysaur</td>\n",
       "      <td>Grass</td>\n",
       "      <td>Poison</td>\n",
       "      <td>405</td>\n",
       "      <td>60</td>\n",
       "      <td>62</td>\n",
       "      <td>63</td>\n",
       "      <td>80</td>\n",
       "      <td>80</td>\n",
       "      <td>60</td>\n",
       "      <td>1</td>\n",
       "      <td>False</td>\n",
       "    </tr>\n",
       "    <tr>\n",
       "      <th>2</th>\n",
       "      <td>Venusaur</td>\n",
       "      <td>Grass</td>\n",
       "      <td>Poison</td>\n",
       "      <td>525</td>\n",
       "      <td>80</td>\n",
       "      <td>82</td>\n",
       "      <td>83</td>\n",
       "      <td>100</td>\n",
       "      <td>100</td>\n",
       "      <td>80</td>\n",
       "      <td>1</td>\n",
       "      <td>False</td>\n",
       "    </tr>\n",
       "    <tr>\n",
       "      <th>3</th>\n",
       "      <td>VenusaurMega Venusaur</td>\n",
       "      <td>Grass</td>\n",
       "      <td>Poison</td>\n",
       "      <td>625</td>\n",
       "      <td>80</td>\n",
       "      <td>100</td>\n",
       "      <td>123</td>\n",
       "      <td>122</td>\n",
       "      <td>120</td>\n",
       "      <td>80</td>\n",
       "      <td>1</td>\n",
       "      <td>False</td>\n",
       "    </tr>\n",
       "    <tr>\n",
       "      <th>4</th>\n",
       "      <td>Charmander</td>\n",
       "      <td>Fire</td>\n",
       "      <td>NaN</td>\n",
       "      <td>309</td>\n",
       "      <td>39</td>\n",
       "      <td>52</td>\n",
       "      <td>43</td>\n",
       "      <td>60</td>\n",
       "      <td>50</td>\n",
       "      <td>65</td>\n",
       "      <td>1</td>\n",
       "      <td>False</td>\n",
       "    </tr>\n",
       "  </tbody>\n",
       "</table>\n",
       "</div>"
      ],
      "text/plain": [
       "                    Name Type 1  Type 2  Total  HP  Attack  Defense  Sp. Atk  \\\n",
       "0              Bulbasaur  Grass  Poison    318  45      49       49       65   \n",
       "1                Ivysaur  Grass  Poison    405  60      62       63       80   \n",
       "2               Venusaur  Grass  Poison    525  80      82       83      100   \n",
       "3  VenusaurMega Venusaur  Grass  Poison    625  80     100      123      122   \n",
       "4             Charmander   Fire     NaN    309  39      52       43       60   \n",
       "\n",
       "   Sp. Def  Speed  Generation  Legendary  \n",
       "0       65     45           1      False  \n",
       "1       80     60           1      False  \n",
       "2      100     80           1      False  \n",
       "3      120     80           1      False  \n",
       "4       50     65           1      False  "
      ]
     },
     "execution_count": 67,
     "metadata": {},
     "output_type": "execute_result"
    }
   ],
   "source": [
    "pokemon.head()"
   ]
  },
  {
   "cell_type": "code",
   "execution_count": 68,
   "id": "b8f4bae9",
   "metadata": {},
   "outputs": [
    {
     "data": {
      "text/plain": [
       "Name            0\n",
       "Type 1          0\n",
       "Type 2        386\n",
       "Total           0\n",
       "HP              0\n",
       "Attack          0\n",
       "Defense         0\n",
       "Sp. Atk         0\n",
       "Sp. Def         0\n",
       "Speed           0\n",
       "Generation      0\n",
       "Legendary       0\n",
       "dtype: int64"
      ]
     },
     "execution_count": 68,
     "metadata": {},
     "output_type": "execute_result"
    }
   ],
   "source": [
    "pokemon.isnull().sum()\n"
   ]
  },
  {
   "cell_type": "code",
   "execution_count": 69,
   "id": "475b2536",
   "metadata": {},
   "outputs": [],
   "source": [
    "pokemon[\"Type 2\"]=pokemon[\"Type 2\"].fillna(pokemon[\"Type 2\"].mode()[0])\n"
   ]
  },
  {
   "cell_type": "code",
   "execution_count": 70,
   "id": "9000e9f9",
   "metadata": {},
   "outputs": [
    {
     "data": {
      "text/plain": [
       "Name          0\n",
       "Type 1        0\n",
       "Type 2        0\n",
       "Total         0\n",
       "HP            0\n",
       "Attack        0\n",
       "Defense       0\n",
       "Sp. Atk       0\n",
       "Sp. Def       0\n",
       "Speed         0\n",
       "Generation    0\n",
       "Legendary     0\n",
       "dtype: int64"
      ]
     },
     "execution_count": 70,
     "metadata": {},
     "output_type": "execute_result"
    }
   ],
   "source": [
    "pokemon.isnull().sum()\n"
   ]
  },
  {
   "cell_type": "code",
   "execution_count": 71,
   "id": "0e90fda4",
   "metadata": {},
   "outputs": [],
   "source": [
    "pokemon.drop([\"Type 1\",\"Type 2\",\"Name\"],axis=1,inplace=True)\n"
   ]
  },
  {
   "cell_type": "code",
   "execution_count": 72,
   "id": "d189144b",
   "metadata": {},
   "outputs": [],
   "source": [
    "X=pokemon.iloc[:,:-1]\n",
    "Y=pokemon.iloc[:,-1]"
   ]
  },
  {
   "cell_type": "code",
   "execution_count": 73,
   "id": "c3474f5b",
   "metadata": {},
   "outputs": [
    {
     "name": "stdout",
     "output_type": "stream",
     "text": [
      "<class 'pandas.core.frame.DataFrame'>\n",
      "RangeIndex: 800 entries, 0 to 799\n",
      "Data columns (total 9 columns):\n",
      " #   Column      Non-Null Count  Dtype\n",
      "---  ------      --------------  -----\n",
      " 0   Total       800 non-null    int64\n",
      " 1   HP          800 non-null    int64\n",
      " 2   Attack      800 non-null    int64\n",
      " 3   Defense     800 non-null    int64\n",
      " 4   Sp. Atk     800 non-null    int64\n",
      " 5   Sp. Def     800 non-null    int64\n",
      " 6   Speed       800 non-null    int64\n",
      " 7   Generation  800 non-null    int64\n",
      " 8   Legendary   800 non-null    bool \n",
      "dtypes: bool(1), int64(8)\n",
      "memory usage: 50.9 KB\n"
     ]
    }
   ],
   "source": [
    "pokemon.info()"
   ]
  },
  {
   "cell_type": "code",
   "execution_count": 74,
   "id": "c552bd75",
   "metadata": {},
   "outputs": [],
   "source": [
    "xtrain,xtest,ytrain,ytest=train_test_split(X,Y,random_state=1,test_size=0.3)\n"
   ]
  },
  {
   "cell_type": "code",
   "execution_count": 75,
   "id": "0fd6da7f",
   "metadata": {},
   "outputs": [
    {
     "name": "stderr",
     "output_type": "stream",
     "text": [
      "C:\\ProgramData\\Anaconda3\\lib\\site-packages\\sklearn\\linear_model\\_logistic.py:814: ConvergenceWarning: lbfgs failed to converge (status=1):\n",
      "STOP: TOTAL NO. of ITERATIONS REACHED LIMIT.\n",
      "\n",
      "Increase the number of iterations (max_iter) or scale the data as shown in:\n",
      "    https://scikit-learn.org/stable/modules/preprocessing.html\n",
      "Please also refer to the documentation for alternative solver options:\n",
      "    https://scikit-learn.org/stable/modules/linear_model.html#logistic-regression\n",
      "  n_iter_i = _check_optimize_result(\n"
     ]
    },
    {
     "data": {
      "text/plain": [
       "LogisticRegression()"
      ]
     },
     "execution_count": 75,
     "metadata": {},
     "output_type": "execute_result"
    }
   ],
   "source": [
    "#Model generation ----> Linear model--> Logistic Regresssion\n",
    "from sklearn.linear_model import LogisticRegression\n",
    "lr=LogisticRegression()\n",
    "lr.fit(xtrain,ytrain)"
   ]
  },
  {
   "cell_type": "code",
   "execution_count": 76,
   "id": "40ccd4c6",
   "metadata": {},
   "outputs": [
    {
     "data": {
      "text/plain": [
       "0.9571428571428572"
      ]
     },
     "execution_count": 76,
     "metadata": {},
     "output_type": "execute_result"
    }
   ],
   "source": [
    "from sklearn.metrics import accuracy_score,confusion_matrix,classification_report\n",
    "accuracy_score(ytrain,lr.predict(xtrain))"
   ]
  },
  {
   "cell_type": "code",
   "execution_count": 77,
   "id": "815c8e0d",
   "metadata": {},
   "outputs": [
    {
     "data": {
      "text/plain": [
       "0.9291666666666667"
      ]
     },
     "execution_count": 77,
     "metadata": {},
     "output_type": "execute_result"
    }
   ],
   "source": [
    "accuracy_score(ytest,lr.predict(xtest))\n"
   ]
  },
  {
   "cell_type": "raw",
   "id": "457cb31d",
   "metadata": {},
   "source": [
    "lr.predict(xtest)"
   ]
  },
  {
   "cell_type": "raw",
   "id": "63009c10",
   "metadata": {},
   "source": [
    "(pd.DataFrame(lr.predict(xtest))).value_counts()"
   ]
  }
 ],
 "metadata": {
  "kernelspec": {
   "display_name": "Python 3 (ipykernel)",
   "language": "python",
   "name": "python3"
  },
  "language_info": {
   "codemirror_mode": {
    "name": "ipython",
    "version": 3
   },
   "file_extension": ".py",
   "mimetype": "text/x-python",
   "name": "python",
   "nbconvert_exporter": "python",
   "pygments_lexer": "ipython3",
   "version": "3.9.12"
  }
 },
 "nbformat": 4,
 "nbformat_minor": 5
}
