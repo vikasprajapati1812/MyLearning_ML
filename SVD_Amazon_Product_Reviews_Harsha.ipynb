{
 "cells": [
  {
   "cell_type": "markdown",
   "metadata": {
    "id": "ttUaQ0-VL32f"
   },
   "source": [
    "## SVD Project"
   ]
  },
  {
   "cell_type": "markdown",
   "metadata": {
    "id": "qBTtV8H-J80Y"
   },
   "source": [
    "## This is a SVD recommendation project on Amazon Product Reviews\n",
    "Electronic_Products User Ratings\n",
    "\n",
    "Name of the dataset is ratings_Electronics (1).csv\n",
    "\n",
    "## About Dataset\n",
    "\n",
    "Online E-commerce websites like Amazon, Filpkart uses different recommendation models to provide different suggestions to different users. Amazon currently uses item-to-item collaborative filtering, which scales to massive data sets and produces high-quality recommendations in real time. This type of filtering matches each of the user's purchased and rated items to similar items, then combines those similar items into a recommendation list for the user. In this project we are going to build recommendation model for the electronics products of Amazon.\n",
    "\n",
    "## Attribute Information:\n",
    "\n",
    "● userId : Every user identified with a unique id (First Column)\n",
    "\n",
    "● productId : Every product identified with a unique id(Second Column)\n",
    "\n",
    "● Rating : Rating of the corresponding product by the corresponding user(Third Column)\n",
    "\n",
    "● timestamp : Time of the rating ( Fourth Column)\n",
    "\n"
   ]
  },
  {
   "cell_type": "markdown",
   "metadata": {
    "id": "GL2FXFtsLz5i"
   },
   "source": [
    "## Import Libraries"
   ]
  },
  {
   "cell_type": "code",
   "execution_count": null,
   "metadata": {
    "id": "jdUPawJxJihF"
   },
   "outputs": [],
   "source": [
    "import numpy as np\n",
    "import pandas as pd"
   ]
  },
  {
   "cell_type": "markdown",
   "metadata": {
    "id": "tUxSlQxdMB-K"
   },
   "source": [
    "Load the dataset"
   ]
  },
  {
   "cell_type": "code",
   "execution_count": null,
   "metadata": {
    "id": "brk7YxOHL_eA"
   },
   "outputs": [],
   "source": [
    "user_rating_data = pd.read_csv('ratings_Electronics.csv')"
   ]
  },
  {
   "cell_type": "code",
   "execution_count": null,
   "metadata": {
    "colab": {
     "base_uri": "https://localhost:8080/",
     "height": 206
    },
    "id": "NHOu2dVQMr-2",
    "outputId": "f547a138-d1d7-4034-8bad-b8de580792e8"
   },
   "outputs": [
    {
     "data": {
      "text/html": [
       "\n",
       "  <div id=\"df-6e862d03-7f94-4b70-b8d1-568a48045137\">\n",
       "    <div class=\"colab-df-container\">\n",
       "      <div>\n",
       "<style scoped>\n",
       "    .dataframe tbody tr th:only-of-type {\n",
       "        vertical-align: middle;\n",
       "    }\n",
       "\n",
       "    .dataframe tbody tr th {\n",
       "        vertical-align: top;\n",
       "    }\n",
       "\n",
       "    .dataframe thead th {\n",
       "        text-align: right;\n",
       "    }\n",
       "</style>\n",
       "<table border=\"1\" class=\"dataframe\">\n",
       "  <thead>\n",
       "    <tr style=\"text-align: right;\">\n",
       "      <th></th>\n",
       "      <th>UserID</th>\n",
       "      <th>ProductID</th>\n",
       "      <th>Ratings</th>\n",
       "      <th>Timestamp</th>\n",
       "    </tr>\n",
       "  </thead>\n",
       "  <tbody>\n",
       "    <tr>\n",
       "      <th>0</th>\n",
       "      <td>A2CX7LUOHB2NDG</td>\n",
       "      <td>0321732944</td>\n",
       "      <td>5.0</td>\n",
       "      <td>1.341101e+09</td>\n",
       "    </tr>\n",
       "    <tr>\n",
       "      <th>1</th>\n",
       "      <td>A2NWSAGRHCP8N5</td>\n",
       "      <td>0439886341</td>\n",
       "      <td>1.0</td>\n",
       "      <td>1.367194e+09</td>\n",
       "    </tr>\n",
       "    <tr>\n",
       "      <th>2</th>\n",
       "      <td>A2WNBOD3WNDNKT</td>\n",
       "      <td>0439886341</td>\n",
       "      <td>3.0</td>\n",
       "      <td>1.374451e+09</td>\n",
       "    </tr>\n",
       "    <tr>\n",
       "      <th>3</th>\n",
       "      <td>A1GI0U4ZRJA8WN</td>\n",
       "      <td>0439886341</td>\n",
       "      <td>1.0</td>\n",
       "      <td>1.334707e+09</td>\n",
       "    </tr>\n",
       "    <tr>\n",
       "      <th>4</th>\n",
       "      <td>A1QGNMC6O1VW39</td>\n",
       "      <td>0511189877</td>\n",
       "      <td>5.0</td>\n",
       "      <td>1.397434e+09</td>\n",
       "    </tr>\n",
       "  </tbody>\n",
       "</table>\n",
       "</div>\n",
       "      <button class=\"colab-df-convert\" onclick=\"convertToInteractive('df-6e862d03-7f94-4b70-b8d1-568a48045137')\"\n",
       "              title=\"Convert this dataframe to an interactive table.\"\n",
       "              style=\"display:none;\">\n",
       "        \n",
       "  <svg xmlns=\"http://www.w3.org/2000/svg\" height=\"24px\"viewBox=\"0 0 24 24\"\n",
       "       width=\"24px\">\n",
       "    <path d=\"M0 0h24v24H0V0z\" fill=\"none\"/>\n",
       "    <path d=\"M18.56 5.44l.94 2.06.94-2.06 2.06-.94-2.06-.94-.94-2.06-.94 2.06-2.06.94zm-11 1L8.5 8.5l.94-2.06 2.06-.94-2.06-.94L8.5 2.5l-.94 2.06-2.06.94zm10 10l.94 2.06.94-2.06 2.06-.94-2.06-.94-.94-2.06-.94 2.06-2.06.94z\"/><path d=\"M17.41 7.96l-1.37-1.37c-.4-.4-.92-.59-1.43-.59-.52 0-1.04.2-1.43.59L10.3 9.45l-7.72 7.72c-.78.78-.78 2.05 0 2.83L4 21.41c.39.39.9.59 1.41.59.51 0 1.02-.2 1.41-.59l7.78-7.78 2.81-2.81c.8-.78.8-2.07 0-2.86zM5.41 20L4 18.59l7.72-7.72 1.47 1.35L5.41 20z\"/>\n",
       "  </svg>\n",
       "      </button>\n",
       "      \n",
       "  <style>\n",
       "    .colab-df-container {\n",
       "      display:flex;\n",
       "      flex-wrap:wrap;\n",
       "      gap: 12px;\n",
       "    }\n",
       "\n",
       "    .colab-df-convert {\n",
       "      background-color: #E8F0FE;\n",
       "      border: none;\n",
       "      border-radius: 50%;\n",
       "      cursor: pointer;\n",
       "      display: none;\n",
       "      fill: #1967D2;\n",
       "      height: 32px;\n",
       "      padding: 0 0 0 0;\n",
       "      width: 32px;\n",
       "    }\n",
       "\n",
       "    .colab-df-convert:hover {\n",
       "      background-color: #E2EBFA;\n",
       "      box-shadow: 0px 1px 2px rgba(60, 64, 67, 0.3), 0px 1px 3px 1px rgba(60, 64, 67, 0.15);\n",
       "      fill: #174EA6;\n",
       "    }\n",
       "\n",
       "    [theme=dark] .colab-df-convert {\n",
       "      background-color: #3B4455;\n",
       "      fill: #D2E3FC;\n",
       "    }\n",
       "\n",
       "    [theme=dark] .colab-df-convert:hover {\n",
       "      background-color: #434B5C;\n",
       "      box-shadow: 0px 1px 3px 1px rgba(0, 0, 0, 0.15);\n",
       "      filter: drop-shadow(0px 1px 2px rgba(0, 0, 0, 0.3));\n",
       "      fill: #FFFFFF;\n",
       "    }\n",
       "  </style>\n",
       "\n",
       "      <script>\n",
       "        const buttonEl =\n",
       "          document.querySelector('#df-6e862d03-7f94-4b70-b8d1-568a48045137 button.colab-df-convert');\n",
       "        buttonEl.style.display =\n",
       "          google.colab.kernel.accessAllowed ? 'block' : 'none';\n",
       "\n",
       "        async function convertToInteractive(key) {\n",
       "          const element = document.querySelector('#df-6e862d03-7f94-4b70-b8d1-568a48045137');\n",
       "          const dataTable =\n",
       "            await google.colab.kernel.invokeFunction('convertToInteractive',\n",
       "                                                     [key], {});\n",
       "          if (!dataTable) return;\n",
       "\n",
       "          const docLinkHtml = 'Like what you see? Visit the ' +\n",
       "            '<a target=\"_blank\" href=https://colab.research.google.com/notebooks/data_table.ipynb>data table notebook</a>'\n",
       "            + ' to learn more about interactive tables.';\n",
       "          element.innerHTML = '';\n",
       "          dataTable['output_type'] = 'display_data';\n",
       "          await google.colab.output.renderOutput(dataTable, element);\n",
       "          const docLink = document.createElement('div');\n",
       "          docLink.innerHTML = docLinkHtml;\n",
       "          element.appendChild(docLink);\n",
       "        }\n",
       "      </script>\n",
       "    </div>\n",
       "  </div>\n",
       "  "
      ],
      "text/plain": [
       "           UserID   ProductID  Ratings     Timestamp\n",
       "0  A2CX7LUOHB2NDG  0321732944      5.0  1.341101e+09\n",
       "1  A2NWSAGRHCP8N5  0439886341      1.0  1.367194e+09\n",
       "2  A2WNBOD3WNDNKT  0439886341      3.0  1.374451e+09\n",
       "3  A1GI0U4ZRJA8WN  0439886341      1.0  1.334707e+09\n",
       "4  A1QGNMC6O1VW39  0511189877      5.0  1.397434e+09"
      ]
     },
     "execution_count": 4,
     "metadata": {},
     "output_type": "execute_result"
    }
   ],
   "source": [
    "user_rating_data.columns = ['UserID','ProductID','Ratings','Timestamp']\n",
    "user_rating_data.head()"
   ]
  },
  {
   "cell_type": "markdown",
   "metadata": {
    "id": "7NJptwZRYyja"
   },
   "source": [
    "### Draw histogram to get idea how data is distributed"
   ]
  },
  {
   "cell_type": "code",
   "execution_count": null,
   "metadata": {
    "colab": {
     "base_uri": "https://localhost:8080/",
     "height": 346
    },
    "id": "YRZoPh0XYu-N",
    "outputId": "4e2bbd64-fb6e-4b36-c036-86fb9dac2434"
   },
   "outputs": [
    {
     "data": {
      "text/plain": [
       "array([[<matplotlib.axes._subplots.AxesSubplot object at 0x7f6ebb94e410>,\n",
       "        <matplotlib.axes._subplots.AxesSubplot object at 0x7f6ebb85d090>]],\n",
       "      dtype=object)"
      ]
     },
     "execution_count": 26,
     "metadata": {},
     "output_type": "execute_result"
    },
    {
     "data": {
      "image/png": "[encoded data removed]",
      "text/plain": [
       "<Figure size 432x288 with 2 Axes>"
      ]
     },
     "metadata": {
      "needs_background": "light"
     },
     "output_type": "display_data"
    }
   ],
   "source": [
    "user_rating_data.hist()"
   ]
  },
  {
   "cell_type": "markdown",
   "metadata": {
    "id": "ZT1CXIRHUbQi"
   },
   "source": [
    "## Take subset of data"
   ]
  },
  {
   "cell_type": "markdown",
   "metadata": {
    "id": "31GxUkqnUfYf"
   },
   "source": [
    "###Create a subset of data with users who has given ratings more than 50 times"
   ]
  },
  {
   "cell_type": "code",
   "execution_count": null,
   "metadata": {
    "colab": {
     "base_uri": "https://localhost:8080/",
     "height": 424
    },
    "id": "pgCe3nnOUdvW",
    "outputId": "f077ed9e-3ad9-47a6-a5ea-f63f57081545"
   },
   "outputs": [
    {
     "data": {
      "text/html": [
       "\n",
       "  <div id=\"df-bded718f-1e5d-4b41-a6e1-75325859a60b\">\n",
       "    <div class=\"colab-df-container\">\n",
       "      <div>\n",
       "<style scoped>\n",
       "    .dataframe tbody tr th:only-of-type {\n",
       "        vertical-align: middle;\n",
       "    }\n",
       "\n",
       "    .dataframe tbody tr th {\n",
       "        vertical-align: top;\n",
       "    }\n",
       "\n",
       "    .dataframe thead th {\n",
       "        text-align: right;\n",
       "    }\n",
       "</style>\n",
       "<table border=\"1\" class=\"dataframe\">\n",
       "  <thead>\n",
       "    <tr style=\"text-align: right;\">\n",
       "      <th></th>\n",
       "      <th>UserID</th>\n",
       "      <th>ProductID</th>\n",
       "      <th>Ratings</th>\n",
       "      <th>Timestamp</th>\n",
       "    </tr>\n",
       "  </thead>\n",
       "  <tbody>\n",
       "    <tr>\n",
       "      <th>2161</th>\n",
       "      <td>A5JLAU2ARJ0BO</td>\n",
       "      <td>1400532655</td>\n",
       "      <td>1.0</td>\n",
       "      <td>1.291334e+09</td>\n",
       "    </tr>\n",
       "    <tr>\n",
       "      <th>7788</th>\n",
       "      <td>A11D1KHM7DVOQK</td>\n",
       "      <td>B000001OMN</td>\n",
       "      <td>2.0</td>\n",
       "      <td>1.167350e+09</td>\n",
       "    </tr>\n",
       "    <tr>\n",
       "      <th>8731</th>\n",
       "      <td>A6FIAB28IS79</td>\n",
       "      <td>B00000J05A</td>\n",
       "      <td>3.0</td>\n",
       "      <td>9.855648e+08</td>\n",
       "    </tr>\n",
       "    <tr>\n",
       "      <th>10098</th>\n",
       "      <td>A11D1KHM7DVOQK</td>\n",
       "      <td>B00000J1G6</td>\n",
       "      <td>1.0</td>\n",
       "      <td>1.110499e+09</td>\n",
       "    </tr>\n",
       "    <tr>\n",
       "      <th>10721</th>\n",
       "      <td>AKT8TGIT6VVZ5</td>\n",
       "      <td>B00000J1TX</td>\n",
       "      <td>5.0</td>\n",
       "      <td>1.180224e+09</td>\n",
       "    </tr>\n",
       "    <tr>\n",
       "      <th>...</th>\n",
       "      <td>...</td>\n",
       "      <td>...</td>\n",
       "      <td>...</td>\n",
       "      <td>...</td>\n",
       "    </tr>\n",
       "    <tr>\n",
       "      <th>1201738</th>\n",
       "      <td>AKT8TGIT6VVZ5</td>\n",
       "      <td>B000ND75CU</td>\n",
       "      <td>5.0</td>\n",
       "      <td>1.366070e+09</td>\n",
       "    </tr>\n",
       "    <tr>\n",
       "      <th>1202082</th>\n",
       "      <td>A5JLAU2ARJ0BO</td>\n",
       "      <td>B000NDA4J6</td>\n",
       "      <td>1.0</td>\n",
       "      <td>1.244333e+09</td>\n",
       "    </tr>\n",
       "    <tr>\n",
       "      <th>1203082</th>\n",
       "      <td>A6FIAB28IS79</td>\n",
       "      <td>B000NDO744</td>\n",
       "      <td>3.0</td>\n",
       "      <td>1.188518e+09</td>\n",
       "    </tr>\n",
       "    <tr>\n",
       "      <th>1204487</th>\n",
       "      <td>A3OXHLG6DIBRW8</td>\n",
       "      <td>B000NF6ZK6</td>\n",
       "      <td>4.0</td>\n",
       "      <td>1.225152e+09</td>\n",
       "    </tr>\n",
       "    <tr>\n",
       "      <th>1208221</th>\n",
       "      <td>AKT8TGIT6VVZ5</td>\n",
       "      <td>B000NJIV54</td>\n",
       "      <td>5.0</td>\n",
       "      <td>1.261008e+09</td>\n",
       "    </tr>\n",
       "  </tbody>\n",
       "</table>\n",
       "<p>1702 rows × 4 columns</p>\n",
       "</div>\n",
       "      <button class=\"colab-df-convert\" onclick=\"convertToInteractive('df-bded718f-1e5d-4b41-a6e1-75325859a60b')\"\n",
       "              title=\"Convert this dataframe to an interactive table.\"\n",
       "              style=\"display:none;\">\n",
       "        \n",
       "  <svg xmlns=\"http://www.w3.org/2000/svg\" height=\"24px\"viewBox=\"0 0 24 24\"\n",
       "       width=\"24px\">\n",
       "    <path d=\"M0 0h24v24H0V0z\" fill=\"none\"/>\n",
       "    <path d=\"M18.56 5.44l.94 2.06.94-2.06 2.06-.94-2.06-.94-.94-2.06-.94 2.06-2.06.94zm-11 1L8.5 8.5l.94-2.06 2.06-.94-2.06-.94L8.5 2.5l-.94 2.06-2.06.94zm10 10l.94 2.06.94-2.06 2.06-.94-2.06-.94-.94-2.06-.94 2.06-2.06.94z\"/><path d=\"M17.41 7.96l-1.37-1.37c-.4-.4-.92-.59-1.43-.59-.52 0-1.04.2-1.43.59L10.3 9.45l-7.72 7.72c-.78.78-.78 2.05 0 2.83L4 21.41c.39.39.9.59 1.41.59.51 0 1.02-.2 1.41-.59l7.78-7.78 2.81-2.81c.8-.78.8-2.07 0-2.86zM5.41 20L4 18.59l7.72-7.72 1.47 1.35L5.41 20z\"/>\n",
       "  </svg>\n",
       "      </button>\n",
       "      \n",
       "  <style>\n",
       "    .colab-df-container {\n",
       "      display:flex;\n",
       "      flex-wrap:wrap;\n",
       "      gap: 12px;\n",
       "    }\n",
       "\n",
       "    .colab-df-convert {\n",
       "      background-color: #E8F0FE;\n",
       "      border: none;\n",
       "      border-radius: 50%;\n",
       "      cursor: pointer;\n",
       "      display: none;\n",
       "      fill: #1967D2;\n",
       "      height: 32px;\n",
       "      padding: 0 0 0 0;\n",
       "      width: 32px;\n",
       "    }\n",
       "\n",
       "    .colab-df-convert:hover {\n",
       "      background-color: #E2EBFA;\n",
       "      box-shadow: 0px 1px 2px rgba(60, 64, 67, 0.3), 0px 1px 3px 1px rgba(60, 64, 67, 0.15);\n",
       "      fill: #174EA6;\n",
       "    }\n",
       "\n",
       "    [theme=dark] .colab-df-convert {\n",
       "      background-color: #3B4455;\n",
       "      fill: #D2E3FC;\n",
       "    }\n",
       "\n",
       "    [theme=dark] .colab-df-convert:hover {\n",
       "      background-color: #434B5C;\n",
       "      box-shadow: 0px 1px 3px 1px rgba(0, 0, 0, 0.15);\n",
       "      filter: drop-shadow(0px 1px 2px rgba(0, 0, 0, 0.3));\n",
       "      fill: #FFFFFF;\n",
       "    }\n",
       "  </style>\n",
       "\n",
       "      <script>\n",
       "        const buttonEl =\n",
       "          document.querySelector('#df-bded718f-1e5d-4b41-a6e1-75325859a60b button.colab-df-convert');\n",
       "        buttonEl.style.display =\n",
       "          google.colab.kernel.accessAllowed ? 'block' : 'none';\n",
       "\n",
       "        async function convertToInteractive(key) {\n",
       "          const element = document.querySelector('#df-bded718f-1e5d-4b41-a6e1-75325859a60b');\n",
       "          const dataTable =\n",
       "            await google.colab.kernel.invokeFunction('convertToInteractive',\n",
       "                                                     [key], {});\n",
       "          if (!dataTable) return;\n",
       "\n",
       "          const docLinkHtml = 'Like what you see? Visit the ' +\n",
       "            '<a target=\"_blank\" href=https://colab.research.google.com/notebooks/data_table.ipynb>data table notebook</a>'\n",
       "            + ' to learn more about interactive tables.';\n",
       "          element.innerHTML = '';\n",
       "          dataTable['output_type'] = 'display_data';\n",
       "          await google.colab.output.renderOutput(dataTable, element);\n",
       "          const docLink = document.createElement('div');\n",
       "          docLink.innerHTML = docLinkHtml;\n",
       "          element.appendChild(docLink);\n",
       "        }\n",
       "      </script>\n",
       "    </div>\n",
       "  </div>\n",
       "  "
      ],
      "text/plain": [
       "                 UserID   ProductID  Ratings     Timestamp\n",
       "2161      A5JLAU2ARJ0BO  1400532655      1.0  1.291334e+09\n",
       "7788     A11D1KHM7DVOQK  B000001OMN      2.0  1.167350e+09\n",
       "8731       A6FIAB28IS79  B00000J05A      3.0  9.855648e+08\n",
       "10098    A11D1KHM7DVOQK  B00000J1G6      1.0  1.110499e+09\n",
       "10721     AKT8TGIT6VVZ5  B00000J1TX      5.0  1.180224e+09\n",
       "...                 ...         ...      ...           ...\n",
       "1201738   AKT8TGIT6VVZ5  B000ND75CU      5.0  1.366070e+09\n",
       "1202082   A5JLAU2ARJ0BO  B000NDA4J6      1.0  1.244333e+09\n",
       "1203082    A6FIAB28IS79  B000NDO744      3.0  1.188518e+09\n",
       "1204487  A3OXHLG6DIBRW8  B000NF6ZK6      4.0  1.225152e+09\n",
       "1208221   AKT8TGIT6VVZ5  B000NJIV54      5.0  1.261008e+09\n",
       "\n",
       "[1702 rows x 4 columns]"
      ]
     },
     "execution_count": 5,
     "metadata": {},
     "output_type": "execute_result"
    }
   ],
   "source": [
    "users_filter = user_rating_data['UserID'].value_counts()\n",
    "usersfilter_df = pd.DataFrame(users_filter).reset_index()\n",
    "usersfilter_df.columns = ['UserID','Count']\n",
    "usersfilter_df_IDs = usersfilter_df[usersfilter_df['Count'] > 100]['UserID']\n",
    "user_rating_data_Subset = user_rating_data[user_rating_data['UserID'].isin(usersfilter_df_IDs)]\n",
    "user_rating_data_Subset"
   ]
  },
  {
   "cell_type": "code",
   "execution_count": null,
   "metadata": {
    "colab": {
     "base_uri": "https://localhost:8080/"
    },
    "id": "7YNCEoRKUxCw",
    "outputId": "6bf0a7c6-3975-451b-8058-5ba4834abca1"
   },
   "outputs": [
    {
     "data": {
      "text/plain": [
       "UserID       0\n",
       "ProductID    0\n",
       "Ratings      0\n",
       "Timestamp    0\n",
       "dtype: int64"
      ]
     },
     "execution_count": 6,
     "metadata": {},
     "output_type": "execute_result"
    }
   ],
   "source": [
    "user_rating_data_Subset.isna().sum()"
   ]
  },
  {
   "cell_type": "markdown",
   "metadata": {
    "id": "Pw2nbOvfNS2f"
   },
   "source": [
    "## Implmenting SVD algo"
   ]
  },
  {
   "cell_type": "markdown",
   "metadata": {
    "id": "FuinTcCRNXdd"
   },
   "source": [
    "### Build train data and test data set"
   ]
  },
  {
   "cell_type": "code",
   "execution_count": null,
   "metadata": {
    "colab": {
     "base_uri": "https://localhost:8080/"
    },
    "id": "9zWLuwWIOdGS",
    "outputId": "47b48a03-5456-404b-a97f-91c33f41e9fb"
   },
   "outputs": [
    {
     "name": "stdout",
     "output_type": "stream",
     "text": [
      "Looking in indexes: https://pypi.org/simple, https://us-python.pkg.dev/colab-wheels/public/simple/\n",
      "Requirement already satisfied: scikit-surprise in /usr/local/lib/python3.7/dist-packages (1.1.1)\n",
      "Requirement already satisfied: six>=1.10.0 in /usr/local/lib/python3.7/dist-packages (from scikit-surprise) (1.15.0)\n",
      "Requirement already satisfied: joblib>=0.11 in /usr/local/lib/python3.7/dist-packages (from scikit-surprise) (1.2.0)\n",
      "Requirement already satisfied: numpy>=1.11.2 in /usr/local/lib/python3.7/dist-packages (from scikit-surprise) (1.21.6)\n",
      "Requirement already satisfied: scipy>=1.0.0 in /usr/local/lib/python3.7/dist-packages (from scikit-surprise) (1.7.3)\n"
     ]
    }
   ],
   "source": [
    "! pip install scikit-surprise"
   ]
  },
  {
   "cell_type": "code",
   "execution_count": null,
   "metadata": {
    "id": "HPt4m41cOQBR"
   },
   "outputs": [],
   "source": [
    "from surprise import Dataset,Reader\n",
    "from surprise.model_selection import train_test_split"
   ]
  },
  {
   "cell_type": "code",
   "execution_count": null,
   "metadata": {
    "id": "XEpAB8IhO4Mg"
   },
   "outputs": [],
   "source": [
    "reader = Reader(rating_scale=(0,5))\n",
    "data = Dataset.load_from_df(user_rating_data_Subset[['UserID','ProductID','Ratings']],reader)\n",
    "trainset,testset = train_test_split(data, test_size=.3)"
   ]
  },
  {
   "cell_type": "code",
   "execution_count": null,
   "metadata": {
    "colab": {
     "base_uri": "https://localhost:8080/"
    },
    "id": "khjdIFNjMy5u",
    "outputId": "29480df3-979c-4823-db2e-11bf6941f689"
   },
   "outputs": [
    {
     "data": {
      "text/plain": [
       "10"
      ]
     },
     "execution_count": 10,
     "metadata": {},
     "output_type": "execute_result"
    }
   ],
   "source": [
    "trainset_svd  = data.build_full_trainset()\n",
    "len(trainset_svd.ur)"
   ]
  },
  {
   "cell_type": "code",
   "execution_count": null,
   "metadata": {
    "id": "tZmQJEfsPX5M"
   },
   "outputs": [],
   "source": [
    "from surprise import SVD"
   ]
  },
  {
   "cell_type": "code",
   "execution_count": null,
   "metadata": {
    "colab": {
     "base_uri": "https://localhost:8080/"
    },
    "id": "o7W2iDJ0NeGt",
    "outputId": "04b905d4-dd33-4c6f-f755-1ee75cd11754"
   },
   "outputs": [
    {
     "data": {
      "text/plain": [
       "<surprise.prediction_algorithms.matrix_factorization.SVD at 0x7f6ebe9d78d0>"
      ]
     },
     "execution_count": 12,
     "metadata": {},
     "output_type": "execute_result"
    }
   ],
   "source": [
    "algo_svd = SVD()\n",
    "algo_svd.fit(trainset_svd)"
   ]
  },
  {
   "cell_type": "markdown",
   "metadata": {
    "id": "fr0Cp3RsPnpd"
   },
   "source": [
    "### Prepare test data set"
   ]
  },
  {
   "cell_type": "code",
   "execution_count": null,
   "metadata": {
    "colab": {
     "base_uri": "https://localhost:8080/"
    },
    "id": "DUcOdps3PbGJ",
    "outputId": "bffa1e23-c121-4fd4-ba34-78d821e3d92d"
   },
   "outputs": [
    {
     "data": {
      "text/plain": [
       "14468"
      ]
     },
     "execution_count": 13,
     "metadata": {},
     "output_type": "execute_result"
    }
   ],
   "source": [
    "testset_svd = trainset_svd.build_anti_testset()\n",
    "len(testset_svd)"
   ]
  },
  {
   "cell_type": "code",
   "execution_count": null,
   "metadata": {
    "id": "UpGvQCReTJJB"
   },
   "outputs": [],
   "source": [
    "predictions_svd = algo_svd.test(testset_svd)\n",
    "# predictions_svd"
   ]
  },
  {
   "cell_type": "markdown",
   "metadata": {
    "id": "TWQsWGAeWDJS"
   },
   "source": [
    "### Evaluate The Model"
   ]
  },
  {
   "cell_type": "code",
   "execution_count": null,
   "metadata": {
    "id": "S6GA9_hIWTvn"
   },
   "outputs": [],
   "source": [
    "from surprise import accuracy"
   ]
  },
  {
   "cell_type": "code",
   "execution_count": null,
   "metadata": {
    "colab": {
     "base_uri": "https://localhost:8080/"
    },
    "id": "Xu-3pugsTPDE",
    "outputId": "ca5a9af9-2612-4e25-8763-194d0d858464"
   },
   "outputs": [
    {
     "name": "stdout",
     "output_type": "stream",
     "text": [
      "User-based Model : Test Set\n",
      "RMSE: 0.5602\n"
     ]
    },
    {
     "data": {
      "text/plain": [
       "0.5601676958566455"
      ]
     },
     "execution_count": 20,
     "metadata": {},
     "output_type": "execute_result"
    }
   ],
   "source": [
    "print(\"User-based Model : Test Set\")\n",
    "accuracy.rmse(predictions_svd, verbose=True)"
   ]
  },
  {
   "cell_type": "code",
   "execution_count": null,
   "metadata": {
    "id": "707bVgCtWRTG"
   },
   "outputs": [],
   "source": [
    "from collections import defaultdict"
   ]
  },
  {
   "cell_type": "code",
   "execution_count": null,
   "metadata": {
    "id": "zjlclFQEWJPJ"
   },
   "outputs": [],
   "source": [
    "top_n = defaultdict(list)\n",
    "for uid, iid, true_r, est, _ in predictions_svd:\n",
    "        top_n[uid].append((iid,true_r,est,_))"
   ]
  },
  {
   "cell_type": "markdown",
   "metadata": {
    "id": "6jy59X8EWli2"
   },
   "source": [
    "### Get top 10 results for recommendations"
   ]
  },
  {
   "cell_type": "code",
   "execution_count": null,
   "metadata": {
    "id": "2Rxa4_HeWjuj"
   },
   "outputs": [],
   "source": [
    "def get_top_n(predictions, n=10):\n",
    "    # First map the predictions to each user.\n",
    "    top_n = defaultdict(list)\n",
    "    for uid, iid, true_r, est, _ in predictions:\n",
    "        top_n[uid].append((iid, est))\n",
    "\n",
    "    # Then sort the predictions for each user and retrieve the n highest ones.\n",
    "    for uid, user_ratings in top_n.items():\n",
    "        user_ratings.sort(key=lambda x: x[1], reverse=True)\n",
    "        top_n[uid] = user_ratings[:n]\n",
    "\n",
    "    return top_n"
   ]
  },
  {
   "cell_type": "code",
   "execution_count": null,
   "metadata": {
    "id": "OMVNxMFgWoj_"
   },
   "outputs": [],
   "source": [
    "top_n = get_top_n(predictions_svd, n=5)"
   ]
  },
  {
   "cell_type": "code",
   "execution_count": null,
   "metadata": {
    "colab": {
     "base_uri": "https://localhost:8080/"
    },
    "id": "kgHJKmkyWrTG",
    "outputId": "564a8892-93a0-4d1d-b2b6-5f53e9ff8fe7"
   },
   "outputs": [
    {
     "name": "stdout",
     "output_type": "stream",
     "text": [
      "A5JLAU2ARJ0BO ['B00021UJ30', 'B00004Z0C2', 'B00014K3VG', 'B0002RX1WA', 'B0000AKVHF']\n",
      "A11D1KHM7DVOQK ['B000083J0D', 'B0000645ED', 'B00008VFCT', 'B00008IP5N', 'B000FRL5ES']\n",
      "A6FIAB28IS79 ['B00006RYUX', 'B00028VKO0', 'B00005NKXS', 'B0000520I7', 'B00006IR39']\n",
      "AKT8TGIT6VVZ5 ['B00004ZCJE', 'B00005ATXJ', 'B00005O0LI', 'B00005T3SM', 'B00005V54U']\n",
      "A231WM2Z2JL0U3 ['B0006BCCPO', 'B00006LFI5', 'B0000E1717', 'B00006JQ3D', 'B0009FUFPG']\n",
      "A2B7BUH8834Y6M ['B000060OEO', 'B0009E5YNA', 'B00008IP4V', 'B000HZD2XK', 'B000IALP88']\n",
      "A3OXHLG6DIBRW8 ['B00006JQQ6', 'B000FTEG24', 'B0001LD00A', 'B0009FUFPG', 'B00078NIOA']\n",
      "A203OCQQ12MAVT ['B00006OX9D', 'B00004TS16', 'B00009K7ES', 'B00014M3ZK', 'B00004ZB57']\n",
      "AT6CZDCP4TRGA ['B00005BABT', 'B000087KY5', 'B00006B7WN', 'B00003006R', 'B00009MDBY']\n",
      "A25HBO5V8S8SEA ['B000001OMN', 'B00000J1TX', 'B00000J1US', 'B00000J9Z7', 'B00000JCTD']\n"
     ]
    }
   ],
   "source": [
    "for uid, user_ratings in top_n.items():\n",
    "    print(uid, [iid for (iid, _) in user_ratings])"
   ]
  },
  {
   "cell_type": "code",
   "execution_count": null,
   "metadata": {
    "colab": {
     "base_uri": "https://localhost:8080/"
    },
    "id": "q8_RoVesWwqg",
    "outputId": "aaa43259-96cf-4c1b-f1a7-73b085e3f3ae"
   },
   "outputs": [
    {
     "name": "stdout",
     "output_type": "stream",
     "text": [
      "user: A1V3TRGWOMA8LC item: B003ES5ZUU r_ui = None   est = 4.15   {'was_impossible': False}\n"
     ]
    }
   ],
   "source": [
    "# predict for sample user\n",
    "pred = algo_svd.predict('A1V3TRGWOMA8LC','B003ES5ZUU',verbose=True)"
   ]
  },
  {
   "cell_type": "markdown",
   "metadata": {
    "id": "an8XaiJmXxxT"
   },
   "source": [
    "# Summary:\n"
   ]
  },
  {
   "cell_type": "markdown",
   "metadata": {
    "id": "oOK1xKQiYZDi"
   },
   "source": [
    "1. Product B0088CJT4U is the most popular one to recommend to a new user (among subset of data where users who has given ratings more than 100 times**)\n",
    "2. KNNwith means algorithm can not be used as our data set doesn't have users which are very similar to each other\n",
    "3. Using SVD algorithm we can say that model getting accuracy of RMSE 0.38 (considering the subset taken as users with more than 100 ratings)\n",
    "4. For user A1V3TRGWOMA8LC and product B003ES5ZUU is most recommended one"
   ]
  },
  {
   "cell_type": "markdown",
   "metadata": {
    "id": "-h2T6DYYcMnL"
   },
   "source": [
    "### Reference\n",
    "\n",
    "[Surprise Package](https://surprise.readthedocs.io/en/stable/FAQ.html)"
   ]
  },
  {
   "cell_type": "markdown",
   "metadata": {
    "id": "bOKvecN28zOD"
   },
   "source": [
    "[dataset](https://surprise.readthedocs.io/en/stable/dataset.html)\n",
    "\n",
    "[reader](https://surprise.readthedocs.io/en/stable/reader.html)\n",
    "\n",
    "[train and test](https://surprise.readthedocs.io/en/stable/model_selection.html)\n",
    "\n",
    "[test](https://surprise.readthedocs.io/en/stable/trainset.html)\n",
    "\n",
    "[default dict](https://docs.python.org/3/library/collections.html#collections.defaultdict)\n"
   ]
  },
  {
   "cell_type": "code",
   "execution_count": null,
   "metadata": {
    "id": "y78ORaAMcZWp"
   },
   "outputs": [],
   "source": []
  }
 ],
 "metadata": {
  "accelerator": "GPU",
  "colab": {
   "provenance": []
  },
  "gpuClass": "standard",
  "kernelspec": {
   "display_name": "Python 3 (ipykernel)",
   "language": "python",
   "name": "python3"
  },
  "language_info": {
   "codemirror_mode": {
    "name": "ipython",
    "version": 3
   },
   "file_extension": ".py",
   "mimetype": "text/x-python",
   "name": "python",
   "nbconvert_exporter": "python",
   "pygments_lexer": "ipython3",
   "version": "3.9.12"
  }
 },
 "nbformat": 4,
 "nbformat_minor": 1
}
