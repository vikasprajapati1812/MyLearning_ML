{
 "cells": [
  {
   "cell_type": "code",
   "execution_count": 1,
   "id": "64ebb88a",
   "metadata": {},
   "outputs": [],
   "source": [
    "sample_list = [4,5,3,1,2]\n",
    "sample_list[0] = sample_list[len(sample_list) - 1]\n",
    "sample_list[len(sample_list) - 1] = sample_list[0]"
   ]
  },
  {
   "cell_type": "code",
   "execution_count": 2,
   "id": "abd4daf4",
   "metadata": {},
   "outputs": [
    {
     "data": {
      "text/plain": [
       "[2, 5, 3, 1, 2]"
      ]
     },
     "execution_count": 2,
     "metadata": {},
     "output_type": "execute_result"
    }
   ],
   "source": [
    "sample_list"
   ]
  },
  {
   "cell_type": "code",
   "execution_count": 3,
   "id": "325143a4",
   "metadata": {},
   "outputs": [
    {
     "name": "stdout",
     "output_type": "stream",
     "text": [
      "0 [2]\n"
     ]
    }
   ],
   "source": [
    "sample_list, sample_dict = list(), dict()\n",
    "sample_list.append(2)\n",
    "sample_dict[0] = 2\n",
    "print(sample_list.index(2), list(sample_dict.values()))"
   ]
  },
  {
   "cell_type": "code",
   "execution_count": 4,
   "id": "ce6d7d2b",
   "metadata": {},
   "outputs": [
    {
     "ename": "TypeError",
     "evalue": "'tuple' object does not support item assignment",
     "output_type": "error",
     "traceback": [
      "\u001b[1;31m---------------------------------------------------------------------------\u001b[0m",
      "\u001b[1;31mTypeError\u001b[0m                                 Traceback (most recent call last)",
      "Input \u001b[1;32mIn [4]\u001b[0m, in \u001b[0;36m<cell line: 2>\u001b[1;34m()\u001b[0m\n\u001b[0;32m      1\u001b[0m sample_tuple \u001b[38;5;241m=\u001b[39m \u001b[38;5;28mtuple\u001b[39m([\u001b[38;5;241m1\u001b[39m,\u001b[38;5;241m2\u001b[39m,\u001b[38;5;241m3\u001b[39m,\u001b[38;5;241m4\u001b[39m,\u001b[38;5;241m5\u001b[39m])\n\u001b[1;32m----> 2\u001b[0m sample_tuple[\u001b[38;5;241m0\u001b[39m] \u001b[38;5;241m=\u001b[39m \u001b[38;5;241m3\u001b[39m\n\u001b[0;32m      3\u001b[0m sample_tuple[\u001b[38;5;241m2\u001b[39m] \u001b[38;5;241m=\u001b[39m \u001b[38;5;241m4\u001b[39m\n\u001b[0;32m      4\u001b[0m \u001b[38;5;28mprint\u001b[39m(sample_tuple)\n",
      "\u001b[1;31mTypeError\u001b[0m: 'tuple' object does not support item assignment"
     ]
    }
   ],
   "source": [
    "sample_tuple = tuple([1,2,3,4,5])\n",
    "sample_tuple[0] = 3\n",
    "sample_tuple[2] = 4\n",
    "print(sample_tuple)"
   ]
  },
  {
   "cell_type": "code",
   "execution_count": 5,
   "id": "b0ba3043",
   "metadata": {},
   "outputs": [
    {
     "name": "stdout",
     "output_type": "stream",
     "text": [
      "3\n"
     ]
    }
   ],
   "source": [
    "#5) Observe the following code, and answer the questions that follow.\n",
    "list_sample, tuple_sample, set_sample = [1,2,3], (4,5,6), {7,8,9}\n",
    "list_sample.append(list(tuple_sample))\n",
    "list_sample.append(list(set_sample))\n",
    "print(list_sample[len(list_sample) - 3])\n",
    "#What will be the output when we print the last line of code?"
   ]
  },
  {
   "cell_type": "code",
   "execution_count": 7,
   "id": "5122117a",
   "metadata": {},
   "outputs": [
    {
     "data": {
      "text/plain": [
       "False"
      ]
     },
     "execution_count": 7,
     "metadata": {},
     "output_type": "execute_result"
    }
   ],
   "source": [
    "#6) What is the output of the following code:\n",
    "def func(self):\n",
    "    if self > 10:\n",
    "        return True\n",
    "    else:\n",
    "        return False\n",
    "func(5)"
   ]
  },
  {
   "cell_type": "code",
   "execution_count": 8,
   "id": "d32dd64d",
   "metadata": {},
   "outputs": [
    {
     "ename": "IndentationError",
     "evalue": "expected an indented block (3735385751.py, line 3)",
     "output_type": "error",
     "traceback": [
      "\u001b[1;36m  Input \u001b[1;32mIn [8]\u001b[1;36m\u001b[0m\n\u001b[1;33m    if self > 10:\u001b[0m\n\u001b[1;37m    ^\u001b[0m\n\u001b[1;31mIndentationError\u001b[0m\u001b[1;31m:\u001b[0m expected an indented block\n"
     ]
    }
   ],
   "source": [
    "#6) What is the output of the following code:\n",
    "def func(self):\n",
    "if self > 10:\n",
    "return True\n",
    "else:\n",
    "return False\n",
    "func(5)"
   ]
  },
  {
   "cell_type": "code",
   "execution_count": 10,
   "id": "94437a82",
   "metadata": {},
   "outputs": [],
   "source": [
    "def func(x, y, z):\n",
    "    for i in x:\n",
    "        for j in y:\n",
    "            print(j, end=\"\")\n",
    "            print(i, end=\"\")\n",
    "    return None\n"
   ]
  },
  {
   "cell_type": "code",
   "execution_count": 11,
   "id": "b4ac7b1b",
   "metadata": {},
   "outputs": [
    {
     "name": "stdout",
     "output_type": "stream",
     "text": [
      "313233"
     ]
    }
   ],
   "source": [
    "a = [1,2,3]\n",
    "b = [3]\n",
    "c = [5,6,7]\n",
    "func(a,b,c)"
   ]
  },
  {
   "cell_type": "code",
   "execution_count": 12,
   "id": "62f59c4b",
   "metadata": {},
   "outputs": [
    {
     "data": {
      "text/plain": [
       "4"
      ]
     },
     "execution_count": 12,
     "metadata": {},
     "output_type": "execute_result"
    }
   ],
   "source": [
    "#8) What is the output of the following code:\n",
    "y = lambda a,b: a**2 + b**2 - 2*a*b\n",
    "y(2,4)"
   ]
  },
  {
   "cell_type": "code",
   "execution_count": 13,
   "id": "b24e0dcd",
   "metadata": {},
   "outputs": [
    {
     "name": "stdout",
     "output_type": "stream",
     "text": [
      "[1, 2, 3, 4, 5]\n"
     ]
    }
   ],
   "source": [
    "sample = [12,22,32,42,52]\n",
    "x = map(lambda a: a//10, sample)\n",
    "print(list(x))"
   ]
  },
  {
   "cell_type": "code",
   "execution_count": 14,
   "id": "4002ee6c",
   "metadata": {},
   "outputs": [
    {
     "name": "stdout",
     "output_type": "stream",
     "text": [
      "[23, 3, 5]\n"
     ]
    }
   ],
   "source": [
    "#10) What is the output of the following code:\n",
    "def func(self):\n",
    "    if self % 2 == 0:\n",
    "        return False\n",
    "    else:\n",
    "        return True\n",
    "sample= [12,24,23,3,5,2]\n",
    "z = filter(func, sample)\n",
    "print(list(z))"
   ]
  },
  {
   "cell_type": "code",
   "execution_count": 16,
   "id": "3bb975fd",
   "metadata": {},
   "outputs": [
    {
     "name": "stdout",
     "output_type": "stream",
     "text": [
      "0,5,10,15,16,20,24,21,24,18,"
     ]
    }
   ],
   "source": [
    "#11) What is the output of the following code:\n",
    "for i in range(0, 10):\n",
    "    if i <= 3:\n",
    "        i = i*5\n",
    "    elif i > 3 and i <= 6:\n",
    "        i = i*4\n",
    "    elif i > 6 and i < 9:\n",
    "        i = i*3\n",
    "    else:\n",
    "        i = i*2\n",
    "    print(i, end=\",\")"
   ]
  },
  {
   "cell_type": "code",
   "execution_count": 17,
   "id": "e4824a02",
   "metadata": {},
   "outputs": [
    {
     "name": "stdout",
     "output_type": "stream",
     "text": [
      "[0, 0][1, 1]"
     ]
    }
   ],
   "source": [
    "#12) What is the output of the following code?\n",
    "for i in range(0,2):\n",
    "    for j in range(0,2):\n",
    "        if i != j:\n",
    "            pass\n",
    "        else:\n",
    "            print(list([i,j]), end=\"\")"
   ]
  },
  {
   "cell_type": "code",
   "execution_count": 22,
   "id": "5e159c9b",
   "metadata": {},
   "outputs": [],
   "source": [
    "#13) Observe the following code, and answer the questions that follow.\n",
    "i = 10\n",
    "count = 0\n",
    "while i > 0:\n",
    "    if i > 8:\n",
    "        i = i - 1\n",
    "    else:\n",
    "        i = i - 2\n",
    "    count = count + 1"
   ]
  },
  {
   "cell_type": "code",
   "execution_count": 23,
   "id": "8b3bc1dd",
   "metadata": {},
   "outputs": [
    {
     "data": {
      "text/plain": [
       "1"
      ]
     },
     "execution_count": 23,
     "metadata": {},
     "output_type": "execute_result"
    }
   ],
   "source": [
    "count"
   ]
  },
  {
   "cell_type": "code",
   "execution_count": 24,
   "id": "476d2cfc",
   "metadata": {},
   "outputs": [],
   "source": [
    "#13) Observe the following code, and answer the questions that follow.\n",
    "i = 10\n",
    "count = 0\n",
    "while i > 0:\n",
    "    if i > 8:\n",
    "        i = i - 1\n",
    "    else:\n",
    "        i = i - 2\n",
    "    count = count + 1"
   ]
  },
  {
   "cell_type": "code",
   "execution_count": 25,
   "id": "31494548",
   "metadata": {},
   "outputs": [
    {
     "data": {
      "text/plain": [
       "6"
      ]
     },
     "execution_count": 25,
     "metadata": {},
     "output_type": "execute_result"
    }
   ],
   "source": [
    "count"
   ]
  },
  {
   "cell_type": "code",
   "execution_count": 26,
   "id": "95a9fc57",
   "metadata": {},
   "outputs": [],
   "source": [
    "#14) Observe the following code, and answer the questions that follow.\n",
    "i = 10\n",
    "j = 0\n",
    "count = 0\n",
    "while i > 0:\n",
    "    while j < 5:\n",
    "        if j >= 2:\n",
    "            count = count + 5\n",
    "        else:\n",
    "            pass\n",
    "        j = j + 2\n",
    "    if i > 6:\n",
    "        break\n",
    "    else:\n",
    "        pass\n",
    "    i = i - 2\n",
    "#What will be the value of the count after the loop ends."
   ]
  },
  {
   "cell_type": "code",
   "execution_count": 27,
   "id": "5364db74",
   "metadata": {},
   "outputs": [
    {
     "data": {
      "text/plain": [
       "10"
      ]
     },
     "execution_count": 27,
     "metadata": {},
     "output_type": "execute_result"
    }
   ],
   "source": [
    "count"
   ]
  },
  {
   "cell_type": "code",
   "execution_count": 30,
   "id": "9901020c",
   "metadata": {},
   "outputs": [],
   "source": [
    "#14) Observe the following code, and answer the questions that follow.\n",
    "i = 10\n",
    "j = 0\n",
    "count = 0\n",
    "while i > 0:\n",
    "    while j < 5:\n",
    "        if j >= 2:\n",
    "            count = count + 5\n",
    "        else:\n",
    "            pass\n",
    "        j = j + 2\n",
    "    if i > 6:\n",
    "        break\n",
    "    else:\n",
    "        pass\n",
    "    i = i - 2\n",
    "#What will be the value of the count after the loop ends."
   ]
  },
  {
   "cell_type": "code",
   "execution_count": 31,
   "id": "a849fd89",
   "metadata": {},
   "outputs": [
    {
     "data": {
      "text/plain": [
       "10"
      ]
     },
     "execution_count": 31,
     "metadata": {},
     "output_type": "execute_result"
    }
   ],
   "source": [
    "count"
   ]
  },
  {
   "cell_type": "code",
   "execution_count": 32,
   "id": "5088666f",
   "metadata": {},
   "outputs": [],
   "source": [
    "#15) What will be the value of count after the execution of the following code:\n",
    "count = 0\n",
    "for i in range(0, 6):\n",
    "    while i < 6:\n",
    "        if i % 2 == 0:\n",
    "            count = count + 1\n",
    "        else:\n",
    "            pass\n",
    "        i = i + 5"
   ]
  },
  {
   "cell_type": "code",
   "execution_count": 33,
   "id": "6184fd35",
   "metadata": {},
   "outputs": [
    {
     "data": {
      "text/plain": [
       "3"
      ]
     },
     "execution_count": 33,
     "metadata": {},
     "output_type": "execute_result"
    }
   ],
   "source": [
    "count"
   ]
  },
  {
   "cell_type": "code",
   "execution_count": 34,
   "id": "6d9b99ed",
   "metadata": {},
   "outputs": [
    {
     "name": "stdout",
     "output_type": "stream",
     "text": [
      "25\n",
      "20\n",
      "Smaller\n"
     ]
    }
   ],
   "source": [
    "#16) Observe the following code, and answer the question that follows\n",
    "a = int(input())\n",
    "b = int(input())\n",
    "if a < b:\n",
    "    print('Greater')\n",
    "elif a == b:\n",
    "    print('equal')\n",
    "elif a > b and b > 10:\n",
    "    print('Smaller')\n",
    "elif a > 10 and b > 10:\n",
    "    print('both')\n",
    "elif a > 15 and b > 10:\n",
    "    print('only One')\n",
    "else:\n",
    "    print('None')\n",
    "#If the value of a is 25, and the value of b is 20. What will be the output of the above code."
   ]
  },
  {
   "cell_type": "code",
   "execution_count": 35,
   "id": "8f5446e4",
   "metadata": {},
   "outputs": [
    {
     "name": "stdout",
     "output_type": "stream",
     "text": [
      "Inconclusive\n"
     ]
    }
   ],
   "source": [
    "#17) What is the output of the following code\n",
    "x = 10\n",
    "y = 5\n",
    "if x < y:\n",
    "    if x == 0:\n",
    "        pass\n",
    "    elif x % 2 == 1:\n",
    "        print('Not a prime number')\n",
    "    elif x % 5 == 0:\n",
    "        print('Multiple of 5')\n",
    "    else:\n",
    "        print('Not Enough Information')\n",
    "else:\n",
    "        print('Inconclusive')"
   ]
  },
  {
   "cell_type": "code",
   "execution_count": 36,
   "id": "9a507e27",
   "metadata": {},
   "outputs": [
    {
     "name": "stdout",
     "output_type": "stream",
     "text": [
      "Multiple of 5 and greater than x\n"
     ]
    }
   ],
   "source": [
    "#18) What is the output of the following code?\n",
    "x = 10\n",
    "y = 20\n",
    "z = 15\n",
    "if x > 0:\n",
    "    if y > x and y % 5==0:\n",
    "        if z > y and z % 4==0:\n",
    "            print('Multiple of 4 and Greater than y')\n",
    "        else:\n",
    "            pass\n",
    "        print('Multiple of 5 and greater than x')\n",
    "    else:\n",
    "        pass\n",
    "else:\n",
    "    pass"
   ]
  },
  {
   "cell_type": "code",
   "execution_count": 37,
   "id": "4394d4b8",
   "metadata": {},
   "outputs": [
    {
     "name": "stdout",
     "output_type": "stream",
     "text": [
      "Multiple of 3\n"
     ]
    },
    {
     "data": {
      "text/plain": [
       "'\\n1.Not conclusive\\n2.Multiple of 2\\n3.Not in the options\\n4.Multiple of 3\\n'"
      ]
     },
     "execution_count": 37,
     "metadata": {},
     "output_type": "execute_result"
    }
   ],
   "source": [
    "#19) What is the output of the following code:\n",
    "a = 12\n",
    "b = 11\n",
    "print('Multiple of 2') if a%2==0 and b%2==0 else print('Multiple of 3') if a%3 == 0 or b%3==0 else print('Not conclusive')\n",
    "\n",
    "'''\n",
    "1.Not conclusive\n",
    "2.Multiple of 2\n",
    "3.Not in the options\n",
    "4.Multiple of 3\n",
    "'''"
   ]
  },
  {
   "cell_type": "code",
   "execution_count": 38,
   "id": "cced9778",
   "metadata": {},
   "outputs": [
    {
     "data": {
      "text/plain": [
       "13"
      ]
     },
     "execution_count": 38,
     "metadata": {},
     "output_type": "execute_result"
    }
   ],
   "source": [
    "#20) What is the output of the following code:\n",
    "def func(n):\n",
    "    if n == 1:\n",
    "        return n\n",
    "    else:\n",
    "        first = 1\n",
    "        second = 1\n",
    "        for i in range(1, n):\n",
    "            temp = first + second\n",
    "            first = second\n",
    "            second = temp\n",
    "        return second\n",
    "func(6)"
   ]
  },
  {
   "cell_type": "code",
   "execution_count": 39,
   "id": "b6d75ffa",
   "metadata": {},
   "outputs": [
    {
     "name": "stdout",
     "output_type": "stream",
     "text": [
      "77"
     ]
    }
   ],
   "source": [
    "#21) What is the output of the following code:\n",
    "def func(num, res):\n",
    "    for i in range(0, len(num)):\n",
    "        if num[i] + 3 == res:\n",
    "            print(num[i], end=\"\")\n",
    "func([1,4,3,7,8,4,6,3,7], 10)"
   ]
  },
  {
   "cell_type": "code",
   "execution_count": 42,
   "id": "9d44152f",
   "metadata": {},
   "outputs": [
    {
     "data": {
      "text/plain": [
       "1"
      ]
     },
     "execution_count": 42,
     "metadata": {},
     "output_type": "execute_result"
    }
   ],
   "source": [
    "#22) What is the output of the following code:\n",
    "list1 = [4,3,5,2,2,4,2,3,5,7,9]\n",
    "list2 = [3,4,4,5,7,9,4,6,1,3,2]\n",
    "def func(num1, num2):\n",
    "    if num1 < num2:\n",
    "        return num1\n",
    "    else:\n",
    "        return num2\n",
    "list1 = sorted(list1)\n",
    "list2 = sorted(list2)\n",
    "func(list1[0], list2[0])"
   ]
  },
  {
   "cell_type": "code",
   "execution_count": 43,
   "id": "5474a9f8",
   "metadata": {},
   "outputs": [
    {
     "ename": "SyntaxError",
     "evalue": "invalid syntax (1319008687.py, line 11)",
     "output_type": "error",
     "traceback": [
      "\u001b[1;36m  Input \u001b[1;32mIn [43]\u001b[1;36m\u001b[0m\n\u001b[1;33m    func(list1[], list2[])\u001b[0m\n\u001b[1;37m               ^\u001b[0m\n\u001b[1;31mSyntaxError\u001b[0m\u001b[1;31m:\u001b[0m invalid syntax\n"
     ]
    }
   ],
   "source": [
    "#22) What is the output of the following code:\n",
    "list1 = [4,3,5,2,2,4,2,3,5,7,9]\n",
    "list2 = [3,4,4,5,7,9,4,6,1,3,2]\n",
    "def func(num1, num2):\n",
    "    if num1 < num2:\n",
    "        return num1\n",
    "    else:\n",
    "        return num2\n",
    "list1 = sorted(list1)\n",
    "list2 = sorted(list2)\n",
    "func(list1[], list2[])"
   ]
  },
  {
   "cell_type": "code",
   "execution_count": 44,
   "id": "46b06aea",
   "metadata": {},
   "outputs": [
    {
     "name": "stdout",
     "output_type": "stream",
     "text": [
      "22"
     ]
    }
   ],
   "source": [
    "#23) What is the output of the following code?\n",
    "def func(sample, res):\n",
    "    for i in sample:\n",
    "        if i == res:\n",
    "            print(sample.index(i), end=\"\")\n",
    "sample = [1,3,5,6,3,5,6,2,1]\n",
    "func(sample, 5)"
   ]
  },
  {
   "cell_type": "code",
   "execution_count": 45,
   "id": "33ede76b",
   "metadata": {},
   "outputs": [
    {
     "name": "stdout",
     "output_type": "stream",
     "text": [
      "222"
     ]
    }
   ],
   "source": [
    "#23) What is the output of the following code?\n",
    "def func(sample, res):\n",
    "    for i in sample:\n",
    "        if i == res:\n",
    "            print(sample.index(i), end=\"\")            # sample.index(i)  this fetch the index of the first value only everytime\n",
    "sample = [1,3,5,6,3,5,6,2,1,2,4,5]\n",
    "func(sample, 5)"
   ]
  },
  {
   "cell_type": "code",
   "execution_count": 46,
   "id": "83f916c6",
   "metadata": {},
   "outputs": [
    {
     "name": "stdout",
     "output_type": "stream",
     "text": [
      "222"
     ]
    }
   ],
   "source": [
    "#23) What is the output of the following code?\n",
    "def func(sample, res):\n",
    "    for i in sample:\n",
    "        if i == res:\n",
    "            print(sample.index(i), end=\"\")\n",
    "sample = [1,3,5,6,3,5,6,2,1,2,4,5]\n",
    "func(sample, 5)"
   ]
  },
  {
   "cell_type": "code",
   "execution_count": 47,
   "id": "158c9fda",
   "metadata": {},
   "outputs": [
    {
     "name": "stdout",
     "output_type": "stream",
     "text": [
      "13.0\n"
     ]
    }
   ],
   "source": [
    "#24) What is the output of the following code?\n",
    "def func(x):\n",
    "    if x > 0:\n",
    "        x = x ** 0.5\n",
    "        print(round(x, 2))\n",
    "    else:\n",
    "        x = x ** 1.5\n",
    "        print(round(x, 2))\n",
    "func(169)"
   ]
  },
  {
   "cell_type": "code",
   "execution_count": 48,
   "id": "80c7c983",
   "metadata": {},
   "outputs": [
    {
     "name": "stdout",
     "output_type": "stream",
     "text": [
      "28"
     ]
    }
   ],
   "source": [
    "#25) What is the output of the following code?\n",
    "arr = [1,1,2,3,3,4,5,4,6,5,6,7,7,8]\n",
    "dup = []\n",
    "def func(sample):\n",
    "    for x in sample:\n",
    "        if sample.count(x) > 1:\n",
    "            dup.append(x)\n",
    "    for i in sample:\n",
    "        if i in dup:\n",
    "            pass\n",
    "        else:\n",
    "            print(i, end=\"\")\n",
    "func(arr)"
   ]
  },
  {
   "cell_type": "code",
   "execution_count": 49,
   "id": "f5a8efde",
   "metadata": {},
   "outputs": [
    {
     "name": "stdout",
     "output_type": "stream",
     "text": [
      "[1]\n",
      "[1, 1]\n",
      "[1, 1]\n",
      "[1, 1, 3]\n",
      "[1, 1, 3, 3]\n",
      "[1, 1, 3, 3, 4]\n",
      "[1, 1, 3, 3, 4, 5]\n",
      "[1, 1, 3, 3, 4, 5, 4]\n",
      "[1, 1, 3, 3, 4, 5, 4, 6]\n",
      "[1, 1, 3, 3, 4, 5, 4, 6, 5]\n",
      "[1, 1, 3, 3, 4, 5, 4, 6, 5, 6]\n",
      "[1, 1, 3, 3, 4, 5, 4, 6, 5, 6, 7]\n",
      "[1, 1, 3, 3, 4, 5, 4, 6, 5, 6, 7, 7]\n",
      "[1, 1, 3, 3, 4, 5, 4, 6, 5, 6, 7, 7]\n",
      "28"
     ]
    }
   ],
   "source": [
    "arr = [1,1,2,3,3,4,5,4,6,5,6,7,7,8]\n",
    "dup = []\n",
    "def func(sample):\n",
    "    for x in sample:\n",
    "        if sample.count(x) > 1:\n",
    "            dup.append(x)\n",
    "        print(dup)\n",
    "    for i in sample:\n",
    "        if i in dup:\n",
    "            pass\n",
    "        else:\n",
    "            print(i, end=\"\")        # simply  2 and 8 are not there so it prints it withouspace as in print satatement 28\n",
    "func(arr)"
   ]
  },
  {
   "cell_type": "code",
   "execution_count": null,
   "id": "007d5443",
   "metadata": {},
   "outputs": [],
   "source": []
  }
 ],
 "metadata": {
  "kernelspec": {
   "display_name": "Python 3 (ipykernel)",
   "language": "python",
   "name": "python3"
  },
  "language_info": {
   "codemirror_mode": {
    "name": "ipython",
    "version": 3
   },
   "file_extension": ".py",
   "mimetype": "text/x-python",
   "name": "python",
   "nbconvert_exporter": "python",
   "pygments_lexer": "ipython3",
   "version": "3.9.12"
  }
 },
 "nbformat": 4,
 "nbformat_minor": 5
}
