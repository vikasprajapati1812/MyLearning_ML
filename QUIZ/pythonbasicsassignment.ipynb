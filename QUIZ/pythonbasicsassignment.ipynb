{
 "cells": [
  {
   "cell_type": "code",
   "execution_count": 1,
   "id": "307eab19",
   "metadata": {},
   "outputs": [
    {
     "data": {
      "text/plain": [
       "'Q1. Using Python script as a calculator\\nCreate the variables n, r, p and assign them values 10, 5, and 100 respectively. Then\\nevaluate the following expression in the Python console.\\n𝐴 = 𝑝 (1 + 𝑟/ 100)n   '"
      ]
     },
     "execution_count": 1,
     "metadata": {},
     "output_type": "execute_result"
    }
   ],
   "source": [
    "'''Q1. Using Python script as a calculator\n",
    "Create the variables n, r, p and assign them values 10, 5, and 100 respectively. Then\n",
    "evaluate the following expression in the Python console.\n",
    "𝐴 = 𝑝 (1 + 𝑟/ 100)n   '''"
   ]
  },
  {
   "cell_type": "code",
   "execution_count": 21,
   "id": "941d9f7e",
   "metadata": {},
   "outputs": [
    {
     "name": "stdout",
     "output_type": "stream",
     "text": [
      "the value of A is = 162.8894626777442\n"
     ]
    }
   ],
   "source": [
    "n=10\n",
    "r=5\n",
    "p=100\n",
    "A=p*pow((1+r/100),n)\n",
    "print('the value of A is =',A)"
   ]
  },
  {
   "cell_type": "code",
   "execution_count": 22,
   "id": "3eba816a",
   "metadata": {},
   "outputs": [
    {
     "data": {
      "text/plain": [
       "'Q2. In a given string format operation, how will you print the given string.\\nA = 10\\nB = 20\\nStr = \"There are {} students in the class, with {} who play at least one sport.\"\\n'"
      ]
     },
     "execution_count": 22,
     "metadata": {},
     "output_type": "execute_result"
    }
   ],
   "source": [
    "'''Q2. In a given string format operation, how will you print the given string.\n",
    "A = 10\n",
    "B = 20\n",
    "Str = \"There are {} students in the class, with {} who play at least one sport.\"\n",
    "'''"
   ]
  },
  {
   "cell_type": "code",
   "execution_count": 23,
   "id": "7d118312",
   "metadata": {},
   "outputs": [
    {
     "name": "stdout",
     "output_type": "stream",
     "text": [
      "There are 20 students in the class, with 10 who play at least one sport.\n"
     ]
    }
   ],
   "source": [
    "A=10\n",
    "B=20\n",
    "Str=\"There are {} students in the class, with {} who play at least one sport.\"\n",
    "print(Str.format(B,A))"
   ]
  },
  {
   "cell_type": "code",
   "execution_count": 24,
   "id": "62b32233",
   "metadata": {},
   "outputs": [
    {
     "name": "stdout",
     "output_type": "stream",
     "text": [
      "str=There are 20 students in the class, with 10 who play at least one sport.\n"
     ]
    }
   ],
   "source": [
    "A=10\n",
    "B=20\n",
    "print(\"str=There are {} students in the class, with {} who play at least one sport.\".format(B,A))"
   ]
  },
  {
   "cell_type": "code",
   "execution_count": 25,
   "id": "81183b49",
   "metadata": {},
   "outputs": [
    {
     "data": {
      "text/plain": [
       "'Q3. In a given sample string, How do you print a double quoted string in between a\\nregular\\nstring using the escape character?'"
      ]
     },
     "execution_count": 25,
     "metadata": {},
     "output_type": "execute_result"
    }
   ],
   "source": [
    "'''Q3. In a given sample string, How do you print a double quoted string in between a\n",
    "regular\n",
    "string using the escape character?'''\n",
    "Sample output = It goes without saying, “Time is Money”, and none can deny it."
   ]
  },
  {
   "cell_type": "code",
   "execution_count": 32,
   "id": "cac16c8d",
   "metadata": {},
   "outputs": [
    {
     "name": "stdout",
     "output_type": "stream",
     "text": [
      "It goes without saying, \"Time is Money\", and none can deny it.\n"
     ]
    }
   ],
   "source": [
    "print(\"It goes without saying, \\\"Time is Money\\\", and none can deny it.\")"
   ]
  },
  {
   "cell_type": "code",
   "execution_count": 34,
   "id": "160d0f10",
   "metadata": {},
   "outputs": [
    {
     "data": {
      "text/plain": [
       "'Q4.What will be the output of the following code?\\nx = lambda a,b: a//b\\nx(10,3)\\n'"
      ]
     },
     "execution_count": 34,
     "metadata": {},
     "output_type": "execute_result"
    }
   ],
   "source": [
    "'''Q4.What will be the output of the following code?\n",
    "x = lambda a,b: a//b\n",
    "x(10,3)\n",
    "'''\n"
   ]
  },
  {
   "cell_type": "code",
   "execution_count": 35,
   "id": "97522e17",
   "metadata": {},
   "outputs": [
    {
     "data": {
      "text/plain": [
       "3"
      ]
     },
     "execution_count": 35,
     "metadata": {},
     "output_type": "execute_result"
    }
   ],
   "source": [
    "x=lambda a,b:a//b\n",
    "x(10,3)"
   ]
  },
  {
   "cell_type": "code",
   "execution_count": 37,
   "id": "385e92c4",
   "metadata": {},
   "outputs": [
    {
     "data": {
      "text/plain": [
       "'Q5. What will be the output of the following code?\\nA = 10\\nB = 12\\nprint(\"Smaller\") if A == B else print(\"Greater\") if A < B else print(\"True\")'"
      ]
     },
     "execution_count": 37,
     "metadata": {},
     "output_type": "execute_result"
    }
   ],
   "source": [
    "'''Q5. What will be the output of the following code?\n",
    "A = 10\n",
    "B = 12\n",
    "print(\"Smaller\") if A == B else print(\"Greater\") if A < B else print(\"True\")'''"
   ]
  },
  {
   "cell_type": "code",
   "execution_count": 38,
   "id": "c964517c",
   "metadata": {},
   "outputs": [
    {
     "name": "stdout",
     "output_type": "stream",
     "text": [
      "Greater\n"
     ]
    }
   ],
   "source": [
    "A=10\n",
    "B=12\n",
    "print('smaller') if A==B else print('Greater') if A<B else print ('True')"
   ]
  },
  {
   "cell_type": "code",
   "execution_count": 39,
   "id": "bec98ee3",
   "metadata": {},
   "outputs": [
    {
     "data": {
      "text/plain": [
       "'Q6. What will be the output of the following code?\\n import os \\n import  numpy as np\\n my_list=[2,7,3,5,4,6]\\n print(my_list)\\n arr_1=numpy.array(my_list1,dtype=int)\\n print(arr_1)'"
      ]
     },
     "execution_count": 39,
     "metadata": {},
     "output_type": "execute_result"
    }
   ],
   "source": [
    "'''Q6. What will be the output of the following code?\n",
    " import os \n",
    " import  numpy as np\n",
    " my_list=[2,7,3,5,4,6]\n",
    " print(my_list)\n",
    " arr_1=numpy.array(my_list1,dtype=int)\n",
    " print(arr_1)'''"
   ]
  },
  {
   "cell_type": "code",
   "execution_count": 42,
   "id": "eb55018c",
   "metadata": {},
   "outputs": [
    {
     "name": "stdout",
     "output_type": "stream",
     "text": [
      "[2, 7, 3, 5, 4, 6]\n"
     ]
    },
    {
     "ename": "NameError",
     "evalue": "name 'numpy' is not defined",
     "output_type": "error",
     "traceback": [
      "\u001b[1;31m---------------------------------------------------------------------------\u001b[0m",
      "\u001b[1;31mNameError\u001b[0m                                 Traceback (most recent call last)",
      "Input \u001b[1;32mIn [42]\u001b[0m, in \u001b[0;36m<cell line: 5>\u001b[1;34m()\u001b[0m\n\u001b[0;32m      3\u001b[0m my_list\u001b[38;5;241m=\u001b[39m[\u001b[38;5;241m2\u001b[39m,\u001b[38;5;241m7\u001b[39m,\u001b[38;5;241m3\u001b[39m,\u001b[38;5;241m5\u001b[39m,\u001b[38;5;241m4\u001b[39m,\u001b[38;5;241m6\u001b[39m]\n\u001b[0;32m      4\u001b[0m \u001b[38;5;28mprint\u001b[39m(my_list)\n\u001b[1;32m----> 5\u001b[0m arr_1\u001b[38;5;241m=\u001b[39m\u001b[43mnumpy\u001b[49m\u001b[38;5;241m.\u001b[39marray(my_list1,dtype\u001b[38;5;241m=\u001b[39m\u001b[38;5;28mint\u001b[39m)\n\u001b[0;32m      6\u001b[0m \u001b[38;5;28mprint\u001b[39m(arr_1)\n",
      "\u001b[1;31mNameError\u001b[0m: name 'numpy' is not defined"
     ]
    }
   ],
   "source": [
    "import os \n",
    "import numpy as np\n",
    "my_list=[2,7,3,5,4,6]\n",
    "print(my_list)\n",
    "arr_1=numpy.array(my_list1,dtype=int)\n",
    "print(arr_1)"
   ]
  },
  {
   "cell_type": "code",
   "execution_count": null,
   "id": "dddc6775",
   "metadata": {},
   "outputs": [],
   "source": [
    "'''Q7. Create a string called ‘string’ with the value as “Machine Learning”. Which code(s)\n",
    "is/are appropriate to slice the substring “Learn”?'''"
   ]
  },
  {
   "cell_type": "code",
   "execution_count": 43,
   "id": "918e6df9",
   "metadata": {},
   "outputs": [
    {
     "data": {
      "text/plain": [
       "'Learni'"
      ]
     },
     "execution_count": 43,
     "metadata": {},
     "output_type": "execute_result"
    }
   ],
   "source": [
    "string='Machine Learning'\n",
    "string[8:14]"
   ]
  },
  {
   "cell_type": "code",
   "execution_count": 46,
   "id": "59ecf2ee",
   "metadata": {},
   "outputs": [
    {
     "data": {
      "text/plain": [
       "'Learn'"
      ]
     },
     "execution_count": 46,
     "metadata": {},
     "output_type": "execute_result"
    }
   ],
   "source": [
    "string[8:13:1]"
   ]
  },
  {
   "cell_type": "code",
   "execution_count": 47,
   "id": "12afe8d4",
   "metadata": {},
   "outputs": [
    {
     "data": {
      "text/plain": [
       "'Learn'"
      ]
     },
     "execution_count": 47,
     "metadata": {},
     "output_type": "execute_result"
    }
   ],
   "source": [
    "string[slice(8,13,1)]"
   ]
  },
  {
   "cell_type": "code",
   "execution_count": null,
   "id": "c25e86f3",
   "metadata": {},
   "outputs": [],
   "source": [
    "'''Q8.Create a sequence of numbers from 10 to 25 and increment by 4. What is the index\n",
    "of the value 18?\n",
    "'''"
   ]
  },
  {
   "cell_type": "code",
   "execution_count": 54,
   "id": "165ae6fa",
   "metadata": {},
   "outputs": [
    {
     "data": {
      "text/plain": [
       "2"
      ]
     },
     "execution_count": 54,
     "metadata": {},
     "output_type": "execute_result"
    }
   ],
   "source": [
    "S=10,14,18,22\n",
    "S.index(18)"
   ]
  },
  {
   "cell_type": "code",
   "execution_count": null,
   "id": "8186cb04",
   "metadata": {},
   "outputs": [],
   "source": [
    "'''Q9. Which of the following is true with respect to the below codes?\n",
    "num1 =5**4\n",
    "num2=pow(5,4)\n",
    "print (num1,num2)'''"
   ]
  },
  {
   "cell_type": "code",
   "execution_count": 56,
   "id": "5d0bfbb1",
   "metadata": {},
   "outputs": [
    {
     "name": "stdout",
     "output_type": "stream",
     "text": [
      "625 625\n"
     ]
    }
   ],
   "source": [
    "num1 =5**4\n",
    "num2=pow(5,4)\n",
    "print (num1,num2)"
   ]
  },
  {
   "cell_type": "code",
   "execution_count": null,
   "id": "f42b21f1",
   "metadata": {},
   "outputs": [],
   "source": [
    "num1=num2"
   ]
  },
  {
   "cell_type": "code",
   "execution_count": null,
   "id": "e5900168",
   "metadata": {},
   "outputs": [],
   "source": [
    "'''Q10.A Python NameError exception is raised when:'''"
   ]
  },
  {
   "cell_type": "code",
   "execution_count": null,
   "id": "ec87b696",
   "metadata": {},
   "outputs": [],
   "source": [
    "answer-->a. Trying to access a variable which has not been defined\n"
   ]
  },
  {
   "cell_type": "code",
   "execution_count": 57,
   "id": "ef587da5",
   "metadata": {},
   "outputs": [
    {
     "data": {
      "text/plain": [
       "'Q11.What type of exception will be raised for the code given below?\\nx= \"string\"\\nint(x)'"
      ]
     },
     "execution_count": 57,
     "metadata": {},
     "output_type": "execute_result"
    }
   ],
   "source": [
    "'''Q11.What type of exception will be raised for the code given below?\n",
    "x= \"string\"\n",
    "int(x)'''"
   ]
  },
  {
   "cell_type": "code",
   "execution_count": 58,
   "id": "647b596b",
   "metadata": {
    "scrolled": true
   },
   "outputs": [
    {
     "ename": "ValueError",
     "evalue": "invalid literal for int() with base 10: 'string'",
     "output_type": "error",
     "traceback": [
      "\u001b[1;31m---------------------------------------------------------------------------\u001b[0m",
      "\u001b[1;31mValueError\u001b[0m                                Traceback (most recent call last)",
      "Input \u001b[1;32mIn [58]\u001b[0m, in \u001b[0;36m<cell line: 2>\u001b[1;34m()\u001b[0m\n\u001b[0;32m      1\u001b[0m x\u001b[38;5;241m=\u001b[39m \u001b[38;5;124m\"\u001b[39m\u001b[38;5;124mstring\u001b[39m\u001b[38;5;124m\"\u001b[39m\n\u001b[1;32m----> 2\u001b[0m \u001b[38;5;28;43mint\u001b[39;49m\u001b[43m(\u001b[49m\u001b[43mx\u001b[49m\u001b[43m)\u001b[49m\n",
      "\u001b[1;31mValueError\u001b[0m: invalid literal for int() with base 10: 'string'"
     ]
    }
   ],
   "source": [
    "x= \"string\"\n",
    "int(x)"
   ]
  },
  {
   "cell_type": "code",
   "execution_count": null,
   "id": "1b9f6d1d",
   "metadata": {},
   "outputs": [],
   "source": [
    "answer--> value error"
   ]
  },
  {
   "cell_type": "code",
   "execution_count": null,
   "id": "dbbcf29e",
   "metadata": {},
   "outputs": [],
   "source": [
    "'''Q12.A FileNotFoundError exception is \n",
    "raised by operating system errors when: -'''"
   ]
  },
  {
   "cell_type": "code",
   "execution_count": null,
   "id": "270fdc24",
   "metadata": {},
   "outputs": [],
   "source": [
    "answer-->b.      A file or directory is requested but does not exist\n",
    "                in the working directory\n"
   ]
  },
  {
   "cell_type": "code",
   "execution_count": null,
   "id": "af65cdea",
   "metadata": {},
   "outputs": [],
   "source": [
    "'''Q13.Consider a variable Z. The value \n",
    "of Z is \"ID-5632\". Data type of Z is: -'''"
   ]
  },
  {
   "cell_type": "code",
   "execution_count": 63,
   "id": "b61a200a",
   "metadata": {},
   "outputs": [
    {
     "ename": "NameError",
     "evalue": "name 'ID' is not defined",
     "output_type": "error",
     "traceback": [
      "\u001b[1;31m---------------------------------------------------------------------------\u001b[0m",
      "\u001b[1;31mNameError\u001b[0m                                 Traceback (most recent call last)",
      "Input \u001b[1;32mIn [63]\u001b[0m, in \u001b[0;36m<cell line: 1>\u001b[1;34m()\u001b[0m\n\u001b[1;32m----> 1\u001b[0m Z\u001b[38;5;241m=\u001b[39m\u001b[43mID\u001b[49m\u001b[38;5;241m-\u001b[39m\u001b[38;5;241m5632\u001b[39m\n\u001b[0;32m      2\u001b[0m \u001b[38;5;28mprint\u001b[39m(\u001b[38;5;28mtype\u001b[39m(Z))\n",
      "\u001b[1;31mNameError\u001b[0m: name 'ID' is not defined"
     ]
    }
   ],
   "source": [
    "Z=ID-5632\n",
    "print(type(Z))"
   ]
  },
  {
   "cell_type": "code",
   "execution_count": null,
   "id": "aad953ae",
   "metadata": {},
   "outputs": [],
   "source": [
    "answer--> a. Complex"
   ]
  },
  {
   "cell_type": "code",
   "execution_count": null,
   "id": "e9940d6e",
   "metadata": {},
   "outputs": [],
   "source": [
    "'''Q14.Which of the following variable(s) are character data type?\n",
    "a. K= “4”\n",
    "b. J= “Welcome”\n",
    "c. L= “?”\n",
    "d. All of the above\n",
    "'''"
   ]
  },
  {
   "cell_type": "code",
   "execution_count": null,
   "id": "ccf1899f",
   "metadata": {},
   "outputs": [],
   "source": [
    "answer--> d"
   ]
  },
  {
   "cell_type": "code",
   "execution_count": null,
   "id": "516114d9",
   "metadata": {},
   "outputs": [],
   "source": [
    "'''Q15.Choose the symbol/s that does not have the ability\n",
    "to convert any values to string?\n",
    "a. ( )\n",
    "b. “ ”\n",
    "c. {}\n",
    "d. #\n",
    "'''"
   ]
  },
  {
   "cell_type": "code",
   "execution_count": null,
   "id": "d0793292",
   "metadata": {},
   "outputs": [],
   "source": [
    "answer--> d"
   ]
  },
  {
   "cell_type": "code",
   "execution_count": null,
   "id": "0def234f",
   "metadata": {},
   "outputs": [],
   "source": [
    "'''Q16.Create a dictionary ‘Country’ that maps the\n",
    "following countries to their capitals respectively\n",
    "Country           India     China     Japan    Qatar    France\n",
    "State             Delhi     Beijing   Tokyo    Doha     Marseilles\n",
    "Find 2 commands to replace “Marseilles” with “Paris” is'''"
   ]
  },
  {
   "cell_type": "code",
   "execution_count": 78,
   "id": "5b467f5f",
   "metadata": {},
   "outputs": [],
   "source": [
    "COUNTRIES={\"Country\":\"States\",\"India\":\"Delhi\",\"China\":\"Beijing\",\n",
    "           \"Japan\":\"Tokyo\",\"Qatar\":\"Doha\",\"France\":\"Marseilles\"}"
   ]
  },
  {
   "cell_type": "code",
   "execution_count": 79,
   "id": "a8966326",
   "metadata": {},
   "outputs": [
    {
     "data": {
      "text/plain": [
       "{'Country': 'States',\n",
       " 'India': 'Delhi',\n",
       " 'China': 'Beijing',\n",
       " 'Japan': 'Tokyo',\n",
       " 'Qatar': 'Doha',\n",
       " 'France': 'Marseilles'}"
      ]
     },
     "execution_count": 79,
     "metadata": {},
     "output_type": "execute_result"
    }
   ],
   "source": [
    "COUNTRIES"
   ]
  },
  {
   "cell_type": "code",
   "execution_count": 80,
   "id": "d857f752",
   "metadata": {},
   "outputs": [],
   "source": [
    "COUNTRIES['France']=\"Paris\""
   ]
  },
  {
   "cell_type": "code",
   "execution_count": 81,
   "id": "83873f3c",
   "metadata": {},
   "outputs": [
    {
     "data": {
      "text/plain": [
       "{'Country': 'States',\n",
       " 'India': 'Delhi',\n",
       " 'China': 'Beijing',\n",
       " 'Japan': 'Tokyo',\n",
       " 'Qatar': 'Doha',\n",
       " 'France': 'Paris'}"
      ]
     },
     "execution_count": 81,
     "metadata": {},
     "output_type": "execute_result"
    }
   ],
   "source": [
    "COUNTRIES"
   ]
  },
  {
   "cell_type": "code",
   "execution_count": 82,
   "id": "4792fb58",
   "metadata": {},
   "outputs": [],
   "source": [
    "COUNTRIES[\"France\"]=\"Mareilles\""
   ]
  },
  {
   "cell_type": "code",
   "execution_count": 83,
   "id": "6541bfc6",
   "metadata": {},
   "outputs": [],
   "source": [
    "COUNTRIES.update({\"France\":\"Paris\"})"
   ]
  },
  {
   "cell_type": "code",
   "execution_count": 84,
   "id": "ad13736a",
   "metadata": {},
   "outputs": [
    {
     "data": {
      "text/plain": [
       "{'Country': 'States',\n",
       " 'India': 'Delhi',\n",
       " 'China': 'Beijing',\n",
       " 'Japan': 'Tokyo',\n",
       " 'Qatar': 'Doha',\n",
       " 'France': 'Paris'}"
      ]
     },
     "execution_count": 84,
     "metadata": {},
     "output_type": "execute_result"
    }
   ],
   "source": [
    "COUNTRIES"
   ]
  },
  {
   "cell_type": "code",
   "execution_count": null,
   "id": "27b19097",
   "metadata": {},
   "outputs": [],
   "source": [
    "'''Q17. Create the tuples given below\n",
    "tuple_1 = (1,5,6,7,8)\n",
    "tuple_2 = (8,9,4)\n",
    "Identify which of the following code does not work on a tuple.\n",
    "a. sum(tuple_1)\n",
    "b. len(tuple_2)\n",
    "c. tuple_2 + tuple_1\n",
    "d. tuple_1[3] = 45\n",
    "'''"
   ]
  },
  {
   "cell_type": "code",
   "execution_count": 86,
   "id": "5633b606",
   "metadata": {},
   "outputs": [
    {
     "data": {
      "text/plain": [
       "27"
      ]
     },
     "execution_count": 86,
     "metadata": {},
     "output_type": "execute_result"
    }
   ],
   "source": [
    "Tuple_1=(1,5,6,7,8)\n",
    "Tuple_2=(8,9,4)\n",
    "sum(Tuple_1)"
   ]
  },
  {
   "cell_type": "code",
   "execution_count": 87,
   "id": "c50b2365",
   "metadata": {},
   "outputs": [
    {
     "data": {
      "text/plain": [
       "3"
      ]
     },
     "execution_count": 87,
     "metadata": {},
     "output_type": "execute_result"
    }
   ],
   "source": [
    "len(Tuple_2)"
   ]
  },
  {
   "cell_type": "code",
   "execution_count": 88,
   "id": "ffc941e8",
   "metadata": {},
   "outputs": [
    {
     "data": {
      "text/plain": [
       "(8, 9, 4, 1, 5, 6, 7, 8)"
      ]
     },
     "execution_count": 88,
     "metadata": {},
     "output_type": "execute_result"
    }
   ],
   "source": [
    "Tuple_2 +Tuple_1"
   ]
  },
  {
   "cell_type": "code",
   "execution_count": 89,
   "id": "751b6e2d",
   "metadata": {},
   "outputs": [
    {
     "ename": "TypeError",
     "evalue": "'tuple' object does not support item assignment",
     "output_type": "error",
     "traceback": [
      "\u001b[1;31m---------------------------------------------------------------------------\u001b[0m",
      "\u001b[1;31mTypeError\u001b[0m                                 Traceback (most recent call last)",
      "Input \u001b[1;32mIn [89]\u001b[0m, in \u001b[0;36m<cell line: 1>\u001b[1;34m()\u001b[0m\n\u001b[1;32m----> 1\u001b[0m Tuple_1[\u001b[38;5;241m3\u001b[39m]\u001b[38;5;241m=\u001b[39m\u001b[38;5;241m45\u001b[39m\n",
      "\u001b[1;31mTypeError\u001b[0m: 'tuple' object does not support item assignment"
     ]
    }
   ],
   "source": [
    "Tuple_1[3]=45"
   ]
  },
  {
   "cell_type": "code",
   "execution_count": null,
   "id": "a806d502",
   "metadata": {},
   "outputs": [],
   "source": [
    "answer--> d"
   ]
  },
  {
   "cell_type": "code",
   "execution_count": null,
   "id": "eed228d8",
   "metadata": {},
   "outputs": [],
   "source": [
    "'''Q18. How many elements in the following data structure?\n",
    "S={1,2,3,4,4,4,5,6}'''"
   ]
  },
  {
   "cell_type": "code",
   "execution_count": 90,
   "id": "09b614bd",
   "metadata": {},
   "outputs": [],
   "source": [
    "S={1,2,3,4,4,4,5,6}"
   ]
  },
  {
   "cell_type": "code",
   "execution_count": 91,
   "id": "4b64cf96",
   "metadata": {},
   "outputs": [
    {
     "data": {
      "text/plain": [
       "{1, 2, 3, 4, 5, 6}"
      ]
     },
     "execution_count": 91,
     "metadata": {},
     "output_type": "execute_result"
    }
   ],
   "source": [
    "S"
   ]
  },
  {
   "cell_type": "code",
   "execution_count": null,
   "id": "f16d7908",
   "metadata": {},
   "outputs": [],
   "source": [
    "answer--> 6"
   ]
  },
  {
   "cell_type": "code",
   "execution_count": null,
   "id": "ee2a5a9a",
   "metadata": {},
   "outputs": [],
   "source": [
    "'''Q19.Write a function which finds all pythagorean triplets of \n",
    "triangles whose sides are no greater than a natural number N'''"
   ]
  },
  {
   "cell_type": "code",
   "execution_count": 93,
   "id": "baca7fb8",
   "metadata": {},
   "outputs": [
    {
     "name": "stdout",
     "output_type": "stream",
     "text": [
      "Enter upper limit:20\n",
      "3 4 5\n",
      "8 6 10\n",
      "5 12 13\n",
      "15 8 17\n",
      "12 16 20\n"
     ]
    }
   ],
   "source": [
    "N=int(input(\"Enter upper limit:\"))\n",
    "c=0\n",
    "m=2\n",
    "while(c<N):\n",
    "    for n in range(1,m+1):\n",
    "        a=m*m-n*n\n",
    "        b=2*m*n\n",
    "        c=m*m+n*n\n",
    "        if(c>N):\n",
    "            break\n",
    "        if(a==0 or b==0 or c==0):\n",
    "            break\n",
    "        print(a,b,c)\n",
    "    m=m+1"
   ]
  },
  {
   "cell_type": "code",
   "execution_count": null,
   "id": "7880392f",
   "metadata": {},
   "outputs": [],
   "source": []
  },
  {
   "cell_type": "code",
   "execution_count": null,
   "id": "6fea81e5",
   "metadata": {},
   "outputs": [],
   "source": []
  }
 ],
 "metadata": {
  "kernelspec": {
   "display_name": "Python 3 (ipykernel)",
   "language": "python",
   "name": "python3"
  },
  "language_info": {
   "codemirror_mode": {
    "name": "ipython",
    "version": 3
   },
   "file_extension": ".py",
   "mimetype": "text/x-python",
   "name": "python",
   "nbconvert_exporter": "python",
   "pygments_lexer": "ipython3",
   "version": "3.9.12"
  }
 },
 "nbformat": 4,
 "nbformat_minor": 5
}
