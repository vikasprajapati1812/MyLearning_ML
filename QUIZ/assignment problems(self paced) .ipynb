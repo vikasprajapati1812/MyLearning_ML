{
 "cells": [
  {
   "cell_type": "code",
   "execution_count": 3,
   "id": "931df9f4",
   "metadata": {},
   "outputs": [
    {
     "name": "stdout",
     "output_type": "stream",
     "text": [
      "<class 'list'>\n",
      "enter the integer value25\n",
      "25\n",
      "enter the integer value+4\n",
      "4\n",
      "enter the integer value24\n",
      "24\n",
      "enter the integer value574\n",
      "574\n",
      "enter the integer value45\n",
      "45\n",
      "[25, 4, 24, 574, 45]\n"
     ]
    }
   ],
   "source": [
    "a=[]\n",
    "print(type(a))\n",
    "i=0\n",
    "while i<5:\n",
    "    a.append(int(input(\"enter the integer value\")))\n",
    "    print(a[i])\n",
    "    i=i+1\n",
    "print(a)"
   ]
  },
  {
   "cell_type": "code",
   "execution_count": 2,
   "id": "5a969641",
   "metadata": {},
   "outputs": [
    {
     "name": "stdout",
     "output_type": "stream",
     "text": [
      "<class 'list'>\n",
      "enter the value20\n",
      "20\n",
      "enter the value30\n",
      "30\n",
      "enter the value40\n",
      "40\n",
      "enter the value50\n",
      "50\n",
      "enter the value60\n",
      "60\n"
     ]
    }
   ],
   "source": [
    "a=[]\n",
    "print(type(a))\n",
    "i=0\n",
    "while i<5:\n",
    "    a.append(int(input('enter the value')))\n",
    "    print(a[i])\n",
    "    i=i+1"
   ]
  },
  {
   "cell_type": "code",
   "execution_count": 3,
   "id": "14a7f6b1",
   "metadata": {},
   "outputs": [
    {
     "name": "stdout",
     "output_type": "stream",
     "text": [
      "<class 'list'>\n",
      "enter the value25\n",
      "25\n",
      "enter the value30\n",
      "30\n",
      "enter the value35\n",
      "35\n",
      "enter the value40\n",
      "40\n",
      "enter the value73\n",
      "73\n",
      "[25, 30, 35, 40, 73]\n"
     ]
    }
   ],
   "source": [
    "a=[]\n",
    "print(type(a))\n",
    "i=0\n",
    "while i<5:                           # correct ans of the (assignment 3 loops)\n",
    "    a.append(int(input('enter the value')))\n",
    "    print(a[i])\n",
    "    i=i+1\n",
    "    \n",
    "print(a)"
   ]
  },
  {
   "cell_type": "code",
   "execution_count": null,
   "id": "20058f88",
   "metadata": {},
   "outputs": [],
   "source": [
    "z=[]\n",
    "print(type(z))\n",
    "i=0\n",
    "while i<5:\n",
    "    z.append(int(input('enter the value')))\n",
    "    print(z[i])\n",
    "    i=i+1\n",
    "print(z)\n",
    "for elem in z:\n",
    "    for i in range(2,elem):\n",
    "        if elem%i==0:\n",
    "            break\n",
    "        else:\n",
    "            print(\"prime no.\",elem)\n",
    "    "
   ]
  },
  {
   "cell_type": "code",
   "execution_count": 20,
   "id": "11b5b78f",
   "metadata": {},
   "outputs": [
    {
     "name": "stdout",
     "output_type": "stream",
     "text": [
      "how many no. do you want in a list10\n",
      "enter the nos65461\n",
      "enter the nos51616\n",
      "enter the nos5216\n",
      "enter the nos51616\n",
      "enter the nos65166\n",
      "enter the nos1919\n",
      "enter the nos299\n",
      "enter the nos9595\n",
      "enter the nos549\n",
      "enter the nos959\n",
      "List  first you entered [65461, 51616, 5216, 51616, 65166, 1919, 299, 9595, 549, 959]\n",
      "how many no. do you want in a list12\n",
      "enter the nos959\n",
      "enter the nos549\n",
      "enter the nos299\n",
      "enter the nos5549\n",
      "enter the nos6569\n",
      "enter the nos5894\n",
      "enter the nos29519\n",
      "enter the nos92519\n",
      "enter the nos996\n",
      "enter the nos819\n",
      "enter the nos29526\n",
      "enter the nos65126\n",
      "List second you entered [959, 549, 299, 5549, 6569, 5894, 29519, 92519, 996, 819, 29526, 65126]\n",
      "the common elements are [299, 549, 959]\n"
     ]
    }
   ],
   "source": [
    "L2=list()\n",
    "n=int(input(\"how many no. do you want in a list\"))\n",
    "i=0\n",
    "while i<n:\n",
    "    L2.append(int(input(\"enter the nos\")))\n",
    "    i+=1\n",
    "print(\"List  first you entered\",L2)\n",
    "L3=list()\n",
    "m=int(input(\"how many no. do you want in a list\"))\n",
    "i=0\n",
    "while i<m:\n",
    "    L3.append(int(input(\"enter the nos\")))\n",
    "    i+=1\n",
    "print(\"List second you entered\",L3)\n",
    "L4=list()\n",
    "for elem in L2:\n",
    "    for elems in L3:\n",
    "        if elem==elems:\n",
    "            L4.append(elem)\n",
    "        else:\n",
    "            pass\n",
    "print(\"the common elements are\",L4)\n",
    "            "
   ]
  },
  {
   "cell_type": "code",
   "execution_count": 22,
   "id": "9eac90c6",
   "metadata": {},
   "outputs": [
    {
     "name": "stdout",
     "output_type": "stream",
     "text": [
      "(10, 20, 30, 40, 50, 60)\n"
     ]
    }
   ],
   "source": [
    "tuple1=tuple((10,20,30))   #on initialising here we use double  ((  )) \n",
    "tuple2=tuple((40,50,60))\n",
    "t_combine=tuple1+tuple2\n",
    "print(t_combine)"
   ]
  },
  {
   "cell_type": "code",
   "execution_count": 23,
   "id": "e0822f44",
   "metadata": {},
   "outputs": [
    {
     "name": "stdout",
     "output_type": "stream",
     "text": [
      "(10, 20, 30, 40, 50, 60)\n"
     ]
    }
   ],
   "source": [
    "tuple3=(10,20,30)     # different in initialisation     here we use ( )\n",
    "tuple4=(40,50,60)\n",
    "T1=tuple3+tuple4\n",
    "print(T1)\n"
   ]
  },
  {
   "cell_type": "code",
   "execution_count": 24,
   "id": "af3dda8c",
   "metadata": {},
   "outputs": [
    {
     "name": "stdout",
     "output_type": "stream",
     "text": [
      "30\n"
     ]
    }
   ],
   "source": [
    "print(T1[2])"
   ]
  },
  {
   "cell_type": "code",
   "execution_count": 25,
   "id": "a043150a",
   "metadata": {},
   "outputs": [
    {
     "name": "stdout",
     "output_type": "stream",
     "text": [
      "(10, 20, 30)\n"
     ]
    }
   ],
   "source": [
    "tuple3=T1[0:3]\n",
    "print(tuple3)"
   ]
  },
  {
   "cell_type": "code",
   "execution_count": 26,
   "id": "1a12063e",
   "metadata": {},
   "outputs": [],
   "source": [
    "tuple4=T1[3:]"
   ]
  },
  {
   "cell_type": "code",
   "execution_count": 27,
   "id": "ce57d4bf",
   "metadata": {},
   "outputs": [
    {
     "name": "stdout",
     "output_type": "stream",
     "text": [
      "(40, 50, 60)\n"
     ]
    }
   ],
   "source": [
    "print(tuple4)"
   ]
  },
  {
   "cell_type": "code",
   "execution_count": 28,
   "id": "d4fd0e89",
   "metadata": {},
   "outputs": [
    {
     "data": {
      "text/plain": [
       "[(1, 2, 3)]"
      ]
     },
     "execution_count": 28,
     "metadata": {},
     "output_type": "execute_result"
    }
   ],
   "source": [
    "T1=(1,2,3)\n",
    "T2=(\"a\",\"b\",\"c\")\n",
    "T3=(True, False)\n",
    "mylist=list()\n",
    "mylist.append(T1)\n",
    "mylist"
   ]
  },
  {
   "cell_type": "code",
   "execution_count": 29,
   "id": "f0989273",
   "metadata": {},
   "outputs": [
    {
     "data": {
      "text/plain": [
       "[(1, 2, 3), ('a', 'b', 'c'), (True, False)]"
      ]
     },
     "execution_count": 29,
     "metadata": {},
     "output_type": "execute_result"
    }
   ],
   "source": [
    "mylist.append(T2)\n",
    "mylist.append(T3)\n",
    "mylist"
   ]
  },
  {
   "cell_type": "code",
   "execution_count": 30,
   "id": "92120f85",
   "metadata": {},
   "outputs": [
    {
     "ename": "AttributeError",
     "evalue": "'list' object has no attribute 'update'",
     "output_type": "error",
     "traceback": [
      "\u001b[1;31m---------------------------------------------------------------------------\u001b[0m",
      "\u001b[1;31mAttributeError\u001b[0m                            Traceback (most recent call last)",
      "Input \u001b[1;32mIn [30]\u001b[0m, in \u001b[0;36m<cell line: 2>\u001b[1;34m()\u001b[0m\n\u001b[0;32m      1\u001b[0m t4\u001b[38;5;241m=\u001b[39m(\u001b[38;5;241m1\u001b[39m,\u001b[38;5;241m2\u001b[39m,\u001b[38;5;241m3\u001b[39m,\u001b[38;5;241m9\u001b[39m,\u001b[38;5;241m8\u001b[39m,\u001b[38;5;241m7\u001b[39m,\u001b[38;5;241m6\u001b[39m,\u001b[38;5;241m5\u001b[39m,\u001b[38;5;241m4\u001b[39m)\n\u001b[1;32m----> 2\u001b[0m \u001b[43mmylist\u001b[49m\u001b[38;5;241;43m.\u001b[39;49m\u001b[43mupdate\u001b[49m(t4)\n\u001b[0;32m      3\u001b[0m mylist\n",
      "\u001b[1;31mAttributeError\u001b[0m: 'list' object has no attribute 'update'"
     ]
    }
   ],
   "source": [
    "t4=(1,2,3,9,8,7,6,5,4)\n",
    "mylist.update(t4)      # that means we cant use the updte because there is no attribute like that in List\n",
    "mylist"
   ]
  },
  {
   "cell_type": "code",
   "execution_count": null,
   "id": "5f7ddb14",
   "metadata": {},
   "outputs": [],
   "source": []
  }
 ],
 "metadata": {
  "kernelspec": {
   "display_name": "Python 3 (ipykernel)",
   "language": "python",
   "name": "python3"
  },
  "language_info": {
   "codemirror_mode": {
    "name": "ipython",
    "version": 3
   },
   "file_extension": ".py",
   "mimetype": "text/x-python",
   "name": "python",
   "nbconvert_exporter": "python",
   "pygments_lexer": "ipython3",
   "version": "3.9.12"
  }
 },
 "nbformat": 4,
 "nbformat_minor": 5
}
