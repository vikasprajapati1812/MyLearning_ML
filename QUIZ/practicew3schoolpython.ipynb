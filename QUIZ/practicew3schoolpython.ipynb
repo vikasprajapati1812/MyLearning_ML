{
 "cells": [
  {
   "cell_type": "code",
   "execution_count": 1,
   "id": "c348fc67",
   "metadata": {},
   "outputs": [
    {
     "name": "stdout",
     "output_type": "stream",
     "text": [
      "Hello World I am here to practise python\n"
     ]
    }
   ],
   "source": [
    "a=\"  Hello World I am here to practise python  \"       # strip will remove the spaces in start and the end of the a string \n",
    "print(a.strip())"
   ]
  },
  {
   "cell_type": "code",
   "execution_count": 2,
   "id": "9e3f0682",
   "metadata": {},
   "outputs": [
    {
     "name": "stdout",
     "output_type": "stream",
     "text": [
      "  Hmllo World I am hmrm to practism python  \n"
     ]
    }
   ],
   "source": [
    "a=\"  Hello World I am here to practise python  \"\n",
    "print(a.replace(\"e\",\"m\"))"
   ]
  },
  {
   "cell_type": "code",
   "execution_count": 3,
   "id": "9171b713",
   "metadata": {},
   "outputs": [
    {
     "name": "stdout",
     "output_type": "stream",
     "text": [
      " \n",
      " \n",
      "H\n",
      "e\n",
      "l\n",
      "l\n",
      "o\n",
      " \n",
      "W\n",
      "o\n",
      "r\n",
      "l\n",
      "d\n",
      " \n",
      "I\n",
      " \n",
      "a\n",
      "m\n",
      " \n",
      "h\n",
      "e\n",
      "r\n",
      "e\n",
      " \n",
      "t\n",
      "o\n",
      " \n",
      "p\n",
      "r\n",
      "a\n",
      "c\n",
      "t\n",
      "i\n",
      "s\n",
      "e\n",
      " \n",
      "p\n",
      "y\n",
      "t\n",
      "h\n",
      "o\n",
      "n\n",
      " \n",
      " \n"
     ]
    }
   ],
   "source": [
    "for elem in a:\n",
    "    print(elem)"
   ]
  },
  {
   "cell_type": "code",
   "execution_count": 4,
   "id": "f4f0f387",
   "metadata": {},
   "outputs": [
    {
     "name": "stdout",
     "output_type": "stream",
     "text": [
      "  HELLO WORLD I AM HERE TO PRACTISE PYTHON  \n"
     ]
    }
   ],
   "source": [
    "a=\"  Hello World I am here to practise python  \"\n",
    "print(a.upper())      # Upper turns the whole a string in the capital letters\n"
   ]
  },
  {
   "cell_type": "code",
   "execution_count": 5,
   "id": "42907559",
   "metadata": {},
   "outputs": [
    {
     "name": "stdout",
     "output_type": "stream",
     "text": [
      "  Hello World I am here to practise python  \n"
     ]
    }
   ],
   "source": [
    "a.lower()      #we cant write like that we have to store  the data in some variable otherwise it through errors because string is not mutable\n",
    "print(a)     "
   ]
  },
  {
   "cell_type": "code",
   "execution_count": 6,
   "id": "1fc383f9",
   "metadata": {},
   "outputs": [
    {
     "name": "stdout",
     "output_type": "stream",
     "text": [
      "  hello world i am here to practise python  \n"
     ]
    }
   ],
   "source": [
    "b=a.lower()\n",
    "print(b)"
   ]
  },
  {
   "cell_type": "code",
   "execution_count": 9,
   "id": "66ffe7a6",
   "metadata": {},
   "outputs": [
    {
     "name": "stdout",
     "output_type": "stream",
     "text": [
      "['  H', 'llo World I am h', 'r', ' to practis', ' python  ']\n"
     ]
    }
   ],
   "source": [
    "# to split the string from the desired place\n",
    "print(a.split(\"e\"))"
   ]
  },
  {
   "cell_type": "code",
   "execution_count": 10,
   "id": "43e94e98",
   "metadata": {},
   "outputs": [
    {
     "name": "stdout",
     "output_type": "stream",
     "text": [
      "['', '', 'Hello', 'World', 'I', 'am', 'here', 'to', 'practise', 'python', '', '']\n"
     ]
    }
   ],
   "source": [
    "print(a.split(\" \"))      # here a single space is given b/w the \" \" so that split takes place from the space"
   ]
  },
  {
   "cell_type": "code",
   "execution_count": 11,
   "id": "7a01c2d9",
   "metadata": {},
   "outputs": [
    {
     "data": {
      "text/plain": [
       "'  Hello World I am here to practise python  '"
      ]
     },
     "execution_count": 11,
     "metadata": {},
     "output_type": "execute_result"
    }
   ],
   "source": [
    "a"
   ]
  },
  {
   "cell_type": "code",
   "execution_count": 13,
   "id": "2e3d305e",
   "metadata": {},
   "outputs": [
    {
     "name": "stdout",
     "output_type": "stream",
     "text": [
      "H\n",
      "e\n",
      "l\n",
      "l\n",
      "o\n",
      " \n",
      "W\n",
      "o\n",
      "r\n",
      "l\n"
     ]
    }
   ],
   "source": [
    "C=\"Hello World I am here to practise python\"\n",
    "for elem in C:\n",
    "    if elem!=\"d\":\n",
    "        print(elem)\n",
    "    else:\n",
    "        break\n",
    "        "
   ]
  },
  {
   "cell_type": "code",
   "execution_count": 14,
   "id": "655b90c5",
   "metadata": {},
   "outputs": [
    {
     "name": "stdout",
     "output_type": "stream",
     "text": [
      "yes i am here\n"
     ]
    }
   ],
   "source": [
    "d=\"Hello World I am here to practise python\"    # use of  if  and  as well as  of conditional operators( in and not in)\n",
    "if \"m\" in d:\n",
    "    print(\"yes i am here\")"
   ]
  },
  {
   "cell_type": "code",
   "execution_count": 15,
   "id": "e8451bf8",
   "metadata": {},
   "outputs": [
    {
     "ename": "NameError",
     "evalue": "name 'm' is not defined",
     "output_type": "error",
     "traceback": [
      "\u001b[1;31m---------------------------------------------------------------------------\u001b[0m",
      "\u001b[1;31mNameError\u001b[0m                                 Traceback (most recent call last)",
      "Input \u001b[1;32mIn [15]\u001b[0m, in \u001b[0;36m<cell line: 2>\u001b[1;34m()\u001b[0m\n\u001b[0;32m      1\u001b[0m d\u001b[38;5;241m=\u001b[39m\u001b[38;5;124m\"\u001b[39m\u001b[38;5;124mHello World I am here to practise python\u001b[39m\u001b[38;5;124m\"\u001b[39m\n\u001b[1;32m----> 2\u001b[0m \u001b[38;5;28;01mif\u001b[39;00m \u001b[43mm\u001b[49m \u001b[38;5;129;01min\u001b[39;00m d:\n\u001b[0;32m      3\u001b[0m     \u001b[38;5;28mprint\u001b[39m(\u001b[38;5;124m\"\u001b[39m\u001b[38;5;124myes i am here\u001b[39m\u001b[38;5;124m\"\u001b[39m)\n",
      "\u001b[1;31mNameError\u001b[0m: name 'm' is not defined"
     ]
    }
   ],
   "source": [
    "d=\"Hello World I am here to practise python\"\n",
    "if m in d:                                              # so if there is string we have to write elements in \" \" otherwise it will through an error\n",
    "    print(\"yes i am here\") "
   ]
  },
  {
   "cell_type": "code",
   "execution_count": 16,
   "id": "107e0e5f",
   "metadata": {},
   "outputs": [
    {
     "name": "stdout",
     "output_type": "stream",
     "text": [
      "Hello World I am here to \n"
     ]
    }
   ],
   "source": [
    "#Slicing of the string\n",
    "D=\"Hello World I am here to practise python\"\n",
    "d=D[:25]                                # this is called slicin0g\n",
    "print(d)"
   ]
  },
  {
   "cell_type": "code",
   "execution_count": 19,
   "id": "c87598a2",
   "metadata": {},
   "outputs": [
    {
     "name": "stdout",
     "output_type": "stream",
     "text": [
      "Hello World I am here to practise pytho\n"
     ]
    }
   ],
   "source": [
    "D=\"Hello World I am here to practise python\"\n",
    "# int is the last element of the string is deleted\n",
    "d=D[:-1]                      #[start: end :jump]   start is inclusive but the end is exclusive\n",
    "print(d)"
   ]
  },
  {
   "cell_type": "code",
   "execution_count": 20,
   "id": "5259e4f7",
   "metadata": {},
   "outputs": [
    {
     "name": "stdout",
     "output_type": "stream",
     "text": [
      "nohtyp esitcarp ot ereh ma I dlroW olleH\n"
     ]
    }
   ],
   "source": [
    "#reversing the string  using slicing techinque\n",
    "D=\"Hello World I am here to practise python\"\n",
    "d=D[::-1]\n",
    "print(d)"
   ]
  },
  {
   "cell_type": "code",
   "execution_count": 21,
   "id": "fb2537ad",
   "metadata": {},
   "outputs": [
    {
     "name": "stdout",
     "output_type": "stream",
     "text": [
      " ol  mhr opats yhn\n"
     ]
    }
   ],
   "source": [
    "D=\"Hello World I am here to practise python\"\n",
    "print(D[5::2])               # it will start from the 5th and goes up to the end by jumping by 2 steps"
   ]
  },
  {
   "cell_type": "code",
   "execution_count": 22,
   "id": "16e4a126",
   "metadata": {},
   "outputs": [
    {
     "ename": "AttributeError",
     "evalue": "'str' object has no attribute 'remove'",
     "output_type": "error",
     "traceback": [
      "\u001b[1;31m---------------------------------------------------------------------------\u001b[0m",
      "\u001b[1;31mAttributeError\u001b[0m                            Traceback (most recent call last)",
      "Input \u001b[1;32mIn [22]\u001b[0m, in \u001b[0;36m<cell line: 2>\u001b[1;34m()\u001b[0m\n\u001b[0;32m      1\u001b[0m D\u001b[38;5;241m=\u001b[39m\u001b[38;5;124m\"\u001b[39m\u001b[38;5;124mHello World I am here to practise python\u001b[39m\u001b[38;5;124m\"\u001b[39m\n\u001b[1;32m----> 2\u001b[0m d\u001b[38;5;241m=\u001b[39m \u001b[43mD\u001b[49m\u001b[38;5;241;43m.\u001b[39;49m\u001b[43mremove\u001b[49m(\u001b[38;5;124m\"\u001b[39m\u001b[38;5;124mhere\u001b[39m\u001b[38;5;124m\"\u001b[39m)\n\u001b[0;32m      3\u001b[0m \u001b[38;5;28mprint\u001b[39m(d)\n\u001b[0;32m      4\u001b[0m \u001b[38;5;28mprint\u001b[39m(d)\n",
      "\u001b[1;31mAttributeError\u001b[0m: 'str' object has no attribute 'remove'"
     ]
    }
   ],
   "source": [
    "D=\"Hello World I am here to practise python\"\n",
    "d= D.remove(\"here\")                                  # cant remove anything in the string \n",
    "print(d)"
   ]
  },
  {
   "cell_type": "code",
   "execution_count": 23,
   "id": "9529715c",
   "metadata": {},
   "outputs": [
    {
     "name": "stdout",
     "output_type": "stream",
     "text": [
      "i am learning python as well as Hello World I am here to practise python\n"
     ]
    }
   ],
   "source": [
    "D=\"Hello World I am here to practise python\"\n",
    "print(\"i am learning python as well as \"+D)     # only string can be concatenate using the sign + if ther is int and then add string then it will through an errror"
   ]
  },
  {
   "cell_type": "code",
   "execution_count": 26,
   "id": "dbe4a13d",
   "metadata": {},
   "outputs": [
    {
     "data": {
      "text/plain": [
       "'vikas,  i am a bad boy'"
      ]
     },
     "execution_count": 26,
     "metadata": {},
     "output_type": "execute_result"
    }
   ],
   "source": [
    "# joining of the strings\n",
    "a=\"vikas\"\n",
    "b=\" i am a bad boy\"\n",
    "\", \".join([a,b])"
   ]
  },
  {
   "cell_type": "code",
   "execution_count": 28,
   "id": "f76679c1",
   "metadata": {},
   "outputs": [
    {
     "data": {
      "text/plain": [
       "'vikas i am a bad boy'"
      ]
     },
     "execution_count": 28,
     "metadata": {},
     "output_type": "execute_result"
    }
   ],
   "source": [
    "a=\"vikas\"\n",
    "b=\"i am a bad boy\"\n",
    "\" \".join([a,b])                # see differnce they are join using the comma in the upper one and in this it is join as shown"
   ]
  },
  {
   "cell_type": "code",
   "execution_count": 30,
   "id": "c78a4401",
   "metadata": {},
   "outputs": [
    {
     "name": "stdout",
     "output_type": "stream",
     "text": [
      "vikas i am a bad boy\n"
     ]
    }
   ],
   "source": [
    "a=\"vikas\"\n",
    "b=\" i am a bad boy\"\n",
    "print(a+\"\"+b)"
   ]
  },
  {
   "cell_type": "code",
   "execution_count": 31,
   "id": "c7fe005b",
   "metadata": {},
   "outputs": [
    {
     "name": "stdout",
     "output_type": "stream",
     "text": [
      "Hello World I am10 here to52.002practise stringpython\n"
     ]
    }
   ],
   "source": [
    "#format() takes unlimited no of the arguments \n",
    "d=10\n",
    "e=52.002\n",
    "f=\"string\"                                                                 # how to use the format( ) with no. of arguments\n",
    "D=\"Hello World I am{} here to{}practise {}python\"\n",
    "print(D.format(d,e,f))"
   ]
  },
  {
   "cell_type": "code",
   "execution_count": 33,
   "id": "4da5dccd",
   "metadata": {},
   "outputs": [
    {
     "name": "stdout",
     "output_type": "stream",
     "text": [
      "Hello World I am52.002 here tostringpractise 10python\n"
     ]
    }
   ],
   "source": [
    "d=10\n",
    "e=52.002\n",
    "f=\"string\"                                                                 \n",
    "D=\"Hello World I am{} here to{}practise {}python\"\n",
    "E=D.format(e,f,d)                                                      # by changing using format store the string in another variable and after that you can print\n",
    "print(E)"
   ]
  },
  {
   "cell_type": "code",
   "execution_count": 36,
   "id": "8fe24a11",
   "metadata": {},
   "outputs": [
    {
     "name": "stdout",
     "output_type": "stream",
     "text": [
      "we are so called the \"Viking\" from the kanpur on the earth\n"
     ]
    }
   ],
   "source": [
    "# if we gave to highlight something with in the string then we have to use the escape charactes in our string\n",
    "txt=\"we are so called the \\\"Viking\\\" from the kanpur on the earth\"\n",
    "print(txt)"
   ]
  },
  {
   "cell_type": "code",
   "execution_count": 39,
   "id": "c2f5d1eb",
   "metadata": {},
   "outputs": [
    {
     "name": "stdout",
     "output_type": "stream",
     "text": [
      "we are so called the \\Viking from the kanpur on the earth\n"
     ]
    }
   ],
   "source": [
    "txt=\"we are so called the \\\\Viking from the kanpur on the earth\"    # escape character ( \\\\ ) is use to insert the single \\ in the same string \n",
    "print(txt)"
   ]
  },
  {
   "cell_type": "code",
   "execution_count": 40,
   "id": "5d26423e",
   "metadata": {},
   "outputs": [
    {
     "name": "stdout",
     "output_type": "stream",
     "text": [
      "we are so called the \n",
      "Vikingfrom the kanpur on the earth\n"
     ]
    }
   ],
   "source": [
    "txt=\"we are so called the \\nVikingfrom the kanpur on the earth\"\n",
    "print(txt)                                                #escape character ( \\n) is use to give new line after that"
   ]
  },
  {
   "cell_type": "code",
   "execution_count": 41,
   "id": "4eb79cfe",
   "metadata": {},
   "outputs": [
    {
     "name": "stdout",
     "output_type": "stream",
     "text": [
      "we are so called the \tVikingfrom the kanpur on the earth\n"
     ]
    }
   ],
   "source": [
    "txt=\"we are so called the \\tVikingfrom the kanpur on the earth\"    # \\t give thetab to the string where it is inserted\n",
    "print(txt)"
   ]
  },
  {
   "cell_type": "code",
   "execution_count": 45,
   "id": "5bb11cb8",
   "metadata": {},
   "outputs": [
    {
     "name": "stdout",
     "output_type": "stream",
     "text": [
      "we are so called the \r",
      " Vikingfrom the kanpur on the earth\n"
     ]
    }
   ],
   "source": [
    "txt=\"we are so called the \\r Vikingfrom the kanpur on the earth\"                #\\r known as carriage return and return the string after where the escape character is used\n",
    "print(txt)"
   ]
  },
  {
   "cell_type": "code",
   "execution_count": 47,
   "id": "1836d988",
   "metadata": {},
   "outputs": [
    {
     "name": "stdout",
     "output_type": "stream",
     "text": [
      "we are so called the \f",
      " Vikingfrom the kanpur on the earth\n"
     ]
    }
   ],
   "source": [
    "txt=\"we are so called the \\f Vikingfrom the kanpur on the earth\"\n",
    "print(txt) "
   ]
  },
  {
   "cell_type": "code",
   "execution_count": 48,
   "id": "16ed03e7",
   "metadata": {},
   "outputs": [
    {
     "name": "stdout",
     "output_type": "stream",
     "text": [
      "we are so called the\bVikingfrom the kanpur on the earth\n"
     ]
    }
   ],
   "source": [
    "txt=\"we are so called the\\bVikingfrom the kanpur on the earth\"               # delete the i element just before where it is used\n",
    "print(txt) "
   ]
  },
  {
   "cell_type": "code",
   "execution_count": 49,
   "id": "9a007e60",
   "metadata": {},
   "outputs": [
    {
     "name": "stdout",
     "output_type": "stream",
     "text": [
      "We are so called the \n",
      "vikingfrom the kanpur on the earth\n"
     ]
    }
   ],
   "source": [
    "txt=\"we are so called the \\nVikingfrom the kanpur on the earth\"\n",
    "print(txt.capitalize())                            # capatilize the first character of the string and the rest remains the same"
   ]
  },
  {
   "cell_type": "code",
   "execution_count": 51,
   "id": "29f08c2d",
   "metadata": {},
   "outputs": [
    {
     "name": "stdout",
     "output_type": "stream",
     "text": [
      "15\n"
     ]
    }
   ],
   "source": [
    "txt=\"we are so called the \\nVikingfrom the kanpur on the earth\"\n",
    "print(txt.find(\"d\"))                                 # find( ) throughs the index where the element or the whole word starts"
   ]
  },
  {
   "cell_type": "code",
   "execution_count": 53,
   "id": "7f9e6063",
   "metadata": {},
   "outputs": [
    {
     "name": "stdout",
     "output_type": "stream",
     "text": [
      "-1\n"
     ]
    }
   ],
   "source": [
    "txt=\"we are so called the \\nVikingfrom the kanpur on the earth\"\n",
    "print(txt.find(\"viking\"))                          # here you get that it is case senstive and there is diffence b\\w the viking and Viking\n",
    "# if it is not find in the string it will return a -1 and does not through any error"
   ]
  },
  {
   "cell_type": "code",
   "execution_count": 54,
   "id": "8fb3fadb",
   "metadata": {},
   "outputs": [
    {
     "name": "stdout",
     "output_type": "stream",
     "text": [
      "22\n"
     ]
    }
   ],
   "source": [
    "txt=\"we are so called the \\nVikingfrom the kanpur on the earth\"\n",
    "print(txt.find(\"Viking\"))                          # it will through a index of the first letter of the world where it is present"
   ]
  },
  {
   "cell_type": "code",
   "execution_count": 57,
   "id": "8336546c",
   "metadata": {},
   "outputs": [
    {
     "name": "stdout",
     "output_type": "stream",
     "text": [
      "True\n"
     ]
    }
   ],
   "source": [
    "txt=\"we are so called the \\nVikingfrom the kanpur on the earth\"\n",
    "print(txt.endswith(\"arth\"))                                # endswith return True or False if in this case the setence is end with the 'arth'"
   ]
  },
  {
   "cell_type": "code",
   "execution_count": 58,
   "id": "637ea9ca",
   "metadata": {},
   "outputs": [
    {
     "name": "stdout",
     "output_type": "stream",
     "text": [
      "WE ARE SO CALLED THE \n",
      "vIKINGFROM THE KANPUR ON THE EARTH\n"
     ]
    }
   ],
   "source": [
    "txt=\"we are so called the \\nVikingfrom the kanpur on the earth\"\n",
    "print(txt.swapcase())                                        # convert the lower case to upper and vice versa"
   ]
  },
  {
   "cell_type": "markdown",
   "id": "1012e04b",
   "metadata": {},
   "source": [
    "# list"
   ]
  },
  {
   "cell_type": "code",
   "execution_count": 59,
   "id": "ef322a42",
   "metadata": {},
   "outputs": [
    {
     "data": {
      "text/plain": [
       "['apple', 'banana', 'cherry']"
      ]
     },
     "execution_count": 59,
     "metadata": {},
     "output_type": "execute_result"
    }
   ],
   "source": [
    "#deifing the list by two types\n",
    "mylist=['apple','banana','cherry']\n",
    "mylist1=list()                                       # list() it is called list constructor it is used for making the list\n",
    "mylist"
   ]
  },
  {
   "cell_type": "code",
   "execution_count": 60,
   "id": "ea962d4e",
   "metadata": {},
   "outputs": [
    {
     "data": {
      "text/plain": [
       "list"
      ]
     },
     "execution_count": 60,
     "metadata": {},
     "output_type": "execute_result"
    }
   ],
   "source": [
    "type(mylist1)"
   ]
  },
  {
   "cell_type": "code",
   "execution_count": 62,
   "id": "e403e63a",
   "metadata": {},
   "outputs": [
    {
     "name": "stdout",
     "output_type": "stream",
     "text": [
      "['apple', 'banana', 'cherry', 'apple', 'banana', 'cherry']\n"
     ]
    }
   ],
   "source": [
    "print(mylist*2)                     # multiplying th list or         in the list we can use the words multiple times that means the duplicate can exist there"
   ]
  },
  {
   "cell_type": "code",
   "execution_count": 63,
   "id": "7402b787",
   "metadata": {},
   "outputs": [
    {
     "data": {
      "text/plain": [
       "['apple', 'banana', 'cherry']"
      ]
     },
     "execution_count": 63,
     "metadata": {},
     "output_type": "execute_result"
    }
   ],
   "source": [
    "mylist"
   ]
  },
  {
   "cell_type": "code",
   "execution_count": 64,
   "id": "3e8d788a",
   "metadata": {
    "scrolled": true
   },
   "outputs": [
    {
     "data": {
      "text/plain": [
       "['apple', 'banana', 'cherry', 'lichi']"
      ]
     },
     "execution_count": 64,
     "metadata": {},
     "output_type": "execute_result"
    }
   ],
   "source": [
    "mylist.append(\"lichi\")\n",
    "mylist"
   ]
  },
  {
   "cell_type": "code",
   "execution_count": 67,
   "id": "66582967",
   "metadata": {},
   "outputs": [
    {
     "data": {
      "text/plain": [
       "['apple', 'banana', 'cherry', 'lichi']"
      ]
     },
     "execution_count": 67,
     "metadata": {},
     "output_type": "execute_result"
    }
   ],
   "source": [
    "mylist"
   ]
  },
  {
   "cell_type": "code",
   "execution_count": 68,
   "id": "c44cbbfc",
   "metadata": {},
   "outputs": [
    {
     "data": {
      "text/plain": [
       "'lichi'"
      ]
     },
     "execution_count": 68,
     "metadata": {},
     "output_type": "execute_result"
    }
   ],
   "source": [
    "mylist.pop()"
   ]
  },
  {
   "cell_type": "code",
   "execution_count": 69,
   "id": "69469509",
   "metadata": {},
   "outputs": [],
   "source": [
    "mylist.remove(\"banana\")"
   ]
  },
  {
   "cell_type": "code",
   "execution_count": 70,
   "id": "128efa22",
   "metadata": {},
   "outputs": [
    {
     "data": {
      "text/plain": [
       "['apple', 'cherry']"
      ]
     },
     "execution_count": 70,
     "metadata": {},
     "output_type": "execute_result"
    }
   ],
   "source": [
    "mylist"
   ]
  },
  {
   "cell_type": "code",
   "execution_count": 71,
   "id": "c254597b",
   "metadata": {},
   "outputs": [],
   "source": [
    "mylist=['cherry','lichi','apple','orange','watermelon','grapes','apple']"
   ]
  },
  {
   "cell_type": "code",
   "execution_count": 72,
   "id": "b6b14077",
   "metadata": {},
   "outputs": [
    {
     "name": "stdout",
     "output_type": "stream",
     "text": [
      "cherry\n",
      "lichi\n",
      "apple\n",
      "orange\n",
      "watermelon\n",
      "grapes\n",
      "apple\n"
     ]
    }
   ],
   "source": [
    "mylist=['cherry','lichi','apple','orange','watermelon','grapes','apple']\n",
    "for elem in mylist:\n",
    "    print(elem)"
   ]
  },
  {
   "cell_type": "code",
   "execution_count": 73,
   "id": "b8819ddf",
   "metadata": {},
   "outputs": [
    {
     "data": {
      "text/plain": [
       "'apple'"
      ]
     },
     "execution_count": 73,
     "metadata": {},
     "output_type": "execute_result"
    }
   ],
   "source": [
    "# find through indexing \n",
    "mylist=['cherry','lichi','apple','orange','watermelon','grapes','apple']\n",
    "mylist[-1]"
   ]
  },
  {
   "cell_type": "code",
   "execution_count": 74,
   "id": "9fd5a374",
   "metadata": {},
   "outputs": [
    {
     "data": {
      "text/plain": [
       "['cherry', 'lichi', 'apple', 'orange', 'watermelon', 'grapes']"
      ]
     },
     "execution_count": 74,
     "metadata": {},
     "output_type": "execute_result"
    }
   ],
   "source": [
    "mylist[:-1]                   # reomve the last element in the list"
   ]
  },
  {
   "cell_type": "code",
   "execution_count": 75,
   "id": "8badb47f",
   "metadata": {},
   "outputs": [
    {
     "data": {
      "text/plain": [
       "['cherry', 'lichi', 'apple', 'orange', 'watermelon', 'grapes', 'apple']"
      ]
     },
     "execution_count": 75,
     "metadata": {},
     "output_type": "execute_result"
    }
   ],
   "source": [
    "mylist"
   ]
  },
  {
   "cell_type": "code",
   "execution_count": 76,
   "id": "8f37d34c",
   "metadata": {},
   "outputs": [
    {
     "data": {
      "text/plain": [
       "['apple', 'grapes', 'watermelon', 'orange', 'apple', 'lichi', 'cherry']"
      ]
     },
     "execution_count": 76,
     "metadata": {},
     "output_type": "execute_result"
    }
   ],
   "source": [
    "mylist[::-1]          #Reverse the list"
   ]
  },
  {
   "cell_type": "code",
   "execution_count": 77,
   "id": "01efada0",
   "metadata": {},
   "outputs": [
    {
     "data": {
      "text/plain": [
       "['cherry', 'apple', 'watermelon', 'apple']"
      ]
     },
     "execution_count": 77,
     "metadata": {},
     "output_type": "execute_result"
    }
   ],
   "source": [
    "mylist[::2]      #in indexing it jump by 2 and the print the 2nd one by jumping "
   ]
  },
  {
   "cell_type": "code",
   "execution_count": 78,
   "id": "f958454e",
   "metadata": {},
   "outputs": [
    {
     "name": "stdout",
     "output_type": "stream",
     "text": [
      "['lichi', 'apple', 'orange']\n"
     ]
    }
   ],
   "source": [
    "mylist=['cherry','lichi','apple','orange','watermelon','grapes','apple']\n",
    "print(mylist[1:4])"
   ]
  },
  {
   "cell_type": "code",
   "execution_count": 79,
   "id": "1ab812e9",
   "metadata": {},
   "outputs": [
    {
     "name": "stdout",
     "output_type": "stream",
     "text": [
      "['lichi', 'apple', 'orange', 'watermelon', 'grapes']\n"
     ]
    }
   ],
   "source": [
    "mylist=['cherry','lichi','apple','orange','watermelon','grapes','apple']\n",
    "print(mylist[1:6])"
   ]
  },
  {
   "cell_type": "code",
   "execution_count": 88,
   "id": "70d0eb3f",
   "metadata": {},
   "outputs": [
    {
     "name": "stdout",
     "output_type": "stream",
     "text": [
      "['cherry', 'Pear', 'apple', 'orange', 'watermelon', 'grapes', 'apple']\n",
      "['cherry', 'Pear', 'pomegranate', 'pineapple', 'watermelon', 'grapes', 'apple']\n"
     ]
    }
   ],
   "source": [
    "# change the item in the list         # addding in between using indexing\n",
    "mylist=['cherry','lichi','apple','orange','watermelon','grapes','apple']\n",
    "mylist[1]='Pear'\n",
    "print(mylist)\n",
    "mylist[2:4]=[\"pomegranate\",\"pineapple\"]\n",
    "print(mylist)"
   ]
  },
  {
   "cell_type": "code",
   "execution_count": 89,
   "id": "5bb8a409",
   "metadata": {},
   "outputs": [
    {
     "data": {
      "text/plain": [
       "['cherry', 'Pear', 'pomegranate', 'pineapple', 'watermelon', 'grapes']"
      ]
     },
     "execution_count": 89,
     "metadata": {},
     "output_type": "execute_result"
    }
   ],
   "source": [
    "mylist.remove(\"apple\")                   # remove both the apples from the list\n",
    "mylist"
   ]
  },
  {
   "cell_type": "code",
   "execution_count": 90,
   "id": "90f98b59",
   "metadata": {},
   "outputs": [
    {
     "data": {
      "text/plain": [
       "['cherry', 'Pear', 'pomegranate', 'pineapple', 'watermelon']"
      ]
     },
     "execution_count": 90,
     "metadata": {},
     "output_type": "execute_result"
    }
   ],
   "source": [
    "mylist.pop()                                   # remove the last element\n",
    "mylist"
   ]
  },
  {
   "cell_type": "code",
   "execution_count": 91,
   "id": "9689978b",
   "metadata": {},
   "outputs": [
    {
     "data": {
      "text/plain": [
       "['cherry', 'Pear', 'pomegranate', 'pineapple', 'watermelon']"
      ]
     },
     "execution_count": 91,
     "metadata": {},
     "output_type": "execute_result"
    }
   ],
   "source": [
    "mylist"
   ]
  },
  {
   "cell_type": "code",
   "execution_count": 92,
   "id": "754f4047",
   "metadata": {},
   "outputs": [
    {
     "data": {
      "text/plain": [
       "['cherry', 'guava', 'pineapple', 'watermelon']"
      ]
     },
     "execution_count": 92,
     "metadata": {},
     "output_type": "execute_result"
    }
   ],
   "source": [
    "#replacing the 2nd and 3rd elemts by a single element\n",
    "mylist[1:3] = [\"guava\"]                                                               # 1 means 2nd element and 2 means 3rd element and the 3 is not included in indexing \n",
    "mylist                                                  #two elements are replace by one"
   ]
  },
  {
   "cell_type": "code",
   "execution_count": 93,
   "id": "5eeaefae",
   "metadata": {},
   "outputs": [
    {
     "name": "stdout",
     "output_type": "stream",
     "text": [
      "['cherry', 'guava', 'pineapple', 'watermelon']\n"
     ]
    },
    {
     "data": {
      "text/plain": [
       "['cherry', 'guava', 'avacado', 'pineapple', 'watermelon']"
      ]
     },
     "execution_count": 93,
     "metadata": {},
     "output_type": "execute_result"
    }
   ],
   "source": [
    "# similarly if have to insert something at any place can also be inserted \n",
    "print(mylist)\n",
    "mylist.insert(2,\"avacado\")\n",
    "mylist"
   ]
  },
  {
   "cell_type": "code",
   "execution_count": 95,
   "id": "8ac3b1c4",
   "metadata": {},
   "outputs": [
    {
     "data": {
      "text/plain": [
       "['cherry', 'guava', 'avacado', 'pineapple', 'watermelon', 'vikas', 'vikas']"
      ]
     },
     "execution_count": 95,
     "metadata": {},
     "output_type": "execute_result"
    }
   ],
   "source": [
    "mylist.append(\"vikas\")\n",
    "mylist"
   ]
  },
  {
   "cell_type": "code",
   "execution_count": 96,
   "id": "77b57579",
   "metadata": {},
   "outputs": [
    {
     "data": {
      "text/plain": [
       "'vikas'"
      ]
     },
     "execution_count": 96,
     "metadata": {},
     "output_type": "execute_result"
    }
   ],
   "source": [
    "mylist.pop()"
   ]
  },
  {
   "cell_type": "code",
   "execution_count": 97,
   "id": "a0648a28",
   "metadata": {},
   "outputs": [
    {
     "data": {
      "text/plain": [
       "['cherry', 'guava', 'avacado', 'pineapple', 'watermelon', 'vikas']"
      ]
     },
     "execution_count": 97,
     "metadata": {},
     "output_type": "execute_result"
    }
   ],
   "source": [
    "mylist"
   ]
  },
  {
   "cell_type": "code",
   "execution_count": 99,
   "id": "1d727dac",
   "metadata": {},
   "outputs": [
    {
     "data": {
      "text/plain": [
       "['cherry',\n",
       " 'guava',\n",
       " 'avacado',\n",
       " 'pineapple',\n",
       " 'watermelon',\n",
       " 'vikas',\n",
       " 'lemon',\n",
       " 'potato',\n",
       " 'spinach']"
      ]
     },
     "execution_count": 99,
     "metadata": {},
     "output_type": "execute_result"
    }
   ],
   "source": [
    "# add tuple to the list\n",
    "mylist=['cherry', 'guava', 'avacado', 'pineapple', 'watermelon', 'vikas']\n",
    "tuplee=(\"lemon\",\"potato\",\"spinach\")\n",
    "mylist.extend(tuplee)\n",
    "mylist"
   ]
  },
  {
   "cell_type": "code",
   "execution_count": 100,
   "id": "716977f1",
   "metadata": {},
   "outputs": [
    {
     "data": {
      "text/plain": [
       "[]"
      ]
     },
     "execution_count": 100,
     "metadata": {},
     "output_type": "execute_result"
    }
   ],
   "source": [
    "mylist.clear()               #it will clear the list but the list remains \n",
    "mylist"
   ]
  },
  {
   "cell_type": "code",
   "execution_count": 103,
   "id": "7a8cb2ee",
   "metadata": {},
   "outputs": [
    {
     "ename": "NameError",
     "evalue": "name 'mylist22' is not defined",
     "output_type": "error",
     "traceback": [
      "\u001b[1;31m---------------------------------------------------------------------------\u001b[0m",
      "\u001b[1;31mNameError\u001b[0m                                 Traceback (most recent call last)",
      "Input \u001b[1;32mIn [103]\u001b[0m, in \u001b[0;36m<cell line: 3>\u001b[1;34m()\u001b[0m\n\u001b[0;32m      1\u001b[0m mylist22\u001b[38;5;241m=\u001b[39m[\u001b[38;5;124m'\u001b[39m\u001b[38;5;124mcherry\u001b[39m\u001b[38;5;124m'\u001b[39m, \u001b[38;5;124m'\u001b[39m\u001b[38;5;124mguava\u001b[39m\u001b[38;5;124m'\u001b[39m, \u001b[38;5;124m'\u001b[39m\u001b[38;5;124mavacado\u001b[39m\u001b[38;5;124m'\u001b[39m, \u001b[38;5;124m'\u001b[39m\u001b[38;5;124mpineapple\u001b[39m\u001b[38;5;124m'\u001b[39m, \u001b[38;5;124m'\u001b[39m\u001b[38;5;124mwatermelon\u001b[39m\u001b[38;5;124m'\u001b[39m, \u001b[38;5;124m'\u001b[39m\u001b[38;5;124mvikas\u001b[39m\u001b[38;5;124m'\u001b[39m]\n\u001b[0;32m      2\u001b[0m \u001b[38;5;28;01mdel\u001b[39;00m mylist22\n\u001b[1;32m----> 3\u001b[0m \u001b[43mmylist22\u001b[49m\n",
      "\u001b[1;31mNameError\u001b[0m: name 'mylist22' is not defined"
     ]
    }
   ],
   "source": [
    "mylist22=['cherry', 'guava', 'avacado', 'pineapple', 'watermelon', 'vikas']\n",
    "del mylist22                      # del is a keyword not a function so it is used before the list not after the list\n",
    "mylist22                            # in output it is showing not defined that means that it is completely deleted and no proof of its existence left"
   ]
  },
  {
   "cell_type": "code",
   "execution_count": 104,
   "id": "0ef1ed52",
   "metadata": {},
   "outputs": [
    {
     "name": "stdout",
     "output_type": "stream",
     "text": [
      "0\n",
      "1\n",
      "2\n",
      "3\n",
      "4\n",
      "5\n"
     ]
    }
   ],
   "source": [
    "mlist=['cherry', 'guava', 'avacado', 'pineapple', 'watermelon', 'vikas']\n",
    "for x in range(len(mlist)):                # here len define the range thatswhy elements of list arenot printed\n",
    "    print(x)"
   ]
  },
  {
   "cell_type": "code",
   "execution_count": 105,
   "id": "00ee0aab",
   "metadata": {},
   "outputs": [
    {
     "name": "stdout",
     "output_type": "stream",
     "text": [
      "cherry\n",
      "guava\n",
      "avacado\n",
      "pineapple\n",
      "watermelon\n",
      "vikas\n"
     ]
    }
   ],
   "source": [
    "mlist=['cherry', 'guava', 'avacado', 'pineapple', 'watermelon', 'vikas']\n",
    "for x in range(len(mlist)):\n",
    "    print(mlist[x])                               # so in print we have to put x in index so that particular indices elements are printed"
   ]
  },
  {
   "cell_type": "code",
   "execution_count": 106,
   "id": "3f329629",
   "metadata": {},
   "outputs": [
    {
     "name": "stdout",
     "output_type": "stream",
     "text": [
      "cherry\n",
      "guava\n",
      "avacado\n",
      "pineapple\n",
      "watermelon\n",
      "vikas\n"
     ]
    }
   ],
   "source": [
    "mlist=['cherry', 'guava', 'avacado', 'pineapple', 'watermelon', 'vikas']\n",
    "for x in mlist:\n",
    "    print(x)                                           # this is how simplily we get the elements of the list"
   ]
  },
  {
   "cell_type": "code",
   "execution_count": 118,
   "id": "7a3cb9c1",
   "metadata": {},
   "outputs": [
    {
     "name": "stdout",
     "output_type": "stream",
     "text": [
      "cherry\n",
      "guava\n",
      "avacado\n",
      "pineapple\n",
      "watermelon\n",
      "vikas\n"
     ]
    }
   ],
   "source": [
    "mylist=['cherry', 'guava', 'avacado', 'pineapple', 'watermelon', 'vikas']\n",
    "\n",
    "i=0\n",
    "while i< len(mylist):\n",
    "    print(mylist[i])\n",
    "    i=i+1"
   ]
  },
  {
   "cell_type": "code",
   "execution_count": 122,
   "id": "f61c8cd0",
   "metadata": {},
   "outputs": [
    {
     "name": "stdout",
     "output_type": "stream",
     "text": [
      "cherry\n",
      "guava\n",
      "avacado\n",
      "pineapple\n",
      "watermelon\n",
      "vikas\n"
     ]
    },
    {
     "data": {
      "text/plain": [
       "[None, None, None, None, None, None]"
      ]
     },
     "execution_count": 122,
     "metadata": {},
     "output_type": "execute_result"
    }
   ],
   "source": [
    "mylist=['cherry', 'guava', 'avacado', 'pineapple', 'watermelon', 'vikas']\n",
    "[print(x) for x in mylist]"
   ]
  },
  {
   "cell_type": "code",
   "execution_count": 123,
   "id": "19af2ae9",
   "metadata": {},
   "outputs": [],
   "source": [
    "newlist=[x for x in range(10) if x<6]                          #list comprehesion"
   ]
  },
  {
   "cell_type": "code",
   "execution_count": 124,
   "id": "ab426fce",
   "metadata": {},
   "outputs": [
    {
     "data": {
      "text/plain": [
       "[0, 1, 2, 3, 4, 5]"
      ]
     },
     "execution_count": 124,
     "metadata": {},
     "output_type": "execute_result"
    }
   ],
   "source": [
    "newlist"
   ]
  },
  {
   "cell_type": "code",
   "execution_count": 128,
   "id": "41b3e472",
   "metadata": {},
   "outputs": [
    {
     "name": "stdout",
     "output_type": "stream",
     "text": [
      "['CHERRY', 'GUAVA', 'AVACADO', 'PINEAPPLE', 'WATERMELON', 'VIKAS']\n"
     ]
    }
   ],
   "source": [
    "mylist=['cherry', 'guava', 'avacado', 'pineapple', 'watermelon', 'vikas']\n",
    "new=[x.upper() for x in mylist]\n",
    "print(new)"
   ]
  },
  {
   "cell_type": "code",
   "execution_count": 130,
   "id": "7c56e222",
   "metadata": {},
   "outputs": [
    {
     "name": "stdout",
     "output_type": "stream",
     "text": [
      "['Cherry', 'Guava', 'Avacado', 'Pineapple', 'Watermelon', 'Vikas']\n"
     ]
    }
   ],
   "source": [
    "new=[x.capitalize() for x in mylist]\n",
    "print(new)"
   ]
  },
  {
   "cell_type": "code",
   "execution_count": 131,
   "id": "f7b27f8b",
   "metadata": {},
   "outputs": [
    {
     "ename": "AttributeError",
     "evalue": "'list' object has no attribute 'swapcase'",
     "output_type": "error",
     "traceback": [
      "\u001b[1;31m---------------------------------------------------------------------------\u001b[0m",
      "\u001b[1;31mAttributeError\u001b[0m                            Traceback (most recent call last)",
      "Input \u001b[1;32mIn [131]\u001b[0m, in \u001b[0;36m<cell line: 1>\u001b[1;34m()\u001b[0m\n\u001b[1;32m----> 1\u001b[0m \u001b[38;5;28mprint\u001b[39m(\u001b[43mnew\u001b[49m\u001b[38;5;241;43m.\u001b[39;49m\u001b[43mswapcase\u001b[49m())\n",
      "\u001b[1;31mAttributeError\u001b[0m: 'list' object has no attribute 'swapcase'"
     ]
    }
   ],
   "source": [
    "print(new.swapcase())                              # dont have swapcase function"
   ]
  },
  {
   "cell_type": "code",
   "execution_count": 133,
   "id": "820f0e7e",
   "metadata": {},
   "outputs": [
    {
     "name": "stdout",
     "output_type": "stream",
     "text": [
      "['Avacado', 'Cherry', 'Guava', 'Pineapple', 'Vikas', 'Watermelon']\n",
      "['Avacado', 'Cherry', 'Guava', 'Pineapple', 'Vikas', 'Watermelon']\n"
     ]
    }
   ],
   "source": [
    "print(new)\n",
    "new.sort()\n",
    "print(new)"
   ]
  },
  {
   "cell_type": "code",
   "execution_count": 134,
   "id": "a1a4b7de",
   "metadata": {},
   "outputs": [
    {
     "name": "stdout",
     "output_type": "stream",
     "text": [
      "[1, 1, 4, 4, 8, 14, 48, 48, 64, 84, 88, 111, 548, 564, 7481, 4811584]\n"
     ]
    }
   ],
   "source": [
    "a=[111,564,64,7481,48,4,4,4811584,84,1,548,8,14,88,1,48]\n",
    "a.sort()\n",
    "print(a)"
   ]
  },
  {
   "cell_type": "code",
   "execution_count": 136,
   "id": "0a44b2ca",
   "metadata": {},
   "outputs": [
    {
     "name": "stdout",
     "output_type": "stream",
     "text": [
      "[1, 1, 2, 4, 4, 6, 7, 8, 14, 16, 48, 48, 64, 84, 84, 87, 88, 89, 94, 94, 111, 169, 548, 549, 564, 894, 4984, 7481, 9849, 4811584]\n"
     ]
    }
   ],
   "source": [
    "a=[111,564,64,7481,48,4,4,4811584,84,1,548,8,14,88,1,48,549,7,84,9849,894,94,87,94,16,169,2,4984,6,89]\n",
    "a.sort()\n",
    "print(a)"
   ]
  },
  {
   "cell_type": "code",
   "execution_count": 137,
   "id": "eab91bc8",
   "metadata": {},
   "outputs": [],
   "source": [
    "# if we print above as \"(print(a.sort())\"   it will return the None in the output\n"
   ]
  },
  {
   "cell_type": "code",
   "execution_count": 138,
   "id": "d29ddfb7",
   "metadata": {},
   "outputs": [
    {
     "data": {
      "text/plain": [
       "[1,\n",
       " 1,\n",
       " 2,\n",
       " 4,\n",
       " 4,\n",
       " 6,\n",
       " 7,\n",
       " 8,\n",
       " 14,\n",
       " 16,\n",
       " 48,\n",
       " 48,\n",
       " 64,\n",
       " 84,\n",
       " 84,\n",
       " 87,\n",
       " 88,\n",
       " 89,\n",
       " 94,\n",
       " 94,\n",
       " 111,\n",
       " 169,\n",
       " 548,\n",
       " 549,\n",
       " 564,\n",
       " 894,\n",
       " 4984,\n",
       " 7481,\n",
       " 9849,\n",
       " 4811584]"
      ]
     },
     "execution_count": 138,
     "metadata": {},
     "output_type": "execute_result"
    }
   ],
   "source": [
    "a"
   ]
  },
  {
   "cell_type": "code",
   "execution_count": 139,
   "id": "f6c20e9a",
   "metadata": {},
   "outputs": [
    {
     "name": "stdout",
     "output_type": "stream",
     "text": [
      "[4811584, 9849, 7481, 4984, 894, 564, 549, 548, 169, 111, 94, 94, 89, 88, 87, 84, 84, 64, 48, 48, 16, 14, 8, 7, 6, 4, 4, 2, 1, 1]\n"
     ]
    }
   ],
   "source": [
    "a.sort(reverse=True)                 #reverse the list in the opposrite direction or can be said that in the reverse or decending order\n",
    "print(a)"
   ]
  },
  {
   "cell_type": "code",
   "execution_count": 140,
   "id": "893e7221",
   "metadata": {},
   "outputs": [
    {
     "name": "stdout",
     "output_type": "stream",
     "text": [
      "['WATERMELON', 'VIKAS', 'PINEAPPLE', 'GUAVA', 'CHERRY', 'AVACADO']\n"
     ]
    }
   ],
   "source": [
    "#another way of sorting in reverse order\n",
    "\n",
    "\n",
    "list3=['CHERRY', 'GUAVA', 'AVACADO', 'PINEAPPLE', 'WATERMELON', 'VIKAS']\n",
    "list3.sort()\n",
    "list3.reverse()                       # first it is sort after that it is reverse \n",
    "print(list3)"
   ]
  },
  {
   "cell_type": "code",
   "execution_count": 1,
   "id": "3e5bfe14",
   "metadata": {},
   "outputs": [],
   "source": [
    "# to copy there are two ways to copy"
   ]
  },
  {
   "cell_type": "code",
   "execution_count": 2,
   "id": "8a16034b",
   "metadata": {},
   "outputs": [
    {
     "data": {
      "text/plain": [
       "[58, 63, 41, 54, 24, 87, 94, 65, 34, 15]"
      ]
     },
     "execution_count": 2,
     "metadata": {},
     "output_type": "execute_result"
    }
   ],
   "source": [
    "l=[58,63,41,54,24,87,94,65,34,15]\n",
    "mylist=list(l)                                               #that is the 1st way\n",
    "mylist"
   ]
  },
  {
   "cell_type": "code",
   "execution_count": 3,
   "id": "5741bcea",
   "metadata": {},
   "outputs": [
    {
     "name": "stdout",
     "output_type": "stream",
     "text": [
      "[58, 63, 41, 54, 24, 87, 94, 65, 34, 15, 8]\n"
     ]
    }
   ],
   "source": [
    "l.append(8)\n",
    "print (l)"
   ]
  },
  {
   "cell_type": "code",
   "execution_count": 4,
   "id": "c4b1d456",
   "metadata": {},
   "outputs": [
    {
     "data": {
      "text/plain": [
       "[58, 63, 41, 54, 24, 87, 94, 65, 34, 15]"
      ]
     },
     "execution_count": 4,
     "metadata": {},
     "output_type": "execute_result"
    }
   ],
   "source": [
    "mylist"
   ]
  },
  {
   "cell_type": "code",
   "execution_count": 5,
   "id": "30174bcc",
   "metadata": {},
   "outputs": [],
   "source": [
    "# 2nd way is using copying"
   ]
  },
  {
   "cell_type": "code",
   "execution_count": 6,
   "id": "8db07c64",
   "metadata": {},
   "outputs": [],
   "source": [
    "vikas=l.copy()"
   ]
  },
  {
   "cell_type": "code",
   "execution_count": 7,
   "id": "c34a1087",
   "metadata": {},
   "outputs": [
    {
     "data": {
      "text/plain": [
       "[58, 63, 41, 54, 24, 87, 94, 65, 34, 15, 8]"
      ]
     },
     "execution_count": 7,
     "metadata": {},
     "output_type": "execute_result"
    }
   ],
   "source": [
    "l"
   ]
  },
  {
   "cell_type": "code",
   "execution_count": 11,
   "id": "ccf4f544",
   "metadata": {},
   "outputs": [
    {
     "data": {
      "text/plain": [
       "[58, 63, 41, 54, 24, 87, 65, 34, 15, 8]"
      ]
     },
     "execution_count": 11,
     "metadata": {},
     "output_type": "execute_result"
    }
   ],
   "source": [
    "l.remove(94)\n",
    "l"
   ]
  },
  {
   "cell_type": "code",
   "execution_count": 12,
   "id": "19316d37",
   "metadata": {},
   "outputs": [
    {
     "data": {
      "text/plain": [
       "[58, 63, 41, 54, 24, 87, 94, 65, 34, 15, 8]"
      ]
     },
     "execution_count": 12,
     "metadata": {},
     "output_type": "execute_result"
    }
   ],
   "source": [
    "vikas"
   ]
  },
  {
   "cell_type": "code",
   "execution_count": 13,
   "id": "675ad623",
   "metadata": {},
   "outputs": [],
   "source": [
    "# that means that the .copy and the mylist=list() asssign works as same the change you made in the l doesnot appears in the mylist as well as in vikas  so its a true copy"
   ]
  },
  {
   "cell_type": "code",
   "execution_count": 14,
   "id": "07ecc754",
   "metadata": {},
   "outputs": [],
   "source": [
    "## Adding two list or can be said that concatenating "
   ]
  },
  {
   "cell_type": "code",
   "execution_count": 15,
   "id": "ac566b18",
   "metadata": {},
   "outputs": [
    {
     "data": {
      "text/plain": [
       "[58,\n",
       " 63,\n",
       " 41,\n",
       " 54,\n",
       " 24,\n",
       " 87,\n",
       " 94,\n",
       " 65,\n",
       " 34,\n",
       " 15,\n",
       " 8,\n",
       " 58,\n",
       " 63,\n",
       " 41,\n",
       " 54,\n",
       " 24,\n",
       " 87,\n",
       " 65,\n",
       " 34,\n",
       " 15,\n",
       " 8]"
      ]
     },
     "execution_count": 15,
     "metadata": {},
     "output_type": "execute_result"
    }
   ],
   "source": [
    "vikasl=vikas+l                                 # first way to add\n",
    "vikasl"
   ]
  },
  {
   "cell_type": "code",
   "execution_count": 16,
   "id": "9cb4744b",
   "metadata": {},
   "outputs": [
    {
     "name": "stdout",
     "output_type": "stream",
     "text": [
      "[58, 63, 41, 54, 24, 87, 65, 34, 15, 8]\n",
      "[58, 63, 41, 54, 24, 87, 94, 65, 34, 15, 8]\n"
     ]
    }
   ],
   "source": [
    "print(l)\n",
    "print(vikas)"
   ]
  },
  {
   "cell_type": "code",
   "execution_count": 17,
   "id": "8aa3cf5c",
   "metadata": {},
   "outputs": [
    {
     "name": "stdout",
     "output_type": "stream",
     "text": [
      "[58, 63, 41, 54, 24, 87, 94, 65, 34, 15, 8, 58, 63, 41, 54, 24, 87, 65, 34, 15, 8]\n"
     ]
    }
   ],
   "source": [
    "for elem in l:                                       # 2nd way to add\n",
    "    vikas.append(elem)\n",
    "print(vikas)"
   ]
  },
  {
   "cell_type": "code",
   "execution_count": 18,
   "id": "0cbc6051",
   "metadata": {},
   "outputs": [
    {
     "data": {
      "text/plain": [
       "[58, 63, 41, 54, 24, 87, 65, 34, 15, 8]"
      ]
     },
     "execution_count": 18,
     "metadata": {},
     "output_type": "execute_result"
    }
   ],
   "source": [
    "l"
   ]
  },
  {
   "cell_type": "code",
   "execution_count": 19,
   "id": "5963921a",
   "metadata": {},
   "outputs": [
    {
     "data": {
      "text/plain": [
       "[58,\n",
       " 63,\n",
       " 41,\n",
       " 54,\n",
       " 24,\n",
       " 87,\n",
       " 94,\n",
       " 65,\n",
       " 34,\n",
       " 15,\n",
       " 8,\n",
       " 58,\n",
       " 63,\n",
       " 41,\n",
       " 54,\n",
       " 24,\n",
       " 87,\n",
       " 65,\n",
       " 34,\n",
       " 15,\n",
       " 8]"
      ]
     },
     "execution_count": 19,
     "metadata": {},
     "output_type": "execute_result"
    }
   ],
   "source": [
    "vikas"
   ]
  },
  {
   "cell_type": "code",
   "execution_count": 21,
   "id": "1c27c1de",
   "metadata": {},
   "outputs": [
    {
     "data": {
      "text/plain": [
       "[58,\n",
       " 63,\n",
       " 41,\n",
       " 54,\n",
       " 24,\n",
       " 87,\n",
       " 65,\n",
       " 34,\n",
       " 15,\n",
       " 8,\n",
       " 58,\n",
       " 63,\n",
       " 41,\n",
       " 54,\n",
       " 24,\n",
       " 87,\n",
       " 94,\n",
       " 65,\n",
       " 34,\n",
       " 15,\n",
       " 8,\n",
       " 58,\n",
       " 63,\n",
       " 41,\n",
       " 54,\n",
       " 24,\n",
       " 87,\n",
       " 65,\n",
       " 34,\n",
       " 15,\n",
       " 8]"
      ]
     },
     "execution_count": 21,
     "metadata": {},
     "output_type": "execute_result"
    }
   ],
   "source": [
    "l.extend(vikas)\n",
    "l"
   ]
  },
  {
   "cell_type": "markdown",
   "id": "1d09d470",
   "metadata": {},
   "source": [
    "# lambda functions"
   ]
  },
  {
   "cell_type": "code",
   "execution_count": 23,
   "id": "d0a29693",
   "metadata": {},
   "outputs": [
    {
     "ename": "SyntaxError",
     "evalue": "invalid syntax (746232877.py, line 1)",
     "output_type": "error",
     "traceback": [
      "\u001b[1;36m  Input \u001b[1;32mIn [23]\u001b[1;36m\u001b[0m\n\u001b[1;33m    def multiply(a,b)\u001b[0m\n\u001b[1;37m                     ^\u001b[0m\n\u001b[1;31mSyntaxError\u001b[0m\u001b[1;31m:\u001b[0m invalid syntax\n"
     ]
    }
   ],
   "source": [
    "def multiply(a,b)\n",
    "    x=lambda a,b:a*b   \n",
    "    print(x)\n",
    "multiply(56,54)      #cant call like that it will through an error\n"
   ]
  },
  {
   "cell_type": "code",
   "execution_count": 25,
   "id": "48fb385f",
   "metadata": {},
   "outputs": [
    {
     "name": "stdout",
     "output_type": "stream",
     "text": [
      "<function <lambda> at 0x000000F302953E50>\n"
     ]
    },
    {
     "data": {
      "text/plain": [
       "3024"
      ]
     },
     "execution_count": 25,
     "metadata": {},
     "output_type": "execute_result"
    }
   ],
   "source": [
    "#Multiplication through lambda and see how it is called\n",
    "x=lambda a,b:a*b\n",
    "print(x)\n",
    "x(56,54)\n"
   ]
  },
  {
   "cell_type": "code",
   "execution_count": 26,
   "id": "328f3d5b",
   "metadata": {},
   "outputs": [
    {
     "data": {
      "text/plain": [
       "6534"
      ]
     },
     "execution_count": 26,
     "metadata": {},
     "output_type": "execute_result"
    }
   ],
   "source": [
    "x(121,54)"
   ]
  },
  {
   "cell_type": "code",
   "execution_count": 27,
   "id": "c5e61816",
   "metadata": {},
   "outputs": [
    {
     "data": {
      "text/plain": [
       "15591744"
      ]
     },
     "execution_count": 27,
     "metadata": {},
     "output_type": "execute_result"
    }
   ],
   "source": [
    "y=lambda x,y,z:x*y*z\n",
    "y(54,5156,56)                       # it is something like calling to lambda"
   ]
  },
  {
   "cell_type": "code",
   "execution_count": 28,
   "id": "7e37bee0",
   "metadata": {},
   "outputs": [
    {
     "name": "stdout",
     "output_type": "stream",
     "text": [
      "5730816\n"
     ]
    }
   ],
   "source": [
    "print(y(156,56,656))                   # can directly print through"
   ]
  },
  {
   "cell_type": "code",
   "execution_count": 31,
   "id": "5d864755",
   "metadata": {},
   "outputs": [
    {
     "name": "stdout",
     "output_type": "stream",
     "text": [
      "22\n"
     ]
    }
   ],
   "source": [
    "def func(n):\n",
    "    return lambda a:a*n\n",
    "double=func(2)\n",
    "print(double(11))"
   ]
  },
  {
   "cell_type": "code",
   "execution_count": 33,
   "id": "cce70a05",
   "metadata": {},
   "outputs": [
    {
     "name": "stdout",
     "output_type": "stream",
     "text": [
      "2624\n",
      "33\n"
     ]
    }
   ],
   "source": [
    "def myfunc(n):\n",
    "  return lambda a : a * n\n",
    "\n",
    "mydoubler = myfunc(2)\n",
    "mytripler = myfunc(3)\n",
    "\n",
    "print(mydoubler(1312))\n",
    "print(mytripler(11))"
   ]
  },
  {
   "cell_type": "code",
   "execution_count": null,
   "id": "e319ccfb",
   "metadata": {},
   "outputs": [],
   "source": []
  }
 ],
 "metadata": {
  "kernelspec": {
   "display_name": "Python 3 (ipykernel)",
   "language": "python",
   "name": "python3"
  },
  "language_info": {
   "codemirror_mode": {
    "name": "ipython",
    "version": 3
   },
   "file_extension": ".py",
   "mimetype": "text/x-python",
   "name": "python",
   "nbconvert_exporter": "python",
   "pygments_lexer": "ipython3",
   "version": "3.9.12"
  }
 },
 "nbformat": 4,
 "nbformat_minor": 5
}
