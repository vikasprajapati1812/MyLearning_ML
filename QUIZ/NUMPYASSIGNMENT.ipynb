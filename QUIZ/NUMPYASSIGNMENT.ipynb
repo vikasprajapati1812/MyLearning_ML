{
 "cells": [
  {
   "cell_type": "raw",
   "id": "13ef11d0",
   "metadata": {},
   "source": [
    "Q1. For a given numpy array, how will you change the dimensions to 5 using the\n",
    "existing parameters in the numpy array.\n",
    "my_array = numpy.array([[[[1,3,4]]]])\n",
    "a. numpy.array(my_array, ndim=5)\n",
    "b. numpy.array(my_array, ndim=1)\n",
    "c. numpy.array(my_array, ndmin=5)\n",
    "d. numpy.array(my_array, ndim= my_array.ndmin + 1)\n"
   ]
  },
  {
   "cell_type": "code",
   "execution_count": 1,
   "id": "ec3c86a1",
   "metadata": {},
   "outputs": [],
   "source": [
    "import numpy"
   ]
  },
  {
   "cell_type": "code",
   "execution_count": 2,
   "id": "6a726925",
   "metadata": {},
   "outputs": [],
   "source": [
    "my_array=numpy.array([[[[1,3,4]]]])"
   ]
  },
  {
   "cell_type": "code",
   "execution_count": 3,
   "id": "10496e41",
   "metadata": {},
   "outputs": [
    {
     "data": {
      "text/plain": [
       "4"
      ]
     },
     "execution_count": 3,
     "metadata": {},
     "output_type": "execute_result"
    }
   ],
   "source": [
    "my_array.ndim"
   ]
  },
  {
   "cell_type": "code",
   "execution_count": 4,
   "id": "63e01b45",
   "metadata": {},
   "outputs": [],
   "source": [
    "A=numpy.array(my_array,ndmin=5)      # Answer is  1. a"
   ]
  },
  {
   "cell_type": "code",
   "execution_count": 5,
   "id": "4a3a9874",
   "metadata": {},
   "outputs": [
    {
     "data": {
      "text/plain": [
       "5"
      ]
     },
     "execution_count": 5,
     "metadata": {},
     "output_type": "execute_result"
    }
   ],
   "source": [
    "A.ndim"
   ]
  },
  {
   "cell_type": "raw",
   "id": "a24350e5",
   "metadata": {},
   "source": [
    "Q2. For the given numpy arrays, Array1 and Array2, what will be the dot product for the\n",
    "same. Array1 = array([[1, 2, 3], [4, 5, 6]])\n",
    "Array2 = array([[2, 3],[3, 2]])\n",
    "a. Keyerror\n",
    "b. Valueerror\n",
    "c. array([[ -9, 6, -1],[-12, 18, -7]])\n",
    "d. None of the Above"
   ]
  },
  {
   "cell_type": "code",
   "execution_count": 9,
   "id": "f168c16a",
   "metadata": {},
   "outputs": [],
   "source": [
    "Array1 = numpy.array([[1, 2, 3], [4, 5, 6]])\n",
    "Array2 = numpy.array([[2, 3],[3, 2]])"
   ]
  },
  {
   "cell_type": "code",
   "execution_count": 10,
   "id": "02d588c0",
   "metadata": {},
   "outputs": [
    {
     "ename": "ValueError",
     "evalue": "shapes (2,3) and (2,2) not aligned: 3 (dim 1) != 2 (dim 0)",
     "output_type": "error",
     "traceback": [
      "\u001b[1;31m---------------------------------------------------------------------------\u001b[0m",
      "\u001b[1;31mValueError\u001b[0m                                Traceback (most recent call last)",
      "Input \u001b[1;32mIn [10]\u001b[0m, in \u001b[0;36m<cell line: 1>\u001b[1;34m()\u001b[0m\n\u001b[1;32m----> 1\u001b[0m \u001b[43mnumpy\u001b[49m\u001b[38;5;241;43m.\u001b[39;49m\u001b[43mdot\u001b[49m\u001b[43m(\u001b[49m\u001b[43mArray1\u001b[49m\u001b[43m,\u001b[49m\u001b[43mArray2\u001b[49m\u001b[43m)\u001b[49m\n",
      "File \u001b[1;32m<__array_function__ internals>:5\u001b[0m, in \u001b[0;36mdot\u001b[1;34m(*args, **kwargs)\u001b[0m\n",
      "\u001b[1;31mValueError\u001b[0m: shapes (2,3) and (2,2) not aligned: 3 (dim 1) != 2 (dim 0)"
     ]
    }
   ],
   "source": [
    "numpy.dot(Array1,Array2)                  # Answer2. b ValueError"
   ]
  },
  {
   "cell_type": "raw",
   "id": "e1bf2f55",
   "metadata": {},
   "source": [
    "Q3. In a given numpy array, using the slicing operations print the reverse of the\n",
    "array.\n",
    "array = np.array([10,3,1,203,404,204,20,302,30,402,192])\n",
    "a. array[-1:0]\n",
    "b. array1[len(array1):0]\n",
    "c. array[::-1]\n",
    "d. array1[-1:-len(array1)]\n"
   ]
  },
  {
   "cell_type": "code",
   "execution_count": 11,
   "id": "f035d9b8",
   "metadata": {},
   "outputs": [],
   "source": [
    "import numpy as np\n",
    "array = np.array([10,3,1,203,404,204,20,302,30,402,192])"
   ]
  },
  {
   "cell_type": "code",
   "execution_count": 12,
   "id": "2c7693c9",
   "metadata": {},
   "outputs": [
    {
     "data": {
      "text/plain": [
       "array([ 10,   3,   1, 203, 404, 204,  20, 302,  30, 402, 192])"
      ]
     },
     "execution_count": 12,
     "metadata": {},
     "output_type": "execute_result"
    }
   ],
   "source": [
    "array"
   ]
  },
  {
   "cell_type": "code",
   "execution_count": 13,
   "id": "8ddda1ae",
   "metadata": {},
   "outputs": [
    {
     "data": {
      "text/plain": [
       "array([192, 402,  30, 302,  20, 204, 404, 203,   1,   3,  10])"
      ]
     },
     "execution_count": 13,
     "metadata": {},
     "output_type": "execute_result"
    }
   ],
   "source": [
    "array[::-1]"
   ]
  },
  {
   "cell_type": "raw",
   "id": "49199c27",
   "metadata": {},
   "source": [
    "Q4. What is the output of the below code:\n",
    "a = [[1, 0], [0, 1]]\n",
    "b = [[4, 1], [2, 2]]\n",
    "np.dot(a, b)\n",
    "a. array([[1, 1], [2, 2]])\n",
    "b. array([[4, 1],[2, 2]])\n",
    "c. array([[4, 4],[2, 4]])\n",
    "d. None of the above\n"
   ]
  },
  {
   "cell_type": "code",
   "execution_count": 14,
   "id": "cfdc5a6f",
   "metadata": {},
   "outputs": [],
   "source": [
    "a = [[1, 0], [0, 1]]\n",
    "b = [[4, 1], [2, 2]]"
   ]
  },
  {
   "cell_type": "code",
   "execution_count": 15,
   "id": "79577c17",
   "metadata": {},
   "outputs": [
    {
     "data": {
      "text/plain": [
       "array([[4, 1],\n",
       "       [2, 2]])"
      ]
     },
     "execution_count": 15,
     "metadata": {},
     "output_type": "execute_result"
    }
   ],
   "source": [
    "np.dot(a, b)             # Answer 4. b"
   ]
  },
  {
   "cell_type": "raw",
   "id": "ed23daa0",
   "metadata": {},
   "source": [
    "Q5. What is the output of the following code:\n",
    "a = np.arange(3*4*5*6).reshape((3,4,5,6))\n",
    "b = np.arange(3*4*5*6)[::-1].reshape((5,4,6,3))\n",
    "np.dot(a, b)[2,3,2,1,2,2]\n",
    "a. 499128\n",
    "b. 399118\n",
    "c. 909128\n",
    "d. Value Error\n"
   ]
  },
  {
   "cell_type": "code",
   "execution_count": 16,
   "id": "a87e3651",
   "metadata": {},
   "outputs": [],
   "source": [
    "a = np.arange(3*4*5*6).reshape((3,4,5,6))\n",
    "b = np.arange(3*4*5*6)[::-1].reshape((5,4,6,3))"
   ]
  },
  {
   "cell_type": "code",
   "execution_count": 17,
   "id": "ef82f0da",
   "metadata": {},
   "outputs": [
    {
     "data": {
      "text/plain": [
       "499128"
      ]
     },
     "execution_count": 17,
     "metadata": {},
     "output_type": "execute_result"
    }
   ],
   "source": [
    "np.dot(a, b)[2,3,2,1,2,2]       # Answer 5. a 499128"
   ]
  },
  {
   "cell_type": "raw",
   "id": "e277d990",
   "metadata": {},
   "source": [
    "Q6. What will be output for the following code?\n",
    "import numpy as np\n",
    "a = np.array([3, 7, 32], dtype = complex)\n",
    "print(a)\n",
    "a. [ 3.+0.j 7.+0.j 32.+0.j]\n",
    "b. [ 3.0+0.j 7.0+0.j 32.0+0.j]\n",
    "c. [ 3.+0.k 7.+0.j 32.+0.l]\n",
    "d. Error\n"
   ]
  },
  {
   "cell_type": "code",
   "execution_count": 18,
   "id": "2ff24c88",
   "metadata": {},
   "outputs": [
    {
     "name": "stdout",
     "output_type": "stream",
     "text": [
      "[ 3.+0.j  7.+0.j 32.+0.j]\n"
     ]
    }
   ],
   "source": [
    "a = np.array([3, 7, 32], dtype = complex)            # Answer 6. a\n",
    "print(a)"
   ]
  },
  {
   "cell_type": "raw",
   "id": "dcd76f45",
   "metadata": {},
   "source": [
    "Q7. How to replace all values greater than a given value with a given cutoff? For\n",
    "example: In array ‘ar1’, replace all values greater than 30 to 30 and less than 10 to 10.\n",
    "Input:\n",
    "np.random.seed(100)\n",
    "ar1 = np.random.uniform(1,50, 20)\n",
    "a. np.clip(a, a_min=10, a_max=30)\n",
    "b. np.where(a < 10, 10, np.where(a > 30, 30, a))\n",
    "c. Both of the above\n",
    "d. None of the above"
   ]
  },
  {
   "cell_type": "code",
   "execution_count": 19,
   "id": "687ae82a",
   "metadata": {},
   "outputs": [],
   "source": [
    "a=np.random.seed(100)\n",
    "ar1 = np.random.uniform(1,50, 20)"
   ]
  },
  {
   "cell_type": "code",
   "execution_count": 20,
   "id": "ab6826cd",
   "metadata": {},
   "outputs": [
    {
     "data": {
      "text/plain": [
       "array([27.62684215, 14.64009987, 21.80136195, 42.39403048,  1.23122395,\n",
       "        6.95688692, 33.86670515, 41.466785  ,  7.69862289, 29.17957314,\n",
       "       44.67477576, 11.25090398, 10.08108276,  6.31046763, 11.76517714,\n",
       "       48.95256545, 40.77247431,  9.42510962, 40.99501269, 14.42961361])"
      ]
     },
     "execution_count": 20,
     "metadata": {},
     "output_type": "execute_result"
    }
   ],
   "source": [
    "ar1"
   ]
  },
  {
   "cell_type": "code",
   "execution_count": 21,
   "id": "78499e7f",
   "metadata": {},
   "outputs": [
    {
     "data": {
      "text/plain": [
       "array([27.62684215, 14.64009987, 21.80136195, 30.        , 10.        ,\n",
       "       10.        , 30.        , 30.        , 10.        , 29.17957314,\n",
       "       30.        , 11.25090398, 10.08108276, 10.        , 11.76517714,\n",
       "       30.        , 30.        , 10.        , 30.        , 14.42961361])"
      ]
     },
     "execution_count": 21,
     "metadata": {},
     "output_type": "execute_result"
    }
   ],
   "source": [
    "np.where(ar1 < 10, 10, np.where(ar1 > 30, 30, ar1))          # ANSWER 7. b"
   ]
  },
  {
   "cell_type": "raw",
   "id": "4f454517",
   "metadata": {},
   "source": [
    "Q8. For a given numpy array, how are you going to insert a new value at the specified\n",
    "position? array = np.array([10,3,1,203,404,204,20,302,30,402,192])\n",
    "Elem_to_be_inserted = [1,2,3,4]\n",
    "The position to be inserted at = before 404\n",
    "a. numpy.insert(array2, 404, array2)\n",
    "b. numpy.insert(array2, np.index(404), array2)\n",
    "c. numpy.insert(array1, np.where(404), array2)\n",
    "d. numpy.insert(array1, 4, array2)\n"
   ]
  },
  {
   "cell_type": "code",
   "execution_count": 22,
   "id": "6b637f28",
   "metadata": {},
   "outputs": [],
   "source": [
    "array1 = np.array([10,3,1,203,404,204,20,302,30,402,192])# here we rename as array1 and array2 as they are now according to ques\n",
    "array2 = [1,2,3,4]"
   ]
  },
  {
   "cell_type": "code",
   "execution_count": 23,
   "id": "29d8b097",
   "metadata": {
    "scrolled": false
   },
   "outputs": [
    {
     "ename": "IndexError",
     "evalue": "index 404 is out of bounds for axis 0 with size 4",
     "output_type": "error",
     "traceback": [
      "\u001b[1;31m---------------------------------------------------------------------------\u001b[0m",
      "\u001b[1;31mIndexError\u001b[0m                                Traceback (most recent call last)",
      "Input \u001b[1;32mIn [23]\u001b[0m, in \u001b[0;36m<cell line: 1>\u001b[1;34m()\u001b[0m\n\u001b[1;32m----> 1\u001b[0m \u001b[43mnumpy\u001b[49m\u001b[38;5;241;43m.\u001b[39;49m\u001b[43minsert\u001b[49m\u001b[43m(\u001b[49m\u001b[43marray2\u001b[49m\u001b[43m,\u001b[49m\u001b[43m \u001b[49m\u001b[38;5;241;43m404\u001b[39;49m\u001b[43m,\u001b[49m\u001b[43m \u001b[49m\u001b[43marray2\u001b[49m\u001b[43m)\u001b[49m\n",
      "File \u001b[1;32m<__array_function__ internals>:5\u001b[0m, in \u001b[0;36minsert\u001b[1;34m(*args, **kwargs)\u001b[0m\n",
      "File \u001b[1;32mC:\\ProgramData\\Anaconda3\\lib\\site-packages\\numpy\\lib\\function_base.py:4704\u001b[0m, in \u001b[0;36minsert\u001b[1;34m(arr, obj, values, axis)\u001b[0m\n\u001b[0;32m   4702\u001b[0m index \u001b[38;5;241m=\u001b[39m indices\u001b[38;5;241m.\u001b[39mitem()\n\u001b[0;32m   4703\u001b[0m \u001b[38;5;28;01mif\u001b[39;00m index \u001b[38;5;241m<\u001b[39m \u001b[38;5;241m-\u001b[39mN \u001b[38;5;129;01mor\u001b[39;00m index \u001b[38;5;241m>\u001b[39m N:\n\u001b[1;32m-> 4704\u001b[0m     \u001b[38;5;28;01mraise\u001b[39;00m \u001b[38;5;167;01mIndexError\u001b[39;00m(\n\u001b[0;32m   4705\u001b[0m         \u001b[38;5;124m\"\u001b[39m\u001b[38;5;124mindex \u001b[39m\u001b[38;5;132;01m%i\u001b[39;00m\u001b[38;5;124m is out of bounds for axis \u001b[39m\u001b[38;5;132;01m%i\u001b[39;00m\u001b[38;5;124m with \u001b[39m\u001b[38;5;124m\"\u001b[39m\n\u001b[0;32m   4706\u001b[0m         \u001b[38;5;124m\"\u001b[39m\u001b[38;5;124msize \u001b[39m\u001b[38;5;132;01m%i\u001b[39;00m\u001b[38;5;124m\"\u001b[39m \u001b[38;5;241m%\u001b[39m (obj, axis, N))\n\u001b[0;32m   4707\u001b[0m \u001b[38;5;28;01mif\u001b[39;00m (index \u001b[38;5;241m<\u001b[39m \u001b[38;5;241m0\u001b[39m):\n\u001b[0;32m   4708\u001b[0m     index \u001b[38;5;241m+\u001b[39m\u001b[38;5;241m=\u001b[39m N\n",
      "\u001b[1;31mIndexError\u001b[0m: index 404 is out of bounds for axis 0 with size 4"
     ]
    }
   ],
   "source": [
    "numpy.insert(array2, 404, array2)"
   ]
  },
  {
   "cell_type": "code",
   "execution_count": null,
   "id": "fdce01dc",
   "metadata": {},
   "outputs": [],
   "source": [
    "numpy.insert(array2, np.index(404), array2)"
   ]
  },
  {
   "cell_type": "code",
   "execution_count": null,
   "id": "2e2d0454",
   "metadata": {},
   "outputs": [],
   "source": [
    "numpy.insert(array1, np.where(404), array2)"
   ]
  },
  {
   "cell_type": "code",
   "execution_count": null,
   "id": "5787e414",
   "metadata": {},
   "outputs": [],
   "source": [
    "numpy.insert(array1, 4, array2)          #ANSWER 8. D"
   ]
  },
  {
   "cell_type": "raw",
   "id": "c34ab142",
   "metadata": {},
   "source": [
    "Q9. Create a 3x3 matrix using numpy, and all the values of the matrix must be a constant k.\n",
    "a. numpy.eye(‘k’)\n",
    "b. numpy.random.random((3,3), ‘k’)\n",
    "c. numpy.full((3,3), ‘k’)\n",
    "d. numpy.ones(3,3)\n"
   ]
  },
  {
   "cell_type": "code",
   "execution_count": 24,
   "id": "2b130175",
   "metadata": {},
   "outputs": [
    {
     "data": {
      "text/plain": [
       "array([['k', 'k', 'k'],\n",
       "       ['k', 'k', 'k'],\n",
       "       ['k', 'k', 'k']], dtype='<U1')"
      ]
     },
     "execution_count": 24,
     "metadata": {},
     "output_type": "execute_result"
    }
   ],
   "source": [
    "np.full((3,3),\"k\")"
   ]
  },
  {
   "cell_type": "raw",
   "id": "e18c6fe5",
   "metadata": {},
   "source": [
    "Q10. For the given python code that implements bubble sort, what will be the output for the\n",
    "given numpy array.\n",
    "def bub_sort(array):\n",
    "for i in range(0, len(array)):\n",
    "for j in range(0, len(array) - i - 1):\n",
    "if array[j] < array[j + 1]:\n",
    "temp = array[j]\n",
    "array[j] = array[j + 1]\n",
    "array[j+1] = temp\n",
    "return array\n",
    "my_array = numpy.array([20,14,25,16,45,60,12,9])\n",
    "a. array([ 9, 12, 14, 16, 20, 25, 45, 60])\n",
    "b. array([60, 45, 25, 20, 16, 14, 12, 9])\n",
    "c. array([60, 45, 20, 25, 16, 14, 12, 9])\n",
    "d. array([ 9, 12, 16, 14, 20, 25, 45, 60])\n"
   ]
  },
  {
   "cell_type": "code",
   "execution_count": 25,
   "id": "4a36c818",
   "metadata": {},
   "outputs": [],
   "source": [
    "def bub_sort(array):\n",
    "    for i in range(0, len(array)):\n",
    "        for j in range(0, len(array) - i - 1):\n",
    "            if array[j] < array[j + 1]:\n",
    "                temp = array[j]\n",
    "                array[j] = array[j + 1]\n",
    "                array[j+1] = temp\n",
    "    return array\n",
    "array = numpy.array([20,14,25,16,45,60,12,9])\n"
   ]
  },
  {
   "cell_type": "code",
   "execution_count": 26,
   "id": "90a96e28",
   "metadata": {},
   "outputs": [
    {
     "name": "stdout",
     "output_type": "stream",
     "text": [
      "[60 45 25 20 16 14 12  9]\n"
     ]
    }
   ],
   "source": [
    "print(bub_sort(array))                # ANSWER 10. b"
   ]
  },
  {
   "cell_type": "raw",
   "id": "b106341c",
   "metadata": {},
   "source": [
    "Q11. For a given numpy array of the shape (2,5) ,How will you reshape the array in the shape (5,2).\n",
    "a. numpy.shape(5,2)\n",
    "b. numpy.arange(5,2)\n",
    "c. numpy.reshape((2,5) == (5,2))\n",
    "d. numpy.reshape(5,2)\n"
   ]
  },
  {
   "cell_type": "code",
   "execution_count": 27,
   "id": "2072d59e",
   "metadata": {},
   "outputs": [
    {
     "data": {
      "text/plain": [
       "array([[20, 14, 25, 16, 45],\n",
       "       [60, 12,  9, 45,  6]])"
      ]
     },
     "execution_count": 27,
     "metadata": {},
     "output_type": "execute_result"
    }
   ],
   "source": [
    "a=np.array([[20,14,25,16,45],[60,12,9,45,6]])\n",
    "a"
   ]
  },
  {
   "cell_type": "code",
   "execution_count": 28,
   "id": "4badba80",
   "metadata": {},
   "outputs": [
    {
     "data": {
      "text/plain": [
       "array([[20, 14],\n",
       "       [25, 16],\n",
       "       [45, 60],\n",
       "       [12,  9],\n",
       "       [45,  6]])"
      ]
     },
     "execution_count": 28,
     "metadata": {},
     "output_type": "execute_result"
    }
   ],
   "source": [
    "np.reshape(a,(5,2))   #  numpy.reshape(5,2)     #Answer 11.d if numpy.reshape(a,(5,2)"
   ]
  },
  {
   "cell_type": "raw",
   "id": "c4bb3244",
   "metadata": {},
   "source": [
    "Q12. What will be the shape of the sample numpy array after flattening it?\n",
    "Sample = numpy.array([[1,2],[3,4],[5,6],[7,8]])\n",
    "a. array([1, 2, 3, 4, 5, 6, 7, 8])\n",
    "b. array([1, 2], [3, 4], [5, 6], [7, 8])\n",
    "c. array([1], [2], [3], [4], [5], [6], [7], [8])\n",
    "d. None of the above\n"
   ]
  },
  {
   "cell_type": "code",
   "execution_count": 29,
   "id": "10b2f992",
   "metadata": {},
   "outputs": [
    {
     "data": {
      "text/plain": [
       "array([[1, 2],\n",
       "       [3, 4],\n",
       "       [5, 6],\n",
       "       [7, 8]])"
      ]
     },
     "execution_count": 29,
     "metadata": {},
     "output_type": "execute_result"
    }
   ],
   "source": [
    "Sample = numpy.array([[1,2],[3,4],[5,6],[7,8]])\n",
    "Sample"
   ]
  },
  {
   "cell_type": "code",
   "execution_count": 30,
   "id": "081fadf0",
   "metadata": {},
   "outputs": [
    {
     "data": {
      "text/plain": [
       "array([1, 2, 3, 4, 5, 6, 7, 8])"
      ]
     },
     "execution_count": 30,
     "metadata": {},
     "output_type": "execute_result"
    }
   ],
   "source": [
    "np.ravel(Sample)              # ANSWER  12. a"
   ]
  },
  {
   "cell_type": "raw",
   "id": "de347356",
   "metadata": {},
   "source": [
    "Q13. In the given array, how can we get the following output - array([2, 5,8]). \n",
    "Sample = numpy.array([[1,2,3],[4,5,6],[7,8,9],[10,11,12],[13,14,15]])\n",
    "a. array[0:3, 1]\n",
    "b. array[0:3][1]\n",
    "c. array[[0:3], [1]]\n",
    "d. None of the above\n"
   ]
  },
  {
   "cell_type": "code",
   "execution_count": 31,
   "id": "bc74ec03",
   "metadata": {},
   "outputs": [],
   "source": [
    "Sample = numpy.array([[1,2,3],[4,5,6],[7,8,9],[10,11,12],[13,14,15]])"
   ]
  },
  {
   "cell_type": "code",
   "execution_count": 32,
   "id": "192b41ba",
   "metadata": {},
   "outputs": [
    {
     "data": {
      "text/plain": [
       "array([[ 1,  2,  3],\n",
       "       [ 4,  5,  6],\n",
       "       [ 7,  8,  9],\n",
       "       [10, 11, 12],\n",
       "       [13, 14, 15]])"
      ]
     },
     "execution_count": 32,
     "metadata": {},
     "output_type": "execute_result"
    }
   ],
   "source": [
    "Sample"
   ]
  },
  {
   "cell_type": "code",
   "execution_count": 33,
   "id": "e129a108",
   "metadata": {},
   "outputs": [
    {
     "data": {
      "text/plain": [
       "array([2, 5, 8])"
      ]
     },
     "execution_count": 33,
     "metadata": {},
     "output_type": "execute_result"
    }
   ],
   "source": [
    "Sample[0:3,1]      # ANSWER 13. A"
   ]
  },
  {
   "cell_type": "raw",
   "id": "27f5bc14",
   "metadata": {},
   "source": [
    "Q14. Given two numpy arrays, we will perform Horizontally stack the given arrays array1 and\n",
    "array2. What will be the output of the above operation? The sample arrays are as follows.\n",
    "Array1 = numpy.arange(20,2)\n",
    "Array2 = numpy.array([1,2,3,4,5,6,7,8,9,10])\n",
    "A. array([ 1, 3, 5, 7, 9, 11, 13, 15, 17, 19, 1, 2, 3, 4, 5, 6, 7, 8, 9, 10])\n",
    "B. array([[ 1, 3, 5, 7, 9, 11, 13, 15, 17, 19], [1, 2, 3, 4, 5, 6, 7, 8, 9, 10]])\n",
    "C. array([[ 1, 3, 5, 7, 9, 11, 13, 15, 17, 19], [1, 2, 3, 4, 5, 6, 7, 8, 9, 10]])\n",
    "D. None of the above\n"
   ]
  },
  {
   "cell_type": "code",
   "execution_count": 34,
   "id": "20b8aa93",
   "metadata": {},
   "outputs": [],
   "source": [
    "Array1 =np.arange(1,20,2)               # Array1  should be like that  otherwise answer would be D\n",
    "Array2 =np.array([1,2,3,4,5,6,7,8,9,10])"
   ]
  },
  {
   "cell_type": "code",
   "execution_count": 35,
   "id": "762b5ece",
   "metadata": {},
   "outputs": [
    {
     "name": "stdout",
     "output_type": "stream",
     "text": [
      "[ 1  3  5  7  9 11 13 15 17 19]\n",
      "[ 1  2  3  4  5  6  7  8  9 10]\n"
     ]
    }
   ],
   "source": [
    "print(Array1)\n",
    "print(Array2)"
   ]
  },
  {
   "cell_type": "code",
   "execution_count": 36,
   "id": "d5ab195a",
   "metadata": {},
   "outputs": [
    {
     "data": {
      "text/plain": [
       "array([ 1,  3,  5,  7,  9, 11, 13, 15, 17, 19,  1,  2,  3,  4,  5,  6,  7,\n",
       "        8,  9, 10])"
      ]
     },
     "execution_count": 36,
     "metadata": {},
     "output_type": "execute_result"
    }
   ],
   "source": [
    "np.hstack((Array1,Array2))         # answer is 14. A           if the Array1=numpy.arange(1,20,2)"
   ]
  },
  {
   "cell_type": "raw",
   "id": "3aabc20f",
   "metadata": {},
   "source": [
    "Q15. For the given arrays, array1 and array2, if we stack the two arrays row wise, what will be\n",
    "the output?\n",
    "array1 = np.array([[1,2],[3,4]])\n",
    "array2 = np.array([[1,2],[3,4],[5,6],[7,8],[9,10]])\n",
    "a. array([[ 1, 2],[ 3, 4],[ 1, 2],[ 3, 4],[ 5, 6],[ 7, 8],[ 9, 10]])\n",
    "b. array([[ 1, 2, 3, 4],[ 1, 2, 3, 4],[ 5, 6, 7, 8],[ 9, 10]])\n",
    "c. array([[ 1, 2, 3, 4, 1], [2, 3, 4, 5, 6],[ 7, 8, 9, 10]])\n",
    "d. None of the above\n"
   ]
  },
  {
   "cell_type": "code",
   "execution_count": 37,
   "id": "b71ad3ef",
   "metadata": {},
   "outputs": [],
   "source": [
    "array1 = np.array([[1,2],[3,4]])\n",
    "array2 = np.array([[1,2],[3,4],[5,6],[7,8],[9,10]])"
   ]
  },
  {
   "cell_type": "code",
   "execution_count": 38,
   "id": "1f68e9ed",
   "metadata": {},
   "outputs": [
    {
     "data": {
      "text/plain": [
       "array([[ 1,  2],\n",
       "       [ 3,  4],\n",
       "       [ 1,  2],\n",
       "       [ 3,  4],\n",
       "       [ 5,  6],\n",
       "       [ 7,  8],\n",
       "       [ 9, 10]])"
      ]
     },
     "execution_count": 38,
     "metadata": {},
     "output_type": "execute_result"
    }
   ],
   "source": [
    "np.row_stack((array1,array2))         # Answer  15.a"
   ]
  },
  {
   "cell_type": "raw",
   "id": "6ded28d6",
   "metadata": {},
   "source": [
    "Q16. For the given arrays, array1 and array2, if we stack the two arrays column wise, what will\n",
    "be the output?\n",
    "array1 = np.array([[1,2],[3,4]])\n",
    "array2 = np.array([[5,6],[7,8]])\n",
    "a. array([[1, 2, 5, 6],[3, 4, 7, 8]])\n",
    "b. array([[1, 2, 5, 6 ,3, 4, 7, 8]])\n",
    "c. array([[1, 2], [5, 6],[3, 4], [7, 8]])\n",
    "d. None of the above\n"
   ]
  },
  {
   "cell_type": "code",
   "execution_count": 39,
   "id": "e461e59c",
   "metadata": {},
   "outputs": [],
   "source": [
    "array1 = np.array([[1,2],[3,4]])\n",
    "array2 = np.array([[5,6],[7,8]])"
   ]
  },
  {
   "cell_type": "code",
   "execution_count": 40,
   "id": "f9903bbe",
   "metadata": {},
   "outputs": [
    {
     "name": "stdout",
     "output_type": "stream",
     "text": [
      "[[1 2]\n",
      " [3 4]]\n",
      "[[5 6]\n",
      " [7 8]]\n"
     ]
    }
   ],
   "source": [
    "print(array1)\n",
    "print(array2)"
   ]
  },
  {
   "cell_type": "code",
   "execution_count": 41,
   "id": "9d90cb60",
   "metadata": {},
   "outputs": [
    {
     "data": {
      "text/plain": [
       "array([[1, 2, 5, 6],\n",
       "       [3, 4, 7, 8]])"
      ]
     },
     "execution_count": 41,
     "metadata": {},
     "output_type": "execute_result"
    }
   ],
   "source": [
    "np.column_stack((array1,array2))                #ANSWER 16.a"
   ]
  },
  {
   "cell_type": "raw",
   "id": "bc734989",
   "metadata": {},
   "source": [
    "Q17. Given two vectors A and B, find the cross product between the two\n",
    "vectors. A = numpy.array([[4],[12],[29]])\n",
    "B = numpy.array([[13],[21],[4]])\n",
    "A. array([[-561 361 -72]])\n",
    "B. array([[-560 360 -71]])\n",
    "C. array([[-555 361 -72]])\n",
    "D. array([[-561 360 -72]])\n"
   ]
  },
  {
   "cell_type": "code",
   "execution_count": 42,
   "id": "6e810141",
   "metadata": {},
   "outputs": [],
   "source": [
    "A = np.array([[4],[12],[29]])\n",
    "B = np.array([[13],[21],[4]])"
   ]
  },
  {
   "cell_type": "code",
   "execution_count": 43,
   "id": "a27b12ce",
   "metadata": {},
   "outputs": [
    {
     "name": "stdout",
     "output_type": "stream",
     "text": [
      "[[ 4]\n",
      " [12]\n",
      " [29]]\n",
      "[[13]\n",
      " [21]\n",
      " [ 4]]\n"
     ]
    }
   ],
   "source": [
    "print(A)\n",
    "print(B)"
   ]
  },
  {
   "cell_type": "code",
   "execution_count": 44,
   "id": "6a4cc102",
   "metadata": {},
   "outputs": [
    {
     "data": {
      "text/plain": [
       "array([[-561],\n",
       "       [ 361],\n",
       "       [ -72]])"
      ]
     },
     "execution_count": 44,
     "metadata": {},
     "output_type": "execute_result"
    }
   ],
   "source": [
    "np.cross(A,B,axis=0)         #Answer 17. A"
   ]
  },
  {
   "cell_type": "raw",
   "id": "a6dd2b75",
   "metadata": {},
   "source": [
    "Q18. Given two vectors A and B, find the correlation coefficient of the following vectors.\n",
    "A = numpy.array([1,3,5,7,9,11,13,15,17,19,21,23,25])\n",
    "B = numpy.array([0,2,4,6,8,10,12,14,16,18,20, 22, 24])\n",
    "A. array([[1., 1.],[1., 1.]])\n",
    "B. array([[0., 1.],[1., 1.]])\n",
    "C. array([[1., 0.],[1., 1.]])\n",
    "D. array([[1., 1.],[0., 1.]])\n"
   ]
  },
  {
   "cell_type": "code",
   "execution_count": 45,
   "id": "39298f3a",
   "metadata": {},
   "outputs": [],
   "source": [
    "A = np.array([1,3,5,7,9,11,13,15,17,19,21,23,25])\n",
    "B = np.array([0,2,4,6,8,10,12,14,16,18,20, 22, 24])"
   ]
  },
  {
   "cell_type": "code",
   "execution_count": 46,
   "id": "9f483a42",
   "metadata": {},
   "outputs": [
    {
     "data": {
      "text/plain": [
       "array([[1., 1.],\n",
       "       [1., 1.]])"
      ]
     },
     "execution_count": 46,
     "metadata": {},
     "output_type": "execute_result"
    }
   ],
   "source": [
    "np.corrcoef(A,B)               # ANSWER 18. A"
   ]
  },
  {
   "cell_type": "raw",
   "id": "2a8744ea",
   "metadata": {},
   "source": [
    "Q19. Create a nested numpy array from a given dictionary data.\n",
    "sample = {1: [1,2],\n",
    "2: [[1],[2]],\n",
    "3: [[1,2], [3,4], [4,5]],\n",
    "4: [1],\n",
    "5: [1,2,3,4,5]}\n",
    "A. array([[1, list([1, 2])], [2, list([[1], [2]])], [3, list([[1, 2], [3, 4], [4, 5]])], [4, list([1])], [5, list([1,\n",
    "2, 3, 4, 5])]], dtype=object)\n",
    "B. array([[1, list([1, 1])], [2, list([[1], [2]])], [3, list([[1, 2], [3, 4], [4, 5]])], [4, list([1])], [5, list([1,\n",
    "2, 3, 4, 5])]], dtype=object)\n",
    "C. array([[1, list([1, 2])], [2, list([[1], [2]])], [3, list([[1, 2], [1, 4], [4, 5]])], [4, list([1])], [5, list([1,\n",
    "2, 3, 4, 5])]], dtype=object)\n",
    "D. array([[1, list([1, 2])], [2, list([[1], [2]])], [3, list([[1, 2], [3, 4], [4, 5]])], [4, list([1])], [5, list([1,\n",
    "2, 3, 10, 5])]], dtype=object)\n"
   ]
  },
  {
   "cell_type": "code",
   "execution_count": 47,
   "id": "6cd3bd95",
   "metadata": {},
   "outputs": [],
   "source": [
    "sample = {1: [1,2],2: [[1],[2]],3: [[1,2], [3,4], [4,5]],4: [1],5: [1,2,3,4,5]}"
   ]
  },
  {
   "cell_type": "code",
   "execution_count": 48,
   "id": "d4681c5e",
   "metadata": {},
   "outputs": [
    {
     "data": {
      "text/plain": [
       "{1: [1, 2],\n",
       " 2: [[1], [2]],\n",
       " 3: [[1, 2], [3, 4], [4, 5]],\n",
       " 4: [1],\n",
       " 5: [1, 2, 3, 4, 5]}"
      ]
     },
     "execution_count": 48,
     "metadata": {},
     "output_type": "execute_result"
    }
   ],
   "source": [
    "sample"
   ]
  },
  {
   "cell_type": "code",
   "execution_count": 49,
   "id": "ff17c321",
   "metadata": {},
   "outputs": [
    {
     "data": {
      "text/plain": [
       "array([[1, list([1, 2])],\n",
       "       [2, list([[1], [2]])],\n",
       "       [3, list([[1, 2], [3, 4], [4, 5]])],\n",
       "       [4, list([1])],\n",
       "       [5, list([1, 2, 3, 4, 5])]], dtype=object)"
      ]
     },
     "execution_count": 49,
     "metadata": {},
     "output_type": "execute_result"
    }
   ],
   "source": [
    "np.array([[1, list([1, 2])], [2, list([[1], [2]])], [3, list([[1, 2], [3, 4], [4, 5]])], [4, list([1])], [5, list([1,\n",
    "2, 3, 4, 5])]], dtype=object)"
   ]
  },
  {
   "cell_type": "code",
   "execution_count": 50,
   "id": "0a7ee32c",
   "metadata": {},
   "outputs": [],
   "source": [
    "#answer 19. a"
   ]
  },
  {
   "cell_type": "raw",
   "id": "3e64f6e2",
   "metadata": {},
   "source": [
    "Q20. Create a 2-dimensional array with 3 rows and 3 columns containing random numbers\n",
    "from 1 to 9. Find the difference between the maximum element across the columns and the\n",
    "minimum element across the rows.\n",
    "A. [7 3 2]\n",
    "B. [7 1 2]\n",
    "C. [8 3 2]\n",
    "D. [7 3 1]"
   ]
  },
  {
   "cell_type": "code",
   "execution_count": 51,
   "id": "b780f346",
   "metadata": {},
   "outputs": [],
   "source": [
    "import random"
   ]
  },
  {
   "cell_type": "code",
   "execution_count": 52,
   "id": "cda01d23",
   "metadata": {},
   "outputs": [
    {
     "data": {
      "text/plain": [
       "array([[4, 8, 2],\n",
       "       [2, 8, 8],\n",
       "       [1, 3, 4]])"
      ]
     },
     "execution_count": 52,
     "metadata": {},
     "output_type": "execute_result"
    }
   ],
   "source": [
    "a=np.random.randint(1,10,(3,3))\n",
    "a"
   ]
  },
  {
   "cell_type": "code",
   "execution_count": 53,
   "id": "a698d350",
   "metadata": {},
   "outputs": [
    {
     "data": {
      "text/plain": [
       "array([4, 8, 8])"
      ]
     },
     "execution_count": 53,
     "metadata": {},
     "output_type": "execute_result"
    }
   ],
   "source": [
    "b=np.max(a,axis=0)\n",
    "b"
   ]
  },
  {
   "cell_type": "code",
   "execution_count": 54,
   "id": "3a6c84ef",
   "metadata": {},
   "outputs": [
    {
     "data": {
      "text/plain": [
       "array([2, 2, 1])"
      ]
     },
     "execution_count": 54,
     "metadata": {},
     "output_type": "execute_result"
    }
   ],
   "source": [
    "c=np.min(a,axis=1)\n",
    "c"
   ]
  },
  {
   "cell_type": "code",
   "execution_count": 55,
   "id": "ef66f92c",
   "metadata": {},
   "outputs": [
    {
     "data": {
      "text/plain": [
       "array([2, 6, 7])"
      ]
     },
     "execution_count": 55,
     "metadata": {},
     "output_type": "execute_result"
    }
   ],
   "source": [
    "np.subtract(b,c)"
   ]
  },
  {
   "cell_type": "raw",
   "id": "9838634f",
   "metadata": {},
   "source": [
    "#Ques-20th  in this i got answer as above but it is not matching at all"
   ]
  }
 ],
 "metadata": {
  "kernelspec": {
   "display_name": "Python 3 (ipykernel)",
   "language": "python",
   "name": "python3"
  },
  "language_info": {
   "codemirror_mode": {
    "name": "ipython",
    "version": 3
   },
   "file_extension": ".py",
   "mimetype": "text/x-python",
   "name": "python",
   "nbconvert_exporter": "python",
   "pygments_lexer": "ipython3",
   "version": "3.9.12"
  }
 },
 "nbformat": 4,
 "nbformat_minor": 5
}
