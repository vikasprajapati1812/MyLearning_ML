{
 "cells": [
  {
   "cell_type": "code",
   "execution_count": 1,
   "id": "96530bcc",
   "metadata": {},
   "outputs": [
    {
     "data": {
      "text/plain": [
       "'REgression-- today earn 30k profit\\ntommorow- earn 20k profit \\nthis is to find the predicted values based on the previous data.  that what could be the profit amount tommorrow'"
      ]
     },
     "execution_count": 1,
     "metadata": {},
     "output_type": "execute_result"
    }
   ],
   "source": [
    "#linear regression ---> the prediction of the continous data \n",
    "#we use it we want to predict the continuous data \n",
    "\"\"\"REgression-- today earn 30k profit\n",
    "tommorow- earn 20k profit \n",
    "this is to find the predicted values based on the previous data.  that what could be the profit amount tommorrow\"\"\""
   ]
  },
  {
   "cell_type": "code",
   "execution_count": 2,
   "id": "bc6f1a4b",
   "metadata": {},
   "outputs": [],
   "source": [
    "import pandas as pd\n",
    "import numpy as np\n",
    "import matplotlib.pyplot as plt"
   ]
  },
  {
   "cell_type": "code",
   "execution_count": 3,
   "id": "12275abf",
   "metadata": {},
   "outputs": [],
   "source": [
    "insurance =pd.read_csv(\"new_insurance_data.csv\")"
   ]
  },
  {
   "cell_type": "code",
   "execution_count": 4,
   "id": "a0291948",
   "metadata": {},
   "outputs": [
    {
     "data": {
      "text/html": [
       "<div>\n",
       "<style scoped>\n",
       "    .dataframe tbody tr th:only-of-type {\n",
       "        vertical-align: middle;\n",
       "    }\n",
       "\n",
       "    .dataframe tbody tr th {\n",
       "        vertical-align: top;\n",
       "    }\n",
       "\n",
       "    .dataframe thead th {\n",
       "        text-align: right;\n",
       "    }\n",
       "</style>\n",
       "<table border=\"1\" class=\"dataframe\">\n",
       "  <thead>\n",
       "    <tr style=\"text-align: right;\">\n",
       "      <th></th>\n",
       "      <th>age</th>\n",
       "      <th>sex</th>\n",
       "      <th>bmi</th>\n",
       "      <th>children</th>\n",
       "      <th>smoker</th>\n",
       "      <th>Claim_Amount</th>\n",
       "      <th>past_consultations</th>\n",
       "      <th>num_of_steps</th>\n",
       "      <th>Hospital_expenditure</th>\n",
       "      <th>NUmber_of_past_hospitalizations</th>\n",
       "      <th>Anual_Salary</th>\n",
       "      <th>region</th>\n",
       "      <th>charges</th>\n",
       "    </tr>\n",
       "  </thead>\n",
       "  <tbody>\n",
       "    <tr>\n",
       "      <th>0</th>\n",
       "      <td>18.0</td>\n",
       "      <td>male</td>\n",
       "      <td>23.21</td>\n",
       "      <td>0.0</td>\n",
       "      <td>no</td>\n",
       "      <td>29087.54313</td>\n",
       "      <td>17.0</td>\n",
       "      <td>715428.0</td>\n",
       "      <td>4720920.992</td>\n",
       "      <td>0.0</td>\n",
       "      <td>55784970.05</td>\n",
       "      <td>southeast</td>\n",
       "      <td>1121.8739</td>\n",
       "    </tr>\n",
       "    <tr>\n",
       "      <th>1</th>\n",
       "      <td>18.0</td>\n",
       "      <td>male</td>\n",
       "      <td>30.14</td>\n",
       "      <td>0.0</td>\n",
       "      <td>no</td>\n",
       "      <td>39053.67437</td>\n",
       "      <td>7.0</td>\n",
       "      <td>699157.0</td>\n",
       "      <td>4329831.676</td>\n",
       "      <td>0.0</td>\n",
       "      <td>13700885.19</td>\n",
       "      <td>southeast</td>\n",
       "      <td>1131.5066</td>\n",
       "    </tr>\n",
       "    <tr>\n",
       "      <th>2</th>\n",
       "      <td>18.0</td>\n",
       "      <td>male</td>\n",
       "      <td>33.33</td>\n",
       "      <td>0.0</td>\n",
       "      <td>no</td>\n",
       "      <td>39023.62759</td>\n",
       "      <td>19.0</td>\n",
       "      <td>702341.0</td>\n",
       "      <td>6884860.774</td>\n",
       "      <td>0.0</td>\n",
       "      <td>73523107.27</td>\n",
       "      <td>southeast</td>\n",
       "      <td>1135.9407</td>\n",
       "    </tr>\n",
       "    <tr>\n",
       "      <th>3</th>\n",
       "      <td>18.0</td>\n",
       "      <td>male</td>\n",
       "      <td>33.66</td>\n",
       "      <td>0.0</td>\n",
       "      <td>no</td>\n",
       "      <td>28185.39332</td>\n",
       "      <td>11.0</td>\n",
       "      <td>700250.0</td>\n",
       "      <td>4274773.550</td>\n",
       "      <td>0.0</td>\n",
       "      <td>75819679.60</td>\n",
       "      <td>southeast</td>\n",
       "      <td>1136.3994</td>\n",
       "    </tr>\n",
       "    <tr>\n",
       "      <th>4</th>\n",
       "      <td>18.0</td>\n",
       "      <td>male</td>\n",
       "      <td>34.10</td>\n",
       "      <td>0.0</td>\n",
       "      <td>no</td>\n",
       "      <td>14697.85941</td>\n",
       "      <td>16.0</td>\n",
       "      <td>711584.0</td>\n",
       "      <td>3787293.921</td>\n",
       "      <td>0.0</td>\n",
       "      <td>23012320.01</td>\n",
       "      <td>southeast</td>\n",
       "      <td>1137.0110</td>\n",
       "    </tr>\n",
       "  </tbody>\n",
       "</table>\n",
       "</div>"
      ],
      "text/plain": [
       "    age   sex    bmi  children smoker  Claim_Amount  past_consultations  \\\n",
       "0  18.0  male  23.21       0.0     no   29087.54313                17.0   \n",
       "1  18.0  male  30.14       0.0     no   39053.67437                 7.0   \n",
       "2  18.0  male  33.33       0.0     no   39023.62759                19.0   \n",
       "3  18.0  male  33.66       0.0     no   28185.39332                11.0   \n",
       "4  18.0  male  34.10       0.0     no   14697.85941                16.0   \n",
       "\n",
       "   num_of_steps  Hospital_expenditure  NUmber_of_past_hospitalizations  \\\n",
       "0      715428.0           4720920.992                              0.0   \n",
       "1      699157.0           4329831.676                              0.0   \n",
       "2      702341.0           6884860.774                              0.0   \n",
       "3      700250.0           4274773.550                              0.0   \n",
       "4      711584.0           3787293.921                              0.0   \n",
       "\n",
       "   Anual_Salary     region    charges  \n",
       "0   55784970.05  southeast  1121.8739  \n",
       "1   13700885.19  southeast  1131.5066  \n",
       "2   73523107.27  southeast  1135.9407  \n",
       "3   75819679.60  southeast  1136.3994  \n",
       "4   23012320.01  southeast  1137.0110  "
      ]
     },
     "execution_count": 4,
     "metadata": {},
     "output_type": "execute_result"
    }
   ],
   "source": [
    "insurance.head()"
   ]
  },
  {
   "cell_type": "code",
   "execution_count": 5,
   "id": "e32d238c",
   "metadata": {},
   "outputs": [
    {
     "data": {
      "text/html": [
       "<div>\n",
       "<style scoped>\n",
       "    .dataframe tbody tr th:only-of-type {\n",
       "        vertical-align: middle;\n",
       "    }\n",
       "\n",
       "    .dataframe tbody tr th {\n",
       "        vertical-align: top;\n",
       "    }\n",
       "\n",
       "    .dataframe thead th {\n",
       "        text-align: right;\n",
       "    }\n",
       "</style>\n",
       "<table border=\"1\" class=\"dataframe\">\n",
       "  <thead>\n",
       "    <tr style=\"text-align: right;\">\n",
       "      <th></th>\n",
       "      <th>age</th>\n",
       "      <th>sex</th>\n",
       "      <th>bmi</th>\n",
       "      <th>children</th>\n",
       "      <th>smoker</th>\n",
       "      <th>Claim_Amount</th>\n",
       "      <th>past_consultations</th>\n",
       "      <th>num_of_steps</th>\n",
       "      <th>Hospital_expenditure</th>\n",
       "      <th>NUmber_of_past_hospitalizations</th>\n",
       "      <th>Anual_Salary</th>\n",
       "      <th>region</th>\n",
       "      <th>charges</th>\n",
       "    </tr>\n",
       "  </thead>\n",
       "  <tbody>\n",
       "    <tr>\n",
       "      <th>0</th>\n",
       "      <td>18.0</td>\n",
       "      <td>male</td>\n",
       "      <td>23.210</td>\n",
       "      <td>0.0</td>\n",
       "      <td>no</td>\n",
       "      <td>29087.54313</td>\n",
       "      <td>17.0</td>\n",
       "      <td>715428.0</td>\n",
       "      <td>4.720921e+06</td>\n",
       "      <td>0.0</td>\n",
       "      <td>5.578497e+07</td>\n",
       "      <td>southeast</td>\n",
       "      <td>1121.87390</td>\n",
       "    </tr>\n",
       "    <tr>\n",
       "      <th>1</th>\n",
       "      <td>18.0</td>\n",
       "      <td>male</td>\n",
       "      <td>30.140</td>\n",
       "      <td>0.0</td>\n",
       "      <td>no</td>\n",
       "      <td>39053.67437</td>\n",
       "      <td>7.0</td>\n",
       "      <td>699157.0</td>\n",
       "      <td>4.329832e+06</td>\n",
       "      <td>0.0</td>\n",
       "      <td>1.370089e+07</td>\n",
       "      <td>southeast</td>\n",
       "      <td>1131.50660</td>\n",
       "    </tr>\n",
       "    <tr>\n",
       "      <th>2</th>\n",
       "      <td>18.0</td>\n",
       "      <td>male</td>\n",
       "      <td>33.330</td>\n",
       "      <td>0.0</td>\n",
       "      <td>no</td>\n",
       "      <td>39023.62759</td>\n",
       "      <td>19.0</td>\n",
       "      <td>702341.0</td>\n",
       "      <td>6.884861e+06</td>\n",
       "      <td>0.0</td>\n",
       "      <td>7.352311e+07</td>\n",
       "      <td>southeast</td>\n",
       "      <td>1135.94070</td>\n",
       "    </tr>\n",
       "    <tr>\n",
       "      <th>3</th>\n",
       "      <td>18.0</td>\n",
       "      <td>male</td>\n",
       "      <td>33.660</td>\n",
       "      <td>0.0</td>\n",
       "      <td>no</td>\n",
       "      <td>28185.39332</td>\n",
       "      <td>11.0</td>\n",
       "      <td>700250.0</td>\n",
       "      <td>4.274774e+06</td>\n",
       "      <td>0.0</td>\n",
       "      <td>7.581968e+07</td>\n",
       "      <td>southeast</td>\n",
       "      <td>1136.39940</td>\n",
       "    </tr>\n",
       "    <tr>\n",
       "      <th>4</th>\n",
       "      <td>18.0</td>\n",
       "      <td>male</td>\n",
       "      <td>34.100</td>\n",
       "      <td>0.0</td>\n",
       "      <td>no</td>\n",
       "      <td>14697.85941</td>\n",
       "      <td>16.0</td>\n",
       "      <td>711584.0</td>\n",
       "      <td>3.787294e+06</td>\n",
       "      <td>0.0</td>\n",
       "      <td>2.301232e+07</td>\n",
       "      <td>southeast</td>\n",
       "      <td>1137.01100</td>\n",
       "    </tr>\n",
       "    <tr>\n",
       "      <th>...</th>\n",
       "      <td>...</td>\n",
       "      <td>...</td>\n",
       "      <td>...</td>\n",
       "      <td>...</td>\n",
       "      <td>...</td>\n",
       "      <td>...</td>\n",
       "      <td>...</td>\n",
       "      <td>...</td>\n",
       "      <td>...</td>\n",
       "      <td>...</td>\n",
       "      <td>...</td>\n",
       "      <td>...</td>\n",
       "      <td>...</td>\n",
       "    </tr>\n",
       "    <tr>\n",
       "      <th>1333</th>\n",
       "      <td>33.0</td>\n",
       "      <td>female</td>\n",
       "      <td>35.530</td>\n",
       "      <td>0.0</td>\n",
       "      <td>yes</td>\n",
       "      <td>63142.25346</td>\n",
       "      <td>32.0</td>\n",
       "      <td>1091267.0</td>\n",
       "      <td>1.703805e+08</td>\n",
       "      <td>2.0</td>\n",
       "      <td>3.101107e+09</td>\n",
       "      <td>northwest</td>\n",
       "      <td>55135.40209</td>\n",
       "    </tr>\n",
       "    <tr>\n",
       "      <th>1334</th>\n",
       "      <td>31.0</td>\n",
       "      <td>female</td>\n",
       "      <td>38.095</td>\n",
       "      <td>1.0</td>\n",
       "      <td>yes</td>\n",
       "      <td>43419.95227</td>\n",
       "      <td>31.0</td>\n",
       "      <td>1107872.0</td>\n",
       "      <td>2.015152e+08</td>\n",
       "      <td>2.0</td>\n",
       "      <td>3.484216e+09</td>\n",
       "      <td>northeast</td>\n",
       "      <td>58571.07448</td>\n",
       "    </tr>\n",
       "    <tr>\n",
       "      <th>1335</th>\n",
       "      <td>52.0</td>\n",
       "      <td>male</td>\n",
       "      <td>34.485</td>\n",
       "      <td>3.0</td>\n",
       "      <td>yes</td>\n",
       "      <td>52458.92353</td>\n",
       "      <td>25.0</td>\n",
       "      <td>1092005.0</td>\n",
       "      <td>2.236450e+08</td>\n",
       "      <td>2.0</td>\n",
       "      <td>3.640807e+09</td>\n",
       "      <td>northwest</td>\n",
       "      <td>60021.39897</td>\n",
       "    </tr>\n",
       "    <tr>\n",
       "      <th>1336</th>\n",
       "      <td>45.0</td>\n",
       "      <td>male</td>\n",
       "      <td>30.360</td>\n",
       "      <td>0.0</td>\n",
       "      <td>yes</td>\n",
       "      <td>69927.51664</td>\n",
       "      <td>34.0</td>\n",
       "      <td>1106821.0</td>\n",
       "      <td>2.528924e+08</td>\n",
       "      <td>3.0</td>\n",
       "      <td>4.006359e+09</td>\n",
       "      <td>southeast</td>\n",
       "      <td>62592.87309</td>\n",
       "    </tr>\n",
       "    <tr>\n",
       "      <th>1337</th>\n",
       "      <td>54.0</td>\n",
       "      <td>female</td>\n",
       "      <td>47.410</td>\n",
       "      <td>0.0</td>\n",
       "      <td>yes</td>\n",
       "      <td>63982.80926</td>\n",
       "      <td>31.0</td>\n",
       "      <td>1100328.0</td>\n",
       "      <td>2.616317e+08</td>\n",
       "      <td>3.0</td>\n",
       "      <td>4.117197e+09</td>\n",
       "      <td>southeast</td>\n",
       "      <td>63770.42801</td>\n",
       "    </tr>\n",
       "  </tbody>\n",
       "</table>\n",
       "<p>1338 rows × 13 columns</p>\n",
       "</div>"
      ],
      "text/plain": [
       "       age     sex     bmi  children smoker  Claim_Amount  past_consultations  \\\n",
       "0     18.0    male  23.210       0.0     no   29087.54313                17.0   \n",
       "1     18.0    male  30.140       0.0     no   39053.67437                 7.0   \n",
       "2     18.0    male  33.330       0.0     no   39023.62759                19.0   \n",
       "3     18.0    male  33.660       0.0     no   28185.39332                11.0   \n",
       "4     18.0    male  34.100       0.0     no   14697.85941                16.0   \n",
       "...    ...     ...     ...       ...    ...           ...                 ...   \n",
       "1333  33.0  female  35.530       0.0    yes   63142.25346                32.0   \n",
       "1334  31.0  female  38.095       1.0    yes   43419.95227                31.0   \n",
       "1335  52.0    male  34.485       3.0    yes   52458.92353                25.0   \n",
       "1336  45.0    male  30.360       0.0    yes   69927.51664                34.0   \n",
       "1337  54.0  female  47.410       0.0    yes   63982.80926                31.0   \n",
       "\n",
       "      num_of_steps  Hospital_expenditure  NUmber_of_past_hospitalizations  \\\n",
       "0         715428.0          4.720921e+06                              0.0   \n",
       "1         699157.0          4.329832e+06                              0.0   \n",
       "2         702341.0          6.884861e+06                              0.0   \n",
       "3         700250.0          4.274774e+06                              0.0   \n",
       "4         711584.0          3.787294e+06                              0.0   \n",
       "...            ...                   ...                              ...   \n",
       "1333     1091267.0          1.703805e+08                              2.0   \n",
       "1334     1107872.0          2.015152e+08                              2.0   \n",
       "1335     1092005.0          2.236450e+08                              2.0   \n",
       "1336     1106821.0          2.528924e+08                              3.0   \n",
       "1337     1100328.0          2.616317e+08                              3.0   \n",
       "\n",
       "      Anual_Salary     region      charges  \n",
       "0     5.578497e+07  southeast   1121.87390  \n",
       "1     1.370089e+07  southeast   1131.50660  \n",
       "2     7.352311e+07  southeast   1135.94070  \n",
       "3     7.581968e+07  southeast   1136.39940  \n",
       "4     2.301232e+07  southeast   1137.01100  \n",
       "...            ...        ...          ...  \n",
       "1333  3.101107e+09  northwest  55135.40209  \n",
       "1334  3.484216e+09  northeast  58571.07448  \n",
       "1335  3.640807e+09  northwest  60021.39897  \n",
       "1336  4.006359e+09  southeast  62592.87309  \n",
       "1337  4.117197e+09  southeast  63770.42801  \n",
       "\n",
       "[1338 rows x 13 columns]"
      ]
     },
     "execution_count": 5,
     "metadata": {},
     "output_type": "execute_result"
    }
   ],
   "source": [
    "insurance"
   ]
  },
  {
   "cell_type": "code",
   "execution_count": null,
   "id": "b5b0df13",
   "metadata": {},
   "outputs": [],
   "source": [
    "#first have to perform the EDA --> exploaratory data Analysis\n",
    "# EDA--  data should be in proper form    empty values or nullvalues and some dont have proper value \n",
    "#so we have to clean the data and then analyse and visualise \n",
    "#so that we can confirm which are the independent variable we can use  or we can take the all columns as independent variable"
   ]
  },
  {
   "cell_type": "code",
   "execution_count": 6,
   "id": "16bee962",
   "metadata": {},
   "outputs": [
    {
     "data": {
      "text/plain": [
       "age                                 9\n",
       "sex                                 0\n",
       "bmi                                 3\n",
       "children                            5\n",
       "smoker                              0\n",
       "Claim_Amount                       14\n",
       "past_consultations                  6\n",
       "num_of_steps                        3\n",
       "Hospital_expenditure                4\n",
       "NUmber_of_past_hospitalizations     2\n",
       "Anual_Salary                        6\n",
       "region                              0\n",
       "charges                             0\n",
       "dtype: int64"
      ]
     },
     "execution_count": 6,
     "metadata": {},
     "output_type": "execute_result"
    }
   ],
   "source": [
    "insurance.isnull().sum()"
   ]
  },
  {
   "cell_type": "code",
   "execution_count": 8,
   "id": "94d06aa5",
   "metadata": {},
   "outputs": [
    {
     "data": {
      "text/plain": [
       "52"
      ]
     },
     "execution_count": 8,
     "metadata": {},
     "output_type": "execute_result"
    }
   ],
   "source": [
    "#if some one call how many null values as a total then use below code\n",
    "insurance.isnull().sum().sum()"
   ]
  },
  {
   "cell_type": "code",
   "execution_count": 9,
   "id": "7b4eb04a",
   "metadata": {},
   "outputs": [
    {
     "data": {
      "text/plain": [
       "age                                float64\n",
       "sex                                 object\n",
       "bmi                                float64\n",
       "children                           float64\n",
       "smoker                              object\n",
       "Claim_Amount                       float64\n",
       "past_consultations                 float64\n",
       "num_of_steps                       float64\n",
       "Hospital_expenditure               float64\n",
       "NUmber_of_past_hospitalizations    float64\n",
       "Anual_Salary                       float64\n",
       "region                              object\n",
       "charges                            float64\n",
       "dtype: object"
      ]
     },
     "execution_count": 9,
     "metadata": {},
     "output_type": "execute_result"
    }
   ],
   "source": [
    "#since there are null values then we have to deal with it   or else we can clean that \n",
    "insurance.dtypes"
   ]
  },
  {
   "cell_type": "code",
   "execution_count": 10,
   "id": "ba6ee740",
   "metadata": {},
   "outputs": [],
   "source": [
    "#Removal of the Outliers\n",
    "#integer/Flaot ---> Replace the null values with the mean/median      this would eb doen for the missing values\n",
    "# Object---> replace it with the Mode"
   ]
  },
  {
   "cell_type": "code",
   "execution_count": 11,
   "id": "e316c038",
   "metadata": {},
   "outputs": [],
   "source": [
    "insurance[\"age\"]=insurance[\"age\"].fillna(insurance[\"age\"].mean())"
   ]
  },
  {
   "cell_type": "code",
   "execution_count": 12,
   "id": "804024c6",
   "metadata": {},
   "outputs": [
    {
     "data": {
      "text/plain": [
       "0"
      ]
     },
     "execution_count": 12,
     "metadata": {},
     "output_type": "execute_result"
    }
   ],
   "source": [
    "insurance[\"age\"].isnull().sum()"
   ]
  },
  {
   "cell_type": "code",
   "execution_count": 13,
   "id": "301f555b",
   "metadata": {},
   "outputs": [
    {
     "data": {
      "text/plain": [
       "age                                 0\n",
       "sex                                 0\n",
       "bmi                                 3\n",
       "children                            5\n",
       "smoker                              0\n",
       "Claim_Amount                       14\n",
       "past_consultations                  6\n",
       "num_of_steps                        3\n",
       "Hospital_expenditure                4\n",
       "NUmber_of_past_hospitalizations     2\n",
       "Anual_Salary                        6\n",
       "region                              0\n",
       "charges                             0\n",
       "dtype: int64"
      ]
     },
     "execution_count": 13,
     "metadata": {},
     "output_type": "execute_result"
    }
   ],
   "source": [
    "insurance.isnull().sum()"
   ]
  },
  {
   "cell_type": "code",
   "execution_count": 14,
   "id": "11509a73",
   "metadata": {},
   "outputs": [
    {
     "data": {
      "text/plain": [
       "Index(['age', 'sex', 'bmi', 'children', 'smoker', 'Claim_Amount',\n",
       "       'past_consultations', 'num_of_steps', 'Hospital_expenditure',\n",
       "       'NUmber_of_past_hospitalizations', 'Anual_Salary', 'region', 'charges'],\n",
       "      dtype='object')"
      ]
     },
     "execution_count": 14,
     "metadata": {},
     "output_type": "execute_result"
    }
   ],
   "source": [
    "col_names=insurance.columns\n",
    "col_names"
   ]
  },
  {
   "cell_type": "code",
   "execution_count": 15,
   "id": "cc3f6b97",
   "metadata": {},
   "outputs": [],
   "source": [
    "for col in col_names:\n",
    "    if insurance[col].dtype==\"object\":\n",
    "        insurance[col]=insurance[col].fillna(insurance[col].mode())\n",
    "    else:\n",
    "        insurance[col]=insurance[col].fillna(insurance[col].mean())\n",
    "        "
   ]
  },
  {
   "cell_type": "code",
   "execution_count": 16,
   "id": "75a63b41",
   "metadata": {},
   "outputs": [
    {
     "data": {
      "text/plain": [
       "age                                0\n",
       "sex                                0\n",
       "bmi                                0\n",
       "children                           0\n",
       "smoker                             0\n",
       "Claim_Amount                       0\n",
       "past_consultations                 0\n",
       "num_of_steps                       0\n",
       "Hospital_expenditure               0\n",
       "NUmber_of_past_hospitalizations    0\n",
       "Anual_Salary                       0\n",
       "region                             0\n",
       "charges                            0\n",
       "dtype: int64"
      ]
     },
     "execution_count": 16,
     "metadata": {},
     "output_type": "execute_result"
    }
   ],
   "source": [
    "insurance.isnull().sum()"
   ]
  },
  {
   "cell_type": "code",
   "execution_count": null,
   "id": "a05b4897",
   "metadata": {},
   "outputs": [],
   "source": [
    "#Visualising the data \n",
    "#finding the Outliers \n",
    "#whenever we are finding the data outliers we can do boxplot."
   ]
  },
  {
   "cell_type": "code",
   "execution_count": 17,
   "id": "30f23c5b",
   "metadata": {},
   "outputs": [
    {
     "data": {
      "image/png": "[encoded data removed]",
      "text/plain": [
       "<Figure size 432x288 with 1 Axes>"
      ]
     },
     "metadata": {
      "needs_background": "light"
     },
     "output_type": "display_data"
    },
    {
     "ename": "TypeError",
     "evalue": "ufunc 'true_divide' not supported for the input types, and the inputs could not be safely coerced to any supported types according to the casting rule ''safe''",
     "output_type": "error",
     "traceback": [
      "\u001b[1;31m---------------------------------------------------------------------------\u001b[0m",
      "\u001b[1;31mTypeError\u001b[0m                                 Traceback (most recent call last)",
      "Input \u001b[1;32mIn [17]\u001b[0m, in \u001b[0;36m<cell line: 1>\u001b[1;34m()\u001b[0m\n\u001b[0;32m      1\u001b[0m \u001b[38;5;28;01mfor\u001b[39;00m col \u001b[38;5;129;01min\u001b[39;00m col_names:\n\u001b[1;32m----> 2\u001b[0m     \u001b[43mplt\u001b[49m\u001b[38;5;241;43m.\u001b[39;49m\u001b[43mboxplot\u001b[49m\u001b[43m(\u001b[49m\u001b[43minsurance\u001b[49m\u001b[43m[\u001b[49m\u001b[43mcol\u001b[49m\u001b[43m]\u001b[49m\u001b[43m)\u001b[49m\n\u001b[0;32m      3\u001b[0m     plt\u001b[38;5;241m.\u001b[39mxlabel(col)\n\u001b[0;32m      4\u001b[0m     plt\u001b[38;5;241m.\u001b[39mylabel(\u001b[38;5;124m\"\u001b[39m\u001b[38;5;124mCount\u001b[39m\u001b[38;5;124m\"\u001b[39m)\n",
      "File \u001b[1;32mC:\\ProgramData\\Anaconda3\\lib\\site-packages\\matplotlib\\pyplot.py:2428\u001b[0m, in \u001b[0;36mboxplot\u001b[1;34m(x, notch, sym, vert, whis, positions, widths, patch_artist, bootstrap, usermedians, conf_intervals, meanline, showmeans, showcaps, showbox, showfliers, boxprops, labels, flierprops, medianprops, meanprops, capprops, whiskerprops, manage_ticks, autorange, zorder, data)\u001b[0m\n\u001b[0;32m   2418\u001b[0m \u001b[38;5;129m@_copy_docstring_and_deprecators\u001b[39m(Axes\u001b[38;5;241m.\u001b[39mboxplot)\n\u001b[0;32m   2419\u001b[0m \u001b[38;5;28;01mdef\u001b[39;00m \u001b[38;5;21mboxplot\u001b[39m(\n\u001b[0;32m   2420\u001b[0m         x, notch\u001b[38;5;241m=\u001b[39m\u001b[38;5;28;01mNone\u001b[39;00m, sym\u001b[38;5;241m=\u001b[39m\u001b[38;5;28;01mNone\u001b[39;00m, vert\u001b[38;5;241m=\u001b[39m\u001b[38;5;28;01mNone\u001b[39;00m, whis\u001b[38;5;241m=\u001b[39m\u001b[38;5;28;01mNone\u001b[39;00m,\n\u001b[1;32m   (...)\u001b[0m\n\u001b[0;32m   2426\u001b[0m         whiskerprops\u001b[38;5;241m=\u001b[39m\u001b[38;5;28;01mNone\u001b[39;00m, manage_ticks\u001b[38;5;241m=\u001b[39m\u001b[38;5;28;01mTrue\u001b[39;00m, autorange\u001b[38;5;241m=\u001b[39m\u001b[38;5;28;01mFalse\u001b[39;00m,\n\u001b[0;32m   2427\u001b[0m         zorder\u001b[38;5;241m=\u001b[39m\u001b[38;5;28;01mNone\u001b[39;00m, \u001b[38;5;241m*\u001b[39m, data\u001b[38;5;241m=\u001b[39m\u001b[38;5;28;01mNone\u001b[39;00m):\n\u001b[1;32m-> 2428\u001b[0m     \u001b[38;5;28;01mreturn\u001b[39;00m gca()\u001b[38;5;241m.\u001b[39mboxplot(\n\u001b[0;32m   2429\u001b[0m         x, notch\u001b[38;5;241m=\u001b[39mnotch, sym\u001b[38;5;241m=\u001b[39msym, vert\u001b[38;5;241m=\u001b[39mvert, whis\u001b[38;5;241m=\u001b[39mwhis,\n\u001b[0;32m   2430\u001b[0m         positions\u001b[38;5;241m=\u001b[39mpositions, widths\u001b[38;5;241m=\u001b[39mwidths, patch_artist\u001b[38;5;241m=\u001b[39mpatch_artist,\n\u001b[0;32m   2431\u001b[0m         bootstrap\u001b[38;5;241m=\u001b[39mbootstrap, usermedians\u001b[38;5;241m=\u001b[39musermedians,\n\u001b[0;32m   2432\u001b[0m         conf_intervals\u001b[38;5;241m=\u001b[39mconf_intervals, meanline\u001b[38;5;241m=\u001b[39mmeanline,\n\u001b[0;32m   2433\u001b[0m         showmeans\u001b[38;5;241m=\u001b[39mshowmeans, showcaps\u001b[38;5;241m=\u001b[39mshowcaps, showbox\u001b[38;5;241m=\u001b[39mshowbox,\n\u001b[0;32m   2434\u001b[0m         showfliers\u001b[38;5;241m=\u001b[39mshowfliers, boxprops\u001b[38;5;241m=\u001b[39mboxprops, labels\u001b[38;5;241m=\u001b[39mlabels,\n\u001b[0;32m   2435\u001b[0m         flierprops\u001b[38;5;241m=\u001b[39mflierprops, medianprops\u001b[38;5;241m=\u001b[39mmedianprops,\n\u001b[0;32m   2436\u001b[0m         meanprops\u001b[38;5;241m=\u001b[39mmeanprops, capprops\u001b[38;5;241m=\u001b[39mcapprops,\n\u001b[0;32m   2437\u001b[0m         whiskerprops\u001b[38;5;241m=\u001b[39mwhiskerprops, manage_ticks\u001b[38;5;241m=\u001b[39mmanage_ticks,\n\u001b[0;32m   2438\u001b[0m         autorange\u001b[38;5;241m=\u001b[39mautorange, zorder\u001b[38;5;241m=\u001b[39mzorder,\n\u001b[0;32m   2439\u001b[0m         \u001b[38;5;241m*\u001b[39m\u001b[38;5;241m*\u001b[39m({\u001b[38;5;124m\"\u001b[39m\u001b[38;5;124mdata\u001b[39m\u001b[38;5;124m\"\u001b[39m: data} \u001b[38;5;28;01mif\u001b[39;00m data \u001b[38;5;129;01mis\u001b[39;00m \u001b[38;5;129;01mnot\u001b[39;00m \u001b[38;5;28;01mNone\u001b[39;00m \u001b[38;5;28;01melse\u001b[39;00m {}))\n",
      "File \u001b[1;32mC:\\ProgramData\\Anaconda3\\lib\\site-packages\\matplotlib\\__init__.py:1412\u001b[0m, in \u001b[0;36m_preprocess_data.<locals>.inner\u001b[1;34m(ax, data, *args, **kwargs)\u001b[0m\n\u001b[0;32m   1409\u001b[0m \u001b[38;5;129m@functools\u001b[39m\u001b[38;5;241m.\u001b[39mwraps(func)\n\u001b[0;32m   1410\u001b[0m \u001b[38;5;28;01mdef\u001b[39;00m \u001b[38;5;21minner\u001b[39m(ax, \u001b[38;5;241m*\u001b[39margs, data\u001b[38;5;241m=\u001b[39m\u001b[38;5;28;01mNone\u001b[39;00m, \u001b[38;5;241m*\u001b[39m\u001b[38;5;241m*\u001b[39mkwargs):\n\u001b[0;32m   1411\u001b[0m     \u001b[38;5;28;01mif\u001b[39;00m data \u001b[38;5;129;01mis\u001b[39;00m \u001b[38;5;28;01mNone\u001b[39;00m:\n\u001b[1;32m-> 1412\u001b[0m         \u001b[38;5;28;01mreturn\u001b[39;00m func(ax, \u001b[38;5;241m*\u001b[39m\u001b[38;5;28mmap\u001b[39m(sanitize_sequence, args), \u001b[38;5;241m*\u001b[39m\u001b[38;5;241m*\u001b[39mkwargs)\n\u001b[0;32m   1414\u001b[0m     bound \u001b[38;5;241m=\u001b[39m new_sig\u001b[38;5;241m.\u001b[39mbind(ax, \u001b[38;5;241m*\u001b[39margs, \u001b[38;5;241m*\u001b[39m\u001b[38;5;241m*\u001b[39mkwargs)\n\u001b[0;32m   1415\u001b[0m     auto_label \u001b[38;5;241m=\u001b[39m (bound\u001b[38;5;241m.\u001b[39marguments\u001b[38;5;241m.\u001b[39mget(label_namer)\n\u001b[0;32m   1416\u001b[0m                   \u001b[38;5;129;01mor\u001b[39;00m bound\u001b[38;5;241m.\u001b[39mkwargs\u001b[38;5;241m.\u001b[39mget(label_namer))\n",
      "File \u001b[1;32mC:\\ProgramData\\Anaconda3\\lib\\site-packages\\matplotlib\\axes\\_axes.py:3711\u001b[0m, in \u001b[0;36mAxes.boxplot\u001b[1;34m(self, x, notch, sym, vert, whis, positions, widths, patch_artist, bootstrap, usermedians, conf_intervals, meanline, showmeans, showcaps, showbox, showfliers, boxprops, labels, flierprops, medianprops, meanprops, capprops, whiskerprops, manage_ticks, autorange, zorder)\u001b[0m\n\u001b[0;32m   3708\u001b[0m \u001b[38;5;28;01mif\u001b[39;00m bootstrap \u001b[38;5;129;01mis\u001b[39;00m \u001b[38;5;28;01mNone\u001b[39;00m:\n\u001b[0;32m   3709\u001b[0m     bootstrap \u001b[38;5;241m=\u001b[39m rcParams[\u001b[38;5;124m'\u001b[39m\u001b[38;5;124mboxplot.bootstrap\u001b[39m\u001b[38;5;124m'\u001b[39m]\n\u001b[1;32m-> 3711\u001b[0m bxpstats \u001b[38;5;241m=\u001b[39m \u001b[43mcbook\u001b[49m\u001b[38;5;241;43m.\u001b[39;49m\u001b[43mboxplot_stats\u001b[49m\u001b[43m(\u001b[49m\u001b[43mx\u001b[49m\u001b[43m,\u001b[49m\u001b[43m \u001b[49m\u001b[43mwhis\u001b[49m\u001b[38;5;241;43m=\u001b[39;49m\u001b[43mwhis\u001b[49m\u001b[43m,\u001b[49m\u001b[43m \u001b[49m\u001b[43mbootstrap\u001b[49m\u001b[38;5;241;43m=\u001b[39;49m\u001b[43mbootstrap\u001b[49m\u001b[43m,\u001b[49m\n\u001b[0;32m   3712\u001b[0m \u001b[43m                               \u001b[49m\u001b[43mlabels\u001b[49m\u001b[38;5;241;43m=\u001b[39;49m\u001b[43mlabels\u001b[49m\u001b[43m,\u001b[49m\u001b[43m \u001b[49m\u001b[43mautorange\u001b[49m\u001b[38;5;241;43m=\u001b[39;49m\u001b[43mautorange\u001b[49m\u001b[43m)\u001b[49m\n\u001b[0;32m   3713\u001b[0m \u001b[38;5;28;01mif\u001b[39;00m notch \u001b[38;5;129;01mis\u001b[39;00m \u001b[38;5;28;01mNone\u001b[39;00m:\n\u001b[0;32m   3714\u001b[0m     notch \u001b[38;5;241m=\u001b[39m rcParams[\u001b[38;5;124m'\u001b[39m\u001b[38;5;124mboxplot.notch\u001b[39m\u001b[38;5;124m'\u001b[39m]\n",
      "File \u001b[1;32mC:\\ProgramData\\Anaconda3\\lib\\site-packages\\matplotlib\\cbook\\__init__.py:1195\u001b[0m, in \u001b[0;36mboxplot_stats\u001b[1;34m(X, whis, bootstrap, labels, autorange)\u001b[0m\n\u001b[0;32m   1192\u001b[0m x \u001b[38;5;241m=\u001b[39m np\u001b[38;5;241m.\u001b[39masarray(x)\n\u001b[0;32m   1194\u001b[0m \u001b[38;5;66;03m# arithmetic mean\u001b[39;00m\n\u001b[1;32m-> 1195\u001b[0m stats[\u001b[38;5;124m'\u001b[39m\u001b[38;5;124mmean\u001b[39m\u001b[38;5;124m'\u001b[39m] \u001b[38;5;241m=\u001b[39m \u001b[43mnp\u001b[49m\u001b[38;5;241;43m.\u001b[39;49m\u001b[43mmean\u001b[49m\u001b[43m(\u001b[49m\u001b[43mx\u001b[49m\u001b[43m)\u001b[49m\n\u001b[0;32m   1197\u001b[0m \u001b[38;5;66;03m# medians and quartiles\u001b[39;00m\n\u001b[0;32m   1198\u001b[0m q1, med, q3 \u001b[38;5;241m=\u001b[39m np\u001b[38;5;241m.\u001b[39mpercentile(x, [\u001b[38;5;241m25\u001b[39m, \u001b[38;5;241m50\u001b[39m, \u001b[38;5;241m75\u001b[39m])\n",
      "File \u001b[1;32m<__array_function__ internals>:5\u001b[0m, in \u001b[0;36mmean\u001b[1;34m(*args, **kwargs)\u001b[0m\n",
      "File \u001b[1;32mC:\\ProgramData\\Anaconda3\\lib\\site-packages\\numpy\\core\\fromnumeric.py:3440\u001b[0m, in \u001b[0;36mmean\u001b[1;34m(a, axis, dtype, out, keepdims, where)\u001b[0m\n\u001b[0;32m   3437\u001b[0m     \u001b[38;5;28;01melse\u001b[39;00m:\n\u001b[0;32m   3438\u001b[0m         \u001b[38;5;28;01mreturn\u001b[39;00m mean(axis\u001b[38;5;241m=\u001b[39maxis, dtype\u001b[38;5;241m=\u001b[39mdtype, out\u001b[38;5;241m=\u001b[39mout, \u001b[38;5;241m*\u001b[39m\u001b[38;5;241m*\u001b[39mkwargs)\n\u001b[1;32m-> 3440\u001b[0m \u001b[38;5;28;01mreturn\u001b[39;00m _methods\u001b[38;5;241m.\u001b[39m_mean(a, axis\u001b[38;5;241m=\u001b[39maxis, dtype\u001b[38;5;241m=\u001b[39mdtype,\n\u001b[0;32m   3441\u001b[0m                       out\u001b[38;5;241m=\u001b[39mout, \u001b[38;5;241m*\u001b[39m\u001b[38;5;241m*\u001b[39mkwargs)\n",
      "File \u001b[1;32mC:\\ProgramData\\Anaconda3\\lib\\site-packages\\numpy\\core\\_methods.py:191\u001b[0m, in \u001b[0;36m_mean\u001b[1;34m(a, axis, dtype, out, keepdims, where)\u001b[0m\n\u001b[0;32m    189\u001b[0m         ret \u001b[38;5;241m=\u001b[39m ret\u001b[38;5;241m.\u001b[39mdtype\u001b[38;5;241m.\u001b[39mtype(ret \u001b[38;5;241m/\u001b[39m rcount)\n\u001b[0;32m    190\u001b[0m \u001b[38;5;28;01melse\u001b[39;00m:\n\u001b[1;32m--> 191\u001b[0m     ret \u001b[38;5;241m=\u001b[39m \u001b[43mret\u001b[49m\u001b[43m \u001b[49m\u001b[38;5;241;43m/\u001b[39;49m\u001b[43m \u001b[49m\u001b[43mrcount\u001b[49m\n\u001b[0;32m    193\u001b[0m \u001b[38;5;28;01mreturn\u001b[39;00m ret\n",
      "\u001b[1;31mTypeError\u001b[0m: ufunc 'true_divide' not supported for the input types, and the inputs could not be safely coerced to any supported types according to the casting rule ''safe''"
     ]
    },
    {
     "data": {
      "image/png": "[encoded data removed]",
      "text/plain": [
       "<Figure size 432x288 with 1 Axes>"
      ]
     },
     "metadata": {
      "needs_background": "light"
     },
     "output_type": "display_data"
    }
   ],
   "source": [
    "for col in col_names:\n",
    "    plt.boxplot(insurance[col])\n",
    "    plt.xlabel(col)\n",
    "    plt.ylabel(\"Count\")\n",
    "    plt.show()"
   ]
  },
  {
   "cell_type": "code",
   "execution_count": 19,
   "id": "2ecc3a1e",
   "metadata": {},
   "outputs": [
    {
     "data": {
      "image/png": "[encoded data removed]",
      "text/plain": [
       "<Figure size 432x288 with 1 Axes>"
      ]
     },
     "metadata": {
      "needs_background": "light"
     },
     "output_type": "display_data"
    },
    {
     "data": {
      "image/png": "[encoded data removed]",
      "text/plain": [
       "<Figure size 432x288 with 1 Axes>"
      ]
     },
     "metadata": {
      "needs_background": "light"
     },
     "output_type": "display_data"
    },
    {
     "data": {
      "image/png": "[encoded data removed]",
      "text/plain": [
       "<Figure size 432x288 with 1 Axes>"
      ]
     },
     "metadata": {
      "needs_background": "light"
     },
     "output_type": "display_data"
    },
    {
     "data": {
      "image/png": "[encoded data removed]",
      "text/plain": [
       "<Figure size 432x288 with 1 Axes>"
      ]
     },
     "metadata": {
      "needs_background": "light"
     },
     "output_type": "display_data"
    },
    {
     "data": {
      "image/png": "[encoded data removed]",
      "text/plain": [
       "<Figure size 432x288 with 1 Axes>"
      ]
     },
     "metadata": {
      "needs_background": "light"
     },
     "output_type": "display_data"
    },
    {
     "data": {
      "image/png": "[encoded data removed]",
      "text/plain": [
       "<Figure size 432x288 with 1 Axes>"
      ]
     },
     "metadata": {
      "needs_background": "light"
     },
     "output_type": "display_data"
    },
    {
     "data": {
      "image/png": "[encoded data removed]",
      "text/plain": [
       "<Figure size 432x288 with 1 Axes>"
      ]
     },
     "metadata": {
      "needs_background": "light"
     },
     "output_type": "display_data"
    },
    {
     "data": {
      "image/png": "[encoded data removed]",
      "text/plain": [
       "<Figure size 432x288 with 1 Axes>"
      ]
     },
     "metadata": {
      "needs_background": "light"
     },
     "output_type": "display_data"
    },
    {
     "data": {
      "image/png": "[encoded data removed]",
      "text/plain": [
       "<Figure size 432x288 with 1 Axes>"
      ]
     },
     "metadata": {
      "needs_background": "light"
     },
     "output_type": "display_data"
    },
    {
     "data": {
      "image/png": "[encoded data removed]",
      "text/plain": [
       "<Figure size 432x288 with 1 Axes>"
      ]
     },
     "metadata": {
      "needs_background": "light"
     },
     "output_type": "display_data"
    }
   ],
   "source": [
    "#since there arae columns of object so we cant able to plot the object type\n",
    "for col in col_names:\n",
    "    if insurance[col].dtype==\"float64\" or insurance[col].dtype==\"int64\":\n",
    "        plt.boxplot(insurance[col])\n",
    "        plt.xlabel(col)\n",
    "        plt.ylabel(\"Count\")\n",
    "        plt.show()"
   ]
  },
  {
   "cell_type": "code",
   "execution_count": null,
   "id": "7cf96c9c",
   "metadata": {},
   "outputs": [],
   "source": [
    "#outliers make the data biased     since we got the unexpected outputs"
   ]
  },
  {
   "cell_type": "code",
   "execution_count": null,
   "id": "78c4ae08",
   "metadata": {},
   "outputs": [],
   "source": [
    "# so we are going to remove the Outliers\n",
    "#there is a thing we call it IQR--- inter Quartile Range"
   ]
  },
  {
   "cell_type": "code",
   "execution_count": 20,
   "id": "cf34c51f",
   "metadata": {},
   "outputs": [],
   "source": [
    "Q1=insurance[\"bmi\"].quantile(0.25)\n",
    "Q3=insurance[\"bmi\"].quantile(0.75)\n",
    "IQR=Q3-Q1\n",
    "lower_limit=Q1-1.5*IQR\n",
    "upper_limit=Q3+1.5*IQR"
   ]
  },
  {
   "cell_type": "code",
   "execution_count": 21,
   "id": "ef163aa9",
   "metadata": {},
   "outputs": [],
   "source": [
    "insurance=insurance[(insurance[\"bmi\"]>=lower_limit)& (insurance[\"bmi\"]<=upper_limit)]"
   ]
  },
  {
   "cell_type": "code",
   "execution_count": 22,
   "id": "75abf0dc",
   "metadata": {},
   "outputs": [
    {
     "data": {
      "image/png": "[encoded data removed]",
      "text/plain": [
       "<Figure size 432x288 with 1 Axes>"
      ]
     },
     "metadata": {
      "needs_background": "light"
     },
     "output_type": "display_data"
    }
   ],
   "source": [
    "plt.boxplot(insurance[\"bmi\"])\n",
    "plt.xlabel(\"bmi\")\n",
    "plt.ylabel(\"Count\")\n",
    "plt.show()"
   ]
  },
  {
   "cell_type": "code",
   "execution_count": 23,
   "id": "7b2eaa58",
   "metadata": {},
   "outputs": [
    {
     "data": {
      "text/plain": [
       "26.315"
      ]
     },
     "execution_count": 23,
     "metadata": {},
     "output_type": "execute_result"
    }
   ],
   "source": [
    "Q1"
   ]
  },
  {
   "cell_type": "code",
   "execution_count": 24,
   "id": "b885aa64",
   "metadata": {},
   "outputs": [
    {
     "data": {
      "text/plain": [
       "34.65625"
      ]
     },
     "execution_count": 24,
     "metadata": {},
     "output_type": "execute_result"
    }
   ],
   "source": [
    "Q3"
   ]
  },
  {
   "cell_type": "code",
   "execution_count": 25,
   "id": "b0adb7a4",
   "metadata": {},
   "outputs": [],
   "source": [
    "Q1=insurance[\"bmi\"].quantile(0.25)\n",
    "Q3=insurance[\"bmi\"].quantile(0.75)\n",
    "IQR=Q3-Q1\n",
    "lower_limit=Q1-1.5*IQR\n",
    "upper_limit=Q3+1.5*IQR"
   ]
  },
  {
   "cell_type": "code",
   "execution_count": 26,
   "id": "1f7df36f",
   "metadata": {},
   "outputs": [
    {
     "data": {
      "text/plain": [
       "26.22"
      ]
     },
     "execution_count": 26,
     "metadata": {},
     "output_type": "execute_result"
    }
   ],
   "source": [
    "Q1"
   ]
  },
  {
   "cell_type": "code",
   "execution_count": 27,
   "id": "82d4aaa4",
   "metadata": {},
   "outputs": [
    {
     "data": {
      "text/plain": [
       "34.485"
      ]
     },
     "execution_count": 27,
     "metadata": {},
     "output_type": "execute_result"
    }
   ],
   "source": [
    "Q3"
   ]
  },
  {
   "cell_type": "code",
   "execution_count": 28,
   "id": "0ce3cc69",
   "metadata": {},
   "outputs": [],
   "source": [
    "Q1=insurance[\"bmi\"].quantile(0.25)\n",
    "Q3=insurance[\"bmi\"].quantile(0.75)\n",
    "IQR=Q3-Q1\n",
    "lower_limit=Q1-1.5*IQR\n",
    "upper_limit=Q3+1.5*IQR"
   ]
  },
  {
   "cell_type": "code",
   "execution_count": 29,
   "id": "558c4c6f",
   "metadata": {},
   "outputs": [
    {
     "data": {
      "text/plain": [
       "(26.22, 34.485)"
      ]
     },
     "execution_count": 29,
     "metadata": {},
     "output_type": "execute_result"
    }
   ],
   "source": [
    "Q1,Q3"
   ]
  },
  {
   "cell_type": "code",
   "execution_count": 30,
   "id": "2b7b63ca",
   "metadata": {},
   "outputs": [
    {
     "data": {
      "text/html": [
       "<div>\n",
       "<style scoped>\n",
       "    .dataframe tbody tr th:only-of-type {\n",
       "        vertical-align: middle;\n",
       "    }\n",
       "\n",
       "    .dataframe tbody tr th {\n",
       "        vertical-align: top;\n",
       "    }\n",
       "\n",
       "    .dataframe thead th {\n",
       "        text-align: right;\n",
       "    }\n",
       "</style>\n",
       "<table border=\"1\" class=\"dataframe\">\n",
       "  <thead>\n",
       "    <tr style=\"text-align: right;\">\n",
       "      <th></th>\n",
       "      <th>age</th>\n",
       "      <th>sex</th>\n",
       "      <th>bmi</th>\n",
       "      <th>children</th>\n",
       "      <th>smoker</th>\n",
       "      <th>Claim_Amount</th>\n",
       "      <th>past_consultations</th>\n",
       "      <th>num_of_steps</th>\n",
       "      <th>Hospital_expenditure</th>\n",
       "      <th>NUmber_of_past_hospitalizations</th>\n",
       "      <th>Anual_Salary</th>\n",
       "      <th>region</th>\n",
       "      <th>charges</th>\n",
       "    </tr>\n",
       "  </thead>\n",
       "  <tbody>\n",
       "    <tr>\n",
       "      <th>0</th>\n",
       "      <td>18.0</td>\n",
       "      <td>male</td>\n",
       "      <td>23.210</td>\n",
       "      <td>0.0</td>\n",
       "      <td>no</td>\n",
       "      <td>29087.54313</td>\n",
       "      <td>17.0</td>\n",
       "      <td>715428.0</td>\n",
       "      <td>4.720921e+06</td>\n",
       "      <td>0.0</td>\n",
       "      <td>5.578497e+07</td>\n",
       "      <td>southeast</td>\n",
       "      <td>1121.87390</td>\n",
       "    </tr>\n",
       "    <tr>\n",
       "      <th>1</th>\n",
       "      <td>18.0</td>\n",
       "      <td>male</td>\n",
       "      <td>30.140</td>\n",
       "      <td>0.0</td>\n",
       "      <td>no</td>\n",
       "      <td>39053.67437</td>\n",
       "      <td>7.0</td>\n",
       "      <td>699157.0</td>\n",
       "      <td>4.329832e+06</td>\n",
       "      <td>0.0</td>\n",
       "      <td>1.370089e+07</td>\n",
       "      <td>southeast</td>\n",
       "      <td>1131.50660</td>\n",
       "    </tr>\n",
       "    <tr>\n",
       "      <th>2</th>\n",
       "      <td>18.0</td>\n",
       "      <td>male</td>\n",
       "      <td>33.330</td>\n",
       "      <td>0.0</td>\n",
       "      <td>no</td>\n",
       "      <td>39023.62759</td>\n",
       "      <td>19.0</td>\n",
       "      <td>702341.0</td>\n",
       "      <td>6.884861e+06</td>\n",
       "      <td>0.0</td>\n",
       "      <td>7.352311e+07</td>\n",
       "      <td>southeast</td>\n",
       "      <td>1135.94070</td>\n",
       "    </tr>\n",
       "    <tr>\n",
       "      <th>3</th>\n",
       "      <td>18.0</td>\n",
       "      <td>male</td>\n",
       "      <td>33.660</td>\n",
       "      <td>0.0</td>\n",
       "      <td>no</td>\n",
       "      <td>28185.39332</td>\n",
       "      <td>11.0</td>\n",
       "      <td>700250.0</td>\n",
       "      <td>4.274774e+06</td>\n",
       "      <td>0.0</td>\n",
       "      <td>7.581968e+07</td>\n",
       "      <td>southeast</td>\n",
       "      <td>1136.39940</td>\n",
       "    </tr>\n",
       "    <tr>\n",
       "      <th>4</th>\n",
       "      <td>18.0</td>\n",
       "      <td>male</td>\n",
       "      <td>34.100</td>\n",
       "      <td>0.0</td>\n",
       "      <td>no</td>\n",
       "      <td>14697.85941</td>\n",
       "      <td>16.0</td>\n",
       "      <td>711584.0</td>\n",
       "      <td>3.787294e+06</td>\n",
       "      <td>0.0</td>\n",
       "      <td>2.301232e+07</td>\n",
       "      <td>southeast</td>\n",
       "      <td>1137.01100</td>\n",
       "    </tr>\n",
       "    <tr>\n",
       "      <th>...</th>\n",
       "      <td>...</td>\n",
       "      <td>...</td>\n",
       "      <td>...</td>\n",
       "      <td>...</td>\n",
       "      <td>...</td>\n",
       "      <td>...</td>\n",
       "      <td>...</td>\n",
       "      <td>...</td>\n",
       "      <td>...</td>\n",
       "      <td>...</td>\n",
       "      <td>...</td>\n",
       "      <td>...</td>\n",
       "      <td>...</td>\n",
       "    </tr>\n",
       "    <tr>\n",
       "      <th>1332</th>\n",
       "      <td>60.0</td>\n",
       "      <td>male</td>\n",
       "      <td>32.800</td>\n",
       "      <td>0.0</td>\n",
       "      <td>yes</td>\n",
       "      <td>77277.98848</td>\n",
       "      <td>40.0</td>\n",
       "      <td>1095960.0</td>\n",
       "      <td>1.480346e+08</td>\n",
       "      <td>2.0</td>\n",
       "      <td>2.780642e+09</td>\n",
       "      <td>southwest</td>\n",
       "      <td>52590.82939</td>\n",
       "    </tr>\n",
       "    <tr>\n",
       "      <th>1333</th>\n",
       "      <td>33.0</td>\n",
       "      <td>female</td>\n",
       "      <td>35.530</td>\n",
       "      <td>0.0</td>\n",
       "      <td>yes</td>\n",
       "      <td>63142.25346</td>\n",
       "      <td>32.0</td>\n",
       "      <td>1091267.0</td>\n",
       "      <td>1.703805e+08</td>\n",
       "      <td>2.0</td>\n",
       "      <td>3.101107e+09</td>\n",
       "      <td>northwest</td>\n",
       "      <td>55135.40209</td>\n",
       "    </tr>\n",
       "    <tr>\n",
       "      <th>1334</th>\n",
       "      <td>31.0</td>\n",
       "      <td>female</td>\n",
       "      <td>38.095</td>\n",
       "      <td>1.0</td>\n",
       "      <td>yes</td>\n",
       "      <td>43419.95227</td>\n",
       "      <td>31.0</td>\n",
       "      <td>1107872.0</td>\n",
       "      <td>2.015152e+08</td>\n",
       "      <td>2.0</td>\n",
       "      <td>3.484216e+09</td>\n",
       "      <td>northeast</td>\n",
       "      <td>58571.07448</td>\n",
       "    </tr>\n",
       "    <tr>\n",
       "      <th>1335</th>\n",
       "      <td>52.0</td>\n",
       "      <td>male</td>\n",
       "      <td>34.485</td>\n",
       "      <td>3.0</td>\n",
       "      <td>yes</td>\n",
       "      <td>52458.92353</td>\n",
       "      <td>25.0</td>\n",
       "      <td>1092005.0</td>\n",
       "      <td>2.236450e+08</td>\n",
       "      <td>2.0</td>\n",
       "      <td>3.640807e+09</td>\n",
       "      <td>northwest</td>\n",
       "      <td>60021.39897</td>\n",
       "    </tr>\n",
       "    <tr>\n",
       "      <th>1336</th>\n",
       "      <td>45.0</td>\n",
       "      <td>male</td>\n",
       "      <td>30.360</td>\n",
       "      <td>0.0</td>\n",
       "      <td>yes</td>\n",
       "      <td>69927.51664</td>\n",
       "      <td>34.0</td>\n",
       "      <td>1106821.0</td>\n",
       "      <td>2.528924e+08</td>\n",
       "      <td>3.0</td>\n",
       "      <td>4.006359e+09</td>\n",
       "      <td>southeast</td>\n",
       "      <td>62592.87309</td>\n",
       "    </tr>\n",
       "  </tbody>\n",
       "</table>\n",
       "<p>1329 rows × 13 columns</p>\n",
       "</div>"
      ],
      "text/plain": [
       "       age     sex     bmi  children smoker  Claim_Amount  past_consultations  \\\n",
       "0     18.0    male  23.210       0.0     no   29087.54313                17.0   \n",
       "1     18.0    male  30.140       0.0     no   39053.67437                 7.0   \n",
       "2     18.0    male  33.330       0.0     no   39023.62759                19.0   \n",
       "3     18.0    male  33.660       0.0     no   28185.39332                11.0   \n",
       "4     18.0    male  34.100       0.0     no   14697.85941                16.0   \n",
       "...    ...     ...     ...       ...    ...           ...                 ...   \n",
       "1332  60.0    male  32.800       0.0    yes   77277.98848                40.0   \n",
       "1333  33.0  female  35.530       0.0    yes   63142.25346                32.0   \n",
       "1334  31.0  female  38.095       1.0    yes   43419.95227                31.0   \n",
       "1335  52.0    male  34.485       3.0    yes   52458.92353                25.0   \n",
       "1336  45.0    male  30.360       0.0    yes   69927.51664                34.0   \n",
       "\n",
       "      num_of_steps  Hospital_expenditure  NUmber_of_past_hospitalizations  \\\n",
       "0         715428.0          4.720921e+06                              0.0   \n",
       "1         699157.0          4.329832e+06                              0.0   \n",
       "2         702341.0          6.884861e+06                              0.0   \n",
       "3         700250.0          4.274774e+06                              0.0   \n",
       "4         711584.0          3.787294e+06                              0.0   \n",
       "...            ...                   ...                              ...   \n",
       "1332     1095960.0          1.480346e+08                              2.0   \n",
       "1333     1091267.0          1.703805e+08                              2.0   \n",
       "1334     1107872.0          2.015152e+08                              2.0   \n",
       "1335     1092005.0          2.236450e+08                              2.0   \n",
       "1336     1106821.0          2.528924e+08                              3.0   \n",
       "\n",
       "      Anual_Salary     region      charges  \n",
       "0     5.578497e+07  southeast   1121.87390  \n",
       "1     1.370089e+07  southeast   1131.50660  \n",
       "2     7.352311e+07  southeast   1135.94070  \n",
       "3     7.581968e+07  southeast   1136.39940  \n",
       "4     2.301232e+07  southeast   1137.01100  \n",
       "...            ...        ...          ...  \n",
       "1332  2.780642e+09  southwest  52590.82939  \n",
       "1333  3.101107e+09  northwest  55135.40209  \n",
       "1334  3.484216e+09  northeast  58571.07448  \n",
       "1335  3.640807e+09  northwest  60021.39897  \n",
       "1336  4.006359e+09  southeast  62592.87309  \n",
       "\n",
       "[1329 rows x 13 columns]"
      ]
     },
     "execution_count": 30,
     "metadata": {},
     "output_type": "execute_result"
    }
   ],
   "source": [
    "insurance"
   ]
  },
  {
   "cell_type": "code",
   "execution_count": 31,
   "id": "678899dd",
   "metadata": {},
   "outputs": [
    {
     "ename": "ValueError",
     "evalue": "Columns must be same length as key",
     "output_type": "error",
     "traceback": [
      "\u001b[1;31m---------------------------------------------------------------------------\u001b[0m",
      "\u001b[1;31mValueError\u001b[0m                                Traceback (most recent call last)",
      "Input \u001b[1;32mIn [31]\u001b[0m, in \u001b[0;36m<cell line: 1>\u001b[1;34m()\u001b[0m\n\u001b[1;32m----> 1\u001b[0m insurance[\u001b[38;5;124m\"\u001b[39m\u001b[38;5;124mbmi\u001b[39m\u001b[38;5;124m\"\u001b[39m]\u001b[38;5;241m=\u001b[39minsurance[(insurance[\u001b[38;5;124m\"\u001b[39m\u001b[38;5;124mbmi\u001b[39m\u001b[38;5;124m\"\u001b[39m]\u001b[38;5;241m>\u001b[39m\u001b[38;5;241m=\u001b[39mlower_limit)\u001b[38;5;241m&\u001b[39m (insurance[\u001b[38;5;124m\"\u001b[39m\u001b[38;5;124mbmi\u001b[39m\u001b[38;5;124m\"\u001b[39m]\u001b[38;5;241m<\u001b[39m\u001b[38;5;241m=\u001b[39mupper_limit)]\n",
      "File \u001b[1;32mC:\\ProgramData\\Anaconda3\\lib\\site-packages\\pandas\\core\\frame.py:3645\u001b[0m, in \u001b[0;36mDataFrame.__setitem__\u001b[1;34m(self, key, value)\u001b[0m\n\u001b[0;32m   3643\u001b[0m     \u001b[38;5;28mself\u001b[39m\u001b[38;5;241m.\u001b[39m_setitem_array(key, value)\n\u001b[0;32m   3644\u001b[0m \u001b[38;5;28;01melif\u001b[39;00m \u001b[38;5;28misinstance\u001b[39m(value, DataFrame):\n\u001b[1;32m-> 3645\u001b[0m     \u001b[38;5;28;43mself\u001b[39;49m\u001b[38;5;241;43m.\u001b[39;49m\u001b[43m_set_item_frame_value\u001b[49m\u001b[43m(\u001b[49m\u001b[43mkey\u001b[49m\u001b[43m,\u001b[49m\u001b[43m \u001b[49m\u001b[43mvalue\u001b[49m\u001b[43m)\u001b[49m\n\u001b[0;32m   3646\u001b[0m \u001b[38;5;28;01melif\u001b[39;00m (\n\u001b[0;32m   3647\u001b[0m     is_list_like(value)\n\u001b[0;32m   3648\u001b[0m     \u001b[38;5;129;01mand\u001b[39;00m \u001b[38;5;129;01mnot\u001b[39;00m \u001b[38;5;28mself\u001b[39m\u001b[38;5;241m.\u001b[39mcolumns\u001b[38;5;241m.\u001b[39mis_unique\n\u001b[0;32m   3649\u001b[0m     \u001b[38;5;129;01mand\u001b[39;00m \u001b[38;5;241m1\u001b[39m \u001b[38;5;241m<\u001b[39m \u001b[38;5;28mlen\u001b[39m(\u001b[38;5;28mself\u001b[39m\u001b[38;5;241m.\u001b[39mcolumns\u001b[38;5;241m.\u001b[39mget_indexer_for([key])) \u001b[38;5;241m==\u001b[39m \u001b[38;5;28mlen\u001b[39m(value)\n\u001b[0;32m   3650\u001b[0m ):\n\u001b[0;32m   3651\u001b[0m     \u001b[38;5;66;03m# Column to set is duplicated\u001b[39;00m\n\u001b[0;32m   3652\u001b[0m     \u001b[38;5;28mself\u001b[39m\u001b[38;5;241m.\u001b[39m_setitem_array([key], value)\n",
      "File \u001b[1;32mC:\\ProgramData\\Anaconda3\\lib\\site-packages\\pandas\\core\\frame.py:3775\u001b[0m, in \u001b[0;36mDataFrame._set_item_frame_value\u001b[1;34m(self, key, value)\u001b[0m\n\u001b[0;32m   3773\u001b[0m len_cols \u001b[38;5;241m=\u001b[39m \u001b[38;5;241m1\u001b[39m \u001b[38;5;28;01mif\u001b[39;00m is_scalar(cols) \u001b[38;5;28;01melse\u001b[39;00m \u001b[38;5;28mlen\u001b[39m(cols)\n\u001b[0;32m   3774\u001b[0m \u001b[38;5;28;01mif\u001b[39;00m len_cols \u001b[38;5;241m!=\u001b[39m \u001b[38;5;28mlen\u001b[39m(value\u001b[38;5;241m.\u001b[39mcolumns):\n\u001b[1;32m-> 3775\u001b[0m     \u001b[38;5;28;01mraise\u001b[39;00m \u001b[38;5;167;01mValueError\u001b[39;00m(\u001b[38;5;124m\"\u001b[39m\u001b[38;5;124mColumns must be same length as key\u001b[39m\u001b[38;5;124m\"\u001b[39m)\n\u001b[0;32m   3777\u001b[0m \u001b[38;5;66;03m# align right-hand-side columns if self.columns\u001b[39;00m\n\u001b[0;32m   3778\u001b[0m \u001b[38;5;66;03m# is multi-index and self[key] is a sub-frame\u001b[39;00m\n\u001b[0;32m   3779\u001b[0m \u001b[38;5;28;01mif\u001b[39;00m \u001b[38;5;28misinstance\u001b[39m(\u001b[38;5;28mself\u001b[39m\u001b[38;5;241m.\u001b[39mcolumns, MultiIndex) \u001b[38;5;129;01mand\u001b[39;00m \u001b[38;5;28misinstance\u001b[39m(\n\u001b[0;32m   3780\u001b[0m     loc, (\u001b[38;5;28mslice\u001b[39m, Series, np\u001b[38;5;241m.\u001b[39mndarray, Index)\n\u001b[0;32m   3781\u001b[0m ):\n",
      "\u001b[1;31mValueError\u001b[0m: Columns must be same length as key"
     ]
    }
   ],
   "source": [
    "insurance[\"bmi\"]=insurance[(insurance[\"bmi\"]>=lower_limit)& (insurance[\"bmi\"]<=upper_limit)]"
   ]
  },
  {
   "cell_type": "code",
   "execution_count": 33,
   "id": "121371ba",
   "metadata": {},
   "outputs": [
    {
     "data": {
      "text/plain": [
       "(1329, 13)"
      ]
     },
     "execution_count": 33,
     "metadata": {},
     "output_type": "execute_result"
    }
   ],
   "source": [
    "(insurance[(insurance[\"bmi\"]>=lower_limit)& (insurance[\"bmi\"]<=upper_limit)]).shape"
   ]
  },
  {
   "cell_type": "code",
   "execution_count": 34,
   "id": "adf95d13",
   "metadata": {},
   "outputs": [
    {
     "data": {
      "text/plain": [
       "(1329,)"
      ]
     },
     "execution_count": 34,
     "metadata": {},
     "output_type": "execute_result"
    }
   ],
   "source": [
    "insurance[\"bmi\"].shape"
   ]
  },
  {
   "cell_type": "code",
   "execution_count": 35,
   "id": "27e81169",
   "metadata": {},
   "outputs": [
    {
     "data": {
      "text/plain": [
       "(1329, 13)"
      ]
     },
     "execution_count": 35,
     "metadata": {},
     "output_type": "execute_result"
    }
   ],
   "source": [
    "insurance.shape"
   ]
  },
  {
   "cell_type": "code",
   "execution_count": null,
   "id": "a5b76751",
   "metadata": {},
   "outputs": [],
   "source": [
    "######################################3"
   ]
  },
  {
   "cell_type": "code",
   "execution_count": 36,
   "id": "8ee894f1",
   "metadata": {},
   "outputs": [
    {
     "data": {
      "image/png": "[encoded data removed]",
      "text/plain": [
       "<Figure size 432x288 with 1 Axes>"
      ]
     },
     "metadata": {
      "needs_background": "light"
     },
     "output_type": "display_data"
    },
    {
     "data": {
      "image/png": "[encoded data removed]",
      "text/plain": [
       "<Figure size 432x288 with 1 Axes>"
      ]
     },
     "metadata": {
      "needs_background": "light"
     },
     "output_type": "display_data"
    },
    {
     "data": {
      "image/png": "[encoded data removed]",
      "text/plain": [
       "<Figure size 432x288 with 1 Axes>"
      ]
     },
     "metadata": {
      "needs_background": "light"
     },
     "output_type": "display_data"
    },
    {
     "data": {
      "image/png": "[encoded data removed]",
      "text/plain": [
       "<Figure size 432x288 with 1 Axes>"
      ]
     },
     "metadata": {
      "needs_background": "light"
     },
     "output_type": "display_data"
    },
    {
     "data": {
      "image/png": "[encoded data removed]",
      "text/plain": [
       "<Figure size 432x288 with 1 Axes>"
      ]
     },
     "metadata": {
      "needs_background": "light"
     },
     "output_type": "display_data"
    },
    {
     "data": {
      "image/png": "[encoded data removed]",
      "text/plain": [
       "<Figure size 432x288 with 1 Axes>"
      ]
     },
     "metadata": {
      "needs_background": "light"
     },
     "output_type": "display_data"
    },
    {
     "data": {
      "image/png": "[encoded data removed]",
      "text/plain": [
       "<Figure size 432x288 with 1 Axes>"
      ]
     },
     "metadata": {
      "needs_background": "light"
     },
     "output_type": "display_data"
    },
    {
     "data": {
      "image/png": "[encoded data removed]",
      "text/plain": [
       "<Figure size 432x288 with 1 Axes>"
      ]
     },
     "metadata": {
      "needs_background": "light"
     },
     "output_type": "display_data"
    },
    {
     "data": {
      "image/png": "[encoded data removed]",
      "text/plain": [
       "<Figure size 432x288 with 1 Axes>"
      ]
     },
     "metadata": {
      "needs_background": "light"
     },
     "output_type": "display_data"
    },
    {
     "data": {
      "image/png": "[encoded data removed]",
      "text/plain": [
       "<Figure size 432x288 with 1 Axes>"
      ]
     },
     "metadata": {
      "needs_background": "light"
     },
     "output_type": "display_data"
    }
   ],
   "source": [
    "for col in col_names:\n",
    "    if insurance[col].dtype==\"float64\" or insurance[col].dtype==\"int64\":\n",
    "        plt.boxplot(insurance[col])\n",
    "        plt.xlabel(col)\n",
    "        plt.ylabel(\"Count\")\n",
    "        plt.show()"
   ]
  },
  {
   "cell_type": "code",
   "execution_count": null,
   "id": "47c1f2cb",
   "metadata": {},
   "outputs": [],
   "source": [
    "#feature Selection and scaling \n",
    "\"\"\"Correlation coefficient \n",
    "VIF---VArience inflation factor\"\"\""
   ]
  },
  {
   "cell_type": "code",
   "execution_count": 37,
   "id": "238e6d07",
   "metadata": {},
   "outputs": [
    {
     "data": {
      "text/html": [
       "<div>\n",
       "<style scoped>\n",
       "    .dataframe tbody tr th:only-of-type {\n",
       "        vertical-align: middle;\n",
       "    }\n",
       "\n",
       "    .dataframe tbody tr th {\n",
       "        vertical-align: top;\n",
       "    }\n",
       "\n",
       "    .dataframe thead th {\n",
       "        text-align: right;\n",
       "    }\n",
       "</style>\n",
       "<table border=\"1\" class=\"dataframe\">\n",
       "  <thead>\n",
       "    <tr style=\"text-align: right;\">\n",
       "      <th></th>\n",
       "      <th>age</th>\n",
       "      <th>bmi</th>\n",
       "      <th>children</th>\n",
       "      <th>Claim_Amount</th>\n",
       "      <th>past_consultations</th>\n",
       "      <th>num_of_steps</th>\n",
       "      <th>Hospital_expenditure</th>\n",
       "      <th>NUmber_of_past_hospitalizations</th>\n",
       "      <th>Anual_Salary</th>\n",
       "      <th>charges</th>\n",
       "    </tr>\n",
       "  </thead>\n",
       "  <tbody>\n",
       "    <tr>\n",
       "      <th>age</th>\n",
       "      <td>1.000000</td>\n",
       "      <td>0.117855</td>\n",
       "      <td>0.042011</td>\n",
       "      <td>0.122780</td>\n",
       "      <td>0.170027</td>\n",
       "      <td>0.514218</td>\n",
       "      <td>0.138140</td>\n",
       "      <td>0.359628</td>\n",
       "      <td>0.165824</td>\n",
       "      <td>0.296565</td>\n",
       "    </tr>\n",
       "    <tr>\n",
       "      <th>bmi</th>\n",
       "      <td>0.117855</td>\n",
       "      <td>1.000000</td>\n",
       "      <td>0.012298</td>\n",
       "      <td>0.093232</td>\n",
       "      <td>0.124564</td>\n",
       "      <td>0.137963</td>\n",
       "      <td>0.244912</td>\n",
       "      <td>0.138292</td>\n",
       "      <td>0.232221</td>\n",
       "      <td>0.193563</td>\n",
       "    </tr>\n",
       "    <tr>\n",
       "      <th>children</th>\n",
       "      <td>0.042011</td>\n",
       "      <td>0.012298</td>\n",
       "      <td>1.000000</td>\n",
       "      <td>0.041140</td>\n",
       "      <td>0.056376</td>\n",
       "      <td>0.163651</td>\n",
       "      <td>0.030694</td>\n",
       "      <td>0.187780</td>\n",
       "      <td>0.043503</td>\n",
       "      <td>0.072453</td>\n",
       "    </tr>\n",
       "    <tr>\n",
       "      <th>Claim_Amount</th>\n",
       "      <td>0.122780</td>\n",
       "      <td>0.093232</td>\n",
       "      <td>0.041140</td>\n",
       "      <td>1.000000</td>\n",
       "      <td>0.269913</td>\n",
       "      <td>0.394838</td>\n",
       "      <td>0.368244</td>\n",
       "      <td>0.374809</td>\n",
       "      <td>0.400747</td>\n",
       "      <td>0.431927</td>\n",
       "    </tr>\n",
       "    <tr>\n",
       "      <th>past_consultations</th>\n",
       "      <td>0.170027</td>\n",
       "      <td>0.124564</td>\n",
       "      <td>0.056376</td>\n",
       "      <td>0.269913</td>\n",
       "      <td>1.000000</td>\n",
       "      <td>0.558788</td>\n",
       "      <td>0.543607</td>\n",
       "      <td>0.497321</td>\n",
       "      <td>0.589155</td>\n",
       "      <td>0.624894</td>\n",
       "    </tr>\n",
       "    <tr>\n",
       "      <th>num_of_steps</th>\n",
       "      <td>0.514218</td>\n",
       "      <td>0.137963</td>\n",
       "      <td>0.163651</td>\n",
       "      <td>0.394838</td>\n",
       "      <td>0.558788</td>\n",
       "      <td>1.000000</td>\n",
       "      <td>0.630342</td>\n",
       "      <td>0.843639</td>\n",
       "      <td>0.737522</td>\n",
       "      <td>0.891046</td>\n",
       "    </tr>\n",
       "    <tr>\n",
       "      <th>Hospital_expenditure</th>\n",
       "      <td>0.138140</td>\n",
       "      <td>0.244912</td>\n",
       "      <td>0.030694</td>\n",
       "      <td>0.368244</td>\n",
       "      <td>0.543607</td>\n",
       "      <td>0.630342</td>\n",
       "      <td>1.000000</td>\n",
       "      <td>0.649913</td>\n",
       "      <td>0.959649</td>\n",
       "      <td>0.875735</td>\n",
       "    </tr>\n",
       "    <tr>\n",
       "      <th>NUmber_of_past_hospitalizations</th>\n",
       "      <td>0.359628</td>\n",
       "      <td>0.138292</td>\n",
       "      <td>0.187780</td>\n",
       "      <td>0.374809</td>\n",
       "      <td>0.497321</td>\n",
       "      <td>0.843639</td>\n",
       "      <td>0.649913</td>\n",
       "      <td>1.000000</td>\n",
       "      <td>0.733409</td>\n",
       "      <td>0.818275</td>\n",
       "    </tr>\n",
       "    <tr>\n",
       "      <th>Anual_Salary</th>\n",
       "      <td>0.165824</td>\n",
       "      <td>0.232221</td>\n",
       "      <td>0.043503</td>\n",
       "      <td>0.400747</td>\n",
       "      <td>0.589155</td>\n",
       "      <td>0.737522</td>\n",
       "      <td>0.959649</td>\n",
       "      <td>0.733409</td>\n",
       "      <td>1.000000</td>\n",
       "      <td>0.948853</td>\n",
       "    </tr>\n",
       "    <tr>\n",
       "      <th>charges</th>\n",
       "      <td>0.296565</td>\n",
       "      <td>0.193563</td>\n",
       "      <td>0.072453</td>\n",
       "      <td>0.431927</td>\n",
       "      <td>0.624894</td>\n",
       "      <td>0.891046</td>\n",
       "      <td>0.875735</td>\n",
       "      <td>0.818275</td>\n",
       "      <td>0.948853</td>\n",
       "      <td>1.000000</td>\n",
       "    </tr>\n",
       "  </tbody>\n",
       "</table>\n",
       "</div>"
      ],
      "text/plain": [
       "                                      age       bmi  children  Claim_Amount  \\\n",
       "age                              1.000000  0.117855  0.042011      0.122780   \n",
       "bmi                              0.117855  1.000000  0.012298      0.093232   \n",
       "children                         0.042011  0.012298  1.000000      0.041140   \n",
       "Claim_Amount                     0.122780  0.093232  0.041140      1.000000   \n",
       "past_consultations               0.170027  0.124564  0.056376      0.269913   \n",
       "num_of_steps                     0.514218  0.137963  0.163651      0.394838   \n",
       "Hospital_expenditure             0.138140  0.244912  0.030694      0.368244   \n",
       "NUmber_of_past_hospitalizations  0.359628  0.138292  0.187780      0.374809   \n",
       "Anual_Salary                     0.165824  0.232221  0.043503      0.400747   \n",
       "charges                          0.296565  0.193563  0.072453      0.431927   \n",
       "\n",
       "                                 past_consultations  num_of_steps  \\\n",
       "age                                        0.170027      0.514218   \n",
       "bmi                                        0.124564      0.137963   \n",
       "children                                   0.056376      0.163651   \n",
       "Claim_Amount                               0.269913      0.394838   \n",
       "past_consultations                         1.000000      0.558788   \n",
       "num_of_steps                               0.558788      1.000000   \n",
       "Hospital_expenditure                       0.543607      0.630342   \n",
       "NUmber_of_past_hospitalizations            0.497321      0.843639   \n",
       "Anual_Salary                               0.589155      0.737522   \n",
       "charges                                    0.624894      0.891046   \n",
       "\n",
       "                                 Hospital_expenditure  \\\n",
       "age                                          0.138140   \n",
       "bmi                                          0.244912   \n",
       "children                                     0.030694   \n",
       "Claim_Amount                                 0.368244   \n",
       "past_consultations                           0.543607   \n",
       "num_of_steps                                 0.630342   \n",
       "Hospital_expenditure                         1.000000   \n",
       "NUmber_of_past_hospitalizations              0.649913   \n",
       "Anual_Salary                                 0.959649   \n",
       "charges                                      0.875735   \n",
       "\n",
       "                                 NUmber_of_past_hospitalizations  \\\n",
       "age                                                     0.359628   \n",
       "bmi                                                     0.138292   \n",
       "children                                                0.187780   \n",
       "Claim_Amount                                            0.374809   \n",
       "past_consultations                                      0.497321   \n",
       "num_of_steps                                            0.843639   \n",
       "Hospital_expenditure                                    0.649913   \n",
       "NUmber_of_past_hospitalizations                         1.000000   \n",
       "Anual_Salary                                            0.733409   \n",
       "charges                                                 0.818275   \n",
       "\n",
       "                                 Anual_Salary   charges  \n",
       "age                                  0.165824  0.296565  \n",
       "bmi                                  0.232221  0.193563  \n",
       "children                             0.043503  0.072453  \n",
       "Claim_Amount                         0.400747  0.431927  \n",
       "past_consultations                   0.589155  0.624894  \n",
       "num_of_steps                         0.737522  0.891046  \n",
       "Hospital_expenditure                 0.959649  0.875735  \n",
       "NUmber_of_past_hospitalizations      0.733409  0.818275  \n",
       "Anual_Salary                         1.000000  0.948853  \n",
       "charges                              0.948853  1.000000  "
      ]
     },
     "execution_count": 37,
     "metadata": {},
     "output_type": "execute_result"
    }
   ],
   "source": [
    "insurance.corr()"
   ]
  },
  {
   "cell_type": "code",
   "execution_count": null,
   "id": "b9b6c3ba",
   "metadata": {},
   "outputs": [],
   "source": [
    "#VIF---Variation infalation factor\n",
    "\"\"\"Multi Coliniarity--> example- chips packet Netfilx happiness\n",
    "when 2 or more factors collectively influence the dependent variables\"\"\""
   ]
  },
  {
   "cell_type": "code",
   "execution_count": null,
   "id": "4b17222e",
   "metadata": {},
   "outputs": [],
   "source": [
    "\"\"\"higher the vif value higher the collinearity\n",
    "if the value of vif is less than 6 we have to take them as independent terms\"\"\""
   ]
  },
  {
   "cell_type": "code",
   "execution_count": 38,
   "id": "da64812d",
   "metadata": {},
   "outputs": [],
   "source": [
    "#vif           --- for object type we cant find the vif\n",
    "#Multi coliniarity\n",
    "from statsmodels.stats.outliers_influence import variance_inflation_factor"
   ]
  },
  {
   "cell_type": "code",
   "execution_count": 39,
   "id": "dbdbd01a",
   "metadata": {},
   "outputs": [],
   "source": [
    "col_list=[]\n",
    "for col in col_names:\n",
    "    if insurance[col].dtype!=\"object\" and col!=\"charges\":\n",
    "        col_list.append(col)\n",
    "        "
   ]
  },
  {
   "cell_type": "code",
   "execution_count": 40,
   "id": "a62dd4b4",
   "metadata": {},
   "outputs": [
    {
     "data": {
      "text/plain": [
       "['age',\n",
       " 'bmi',\n",
       " 'children',\n",
       " 'Claim_Amount',\n",
       " 'past_consultations',\n",
       " 'num_of_steps',\n",
       " 'Hospital_expenditure',\n",
       " 'NUmber_of_past_hospitalizations',\n",
       " 'Anual_Salary']"
      ]
     },
     "execution_count": 40,
     "metadata": {},
     "output_type": "execute_result"
    }
   ],
   "source": [
    "col_list # we run the above code so that we get the independent column  thats why not included the col charges as it is dependent"
   ]
  },
  {
   "cell_type": "code",
   "execution_count": 41,
   "id": "c47c437a",
   "metadata": {},
   "outputs": [
    {
     "data": {
      "text/html": [
       "<div>\n",
       "<style scoped>\n",
       "    .dataframe tbody tr th:only-of-type {\n",
       "        vertical-align: middle;\n",
       "    }\n",
       "\n",
       "    .dataframe tbody tr th {\n",
       "        vertical-align: top;\n",
       "    }\n",
       "\n",
       "    .dataframe thead th {\n",
       "        text-align: right;\n",
       "    }\n",
       "</style>\n",
       "<table border=\"1\" class=\"dataframe\">\n",
       "  <thead>\n",
       "    <tr style=\"text-align: right;\">\n",
       "      <th></th>\n",
       "      <th>age</th>\n",
       "      <th>bmi</th>\n",
       "      <th>children</th>\n",
       "      <th>Claim_Amount</th>\n",
       "      <th>past_consultations</th>\n",
       "      <th>num_of_steps</th>\n",
       "      <th>Hospital_expenditure</th>\n",
       "      <th>NUmber_of_past_hospitalizations</th>\n",
       "      <th>Anual_Salary</th>\n",
       "    </tr>\n",
       "  </thead>\n",
       "  <tbody>\n",
       "    <tr>\n",
       "      <th>0</th>\n",
       "      <td>18.0</td>\n",
       "      <td>23.210</td>\n",
       "      <td>0.0</td>\n",
       "      <td>29087.54313</td>\n",
       "      <td>17.0</td>\n",
       "      <td>715428.0</td>\n",
       "      <td>4.720921e+06</td>\n",
       "      <td>0.0</td>\n",
       "      <td>5.578497e+07</td>\n",
       "    </tr>\n",
       "    <tr>\n",
       "      <th>1</th>\n",
       "      <td>18.0</td>\n",
       "      <td>30.140</td>\n",
       "      <td>0.0</td>\n",
       "      <td>39053.67437</td>\n",
       "      <td>7.0</td>\n",
       "      <td>699157.0</td>\n",
       "      <td>4.329832e+06</td>\n",
       "      <td>0.0</td>\n",
       "      <td>1.370089e+07</td>\n",
       "    </tr>\n",
       "    <tr>\n",
       "      <th>2</th>\n",
       "      <td>18.0</td>\n",
       "      <td>33.330</td>\n",
       "      <td>0.0</td>\n",
       "      <td>39023.62759</td>\n",
       "      <td>19.0</td>\n",
       "      <td>702341.0</td>\n",
       "      <td>6.884861e+06</td>\n",
       "      <td>0.0</td>\n",
       "      <td>7.352311e+07</td>\n",
       "    </tr>\n",
       "    <tr>\n",
       "      <th>3</th>\n",
       "      <td>18.0</td>\n",
       "      <td>33.660</td>\n",
       "      <td>0.0</td>\n",
       "      <td>28185.39332</td>\n",
       "      <td>11.0</td>\n",
       "      <td>700250.0</td>\n",
       "      <td>4.274774e+06</td>\n",
       "      <td>0.0</td>\n",
       "      <td>7.581968e+07</td>\n",
       "    </tr>\n",
       "    <tr>\n",
       "      <th>4</th>\n",
       "      <td>18.0</td>\n",
       "      <td>34.100</td>\n",
       "      <td>0.0</td>\n",
       "      <td>14697.85941</td>\n",
       "      <td>16.0</td>\n",
       "      <td>711584.0</td>\n",
       "      <td>3.787294e+06</td>\n",
       "      <td>0.0</td>\n",
       "      <td>2.301232e+07</td>\n",
       "    </tr>\n",
       "    <tr>\n",
       "      <th>...</th>\n",
       "      <td>...</td>\n",
       "      <td>...</td>\n",
       "      <td>...</td>\n",
       "      <td>...</td>\n",
       "      <td>...</td>\n",
       "      <td>...</td>\n",
       "      <td>...</td>\n",
       "      <td>...</td>\n",
       "      <td>...</td>\n",
       "    </tr>\n",
       "    <tr>\n",
       "      <th>1332</th>\n",
       "      <td>60.0</td>\n",
       "      <td>32.800</td>\n",
       "      <td>0.0</td>\n",
       "      <td>77277.98848</td>\n",
       "      <td>40.0</td>\n",
       "      <td>1095960.0</td>\n",
       "      <td>1.480346e+08</td>\n",
       "      <td>2.0</td>\n",
       "      <td>2.780642e+09</td>\n",
       "    </tr>\n",
       "    <tr>\n",
       "      <th>1333</th>\n",
       "      <td>33.0</td>\n",
       "      <td>35.530</td>\n",
       "      <td>0.0</td>\n",
       "      <td>63142.25346</td>\n",
       "      <td>32.0</td>\n",
       "      <td>1091267.0</td>\n",
       "      <td>1.703805e+08</td>\n",
       "      <td>2.0</td>\n",
       "      <td>3.101107e+09</td>\n",
       "    </tr>\n",
       "    <tr>\n",
       "      <th>1334</th>\n",
       "      <td>31.0</td>\n",
       "      <td>38.095</td>\n",
       "      <td>1.0</td>\n",
       "      <td>43419.95227</td>\n",
       "      <td>31.0</td>\n",
       "      <td>1107872.0</td>\n",
       "      <td>2.015152e+08</td>\n",
       "      <td>2.0</td>\n",
       "      <td>3.484216e+09</td>\n",
       "    </tr>\n",
       "    <tr>\n",
       "      <th>1335</th>\n",
       "      <td>52.0</td>\n",
       "      <td>34.485</td>\n",
       "      <td>3.0</td>\n",
       "      <td>52458.92353</td>\n",
       "      <td>25.0</td>\n",
       "      <td>1092005.0</td>\n",
       "      <td>2.236450e+08</td>\n",
       "      <td>2.0</td>\n",
       "      <td>3.640807e+09</td>\n",
       "    </tr>\n",
       "    <tr>\n",
       "      <th>1336</th>\n",
       "      <td>45.0</td>\n",
       "      <td>30.360</td>\n",
       "      <td>0.0</td>\n",
       "      <td>69927.51664</td>\n",
       "      <td>34.0</td>\n",
       "      <td>1106821.0</td>\n",
       "      <td>2.528924e+08</td>\n",
       "      <td>3.0</td>\n",
       "      <td>4.006359e+09</td>\n",
       "    </tr>\n",
       "  </tbody>\n",
       "</table>\n",
       "<p>1329 rows × 9 columns</p>\n",
       "</div>"
      ],
      "text/plain": [
       "       age     bmi  children  Claim_Amount  past_consultations  num_of_steps  \\\n",
       "0     18.0  23.210       0.0   29087.54313                17.0      715428.0   \n",
       "1     18.0  30.140       0.0   39053.67437                 7.0      699157.0   \n",
       "2     18.0  33.330       0.0   39023.62759                19.0      702341.0   \n",
       "3     18.0  33.660       0.0   28185.39332                11.0      700250.0   \n",
       "4     18.0  34.100       0.0   14697.85941                16.0      711584.0   \n",
       "...    ...     ...       ...           ...                 ...           ...   \n",
       "1332  60.0  32.800       0.0   77277.98848                40.0     1095960.0   \n",
       "1333  33.0  35.530       0.0   63142.25346                32.0     1091267.0   \n",
       "1334  31.0  38.095       1.0   43419.95227                31.0     1107872.0   \n",
       "1335  52.0  34.485       3.0   52458.92353                25.0     1092005.0   \n",
       "1336  45.0  30.360       0.0   69927.51664                34.0     1106821.0   \n",
       "\n",
       "      Hospital_expenditure  NUmber_of_past_hospitalizations  Anual_Salary  \n",
       "0             4.720921e+06                              0.0  5.578497e+07  \n",
       "1             4.329832e+06                              0.0  1.370089e+07  \n",
       "2             6.884861e+06                              0.0  7.352311e+07  \n",
       "3             4.274774e+06                              0.0  7.581968e+07  \n",
       "4             3.787294e+06                              0.0  2.301232e+07  \n",
       "...                    ...                              ...           ...  \n",
       "1332          1.480346e+08                              2.0  2.780642e+09  \n",
       "1333          1.703805e+08                              2.0  3.101107e+09  \n",
       "1334          2.015152e+08                              2.0  3.484216e+09  \n",
       "1335          2.236450e+08                              2.0  3.640807e+09  \n",
       "1336          2.528924e+08                              3.0  4.006359e+09  \n",
       "\n",
       "[1329 rows x 9 columns]"
      ]
     },
     "execution_count": 41,
     "metadata": {},
     "output_type": "execute_result"
    }
   ],
   "source": [
    "X=insurance[col_list]\n",
    "X"
   ]
  },
  {
   "cell_type": "code",
   "execution_count": 42,
   "id": "5cdcf075",
   "metadata": {},
   "outputs": [],
   "source": [
    "vif_data=pd.DataFrame()     #empty dataframe"
   ]
  },
  {
   "cell_type": "code",
   "execution_count": 43,
   "id": "f2958de1",
   "metadata": {},
   "outputs": [
    {
     "data": {
      "text/html": [
       "<div>\n",
       "<style scoped>\n",
       "    .dataframe tbody tr th:only-of-type {\n",
       "        vertical-align: middle;\n",
       "    }\n",
       "\n",
       "    .dataframe tbody tr th {\n",
       "        vertical-align: top;\n",
       "    }\n",
       "\n",
       "    .dataframe thead th {\n",
       "        text-align: right;\n",
       "    }\n",
       "</style>\n",
       "<table border=\"1\" class=\"dataframe\">\n",
       "  <thead>\n",
       "    <tr style=\"text-align: right;\">\n",
       "      <th></th>\n",
       "    </tr>\n",
       "  </thead>\n",
       "  <tbody>\n",
       "  </tbody>\n",
       "</table>\n",
       "</div>"
      ],
      "text/plain": [
       "Empty DataFrame\n",
       "Columns: []\n",
       "Index: []"
      ]
     },
     "execution_count": 43,
     "metadata": {},
     "output_type": "execute_result"
    }
   ],
   "source": [
    "vif_data"
   ]
  },
  {
   "cell_type": "code",
   "execution_count": 44,
   "id": "db48710f",
   "metadata": {},
   "outputs": [
    {
     "name": "stdout",
     "output_type": "stream",
     "text": [
      "Empty DataFrame\n",
      "Columns: []\n",
      "Index: []\n"
     ]
    }
   ],
   "source": [
    "print(vif_data)"
   ]
  },
  {
   "cell_type": "code",
   "execution_count": 45,
   "id": "1262e1ed",
   "metadata": {},
   "outputs": [],
   "source": [
    "vif_data[\"Columns names\"]=X.columns"
   ]
  },
  {
   "cell_type": "code",
   "execution_count": 46,
   "id": "0045bfbd",
   "metadata": {},
   "outputs": [
    {
     "data": {
      "text/plain": [
       "0                                age\n",
       "1                                bmi\n",
       "2                           children\n",
       "3                       Claim_Amount\n",
       "4                 past_consultations\n",
       "5                       num_of_steps\n",
       "6               Hospital_expenditure\n",
       "7    NUmber_of_past_hospitalizations\n",
       "8                       Anual_Salary\n",
       "Name: Columns names, dtype: object"
      ]
     },
     "execution_count": 46,
     "metadata": {},
     "output_type": "execute_result"
    }
   ],
   "source": [
    "vif_data[\"Columns names\"]"
   ]
  },
  {
   "cell_type": "code",
   "execution_count": 47,
   "id": "e73f37e3",
   "metadata": {},
   "outputs": [
    {
     "data": {
      "text/html": [
       "<div>\n",
       "<style scoped>\n",
       "    .dataframe tbody tr th:only-of-type {\n",
       "        vertical-align: middle;\n",
       "    }\n",
       "\n",
       "    .dataframe tbody tr th {\n",
       "        vertical-align: top;\n",
       "    }\n",
       "\n",
       "    .dataframe thead th {\n",
       "        text-align: right;\n",
       "    }\n",
       "</style>\n",
       "<table border=\"1\" class=\"dataframe\">\n",
       "  <thead>\n",
       "    <tr style=\"text-align: right;\">\n",
       "      <th></th>\n",
       "      <th>Columns names</th>\n",
       "    </tr>\n",
       "  </thead>\n",
       "  <tbody>\n",
       "    <tr>\n",
       "      <th>0</th>\n",
       "      <td>age</td>\n",
       "    </tr>\n",
       "    <tr>\n",
       "      <th>1</th>\n",
       "      <td>bmi</td>\n",
       "    </tr>\n",
       "    <tr>\n",
       "      <th>2</th>\n",
       "      <td>children</td>\n",
       "    </tr>\n",
       "    <tr>\n",
       "      <th>3</th>\n",
       "      <td>Claim_Amount</td>\n",
       "    </tr>\n",
       "    <tr>\n",
       "      <th>4</th>\n",
       "      <td>past_consultations</td>\n",
       "    </tr>\n",
       "    <tr>\n",
       "      <th>5</th>\n",
       "      <td>num_of_steps</td>\n",
       "    </tr>\n",
       "    <tr>\n",
       "      <th>6</th>\n",
       "      <td>Hospital_expenditure</td>\n",
       "    </tr>\n",
       "    <tr>\n",
       "      <th>7</th>\n",
       "      <td>NUmber_of_past_hospitalizations</td>\n",
       "    </tr>\n",
       "    <tr>\n",
       "      <th>8</th>\n",
       "      <td>Anual_Salary</td>\n",
       "    </tr>\n",
       "  </tbody>\n",
       "</table>\n",
       "</div>"
      ],
      "text/plain": [
       "                     Columns names\n",
       "0                              age\n",
       "1                              bmi\n",
       "2                         children\n",
       "3                     Claim_Amount\n",
       "4               past_consultations\n",
       "5                     num_of_steps\n",
       "6             Hospital_expenditure\n",
       "7  NUmber_of_past_hospitalizations\n",
       "8                     Anual_Salary"
      ]
     },
     "execution_count": 47,
     "metadata": {},
     "output_type": "execute_result"
    }
   ],
   "source": [
    "vif_data"
   ]
  },
  {
   "cell_type": "code",
   "execution_count": 51,
   "id": "3409281c",
   "metadata": {},
   "outputs": [],
   "source": [
    "vif_data[\"VIF values\"]=[variance_inflation_factor(X.values,i) for i in range(len(X.columns))]"
   ]
  },
  {
   "cell_type": "code",
   "execution_count": 52,
   "id": "e995eb85",
   "metadata": {},
   "outputs": [
    {
     "data": {
      "text/plain": [
       "0    11.950679\n",
       "1    27.108171\n",
       "2     1.948672\n",
       "3     6.887483\n",
       "4     8.316586\n",
       "5    61.144988\n",
       "6    19.072873\n",
       "7    15.884628\n",
       "8    25.291964\n",
       "Name: VIF values, dtype: float64"
      ]
     },
     "execution_count": 52,
     "metadata": {},
     "output_type": "execute_result"
    }
   ],
   "source": [
    "vif_data[\"VIF values\"]"
   ]
  },
  {
   "cell_type": "code",
   "execution_count": 53,
   "id": "51cd29c6",
   "metadata": {},
   "outputs": [
    {
     "data": {
      "text/html": [
       "<div>\n",
       "<style scoped>\n",
       "    .dataframe tbody tr th:only-of-type {\n",
       "        vertical-align: middle;\n",
       "    }\n",
       "\n",
       "    .dataframe tbody tr th {\n",
       "        vertical-align: top;\n",
       "    }\n",
       "\n",
       "    .dataframe thead th {\n",
       "        text-align: right;\n",
       "    }\n",
       "</style>\n",
       "<table border=\"1\" class=\"dataframe\">\n",
       "  <thead>\n",
       "    <tr style=\"text-align: right;\">\n",
       "      <th></th>\n",
       "      <th>Columns names</th>\n",
       "      <th>VIF values</th>\n",
       "    </tr>\n",
       "  </thead>\n",
       "  <tbody>\n",
       "    <tr>\n",
       "      <th>0</th>\n",
       "      <td>age</td>\n",
       "      <td>11.950679</td>\n",
       "    </tr>\n",
       "    <tr>\n",
       "      <th>1</th>\n",
       "      <td>bmi</td>\n",
       "      <td>27.108171</td>\n",
       "    </tr>\n",
       "    <tr>\n",
       "      <th>2</th>\n",
       "      <td>children</td>\n",
       "      <td>1.948672</td>\n",
       "    </tr>\n",
       "    <tr>\n",
       "      <th>3</th>\n",
       "      <td>Claim_Amount</td>\n",
       "      <td>6.887483</td>\n",
       "    </tr>\n",
       "    <tr>\n",
       "      <th>4</th>\n",
       "      <td>past_consultations</td>\n",
       "      <td>8.316586</td>\n",
       "    </tr>\n",
       "    <tr>\n",
       "      <th>5</th>\n",
       "      <td>num_of_steps</td>\n",
       "      <td>61.144988</td>\n",
       "    </tr>\n",
       "    <tr>\n",
       "      <th>6</th>\n",
       "      <td>Hospital_expenditure</td>\n",
       "      <td>19.072873</td>\n",
       "    </tr>\n",
       "    <tr>\n",
       "      <th>7</th>\n",
       "      <td>NUmber_of_past_hospitalizations</td>\n",
       "      <td>15.884628</td>\n",
       "    </tr>\n",
       "    <tr>\n",
       "      <th>8</th>\n",
       "      <td>Anual_Salary</td>\n",
       "      <td>25.291964</td>\n",
       "    </tr>\n",
       "  </tbody>\n",
       "</table>\n",
       "</div>"
      ],
      "text/plain": [
       "                     Columns names  VIF values\n",
       "0                              age   11.950679\n",
       "1                              bmi   27.108171\n",
       "2                         children    1.948672\n",
       "3                     Claim_Amount    6.887483\n",
       "4               past_consultations    8.316586\n",
       "5                     num_of_steps   61.144988\n",
       "6             Hospital_expenditure   19.072873\n",
       "7  NUmber_of_past_hospitalizations   15.884628\n",
       "8                     Anual_Salary   25.291964"
      ]
     },
     "execution_count": 53,
     "metadata": {},
     "output_type": "execute_result"
    }
   ],
   "source": [
    "vif_data"
   ]
  },
  {
   "cell_type": "code",
   "execution_count": 54,
   "id": "b7baf77a",
   "metadata": {},
   "outputs": [
    {
     "data": {
      "text/plain": [
       "27.108170813136397"
      ]
     },
     "execution_count": 54,
     "metadata": {},
     "output_type": "execute_result"
    }
   ],
   "source": [
    "variance_inflation_factor(X.values,1)      # this is simply for the 1 column vif    we can simply do like that but we  use whole in loop"
   ]
  },
  {
   "cell_type": "code",
   "execution_count": 55,
   "id": "6a71d9a5",
   "metadata": {},
   "outputs": [],
   "source": [
    "# when we find VIF we have to remove the highest values"
   ]
  },
  {
   "cell_type": "code",
   "execution_count": 56,
   "id": "33883b3c",
   "metadata": {},
   "outputs": [],
   "source": [
    "insurance=insurance.drop(\"num_of_steps\",axis=1)"
   ]
  },
  {
   "cell_type": "code",
   "execution_count": 57,
   "id": "577c2269",
   "metadata": {},
   "outputs": [
    {
     "data": {
      "text/html": [
       "<div>\n",
       "<style scoped>\n",
       "    .dataframe tbody tr th:only-of-type {\n",
       "        vertical-align: middle;\n",
       "    }\n",
       "\n",
       "    .dataframe tbody tr th {\n",
       "        vertical-align: top;\n",
       "    }\n",
       "\n",
       "    .dataframe thead th {\n",
       "        text-align: right;\n",
       "    }\n",
       "</style>\n",
       "<table border=\"1\" class=\"dataframe\">\n",
       "  <thead>\n",
       "    <tr style=\"text-align: right;\">\n",
       "      <th></th>\n",
       "      <th>Columns names</th>\n",
       "      <th>VIF values</th>\n",
       "    </tr>\n",
       "  </thead>\n",
       "  <tbody>\n",
       "    <tr>\n",
       "      <th>0</th>\n",
       "      <td>age</td>\n",
       "      <td>11.950679</td>\n",
       "    </tr>\n",
       "    <tr>\n",
       "      <th>1</th>\n",
       "      <td>bmi</td>\n",
       "      <td>27.108171</td>\n",
       "    </tr>\n",
       "    <tr>\n",
       "      <th>2</th>\n",
       "      <td>children</td>\n",
       "      <td>1.948672</td>\n",
       "    </tr>\n",
       "    <tr>\n",
       "      <th>3</th>\n",
       "      <td>Claim_Amount</td>\n",
       "      <td>6.887483</td>\n",
       "    </tr>\n",
       "    <tr>\n",
       "      <th>4</th>\n",
       "      <td>past_consultations</td>\n",
       "      <td>8.316586</td>\n",
       "    </tr>\n",
       "    <tr>\n",
       "      <th>5</th>\n",
       "      <td>num_of_steps</td>\n",
       "      <td>61.144988</td>\n",
       "    </tr>\n",
       "    <tr>\n",
       "      <th>6</th>\n",
       "      <td>Hospital_expenditure</td>\n",
       "      <td>19.072873</td>\n",
       "    </tr>\n",
       "    <tr>\n",
       "      <th>7</th>\n",
       "      <td>NUmber_of_past_hospitalizations</td>\n",
       "      <td>15.884628</td>\n",
       "    </tr>\n",
       "    <tr>\n",
       "      <th>8</th>\n",
       "      <td>Anual_Salary</td>\n",
       "      <td>25.291964</td>\n",
       "    </tr>\n",
       "  </tbody>\n",
       "</table>\n",
       "</div>"
      ],
      "text/plain": [
       "                     Columns names  VIF values\n",
       "0                              age   11.950679\n",
       "1                              bmi   27.108171\n",
       "2                         children    1.948672\n",
       "3                     Claim_Amount    6.887483\n",
       "4               past_consultations    8.316586\n",
       "5                     num_of_steps   61.144988\n",
       "6             Hospital_expenditure   19.072873\n",
       "7  NUmber_of_past_hospitalizations   15.884628\n",
       "8                     Anual_Salary   25.291964"
      ]
     },
     "execution_count": 57,
     "metadata": {},
     "output_type": "execute_result"
    }
   ],
   "source": [
    "vif_data"
   ]
  },
  {
   "cell_type": "code",
   "execution_count": 58,
   "id": "254538aa",
   "metadata": {},
   "outputs": [
    {
     "data": {
      "text/html": [
       "<div>\n",
       "<style scoped>\n",
       "    .dataframe tbody tr th:only-of-type {\n",
       "        vertical-align: middle;\n",
       "    }\n",
       "\n",
       "    .dataframe tbody tr th {\n",
       "        vertical-align: top;\n",
       "    }\n",
       "\n",
       "    .dataframe thead th {\n",
       "        text-align: right;\n",
       "    }\n",
       "</style>\n",
       "<table border=\"1\" class=\"dataframe\">\n",
       "  <thead>\n",
       "    <tr style=\"text-align: right;\">\n",
       "      <th></th>\n",
       "      <th>age</th>\n",
       "      <th>sex</th>\n",
       "      <th>bmi</th>\n",
       "      <th>children</th>\n",
       "      <th>smoker</th>\n",
       "      <th>Claim_Amount</th>\n",
       "      <th>past_consultations</th>\n",
       "      <th>Hospital_expenditure</th>\n",
       "      <th>NUmber_of_past_hospitalizations</th>\n",
       "      <th>Anual_Salary</th>\n",
       "      <th>region</th>\n",
       "      <th>charges</th>\n",
       "    </tr>\n",
       "  </thead>\n",
       "  <tbody>\n",
       "    <tr>\n",
       "      <th>0</th>\n",
       "      <td>18.0</td>\n",
       "      <td>male</td>\n",
       "      <td>23.210</td>\n",
       "      <td>0.0</td>\n",
       "      <td>no</td>\n",
       "      <td>29087.54313</td>\n",
       "      <td>17.0</td>\n",
       "      <td>4.720921e+06</td>\n",
       "      <td>0.0</td>\n",
       "      <td>5.578497e+07</td>\n",
       "      <td>southeast</td>\n",
       "      <td>1121.87390</td>\n",
       "    </tr>\n",
       "    <tr>\n",
       "      <th>1</th>\n",
       "      <td>18.0</td>\n",
       "      <td>male</td>\n",
       "      <td>30.140</td>\n",
       "      <td>0.0</td>\n",
       "      <td>no</td>\n",
       "      <td>39053.67437</td>\n",
       "      <td>7.0</td>\n",
       "      <td>4.329832e+06</td>\n",
       "      <td>0.0</td>\n",
       "      <td>1.370089e+07</td>\n",
       "      <td>southeast</td>\n",
       "      <td>1131.50660</td>\n",
       "    </tr>\n",
       "    <tr>\n",
       "      <th>2</th>\n",
       "      <td>18.0</td>\n",
       "      <td>male</td>\n",
       "      <td>33.330</td>\n",
       "      <td>0.0</td>\n",
       "      <td>no</td>\n",
       "      <td>39023.62759</td>\n",
       "      <td>19.0</td>\n",
       "      <td>6.884861e+06</td>\n",
       "      <td>0.0</td>\n",
       "      <td>7.352311e+07</td>\n",
       "      <td>southeast</td>\n",
       "      <td>1135.94070</td>\n",
       "    </tr>\n",
       "    <tr>\n",
       "      <th>3</th>\n",
       "      <td>18.0</td>\n",
       "      <td>male</td>\n",
       "      <td>33.660</td>\n",
       "      <td>0.0</td>\n",
       "      <td>no</td>\n",
       "      <td>28185.39332</td>\n",
       "      <td>11.0</td>\n",
       "      <td>4.274774e+06</td>\n",
       "      <td>0.0</td>\n",
       "      <td>7.581968e+07</td>\n",
       "      <td>southeast</td>\n",
       "      <td>1136.39940</td>\n",
       "    </tr>\n",
       "    <tr>\n",
       "      <th>4</th>\n",
       "      <td>18.0</td>\n",
       "      <td>male</td>\n",
       "      <td>34.100</td>\n",
       "      <td>0.0</td>\n",
       "      <td>no</td>\n",
       "      <td>14697.85941</td>\n",
       "      <td>16.0</td>\n",
       "      <td>3.787294e+06</td>\n",
       "      <td>0.0</td>\n",
       "      <td>2.301232e+07</td>\n",
       "      <td>southeast</td>\n",
       "      <td>1137.01100</td>\n",
       "    </tr>\n",
       "    <tr>\n",
       "      <th>...</th>\n",
       "      <td>...</td>\n",
       "      <td>...</td>\n",
       "      <td>...</td>\n",
       "      <td>...</td>\n",
       "      <td>...</td>\n",
       "      <td>...</td>\n",
       "      <td>...</td>\n",
       "      <td>...</td>\n",
       "      <td>...</td>\n",
       "      <td>...</td>\n",
       "      <td>...</td>\n",
       "      <td>...</td>\n",
       "    </tr>\n",
       "    <tr>\n",
       "      <th>1332</th>\n",
       "      <td>60.0</td>\n",
       "      <td>male</td>\n",
       "      <td>32.800</td>\n",
       "      <td>0.0</td>\n",
       "      <td>yes</td>\n",
       "      <td>77277.98848</td>\n",
       "      <td>40.0</td>\n",
       "      <td>1.480346e+08</td>\n",
       "      <td>2.0</td>\n",
       "      <td>2.780642e+09</td>\n",
       "      <td>southwest</td>\n",
       "      <td>52590.82939</td>\n",
       "    </tr>\n",
       "    <tr>\n",
       "      <th>1333</th>\n",
       "      <td>33.0</td>\n",
       "      <td>female</td>\n",
       "      <td>35.530</td>\n",
       "      <td>0.0</td>\n",
       "      <td>yes</td>\n",
       "      <td>63142.25346</td>\n",
       "      <td>32.0</td>\n",
       "      <td>1.703805e+08</td>\n",
       "      <td>2.0</td>\n",
       "      <td>3.101107e+09</td>\n",
       "      <td>northwest</td>\n",
       "      <td>55135.40209</td>\n",
       "    </tr>\n",
       "    <tr>\n",
       "      <th>1334</th>\n",
       "      <td>31.0</td>\n",
       "      <td>female</td>\n",
       "      <td>38.095</td>\n",
       "      <td>1.0</td>\n",
       "      <td>yes</td>\n",
       "      <td>43419.95227</td>\n",
       "      <td>31.0</td>\n",
       "      <td>2.015152e+08</td>\n",
       "      <td>2.0</td>\n",
       "      <td>3.484216e+09</td>\n",
       "      <td>northeast</td>\n",
       "      <td>58571.07448</td>\n",
       "    </tr>\n",
       "    <tr>\n",
       "      <th>1335</th>\n",
       "      <td>52.0</td>\n",
       "      <td>male</td>\n",
       "      <td>34.485</td>\n",
       "      <td>3.0</td>\n",
       "      <td>yes</td>\n",
       "      <td>52458.92353</td>\n",
       "      <td>25.0</td>\n",
       "      <td>2.236450e+08</td>\n",
       "      <td>2.0</td>\n",
       "      <td>3.640807e+09</td>\n",
       "      <td>northwest</td>\n",
       "      <td>60021.39897</td>\n",
       "    </tr>\n",
       "    <tr>\n",
       "      <th>1336</th>\n",
       "      <td>45.0</td>\n",
       "      <td>male</td>\n",
       "      <td>30.360</td>\n",
       "      <td>0.0</td>\n",
       "      <td>yes</td>\n",
       "      <td>69927.51664</td>\n",
       "      <td>34.0</td>\n",
       "      <td>2.528924e+08</td>\n",
       "      <td>3.0</td>\n",
       "      <td>4.006359e+09</td>\n",
       "      <td>southeast</td>\n",
       "      <td>62592.87309</td>\n",
       "    </tr>\n",
       "  </tbody>\n",
       "</table>\n",
       "<p>1329 rows × 12 columns</p>\n",
       "</div>"
      ],
      "text/plain": [
       "       age     sex     bmi  children smoker  Claim_Amount  past_consultations  \\\n",
       "0     18.0    male  23.210       0.0     no   29087.54313                17.0   \n",
       "1     18.0    male  30.140       0.0     no   39053.67437                 7.0   \n",
       "2     18.0    male  33.330       0.0     no   39023.62759                19.0   \n",
       "3     18.0    male  33.660       0.0     no   28185.39332                11.0   \n",
       "4     18.0    male  34.100       0.0     no   14697.85941                16.0   \n",
       "...    ...     ...     ...       ...    ...           ...                 ...   \n",
       "1332  60.0    male  32.800       0.0    yes   77277.98848                40.0   \n",
       "1333  33.0  female  35.530       0.0    yes   63142.25346                32.0   \n",
       "1334  31.0  female  38.095       1.0    yes   43419.95227                31.0   \n",
       "1335  52.0    male  34.485       3.0    yes   52458.92353                25.0   \n",
       "1336  45.0    male  30.360       0.0    yes   69927.51664                34.0   \n",
       "\n",
       "      Hospital_expenditure  NUmber_of_past_hospitalizations  Anual_Salary  \\\n",
       "0             4.720921e+06                              0.0  5.578497e+07   \n",
       "1             4.329832e+06                              0.0  1.370089e+07   \n",
       "2             6.884861e+06                              0.0  7.352311e+07   \n",
       "3             4.274774e+06                              0.0  7.581968e+07   \n",
       "4             3.787294e+06                              0.0  2.301232e+07   \n",
       "...                    ...                              ...           ...   \n",
       "1332          1.480346e+08                              2.0  2.780642e+09   \n",
       "1333          1.703805e+08                              2.0  3.101107e+09   \n",
       "1334          2.015152e+08                              2.0  3.484216e+09   \n",
       "1335          2.236450e+08                              2.0  3.640807e+09   \n",
       "1336          2.528924e+08                              3.0  4.006359e+09   \n",
       "\n",
       "         region      charges  \n",
       "0     southeast   1121.87390  \n",
       "1     southeast   1131.50660  \n",
       "2     southeast   1135.94070  \n",
       "3     southeast   1136.39940  \n",
       "4     southeast   1137.01100  \n",
       "...         ...          ...  \n",
       "1332  southwest  52590.82939  \n",
       "1333  northwest  55135.40209  \n",
       "1334  northeast  58571.07448  \n",
       "1335  northwest  60021.39897  \n",
       "1336  southeast  62592.87309  \n",
       "\n",
       "[1329 rows x 12 columns]"
      ]
     },
     "execution_count": 58,
     "metadata": {},
     "output_type": "execute_result"
    }
   ],
   "source": [
    "insurance"
   ]
  },
  {
   "cell_type": "code",
   "execution_count": 61,
   "id": "abc600bf",
   "metadata": {},
   "outputs": [
    {
     "data": {
      "text/html": [
       "<div>\n",
       "<style scoped>\n",
       "    .dataframe tbody tr th:only-of-type {\n",
       "        vertical-align: middle;\n",
       "    }\n",
       "\n",
       "    .dataframe tbody tr th {\n",
       "        vertical-align: top;\n",
       "    }\n",
       "\n",
       "    .dataframe thead th {\n",
       "        text-align: right;\n",
       "    }\n",
       "</style>\n",
       "<table border=\"1\" class=\"dataframe\">\n",
       "  <thead>\n",
       "    <tr style=\"text-align: right;\">\n",
       "      <th></th>\n",
       "      <th>Column names</th>\n",
       "      <th>VIF values</th>\n",
       "    </tr>\n",
       "  </thead>\n",
       "  <tbody>\n",
       "    <tr>\n",
       "      <th>0</th>\n",
       "      <td>age</td>\n",
       "      <td>10.169023</td>\n",
       "    </tr>\n",
       "    <tr>\n",
       "      <th>1</th>\n",
       "      <td>bmi</td>\n",
       "      <td>11.968548</td>\n",
       "    </tr>\n",
       "    <tr>\n",
       "      <th>2</th>\n",
       "      <td>children</td>\n",
       "      <td>1.933161</td>\n",
       "    </tr>\n",
       "    <tr>\n",
       "      <th>3</th>\n",
       "      <td>Claim_Amount</td>\n",
       "      <td>6.368405</td>\n",
       "    </tr>\n",
       "    <tr>\n",
       "      <th>4</th>\n",
       "      <td>past_consultations</td>\n",
       "      <td>7.534765</td>\n",
       "    </tr>\n",
       "    <tr>\n",
       "      <th>5</th>\n",
       "      <td>Hospital_expenditure</td>\n",
       "      <td>18.962583</td>\n",
       "    </tr>\n",
       "    <tr>\n",
       "      <th>6</th>\n",
       "      <td>NUmber_of_past_hospitalizations</td>\n",
       "      <td>13.836393</td>\n",
       "    </tr>\n",
       "    <tr>\n",
       "      <th>7</th>\n",
       "      <td>Anual_Salary</td>\n",
       "      <td>25.269708</td>\n",
       "    </tr>\n",
       "  </tbody>\n",
       "</table>\n",
       "</div>"
      ],
      "text/plain": [
       "                      Column names  VIF values\n",
       "0                              age   10.169023\n",
       "1                              bmi   11.968548\n",
       "2                         children    1.933161\n",
       "3                     Claim_Amount    6.368405\n",
       "4               past_consultations    7.534765\n",
       "5             Hospital_expenditure   18.962583\n",
       "6  NUmber_of_past_hospitalizations   13.836393\n",
       "7                     Anual_Salary   25.269708"
      ]
     },
     "execution_count": 61,
     "metadata": {},
     "output_type": "execute_result"
    }
   ],
   "source": [
    "col_list=[]\n",
    "for col in insurance.columns:\n",
    "    if insurance[col].dtype!=\"object\" and col!=\"charges\":\n",
    "        col_list.append(col)\n",
    "X=insurance[col_list]\n",
    "vif_data=pd.DataFrame()\n",
    "vif_data[\"Column names\"]=X.columns\n",
    "\n",
    "vif_data[\"VIF values\"]=[variance_inflation_factor(X.values,i) for i in range(len(X.columns))]\n",
    "vif_data"
   ]
  },
  {
   "cell_type": "code",
   "execution_count": null,
   "id": "31860101",
   "metadata": {},
   "outputs": [],
   "source": []
  },
  {
   "cell_type": "code",
   "execution_count": null,
   "id": "bff69b83",
   "metadata": {},
   "outputs": [],
   "source": []
  },
  {
   "cell_type": "code",
   "execution_count": null,
   "id": "47f504b0",
   "metadata": {},
   "outputs": [],
   "source": []
  },
  {
   "cell_type": "code",
   "execution_count": null,
   "id": "c2832357",
   "metadata": {},
   "outputs": [],
   "source": []
  },
  {
   "cell_type": "code",
   "execution_count": 59,
   "id": "fcc0d006",
   "metadata": {},
   "outputs": [
    {
     "ename": "NameError",
     "evalue": "name 'x' is not defined",
     "output_type": "error",
     "traceback": [
      "\u001b[1;31m---------------------------------------------------------------------------\u001b[0m",
      "\u001b[1;31mNameError\u001b[0m                                 Traceback (most recent call last)",
      "Input \u001b[1;32mIn [59]\u001b[0m, in \u001b[0;36m<cell line: 3>\u001b[1;34m()\u001b[0m\n\u001b[0;32m      1\u001b[0m \u001b[38;5;66;03m#train Testing\u001b[39;00m\n\u001b[0;32m      2\u001b[0m \u001b[38;5;28;01mfrom\u001b[39;00m \u001b[38;5;21;01msklearn\u001b[39;00m\u001b[38;5;21;01m.\u001b[39;00m\u001b[38;5;21;01mmodel_selection\u001b[39;00m \u001b[38;5;28;01mimport\u001b[39;00m train_test_split\n\u001b[1;32m----> 3\u001b[0m x_train,x_test,y_train,y_test\u001b[38;5;241m=\u001b[39mtrain_test_split(\u001b[43mx\u001b[49m,y,random_state\u001b[38;5;241m=\u001b[39m\u001b[38;5;241m56\u001b[39m,test_size\u001b[38;5;241m=\u001b[39m\u001b[38;5;241m0.3\u001b[39m)\n",
      "\u001b[1;31mNameError\u001b[0m: name 'x' is not defined"
     ]
    }
   ],
   "source": [
    "#train Testing\n",
    "from sklearn.model_selection import train_test_split\n",
    "x_train,x_test,y_train,y_test=train_test_split(x,y,random_state=56,test_size=0.3)"
   ]
  },
  {
   "cell_type": "code",
   "execution_count": null,
   "id": "9323f683",
   "metadata": {},
   "outputs": [],
   "source": [
    "x_train"
   ]
  },
  {
   "cell_type": "code",
   "execution_count": null,
   "id": "e5b1d993",
   "metadata": {},
   "outputs": [],
   "source": [
    "y_train"
   ]
  },
  {
   "cell_type": "code",
   "execution_count": null,
   "id": "9f95af00",
   "metadata": {},
   "outputs": [],
   "source": [
    "x_test"
   ]
  },
  {
   "cell_type": "code",
   "execution_count": null,
   "id": "30c1bce1",
   "metadata": {},
   "outputs": [],
   "source": [
    "y_test"
   ]
  },
  {
   "cell_type": "code",
   "execution_count": null,
   "id": "d0db306c",
   "metadata": {},
   "outputs": [],
   "source": [
    "#Building a model( linear regression model)\n",
    "\n",
    "from sklearn.linear_model import LinearRegression"
   ]
  },
  {
   "cell_type": "code",
   "execution_count": null,
   "id": "6be31ecf",
   "metadata": {},
   "outputs": [],
   "source": [
    "li_model=LinearRegression()"
   ]
  },
  {
   "cell_type": "code",
   "execution_count": null,
   "id": "ecb77507",
   "metadata": {},
   "outputs": [],
   "source": [
    "li_model"
   ]
  },
  {
   "cell_type": "code",
   "execution_count": null,
   "id": "80008f23",
   "metadata": {},
   "outputs": [],
   "source": [
    "#Now we have to train  or  fitting or training data\n",
    "\n",
    "li_model.fit(x_train,y_train)\n"
   ]
  },
  {
   "cell_type": "code",
   "execution_count": null,
   "id": "49b0303b",
   "metadata": {},
   "outputs": [],
   "source": [
    "#Prediction \n",
    "\n",
    "\n",
    "pred_y=li_model.predict(x_test)"
   ]
  },
  {
   "cell_type": "code",
   "execution_count": null,
   "id": "eb5e8766",
   "metadata": {},
   "outputs": [],
   "source": [
    "pred_y"
   ]
  },
  {
   "cell_type": "code",
   "execution_count": null,
   "id": "626174f3",
   "metadata": {},
   "outputs": [],
   "source": [
    "y_test"
   ]
  },
  {
   "cell_type": "code",
   "execution_count": null,
   "id": "3c68f1f6",
   "metadata": {},
   "outputs": [],
   "source": [
    "#Check  Accuracy of model\n",
    "\n",
    "from sklearn.metrics import mean_absolute_percentage_error"
   ]
  },
  {
   "cell_type": "code",
   "execution_count": null,
   "id": "d70708ef",
   "metadata": {},
   "outputs": [],
   "source": [
    "mape=mean_absolute_percentage_error(pred_y,y_test)"
   ]
  },
  {
   "cell_type": "code",
   "execution_count": null,
   "id": "2aa09fdf",
   "metadata": {},
   "outputs": [],
   "source": [
    "print(mape)"
   ]
  },
  {
   "cell_type": "code",
   "execution_count": null,
   "id": "d6b947e9",
   "metadata": {},
   "outputs": [],
   "source": [
    "#jo aayega 100- mape  is the accuracy of the "
   ]
  },
  {
   "cell_type": "code",
   "execution_count": null,
   "id": "c12efad8",
   "metadata": {},
   "outputs": [],
   "source": []
  },
  {
   "cell_type": "code",
   "execution_count": null,
   "id": "bbc1d218",
   "metadata": {},
   "outputs": [],
   "source": []
  },
  {
   "cell_type": "code",
   "execution_count": null,
   "id": "ace57d27",
   "metadata": {},
   "outputs": [],
   "source": []
  },
  {
   "cell_type": "code",
   "execution_count": null,
   "id": "a33716f7",
   "metadata": {},
   "outputs": [],
   "source": []
  },
  {
   "cell_type": "code",
   "execution_count": null,
   "id": "7782ca4a",
   "metadata": {},
   "outputs": [],
   "source": []
  }
 ],
 "metadata": {
  "kernelspec": {
   "display_name": "Python 3 (ipykernel)",
   "language": "python",
   "name": "python3"
  },
  "language_info": {
   "codemirror_mode": {
    "name": "ipython",
    "version": 3
   },
   "file_extension": ".py",
   "mimetype": "text/x-python",
   "name": "python",
   "nbconvert_exporter": "python",
   "pygments_lexer": "ipython3",
   "version": "3.9.12"
  }
 },
 "nbformat": 4,
 "nbformat_minor": 5
}
